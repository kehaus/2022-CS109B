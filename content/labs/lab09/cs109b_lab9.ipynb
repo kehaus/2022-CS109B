{
  "nbformat": 4,
  "nbformat_minor": 0,
  "metadata": {
    "colab": {
      "name": "cs109b_lab9.ipynb",
      "provenance": [],
      "collapsed_sections": [],
      "toc_visible": true,
      "machine_shape": "hm"
    },
    "kernelspec": {
      "name": "python3",
      "display_name": "Python 3"
    },
    "language_info": {
      "name": "python"
    },
    "accelerator": "GPU"
  },
  "cells": [
    {
      "cell_type": "markdown",
      "source": [
        "# <img style=\"float: left; padding-right: 10px; width: 45px\" src=\"https://raw.githubusercontent.com/Harvard-IACS/2018-CS109A/master/content/styles/iacs.png\"> CS109B Introduction to Data Science\n",
        "\n",
        "## Lab 9: NLP, RNNs, LSTMs, ELMo \n",
        "\n",
        "**Harvard University**<br/>\n",
        "**Spring 2022**<br/>\n",
        "**Instructors**: Mark Glickman & Pavlos Protopapas<br/>\n",
        "**Authors**: Shivas Jayaram\n",
        "<br/>"
      ],
      "metadata": {
        "id": "RTwjswBgwh9C"
      }
    },
    {
      "cell_type": "markdown",
      "source": [
        "## Learning Objectives\n",
        "\n",
        "By the end of this Lab, you should understand how to:\n",
        "* Perform **preprocessing** operation on text\n",
        "* **Tokenization** for Deep Learning models\n",
        "* Build and compare various **RNN** Architectures\n",
        "* Build **LSTMs** with Residual connections\n",
        "* **ELMo** from sctrach using Highway Networks\n",
        "* Setting up **TensorBoard** in Colab\n",
        "\n",
        "---\n",
        "You will also learn the following:\n",
        "<p><strong><font color=\"green\">🔑 Keys to DNN Kingdom 👑 : \n",
        "<ul>\n",
        "<li>🔑 TF Data</li>\n",
        "<li>🔑 Model using functional API</li>\n",
        "<li>🔑 Custom Layer</li>\n",
        "</ul>\n",
        "</font></strong></p>\n",
        "\n",
        "---\n"
      ],
      "metadata": {
        "id": "qjXBHdlVxdwT"
      }
    },
    {
      "cell_type": "markdown",
      "source": [
        "<a id=\"contents\"></a>\n",
        "\n",
        "## Notebook Contents\n",
        "\n",
        "- [**Preprocessing Text Data Recap**](#prep)\n",
        "    - [Review NLP Terminologies](#prep)\n",
        "    - [Text processing using NLTK](#prep) \n",
        "    - [Stop words, Word Stemmer, Lemmatization](#prep)\n",
        "    - [Tokenization for Deep Learning](#prep)\n",
        "- [**Recurrent Neural Networks**](#rnn)   \n",
        "    - [Creating various RNN model architectures](#rnn)\n",
        "- [**LSTMs**](#lstms) \n",
        "  - [Creating LSTMs with Residual connections](#lstms)\n",
        "- [**ELMo and Highway Networks**](#elmo)      \n",
        "- [**Using TensorBaord in Colab**](#tensorboard) "
      ],
      "metadata": {
        "id": "Zor_Wr8Vxkfz"
      }
    },
    {
      "cell_type": "markdown",
      "source": [
        "## **Setup Notebook**"
      ],
      "metadata": {
        "id": "RAM_-TzxyEm8"
      }
    },
    {
      "cell_type": "markdown",
      "source": [
        "**Imports**"
      ],
      "metadata": {
        "id": "kjgnOSl9yP_4"
      }
    },
    {
      "cell_type": "code",
      "execution_count": 2,
      "metadata": {
        "id": "MBh7Da09vHt9"
      },
      "outputs": [],
      "source": [
        "# Import necessary libraries\n",
        "import os\n",
        "import time\n",
        "import datetime\n",
        "import requests\n",
        "import numpy as np\n",
        "import pandas as pd\n",
        "import matplotlib.pyplot as plt\n",
        "import matplotlib.cm as cm\n",
        "%matplotlib inline\n",
        "\n",
        "# Tensorflow\n",
        "import tensorflow as tf\n",
        "from tensorflow.python.keras import backend as K\n",
        "\n",
        "# NLTK\n",
        "import nltk\n",
        "from nltk.tokenize import word_tokenize, sent_tokenize\n",
        "from nltk.corpus import stopwords \n",
        "from nltk.tokenize import RegexpTokenizer\n",
        "from nltk.tokenize import SpaceTokenizer\n",
        "from nltk.stem.porter import PorterStemmer\n",
        "from nltk.stem import WordNetLemmatizer\n",
        "\n",
        "# sklearn\n",
        "from sklearn.feature_extraction.text import CountVectorizer, TfidfVectorizer\n",
        "from sklearn.model_selection import train_test_split\n",
        "from sklearn.metrics import classification_report\n",
        "from sklearn.preprocessing import LabelEncoder\n",
        "from sklearn import manifold"
      ]
    },
    {
      "cell_type": "code",
      "source": [
        "# download nltk's punkt sentence tokenizer\n",
        "nltk.download('punkt')\n",
        "# download nltk's stop words\n",
        "nltk.download('stopwords')\n",
        "nltk.download('wordnet')"
      ],
      "metadata": {
        "id": "D9LeKyyI0mby",
        "colab": {
          "base_uri": "https://localhost:8080/"
        },
        "outputId": "04fcc567-11f9-4362-b5ec-b43f22ebddfe"
      },
      "execution_count": 3,
      "outputs": [
        {
          "output_type": "stream",
          "name": "stdout",
          "text": [
            "[nltk_data] Downloading package punkt to /root/nltk_data...\n",
            "[nltk_data]   Unzipping tokenizers/punkt.zip.\n",
            "[nltk_data] Downloading package stopwords to /root/nltk_data...\n",
            "[nltk_data]   Unzipping corpora/stopwords.zip.\n",
            "[nltk_data] Downloading package wordnet to /root/nltk_data...\n",
            "[nltk_data]   Unzipping corpora/wordnet.zip.\n"
          ]
        },
        {
          "output_type": "execute_result",
          "data": {
            "text/plain": [
              "True"
            ]
          },
          "metadata": {},
          "execution_count": 3
        }
      ]
    },
    {
      "cell_type": "markdown",
      "source": [
        "**Verify Setup**"
      ],
      "metadata": {
        "id": "3WYZljtMyXnC"
      }
    },
    {
      "cell_type": "markdown",
      "source": [
        "It is a good practice to verify what version of TensorFlow & Keras you are using. Also verify if GPU is enabled and what GPU you have. Run the following cells to check the version of TensorFlow\n",
        "\n",
        "References:\n",
        "- [Eager Execution](https://www.tensorflow.org/guide/eager)\n",
        "- [Data Performance](https://www.tensorflow.org/guide/data_performance)"
      ],
      "metadata": {
        "id": "17RkYjSxyaae"
      }
    },
    {
      "cell_type": "code",
      "source": [
        "# Enable/Disable Eager Execution\n",
        "# Reference: https://www.tensorflow.org/guide/eager\n",
        "# TensorFlow's eager execution is an imperative programming environment that evaluates operations immediately, \n",
        "# without building graphs\n",
        "\n",
        "#tf.compat.v1.disable_eager_execution()\n",
        "#tf.compat.v1.enable_eager_execution()\n",
        "\n",
        "print(\"tensorflow version\", tf.__version__)\n",
        "print(\"keras version\", tf.keras.__version__)\n",
        "print(\"Eager Execution Enabled:\", tf.executing_eagerly())\n",
        "\n",
        "# Get the number of replicas \n",
        "strategy = tf.distribute.MirroredStrategy()\n",
        "print(\"Number of replicas:\", strategy.num_replicas_in_sync)\n",
        "\n",
        "devices = tf.config.experimental.get_visible_devices()\n",
        "print(\"Devices:\", devices)\n",
        "print(tf.config.experimental.list_logical_devices('GPU'))\n",
        "\n",
        "print(\"GPU Available: \", tf.config.list_physical_devices('GPU'))\n",
        "print(\"All Physical Devices\", tf.config.list_physical_devices())\n",
        "\n",
        "# Better performance with the tf.data API\n",
        "# Reference: https://www.tensorflow.org/guide/data_performance\n",
        "AUTOTUNE = tf.data.experimental.AUTOTUNE"
      ],
      "metadata": {
        "id": "6PBpsXEayaxu",
        "colab": {
          "base_uri": "https://localhost:8080/"
        },
        "outputId": "5f00ebb3-e158-4a84-c9fc-4f48013ec2d2"
      },
      "execution_count": 4,
      "outputs": [
        {
          "output_type": "stream",
          "name": "stdout",
          "text": [
            "tensorflow version 2.8.0\n",
            "keras version 2.8.0\n",
            "Eager Execution Enabled: True\n",
            "INFO:tensorflow:Using MirroredStrategy with devices ('/job:localhost/replica:0/task:0/device:GPU:0',)\n",
            "Number of replicas: 1\n",
            "Devices: [PhysicalDevice(name='/physical_device:CPU:0', device_type='CPU'), PhysicalDevice(name='/physical_device:GPU:0', device_type='GPU')]\n",
            "[LogicalDevice(name='/device:GPU:0', device_type='GPU')]\n",
            "GPU Available:  [PhysicalDevice(name='/physical_device:GPU:0', device_type='GPU')]\n",
            "All Physical Devices [PhysicalDevice(name='/physical_device:CPU:0', device_type='CPU'), PhysicalDevice(name='/physical_device:GPU:0', device_type='GPU')]\n"
          ]
        }
      ]
    },
    {
      "cell_type": "markdown",
      "source": [
        "Check what GPU you have"
      ],
      "metadata": {
        "id": "JSTTuvGGyfQ4"
      }
    },
    {
      "cell_type": "code",
      "source": [
        "!nvidia-smi"
      ],
      "metadata": {
        "id": "aTi15newyhfU",
        "colab": {
          "base_uri": "https://localhost:8080/"
        },
        "outputId": "7b183429-848f-4832-b664-5cc09600caa4"
      },
      "execution_count": 5,
      "outputs": [
        {
          "output_type": "stream",
          "name": "stdout",
          "text": [
            "Mon Apr 11 20:19:24 2022       \n",
            "+-----------------------------------------------------------------------------+\n",
            "| NVIDIA-SMI 460.32.03    Driver Version: 460.32.03    CUDA Version: 11.2     |\n",
            "|-------------------------------+----------------------+----------------------+\n",
            "| GPU  Name        Persistence-M| Bus-Id        Disp.A | Volatile Uncorr. ECC |\n",
            "| Fan  Temp  Perf  Pwr:Usage/Cap|         Memory-Usage | GPU-Util  Compute M. |\n",
            "|                               |                      |               MIG M. |\n",
            "|===============================+======================+======================|\n",
            "|   0  Tesla K80           Off  | 00000000:00:04.0 Off |                    0 |\n",
            "| N/A   40C    P0    58W / 149W |    147MiB / 11441MiB |      0%      Default |\n",
            "|                               |                      |                  N/A |\n",
            "+-------------------------------+----------------------+----------------------+\n",
            "                                                                               \n",
            "+-----------------------------------------------------------------------------+\n",
            "| Processes:                                                                  |\n",
            "|  GPU   GI   CI        PID   Type   Process name                  GPU Memory |\n",
            "|        ID   ID                                                   Usage      |\n",
            "|=============================================================================|\n",
            "+-----------------------------------------------------------------------------+\n"
          ]
        }
      ]
    },
    {
      "cell_type": "code",
      "source": [
        "# Utils\n",
        "def display_solution(activity):\n",
        "  response = requests.get(activity)\n",
        "  print(response.text)  "
      ],
      "metadata": {
        "id": "85H8bRmxDzLC"
      },
      "execution_count": 6,
      "outputs": []
    },
    {
      "cell_type": "markdown",
      "source": [
        "## **Preprocessing Text Data** <div id='prep'>"
      ],
      "metadata": {
        "id": "SMO036PRhlXz"
      }
    },
    {
      "cell_type": "markdown",
      "source": [
        "#### **Review**"
      ],
      "metadata": {
        "id": "5s7W0TCCjot5"
      }
    },
    {
      "cell_type": "markdown",
      "source": [
        "**Basic Definitions:**\n",
        "- Natural Language Processing (NLP): The use of computers to process linguistic information into structured data and extract useful insights\n",
        "- Document: A single unit of observation used in NLP, which could be as short as a word or as long as a book\n",
        "- Corpus: A collection of documents from a shared context that are processed and analyzed using NLP\n",
        "\n",
        "**Conceptual:**\n",
        "- Text is structured data, but lacks the simple structure needed for quantitative analysis and ML\n",
        "- Extensive preprocessing and parsing is needed to convert plain text into structured data\n",
        "- How to parse a given document depends upon the specific application and the corpus being used\n",
        "- Once parsed, documents can be analyzed like other quantitative datasets \n",
        "\n",
        "\n",
        "**Common NLP Tools:**\n",
        "- [<font>Natural Language Toolkit</font>](https://www.nltk.org)\n",
        "- [scikit-learn](https://scikit-learn.org)\n",
        "- [CoreNLP](https://stanfordnlp.github.io/CoreNLP/)\n",
        "- [Gensim](https://radimrehurek.com/gensim/)\n",
        "- [spaCy](https://spacy.io/)\n",
        "- [AllenNLP](https://allennlp.org/)\n",
        "- [<font>Transformers</font>](https://huggingface.co/transformers/index.html)\n",
        "\n",
        "**Basic Data Pipeline for NLP:**\n",
        "- <font>Data ingestion from files, scraping, APIs</font>\n",
        "- <font>Converting to lowercase</font>\n",
        "- Treating each punctuation mark as a token (e.g., , . ! ?)\n",
        "- Removing punctuation altogether\n",
        "- <font>Removing stop words (very common words like the, if, to ...)</font>\n",
        "- Word stemming (Stemming removes or stems the last few characters of a word)\n",
        "- Lemmatization (Lemmatization considers the context and converts the word to its meaningful base form)\n",
        "- <font>Parsing text using regular expressions</font>\n",
        "- <font>Tokenizing / Text Vectorization</font>\n",
        "- Creating n-grams\n",
        "- Creating TF-IDF vectors\n",
        "- <font>Creating word embeddings</font>\n",
        "\n",
        "**Modeling Strategies**\n",
        "- <strong>Creating “bag of words” models</strong>\n",
        "- <strong>Creating “sequence 2 sequence” models</strong>"
      ],
      "metadata": {
        "id": "ANn5RwqBjtQf"
      }
    },
    {
      "cell_type": "markdown",
      "source": [
        "#### **Preprocessing using NLTK**"
      ],
      "metadata": {
        "id": "MUyXFonByrNg"
      }
    },
    {
      "cell_type": "markdown",
      "source": [
        "Consider this input text"
      ],
      "metadata": {
        "id": "bwblOF6L0vlP"
      }
    },
    {
      "cell_type": "code",
      "execution_count": 7,
      "metadata": {
        "id": "AMXlvRWmhSZw",
        "colab": {
          "base_uri": "https://localhost:8080/"
        },
        "outputId": "79bb8311-3864-4a66-b7de-f206bfa50ea8"
      },
      "outputs": [
        {
          "output_type": "stream",
          "name": "stdout",
          "text": [
            "Input Text: Advanced Topics in Data Science (CS109b) is the second half of a one-year introduction to data science. \n",
            "Building upon the material in Introduction to Data Science, the course introduces advanced methods for data wrangling, \n",
            "data visualization, statistical modeling, and prediction. Topics include big data, multiple deep learning architectures \n",
            "such as CNNs, RNNs, transformers, language models, autoencoders, and generative models as well as basic \n",
            "Bayesian methods, and unsupervised learning.\n",
            "\n"
          ]
        }
      ],
      "source": [
        "input_text = \"\"\"Advanced Topics in Data Science (CS109b) is the second half of a one-year introduction to data science. \n",
        "Building upon the material in Introduction to Data Science, the course introduces advanced methods for data wrangling, \n",
        "data visualization, statistical modeling, and prediction. Topics include big data, multiple deep learning architectures \n",
        "such as CNNs, RNNs, transformers, language models, autoencoders, and generative models as well as basic \n",
        "Bayesian methods, and unsupervised learning.\n",
        "\"\"\"\n",
        "\n",
        "print(\"Input Text:\",input_text)"
      ]
    },
    {
      "cell_type": "markdown",
      "source": [
        "How do we break this paragraph of text into:\n",
        "- Sentences\n",
        "- Words"
      ],
      "metadata": {
        "id": "Njzgubdg09D5"
      }
    },
    {
      "cell_type": "code",
      "source": [
        "# Get sentences\n",
        "sentences = sent_tokenize(input_text)\n",
        "print(\"Sentences:\")\n",
        "for index, sentence in enumerate(sentences):\n",
        "  print(index,sentence)\n",
        "\n",
        "\n",
        "# Number of sentences\n",
        "print(\"\\n Number of Sentences:\", len(sentences))"
      ],
      "metadata": {
        "id": "4FTm7xBYmk4B",
        "colab": {
          "base_uri": "https://localhost:8080/"
        },
        "outputId": "cc7d99fe-87a6-44b9-b675-5298fb7d9b6d"
      },
      "execution_count": 8,
      "outputs": [
        {
          "output_type": "stream",
          "name": "stdout",
          "text": [
            "Sentences:\n",
            "0 Advanced Topics in Data Science (CS109b) is the second half of a one-year introduction to data science.\n",
            "1 Building upon the material in Introduction to Data Science, the course introduces advanced methods for data wrangling, \n",
            "data visualization, statistical modeling, and prediction.\n",
            "2 Topics include big data, multiple deep learning architectures \n",
            "such as CNNs, RNNs, transformers, language models, autoencoders, and generative models as well as basic \n",
            "Bayesian methods, and unsupervised learning.\n",
            "\n",
            " Number of Sentences: 3\n"
          ]
        }
      ]
    },
    {
      "cell_type": "code",
      "source": [
        "# Get words\n",
        "words = word_tokenize(input_text)\n",
        "print(\"\\nWords:\")\n",
        "print(words)\n",
        "\n",
        "# Number of words\n",
        "print(\"\\n Number of Words:\", len(words))"
      ],
      "metadata": {
        "id": "-Rih3h0j1XHn",
        "colab": {
          "base_uri": "https://localhost:8080/"
        },
        "outputId": "9a4fc85f-2ac6-49e9-9dc2-ef9ca0eb15ba"
      },
      "execution_count": 9,
      "outputs": [
        {
          "output_type": "stream",
          "name": "stdout",
          "text": [
            "\n",
            "Words:\n",
            "['Advanced', 'Topics', 'in', 'Data', 'Science', '(', 'CS109b', ')', 'is', 'the', 'second', 'half', 'of', 'a', 'one-year', 'introduction', 'to', 'data', 'science', '.', 'Building', 'upon', 'the', 'material', 'in', 'Introduction', 'to', 'Data', 'Science', ',', 'the', 'course', 'introduces', 'advanced', 'methods', 'for', 'data', 'wrangling', ',', 'data', 'visualization', ',', 'statistical', 'modeling', ',', 'and', 'prediction', '.', 'Topics', 'include', 'big', 'data', ',', 'multiple', 'deep', 'learning', 'architectures', 'such', 'as', 'CNNs', ',', 'RNNs', ',', 'transformers', ',', 'language', 'models', ',', 'autoencoders', ',', 'and', 'generative', 'models', 'as', 'well', 'as', 'basic', 'Bayesian', 'methods', ',', 'and', 'unsupervised', 'learning', '.']\n",
            "\n",
            " Number of Words: 84\n"
          ]
        }
      ]
    },
    {
      "cell_type": "markdown",
      "source": [
        "Next we will use a Regular expression tokenizer from the NLTK library to remove any punctuation and get only words as tokens"
      ],
      "metadata": {
        "id": "Y9DbYZvr2JvI"
      }
    },
    {
      "cell_type": "code",
      "source": [
        "# Get Word tokenizer from NLTK\n",
        "tokenizer = RegexpTokenizer(r'\\w+')\n",
        "\n",
        "# Word Tokenize text\n",
        "words = tokenizer.tokenize(input_text)\n",
        "print(\"Words:\")\n",
        "print(words)\n",
        "\n",
        "# Number of words\n",
        "print(\"\\n Number of Words:\", len(words))"
      ],
      "metadata": {
        "id": "1iM9hF-mz_LH",
        "colab": {
          "base_uri": "https://localhost:8080/"
        },
        "outputId": "c569e278-23cc-4f33-bac1-5fccd007fda4"
      },
      "execution_count": 11,
      "outputs": [
        {
          "output_type": "stream",
          "name": "stdout",
          "text": [
            "Words:\n",
            "['Advanced', 'Topics', 'in', 'Data', 'Science', 'CS109b', 'is', 'the', 'second', 'half', 'of', 'a', 'one', 'year', 'introduction', 'to', 'data', 'science', 'Building', 'upon', 'the', 'material', 'in', 'Introduction', 'to', 'Data', 'Science', 'the', 'course', 'introduces', 'advanced', 'methods', 'for', 'data', 'wrangling', 'data', 'visualization', 'statistical', 'modeling', 'and', 'prediction', 'Topics', 'include', 'big', 'data', 'multiple', 'deep', 'learning', 'architectures', 'such', 'as', 'CNNs', 'RNNs', 'transformers', 'language', 'models', 'autoencoders', 'and', 'generative', 'models', 'as', 'well', 'as', 'basic', 'Bayesian', 'methods', 'and', 'unsupervised', 'learning']\n",
            "\n",
            " Number of Words: 69\n"
          ]
        }
      ]
    },
    {
      "cell_type": "markdown",
      "source": [
        "Why are the number of tokens in this method less than before?"
      ],
      "metadata": {
        "id": "hacwwkna2iU4"
      }
    },
    {
      "cell_type": "markdown",
      "source": [
        "### Stop words\n",
        "\n",
        "Words occuring frequently e.g: is, the etc"
      ],
      "metadata": {
        "id": "Xe4dAloaCjgN"
      }
    },
    {
      "cell_type": "code",
      "source": [
        "words"
      ],
      "metadata": {
        "id": "HHShfxpUUcfJ",
        "colab": {
          "base_uri": "https://localhost:8080/"
        },
        "outputId": "8a71f525-c8ee-4d68-ca1d-aded23df642a"
      },
      "execution_count": 12,
      "outputs": [
        {
          "output_type": "execute_result",
          "data": {
            "text/plain": [
              "['Advanced',\n",
              " 'Topics',\n",
              " 'in',\n",
              " 'Data',\n",
              " 'Science',\n",
              " 'CS109b',\n",
              " 'is',\n",
              " 'the',\n",
              " 'second',\n",
              " 'half',\n",
              " 'of',\n",
              " 'a',\n",
              " 'one',\n",
              " 'year',\n",
              " 'introduction',\n",
              " 'to',\n",
              " 'data',\n",
              " 'science',\n",
              " 'Building',\n",
              " 'upon',\n",
              " 'the',\n",
              " 'material',\n",
              " 'in',\n",
              " 'Introduction',\n",
              " 'to',\n",
              " 'Data',\n",
              " 'Science',\n",
              " 'the',\n",
              " 'course',\n",
              " 'introduces',\n",
              " 'advanced',\n",
              " 'methods',\n",
              " 'for',\n",
              " 'data',\n",
              " 'wrangling',\n",
              " 'data',\n",
              " 'visualization',\n",
              " 'statistical',\n",
              " 'modeling',\n",
              " 'and',\n",
              " 'prediction',\n",
              " 'Topics',\n",
              " 'include',\n",
              " 'big',\n",
              " 'data',\n",
              " 'multiple',\n",
              " 'deep',\n",
              " 'learning',\n",
              " 'architectures',\n",
              " 'such',\n",
              " 'as',\n",
              " 'CNNs',\n",
              " 'RNNs',\n",
              " 'transformers',\n",
              " 'language',\n",
              " 'models',\n",
              " 'autoencoders',\n",
              " 'and',\n",
              " 'generative',\n",
              " 'models',\n",
              " 'as',\n",
              " 'well',\n",
              " 'as',\n",
              " 'basic',\n",
              " 'Bayesian',\n",
              " 'methods',\n",
              " 'and',\n",
              " 'unsupervised',\n",
              " 'learning']"
            ]
          },
          "metadata": {},
          "execution_count": 12
        }
      ]
    },
    {
      "cell_type": "code",
      "source": [
        "stops = set(stopwords.words(\"english\")) #stops\n",
        "\n",
        "print(\"Stop words from NLTK:\\n\",stops) #Already defined in NLTK\n",
        "print('%d stop words' % len(stops))\n",
        "stops = stops.union(['I','using'])\n",
        "\n",
        "# Find unique words that are not in the stop words\n",
        "words = set([w for w in words if not w in stops])\n",
        "print(\"Processed words:\\n\",words)\n",
        "print('%d words' % len(words))"
      ],
      "metadata": {
        "id": "gzl7kL98Cj9i",
        "colab": {
          "base_uri": "https://localhost:8080/"
        },
        "outputId": "0f3ac222-12d7-416f-a2f0-1a8b38d6c6b9"
      },
      "execution_count": 13,
      "outputs": [
        {
          "output_type": "stream",
          "name": "stdout",
          "text": [
            "Stop words from NLTK:\n",
            " {'the', 'ma', 'ours', 'hers', 'mightn', \"you'd\", \"mightn't\", 'wouldn', 'has', 'him', 'had', 'you', 't', 'both', 'here', \"wasn't\", 'its', 'have', 'all', 'about', 'm', \"that'll\", 'being', 'be', 'we', 'why', 'off', 'herself', 'and', 'them', 'further', 'there', 'won', 'nor', 'only', 'they', \"aren't\", 'through', 'until', 'ourselves', 'but', 'once', 'this', 'or', 'no', 'if', \"doesn't\", 'who', 'y', \"you're\", 'isn', \"mustn't\", 'doesn', \"didn't\", 'yours', 'so', 'me', 'his', 'd', 'she', 'now', 'an', 'how', 'too', 'themselves', 'mustn', 'again', 'it', 'same', 'down', 'whom', \"hasn't\", 'hadn', 'for', 'at', 're', 'each', 'been', \"hadn't\", 'shouldn', 'haven', 'where', \"weren't\", \"haven't\", 'own', 'can', 'should', 'any', \"shouldn't\", 'to', 'will', 'very', 'is', 'from', 'were', 'a', 'above', 'your', 'than', 'over', \"couldn't\", 'i', 'wasn', 'was', 'am', \"wouldn't\", 'myself', \"should've\", \"you've\", 'on', 'their', 'some', 'what', 'does', 'do', 'her', 'are', \"you'll\", 'as', 'needn', 'he', 'that', 'below', 'those', 'hasn', 'doing', 'll', 'weren', 'yourself', 'himself', 'which', 'few', \"needn't\", 'up', 'itself', 'theirs', 'after', 'by', 'these', 'o', 'under', 'ain', \"don't\", \"isn't\", 'not', 'don', 'because', 'out', 'with', 'of', 's', 'my', 'when', 'couldn', \"it's\", \"shan't\", 'into', 'in', 'aren', 've', 'our', 'did', 'yourselves', 'against', 'more', 'other', 'shan', 'then', 'just', 'having', 'most', \"won't\", 'didn', 'such', 'between', 'during', 'before', \"she's\", 'while'}\n",
            "179 stop words\n",
            "Processed words:\n",
            " {'visualization', 'one', 'introduction', 'Introduction', 'include', 'unsupervised', 'material', 'transformers', 'generative', 'Advanced', 'CNNs', 'wrangling', 'deep', 'introduces', 'prediction', 'science', 'statistical', 'advanced', 'big', 'CS109b', 'autoencoders', 'Science', 'Bayesian', 'language', 'course', 'basic', 'well', 'half', 'Building', 'methods', 'upon', 'Data', 'data', 'RNNs', 'year', 'second', 'models', 'Topics', 'learning', 'multiple', 'architectures', 'modeling'}\n",
            "42 words\n"
          ]
        }
      ]
    },
    {
      "cell_type": "markdown",
      "source": [
        "After removing stop words we hav even smaller vocabulary"
      ],
      "metadata": {
        "id": "Caseopvu3POW"
      }
    },
    {
      "cell_type": "markdown",
      "source": [
        "### Word Stemmer\n",
        "\n",
        "Another useful technique is word stemming, which is the process of transforming a word into its root form that allows us to map related words to the same stem. Stemming removes word endings to group together words with the same stem. For example, the words \"finding\" and \"finds\" would all be reduced to \"find\"."
      ],
      "metadata": {
        "id": "kl5kYMQZCy-M"
      }
    },
    {
      "cell_type": "code",
      "source": [
        "# Using Porter Stemmer\n",
        "porter = PorterStemmer()\n",
        "def tokenizer_porter(text):\n",
        "     return [porter.stem(word) for word in text.split()]\n",
        "tokenizer_porter('runners like running and thus they run finding find finds finder')"
      ],
      "metadata": {
        "id": "JCjP-naSCzds",
        "colab": {
          "base_uri": "https://localhost:8080/"
        },
        "outputId": "c218834f-b248-4d54-842d-ff237220f999"
      },
      "execution_count": 14,
      "outputs": [
        {
          "output_type": "execute_result",
          "data": {
            "text/plain": [
              "['runner',\n",
              " 'like',\n",
              " 'run',\n",
              " 'and',\n",
              " 'thu',\n",
              " 'they',\n",
              " 'run',\n",
              " 'find',\n",
              " 'find',\n",
              " 'find',\n",
              " 'finder']"
            ]
          },
          "metadata": {},
          "execution_count": 14
        }
      ]
    },
    {
      "cell_type": "markdown",
      "source": [
        "### Word Lemmatization\n",
        "While stemming just uses the character strings to find the common base, lemmatization looks up the part of speech of a word and converts it to a noun form. "
      ],
      "metadata": {
        "id": "2hokVV0WDIFr"
      }
    },
    {
      "cell_type": "code",
      "source": [
        "lemmatizer = nltk.stem.WordNetLemmatizer()\n",
        "def tokenizer_lemmatize(text):\n",
        "     return [lemmatizer.lemmatize(word) for word in text.split()]\n",
        "tokenizer_lemmatize('runners like running and thus they run runs finding find finds finder')"
      ],
      "metadata": {
        "id": "OKiCNwj-DIoR",
        "colab": {
          "base_uri": "https://localhost:8080/"
        },
        "outputId": "7ced16b1-097a-49b2-cf43-26d0cee4d88e"
      },
      "execution_count": 15,
      "outputs": [
        {
          "output_type": "execute_result",
          "data": {
            "text/plain": [
              "['runner',\n",
              " 'like',\n",
              " 'running',\n",
              " 'and',\n",
              " 'thus',\n",
              " 'they',\n",
              " 'run',\n",
              " 'run',\n",
              " 'finding',\n",
              " 'find',\n",
              " 'find',\n",
              " 'finder']"
            ]
          },
          "metadata": {},
          "execution_count": 15
        }
      ]
    },
    {
      "cell_type": "markdown",
      "source": [
        "## **Tokenization for Deep Learning**"
      ],
      "metadata": {
        "id": "UmFiLdHJ3fFZ"
      }
    },
    {
      "cell_type": "markdown",
      "source": [
        "Lets review the text preprocessing steps and how we can build our data pipelines for Deep Learning models\n",
        "\n",
        "<img src=\"https://storage.googleapis.com/public_colab_images/nlp/tokenization_for_dl.png\" />\n"
      ],
      "metadata": {
        "id": "KB2Jse_CzTpk"
      }
    },
    {
      "cell_type": "markdown",
      "source": [
        "#### **tf.keras: Tokenizer**"
      ],
      "metadata": {
        "id": "gnbJmOn21O8U"
      }
    },
    {
      "cell_type": "code",
      "source": [
        "# Initialize the Tokenizer\n",
        "tokenizer = tf.keras.preprocessing.text.Tokenizer(num_words=None,\n",
        "                                                filters='\\'!\"#$%&()*+,-./:;<=>?@[\\\\]^_`{|}~\\t\\n',\n",
        "                                                lower=True,\n",
        "                                                oov_token=\"UNK\",\n",
        "                                                split=' ',)\n",
        "\n",
        "# Fit on text to generate token index and vocabulary\n",
        "tokenizer.fit_on_texts([input_text])\n",
        "\n",
        "# Tokenize\n",
        "tokens = tokenizer.texts_to_sequences([input_text])\n",
        "\n",
        "print(tokenizer.word_counts)\n",
        "word_index = tokenizer.word_index\n",
        "index_word = tokenizer.index_word\n",
        "print(\"word_index\",word_index)\n",
        "vocabulary_size = len(word_index.keys())\n",
        "print(\"Vocabulary Size:\",vocabulary_size)\n",
        "\n",
        "\n",
        "print(\"\\nExample:\",tokenizer.texts_to_sequences([\"data science is awesome\"]))\n",
        "print(\"\\nExample:\",tokenizer.texts_to_sequences([\"I like ice cream\"]))"
      ],
      "metadata": {
        "id": "TavdaRTenhT_",
        "colab": {
          "base_uri": "https://localhost:8080/"
        },
        "outputId": "430b63cf-4aad-42aa-aacf-ea6e3a06a684"
      },
      "execution_count": 17,
      "outputs": [
        {
          "output_type": "stream",
          "name": "stdout",
          "text": [
            "OrderedDict([('advanced', 2), ('topics', 2), ('in', 2), ('data', 6), ('science', 3), ('cs109b', 1), ('is', 1), ('the', 3), ('second', 1), ('half', 1), ('of', 1), ('a', 1), ('one', 1), ('year', 1), ('introduction', 2), ('to', 2), ('building', 1), ('upon', 1), ('material', 1), ('course', 1), ('introduces', 1), ('methods', 2), ('for', 1), ('wrangling', 1), ('visualization', 1), ('statistical', 1), ('modeling', 1), ('and', 3), ('prediction', 1), ('include', 1), ('big', 1), ('multiple', 1), ('deep', 1), ('learning', 2), ('architectures', 1), ('such', 1), ('as', 3), ('cnns', 1), ('rnns', 1), ('transformers', 1), ('language', 1), ('models', 2), ('autoencoders', 1), ('generative', 1), ('well', 1), ('basic', 1), ('bayesian', 1), ('unsupervised', 1)])\n",
            "word_index {'UNK': 1, 'data': 2, 'science': 3, 'the': 4, 'and': 5, 'as': 6, 'advanced': 7, 'topics': 8, 'in': 9, 'introduction': 10, 'to': 11, 'methods': 12, 'learning': 13, 'models': 14, 'cs109b': 15, 'is': 16, 'second': 17, 'half': 18, 'of': 19, 'a': 20, 'one': 21, 'year': 22, 'building': 23, 'upon': 24, 'material': 25, 'course': 26, 'introduces': 27, 'for': 28, 'wrangling': 29, 'visualization': 30, 'statistical': 31, 'modeling': 32, 'prediction': 33, 'include': 34, 'big': 35, 'multiple': 36, 'deep': 37, 'architectures': 38, 'such': 39, 'cnns': 40, 'rnns': 41, 'transformers': 42, 'language': 43, 'autoencoders': 44, 'generative': 45, 'well': 46, 'basic': 47, 'bayesian': 48, 'unsupervised': 49}\n",
            "Vocabulary Size: 49\n",
            "\n",
            "Example: [[2, 3, 16, 1]]\n",
            "\n",
            "Example: [[1, 1, 1, 1]]\n"
          ]
        }
      ]
    },
    {
      "cell_type": "markdown",
      "source": [
        "Encoding the tokens as different vector representations"
      ],
      "metadata": {
        "id": "7R32BZxmTZI8"
      }
    },
    {
      "cell_type": "code",
      "source": [
        "test_documents = [\"data science is awesome\", \"i like ice cream\"]\n",
        "\n",
        "vectors = tokenizer.texts_to_matrix(test_documents, mode='binary')\n",
        "print(\"binary vectors:\", vectors)\n",
        "\n",
        "vectors = tokenizer.texts_to_matrix(test_documents, mode='count')\n",
        "print(\"count vectors:\", vectors)\n",
        "\n",
        "vectors = tokenizer.texts_to_matrix(test_documents, mode='tfidf')\n",
        "print(\"tfidf vectors:\", vectors)"
      ],
      "metadata": {
        "id": "19wS28wuDGk2",
        "colab": {
          "base_uri": "https://localhost:8080/"
        },
        "outputId": "e1e3387f-d281-4c0f-e043-6d1dd7002c13"
      },
      "execution_count": 18,
      "outputs": [
        {
          "output_type": "stream",
          "name": "stdout",
          "text": [
            "binary vectors: [[0. 1. 1. 1. 0. 0. 0. 0. 0. 0. 0. 0. 0. 0. 0. 0. 1. 0. 0. 0. 0. 0. 0. 0.\n",
            "  0. 0. 0. 0. 0. 0. 0. 0. 0. 0. 0. 0. 0. 0. 0. 0. 0. 0. 0. 0. 0. 0. 0. 0.\n",
            "  0. 0.]\n",
            " [0. 1. 0. 0. 0. 0. 0. 0. 0. 0. 0. 0. 0. 0. 0. 0. 0. 0. 0. 0. 0. 0. 0. 0.\n",
            "  0. 0. 0. 0. 0. 0. 0. 0. 0. 0. 0. 0. 0. 0. 0. 0. 0. 0. 0. 0. 0. 0. 0. 0.\n",
            "  0. 0.]]\n",
            "count vectors: [[0. 1. 1. 1. 0. 0. 0. 0. 0. 0. 0. 0. 0. 0. 0. 0. 1. 0. 0. 0. 0. 0. 0. 0.\n",
            "  0. 0. 0. 0. 0. 0. 0. 0. 0. 0. 0. 0. 0. 0. 0. 0. 0. 0. 0. 0. 0. 0. 0. 0.\n",
            "  0. 0.]\n",
            " [0. 4. 0. 0. 0. 0. 0. 0. 0. 0. 0. 0. 0. 0. 0. 0. 0. 0. 0. 0. 0. 0. 0. 0.\n",
            "  0. 0. 0. 0. 0. 0. 0. 0. 0. 0. 0. 0. 0. 0. 0. 0. 0. 0. 0. 0. 0. 0. 0. 0.\n",
            "  0. 0.]]\n",
            "tfidf vectors: [[0.         0.69314718 0.40546511 0.40546511 0.         0.\n",
            "  0.         0.         0.         0.         0.         0.\n",
            "  0.         0.         0.         0.         0.40546511 0.\n",
            "  0.         0.         0.         0.         0.         0.\n",
            "  0.         0.         0.         0.         0.         0.\n",
            "  0.         0.         0.         0.         0.         0.\n",
            "  0.         0.         0.         0.         0.         0.\n",
            "  0.         0.         0.         0.         0.         0.\n",
            "  0.         0.        ]\n",
            " [0.         1.65405321 0.         0.         0.         0.\n",
            "  0.         0.         0.         0.         0.         0.\n",
            "  0.         0.         0.         0.         0.         0.\n",
            "  0.         0.         0.         0.         0.         0.\n",
            "  0.         0.         0.         0.         0.         0.\n",
            "  0.         0.         0.         0.         0.         0.\n",
            "  0.         0.         0.         0.         0.         0.\n",
            "  0.         0.         0.         0.         0.         0.\n",
            "  0.         0.        ]]\n"
          ]
        }
      ]
    },
    {
      "cell_type": "markdown",
      "source": [
        "#### **tf.keras: TextVectorization Layer**"
      ],
      "metadata": {
        "id": "3fhvG7FH1s9C"
      }
    },
    {
      "cell_type": "code",
      "source": [
        "# Set maximum number of words in vocab\n",
        "max_tokens = 45\n",
        "\n",
        "# Initialize Text Vectorizer\n",
        "text_vectorizer = tf.keras.layers.TextVectorization(\n",
        "    max_tokens=max_tokens+2, # 0 is reserved for padding, 1 is reserved for UNK\n",
        "    output_mode=\"int\"\n",
        ")\n",
        "\n",
        "# Fit on text to generate token index and vocabulary\n",
        "text_vectorizer.adapt([input_text])\n",
        "\n",
        "# Get Vocabulary\n",
        "vocabulary = text_vectorizer.get_vocabulary()\n",
        "vocabulary_size = len(vocabulary)\n",
        "print(\"Vocabulary Size:\",vocabulary_size)\n",
        "\n",
        "# Generate word index\n",
        "word_index = dict(zip(vocabulary, range(vocabulary_size)))\n",
        "\n",
        "print(\"vocabulary:\",len(vocabulary),vocabulary)\n",
        "print(\"word_index:\",word_index)\n",
        "\n",
        "print(\"\\nExample:\",text_vectorizer(\"data science is awesome\"))\n",
        "print(\"\\nExample:\",text_vectorizer(\"I like ice cream\"))"
      ],
      "metadata": {
        "id": "d7w3jmsl93kr",
        "colab": {
          "base_uri": "https://localhost:8080/"
        },
        "outputId": "55c90a5c-bd7f-4c83-f88b-d3c055cb2aeb"
      },
      "execution_count": 19,
      "outputs": [
        {
          "output_type": "stream",
          "name": "stdout",
          "text": [
            "Vocabulary Size: 47\n",
            "vocabulary: 47 ['', '[UNK]', 'data', 'the', 'science', 'as', 'and', 'topics', 'to', 'models', 'methods', 'learning', 'introduction', 'in', 'advanced', 'wrangling', 'well', 'visualization', 'upon', 'unsupervised', 'transformers', 'such', 'statistical', 'second', 'rnns', 'prediction', 'oneyear', 'of', 'multiple', 'modeling', 'material', 'language', 'is', 'introduces', 'include', 'half', 'generative', 'for', 'deep', 'cs109b', 'course', 'cnns', 'building', 'big', 'bayesian', 'basic', 'autoencoders']\n",
            "word_index: {'': 0, '[UNK]': 1, 'data': 2, 'the': 3, 'science': 4, 'as': 5, 'and': 6, 'topics': 7, 'to': 8, 'models': 9, 'methods': 10, 'learning': 11, 'introduction': 12, 'in': 13, 'advanced': 14, 'wrangling': 15, 'well': 16, 'visualization': 17, 'upon': 18, 'unsupervised': 19, 'transformers': 20, 'such': 21, 'statistical': 22, 'second': 23, 'rnns': 24, 'prediction': 25, 'oneyear': 26, 'of': 27, 'multiple': 28, 'modeling': 29, 'material': 30, 'language': 31, 'is': 32, 'introduces': 33, 'include': 34, 'half': 35, 'generative': 36, 'for': 37, 'deep': 38, 'cs109b': 39, 'course': 40, 'cnns': 41, 'building': 42, 'big': 43, 'bayesian': 44, 'basic': 45, 'autoencoders': 46}\n",
            "\n",
            "Example: tf.Tensor([ 2  4 32  1], shape=(4,), dtype=int64)\n",
            "\n",
            "Example: tf.Tensor([1 1 1 1], shape=(4,), dtype=int64)\n"
          ]
        }
      ]
    },
    {
      "cell_type": "markdown",
      "source": [
        "Encoding the tokens as different vector representations"
      ],
      "metadata": {
        "id": "DeufigppTka_"
      }
    },
    {
      "cell_type": "markdown",
      "source": [
        "Binary 1-gram bag-of-words"
      ],
      "metadata": {
        "id": "kC4-_lMn2wYQ"
      }
    },
    {
      "cell_type": "code",
      "source": [
        "# Initialize Text Vectorizer\n",
        "text_vectorizer = tf.keras.layers.TextVectorization(\n",
        "    max_tokens=max_tokens+2,\n",
        "    output_mode=\"multi_hot\"\n",
        ")\n",
        "# Fit on text to generate token index and vocabulary\n",
        "text_vectorizer.adapt([input_text])\n",
        "\n",
        "print(\"Vocabulary:\",text_vectorizer.get_vocabulary())\n",
        "print(\"\\nExample:\",text_vectorizer(\"data science is awesome\"))\n",
        "print(\"\\nExample:\",text_vectorizer(\"I like ice cream\"))"
      ],
      "metadata": {
        "id": "O6vptG1ITXjN",
        "colab": {
          "base_uri": "https://localhost:8080/"
        },
        "outputId": "e9874599-6a3f-4f90-8aaf-a7c41bebf92c"
      },
      "execution_count": 20,
      "outputs": [
        {
          "output_type": "stream",
          "name": "stdout",
          "text": [
            "Vocabulary: ['[UNK]', 'data', 'the', 'science', 'as', 'and', 'topics', 'to', 'models', 'methods', 'learning', 'introduction', 'in', 'advanced', 'wrangling', 'well', 'visualization', 'upon', 'unsupervised', 'transformers', 'such', 'statistical', 'second', 'rnns', 'prediction', 'oneyear', 'of', 'multiple', 'modeling', 'material', 'language', 'is', 'introduces', 'include', 'half', 'generative', 'for', 'deep', 'cs109b', 'course', 'cnns', 'building', 'big', 'bayesian', 'basic', 'autoencoders', 'architectures']\n",
            "\n",
            "Example: tf.Tensor(\n",
            "[1. 1. 0. 1. 0. 0. 0. 0. 0. 0. 0. 0. 0. 0. 0. 0. 0. 0. 0. 0. 0. 0. 0. 0.\n",
            " 0. 0. 0. 0. 0. 0. 0. 1. 0. 0. 0. 0. 0. 0. 0. 0. 0. 0. 0. 0. 0. 0. 0.], shape=(47,), dtype=float32)\n",
            "\n",
            "Example: tf.Tensor(\n",
            "[1. 0. 0. 0. 0. 0. 0. 0. 0. 0. 0. 0. 0. 0. 0. 0. 0. 0. 0. 0. 0. 0. 0. 0.\n",
            " 0. 0. 0. 0. 0. 0. 0. 0. 0. 0. 0. 0. 0. 0. 0. 0. 0. 0. 0. 0. 0. 0. 0.], shape=(47,), dtype=float32)\n"
          ]
        }
      ]
    },
    {
      "cell_type": "markdown",
      "source": [
        "Bigram bag-of-words"
      ],
      "metadata": {
        "id": "pQFyuSXx2ykc"
      }
    },
    {
      "cell_type": "code",
      "source": [
        "# Initialize Text Vectorizer\n",
        "text_vectorizer = tf.keras.layers.TextVectorization(\n",
        "    ngrams=2,\n",
        "    output_mode=\"count\"\n",
        ")\n",
        "# Fit on text to generate token index and vocabulary\n",
        "text_vectorizer.adapt([input_text])\n",
        "\n",
        "print(\"Vocabulary:\",text_vectorizer.get_vocabulary())\n",
        "print(\"\\nExample:\",text_vectorizer(\"data science is awesome\"))\n",
        "print(\"\\nExample:\",text_vectorizer(\"I like ice cream\"))"
      ],
      "metadata": {
        "id": "NdOj3O8gZLKs",
        "colab": {
          "base_uri": "https://localhost:8080/"
        },
        "outputId": "1214cd12-e979-424d-f6f1-445370a7c275"
      },
      "execution_count": 21,
      "outputs": [
        {
          "output_type": "stream",
          "name": "stdout",
          "text": [
            "Vocabulary: ['[UNK]', 'data', 'the', 'science', 'data science', 'as', 'and', 'topics', 'to data', 'to', 'models', 'methods', 'learning', 'introduction to', 'introduction', 'in', 'advanced', 'wrangling data', 'wrangling', 'well as', 'well', 'visualization statistical', 'visualization', 'upon the', 'upon', 'unsupervised learning', 'unsupervised', 'transformers language', 'transformers', 'topics include', 'topics in', 'the second', 'the material', 'the course', 'such as', 'such', 'statistical modeling', 'statistical', 'second half', 'second', 'science the', 'science cs109b', 'science building', 'rnns transformers', 'rnns', 'prediction topics', 'prediction', 'oneyear introduction', 'oneyear', 'of a', 'of', 'multiple deep', 'multiple', 'models autoencoders', 'models as', 'modeling and', 'modeling', 'methods for', 'methods and', 'material in', 'material', 'learning architectures', 'language models', 'language', 'is the', 'is', 'introduces advanced', 'introduces', 'include big', 'include', 'in introduction', 'in data', 'half of', 'half', 'generative models', 'generative', 'for data', 'for', 'deep learning', 'deep', 'data wrangling', 'data visualization', 'data multiple', 'cs109b is', 'cs109b', 'course introduces', 'course', 'cnns rnns', 'cnns', 'building upon', 'building', 'big data', 'big', 'bayesian methods', 'bayesian', 'basic bayesian', 'basic', 'autoencoders and', 'autoencoders', 'as well', 'as cnns', 'as basic', 'architectures such', 'architectures', 'and unsupervised', 'and prediction', 'and generative', 'advanced topics', 'advanced methods', 'a oneyear', 'a']\n",
            "\n",
            "Example: tf.Tensor(\n",
            "[3. 1. 0. 1. 1. 0. 0. 0. 0. 0. 0. 0. 0. 0. 0. 0. 0. 0. 0. 0. 0. 0. 0. 0.\n",
            " 0. 0. 0. 0. 0. 0. 0. 0. 0. 0. 0. 0. 0. 0. 0. 0. 0. 0. 0. 0. 0. 0. 0. 0.\n",
            " 0. 0. 0. 0. 0. 0. 0. 0. 0. 0. 0. 0. 0. 0. 0. 0. 0. 1. 0. 0. 0. 0. 0. 0.\n",
            " 0. 0. 0. 0. 0. 0. 0. 0. 0. 0. 0. 0. 0. 0. 0. 0. 0. 0. 0. 0. 0. 0. 0. 0.\n",
            " 0. 0. 0. 0. 0. 0. 0. 0. 0. 0. 0. 0. 0. 0. 0.], shape=(111,), dtype=float32)\n",
            "\n",
            "Example: tf.Tensor(\n",
            "[7. 0. 0. 0. 0. 0. 0. 0. 0. 0. 0. 0. 0. 0. 0. 0. 0. 0. 0. 0. 0. 0. 0. 0.\n",
            " 0. 0. 0. 0. 0. 0. 0. 0. 0. 0. 0. 0. 0. 0. 0. 0. 0. 0. 0. 0. 0. 0. 0. 0.\n",
            " 0. 0. 0. 0. 0. 0. 0. 0. 0. 0. 0. 0. 0. 0. 0. 0. 0. 0. 0. 0. 0. 0. 0. 0.\n",
            " 0. 0. 0. 0. 0. 0. 0. 0. 0. 0. 0. 0. 0. 0. 0. 0. 0. 0. 0. 0. 0. 0. 0. 0.\n",
            " 0. 0. 0. 0. 0. 0. 0. 0. 0. 0. 0. 0. 0. 0. 0.], shape=(111,), dtype=float32)\n"
          ]
        }
      ]
    },
    {
      "cell_type": "markdown",
      "source": [
        "## **Recurrent Neural Networks**"
      ],
      "metadata": {
        "id": "4GuUTg9LbFZb"
      }
    },
    {
      "cell_type": "markdown",
      "source": [
        "This section is to get you familiar with different RNN architectures. We will be working with a Named Entity Recognition (NER) dataset."
      ],
      "metadata": {
        "id": "_u60Fcq2cls5"
      }
    },
    {
      "cell_type": "markdown",
      "source": [
        "### **Load the data**\n",
        "\n",
        "The dataset contains all the sentences, with each word tagged. </br>\n",
        "The tags can be:\n",
        "* geo = Geographical Entity\n",
        "* org = Organization\n",
        "* per = Person\n",
        "* gpe = Geopolitical Entity\n",
        "* tim = Time indicator\n",
        "* art = Artifact\n",
        "* eve = Event\n",
        "* nat = Natural Phenomenon\n",
        "\n",
        "Extract each sentence and transform it into an adequate format.  Use **df.fillna(method='ffill', inplace=True)** to fill the NaN values and extract the values easily.</br>"
      ],
      "metadata": {
        "id": "Ch1PniWbcb4D"
      }
    },
    {
      "cell_type": "code",
      "source": [
        "# Load data\n",
        "data = pd.read_csv('https://storage.googleapis.com/dataset_store/nlp/ner_dataset.csv', \n",
        "                 encoding= 'unicode_escape', \n",
        "                 usecols=['Sentence #','Word','Tag'])\n",
        "\n",
        "# Take a quick look at the dataset\n",
        "print(\"Shape:\",data.shape)\n",
        "data.head()"
      ],
      "metadata": {
        "id": "7m4ZNwuWbiU2",
        "colab": {
          "base_uri": "https://localhost:8080/",
          "height": 224
        },
        "outputId": "17cf1ebd-9085-44e5-e700-ee5b071b93ec"
      },
      "execution_count": 22,
      "outputs": [
        {
          "output_type": "stream",
          "name": "stdout",
          "text": [
            "Shape: (1048575, 3)\n"
          ]
        },
        {
          "output_type": "execute_result",
          "data": {
            "text/plain": [
              "    Sentence #           Word Tag\n",
              "0  Sentence: 1      Thousands   O\n",
              "1          NaN             of   O\n",
              "2          NaN  demonstrators   O\n",
              "3          NaN           have   O\n",
              "4          NaN        marched   O"
            ],
            "text/html": [
              "\n",
              "  <div id=\"df-7743d3ae-d884-4a56-81c0-08624aca93f1\">\n",
              "    <div class=\"colab-df-container\">\n",
              "      <div>\n",
              "<style scoped>\n",
              "    .dataframe tbody tr th:only-of-type {\n",
              "        vertical-align: middle;\n",
              "    }\n",
              "\n",
              "    .dataframe tbody tr th {\n",
              "        vertical-align: top;\n",
              "    }\n",
              "\n",
              "    .dataframe thead th {\n",
              "        text-align: right;\n",
              "    }\n",
              "</style>\n",
              "<table border=\"1\" class=\"dataframe\">\n",
              "  <thead>\n",
              "    <tr style=\"text-align: right;\">\n",
              "      <th></th>\n",
              "      <th>Sentence #</th>\n",
              "      <th>Word</th>\n",
              "      <th>Tag</th>\n",
              "    </tr>\n",
              "  </thead>\n",
              "  <tbody>\n",
              "    <tr>\n",
              "      <th>0</th>\n",
              "      <td>Sentence: 1</td>\n",
              "      <td>Thousands</td>\n",
              "      <td>O</td>\n",
              "    </tr>\n",
              "    <tr>\n",
              "      <th>1</th>\n",
              "      <td>NaN</td>\n",
              "      <td>of</td>\n",
              "      <td>O</td>\n",
              "    </tr>\n",
              "    <tr>\n",
              "      <th>2</th>\n",
              "      <td>NaN</td>\n",
              "      <td>demonstrators</td>\n",
              "      <td>O</td>\n",
              "    </tr>\n",
              "    <tr>\n",
              "      <th>3</th>\n",
              "      <td>NaN</td>\n",
              "      <td>have</td>\n",
              "      <td>O</td>\n",
              "    </tr>\n",
              "    <tr>\n",
              "      <th>4</th>\n",
              "      <td>NaN</td>\n",
              "      <td>marched</td>\n",
              "      <td>O</td>\n",
              "    </tr>\n",
              "  </tbody>\n",
              "</table>\n",
              "</div>\n",
              "      <button class=\"colab-df-convert\" onclick=\"convertToInteractive('df-7743d3ae-d884-4a56-81c0-08624aca93f1')\"\n",
              "              title=\"Convert this dataframe to an interactive table.\"\n",
              "              style=\"display:none;\">\n",
              "        \n",
              "  <svg xmlns=\"http://www.w3.org/2000/svg\" height=\"24px\"viewBox=\"0 0 24 24\"\n",
              "       width=\"24px\">\n",
              "    <path d=\"M0 0h24v24H0V0z\" fill=\"none\"/>\n",
              "    <path d=\"M18.56 5.44l.94 2.06.94-2.06 2.06-.94-2.06-.94-.94-2.06-.94 2.06-2.06.94zm-11 1L8.5 8.5l.94-2.06 2.06-.94-2.06-.94L8.5 2.5l-.94 2.06-2.06.94zm10 10l.94 2.06.94-2.06 2.06-.94-2.06-.94-.94-2.06-.94 2.06-2.06.94z\"/><path d=\"M17.41 7.96l-1.37-1.37c-.4-.4-.92-.59-1.43-.59-.52 0-1.04.2-1.43.59L10.3 9.45l-7.72 7.72c-.78.78-.78 2.05 0 2.83L4 21.41c.39.39.9.59 1.41.59.51 0 1.02-.2 1.41-.59l7.78-7.78 2.81-2.81c.8-.78.8-2.07 0-2.86zM5.41 20L4 18.59l7.72-7.72 1.47 1.35L5.41 20z\"/>\n",
              "  </svg>\n",
              "      </button>\n",
              "      \n",
              "  <style>\n",
              "    .colab-df-container {\n",
              "      display:flex;\n",
              "      flex-wrap:wrap;\n",
              "      gap: 12px;\n",
              "    }\n",
              "\n",
              "    .colab-df-convert {\n",
              "      background-color: #E8F0FE;\n",
              "      border: none;\n",
              "      border-radius: 50%;\n",
              "      cursor: pointer;\n",
              "      display: none;\n",
              "      fill: #1967D2;\n",
              "      height: 32px;\n",
              "      padding: 0 0 0 0;\n",
              "      width: 32px;\n",
              "    }\n",
              "\n",
              "    .colab-df-convert:hover {\n",
              "      background-color: #E2EBFA;\n",
              "      box-shadow: 0px 1px 2px rgba(60, 64, 67, 0.3), 0px 1px 3px 1px rgba(60, 64, 67, 0.15);\n",
              "      fill: #174EA6;\n",
              "    }\n",
              "\n",
              "    [theme=dark] .colab-df-convert {\n",
              "      background-color: #3B4455;\n",
              "      fill: #D2E3FC;\n",
              "    }\n",
              "\n",
              "    [theme=dark] .colab-df-convert:hover {\n",
              "      background-color: #434B5C;\n",
              "      box-shadow: 0px 1px 3px 1px rgba(0, 0, 0, 0.15);\n",
              "      filter: drop-shadow(0px 1px 2px rgba(0, 0, 0, 0.3));\n",
              "      fill: #FFFFFF;\n",
              "    }\n",
              "  </style>\n",
              "\n",
              "      <script>\n",
              "        const buttonEl =\n",
              "          document.querySelector('#df-7743d3ae-d884-4a56-81c0-08624aca93f1 button.colab-df-convert');\n",
              "        buttonEl.style.display =\n",
              "          google.colab.kernel.accessAllowed ? 'block' : 'none';\n",
              "\n",
              "        async function convertToInteractive(key) {\n",
              "          const element = document.querySelector('#df-7743d3ae-d884-4a56-81c0-08624aca93f1');\n",
              "          const dataTable =\n",
              "            await google.colab.kernel.invokeFunction('convertToInteractive',\n",
              "                                                     [key], {});\n",
              "          if (!dataTable) return;\n",
              "\n",
              "          const docLinkHtml = 'Like what you see? Visit the ' +\n",
              "            '<a target=\"_blank\" href=https://colab.research.google.com/notebooks/data_table.ipynb>data table notebook</a>'\n",
              "            + ' to learn more about interactive tables.';\n",
              "          element.innerHTML = '';\n",
              "          dataTable['output_type'] = 'display_data';\n",
              "          await google.colab.output.renderOutput(dataTable, element);\n",
              "          const docLink = document.createElement('div');\n",
              "          docLink.innerHTML = docLinkHtml;\n",
              "          element.appendChild(docLink);\n",
              "        }\n",
              "      </script>\n",
              "    </div>\n",
              "  </div>\n",
              "  "
            ]
          },
          "metadata": {},
          "execution_count": 22
        }
      ]
    },
    {
      "cell_type": "markdown",
      "source": [
        "### **Build Data Pipelines**"
      ],
      "metadata": {
        "id": "0c0tJ5KPeynR"
      }
    },
    {
      "cell_type": "markdown",
      "source": [
        "**Clean Data**"
      ],
      "metadata": {
        "id": "j6I9Wv7te2sr"
      }
    },
    {
      "cell_type": "markdown",
      "source": [
        "\n",
        "\n",
        "The sentence is marked only at the first word with NaNs for the rest of the cells. We need to fill them with sentence number"
      ],
      "metadata": {
        "id": "cUW9mzc35giM"
      }
    },
    {
      "cell_type": "code",
      "source": [
        "# We fill Nan values using the previous value. \n",
        "# This way we can separate each sentence.\n",
        "data.fillna(method='ffill', inplace=True)\n",
        "\n",
        "# Remove \"Sentence: \" from the sentence column\n",
        "data['Sentence #'] = data['Sentence #'].str.replace('Sentence: ','').astype(int)\n",
        "\n",
        "# Set the index as the sentence number. Then we filter each sentence, joininig the text\n",
        "data.set_index('Sentence #', inplace=True)\n",
        "\n",
        "print(\"Shape:\",data.shape)\n",
        "data.head()"
      ],
      "metadata": {
        "id": "AIfDCNAgrAmG",
        "colab": {
          "base_uri": "https://localhost:8080/",
          "height": 255
        },
        "outputId": "bc4d617e-0975-429a-b144-c5701fe03518"
      },
      "execution_count": 23,
      "outputs": [
        {
          "output_type": "stream",
          "name": "stdout",
          "text": [
            "Shape: (1048575, 2)\n"
          ]
        },
        {
          "output_type": "execute_result",
          "data": {
            "text/plain": [
              "                     Word Tag\n",
              "Sentence #                   \n",
              "1               Thousands   O\n",
              "1                      of   O\n",
              "1           demonstrators   O\n",
              "1                    have   O\n",
              "1                 marched   O"
            ],
            "text/html": [
              "\n",
              "  <div id=\"df-2b6d9ff2-afb0-4dd3-83bb-624b273cfb35\">\n",
              "    <div class=\"colab-df-container\">\n",
              "      <div>\n",
              "<style scoped>\n",
              "    .dataframe tbody tr th:only-of-type {\n",
              "        vertical-align: middle;\n",
              "    }\n",
              "\n",
              "    .dataframe tbody tr th {\n",
              "        vertical-align: top;\n",
              "    }\n",
              "\n",
              "    .dataframe thead th {\n",
              "        text-align: right;\n",
              "    }\n",
              "</style>\n",
              "<table border=\"1\" class=\"dataframe\">\n",
              "  <thead>\n",
              "    <tr style=\"text-align: right;\">\n",
              "      <th></th>\n",
              "      <th>Word</th>\n",
              "      <th>Tag</th>\n",
              "    </tr>\n",
              "    <tr>\n",
              "      <th>Sentence #</th>\n",
              "      <th></th>\n",
              "      <th></th>\n",
              "    </tr>\n",
              "  </thead>\n",
              "  <tbody>\n",
              "    <tr>\n",
              "      <th>1</th>\n",
              "      <td>Thousands</td>\n",
              "      <td>O</td>\n",
              "    </tr>\n",
              "    <tr>\n",
              "      <th>1</th>\n",
              "      <td>of</td>\n",
              "      <td>O</td>\n",
              "    </tr>\n",
              "    <tr>\n",
              "      <th>1</th>\n",
              "      <td>demonstrators</td>\n",
              "      <td>O</td>\n",
              "    </tr>\n",
              "    <tr>\n",
              "      <th>1</th>\n",
              "      <td>have</td>\n",
              "      <td>O</td>\n",
              "    </tr>\n",
              "    <tr>\n",
              "      <th>1</th>\n",
              "      <td>marched</td>\n",
              "      <td>O</td>\n",
              "    </tr>\n",
              "  </tbody>\n",
              "</table>\n",
              "</div>\n",
              "      <button class=\"colab-df-convert\" onclick=\"convertToInteractive('df-2b6d9ff2-afb0-4dd3-83bb-624b273cfb35')\"\n",
              "              title=\"Convert this dataframe to an interactive table.\"\n",
              "              style=\"display:none;\">\n",
              "        \n",
              "  <svg xmlns=\"http://www.w3.org/2000/svg\" height=\"24px\"viewBox=\"0 0 24 24\"\n",
              "       width=\"24px\">\n",
              "    <path d=\"M0 0h24v24H0V0z\" fill=\"none\"/>\n",
              "    <path d=\"M18.56 5.44l.94 2.06.94-2.06 2.06-.94-2.06-.94-.94-2.06-.94 2.06-2.06.94zm-11 1L8.5 8.5l.94-2.06 2.06-.94-2.06-.94L8.5 2.5l-.94 2.06-2.06.94zm10 10l.94 2.06.94-2.06 2.06-.94-2.06-.94-.94-2.06-.94 2.06-2.06.94z\"/><path d=\"M17.41 7.96l-1.37-1.37c-.4-.4-.92-.59-1.43-.59-.52 0-1.04.2-1.43.59L10.3 9.45l-7.72 7.72c-.78.78-.78 2.05 0 2.83L4 21.41c.39.39.9.59 1.41.59.51 0 1.02-.2 1.41-.59l7.78-7.78 2.81-2.81c.8-.78.8-2.07 0-2.86zM5.41 20L4 18.59l7.72-7.72 1.47 1.35L5.41 20z\"/>\n",
              "  </svg>\n",
              "      </button>\n",
              "      \n",
              "  <style>\n",
              "    .colab-df-container {\n",
              "      display:flex;\n",
              "      flex-wrap:wrap;\n",
              "      gap: 12px;\n",
              "    }\n",
              "\n",
              "    .colab-df-convert {\n",
              "      background-color: #E8F0FE;\n",
              "      border: none;\n",
              "      border-radius: 50%;\n",
              "      cursor: pointer;\n",
              "      display: none;\n",
              "      fill: #1967D2;\n",
              "      height: 32px;\n",
              "      padding: 0 0 0 0;\n",
              "      width: 32px;\n",
              "    }\n",
              "\n",
              "    .colab-df-convert:hover {\n",
              "      background-color: #E2EBFA;\n",
              "      box-shadow: 0px 1px 2px rgba(60, 64, 67, 0.3), 0px 1px 3px 1px rgba(60, 64, 67, 0.15);\n",
              "      fill: #174EA6;\n",
              "    }\n",
              "\n",
              "    [theme=dark] .colab-df-convert {\n",
              "      background-color: #3B4455;\n",
              "      fill: #D2E3FC;\n",
              "    }\n",
              "\n",
              "    [theme=dark] .colab-df-convert:hover {\n",
              "      background-color: #434B5C;\n",
              "      box-shadow: 0px 1px 3px 1px rgba(0, 0, 0, 0.15);\n",
              "      filter: drop-shadow(0px 1px 2px rgba(0, 0, 0, 0.3));\n",
              "      fill: #FFFFFF;\n",
              "    }\n",
              "  </style>\n",
              "\n",
              "      <script>\n",
              "        const buttonEl =\n",
              "          document.querySelector('#df-2b6d9ff2-afb0-4dd3-83bb-624b273cfb35 button.colab-df-convert');\n",
              "        buttonEl.style.display =\n",
              "          google.colab.kernel.accessAllowed ? 'block' : 'none';\n",
              "\n",
              "        async function convertToInteractive(key) {\n",
              "          const element = document.querySelector('#df-2b6d9ff2-afb0-4dd3-83bb-624b273cfb35');\n",
              "          const dataTable =\n",
              "            await google.colab.kernel.invokeFunction('convertToInteractive',\n",
              "                                                     [key], {});\n",
              "          if (!dataTable) return;\n",
              "\n",
              "          const docLinkHtml = 'Like what you see? Visit the ' +\n",
              "            '<a target=\"_blank\" href=https://colab.research.google.com/notebooks/data_table.ipynb>data table notebook</a>'\n",
              "            + ' to learn more about interactive tables.';\n",
              "          element.innerHTML = '';\n",
              "          dataTable['output_type'] = 'display_data';\n",
              "          await google.colab.output.renderOutput(dataTable, element);\n",
              "          const docLink = document.createElement('div');\n",
              "          docLink.innerHTML = docLinkHtml;\n",
              "          element.appendChild(docLink);\n",
              "        }\n",
              "      </script>\n",
              "    </div>\n",
              "  </div>\n",
              "  "
            ]
          },
          "metadata": {},
          "execution_count": 23
        }
      ]
    },
    {
      "cell_type": "code",
      "source": [
        "# Take a quick look at the different tags\n",
        "print(data[\"Tag\"].unique())\n",
        "plt.figure(figsize=(15,10))\n",
        "plt.hist(data[\"Tag\"], log=True)\n",
        "plt.show()"
      ],
      "metadata": {
        "id": "lUaMtHVArLXY",
        "colab": {
          "base_uri": "https://localhost:8080/",
          "height": 627
        },
        "outputId": "52ef9fc0-3e85-49c6-cbeb-de659cf98a65"
      },
      "execution_count": 24,
      "outputs": [
        {
          "output_type": "stream",
          "name": "stdout",
          "text": [
            "['O' 'B-geo' 'B-gpe' 'B-per' 'I-geo' 'B-org' 'I-org' 'B-tim' 'B-art'\n",
            " 'I-art' 'I-per' 'I-gpe' 'I-tim' 'B-nat' 'B-eve' 'I-eve' 'I-nat']\n"
          ]
        },
        {
          "output_type": "display_data",
          "data": {
            "text/plain": [
              "<Figure size 1080x720 with 1 Axes>"
            ],
            "image/png": "[encoded data removed]"
          },
          "metadata": {
            "needs_background": "light"
          }
        }
      ]
    },
    {
      "cell_type": "markdown",
      "source": [
        "Let us look at the first sentence"
      ],
      "metadata": {
        "id": "3X6was11_YMb"
      }
    },
    {
      "cell_type": "code",
      "source": [
        "# Print first sentence\n",
        "sentence = data.loc[1]\n",
        "for index, row in sentence.iterrows():\n",
        "  print(row[\"Word\"],\"->\",row[\"Tag\"])"
      ],
      "metadata": {
        "id": "bEIKIUbV_aqQ",
        "colab": {
          "base_uri": "https://localhost:8080/"
        },
        "outputId": "6bab7296-5f5c-4689-808f-139f9ddba203"
      },
      "execution_count": 25,
      "outputs": [
        {
          "output_type": "stream",
          "name": "stdout",
          "text": [
            "Thousands -> O\n",
            "of -> O\n",
            "demonstrators -> O\n",
            "have -> O\n",
            "marched -> O\n",
            "through -> O\n",
            "London -> B-geo\n",
            "to -> O\n",
            "protest -> O\n",
            "the -> O\n",
            "war -> O\n",
            "in -> O\n",
            "Iraq -> B-geo\n",
            "and -> O\n",
            "demand -> O\n",
            "the -> O\n",
            "withdrawal -> O\n",
            "of -> O\n",
            "British -> B-gpe\n",
            "troops -> O\n",
            "from -> O\n",
            "that -> O\n",
            "country -> O\n",
            ". -> O\n"
          ]
        }
      ]
    },
    {
      "cell_type": "markdown",
      "source": [
        "Select sentences with more than 15 and less than 30 words."
      ],
      "metadata": {
        "id": "snVlNqWop1l8"
      }
    },
    {
      "cell_type": "code",
      "source": [
        "# Filter the dataframe by sequence length\n",
        "index, length = np.unique(data.index, return_counts=True)\n",
        "\n",
        "b1 = length>15\n",
        "b2 = length<30\n",
        "b = np.logical_and(b1, b2)\n",
        "\n",
        "index = index[b]\n",
        "length = length[b]\n",
        "\n",
        "data = data.loc[index]\n",
        "\n",
        "print(\"length\",length)\n",
        "# Take a quick look at the dataset\n",
        "print(\"Shape:\",data.shape)\n",
        "data.head()"
      ],
      "metadata": {
        "id": "mdyVMdNbptAy",
        "colab": {
          "base_uri": "https://localhost:8080/",
          "height": 272
        },
        "outputId": "89eb34e2-af59-46fe-ee3c-20886119db04"
      },
      "execution_count": 26,
      "outputs": [
        {
          "output_type": "stream",
          "name": "stdout",
          "text": [
            "length [24 25 24 ... 29 20 24]\n",
            "Shape: (653765, 2)\n"
          ]
        },
        {
          "output_type": "execute_result",
          "data": {
            "text/plain": [
              "                     Word Tag\n",
              "Sentence #                   \n",
              "1               Thousands   O\n",
              "1                      of   O\n",
              "1           demonstrators   O\n",
              "1                    have   O\n",
              "1                 marched   O"
            ],
            "text/html": [
              "\n",
              "  <div id=\"df-bf250d35-e705-4979-9519-4f95f6e3809b\">\n",
              "    <div class=\"colab-df-container\">\n",
              "      <div>\n",
              "<style scoped>\n",
              "    .dataframe tbody tr th:only-of-type {\n",
              "        vertical-align: middle;\n",
              "    }\n",
              "\n",
              "    .dataframe tbody tr th {\n",
              "        vertical-align: top;\n",
              "    }\n",
              "\n",
              "    .dataframe thead th {\n",
              "        text-align: right;\n",
              "    }\n",
              "</style>\n",
              "<table border=\"1\" class=\"dataframe\">\n",
              "  <thead>\n",
              "    <tr style=\"text-align: right;\">\n",
              "      <th></th>\n",
              "      <th>Word</th>\n",
              "      <th>Tag</th>\n",
              "    </tr>\n",
              "    <tr>\n",
              "      <th>Sentence #</th>\n",
              "      <th></th>\n",
              "      <th></th>\n",
              "    </tr>\n",
              "  </thead>\n",
              "  <tbody>\n",
              "    <tr>\n",
              "      <th>1</th>\n",
              "      <td>Thousands</td>\n",
              "      <td>O</td>\n",
              "    </tr>\n",
              "    <tr>\n",
              "      <th>1</th>\n",
              "      <td>of</td>\n",
              "      <td>O</td>\n",
              "    </tr>\n",
              "    <tr>\n",
              "      <th>1</th>\n",
              "      <td>demonstrators</td>\n",
              "      <td>O</td>\n",
              "    </tr>\n",
              "    <tr>\n",
              "      <th>1</th>\n",
              "      <td>have</td>\n",
              "      <td>O</td>\n",
              "    </tr>\n",
              "    <tr>\n",
              "      <th>1</th>\n",
              "      <td>marched</td>\n",
              "      <td>O</td>\n",
              "    </tr>\n",
              "  </tbody>\n",
              "</table>\n",
              "</div>\n",
              "      <button class=\"colab-df-convert\" onclick=\"convertToInteractive('df-bf250d35-e705-4979-9519-4f95f6e3809b')\"\n",
              "              title=\"Convert this dataframe to an interactive table.\"\n",
              "              style=\"display:none;\">\n",
              "        \n",
              "  <svg xmlns=\"http://www.w3.org/2000/svg\" height=\"24px\"viewBox=\"0 0 24 24\"\n",
              "       width=\"24px\">\n",
              "    <path d=\"M0 0h24v24H0V0z\" fill=\"none\"/>\n",
              "    <path d=\"M18.56 5.44l.94 2.06.94-2.06 2.06-.94-2.06-.94-.94-2.06-.94 2.06-2.06.94zm-11 1L8.5 8.5l.94-2.06 2.06-.94-2.06-.94L8.5 2.5l-.94 2.06-2.06.94zm10 10l.94 2.06.94-2.06 2.06-.94-2.06-.94-.94-2.06-.94 2.06-2.06.94z\"/><path d=\"M17.41 7.96l-1.37-1.37c-.4-.4-.92-.59-1.43-.59-.52 0-1.04.2-1.43.59L10.3 9.45l-7.72 7.72c-.78.78-.78 2.05 0 2.83L4 21.41c.39.39.9.59 1.41.59.51 0 1.02-.2 1.41-.59l7.78-7.78 2.81-2.81c.8-.78.8-2.07 0-2.86zM5.41 20L4 18.59l7.72-7.72 1.47 1.35L5.41 20z\"/>\n",
              "  </svg>\n",
              "      </button>\n",
              "      \n",
              "  <style>\n",
              "    .colab-df-container {\n",
              "      display:flex;\n",
              "      flex-wrap:wrap;\n",
              "      gap: 12px;\n",
              "    }\n",
              "\n",
              "    .colab-df-convert {\n",
              "      background-color: #E8F0FE;\n",
              "      border: none;\n",
              "      border-radius: 50%;\n",
              "      cursor: pointer;\n",
              "      display: none;\n",
              "      fill: #1967D2;\n",
              "      height: 32px;\n",
              "      padding: 0 0 0 0;\n",
              "      width: 32px;\n",
              "    }\n",
              "\n",
              "    .colab-df-convert:hover {\n",
              "      background-color: #E2EBFA;\n",
              "      box-shadow: 0px 1px 2px rgba(60, 64, 67, 0.3), 0px 1px 3px 1px rgba(60, 64, 67, 0.15);\n",
              "      fill: #174EA6;\n",
              "    }\n",
              "\n",
              "    [theme=dark] .colab-df-convert {\n",
              "      background-color: #3B4455;\n",
              "      fill: #D2E3FC;\n",
              "    }\n",
              "\n",
              "    [theme=dark] .colab-df-convert:hover {\n",
              "      background-color: #434B5C;\n",
              "      box-shadow: 0px 1px 3px 1px rgba(0, 0, 0, 0.15);\n",
              "      filter: drop-shadow(0px 1px 2px rgba(0, 0, 0, 0.3));\n",
              "      fill: #FFFFFF;\n",
              "    }\n",
              "  </style>\n",
              "\n",
              "      <script>\n",
              "        const buttonEl =\n",
              "          document.querySelector('#df-bf250d35-e705-4979-9519-4f95f6e3809b button.colab-df-convert');\n",
              "        buttonEl.style.display =\n",
              "          google.colab.kernel.accessAllowed ? 'block' : 'none';\n",
              "\n",
              "        async function convertToInteractive(key) {\n",
              "          const element = document.querySelector('#df-bf250d35-e705-4979-9519-4f95f6e3809b');\n",
              "          const dataTable =\n",
              "            await google.colab.kernel.invokeFunction('convertToInteractive',\n",
              "                                                     [key], {});\n",
              "          if (!dataTable) return;\n",
              "\n",
              "          const docLinkHtml = 'Like what you see? Visit the ' +\n",
              "            '<a target=\"_blank\" href=https://colab.research.google.com/notebooks/data_table.ipynb>data table notebook</a>'\n",
              "            + ' to learn more about interactive tables.';\n",
              "          element.innerHTML = '';\n",
              "          dataTable['output_type'] = 'display_data';\n",
              "          await google.colab.output.renderOutput(dataTable, element);\n",
              "          const docLink = document.createElement('div');\n",
              "          docLink.innerHTML = docLinkHtml;\n",
              "          element.appendChild(docLink);\n",
              "        }\n",
              "      </script>\n",
              "    </div>\n",
              "  </div>\n",
              "  "
            ]
          },
          "metadata": {},
          "execution_count": 26
        }
      ]
    },
    {
      "cell_type": "markdown",
      "source": [
        "**Tokenize**"
      ],
      "metadata": {
        "id": "-3PBDpv_p_2P"
      }
    },
    {
      "cell_type": "code",
      "source": [
        "# Transform the tags into labels using LabelEnconder\n",
        "le = LabelEncoder()\n",
        "data['Tag'] = le.fit_transform(data.Tag)\n",
        "\n",
        "# Initialize tokenizer\n",
        "tokenizer = tf.keras.preprocessing.text.Tokenizer(num_words=None,\n",
        "                                                filters='\\'!\"#$%&()*+,-./:;<=>?@[\\\\]^_`{|}~\\t\\n',\n",
        "                                                lower=True,\n",
        "                                                split=' ',)\n",
        "# Fit on entire text\n",
        "tokenizer.fit_on_texts(data.Word.values)\n",
        "\n",
        "# Transform to tokens\n",
        "tokens = tokenizer.texts_to_sequences(data.Word.values)\n",
        "\n",
        "# Remove empty elements\n",
        "b = np.array([token!=[] for token in tokens])\n",
        "data = data.iloc[b,:]\n",
        "tokens = np.array(tokens, dtype=object)[b]\n",
        "\n",
        "data.Word = tokens\n",
        "data.Word=data.Word.map(lambda x: x[0])\n",
        "\n",
        "\n",
        "print(\"Shape:\",data.shape)\n",
        "data.head()"
      ],
      "metadata": {
        "id": "2gxki76hptDN",
        "colab": {
          "base_uri": "https://localhost:8080/",
          "height": 255
        },
        "outputId": "e1d3ef67-a723-4a77-c0a4-c0d20907e0f8"
      },
      "execution_count": 27,
      "outputs": [
        {
          "output_type": "stream",
          "name": "stdout",
          "text": [
            "Shape: (600549, 2)\n"
          ]
        },
        {
          "output_type": "execute_result",
          "data": {
            "text/plain": [
              "            Word  Tag\n",
              "Sentence #           \n",
              "1            248   16\n",
              "1              3   16\n",
              "1            859   16\n",
              "1             14   16\n",
              "1           1501   16"
            ],
            "text/html": [
              "\n",
              "  <div id=\"df-e570c5d2-4870-4f3a-b7ae-f33dbfa041e9\">\n",
              "    <div class=\"colab-df-container\">\n",
              "      <div>\n",
              "<style scoped>\n",
              "    .dataframe tbody tr th:only-of-type {\n",
              "        vertical-align: middle;\n",
              "    }\n",
              "\n",
              "    .dataframe tbody tr th {\n",
              "        vertical-align: top;\n",
              "    }\n",
              "\n",
              "    .dataframe thead th {\n",
              "        text-align: right;\n",
              "    }\n",
              "</style>\n",
              "<table border=\"1\" class=\"dataframe\">\n",
              "  <thead>\n",
              "    <tr style=\"text-align: right;\">\n",
              "      <th></th>\n",
              "      <th>Word</th>\n",
              "      <th>Tag</th>\n",
              "    </tr>\n",
              "    <tr>\n",
              "      <th>Sentence #</th>\n",
              "      <th></th>\n",
              "      <th></th>\n",
              "    </tr>\n",
              "  </thead>\n",
              "  <tbody>\n",
              "    <tr>\n",
              "      <th>1</th>\n",
              "      <td>248</td>\n",
              "      <td>16</td>\n",
              "    </tr>\n",
              "    <tr>\n",
              "      <th>1</th>\n",
              "      <td>3</td>\n",
              "      <td>16</td>\n",
              "    </tr>\n",
              "    <tr>\n",
              "      <th>1</th>\n",
              "      <td>859</td>\n",
              "      <td>16</td>\n",
              "    </tr>\n",
              "    <tr>\n",
              "      <th>1</th>\n",
              "      <td>14</td>\n",
              "      <td>16</td>\n",
              "    </tr>\n",
              "    <tr>\n",
              "      <th>1</th>\n",
              "      <td>1501</td>\n",
              "      <td>16</td>\n",
              "    </tr>\n",
              "  </tbody>\n",
              "</table>\n",
              "</div>\n",
              "      <button class=\"colab-df-convert\" onclick=\"convertToInteractive('df-e570c5d2-4870-4f3a-b7ae-f33dbfa041e9')\"\n",
              "              title=\"Convert this dataframe to an interactive table.\"\n",
              "              style=\"display:none;\">\n",
              "        \n",
              "  <svg xmlns=\"http://www.w3.org/2000/svg\" height=\"24px\"viewBox=\"0 0 24 24\"\n",
              "       width=\"24px\">\n",
              "    <path d=\"M0 0h24v24H0V0z\" fill=\"none\"/>\n",
              "    <path d=\"M18.56 5.44l.94 2.06.94-2.06 2.06-.94-2.06-.94-.94-2.06-.94 2.06-2.06.94zm-11 1L8.5 8.5l.94-2.06 2.06-.94-2.06-.94L8.5 2.5l-.94 2.06-2.06.94zm10 10l.94 2.06.94-2.06 2.06-.94-2.06-.94-.94-2.06-.94 2.06-2.06.94z\"/><path d=\"M17.41 7.96l-1.37-1.37c-.4-.4-.92-.59-1.43-.59-.52 0-1.04.2-1.43.59L10.3 9.45l-7.72 7.72c-.78.78-.78 2.05 0 2.83L4 21.41c.39.39.9.59 1.41.59.51 0 1.02-.2 1.41-.59l7.78-7.78 2.81-2.81c.8-.78.8-2.07 0-2.86zM5.41 20L4 18.59l7.72-7.72 1.47 1.35L5.41 20z\"/>\n",
              "  </svg>\n",
              "      </button>\n",
              "      \n",
              "  <style>\n",
              "    .colab-df-container {\n",
              "      display:flex;\n",
              "      flex-wrap:wrap;\n",
              "      gap: 12px;\n",
              "    }\n",
              "\n",
              "    .colab-df-convert {\n",
              "      background-color: #E8F0FE;\n",
              "      border: none;\n",
              "      border-radius: 50%;\n",
              "      cursor: pointer;\n",
              "      display: none;\n",
              "      fill: #1967D2;\n",
              "      height: 32px;\n",
              "      padding: 0 0 0 0;\n",
              "      width: 32px;\n",
              "    }\n",
              "\n",
              "    .colab-df-convert:hover {\n",
              "      background-color: #E2EBFA;\n",
              "      box-shadow: 0px 1px 2px rgba(60, 64, 67, 0.3), 0px 1px 3px 1px rgba(60, 64, 67, 0.15);\n",
              "      fill: #174EA6;\n",
              "    }\n",
              "\n",
              "    [theme=dark] .colab-df-convert {\n",
              "      background-color: #3B4455;\n",
              "      fill: #D2E3FC;\n",
              "    }\n",
              "\n",
              "    [theme=dark] .colab-df-convert:hover {\n",
              "      background-color: #434B5C;\n",
              "      box-shadow: 0px 1px 3px 1px rgba(0, 0, 0, 0.15);\n",
              "      filter: drop-shadow(0px 1px 2px rgba(0, 0, 0, 0.3));\n",
              "      fill: #FFFFFF;\n",
              "    }\n",
              "  </style>\n",
              "\n",
              "      <script>\n",
              "        const buttonEl =\n",
              "          document.querySelector('#df-e570c5d2-4870-4f3a-b7ae-f33dbfa041e9 button.colab-df-convert');\n",
              "        buttonEl.style.display =\n",
              "          google.colab.kernel.accessAllowed ? 'block' : 'none';\n",
              "\n",
              "        async function convertToInteractive(key) {\n",
              "          const element = document.querySelector('#df-e570c5d2-4870-4f3a-b7ae-f33dbfa041e9');\n",
              "          const dataTable =\n",
              "            await google.colab.kernel.invokeFunction('convertToInteractive',\n",
              "                                                     [key], {});\n",
              "          if (!dataTable) return;\n",
              "\n",
              "          const docLinkHtml = 'Like what you see? Visit the ' +\n",
              "            '<a target=\"_blank\" href=https://colab.research.google.com/notebooks/data_table.ipynb>data table notebook</a>'\n",
              "            + ' to learn more about interactive tables.';\n",
              "          element.innerHTML = '';\n",
              "          dataTable['output_type'] = 'display_data';\n",
              "          await google.colab.output.renderOutput(dataTable, element);\n",
              "          const docLink = document.createElement('div');\n",
              "          docLink.innerHTML = docLinkHtml;\n",
              "          element.appendChild(docLink);\n",
              "        }\n",
              "      </script>\n",
              "    </div>\n",
              "  </div>\n",
              "  "
            ]
          },
          "metadata": {},
          "execution_count": 27
        }
      ]
    },
    {
      "cell_type": "code",
      "source": [
        "# Print first sentence\n",
        "test_sentence = data.loc[1]\n",
        "for index, row in test_sentence.iterrows():\n",
        "  print(row[\"Word\"],\"->\",row[\"Tag\"])"
      ],
      "metadata": {
        "id": "f2VArX9IrDiv",
        "colab": {
          "base_uri": "https://localhost:8080/"
        },
        "outputId": "179a0fea-be25-4b43-fecf-b885500f90c0"
      },
      "execution_count": 28,
      "outputs": [
        {
          "output_type": "stream",
          "name": "stdout",
          "text": [
            "248 -> 16\n",
            "3 -> 16\n",
            "859 -> 16\n",
            "14 -> 16\n",
            "1501 -> 16\n",
            "238 -> 16\n",
            "472 -> 2\n",
            "5 -> 16\n",
            "490 -> 16\n",
            "1 -> 16\n",
            "124 -> 16\n",
            "2 -> 16\n",
            "57 -> 2\n",
            "6 -> 16\n",
            "590 -> 16\n",
            "1 -> 16\n",
            "812 -> 16\n",
            "3 -> 16\n",
            "178 -> 3\n",
            "85 -> 16\n",
            "21 -> 16\n",
            "12 -> 16\n",
            "50 -> 16\n"
          ]
        }
      ]
    },
    {
      "cell_type": "code",
      "source": [
        "# Prepare training data by building the sentences from each word \n",
        "IDs = data.index.unique()\n",
        "\n",
        "sentences = []\n",
        "tags = []\n",
        "Ns = []\n",
        "for i in IDs: # For each id for the sentence\n",
        "    sel = data.loc[i] # We extract the respective data\n",
        "    if len(sel.shape)<2: # If the data is not formatted properly\n",
        "        continue # Ommit that id\n",
        "        \n",
        "    sentence = sel.Word.values # A sentence is a list of tokens\n",
        "    tag = sel['Tag'].values # The tags correspond to each token\n",
        "    \n",
        "    sentences.append(sentence)  # We store the sentences in a list\n",
        "    tags.append(tag)            # We do the same with the tags\n",
        "    Ns.append(sentence.shape[0])# And store the length of the sentence\n",
        "    \n",
        "# We transform everything into np arrays    \n",
        "Ns = np.array(Ns)\n",
        "sentences = np.array(sentences, dtype=object)\n",
        "tags = np.array(tags, dtype=object)    \n",
        "\n",
        "# To speed up calculations, we filter by sequence length\n",
        "# We do not care much of long sentences.\n",
        "b1 = Ns>15\n",
        "b2 = Ns<30\n",
        "b = np.logical_and(b1, b2)\n",
        "\n",
        "# We filter the training set\n",
        "Ns = Ns[b]\n",
        "sentences = sentences[b]\n",
        "tags = tags[b]\n",
        "\n",
        "# For simplicity, we create a padded array beforehand\n",
        "sentences = tf.keras.preprocessing.sequence.pad_sequences(sentences, padding='post')\n",
        "tags = tf.keras.preprocessing.sequence.pad_sequences(tags, padding='post')\n",
        "\n",
        "print(\"Shape:\",sentences.shape)"
      ],
      "metadata": {
        "id": "POq19OMarZ8D",
        "colab": {
          "base_uri": "https://localhost:8080/"
        },
        "outputId": "5fd15498-8f26-4858-ee39-af4f3d1d5de3"
      },
      "execution_count": 29,
      "outputs": [
        {
          "output_type": "stream",
          "name": "stdout",
          "text": [
            "Shape: (26521, 28)\n"
          ]
        }
      ]
    },
    {
      "cell_type": "code",
      "source": [
        "# View some data\n",
        "for idx in range(3):\n",
        "  print(\"Input\",len(sentences[idx]), sentences[idx])\n",
        "  print(\"Output\",len(tags[idx]),tags[idx])\n",
        "  print(\"*************\")"
      ],
      "metadata": {
        "id": "yJDFIxrnuapb",
        "colab": {
          "base_uri": "https://localhost:8080/"
        },
        "outputId": "5d55ae29-fe14-498e-b22a-2a46f2ac90bc"
      },
      "execution_count": 30,
      "outputs": [
        {
          "output_type": "stream",
          "name": "stdout",
          "text": [
            "Input 28 [ 248    3  859   14 1501  238  472    5  490    1  124    2   57    6\n",
            "  590    1  812    3  178   85   21   12   50    0    0    0    0    0]\n",
            "Output 28 [16 16 16 16 16 16  2 16 16 16 16 16  2 16 16 16 16 16  3 16 16 16 16  0\n",
            "  0  0  0  0]\n",
            "*************\n",
            "Input 28 [    1   490   532    10     1  1928     3     1  1079   460     3   403\n",
            "     7   487   831   139     2     1   125  2429  8837  1453     3 13911\n",
            "     0     0     0     0]\n",
            "Output 28 [16 16 16 16 16 16 16 16 16 16 16  2 16 16  5 13 16 16 16  3 16 16 16  2\n",
            "  0  0  0  0]\n",
            "*************\n",
            "Input 28 [   1  139   11 1749   84  403    7 3158    2    1   57  609    6    1\n",
            "  718 2100    3  528  178   85    2   12   50    0    0    0    0    0]\n",
            "Output 28 [16 16 16 16 16  3 16 16 16 16  2 16 16 16 16 16 16 16  3 16 16 16 16  0\n",
            "  0  0  0  0]\n",
            "*************\n"
          ]
        }
      ]
    },
    {
      "cell_type": "markdown",
      "source": [
        "We split data into train and validation by randomly selecting 20% as the validation set."
      ],
      "metadata": {
        "id": "pDenaWeyu1k-"
      }
    },
    {
      "cell_type": "code",
      "source": [
        "# Split data\n",
        "validation_percent = 0.20\n",
        "\n",
        "# Split data into train / validate\n",
        "train_x, validate_x, train_y, validate_y = train_test_split(sentences, tags, test_size=validation_percent)\n",
        "\n",
        "print(\"train_x count:\",len(train_x))\n",
        "print(\"validate_x count:\",len(validate_x))"
      ],
      "metadata": {
        "id": "6tlYFFCpu1k_",
        "colab": {
          "base_uri": "https://localhost:8080/"
        },
        "outputId": "7fc95629-e467-4734-eddb-f9e082593214"
      },
      "execution_count": 31,
      "outputs": [
        {
          "output_type": "stream",
          "name": "stdout",
          "text": [
            "train_x count: 21216\n",
            "validate_x count: 5305\n"
          ]
        }
      ]
    },
    {
      "cell_type": "code",
      "source": [
        "# Number of unique labels\n",
        "num_classes = le.classes_.shape[0] \n",
        "print(\"Number of classes:\", num_classes)\n",
        "\n",
        "vocabulary_size = len(tokenizer.word_counts)\n",
        "print(\"Vocabulary Size:\",vocabulary_size)"
      ],
      "metadata": {
        "id": "Np420ai8KiVF",
        "colab": {
          "base_uri": "https://localhost:8080/"
        },
        "outputId": "eeac6524-f7ff-4bb1-d506-a514aea54bfb"
      },
      "execution_count": 32,
      "outputs": [
        {
          "output_type": "stream",
          "name": "stdout",
          "text": [
            "Number of classes: 17\n",
            "Vocabulary Size: 22817\n"
          ]
        }
      ]
    },
    {
      "cell_type": "markdown",
      "source": [
        "### **Single Layer RNN**"
      ],
      "metadata": {
        "id": "HcDMizUpvpAS"
      }
    },
    {
      "cell_type": "markdown",
      "source": [
        "**Build Model**\n",
        "\n",
        "Define a model, which will be many to many.\n",
        "\n",
        "* The first layer should be Embedding, with _mask_zero_ set to True. This will propagate the mask in the network.\n",
        "* Then, a SimpleRNN layer. We set here the number of hidden units. Remember to return the sequence of hidden states.\n",
        "* We will define a Dense layer, with size set as the number of classes and activation softmax. "
      ],
      "metadata": {
        "id": "jFp79PR2vtWD"
      }
    },
    {
      "cell_type": "code",
      "source": [
        "def build_single_rnn(num_classes,vocab_size,embedding_dim):\n",
        "  # Model input\n",
        "  model_input = tf.keras.Input(shape=(None,), name='sentence_input')\n",
        "\n",
        "  # Embedding\n",
        "  hidden = tf.keras.layers.Embedding(input_dim=vocab_size+1, output_dim=embedding_dim, \n",
        "                        name='word_embedding', mask_zero=True)(model_input)\n",
        "\n",
        "  # Forward RNN layer\n",
        "  hidden = tf.keras.layers.SimpleRNN(units=embedding_dim, return_sequences=True)(hidden)\n",
        "\n",
        "  # Output Layer\n",
        "  output = tf.keras.layers.Dense(units=num_classes, activation='softmax')(hidden)\n",
        "\n",
        "  # Create model\n",
        "  model = tf.keras.Model(inputs=model_input, outputs=output, name=\"single_rnn\")\n",
        "\n",
        "  return model"
      ],
      "metadata": {
        "id": "8GCkLWj8rjA5"
      },
      "execution_count": null,
      "outputs": []
    },
    {
      "cell_type": "markdown",
      "source": [
        "**Train**"
      ],
      "metadata": {
        "id": "tyoHmIR0GBax"
      }
    },
    {
      "cell_type": "code",
      "source": [
        "############################\n",
        "# Training Params\n",
        "############################\n",
        "learning_rate = 0.001\n",
        "epochs = 20\n",
        "embedding_dim = 8\n",
        "\n",
        "# Free up memory\n",
        "K.clear_session()\n",
        "\n",
        "# Build the model\n",
        "model = build_single_rnn(num_classes,vocabulary_size, embedding_dim)\n",
        "\n",
        "# Print the model architecture\n",
        "print(model.summary())\n",
        "\n",
        "# Optimizer\n",
        "optimizer = tf.keras.optimizers.Adam(learning_rate=learning_rate)\n",
        "# Loss\n",
        "loss = tf.keras.losses.sparse_categorical_crossentropy\n",
        "\n",
        "# Compile\n",
        "model.compile(loss=loss,\n",
        "                  optimizer=optimizer,\n",
        "                  metrics=['accuracy'])\n",
        "\n",
        "# Train model\n",
        "start_time = time.time()\n",
        "training_results = model.fit(\n",
        "        train_x,train_y,\n",
        "        validation_data= (validate_x,validate_y),\n",
        "        batch_size=1024,\n",
        "        epochs=epochs, \n",
        "        verbose=1)\n",
        "execution_time = (time.time() - start_time)/60.0\n",
        "print(\"Training execution time (mins)\",execution_time)"
      ],
      "metadata": {
        "id": "T0kZBsE_Fhgp",
        "colab": {
          "base_uri": "https://localhost:8080/"
        },
        "outputId": "60bbc73f-d3b6-44ff-c134-3fb7b5a9eeeb"
      },
      "execution_count": null,
      "outputs": [
        {
          "output_type": "stream",
          "name": "stdout",
          "text": [
            "Model: \"single_rnn\"\n",
            "_________________________________________________________________\n",
            " Layer (type)                Output Shape              Param #   \n",
            "=================================================================\n",
            " sentence_input (InputLayer)  [(None, None)]           0         \n",
            "                                                                 \n",
            " word_embedding (Embedding)  (None, None, 8)           182544    \n",
            "                                                                 \n",
            " simple_rnn (SimpleRNN)      (None, None, 8)           136       \n",
            "                                                                 \n",
            " dense (Dense)               (None, None, 17)          153       \n",
            "                                                                 \n",
            "=================================================================\n",
            "Total params: 182,833\n",
            "Trainable params: 182,833\n",
            "Non-trainable params: 0\n",
            "_________________________________________________________________\n",
            "None\n",
            "Epoch 1/20\n",
            "21/21 [==============================] - 5s 56ms/step - loss: 1.9621 - accuracy: 0.5501 - val_loss: 1.7625 - val_accuracy: 0.8303\n",
            "Epoch 2/20\n",
            "21/21 [==============================] - 1s 33ms/step - loss: 1.6059 - accuracy: 0.8308 - val_loss: 1.4468 - val_accuracy: 0.8313\n",
            "Epoch 3/20\n",
            "21/21 [==============================] - 1s 36ms/step - loss: 1.3385 - accuracy: 0.8309 - val_loss: 1.2267 - val_accuracy: 0.8313\n",
            "Epoch 4/20\n",
            "21/21 [==============================] - 1s 35ms/step - loss: 1.1439 - accuracy: 0.8309 - val_loss: 1.0561 - val_accuracy: 0.8313\n",
            "Epoch 5/20\n",
            "21/21 [==============================] - 1s 35ms/step - loss: 0.9915 - accuracy: 0.8309 - val_loss: 0.9239 - val_accuracy: 0.8313\n",
            "Epoch 6/20\n",
            "21/21 [==============================] - 1s 35ms/step - loss: 0.8775 - accuracy: 0.8309 - val_loss: 0.8295 - val_accuracy: 0.8313\n",
            "Epoch 7/20\n",
            "21/21 [==============================] - 1s 34ms/step - loss: 0.7989 - accuracy: 0.8309 - val_loss: 0.7671 - val_accuracy: 0.8313\n",
            "Epoch 8/20\n",
            "21/21 [==============================] - 1s 35ms/step - loss: 0.7472 - accuracy: 0.8309 - val_loss: 0.7257 - val_accuracy: 0.8314\n",
            "Epoch 9/20\n",
            "21/21 [==============================] - 1s 36ms/step - loss: 0.7121 - accuracy: 0.8311 - val_loss: 0.6969 - val_accuracy: 0.8316\n",
            "Epoch 10/20\n",
            "21/21 [==============================] - 1s 34ms/step - loss: 0.6867 - accuracy: 0.8313 - val_loss: 0.6750 - val_accuracy: 0.8317\n",
            "Epoch 11/20\n",
            "21/21 [==============================] - 1s 37ms/step - loss: 0.6665 - accuracy: 0.8313 - val_loss: 0.6567 - val_accuracy: 0.8317\n",
            "Epoch 12/20\n",
            "21/21 [==============================] - 1s 36ms/step - loss: 0.6490 - accuracy: 0.8314 - val_loss: 0.6403 - val_accuracy: 0.8317\n",
            "Epoch 13/20\n",
            "21/21 [==============================] - 1s 34ms/step - loss: 0.6325 - accuracy: 0.8313 - val_loss: 0.6245 - val_accuracy: 0.8316\n",
            "Epoch 14/20\n",
            "21/21 [==============================] - 1s 35ms/step - loss: 0.6159 - accuracy: 0.8313 - val_loss: 0.6083 - val_accuracy: 0.8317\n",
            "Epoch 15/20\n",
            "21/21 [==============================] - 1s 34ms/step - loss: 0.5985 - accuracy: 0.8318 - val_loss: 0.5909 - val_accuracy: 0.8323\n",
            "Epoch 16/20\n",
            "21/21 [==============================] - 1s 37ms/step - loss: 0.5798 - accuracy: 0.8322 - val_loss: 0.5725 - val_accuracy: 0.8324\n",
            "Epoch 17/20\n",
            "21/21 [==============================] - 1s 35ms/step - loss: 0.5599 - accuracy: 0.8324 - val_loss: 0.5530 - val_accuracy: 0.8326\n",
            "Epoch 18/20\n",
            "21/21 [==============================] - 1s 34ms/step - loss: 0.5390 - accuracy: 0.8328 - val_loss: 0.5329 - val_accuracy: 0.8337\n",
            "Epoch 19/20\n",
            "21/21 [==============================] - 1s 34ms/step - loss: 0.5177 - accuracy: 0.8364 - val_loss: 0.5125 - val_accuracy: 0.8401\n",
            "Epoch 20/20\n",
            "21/21 [==============================] - 1s 37ms/step - loss: 0.4965 - accuracy: 0.8435 - val_loss: 0.4926 - val_accuracy: 0.8446\n",
            "Training execution time (mins) 0.3166996995608012\n"
          ]
        }
      ]
    },
    {
      "cell_type": "code",
      "source": [
        "# Plot training results\n",
        "fig = plt.figure(figsize=(20,5))\n",
        "axs = fig.add_subplot(1,3,1)\n",
        "axs.set_title('Loss')\n",
        "# Plot all metrics\n",
        "for metric in [\"loss\",\"val_loss\"]:\n",
        "    axs.plot(np.arange(0, epochs), training_results.history[metric], label=metric)\n",
        "axs.legend()\n",
        "\n",
        "axs = fig.add_subplot(1,3,2)\n",
        "axs.set_title('Accuracy')\n",
        "# Plot all metrics\n",
        "for metric in [\"accuracy\",\"val_accuracy\"]:\n",
        "    axs.plot(np.arange(0, epochs), training_results.history[metric], label=metric)\n",
        "axs.legend()\n",
        "\n",
        "plt.show()"
      ],
      "metadata": {
        "id": "5yHNyWgFFhjJ",
        "colab": {
          "base_uri": "https://localhost:8080/",
          "height": 336
        },
        "outputId": "dcd29707-0e03-4106-cbe6-20f5c2a97535"
      },
      "execution_count": null,
      "outputs": [
        {
          "output_type": "display_data",
          "data": {
            "text/plain": [
              "<Figure size 1440x360 with 2 Axes>"
            ],
            "image/png": "[encoded data removed]"
          },
          "metadata": {
            "needs_background": "light"
          }
        }
      ]
    },
    {
      "cell_type": "markdown",
      "source": [
        "### **Various Models Architectures 🎊🎉**\n",
        "\n",
        "### **<font color='red'>Activity</font> 🎊🎉** \n",
        "\n",
        "\n",
        "**Create the following architectures:**\n",
        "\n",
        "Create a function to build different RNN architectures. For simplicity, use the SimpleRNN.\n",
        "\n",
        "* Create a single-layer RNN network \n",
        "* Create a k-layer RNN network, where k=[2,3]. \n",
        "* Create a bidirectional single-layer RNN.  \n",
        "* Create a bidirectional k-layer RNN, where k=[2,3]. "
      ],
      "metadata": {
        "id": "bCSwNl-eLQdK"
      }
    },
    {
      "cell_type": "code",
      "source": [
        "# Create a function for all model options\n",
        "def build_model(num_classes,vocab_size,embedding_dim,rnn_layers,bidir):\n",
        "  # Model input\n",
        "  model_input = tf.keras.Input(shape=(None,), name='sentence_input')\n",
        "\n",
        "  # Embedding\n",
        "  hidden = tf.keras.layers.Embedding(input_dim=vocab_size+1, output_dim=embedding_dim, \n",
        "                        name='word_embedding', mask_zero=True)(model_input)\n",
        "\n",
        "  # Create RNNs\n",
        "  hidden_forward = []\n",
        "  hidden_backward = []\n",
        "  for k in range(rnn_layers):\n",
        "    # Forward RNN layer\n",
        "    hidden = tf.keras.layers.SimpleRNN(units=embedding_dim, return_sequences=True)(hidden)\n",
        "    hidden_forward.append(hidden)\n",
        "\n",
        "    # Backward RNN layer\n",
        "    if bidir:\n",
        "      hidden_b = tf.keras.layers.SimpleRNN(units=embedding_dim, return_sequences=True, go_backwards=True)(hidden)\n",
        "      hidden_backward.append(hidden_b)\n",
        "  \n",
        "  if bidir:\n",
        "      hidden = tf.keras.layers.concatenate(hidden_forward+hidden_backward)\n",
        "  else:\n",
        "      if rnn_layers==1:\n",
        "          hidden = hidden_forward[0]\n",
        "      else:\n",
        "          hidden = tf.keras.layers.concatenate(hidden_forward)\n",
        "\n",
        "  # Output Layer\n",
        "  output = tf.keras.layers.Dense(units=num_classes, activation='softmax')(hidden)\n",
        "\n",
        "  # Create model\n",
        "  model = tf.keras.Model(inputs=model_input, outputs=output, name='_'.join([str(embedding_dim), str(rnn_layer),str(bidir)]))\n",
        "\n",
        "  return model"
      ],
      "metadata": {
        "id": "nU0JzCXhFhlz"
      },
      "execution_count": null,
      "outputs": []
    },
    {
      "cell_type": "markdown",
      "source": [
        "**Solution**"
      ],
      "metadata": {
        "id": "oPeZYx5t-GBj"
      }
    },
    {
      "cell_type": "code",
      "source": [
        "display_solution(\"https://storage.googleapis.com/public-code-snippets/cs109b_lab9_activity1.txt\")"
      ],
      "metadata": {
        "id": "XH4PPLoMAXpc",
        "colab": {
          "base_uri": "https://localhost:8080/"
        },
        "outputId": "b4178447-4399-4c5b-ac3a-08c93c5a9b29"
      },
      "execution_count": null,
      "outputs": [
        {
          "output_type": "stream",
          "name": "stdout",
          "text": [
            "# Create a function for all model options\n",
            "def build_model(num_classes,vocab_size,embedding_dim,rnn_layers,bidir):\n",
            "  # Model input\n",
            "  model_input = tf.keras.Input(shape=(None,), name='sentence_input')\n",
            "\n",
            "  # Embedding\n",
            "  hidden = tf.keras.layers.Embedding(input_dim=vocab_size+1, output_dim=embedding_dim, \n",
            "                        name='word_embedding', mask_zero=True)(model_input)\n",
            "\n",
            "  # Create RNNs\n",
            "  hidden_forward = []\n",
            "  hidden_backward = []\n",
            "  for k in range(rnn_layers):\n",
            "    # Forward RNN layer\n",
            "    hidden = tf.keras.layers.SimpleRNN(units=embedding_dim, return_sequences=True)(hidden)\n",
            "    hidden_forward.append(hidden)\n",
            "\n",
            "    # Backward RNN layer\n",
            "    if bidir:\n",
            "      hidden_b = tf.keras.layers.SimpleRNN(units=embedding_dim, return_sequences=True, go_backwards=True)(hidden)\n",
            "      hidden_backward.append(hidden_b)\n",
            "  \n",
            "  if bidir:\n",
            "      hidden = tf.keras.layers.concatenate(hidden_forward+hidden_backward)\n",
            "  else:\n",
            "      if rnn_layers==1:\n",
            "          hidden = hidden_forward[0]\n",
            "      else:\n",
            "          hidden = tf.keras.layers.concatenate(hidden_forward)\n",
            "\n",
            "  # Output Layer\n",
            "  output = tf.keras.layers.Dense(units=num_classes, activation='softmax')(hidden)\n",
            "\n",
            "  # Create model\n",
            "  model = tf.keras.Model(inputs=model_input, outputs=output, name='_'.join([str(embedding_dim), str(rnn_layer),str(bidir)]))\n",
            "\n",
            "  return model\n"
          ]
        }
      ]
    },
    {
      "cell_type": "markdown",
      "source": [
        "Run each model experiment with the following training parameters"
      ],
      "metadata": {
        "id": "19N4Gj-hsQuH"
      }
    },
    {
      "cell_type": "code",
      "source": [
        "############################\n",
        "# Training Params\n",
        "############################\n",
        "learning_rate=0.001\n",
        "epochs = 20\n",
        "embedding_dim = [32,64] # [8,32,64]\n",
        "num_rnn_layers = [1,2] # [2,3]\n",
        "\n",
        "all_training_results = []\n",
        "\n",
        "for e_dim in embedding_dim:\n",
        "  for rnn_layer in num_rnn_layers:\n",
        "    for bidir in [False,True]:\n",
        "      # Free up memory\n",
        "      K.clear_session()\n",
        "\n",
        "      # Build the model\n",
        "      model = build_model(num_classes,vocabulary_size, e_dim, rnn_layer, bidir)\n",
        "\n",
        "      # Print the model architecture\n",
        "      print(model.name)\n",
        "      #print(model.summary())\n",
        "\n",
        "      # Optimizer\n",
        "      optimizer = tf.keras.optimizers.Adam(learning_rate=learning_rate)\n",
        "      # Loss\n",
        "      loss = tf.keras.losses.sparse_categorical_crossentropy\n",
        "\n",
        "      # Compile\n",
        "      model.compile(loss=loss,\n",
        "                        optimizer=optimizer,\n",
        "                        metrics=['accuracy'])\n",
        "\n",
        "      # Train model\n",
        "      start_time = time.time()\n",
        "      training_results = model.fit(\n",
        "              train_x,train_y,\n",
        "              validation_data= (validate_x,validate_y),\n",
        "              batch_size=1024,\n",
        "              epochs=epochs, \n",
        "              verbose=0)\n",
        "      all_training_results.append(training_results)\n",
        "      execution_time = (time.time() - start_time)/60.0\n",
        "      print(\"Training execution time (mins)\",execution_time)"
      ],
      "metadata": {
        "id": "0hjCX7vMLqoF",
        "colab": {
          "base_uri": "https://localhost:8080/",
          "height": 416
        },
        "outputId": "d87e19f7-6f46-4820-ddc9-1e898bacaed8"
      },
      "execution_count": null,
      "outputs": [
        {
          "output_type": "stream",
          "name": "stdout",
          "text": [
            "32_1_False\n",
            "Training execution time (mins) 0.28096869389216106\n"
          ]
        },
        {
          "output_type": "error",
          "ename": "ValueError",
          "evalue": "ignored",
          "traceback": [
            "\u001b[0;31m---------------------------------------------------------------------------\u001b[0m",
            "\u001b[0;31mValueError\u001b[0m                                Traceback (most recent call last)",
            "\u001b[0;32m<ipython-input-38-3aaaaf562845>\u001b[0m in \u001b[0;36m<module>\u001b[0;34m()\u001b[0m\n\u001b[1;32m     16\u001b[0m \u001b[0;34m\u001b[0m\u001b[0m\n\u001b[1;32m     17\u001b[0m       \u001b[0;31m# Build the model\u001b[0m\u001b[0;34m\u001b[0m\u001b[0;34m\u001b[0m\u001b[0;34m\u001b[0m\u001b[0m\n\u001b[0;32m---> 18\u001b[0;31m       \u001b[0mmodel\u001b[0m \u001b[0;34m=\u001b[0m \u001b[0mbuild_model\u001b[0m\u001b[0;34m(\u001b[0m\u001b[0mnum_classes\u001b[0m\u001b[0;34m,\u001b[0m\u001b[0mvocabulary_size\u001b[0m\u001b[0;34m,\u001b[0m \u001b[0me_dim\u001b[0m\u001b[0;34m,\u001b[0m \u001b[0mrnn_layer\u001b[0m\u001b[0;34m,\u001b[0m \u001b[0mbidir\u001b[0m\u001b[0;34m)\u001b[0m\u001b[0;34m\u001b[0m\u001b[0;34m\u001b[0m\u001b[0m\n\u001b[0m\u001b[1;32m     19\u001b[0m \u001b[0;34m\u001b[0m\u001b[0m\n\u001b[1;32m     20\u001b[0m       \u001b[0;31m# Print the model architecture\u001b[0m\u001b[0;34m\u001b[0m\u001b[0;34m\u001b[0m\u001b[0;34m\u001b[0m\u001b[0m\n",
            "\u001b[0;32m<ipython-input-37-8c2342627a4b>\u001b[0m in \u001b[0;36mbuild_model\u001b[0;34m(num_classes, vocab_size, embedding_dim, rnn_layers, bidir)\u001b[0m\n\u001b[1;32m     24\u001b[0m   \u001b[0;32mif\u001b[0m \u001b[0mbidir\u001b[0m\u001b[0;34m:\u001b[0m\u001b[0;34m\u001b[0m\u001b[0;34m\u001b[0m\u001b[0m\n\u001b[1;32m     25\u001b[0m       \u001b[0;31m# If bi directional concatenate hidden_forward and hidden_backward\u001b[0m\u001b[0;34m\u001b[0m\u001b[0;34m\u001b[0m\u001b[0;34m\u001b[0m\u001b[0m\n\u001b[0;32m---> 26\u001b[0;31m       \u001b[0mhidden\u001b[0m \u001b[0;34m=\u001b[0m \u001b[0mtf\u001b[0m\u001b[0;34m.\u001b[0m\u001b[0mkeras\u001b[0m\u001b[0;34m.\u001b[0m\u001b[0mlayers\u001b[0m\u001b[0;34m.\u001b[0m\u001b[0mconcatenate\u001b[0m\u001b[0;34m(\u001b[0m\u001b[0;34m[\u001b[0m\u001b[0mhidden_forward\u001b[0m\u001b[0;34m,\u001b[0m\u001b[0mhidden_backward\u001b[0m\u001b[0;34m]\u001b[0m\u001b[0;34m)\u001b[0m\u001b[0;34m\u001b[0m\u001b[0;34m\u001b[0m\u001b[0m\n\u001b[0m\u001b[1;32m     27\u001b[0m   \u001b[0;32melse\u001b[0m\u001b[0;34m:\u001b[0m\u001b[0;34m\u001b[0m\u001b[0;34m\u001b[0m\u001b[0m\n\u001b[1;32m     28\u001b[0m       \u001b[0;32mif\u001b[0m \u001b[0mrnn_layers\u001b[0m\u001b[0;34m==\u001b[0m\u001b[0;36m1\u001b[0m\u001b[0;34m:\u001b[0m\u001b[0;34m\u001b[0m\u001b[0;34m\u001b[0m\u001b[0m\n",
            "\u001b[0;32m/usr/local/lib/python3.7/dist-packages/keras/layers/merge.py\u001b[0m in \u001b[0;36mconcatenate\u001b[0;34m(inputs, axis, **kwargs)\u001b[0m\n\u001b[1;32m    966\u001b[0m       \u001b[0mA\u001b[0m \u001b[0mtensor\u001b[0m\u001b[0;34m,\u001b[0m \u001b[0mthe\u001b[0m \u001b[0mconcatenation\u001b[0m \u001b[0mof\u001b[0m \u001b[0mthe\u001b[0m \u001b[0minputs\u001b[0m \u001b[0malongside\u001b[0m \u001b[0maxis\u001b[0m\u001b[0;31m \u001b[0m\u001b[0;31m`\u001b[0m\u001b[0maxis\u001b[0m\u001b[0;31m`\u001b[0m\u001b[0;34m.\u001b[0m\u001b[0;34m\u001b[0m\u001b[0;34m\u001b[0m\u001b[0m\n\u001b[1;32m    967\u001b[0m   \"\"\"\n\u001b[0;32m--> 968\u001b[0;31m   \u001b[0;32mreturn\u001b[0m \u001b[0mConcatenate\u001b[0m\u001b[0;34m(\u001b[0m\u001b[0maxis\u001b[0m\u001b[0;34m=\u001b[0m\u001b[0maxis\u001b[0m\u001b[0;34m,\u001b[0m \u001b[0;34m**\u001b[0m\u001b[0mkwargs\u001b[0m\u001b[0;34m)\u001b[0m\u001b[0;34m(\u001b[0m\u001b[0minputs\u001b[0m\u001b[0;34m)\u001b[0m\u001b[0;34m\u001b[0m\u001b[0;34m\u001b[0m\u001b[0m\n\u001b[0m\u001b[1;32m    969\u001b[0m \u001b[0;34m\u001b[0m\u001b[0m\n\u001b[1;32m    970\u001b[0m \u001b[0;34m\u001b[0m\u001b[0m\n",
            "\u001b[0;32m/usr/local/lib/python3.7/dist-packages/keras/utils/traceback_utils.py\u001b[0m in \u001b[0;36merror_handler\u001b[0;34m(*args, **kwargs)\u001b[0m\n\u001b[1;32m     65\u001b[0m     \u001b[0;32mexcept\u001b[0m \u001b[0mException\u001b[0m \u001b[0;32mas\u001b[0m \u001b[0me\u001b[0m\u001b[0;34m:\u001b[0m  \u001b[0;31m# pylint: disable=broad-except\u001b[0m\u001b[0;34m\u001b[0m\u001b[0;34m\u001b[0m\u001b[0m\n\u001b[1;32m     66\u001b[0m       \u001b[0mfiltered_tb\u001b[0m \u001b[0;34m=\u001b[0m \u001b[0m_process_traceback_frames\u001b[0m\u001b[0;34m(\u001b[0m\u001b[0me\u001b[0m\u001b[0;34m.\u001b[0m\u001b[0m__traceback__\u001b[0m\u001b[0;34m)\u001b[0m\u001b[0;34m\u001b[0m\u001b[0;34m\u001b[0m\u001b[0m\n\u001b[0;32m---> 67\u001b[0;31m       \u001b[0;32mraise\u001b[0m \u001b[0me\u001b[0m\u001b[0;34m.\u001b[0m\u001b[0mwith_traceback\u001b[0m\u001b[0;34m(\u001b[0m\u001b[0mfiltered_tb\u001b[0m\u001b[0;34m)\u001b[0m \u001b[0;32mfrom\u001b[0m \u001b[0;32mNone\u001b[0m\u001b[0;34m\u001b[0m\u001b[0;34m\u001b[0m\u001b[0m\n\u001b[0m\u001b[1;32m     68\u001b[0m     \u001b[0;32mfinally\u001b[0m\u001b[0;34m:\u001b[0m\u001b[0;34m\u001b[0m\u001b[0;34m\u001b[0m\u001b[0m\n\u001b[1;32m     69\u001b[0m       \u001b[0;32mdel\u001b[0m \u001b[0mfiltered_tb\u001b[0m\u001b[0;34m\u001b[0m\u001b[0;34m\u001b[0m\u001b[0m\n",
            "\u001b[0;32m/usr/local/lib/python3.7/dist-packages/keras/layers/merge.py\u001b[0m in \u001b[0;36mbuild\u001b[0;34m(self, input_shape)\u001b[0m\n\u001b[1;32m    500\u001b[0m     \u001b[0;32mif\u001b[0m \u001b[0;32mnot\u001b[0m \u001b[0misinstance\u001b[0m\u001b[0;34m(\u001b[0m\u001b[0minput_shape\u001b[0m\u001b[0;34m[\u001b[0m\u001b[0;36m0\u001b[0m\u001b[0;34m]\u001b[0m\u001b[0;34m,\u001b[0m \u001b[0mtuple\u001b[0m\u001b[0;34m)\u001b[0m \u001b[0;32mor\u001b[0m \u001b[0mlen\u001b[0m\u001b[0;34m(\u001b[0m\u001b[0minput_shape\u001b[0m\u001b[0;34m)\u001b[0m \u001b[0;34m<\u001b[0m \u001b[0;36m1\u001b[0m\u001b[0;34m:\u001b[0m\u001b[0;34m\u001b[0m\u001b[0;34m\u001b[0m\u001b[0m\n\u001b[1;32m    501\u001b[0m       raise ValueError(\n\u001b[0;32m--> 502\u001b[0;31m           \u001b[0;34m'A `Concatenate` layer should be called on a list of '\u001b[0m\u001b[0;34m\u001b[0m\u001b[0;34m\u001b[0m\u001b[0m\n\u001b[0m\u001b[1;32m    503\u001b[0m           f'at least 1 input. Received: input_shape={input_shape}')\n\u001b[1;32m    504\u001b[0m     \u001b[0;32mif\u001b[0m \u001b[0mall\u001b[0m\u001b[0;34m(\u001b[0m\u001b[0mshape\u001b[0m \u001b[0;32mis\u001b[0m \u001b[0;32mNone\u001b[0m \u001b[0;32mfor\u001b[0m \u001b[0mshape\u001b[0m \u001b[0;32min\u001b[0m \u001b[0minput_shape\u001b[0m\u001b[0;34m)\u001b[0m\u001b[0;34m:\u001b[0m\u001b[0;34m\u001b[0m\u001b[0;34m\u001b[0m\u001b[0m\n",
            "\u001b[0;31mValueError\u001b[0m: A `Concatenate` layer should be called on a list of at least 1 input. Received: input_shape=[[(None, None, 32)], [(None, None, 32)]]"
          ]
        }
      ]
    },
    {
      "cell_type": "markdown",
      "source": [
        "**Evaluate Models**"
      ],
      "metadata": {
        "id": "QBWEEPyqM4-k"
      }
    },
    {
      "cell_type": "code",
      "source": [
        "# plot the results\n",
        "plt.figure(figsize=(15,10))\n",
        "for training_results in all_training_results:\n",
        "    plt.plot(training_results.history['val_loss'], label=training_results.model.name)\n",
        "plt.legend(loc=0)\n",
        "plt.yscale('log')\n",
        "plt.xlabel('Epoch')\n",
        "plt.ylabel('Loss')\n",
        "plt.show()"
      ],
      "metadata": {
        "id": "6vApdka6Lqxl"
      },
      "execution_count": null,
      "outputs": []
    },
    {
      "cell_type": "code",
      "source": [
        "plt.figure(figsize=(15,10))\n",
        "for training_results in all_training_results:\n",
        "    plt.plot(training_results.history['val_accuracy'], label=training_results.model.name)\n",
        "plt.legend(loc=0)\n",
        "plt.ylim(0.8,1)\n",
        "plt.xlabel('Epoch')\n",
        "plt.ylabel('Accuracy')\n",
        "plt.show()"
      ],
      "metadata": {
        "id": "BaoZz3haM9Wp"
      },
      "execution_count": null,
      "outputs": []
    },
    {
      "cell_type": "markdown",
      "source": [
        "Which model is performing well?"
      ],
      "metadata": {
        "id": "MRkMqGepskvs"
      }
    },
    {
      "cell_type": "markdown",
      "source": [
        "## **LSTMs**"
      ],
      "metadata": {
        "id": "5wT9IIKMZJlB"
      }
    },
    {
      "cell_type": "markdown",
      "source": [
        "### **Load the data**"
      ],
      "metadata": {
        "id": "xOQxeAfeZbuc"
      }
    },
    {
      "cell_type": "code",
      "source": [
        "# Read the data\n",
        "file_path = \"https://storage.googleapis.com/cs109b/nlp/imdb.csv\"\n",
        "data = pd.read_csv(file_path, encoding='latin1')\n",
        "print(\"Shape:\",data.shape)\n",
        "data.head()"
      ],
      "metadata": {
        "id": "u6d1jPy3Zbuc",
        "colab": {
          "base_uri": "https://localhost:8080/",
          "height": 224
        },
        "outputId": "6e89f0a8-457c-45c1-9747-83e3aceacbab"
      },
      "execution_count": null,
      "outputs": [
        {
          "output_type": "stream",
          "name": "stdout",
          "text": [
            "Shape: (10000, 2)\n"
          ]
        },
        {
          "output_type": "execute_result",
          "data": {
            "text/plain": [
              "                                                text  polarity\n",
              "0  first think another Disney movie, might good, ...         1\n",
              "1  Put aside Dr. House repeat missed, Desperate H...         0\n",
              "2  big fan Stephen King's work, film made even gr...         1\n",
              "3  watched horrid thing TV. Needless say one movi...         0\n",
              "4  truly enjoyed film. acting terrific plot. Jeff...         1"
            ],
            "text/html": [
              "\n",
              "  <div id=\"df-d10295a1-bae7-4763-ba12-dbfeb46cecd2\">\n",
              "    <div class=\"colab-df-container\">\n",
              "      <div>\n",
              "<style scoped>\n",
              "    .dataframe tbody tr th:only-of-type {\n",
              "        vertical-align: middle;\n",
              "    }\n",
              "\n",
              "    .dataframe tbody tr th {\n",
              "        vertical-align: top;\n",
              "    }\n",
              "\n",
              "    .dataframe thead th {\n",
              "        text-align: right;\n",
              "    }\n",
              "</style>\n",
              "<table border=\"1\" class=\"dataframe\">\n",
              "  <thead>\n",
              "    <tr style=\"text-align: right;\">\n",
              "      <th></th>\n",
              "      <th>text</th>\n",
              "      <th>polarity</th>\n",
              "    </tr>\n",
              "  </thead>\n",
              "  <tbody>\n",
              "    <tr>\n",
              "      <th>0</th>\n",
              "      <td>first think another Disney movie, might good, ...</td>\n",
              "      <td>1</td>\n",
              "    </tr>\n",
              "    <tr>\n",
              "      <th>1</th>\n",
              "      <td>Put aside Dr. House repeat missed, Desperate H...</td>\n",
              "      <td>0</td>\n",
              "    </tr>\n",
              "    <tr>\n",
              "      <th>2</th>\n",
              "      <td>big fan Stephen King's work, film made even gr...</td>\n",
              "      <td>1</td>\n",
              "    </tr>\n",
              "    <tr>\n",
              "      <th>3</th>\n",
              "      <td>watched horrid thing TV. Needless say one movi...</td>\n",
              "      <td>0</td>\n",
              "    </tr>\n",
              "    <tr>\n",
              "      <th>4</th>\n",
              "      <td>truly enjoyed film. acting terrific plot. Jeff...</td>\n",
              "      <td>1</td>\n",
              "    </tr>\n",
              "  </tbody>\n",
              "</table>\n",
              "</div>\n",
              "      <button class=\"colab-df-convert\" onclick=\"convertToInteractive('df-d10295a1-bae7-4763-ba12-dbfeb46cecd2')\"\n",
              "              title=\"Convert this dataframe to an interactive table.\"\n",
              "              style=\"display:none;\">\n",
              "        \n",
              "  <svg xmlns=\"http://www.w3.org/2000/svg\" height=\"24px\"viewBox=\"0 0 24 24\"\n",
              "       width=\"24px\">\n",
              "    <path d=\"M0 0h24v24H0V0z\" fill=\"none\"/>\n",
              "    <path d=\"M18.56 5.44l.94 2.06.94-2.06 2.06-.94-2.06-.94-.94-2.06-.94 2.06-2.06.94zm-11 1L8.5 8.5l.94-2.06 2.06-.94-2.06-.94L8.5 2.5l-.94 2.06-2.06.94zm10 10l.94 2.06.94-2.06 2.06-.94-2.06-.94-.94-2.06-.94 2.06-2.06.94z\"/><path d=\"M17.41 7.96l-1.37-1.37c-.4-.4-.92-.59-1.43-.59-.52 0-1.04.2-1.43.59L10.3 9.45l-7.72 7.72c-.78.78-.78 2.05 0 2.83L4 21.41c.39.39.9.59 1.41.59.51 0 1.02-.2 1.41-.59l7.78-7.78 2.81-2.81c.8-.78.8-2.07 0-2.86zM5.41 20L4 18.59l7.72-7.72 1.47 1.35L5.41 20z\"/>\n",
              "  </svg>\n",
              "      </button>\n",
              "      \n",
              "  <style>\n",
              "    .colab-df-container {\n",
              "      display:flex;\n",
              "      flex-wrap:wrap;\n",
              "      gap: 12px;\n",
              "    }\n",
              "\n",
              "    .colab-df-convert {\n",
              "      background-color: #E8F0FE;\n",
              "      border: none;\n",
              "      border-radius: 50%;\n",
              "      cursor: pointer;\n",
              "      display: none;\n",
              "      fill: #1967D2;\n",
              "      height: 32px;\n",
              "      padding: 0 0 0 0;\n",
              "      width: 32px;\n",
              "    }\n",
              "\n",
              "    .colab-df-convert:hover {\n",
              "      background-color: #E2EBFA;\n",
              "      box-shadow: 0px 1px 2px rgba(60, 64, 67, 0.3), 0px 1px 3px 1px rgba(60, 64, 67, 0.15);\n",
              "      fill: #174EA6;\n",
              "    }\n",
              "\n",
              "    [theme=dark] .colab-df-convert {\n",
              "      background-color: #3B4455;\n",
              "      fill: #D2E3FC;\n",
              "    }\n",
              "\n",
              "    [theme=dark] .colab-df-convert:hover {\n",
              "      background-color: #434B5C;\n",
              "      box-shadow: 0px 1px 3px 1px rgba(0, 0, 0, 0.15);\n",
              "      filter: drop-shadow(0px 1px 2px rgba(0, 0, 0, 0.3));\n",
              "      fill: #FFFFFF;\n",
              "    }\n",
              "  </style>\n",
              "\n",
              "      <script>\n",
              "        const buttonEl =\n",
              "          document.querySelector('#df-d10295a1-bae7-4763-ba12-dbfeb46cecd2 button.colab-df-convert');\n",
              "        buttonEl.style.display =\n",
              "          google.colab.kernel.accessAllowed ? 'block' : 'none';\n",
              "\n",
              "        async function convertToInteractive(key) {\n",
              "          const element = document.querySelector('#df-d10295a1-bae7-4763-ba12-dbfeb46cecd2');\n",
              "          const dataTable =\n",
              "            await google.colab.kernel.invokeFunction('convertToInteractive',\n",
              "                                                     [key], {});\n",
              "          if (!dataTable) return;\n",
              "\n",
              "          const docLinkHtml = 'Like what you see? Visit the ' +\n",
              "            '<a target=\"_blank\" href=https://colab.research.google.com/notebooks/data_table.ipynb>data table notebook</a>'\n",
              "            + ' to learn more about interactive tables.';\n",
              "          element.innerHTML = '';\n",
              "          dataTable['output_type'] = 'display_data';\n",
              "          await google.colab.output.renderOutput(dataTable, element);\n",
              "          const docLink = document.createElement('div');\n",
              "          docLink.innerHTML = docLinkHtml;\n",
              "          element.appendChild(docLink);\n",
              "        }\n",
              "      </script>\n",
              "    </div>\n",
              "  </div>\n",
              "  "
            ]
          },
          "metadata": {},
          "execution_count": 8
        }
      ]
    },
    {
      "cell_type": "code",
      "source": [
        "# Get data x and y\n",
        "data_x = data[\"text\"].values\n",
        "data_y = data[\"polarity\"].values\n",
        "\n",
        "# Number of unique labels\n",
        "num_classes = len(np.unique(data_y))\n",
        "print(\"Number of classes:\", num_classes)\n",
        "\n",
        "print(\"data_x:\",len(data_x))\n",
        "print(\"data_y:\",len(data_y))\n",
        "print(\"data_x:\",data_x[:5])\n",
        "print(\"data_y:\",data_y[:5])"
      ],
      "metadata": {
        "id": "7njEUztMtFtp",
        "colab": {
          "base_uri": "https://localhost:8080/"
        },
        "outputId": "c7be529f-7591-4043-c3c5-d6532eea0a33"
      },
      "execution_count": null,
      "outputs": [
        {
          "output_type": "stream",
          "name": "stdout",
          "text": [
            "Number of classes: 2\n",
            "data_x: 10000\n",
            "data_y: 10000\n",
            "data_x: [\"first think another Disney movie, might good, it's kids movie. watch it, can't help enjoy it. ages love movie. first saw movie 10 8 years later still love it! Danny Glover superb could play part better. Christopher Lloyd hilarious perfect part. Tony Danza believable Mel Clark. can't help, enjoy movie! give 10/10!\"\n",
            " 'Put aside Dr. House repeat missed, Desperate Housewives (new) watch one. don\\'t know exactly plagued movie. never thought I\\'d say this, want 15 minutes fame back.<br /><br />Script, Direction, can\\'t say. recognized stable actors (the usual suspects), thought Herbert Marshall class addition sat good cheesy flick. Boy, wrong. Dullsville.<br /><br />My favorite parts: \"office girl\" makes 029 keypunch puts cards 087 sorter. LOL @ \"the computer\". I\\'d like someone identify next device - 477 ? It\\'s even dinosaur\\'s time.<br /><br />And dinosaurs don\\'t much time waste.'\n",
            " 'big fan Stephen King\\'s work, film made even greater fan King. Pet Sematary Creed family. moved new house, seem happy. pet cemetery behind house. Creed\\'s new neighbor Jud (played Fred Gwyne) explains burial ground behind pet cemetery. burial ground pure evil. Jud tells Louis Creed bury human (or kind pet) burial ground, would come back life. problem, come back, person, they\\'re evil. Soon Jud explains everything Pet Sematary, everything starts go hell. wont explain anymore don\\'t want give away main parts film. acting Pet Sematary pretty good, needed little bit work. story one main parts movie, mainly original gripping. film features lots make-up effects make movie way eerie, frightening. One basic reasons movie sent chills back, fact make-up effects. one character film truly freaky. character \"Zelda.\" particular character pops film three times precise. Zelda Rachel Creed\\'s sister passed away years before, Rachel still haunted her. first time Zelda appears movie isn\\'t generally scary isn\\'t talking anything, second time worst, honest, second time scares living **** me. absolutely nothing wrong movie, almost perfect. Pet Sematary delivers great scares, pretty good acting, first rate plot, mesmerizing make-up. truly one favorite horror films time. 10 10.'\n",
            " 'watched horrid thing TV. Needless say one movies watch see much worse get. Frankly, don\\'t know much lower bar go. <br /><br />The characters composed one lame stereo-type another, obvious attempt creating another \"Bad News Bears\" embarrassing say least.<br /><br />I seen prized turkeys time, reason list since \"Numero Uno\".<br /><br />Let put way, watched Vanilla Ice movie, bad funny. This...this...is even good.'\n",
            " \"truly enjoyed film. acting terrific plot. Jeff Combs talent recognized for. part flick would change ending. death creature far gruesome Sci Fi Channel.<br /><br />There interesting religious messages film. Jeff Combs obviously played Messiah figure creature (or shark prefer) represented anti-Chirst. particularly frightening scenes 'end world feel'. noticed third viewing classic creature feature. know many people won't get references Christianity, watch close you'll get it.\"]\n",
            "data_y: [1 0 1 0 1]\n"
          ]
        }
      ]
    },
    {
      "cell_type": "markdown",
      "source": [
        "### **Build Data Pipelines**"
      ],
      "metadata": {
        "id": "oAGfg61ZZbud"
      }
    },
    {
      "cell_type": "markdown",
      "source": [
        "**Split Data** "
      ],
      "metadata": {
        "id": "nbMP2Tw3Zbue"
      }
    },
    {
      "cell_type": "markdown",
      "source": [
        "We split data into train and validation by randomly selecting 20% as the test set."
      ],
      "metadata": {
        "id": "s-u197VeZbue"
      }
    },
    {
      "cell_type": "code",
      "source": [
        "# Split data\n",
        "validation_percent = 0.20\n",
        "\n",
        "# Split data into train / validate\n",
        "train_x, validate_x, train_y, validate_y = train_test_split(data_x, data_y, test_size=validation_percent, stratify=data_y)\n",
        "\n",
        "print(\"train_x count:\",len(train_x))\n",
        "print(\"validate_x count:\",len(validate_x))"
      ],
      "metadata": {
        "id": "3mocTngXKerG",
        "colab": {
          "base_uri": "https://localhost:8080/"
        },
        "outputId": "75daec7d-0d0b-47b2-8771-9a8569f70233"
      },
      "execution_count": null,
      "outputs": [
        {
          "output_type": "stream",
          "name": "stdout",
          "text": [
            "train_x count: 8000\n",
            "validate_x count: 2000\n"
          ]
        }
      ]
    },
    {
      "cell_type": "markdown",
      "source": [
        "**Text Tokenization**"
      ],
      "metadata": {
        "id": "JrIlzVO8IMsQ"
      }
    },
    {
      "cell_type": "code",
      "source": [
        "# Define a tokenizer with vocabulary size of 10,000 that filters all special characters and \n",
        "# converts the characters to lowercase\n",
        "tokenizer = tf.keras.preprocessing.text.Tokenizer(num_words=10000,\n",
        "                                                  filters='!\"#$%&()*+,-./:;<=>?@[\\\\]^_`{|}~\\t\\n',\n",
        "                                                  lower=True,\n",
        "                                                  split=' ',\n",
        "                                                  char_level=True,)\n",
        "\n",
        "# Fit the tokenizer on the comments column of the train set\n",
        "tokenizer.fit_on_texts(train_x)\n",
        "\n",
        "# Convert the text to tokens\n",
        "train_token_x = tokenizer.texts_to_sequences(train_x)\n",
        "validate_token_x = tokenizer.texts_to_sequences(validate_x)\n",
        "\n",
        "print(\"train_x len :\",len(train_token_x))\n",
        "print(\"train_x:\",train_token_x[:5])\n",
        "print(\"validate_token_x len :\",len(validate_token_x))\n",
        "print(\"validate_token_x:\",validate_token_x[:5])\n",
        "\n",
        "vocabulary_size = tokenizer.num_words\n",
        "print(\"Vocabulary Size:\",vocabulary_size)"
      ],
      "metadata": {
        "id": "q-gFUEk3Zbue",
        "colab": {
          "base_uri": "https://localhost:8080/"
        },
        "outputId": "5af0a858-4ee2-4cf8-b85a-41371fc8aa2e"
      },
      "execution_count": null,
      "outputs": [
        {
          "output_type": "stream",
          "name": "stdout",
          "text": [
            "train_x len : 8000\n",
            "train_x: [[4, 8, 8, 4, 1, 35, 12, 14, 4, 7, 10, 9, 5, 5, 2, 1, 19, 15, 7, 25, 2, 34, 24, 1, 23, 2, 7, 16, 2, 1, 17, 15, 19, 2, 7, 5, 18, 24, 1, 19, 2, 16, 3, 8, 6, 1, 6, 5, 7, 4, 8, 16, 2, 1, 11, 7, 2, 4, 13, 6, 1, 6, 5, 4, 7, 5, 1, 4, 21, 21, 2, 12, 5, 3, 8, 16, 1, 7, 2, 4, 10, 1, 10, 3, 21, 2, 31, 31, 2, 6, 17, 2, 12, 3, 4, 10, 10, 18, 1, 3, 8, 23, 9, 10, 23, 3, 8, 16, 1, 19, 9, 18, 1, 8, 4, 13, 2, 11, 1, 13, 4, 7, 25, 1, 35, 2, 10, 10, 3, 9, 5, 5, 1, 6, 17, 3, 2, 7, 6, 34, 1, 13, 2, 2, 5, 6, 1, 11, 7, 2, 4, 13, 6, 20, 29, 19, 7, 1, 27, 28, 29, 19, 7, 1, 27, 28, 23, 2, 7, 18, 1, 15, 8, 15, 6, 15, 4, 10, 1, 21, 4, 8, 5, 4, 6, 18, 1, 5, 7, 15, 10, 18, 1, 5, 2, 7, 7, 3, 21, 18, 3, 8, 16, 1, 13, 9, 13, 2, 8, 5, 6, 20, 1, 11, 2, 6, 17, 3, 5, 2, 1, 21, 4, 12, 5, 1, 5, 2, 2, 8, 4, 16, 2, 1, 16, 3, 7, 10, 1, 17, 16, 31, 41, 47, 1, 7, 4, 5, 3, 8, 16, 24, 1, 12, 14, 3, 10, 11, 7, 2, 8, 20, 1, 4, 10, 6, 9, 24, 1, 14, 4, 5, 2, 1, 21, 4, 8, 5, 4, 6, 3, 2, 6, 1, 6, 5, 4, 18, 1, 21, 4, 7, 1, 4, 22, 4, 18, 20, 1, 18, 9, 15, 26, 7, 2, 1, 16, 4, 13, 2, 1, 6, 9, 13, 2, 5, 14, 3, 8, 16, 1, 11, 3, 21, 21, 2, 7, 2, 8, 5, 1, 21, 3, 5, 6, 1, 19, 3, 10, 10, 20, 29, 19, 7, 1, 27, 28, 29, 19, 7, 1, 27, 28, 22, 2, 10, 10, 1, 11, 3, 7, 2, 12, 5, 2, 11, 1, 19, 2, 7, 8, 4, 7, 11, 1, 7, 9, 6, 2, 1, 19, 2, 4, 15, 5, 3, 21, 15, 10, 1, 13, 15, 6, 3, 12, 1, 6, 12, 9, 7, 2, 1, 8, 3, 12, 2, 24, 1, 6, 12, 4, 7, 18, 1, 33, 9, 10, 5, 6, 20, 1, 5, 14, 3, 8, 16, 1, 17, 7, 2, 23, 2, 8, 5, 6, 1, 7, 2, 4, 10, 10, 18, 1, 16, 7, 2, 4, 5, 1, 13, 9, 23, 3, 2, 1, 19, 15, 7, 25, 2, 31, 31, 6, 14, 2, 26, 6, 1, 16, 9, 9, 11, 1, 4, 12, 5, 7, 2, 6, 6, 1, 35, 3, 5, 26, 6, 1, 6, 15, 7, 17, 7, 3, 6, 2, 1, 21, 3, 10, 13, 34, 1, 14, 15, 7, 5, 6, 1, 13, 9, 23, 3, 2, 20, 1, 14, 9, 22, 2, 23, 2, 7, 24, 1, 2, 23, 2, 7, 18, 19, 9, 11, 18, 1, 2, 10, 6, 2, 1, 16, 7, 2, 4, 5, 20, 29, 19, 7, 1, 27, 28, 29, 19, 7, 1, 27, 28, 6, 17, 3, 2, 7, 6, 1, 16, 9, 9, 11, 1, 13, 4, 7, 25, 46, 1, 16, 10, 2, 8, 8, 2, 1, 14, 2, 4, 11, 10, 2, 18, 1, 35, 21, 4, 25, 3, 8, 16, 1, 19, 7, 3, 5, 3, 6, 14, 1, 4, 12, 12, 2, 8, 5, 1, 22, 2, 10, 10, 34, 1, 4, 10, 6, 9, 1, 16, 9, 9, 11, 1, 4, 8, 8, 4, 26, 6, 1, 13, 9, 5, 14, 2, 7, 1, 19, 2, 8, 1, 12, 7, 9, 6, 6, 1, 21, 7, 3, 16, 14, 5, 2, 8, 3, 8, 16, 1, 6, 18, 13, 17, 4, 5, 14, 2, 5, 3, 12, 1, 4, 8, 8, 4, 26, 6, 1, 21, 4, 5, 14, 2, 7, 20, 29, 19, 7, 1, 27, 28, 29, 19, 7, 1, 27, 28, 4, 1, 6, 10, 2, 2, 17, 2, 7, 1, 14, 3, 5, 1, 7, 2, 10, 2, 4, 6, 2, 11, 1, 41, 43, 50, 50, 24, 1, 3, 5, 26, 6, 1, 6, 3, 8, 12, 2, 1, 21, 4, 11, 2, 11, 1, 4, 22, 4, 18, 20, 1, 5, 14, 4, 5, 26, 6, 1, 19, 4, 11, 31, 31, 3, 5, 26, 6, 1, 7, 2, 4, 10, 10, 18, 1, 16, 9, 9, 11, 20], [16, 7, 4, 8, 5, 3, 8, 16, 1, 19, 15, 11, 16, 2, 5, 1, 5, 3, 13, 2, 1, 12, 9, 8, 6, 5, 7, 4, 3, 8, 5, 6, 1, 6, 2, 7, 3, 4, 10, 1, 17, 7, 9, 11, 15, 12, 5, 3, 9, 8, 24, 1, 19, 4, 5, 13, 4, 8, 1, 7, 9, 19, 3, 8, 1, 8, 9, 8, 2, 5, 14, 2, 10, 2, 6, 6, 1, 2, 4, 7, 8, 6, 1, 17, 10, 4, 12, 2, 1, 8, 2, 4, 7, 1, 19, 9, 5, 5, 9, 13, 1, 30, 12, 10, 3, 21, 21, 14, 4, 8, 16, 2, 7, 30, 1, 10, 3, 6, 5, 24, 1, 15, 5, 5, 2, 7, 10, 18, 1, 10, 4, 12, 25, 3, 8, 16, 1, 6, 5, 18, 10, 2, 24, 1, 3, 13, 4, 16, 3, 8, 4, 5, 3, 9, 8, 24, 1, 4, 5, 13, 9, 6, 17, 14, 2, 7, 2, 1, 41, 43, 52, 47, 1, 17, 7, 2, 11, 2, 12, 2, 6, 6, 9, 7, 24, 1, 19, 4, 5, 13, 4, 8, 20, 29, 19, 7, 1, 27, 28, 29, 19, 7, 1, 27, 28, 5, 14, 2, 1, 17, 7, 9, 11, 15, 12, 2, 7, 24, 1, 6, 4, 13, 1, 25, 4, 5, 37, 13, 4, 8, 24, 1, 25, 8, 9, 22, 8, 1, 30, 25, 3, 8, 16, 1, 38, 15, 3, 12, 25, 3, 2, 6, 30, 1, 4, 8, 11, 24, 1, 10, 3, 25, 2, 1, 11, 3, 7, 2, 12, 5, 9, 7, 24, 1, 6, 17, 2, 8, 12, 2, 7, 1, 19, 2, 8, 8, 2, 5, 5, 24, 1, 6, 2, 2, 13, 2, 11, 1, 12, 9, 8, 12, 2, 7, 8, 2, 11, 1, 6, 17, 2, 2, 11, 1, 2, 21, 21, 3, 12, 3, 2, 8, 12, 18, 1, 16, 2, 8, 2, 7, 4, 5, 3, 8, 16, 1, 2, 32, 12, 3, 5, 2, 13, 2, 8, 5, 20, 1, 35, 15, 8, 21, 9, 7, 5, 15, 8, 4, 5, 2, 10, 18, 24, 1, 5, 2, 4, 13, 1, 4, 10, 6, 9, 1, 17, 7, 9, 11, 15, 12, 2, 11, 1, 5, 22, 9, 1, 6, 15, 17, 2, 7, 13, 4, 8, 1, 6, 2, 7, 3, 4, 10, 6, 24, 1, 6, 5, 4, 7, 7, 3, 8, 16, 1, 25, 3, 7, 25, 1, 4, 10, 18, 8, 24, 1, 5, 4, 12, 25, 18, 1, 21, 10, 18, 3, 8, 16, 1, 4, 8, 3, 13, 4, 5, 3, 9, 8, 24, 1, 12, 4, 8, 8, 2, 11, 1, 13, 15, 6, 3, 12, 24, 1, 11, 15, 10, 10, 1, 6, 15, 17, 17, 9, 7, 5, 3, 8, 16, 1, 17, 10, 4, 18, 2, 7, 6, 20, 34, 1, 9, 17, 2, 8, 3, 8, 16, 1, 12, 14, 4, 17, 5, 2, 7, 1, 9, 21, 21, 2, 7, 6, 1, 5, 4, 6, 5, 2, 1, 5, 14, 3, 8, 16, 6, 1, 12, 9, 13, 2, 42, 1, 5, 14, 9, 7, 9, 15, 16, 14, 10, 18, 1, 3, 8, 4, 8, 2, 1, 5, 3, 5, 10, 2, 6, 1, 35, 30, 7, 9, 19, 3, 8, 1, 7, 2, 6, 12, 15, 2, 6, 1, 19, 4, 5, 13, 4, 8, 24, 30, 1, 30, 19, 4, 5, 13, 4, 8, 1, 23, 6, 1, 22, 3, 37, 4, 7, 11, 30, 34, 24, 1, 13, 2, 12, 14, 4, 8, 3, 12, 4, 10, 1, 13, 15, 6, 3, 12, 1, 11, 7, 9, 8, 3, 8, 16, 1, 9, 8, 24, 1, 5, 22, 9, 1, 14, 2, 7, 9, 2, 6, 1, 6, 5, 15, 13, 19, 10, 3, 8, 16, 1, 5, 9, 22, 4, 7, 11, 1, 12, 4, 13, 2, 7, 4, 1, 10, 9, 9, 25, 3, 8, 16, 1, 4, 7, 9, 15, 8, 11, 24, 1, 2, 3, 5, 14, 2, 7, 1, 12, 9, 8, 21, 15, 6, 2, 11, 1, 5, 7, 9, 15, 19, 10, 2, 1, 6, 2, 2, 3, 8, 16, 1, 12, 14, 2, 4, 17, 1, 14, 4, 10, 10, 9, 22, 2, 2, 8, 1, 13, 4, 6, 25, 6, 20, 1, 19, 4, 5, 13, 4, 8, 26, 6, 1, 12, 9, 22, 10, 24, 1, 11, 2, 23, 3, 10, 26, 6, 1, 14, 9, 7, 8, 6, 1, 2, 4, 16, 10, 2, 26, 6, 1, 19, 2, 4, 25, 24, 1, 21, 3, 5, 6, 1, 17, 9, 9, 7, 10, 18, 1, 6, 5, 15, 8, 5, 13, 4, 8, 1, 4, 11, 33, 15, 6, 5, 1, 21, 3, 16, 14, 5, 1, 6, 12, 2, 8, 2, 6, 20, 1, 30, 15, 5, 3, 10, 3, 5, 18, 1, 19, 2, 10, 5, 30, 1, 12, 7, 15, 13, 17, 10, 2, 11, 1, 6, 5, 7, 3, 17, 1, 12, 10, 9, 5, 14, 1, 12, 9, 13, 17, 4, 7, 5, 13, 2, 8, 5, 6, 24, 1, 6, 5, 3, 10, 10, 1, 13, 4, 8, 4, 16, 2, 6, 1, 17, 15, 10, 10, 1, 19, 10, 9, 22, 5, 9, 7, 12, 14, 1, 9, 32, 18, 16, 2, 8, 1, 5, 15, 19, 2, 1, 12, 7, 3, 5, 3, 12, 4, 10, 1, 13, 9, 13, 2, 8, 5, 6, 36, 29, 19, 7, 1, 27, 28, 29, 19, 7, 1, 27, 28, 3, 8, 1, 12, 4, 6, 2, 24, 1, 10, 2, 4, 11, 1, 17, 10, 4, 18, 2, 7, 6, 1, 13, 3, 6, 12, 4, 6, 5, 20, 1, 7, 9, 19, 2, 7, 5, 1, 10, 9, 22, 2, 7, 18, 1, 11, 3, 6, 17, 10, 4, 18, 6, 1, 10, 3, 5, 5, 10, 2, 1, 12, 14, 4, 7, 13, 1, 3, 8, 11, 3, 23, 3, 11, 15, 4, 10, 1, 21, 10, 4, 3, 7, 1, 19, 7, 15, 12, 2, 1, 22, 4, 18, 8, 2, 24, 1, 12, 15, 5, 1, 17, 4, 7, 5, 3, 12, 15, 10, 4, 7, 10, 18, 1, 11, 18, 8, 4, 13, 3, 12, 1, 21, 3, 16, 15, 7, 2, 1, 19, 4, 5, 13, 4, 8, 20, 1, 12, 7, 2, 4, 5, 2, 6, 1, 3, 13, 17, 7, 2, 6, 6, 3, 9, 8, 1, 14, 2, 26, 11, 1, 7, 4, 5, 14, 2, 7, 1, 6, 9, 13, 2, 22, 14, 2, 7, 2, 24, 1, 4, 8, 18, 22, 14, 2, 7, 2, 1, 2, 10, 6, 2, 36, 1, 33, 9, 14, 8, 1, 11, 15, 8, 12, 4, 8, 24, 1, 7, 9, 19, 3, 8, 24, 1, 12, 9, 8, 6, 3, 11, 2, 7, 4, 19, 10, 2, 1, 11, 3, 21, 21, 3, 12, 15, 10, 5, 18, 1, 14, 4, 8, 11, 10, 3, 8, 16, 1, 10, 3, 13, 3, 5, 2, 11, 1, 11, 3, 4, 10, 9, 16, 15, 2, 20, 1, 9, 10, 11, 1, 17, 4, 7, 5, 24, 1, 2, 23, 2, 8, 1, 9, 10, 11, 2, 7, 1, 6, 5, 15, 8, 5, 13, 4, 8, 1, 21, 3, 10, 10, 3, 8, 16, 1, 14, 3, 13, 20, 1, 12, 9, 6, 5, 15, 13, 2, 24, 1, 10, 9, 22, 2, 7, 18, 1, 11, 15, 8, 12, 4, 8, 1, 2, 32, 12, 3, 5, 3, 8, 16, 1, 5, 3, 7, 2, 11, 1, 19, 15, 6, 3, 8, 2, 6, 6, 13, 2, 8, 1, 4, 13, 19, 10, 3, 8, 16, 1, 11, 7, 3, 8, 25, 24, 1, 22, 3, 5, 14, 9, 15, 5, 1, 9, 8, 2, 1, 9, 15, 8, 12, 2, 1, 12, 14, 2, 13, 3, 6, 5, 7, 18, 1, 2, 23, 3, 11, 2, 8, 5, 1, 10, 2, 22, 3, 6, 1, 22, 3, 10, 6, 9, 8, 1, 11, 9, 15, 16, 10, 4, 6, 1, 12, 7, 9, 21, 5, 1, 41, 43, 52, 47, 1, 6, 2, 7, 3, 4, 10, 20, 29, 19, 7, 1, 27, 28, 29, 19, 7, 1, 27, 28, 4, 10, 5, 14, 9, 15, 16, 14, 1, 6, 2, 7, 3, 4, 10, 6, 1, 25, 8, 9, 22, 8, 1, 12, 14, 4, 7, 4, 12, 5, 2, 7, 1, 11, 2, 23, 2, 10, 9, 17, 13, 2, 8, 5, 24, 1, 2, 4, 7, 10, 3, 2, 7, 1, 19, 4, 5, 13, 4, 8, 1, 13, 4, 8, 4, 16, 2, 11, 1, 17, 7, 2, 6, 2, 8, 5, 1, 2, 8, 2, 7, 16, 2, 5, 3, 12, 1, 12, 4, 6, 5, 20, 1, 9, 8, 2, 1, 9, 21, 21, 2, 7, 6, 1, 16, 7, 9, 15, 17, 1, 16, 9, 3, 8, 16, 1, 13, 9, 5, 3, 9, 8, 6, 24, 1, 21, 3, 10, 13, 13, 4, 25, 2, 7, 6, 1, 17, 7, 9, 23, 3, 11, 2, 1, 13, 15, 12, 14, 1, 6, 15, 17, 17, 9, 7, 5, 20, 1, 9, 8, 2, 1, 14, 9, 9, 11, 10, 15, 13, 6, 1, 6, 5, 4, 8, 11, 6, 1, 9, 15, 5, 24, 1, 10, 2, 11, 1, 9, 8, 2, 1, 19, 9, 7, 3, 8, 16, 1, 23, 3, 10, 10, 4, 3, 8, 6, 1, 2, 23, 2, 7, 24, 1, 30, 5, 14, 2, 1, 22, 3, 37, 4, 7, 11, 20, 30, 1, 35, 16, 7, 2, 4, 5, 1, 8, 4, 13, 2, 36, 34, 1, 4, 12, 5, 15, 4, 10, 10, 18, 24, 1, 10, 2, 11, 1, 6, 9, 13, 2, 9, 8, 2, 1, 6, 17, 9, 7, 5, 3, 8, 16, 1, 12, 15, 7, 5, 4, 3, 8, 24, 1, 6, 14, 4, 22, 10, 24, 1, 6, 4, 12, 25, 1, 14, 2, 4, 11, 24, 1, 11, 15, 19, 19, 2, 11, 1, 23, 9, 3, 12, 2, 1, 11, 2, 6, 17, 2, 7, 4, 5, 2, 10, 18, 1, 5, 7, 3, 2, 6, 1, 6, 9, 15, 8, 11, 1, 13, 2, 8, 4, 12, 3, 8, 16, 20, 1, 30, 17, 7, 3, 13, 2, 1, 6, 15, 6, 17, 2, 12, 5, 6, 30, 1, 31, 31, 1, 2, 12, 12, 2, 8, 5, 7, 3, 12, 1, 17, 7, 9, 21, 2, 6, 6, 9, 7, 24, 1, 7, 4, 11, 3, 9, 1, 19, 7, 9, 4, 11, 12, 4, 6, 5, 2, 7, 1, 31, 31, 1, 6, 3, 13, 17, 10, 18, 1, 4, 8, 8, 9, 18, 3, 8, 16, 20, 29, 19, 7, 1, 27, 28, 29, 19, 7, 1, 27, 28, 2, 23, 2, 8, 1, 2, 6, 5, 4, 19, 10, 3, 6, 14, 2, 11, 1, 12, 9, 13, 3, 12, 1, 19, 9, 9, 25, 1, 30, 7, 2, 16, 15, 10, 4, 7, 6, 30, 1, 6, 15, 17, 2, 7, 21, 10, 15, 9, 15, 6, 20, 1, 14, 4, 7, 11, 1, 11, 3, 6, 12, 2, 7, 8, 1, 13, 15, 12, 14, 1, 7, 9, 13, 4, 8, 12, 2, 1, 23, 3, 12, 25, 3, 1, 23, 4, 10, 2, 1, 19, 7, 15, 12, 2, 1, 22, 4, 18, 8, 2, 20, 1, 11, 2, 6, 17, 3, 5, 2, 1, 17, 2, 7, 3, 10, 6, 1, 21, 4, 12, 2, 6, 24, 1, 23, 3, 12, 25, 3, 1, 11, 3, 6, 17, 10, 4, 18, 6, 1, 23, 3, 7, 5, 15, 4, 10, 10, 18, 1, 2, 13, 9, 5, 3, 9, 8, 20, 1, 12, 9, 13, 13, 3, 6, 6, 3, 9, 8, 2, 7, 1, 16, 9, 7, 11, 9, 8, 1, 8, 9, 8, 2, 31, 5, 9, 9, 31, 19, 7, 3, 16, 14, 5, 20, 1, 15, 8, 10, 3, 25, 2, 1, 17, 7, 2, 23, 3, 9, 15, 6, 1, 6, 2, 7, 3, 4, 10, 24, 1, 4, 10, 21, 7, 2, 11, 1, 19, 15, 5, 10, 2, 7, 1, 13, 2, 7, 2, 1, 22, 4, 10, 25, 31, 9, 8, 1, 22, 14, 9, 6, 2, 1, 3, 13, 17, 9, 7, 5, 4, 8, 5, 1, 10, 3, 8, 2, 1, 30, 13, 7, 1, 22, 4, 18, 8, 2, 26, 6, 1, 7, 2, 6, 3, 11, 2, 8, 12, 2, 20, 30, 1, 17, 7, 9, 17, 6, 1, 11, 7, 4, 22, 8, 31, 9, 15, 5, 24, 1, 16, 3, 13, 13, 3, 12, 25, 31, 10, 4, 11, 2, 8, 24, 1, 3, 8, 12, 9, 14, 2, 7, 2, 8, 5, 1, 17, 10, 9, 5, 24, 1, 6, 4, 11, 11, 10, 2, 11, 1, 15, 8, 3, 8, 6, 17, 3, 7, 2, 11, 24, 1, 7, 2, 17, 2, 5, 3, 5, 3, 23, 2, 1, 13, 15, 6, 3, 12, 1, 4, 13, 4, 5, 2, 15, 7, 3, 6, 14, 1, 17, 7, 9, 11, 15, 12, 5, 3, 9, 8, 1, 11, 2, 6, 3, 16, 8, 20, 1, 22, 4, 18, 8, 2, 1, 13, 4, 8, 9, 7, 1, 2, 32, 5, 2, 7, 3, 9, 7, 1, 7, 2, 6, 2, 13, 19, 10, 2, 6, 1, 6, 15, 19, 15, 7, 19, 4, 8, 1, 13, 3, 11, 11, 10, 2, 31, 12, 10, 4, 6, 6, 1, 14, 9, 13, 2, 1, 6, 3, 5, 12, 9, 13, 24, 1, 3, 8, 5, 2, 7, 3, 9, 7, 6, 1, 12, 14, 2, 4, 17, 1, 7, 9, 4, 11, 6, 3, 11, 2, 1, 13, 9, 5, 2, 10, 20, 1, 19, 4, 5, 12, 4, 23, 2, 1, 9, 21, 21, 3, 12, 2, 1, 11, 2, 6, 17, 2, 7, 4, 5, 2, 10, 18, 1, 8, 2, 2, 11, 1, 7, 2, 21, 15, 7, 19, 3, 6, 14, 3, 8, 16, 20, 1, 35, 5, 14, 2, 1, 12, 9, 6, 5, 15, 13, 2, 6, 1, 25, 2, 17, 5, 1, 7, 9, 10, 10, 2, 11, 1, 21, 3, 10, 3, 8, 16, 1, 12, 4, 19, 3, 8, 2, 5, 36, 34, 29, 19, 7, 1, 27, 28, 29, 19, 7, 1, 27, 28, 17, 3, 5, 18, 1, 21, 3, 10, 13, 13, 4, 25, 2, 7, 6, 1, 12, 9, 15, 10, 11, 8, 26, 5, 1, 3, 8, 23, 2, 6, 5, 1, 2, 21, 21, 9, 7, 5, 1, 12, 7, 2, 4, 5, 3, 8, 16, 1, 5, 14, 7, 3, 10, 10, 3, 8, 16, 1, 4, 11, 23, 2, 8, 5, 15, 7, 2, 20, 1, 4, 23, 4, 3, 10, 4, 19, 3, 10, 3, 5, 18, 1, 5, 22, 9, 1, 6, 2, 7, 3, 4, 10, 6, 1, 11, 23, 11, 1, 17, 10, 15, 6, 1, 6, 2, 7, 3, 9, 15, 6, 1, 30, 19, 4, 5, 21, 4, 8, 24, 30, 1, 9, 8, 2, 1, 21, 9, 9, 10, 2, 11, 1, 2, 32, 12, 2, 10, 10, 2, 8, 5, 1, 3, 10, 10, 15, 6, 5, 7, 4, 5, 3, 9, 8, 6, 1, 19, 9, 32, 20, 1, 12, 4, 17, 5, 15, 7, 2, 1, 4, 15, 5, 14, 2, 8, 5, 3, 12, 1, 13, 9, 9, 11, 1, 12, 9, 13, 3, 12, 1, 19, 9, 9, 25, 1, 41, 48, 1, 12, 14, 4, 17, 5, 2, 7, 6, 1, 19, 4, 5, 13, 4, 8, 1, 7, 9, 19, 3, 8, 1, 12, 9, 13, 19, 3, 8, 2, 11, 20, 29, 19, 7, 1, 27, 28, 29, 19, 7, 1, 27, 28, 8, 9, 22, 1, 16, 9, 9, 11, 1, 8, 2, 22, 6, 1, 31, 31, 1, 41, 43, 43, 53, 1, 23, 2, 7, 6, 3, 9, 8, 36], [11, 2, 2, 17, 1, 6, 14, 20, 20, 1, 10, 3, 25, 2, 1, 3, 5, 36, 1, 2, 2, 10, 6, 1, 12, 4, 7, 5, 9, 9, 8, 2, 11, 1, 21, 3, 10, 13, 20, 1, 5, 14, 3, 8, 25, 1, 30, 5, 14, 2, 1, 3, 8, 12, 7, 2, 11, 3, 19, 10, 2, 1, 13, 7, 20, 1, 10, 3, 13, 17, 2, 5, 30, 1, 13, 2, 2, 5, 6, 1, 30, 10, 2, 23, 3, 4, 5, 14, 4, 8, 30, 20, 1, 5, 4, 12, 25, 18, 20, 29, 19, 7, 1, 27, 28, 29, 19, 7, 1, 27, 28, 8, 9, 1, 12, 14, 4, 7, 4, 12, 5, 2, 7, 1, 7, 2, 10, 4, 5, 3, 9, 8, 6, 14, 3, 17, 1, 11, 2, 23, 2, 10, 9, 17, 13, 2, 8, 5, 20, 1, 12, 4, 10, 10, 2, 11, 1, 30, 7, 9, 13, 4, 8, 5, 3, 12, 30, 1, 6, 12, 2, 8, 2, 6, 1, 12, 9, 7, 8, 18, 1, 17, 7, 2, 11, 3, 12, 5, 4, 19, 10, 2, 20, 1, 3, 8, 5, 2, 7, 2, 6, 5, 3, 8, 16, 1, 3, 11, 2, 4, 24, 1, 17, 9, 9, 7, 10, 18, 1, 22, 7, 3, 5, 5, 2, 8, 1, 6, 12, 7, 3, 17, 5, 1, 10, 9, 15, 6, 18, 1, 6, 17, 2, 12, 3, 4, 10, 1, 2, 21, 21, 2, 12, 5, 6, 1, 13, 4, 25, 2, 1, 11, 2, 21, 3, 8, 3, 5, 2, 1, 13, 15, 6, 5, 31, 13, 3, 6, 6, 36], [3, 5, 26, 6, 1, 4, 13, 4, 37, 3, 8, 16, 1, 16, 9, 9, 11, 24, 1, 5, 14, 9, 15, 16, 14, 1, 22, 9, 8, 11, 2, 7, 21, 15, 10, 24, 1, 21, 3, 10, 13, 1, 13, 4, 11, 2, 1, 19, 4, 12, 25, 1, 2, 4, 7, 10, 18, 1, 8, 3, 8, 2, 5, 3, 2, 6, 24, 1, 22, 14, 9, 10, 2, 1, 21, 7, 4, 8, 12, 14, 3, 6, 2, 1, 16, 7, 9, 22, 20, 1, 26, 6, 5, 4, 7, 16, 4, 5, 2, 46, 1, 6, 16, 41, 26, 1, 3, 6, 24, 1, 22, 3, 5, 14, 9, 15, 5, 1, 11, 9, 15, 19, 5, 24, 1, 22, 9, 7, 5, 14, 18, 1, 4, 11, 11, 3, 5, 3, 9, 8, 1, 6, 12, 3, 2, 8, 12, 2, 1, 21, 3, 12, 5, 3, 9, 8, 1, 16, 2, 8, 7, 2, 1, 7, 3, 16, 14, 5, 1, 6, 5, 4, 8, 11, 1, 6, 14, 9, 15, 10, 11, 2, 7, 31, 5, 9, 31, 6, 14, 9, 15, 10, 11, 2, 7, 1, 26, 6, 5, 4, 7, 1, 5, 7, 2, 25, 26, 1, 25, 3, 8, 16, 6, 1, 6, 12, 3, 31, 21, 3, 20, 29, 19, 7, 1, 27, 28, 29, 19, 7, 1, 27, 28, 21, 9, 10, 10, 9, 22, 3, 8, 16, 1, 41, 43, 43, 52, 1, 21, 2, 4, 5, 15, 7, 2, 1, 21, 3, 10, 13, 1, 26, 6, 5, 4, 7, 16, 4, 5, 2, 26, 24, 1, 6, 2, 7, 3, 2, 6, 1, 6, 2, 2, 6, 1, 6, 5, 4, 7, 16, 4, 5, 2, 1, 12, 9, 13, 13, 4, 8, 11, 1, 35, 4, 1, 13, 3, 10, 3, 5, 4, 7, 18, 27, 6, 12, 3, 2, 8, 12, 2, 1, 9, 7, 16, 4, 8, 3, 6, 4, 5, 3, 9, 8, 34, 1, 21, 3, 16, 15, 7, 3, 8, 16, 1, 6, 5, 4, 7, 16, 4, 5, 2, 1, 6, 18, 6, 5, 2, 13, 1, 15, 6, 2, 11, 1, 5, 7, 4, 23, 2, 10, 1, 23, 4, 7, 3, 9, 15, 6, 1, 17, 10, 4, 8, 2, 5, 6, 1, 4, 12, 7, 9, 6, 6, 1, 16, 4, 10, 4, 32, 18, 1, 19, 2, 18, 9, 8, 11, 1, 13, 3, 10, 3, 5, 4, 7, 18, 1, 6, 2, 5, 6, 1, 8, 15, 13, 19, 2, 7, 1, 5, 2, 4, 13, 6, 1, 2, 32, 17, 10, 9, 7, 2, 20, 1, 6, 16, 41, 1, 9, 8, 2, 1, 5, 2, 4, 13, 24, 1, 14, 2, 4, 11, 2, 11, 1, 13, 3, 10, 3, 5, 4, 7, 18, 1, 23, 2, 5, 2, 7, 4, 8, 1, 12, 9, 10, 9, 8, 2, 10, 1, 33, 4, 12, 25, 1, 9, 26, 8, 2, 3, 10, 10, 24, 1, 3, 8, 12, 10, 15, 11, 2, 6, 1, 4, 7, 12, 14, 4, 2, 9, 10, 9, 16, 3, 6, 5, 1, 11, 9, 12, 5, 9, 7, 1, 11, 4, 8, 3, 2, 10, 1, 33, 4, 12, 25, 6, 9, 8, 24, 1, 13, 3, 10, 3, 5, 4, 7, 18, 1, 6, 12, 3, 2, 8, 5, 3, 6, 5, 1, 12, 4, 17, 5, 4, 3, 8, 1, 6, 4, 13, 4, 8, 5, 14, 4, 1, 12, 4, 7, 5, 2, 7, 1, 4, 10, 3, 2, 8, 1, 5, 2, 4, 10, 26, 12, 24, 1, 19, 2, 5, 7, 4, 18, 2, 11, 1, 9, 23, 2, 7, 10, 9, 7, 11, 1, 10, 2, 4, 11, 2, 7, 6, 1, 14, 9, 17, 2, 6, 1, 9, 8, 2, 1, 11, 4, 18, 1, 21, 7, 2, 2, 3, 8, 16, 1, 17, 2, 9, 17, 10, 2, 20, 1, 2, 4, 7, 5, 14, 1, 38, 15, 3, 12, 25, 10, 18, 1, 13, 4, 25, 2, 6, 1, 2, 8, 2, 13, 18, 1, 16, 9, 4, 26, 15, 10, 11, 24, 1, 17, 4, 7, 4, 6, 3, 5, 3, 12, 1, 7, 4, 12, 2, 1, 15, 6, 2, 1, 14, 15, 13, 4, 8, 6, 1, 14, 9, 6, 5, 6, 1, 5, 14, 3, 8, 25, 1, 2, 38, 15, 4, 10, 1, 16, 9, 11, 6, 20, 29, 19, 7, 1, 27, 28, 29, 19, 7, 1, 27, 28, 5, 14, 2, 1, 5, 9, 17, 31, 8, 9, 5, 12, 14, 1, 12, 4, 6, 5, 1, 13, 15, 12, 14, 1, 12, 9, 8, 16, 7, 4, 5, 15, 10, 4, 5, 2, 11, 1, 19, 7, 3, 8, 16, 3, 8, 16, 1, 6, 14, 9, 22, 1, 10, 3, 21, 2, 20, 1, 7, 3, 12, 14, 4, 7, 11, 1, 11, 2, 4, 8, 1, 4, 8, 11, 2, 7, 6, 9, 8, 1, 17, 2, 7, 21, 2, 12, 5, 1, 12, 18, 8, 3, 12, 4, 10, 1, 6, 4, 7, 12, 4, 6, 5, 3, 12, 1, 9, 26, 8, 2, 3, 10, 10, 24, 1, 6, 14, 3, 21, 5, 1, 19, 9, 18, 3, 6, 14, 1, 11, 2, 4, 11, 10, 18, 1, 19, 10, 3, 8, 25, 1, 2, 18, 2, 20, 1, 13, 3, 12, 14, 4, 2, 10, 1, 6, 14, 4, 8, 25, 6, 24, 1, 11, 4, 8, 3, 2, 10, 24, 1, 19, 7, 3, 8, 16, 6, 1, 14, 2, 4, 7, 5, 1, 6, 5, 2, 2, 10, 1, 12, 14, 4, 7, 4, 12, 5, 2, 7, 24, 1, 16, 7, 9, 22, 8, 1, 22, 3, 11, 2, 31, 2, 18, 2, 11, 1, 3, 8, 8, 9, 12, 2, 8, 12, 2, 1, 11, 4, 7, 25, 2, 7, 1, 14, 4, 7, 11, 31, 19, 3, 5, 5, 2, 8, 1, 6, 14, 9, 22, 1, 17, 7, 9, 16, 7, 2, 6, 6, 2, 11, 20, 1, 4, 13, 4, 8, 11, 4, 1, 5, 4, 17, 17, 3, 8, 16, 24, 1, 12, 4, 7, 5, 2, 7, 24, 1, 17, 2, 7, 21, 2, 12, 5, 2, 11, 1, 19, 4, 10, 4, 8, 12, 2, 1, 11, 2, 17, 3, 12, 5, 3, 8, 16, 1, 12, 14, 4, 7, 4, 12, 5, 2, 7, 26, 6, 1, 21, 2, 13, 3, 8, 3, 8, 3, 5, 18, 1, 22, 3, 5, 14, 9, 15, 5, 1, 12, 9, 13, 17, 7, 3, 6, 3, 8, 16, 1, 21, 4, 12, 5, 1, 6, 5, 7, 9, 8, 16, 24, 1, 3, 8, 5, 2, 10, 10, 3, 16, 2, 8, 5, 1, 13, 3, 10, 3, 5, 4, 7, 18, 1, 6, 12, 3, 2, 8, 5, 3, 6, 5, 20, 1, 12, 14, 7, 3, 6, 5, 9, 17, 14, 2, 7, 1, 33, 15, 11, 16, 2, 1, 2, 32, 12, 2, 10, 10, 2, 8, 5, 1, 4, 10, 9, 9, 21, 1, 5, 2, 4, 10, 26, 12, 24, 1, 4, 19, 10, 2, 1, 11, 2, 17, 3, 12, 5, 1, 12, 14, 4, 7, 4, 12, 5, 2, 7, 26, 6, 1, 2, 13, 9, 5, 3, 9, 8, 6, 1, 6, 15, 19, 5, 10, 2, 5, 18, 20, 1, 11, 9, 8, 1, 11, 4, 23, 3, 6, 1, 17, 2, 7, 21, 2, 12, 5, 1, 2, 6, 5, 2, 2, 13, 2, 11, 1, 16, 2, 8, 2, 7, 4, 10, 1, 14, 4, 13, 13, 9, 8, 11, 1, 10, 2, 4, 11, 6, 1, 16, 9, 9, 11, 1, 19, 4, 10, 4, 8, 12, 2, 1, 21, 4, 3, 7, 8, 2, 6, 6, 1, 21, 3, 7, 13, 8, 2, 6, 6, 20, 29, 19, 7, 1, 27, 28, 29, 19, 7, 1, 27, 28, 4, 10, 13, 9, 6, 5, 1, 2, 17, 3, 6, 9, 11, 2, 6, 1, 3, 8, 23, 9, 10, 23, 3, 8, 16, 1, 17, 9, 7, 5, 7, 4, 18, 2, 11, 1, 3, 8, 5, 2, 10, 10, 3, 16, 2, 8, 12, 2, 24, 1, 7, 2, 21, 10, 2, 12, 5, 3, 8, 16, 1, 13, 9, 7, 4, 10, 1, 11, 3, 10, 2, 13, 13, 4, 6, 1, 22, 2, 10, 10, 1, 21, 7, 3, 12, 5, 3, 9, 8, 1, 13, 3, 10, 3, 5, 4, 7, 18, 1, 3, 8, 5, 2, 7, 2, 6, 5, 6, 1, 12, 3, 23, 3, 10, 3, 4, 8, 1, 19, 2, 10, 3, 2, 21, 6, 1, 35, 9, 21, 5, 2, 8, 1, 6, 14, 9, 22, 8, 1, 4, 7, 16, 15, 13, 2, 8, 5, 6, 1, 9, 26, 8, 2, 3, 10, 10, 1, 33, 4, 12, 25, 6, 9, 8, 34, 20, 1, 16, 15, 2, 6, 5, 1, 12, 14, 4, 7, 4, 12, 5, 2, 7, 6, 1, 6, 9, 10, 3, 11, 10, 18, 1, 11, 2, 17, 3, 12, 5, 2, 11, 1, 6, 5, 9, 7, 18, 1, 4, 7, 12, 6, 1, 14, 4, 8, 11, 10, 2, 11, 1, 13, 4, 8, 8, 2, 7, 1, 11, 9, 2, 6, 8, 26, 5, 1, 19, 9, 7, 2, 1, 23, 3, 2, 22, 2, 7, 6, 20, 1, 6, 16, 41, 1, 4, 10, 6, 9, 1, 2, 32, 12, 2, 10, 6, 1, 14, 15, 13, 9, 15, 7, 24, 1, 9, 26, 8, 2, 3, 10, 10, 26, 6, 1, 22, 3, 6, 2, 12, 7, 4, 12, 25, 6, 1, 2, 17, 3, 6, 9, 11, 2, 6, 1, 22, 4, 12, 25, 18, 1, 9, 11, 11, 36, 1, 6, 16, 41, 1, 2, 23, 2, 7, 18, 5, 14, 3, 8, 16, 1, 4, 12, 5, 3, 9, 8, 1, 11, 7, 4, 13, 4, 1, 7, 9, 13, 4, 8, 12, 2, 1, 6, 15, 6, 17, 2, 8, 6, 2, 1, 14, 2, 4, 7, 5, 19, 7, 2, 4, 25, 3, 8, 16, 1, 6, 12, 2, 8, 2, 6, 1, 11, 2, 4, 5, 14, 20, 1, 3, 6, 8, 26, 5, 1, 2, 32, 12, 2, 10, 10, 2, 8, 5, 1, 6, 12, 3, 31, 21, 3, 1, 6, 14, 9, 22, 1, 2, 32, 12, 2, 10, 10, 2, 8, 5, 1, 6, 14, 9, 22, 24, 1, 9, 23, 2, 7, 4, 10, 10, 20], [12, 12, 12, 12, 1, 21, 3, 7, 6, 5, 1, 16, 9, 9, 11, 1, 21, 3, 10, 13, 1, 19, 9, 10, 10, 18, 22, 9, 9, 11, 1, 44, 39, 39, 41, 20, 1, 21, 3, 7, 6, 5, 1, 6, 4, 22, 1, 5, 7, 4, 3, 10, 2, 7, 1, 21, 3, 10, 13, 1, 5, 14, 9, 15, 16, 14, 5, 1, 22, 9, 15, 10, 11, 1, 8, 3, 12, 2, 1, 21, 4, 13, 3, 10, 18, 1, 13, 9, 23, 3, 2, 20, 1, 7, 3, 16, 14, 5, 20, 1, 6, 4, 10, 13, 4, 8, 1, 25, 14, 4, 8, 1, 16, 3, 23, 2, 8, 1, 6, 5, 7, 9, 8, 16, 2, 6, 5, 1, 17, 2, 7, 21, 9, 7, 13, 4, 8, 12, 2, 1, 2, 23, 2, 7, 20, 1, 21, 4, 13, 3, 10, 18, 1, 22, 2, 7, 2, 8, 26, 5, 1, 25, 2, 2, 8, 1, 6, 2, 2, 3, 8, 16, 1, 21, 3, 10, 13, 1, 21, 4, 13, 3, 10, 18, 1, 3, 13, 17, 7, 2, 6, 6, 2, 11, 1, 14, 3, 13, 20, 1, 7, 4, 8, 3, 1, 17, 7, 2, 3, 5, 18, 1, 22, 9, 8, 11, 2, 7, 21, 15, 10, 20, 1, 21, 3, 10, 13, 1, 16, 9, 3, 8, 16, 1, 14, 15, 16, 2, 1, 14, 3, 5, 1, 5, 14, 7, 2, 2, 1, 13, 4, 3, 8, 1, 6, 5, 4, 7, 6, 20, 1, 29, 19, 7, 1, 27, 28, 29, 19, 7, 1, 27, 28, 3, 5, 26, 6, 1, 7, 4, 33, 1, 35, 6, 4, 10, 13, 4, 8, 1, 25, 14, 4, 8, 34, 1, 17, 7, 3, 18, 4, 1, 13, 2, 2, 5, 3, 8, 16, 1, 21, 4, 10, 10, 3, 8, 16, 1, 10, 9, 23, 2, 20, 1, 16, 2, 5, 1, 13, 4, 7, 7, 3, 2, 11, 1, 16, 9, 1, 6, 22, 3, 5, 37, 2, 7, 10, 4, 8, 11, 1, 14, 9, 8, 2, 18, 13, 9, 9, 8, 20, 1, 12, 9, 13, 2, 1, 19, 4, 12, 25, 1, 7, 4, 33, 1, 17, 7, 3, 18, 4, 1, 21, 3, 8, 11, 1, 17, 7, 3, 18, 4, 1, 17, 7, 2, 16, 8, 4, 8, 5, 20, 1, 7, 4, 33, 26, 6, 1, 21, 4, 13, 3, 10, 18, 1, 21, 15, 10, 10, 1, 33, 9, 18, 1, 21, 3, 8, 11, 1, 2, 6, 17, 2, 12, 3, 4, 10, 10, 18, 1, 7, 4, 33, 26, 6, 1, 11, 4, 11, 4, 1, 35, 4, 13, 7, 3, 6, 14, 1, 17, 15, 7, 3, 34, 20, 1, 7, 4, 33, 1, 21, 4, 13, 3, 10, 18, 1, 17, 10, 4, 18, 3, 8, 16, 1, 12, 7, 3, 12, 25, 2, 5, 1, 9, 8, 2, 1, 11, 4, 18, 1, 17, 7, 3, 18, 4, 1, 4, 12, 12, 3, 11, 2, 8, 5, 1, 12, 4, 15, 6, 2, 6, 1, 17, 7, 3, 18, 4, 1, 13, 3, 6, 12, 4, 7, 7, 3, 4, 16, 2, 20, 1, 7, 4, 33, 1, 12, 10, 9, 6, 2, 1, 21, 4, 13, 3, 10, 18, 1, 21, 7, 3, 2, 8, 11, 1, 11, 9, 12, 5, 9, 7, 24, 1, 19, 4, 10, 7, 4, 33, 1, 12, 14, 9, 17, 7, 4, 1, 35, 17, 7, 2, 13, 1, 12, 14, 9, 17, 7, 4, 34, 20, 1, 5, 2, 10, 10, 6, 1, 7, 4, 33, 1, 17, 7, 3, 18, 4, 1, 10, 9, 8, 16, 2, 7, 1, 4, 8, 18, 13, 9, 7, 2, 1, 25, 3, 11, 6, 20, 1, 7, 4, 33, 1, 17, 7, 3, 18, 4, 1, 25, 2, 2, 17, 1, 38, 15, 3, 2, 5, 1, 21, 4, 13, 3, 10, 18, 20, 1, 7, 4, 33, 1, 17, 7, 3, 18, 4, 1, 11, 2, 12, 3, 11, 2, 1, 16, 9, 1, 6, 15, 7, 7, 9, 16, 4, 12, 18, 20, 1, 6, 15, 7, 7, 9, 16, 4, 12, 18, 1, 21, 3, 8, 11, 1, 16, 3, 7, 10, 1, 7, 4, 33, 1, 16, 3, 7, 10, 1, 19, 4, 19, 18, 1, 5, 9, 16, 2, 5, 14, 2, 7, 1, 14, 4, 8, 11, 1, 19, 4, 19, 18, 1, 7, 4, 33, 1, 17, 7, 3, 18, 4, 20, 1, 7, 4, 33, 1, 21, 3, 8, 11, 6, 1, 16, 3, 7, 10, 20, 1, 8, 4, 13, 2, 1, 13, 4, 11, 14, 15, 19, 4, 10, 4, 1, 35, 17, 7, 2, 3, 5, 18, 1, 37, 3, 8, 5, 4, 34, 20, 1, 11, 4, 8, 12, 2, 7, 1, 17, 7, 9, 6, 5, 3, 5, 15, 5, 2, 20, 1, 7, 4, 33, 1, 5, 2, 10, 10, 6, 1, 6, 3, 5, 15, 4, 5, 3, 9, 8, 1, 19, 7, 3, 19, 2, 6, 1, 13, 9, 8, 2, 18, 1, 4, 16, 7, 2, 2, 6, 20, 1, 7, 4, 33, 1, 12, 14, 4, 8, 16, 2, 6, 1, 13, 4, 11, 14, 15, 19, 4, 10, 4, 1, 12, 9, 13, 17, 10, 2, 5, 10, 2, 18, 20, 1, 7, 4, 33, 1, 5, 2, 10, 10, 6, 1, 17, 7, 3, 18, 4, 1, 21, 9, 15, 8, 11, 1, 16, 3, 7, 10, 20, 1, 13, 4, 11, 14, 15, 19, 4, 10, 4, 1, 17, 7, 3, 18, 4, 1, 13, 2, 2, 5, 1, 19, 2, 12, 9, 13, 2, 1, 21, 7, 3, 2, 8, 11, 6, 20, 1, 16, 9, 1, 6, 22, 3, 5, 37, 2, 7, 10, 4, 8, 11, 1, 9, 8, 2, 1, 21, 3, 8, 11, 6, 1, 9, 15, 5, 20, 1, 17, 7, 3, 18, 4, 1, 6, 17, 2, 8, 11, 6, 1, 8, 3, 16, 14, 5, 1, 12, 14, 15, 7, 12, 14, 1, 7, 4, 33, 1, 13, 4, 11, 14, 15, 19, 4, 10, 4, 1, 4, 10, 9, 8, 2, 1, 6, 17, 2, 8, 11, 1, 8, 3, 16, 14, 5, 1, 5, 9, 16, 2, 5, 14, 2, 7, 20, 1, 11, 9, 12, 5, 9, 7, 1, 12, 9, 8, 21, 3, 7, 13, 6, 1, 13, 4, 11, 14, 15, 19, 4, 10, 4, 1, 17, 7, 2, 16, 8, 4, 8, 5, 1, 14, 4, 17, 17, 18, 20, 1, 7, 4, 33, 1, 5, 2, 10, 10, 6, 1, 21, 4, 13, 3, 10, 18, 1, 17, 7, 3, 18, 4, 1, 17, 7, 2, 16, 8, 4, 8, 5, 20, 1, 14, 4, 17, 17, 18, 1, 4, 16, 4, 3, 8, 20, 1, 13, 4, 11, 14, 15, 19, 4, 10, 4, 1, 12, 9, 13, 2, 6, 1, 10, 9, 23, 2, 1, 7, 4, 33, 1, 22, 4, 8, 5, 6, 1, 14, 3, 13, 20, 1, 14, 4, 17, 17, 2, 8, 6, 1, 8, 2, 32, 5, 40, 1, 22, 4, 5, 12, 14, 1, 12, 12, 12, 12, 1, 21, 3, 8, 11, 1, 9, 15, 5, 20, 1, 29, 19, 7, 1, 27, 28, 29, 19, 7, 1, 27, 28, 5, 14, 2, 1, 9, 8, 2, 1, 5, 14, 3, 8, 16, 1, 11, 3, 11, 8, 26, 5, 1, 10, 3, 25, 2, 1, 21, 3, 10, 13, 1, 3, 11, 2, 4, 1, 6, 15, 7, 7, 9, 16, 4, 12, 18, 20, 1, 11, 9, 8, 2, 1, 17, 7, 9, 17, 2, 7, 1, 22, 4, 18, 1, 21, 3, 10, 13, 1, 11, 3, 11, 8, 26, 5, 1, 7, 15, 3, 8, 1, 21, 3, 10, 13, 20, 1, 6, 5, 3, 10, 10, 1, 2, 32, 12, 2, 10, 10, 2, 8, 5, 20, 29, 19, 7, 1, 27, 28, 29, 19, 7, 1, 27, 28, 5, 14, 2, 1, 6, 9, 8, 16, 6, 1, 21, 3, 10, 13, 1, 16, 7, 2, 4, 5, 20, 1, 21, 4, 23, 9, 15, 7, 3, 5, 2, 6, 1, 30, 12, 14, 9, 7, 3, 1, 12, 14, 9, 7, 3, 1, 12, 14, 15, 17, 25, 2, 1, 12, 14, 15, 17, 25, 2, 30, 24, 1, 11, 2, 25, 14, 8, 2, 1, 22, 4, 10, 9, 8, 1, 8, 2, 30, 24, 1, 30, 11, 2, 2, 22, 4, 8, 4, 1, 14, 4, 3, 1, 18, 2, 14, 1, 13, 4, 8, 8, 30, 1, 30, 13, 2, 14, 8, 11, 3, 30, 20, 1, 6, 9, 8, 16, 1, 30, 13, 2, 14, 8, 11, 3, 30, 1, 12, 9, 10, 9, 15, 7, 21, 15, 10, 20, 1, 6, 9, 8, 16, 1, 6, 14, 9, 22, 6, 1, 16, 14, 9, 11, 1, 19, 14, 4, 7, 4, 3, 1, 5, 4, 25, 3, 8, 16, 1, 17, 10, 4, 12, 2, 1, 12, 9, 10, 9, 15, 7, 21, 15, 10, 20, 1, 21, 3, 10, 13, 1, 11, 2, 6, 2, 7, 23, 2, 6, 1, 41, 39, 27, 41, 39, 36]]\n",
            "validate_token_x len : 2000\n",
            "validate_token_x: [[3, 49, 55, 56, 67, 13, 1, 6, 15, 7, 17, 7, 3, 6, 2, 11, 1, 2, 23, 2, 8, 1, 12, 9, 22, 16, 3, 7, 10, 6, 1, 16, 2, 5, 1, 19, 10, 15, 2, 6, 1, 13, 9, 23, 3, 2, 1, 4, 8, 18, 5, 14, 3, 8, 16, 1, 16, 9, 1, 19, 18, 20, 1, 2, 32, 17, 2, 12, 5, 2, 11, 1, 6, 9, 13, 2, 5, 14, 3, 8, 16, 1, 19, 2, 5, 5, 2, 7, 1, 15, 13, 4, 1, 5, 14, 15, 7, 13, 4, 8, 24, 1, 7, 2, 4, 6, 9, 8, 1, 6, 15, 21, 21, 2, 7, 2, 11, 1, 22, 4, 18, 1, 2, 32, 17, 2, 7, 3, 2, 8, 12, 2, 1, 21, 3, 7, 6, 5, 1, 17, 10, 4, 12, 2, 20, 1, 4, 22, 21, 15, 10, 1, 21, 3, 10, 13, 1, 13, 15, 6, 3, 12, 1, 7, 2, 11, 2, 2, 13, 3, 8, 16, 1, 38, 15, 4, 10, 3, 5, 18, 20, 1, 3, 5, 49, 55, 56, 67, 6, 1, 6, 14, 4, 13, 2, 1, 3, 8, 12, 4, 17, 4, 19, 10, 2, 1, 16, 3, 23, 3, 8, 16, 1, 39, 1, 41, 39, 1, 7, 2, 23, 3, 2, 22, 6, 20, 1, 13, 9, 23, 3, 2, 1, 11, 2, 6, 2, 7, 23, 2, 6, 1, 3, 5, 20], [12, 14, 2, 2, 6, 2, 20, 1, 22, 4, 8, 5, 1, 23, 3, 11, 2, 9, 1, 16, 4, 13, 2, 24, 1, 12, 9, 13, 17, 10, 2, 5, 2, 1, 10, 9, 9, 25, 1, 10, 3, 25, 2, 1, 6, 5, 7, 4, 3, 16, 14, 5, 31, 21, 7, 9, 13, 31, 5, 14, 2, 31, 12, 9, 13, 17, 15, 5, 2, 7, 1, 12, 15, 5, 4, 22, 4, 18, 1, 6, 2, 38, 15, 2, 8, 12, 2, 6, 1, 4, 12, 5, 3, 9, 8, 1, 21, 3, 10, 13, 1, 12, 14, 2, 4, 17, 1, 4, 12, 5, 15, 4, 10, 10, 18, 1, 13, 4, 25, 2, 1, 6, 17, 2, 12, 3, 4, 10, 1, 2, 21, 21, 2, 12, 5, 6, 1, 21, 9, 7, 24, 1, 3, 5, 20, 1, 21, 7, 3, 2, 8, 11, 1, 4, 12, 5, 15, 4, 10, 10, 18, 1, 16, 7, 2, 4, 5, 1, 5, 3, 13, 2, 1, 6, 2, 2, 3, 8, 16, 1, 3, 5, 24, 1, 6, 3, 8, 12, 2, 1, 5, 14, 2, 4, 5, 7, 2, 1, 13, 9, 6, 5, 10, 18, 1, 2, 13, 17, 5, 18, 1, 12, 9, 15, 10, 11, 1, 14, 2, 12, 25, 10, 2, 1, 19, 3, 5, 20, 1, 13, 9, 23, 3, 2, 1, 7, 2, 4, 10, 10, 18, 1, 7, 2, 38, 15, 3, 7, 2, 6, 1, 14, 2, 12, 25, 10, 3, 8, 16, 20, 29, 19, 7, 1, 27, 28, 29, 19, 7, 1, 27, 28, 17, 10, 9, 5, 40, 1, 17, 10, 9, 5, 40, 1, 9, 25, 24, 1, 6, 5, 15, 17, 3, 11, 1, 12, 9, 10, 10, 2, 16, 2, 1, 10, 4, 5, 2, 7, 1, 5, 18, 17, 2, 6, 1, 16, 2, 5, 1, 3, 8, 23, 3, 5, 2, 11, 1, 30, 5, 14, 2, 1, 7, 4, 23, 2, 1, 18, 2, 4, 7, 30, 1, 16, 9, 1, 9, 8, 2, 1, 6, 4, 8, 1, 33, 15, 4, 8, 1, 3, 6, 10, 4, 8, 11, 6, 1, 35, 30, 3, 21, 1, 5, 14, 2, 18, 26, 11, 1, 6, 5, 4, 18, 2, 11, 1, 19, 4, 12, 25, 1, 6, 2, 4, 5, 5, 10, 2, 24, 1, 22, 9, 15, 10, 11, 1, 6, 15, 7, 23, 3, 23, 2, 11, 20, 30, 1, 31, 1, 11, 3, 7, 2, 12, 5, 1, 38, 15, 9, 5, 2, 24, 1, 8, 2, 4, 7, 10, 18, 20, 34, 1, 4, 5, 5, 2, 8, 11, 20, 1, 16, 2, 5, 1, 2, 23, 2, 7, 18, 9, 8, 2, 1, 16, 9, 8, 2, 24, 1, 6, 3, 5, 2, 1, 6, 9, 13, 2, 22, 14, 4, 5, 1, 22, 7, 2, 12, 25, 2, 11, 1, 35, 19, 15, 5, 1, 14, 2, 18, 24, 1, 25, 2, 16, 1, 6, 5, 3, 10, 10, 1, 21, 15, 10, 10, 36, 34, 20, 1, 14, 2, 10, 17, 1, 12, 7, 15, 6, 5, 18, 1, 9, 10, 11, 1, 12, 4, 17, 5, 4, 3, 8, 1, 12, 9, 4, 6, 5, 1, 16, 15, 4, 7, 11, 1, 22, 9, 13, 4, 8, 1, 35, 22, 14, 9, 1, 4, 12, 5, 2, 11, 1, 6, 10, 3, 16, 14, 5, 10, 18, 1, 10, 2, 6, 6, 1, 5, 9, 15, 16, 14, 1, 31, 1, 6, 10, 3, 16, 14, 5, 10, 18, 1, 10, 2, 6, 6, 1, 22, 2, 10, 10, 1, 31, 1, 12, 18, 8, 5, 14, 3, 4, 1, 7, 9, 5, 14, 7, 9, 12, 25, 34, 24, 1, 21, 3, 16, 14, 5, 1, 10, 9, 5, 6, 1, 37, 9, 13, 19, 3, 2, 6, 1, 35, 6, 9, 13, 2, 1, 6, 17, 3, 5, 1, 4, 12, 3, 11, 34, 24, 1, 16, 2, 5, 1, 2, 4, 7, 21, 15, 10, 1, 21, 7, 2, 4, 25, 18, 1, 10, 2, 16, 2, 8, 11, 6, 24, 1, 13, 9, 6, 5, 10, 18, 1, 16, 2, 5, 1, 25, 3, 10, 10, 2, 11, 20, 1, 5, 14, 4, 5, 26, 6, 1, 3, 5, 20, 29, 19, 7, 1, 27, 28, 29, 19, 7, 1, 27, 28, 3, 5, 26, 6, 1, 38, 15, 3, 5, 2, 1, 19, 4, 11, 1, 11, 2, 13, 9, 8, 3, 12, 15, 6, 24, 1, 13, 15, 12, 14, 24, 1, 6, 5, 3, 10, 10, 1, 19, 2, 5, 5, 2, 7, 1, 6, 2, 23, 2, 7, 2, 11, 1, 35, 5, 14, 2, 18, 1, 6, 9, 7, 5, 1, 17, 2, 7, 6, 9, 8, 4, 10, 1, 4, 10, 17, 14, 4, 1, 9, 13, 2, 16, 4, 1, 19, 4, 11, 1, 13, 9, 23, 3, 2, 6, 1, 31, 1, 21, 9, 7, 13, 2, 7, 1, 19, 4, 11, 1, 21, 15, 8, 1, 14, 2, 12, 25, 10, 2, 24, 1, 10, 4, 5, 5, 2, 7, 1, 21, 7, 2, 4, 25, 3, 8, 16, 1, 19, 4, 11, 1, 22, 4, 5, 12, 14, 1, 9, 8, 12, 2, 34, 20, 1, 14, 4, 8, 11, 24, 1, 18, 9, 15, 26, 7, 2, 1, 2, 32, 17, 2, 12, 5, 3, 8, 16, 1, 23, 3, 11, 2, 9, 1, 16, 4, 13, 2, 1, 13, 9, 23, 3, 2, 1, 2, 32, 12, 2, 10, 10, 2, 8, 5, 1, 7, 2, 6, 3, 11, 2, 8, 5, 1, 2, 23, 3, 10, 24, 1, 7, 15, 8, 1, 4, 22, 4, 18, 36, 36, 36, 1, 7, 15, 8, 1, 4, 22, 4, 18, 1, 8, 9, 22, 36, 36, 36, 29, 19, 7, 1, 27, 28, 29, 19, 7, 1, 27, 28, 9, 25, 24, 1, 7, 2, 4, 10, 1, 19, 3, 16, 1, 38, 15, 2, 6, 5, 3, 9, 8, 6, 1, 35, 22, 3, 5, 14, 9, 15, 5, 1, 13, 4, 8, 18, 1, 6, 17, 9, 3, 10, 2, 7, 6, 34, 42, 1, 6, 3, 8, 12, 2, 1, 6, 17, 4, 8, 3, 6, 14, 1, 6, 14, 3, 17, 6, 1, 41, 50, 5, 14, 1, 12, 2, 8, 5, 15, 7, 18, 1, 23, 2, 8, 5, 15, 7, 2, 1, 17, 4, 12, 3, 21, 3, 12, 1, 8, 9, 7, 5, 14, 22, 2, 6, 5, 40, 40, 40, 40, 40, 1, 4, 8, 18, 9, 8, 2, 1, 17, 4, 12, 3, 21, 3, 12, 1, 8, 9, 7, 5, 14, 22, 2, 6, 5, 1, 6, 13, 15, 16, 16, 10, 3, 8, 16, 1, 16, 15, 8, 6, 24, 1, 31, 1, 12, 4, 8, 4, 11, 4, 24, 1, 12, 7, 18, 3, 8, 16, 1, 10, 9, 15, 11, 40, 40, 40, 1, 7, 4, 23, 2, 1, 15, 8, 8, 4, 13, 2, 11, 1, 35, 9, 14, 24, 1, 2, 32, 12, 15, 6, 2, 1, 13, 2, 24, 1, 3, 5, 26, 6, 1, 12, 4, 10, 10, 2, 11, 1, 30, 3, 6, 10, 4, 1, 11, 2, 10, 1, 13, 15, 2, 7, 5, 9, 30, 24, 1, 6, 14, 18, 4, 24, 1, 7, 3, 16, 14, 5, 34, 1, 6, 4, 8, 1, 33, 15, 4, 8, 1, 3, 6, 10, 4, 8, 11, 1, 31, 1, 9, 15, 5, 11, 9, 9, 7, 6, 24, 1, 6, 5, 3, 10, 10, 1, 25, 2, 2, 17, 3, 8, 16, 1, 13, 3, 8, 11, 1, 17, 4, 12, 3, 21, 3, 12, 1, 8, 9, 7, 5, 14, 22, 2, 5, 20, 1, 7, 4, 23, 2, 1, 47, 39, 1, 17, 2, 9, 17, 10, 2, 1, 4, 5, 5, 2, 8, 11, 4, 8, 12, 2, 1, 31, 1, 30, 5, 14, 2, 1, 7, 4, 23, 2, 1, 18, 2, 4, 7, 24, 30, 1, 17, 4, 5, 9, 9, 5, 20, 29, 19, 7, 1, 27, 28, 29, 19, 7, 1, 27, 28, 10, 15, 12, 25, 18, 1, 5, 14, 3, 8, 16, 1, 5, 14, 2, 7, 2, 26, 6, 1, 10, 9, 5, 6, 1, 14, 4, 5, 12, 14, 2, 5, 6, 1, 4, 7, 9, 15, 8, 11, 20, 1, 10, 9, 5, 6, 1, 5, 14, 2, 13, 20, 1, 2, 23, 2, 7, 18, 9, 8, 2, 1, 5, 14, 2, 13, 20, 1, 13, 15, 6, 5, 1, 14, 4, 5, 12, 14, 2, 5, 1, 6, 4, 10, 2, 6, 1, 9, 15, 5, 10, 2, 5, 1, 8, 2, 4, 7, 19, 18, 20, 29, 19, 7, 1, 27, 28, 29, 19, 7, 1, 27, 28, 21, 3, 8, 4, 10, 10, 18, 24, 1, 13, 9, 23, 3, 2, 1, 6, 5, 4, 7, 5, 2, 11, 1, 17, 10, 4, 18, 3, 8, 16, 1, 10, 3, 5, 5, 10, 2, 1, 30, 17, 4, 7, 9, 11, 18, 30, 1, 35, 22, 3, 5, 14, 1, 8, 15, 11, 16, 2, 6, 1, 25, 8, 9, 22, 1, 33, 4, 22, 6, 34, 24, 1, 11, 3, 11, 8, 26, 5, 1, 12, 4, 7, 7, 18, 1, 8, 2, 4, 7, 1, 2, 8, 9, 15, 16, 14, 20, 29, 19, 7, 1, 27, 28, 29, 19, 7, 1, 27, 28, 9, 25, 24, 1, 7, 2, 4, 10, 10, 18, 1, 21, 3, 8, 4, 10, 10, 18, 1, 31, 1, 3, 8, 5, 7, 9, 11, 15, 12, 5, 9, 7, 18, 1, 12, 9, 13, 13, 2, 8, 5, 6, 1, 35, 3, 8, 1, 23, 9, 3, 12, 2, 31, 9, 23, 2, 7, 24, 1, 10, 2, 6, 6, 34, 1, 12, 4, 6, 15, 4, 10, 10, 18, 1, 13, 2, 8, 5, 3, 9, 8, 1, 9, 8, 2, 1, 12, 14, 4, 7, 4, 12, 5, 2, 7, 6, 1, 30, 16, 4, 23, 2, 1, 19, 9, 18, 21, 7, 3, 2, 8, 11, 1, 21, 9, 12, 15, 6, 1, 21, 2, 8, 12, 3, 8, 16, 30, 1, 11, 4, 7, 8, 1, 6, 15, 7, 2, 1, 5, 14, 2, 7, 2, 26, 10, 10, 1, 21, 2, 8, 12, 3, 8, 16, 1, 2, 8, 11, 1, 13, 9, 23, 3, 2, 20, 1, 16, 9, 9, 11, 1, 21, 2, 8, 12, 3, 8, 16, 24, 1, 12, 9, 15, 17, 10, 2, 1, 17, 2, 9, 17, 10, 2, 1, 14, 4, 12, 25, 3, 8, 16, 1, 6, 22, 9, 7, 11, 6, 24, 1, 4, 8, 18, 22, 4, 18, 20], [4, 8, 12, 14, 9, 7, 6, 1, 4, 22, 2, 3, 16, 14, 1, 2, 8, 5, 2, 7, 5, 4, 3, 8, 3, 8, 16, 1, 13, 16, 13, 1, 13, 15, 6, 3, 12, 4, 10, 1, 21, 4, 8, 6, 1, 16, 2, 8, 7, 2, 1, 2, 8, 33, 9, 18, 1, 22, 9, 15, 10, 11, 8, 26, 5, 1, 7, 4, 5, 2, 1, 12, 10, 4, 6, 6, 3, 12, 6, 1, 10, 3, 25, 2, 1, 6, 3, 8, 16, 3, 8, 1, 7, 4, 3, 8, 1, 19, 4, 8, 11, 1, 22, 4, 16, 9, 8, 20, 1, 21, 3, 7, 6, 5, 1, 5, 14, 7, 2, 2, 1, 13, 15, 6, 3, 12, 4, 10, 6, 1, 16, 2, 8, 2, 1, 25, 2, 10, 10, 18, 1, 21, 7, 4, 8, 25, 1, 6, 3, 8, 4, 5, 7, 4, 1, 4, 17, 17, 2, 4, 7, 2, 11, 1, 5, 9, 16, 2, 5, 14, 2, 7, 20, 1, 25, 2, 10, 10, 18, 1, 6, 3, 8, 4, 5, 7, 4, 1, 17, 10, 4, 18, 1, 33, 9, 2, 1, 19, 7, 4, 11, 18, 1, 12, 10, 4, 7, 2, 8, 12, 2, 1, 11, 9, 9, 10, 3, 5, 5, 10, 2, 24, 1, 5, 22, 9, 1, 6, 4, 3, 10, 9, 7, 6, 1, 10, 2, 4, 23, 2, 1, 14, 9, 10, 10, 18, 22, 9, 9, 11, 1, 19, 2, 21, 7, 3, 2, 8, 11, 1, 18, 9, 15, 8, 16, 1, 19, 9, 18, 1, 35, 11, 2, 4, 8, 1, 6, 5, 9, 12, 25, 22, 2, 10, 10, 34, 22, 14, 9, 1, 3, 8, 5, 7, 9, 11, 15, 12, 2, 6, 1, 4, 5, 5, 7, 4, 12, 5, 3, 23, 2, 1, 18, 9, 15, 8, 16, 1, 4, 15, 8, 5, 1, 35, 25, 4, 5, 14, 7, 18, 8, 1, 16, 7, 4, 18, 6, 9, 8, 34, 1, 6, 5, 7, 15, 16, 16, 10, 3, 8, 16, 1, 4, 12, 5, 7, 2, 6, 6, 1, 22, 9, 7, 25, 3, 8, 16, 1, 2, 32, 5, 7, 4, 1, 13, 16, 13, 20, 1, 5, 14, 9, 15, 16, 14, 1, 16, 15, 18, 6, 1, 3, 8, 3, 5, 3, 4, 10, 10, 18, 1, 4, 5, 5, 7, 4, 12, 5, 2, 11, 1, 16, 7, 4, 18, 6, 9, 8, 24, 1, 2, 23, 2, 8, 5, 15, 4, 10, 10, 18, 1, 23, 9, 3, 12, 2, 6, 1, 17, 7, 2, 21, 2, 7, 2, 8, 12, 2, 1, 33, 9, 2, 1, 12, 10, 4, 7, 2, 8, 12, 2, 1, 10, 4, 5, 2, 7, 1, 14, 9, 9, 25, 6, 1, 22, 4, 3, 5, 7, 2, 6, 6, 1, 35, 17, 4, 13, 2, 10, 4, 1, 19, 7, 3, 5, 5, 9, 8, 34, 22, 14, 9, 24, 1, 10, 2, 4, 7, 8, 6, 1, 14, 9, 13, 2, 5, 9, 22, 8, 1, 19, 7, 9, 9, 25, 10, 18, 8, 20, 1, 17, 4, 17, 2, 7, 31, 5, 14, 3, 8, 1, 17, 10, 9, 5, 1, 10, 2, 4, 23, 2, 6, 1, 7, 9, 9, 13, 1, 6, 2, 23, 2, 7, 4, 10, 1, 16, 7, 2, 4, 5, 1, 13, 15, 6, 3, 12, 4, 10, 1, 8, 15, 13, 19, 2, 7, 6, 1, 3, 8, 12, 10, 15, 11, 3, 8, 16, 1, 30, 22, 2, 1, 14, 4, 5, 2, 1, 10, 2, 4, 23, 2, 30, 24, 1, 33, 9, 2, 1, 12, 10, 4, 7, 2, 8, 12, 2, 26, 6, 1, 10, 4, 13, 2, 8, 5, 1, 21, 2, 10, 10, 9, 22, 1, 6, 4, 3, 10, 9, 7, 6, 1, 5, 14, 2, 18, 26, 7, 2, 1, 10, 2, 4, 23, 3, 8, 16, 1, 6, 14, 3, 17, 46, 1, 16, 7, 4, 18, 6, 9, 8, 26, 6, 1, 5, 9, 7, 7, 3, 11, 1, 7, 2, 8, 11, 3, 5, 3, 9, 8, 1, 30, 33, 4, 10, 9, 15, 6, 3, 2, 30, 46, 1, 6, 3, 8, 4, 5, 7, 4, 26, 6, 1, 11, 7, 2, 4, 13, 18, 1, 7, 2, 8, 11, 3, 5, 3, 9, 8, 1, 30, 3, 1, 21, 4, 10, 10, 1, 10, 9, 23, 2, 1, 2, 4, 6, 3, 10, 18, 30, 1, 35, 4, 1, 8, 15, 13, 19, 2, 7, 1, 6, 4, 11, 10, 18, 1, 11, 2, 10, 2, 5, 2, 11, 1, 17, 7, 3, 8, 5, 6, 1, 21, 3, 10, 13, 34, 24, 1, 30, 5, 14, 2, 1, 22, 9, 7, 7, 18, 1, 6, 9, 8, 16, 30, 24, 1, 21, 4, 8, 5, 4, 6, 18, 1, 11, 4, 8, 12, 2, 1, 25, 2, 10, 10, 18, 1, 4, 8, 3, 13, 4, 5, 2, 11, 1, 33, 2, 7, 7, 18, 1, 13, 9, 15, 6, 2, 1, 5, 9, 13, 1, 33, 2, 7, 7, 18, 1, 21, 4, 13, 2, 20, 1, 25, 2, 10, 10, 18, 1, 4, 10, 6, 9, 1, 6, 9, 7, 5, 1, 25, 3, 6, 6, 3, 8, 16, 1, 19, 4, 8, 11, 3, 5, 1, 21, 4, 8, 5, 4, 6, 18, 1, 19, 4, 10, 10, 2, 5, 1, 7, 3, 23, 4, 10, 6, 1, 17, 3, 7, 4, 5, 2, 26, 6, 1, 19, 4, 10, 10, 2, 5, 1, 10, 4, 5, 2, 7, 1, 17, 3, 7, 4, 5, 2, 20, 1, 25, 2, 10, 10, 18, 1, 17, 2, 4, 25, 1, 21, 9, 7, 13, 1, 14, 2, 7, 2, 24, 1, 7, 9, 19, 15, 6, 5, 1, 2, 8, 2, 7, 16, 2, 5, 3, 12, 1, 17, 2, 7, 21, 9, 7, 13, 4, 8, 12, 2, 1, 2, 4, 7, 8, 2, 11, 1, 9, 6, 12, 4, 7, 1, 8, 9, 13, 3, 8, 4, 5, 3, 9, 8, 1, 19, 2, 6, 5, 1, 4, 12, 5, 9, 7, 1, 6, 3, 8, 4, 5, 7, 4, 26, 6, 1, 2, 8, 11, 2, 4, 7, 3, 8, 16, 10, 18, 1, 6, 14, 18, 1, 12, 14, 4, 7, 4, 12, 5, 2, 7, 1, 15, 8, 11, 2, 8, 3, 4, 19, 10, 18, 1, 6, 2, 32, 18, 20, 1, 2, 8, 5, 2, 7, 5, 4, 3, 8, 3, 8, 16, 1, 11, 3, 23, 2, 7, 6, 3, 9, 8, 1, 21, 4, 8, 6, 1, 13, 16, 13, 1, 13, 15, 6, 3, 12, 4, 10, 1, 21, 4, 12, 5, 9, 7, 18, 20], [19, 9, 15, 16, 14, 5, 1, 23, 3, 11, 2, 9, 1, 22, 4, 10, 13, 4, 7, 5, 26, 6, 1, 60, 41, 1, 19, 3, 8, 20, 1, 5, 14, 3, 8, 25, 1, 9, 23, 2, 7, 31, 17, 4, 3, 11, 36, 36, 36, 1, 41, 43, 52, 39, 6, 24, 1, 19, 2, 10, 4, 1, 10, 15, 16, 9, 6, 3, 1, 13, 4, 11, 2, 1, 10, 9, 8, 16, 1, 6, 5, 7, 3, 8, 16, 1, 47, 7, 11, 31, 7, 4, 5, 2, 1, 13, 9, 23, 3, 2, 6, 1, 6, 13, 4, 10, 10, 1, 6, 5, 15, 11, 3, 9, 6, 1, 35, 3, 8, 1, 12, 4, 6, 2, 24, 1, 13, 9, 8, 9, 16, 7, 4, 13, 31, 31, 5, 14, 2, 1, 9, 8, 2, 6, 1, 13, 4, 11, 2, 1, 19, 9, 22, 7, 18, 1, 19, 9, 18, 6, 1, 21, 3, 10, 13, 6, 34, 20, 1, 22, 7, 2, 5, 12, 14, 2, 11, 8, 2, 6, 6, 1, 21, 3, 10, 13, 6, 1, 4, 17, 17, 7, 9, 4, 12, 14, 1, 10, 2, 23, 2, 10, 1, 4, 22, 21, 15, 10, 8, 2, 6, 6, 1, 10, 4, 6, 5, 1, 21, 3, 10, 13, 6, 1, 4, 12, 14, 3, 2, 23, 2, 11, 1, 35, 2, 11, 1, 22, 9, 9, 11, 1, 30, 12, 10, 4, 6, 6, 3, 12, 6, 30, 1, 19, 7, 3, 11, 2, 1, 13, 9, 8, 6, 5, 2, 7, 1, 17, 10, 4, 8, 1, 43, 1, 9, 15, 5, 2, 7, 1, 6, 17, 4, 12, 2, 34, 24, 1, 8, 9, 8, 2, 5, 14, 2, 10, 2, 6, 6, 1, 17, 9, 9, 7, 1, 21, 3, 10, 13, 6, 1, 4, 23, 9, 3, 11, 2, 11, 1, 11, 3, 2, 31, 14, 4, 7, 11, 1, 21, 4, 8, 6, 20, 29, 19, 7, 1, 27, 28, 29, 19, 7, 1, 27, 28, 3, 1, 9, 10, 11, 1, 13, 9, 23, 3, 2, 1, 33, 15, 8, 25, 3, 2, 24, 1, 16, 4, 23, 2, 1, 5, 7, 18, 20, 1, 19, 2, 6, 3, 11, 2, 6, 24, 1, 10, 2, 6, 6, 2, 7, 1, 21, 3, 10, 13, 6, 1, 4, 12, 5, 15, 4, 10, 10, 18, 1, 17, 7, 2, 5, 5, 18, 1, 16, 9, 9, 11, 31, 31, 33, 15, 6, 5, 1, 9, 8, 2, 20, 29, 19, 7, 1, 27, 28, 29, 19, 7, 1, 27, 28, 10, 15, 16, 9, 6, 3, 1, 3, 6, 24, 1, 2, 10, 6, 2, 24, 1, 13, 4, 11, 1, 6, 12, 3, 2, 8, 5, 3, 6, 5, 1, 22, 4, 8, 5, 6, 1, 25, 2, 2, 17, 1, 7, 4, 5, 14, 2, 7, 1, 19, 3, 37, 4, 7, 7, 2, 1, 23, 3, 9, 10, 2, 8, 5, 1, 22, 3, 21, 2, 1, 4, 10, 3, 23, 2, 1, 6, 2, 7, 15, 13, 1, 12, 9, 8, 12, 9, 12, 5, 6, 1, 18, 9, 15, 8, 16, 1, 19, 7, 3, 11, 2, 6, 20, 1, 8, 2, 23, 2, 7, 1, 7, 2, 4, 10, 10, 18, 1, 2, 32, 17, 10, 4, 3, 8, 2, 11, 1, 19, 7, 3, 11, 2, 6, 1, 13, 15, 6, 5, 1, 22, 9, 13, 2, 8, 1, 2, 23, 2, 8, 1, 11, 3, 6, 2, 4, 6, 2, 1, 22, 3, 21, 2, 1, 14, 4, 11, 31, 31, 6, 9, 1, 6, 2, 2, 1, 17, 10, 9, 5, 1, 8, 2, 23, 2, 7, 1, 7, 2, 4, 10, 10, 18, 1, 14, 4, 6, 14, 2, 11, 1, 4, 10, 10, 20, 29, 19, 7, 1, 27, 28, 29, 19, 7, 1, 27, 28, 4, 8, 18, 22, 4, 18, 6, 24, 1, 7, 2, 4, 10, 10, 18, 1, 4, 8, 8, 9, 18, 3, 8, 16, 1, 21, 2, 13, 4, 10, 2, 1, 7, 2, 17, 9, 7, 5, 2, 7, 1, 35, 4, 1, 10, 9, 3, 6, 1, 10, 4, 8, 2, 1, 5, 18, 17, 2, 1, 22, 3, 5, 14, 9, 15, 5, 1, 33, 3, 13, 13, 18, 1, 9, 10, 6, 2, 8, 1, 6, 15, 17, 2, 7, 13, 4, 8, 34, 1, 22, 4, 8, 5, 6, 1, 16, 2, 5, 1, 19, 9, 5, 5, 9, 13, 1, 4, 17, 17, 4, 7, 2, 8, 5, 1, 13, 15, 7, 11, 2, 7, 6, 1, 19, 9, 11, 3, 2, 6, 1, 6, 5, 9, 10, 2, 8, 36, 1, 6, 9, 24, 1, 21, 9, 10, 10, 9, 22, 6, 1, 12, 10, 15, 2, 6, 1, 22, 4, 18, 1, 11, 9, 9, 7, 6, 5, 2, 17, 1, 10, 15, 16, 9, 6, 3, 20, 1, 10, 15, 16, 9, 6, 3, 26, 6, 1, 14, 9, 13, 2, 1, 12, 9, 13, 17, 10, 2, 5, 2, 1, 12, 7, 4, 37, 2, 11, 1, 22, 3, 21, 2, 24, 1, 21, 2, 13, 4, 10, 2, 1, 4, 6, 6, 3, 6, 5, 4, 8, 5, 1, 5, 22, 9, 1, 6, 5, 7, 4, 8, 16, 2, 1, 17, 2, 9, 17, 10, 2, 1, 4, 17, 17, 4, 7, 2, 8, 5, 10, 18, 1, 4, 6, 6, 3, 6, 5, 4, 8, 5, 26, 6, 1, 6, 9, 8, 6, 1, 35, 4, 8, 1, 15, 16, 10, 18, 1, 14, 15, 8, 12, 14, 19, 4, 12, 25, 2, 11, 1, 6, 2, 32, 1, 21, 3, 2, 8, 11, 1, 11, 22, 4, 7, 21, 34, 20, 1, 8, 4, 5, 15, 7, 4, 10, 10, 18, 1, 17, 10, 15, 12, 25, 18, 1, 7, 2, 17, 9, 7, 5, 2, 7, 1, 21, 4, 3, 8, 5, 6, 1, 7, 2, 17, 2, 4, 5, 2, 11, 10, 18, 1, 5, 14, 7, 9, 15, 16, 14, 9, 15, 5, 1, 21, 3, 10, 13, 31, 31, 4, 17, 17, 4, 7, 2, 8, 5, 10, 18, 1, 8, 4, 7, 12, 9, 10, 2, 17, 6, 18, 1, 16, 9, 9, 11, 1, 3, 8, 23, 2, 6, 5, 3, 16, 4, 5, 3, 23, 2, 1, 33, 9, 15, 7, 8, 4, 10, 3, 6, 13, 1, 16, 9, 1, 14, 4, 8, 11, 1, 14, 4, 8, 11, 36, 1, 2, 23, 2, 8, 5, 15, 4, 10, 10, 18, 24, 1, 13, 4, 8, 3, 4, 12, 6, 1, 11, 3, 2, 31, 31, 13, 9, 6, 5, 10, 18, 1, 11, 15, 2, 1, 14, 4, 8, 11, 6, 1, 22, 2, 10, 10, 20, 1, 12, 9, 8, 12, 10, 15, 6, 3, 9, 8, 24, 1, 7, 2, 17, 9, 7, 5, 2, 7, 1, 11, 9, 12, 5, 9, 7, 1, 13, 2, 5, 1, 11, 2, 12, 3, 11, 2, 1, 13, 4, 7, 7, 18, 20, 1, 4, 8, 11, 24, 1, 8, 4, 5, 15, 7, 4, 10, 10, 18, 24, 1, 7, 2, 17, 9, 7, 5, 2, 7, 26, 6, 1, 11, 15, 13, 19, 1, 12, 4, 13, 2, 7, 4, 13, 4, 8, 1, 21, 4, 3, 8, 5, 6, 1, 9, 12, 12, 15, 7, 6, 20, 1, 14, 4, 23, 2, 8, 26, 5, 1, 8, 9, 5, 3, 12, 2, 11, 24, 1, 5, 14, 2, 7, 2, 26, 6, 1, 10, 9, 5, 1, 21, 4, 3, 8, 5, 3, 8, 16, 1, 21, 3, 10, 13, 20, 1, 9, 7, 24, 1, 13, 4, 18, 19, 2, 1, 6, 10, 9, 22, 1, 17, 9, 8, 11, 2, 7, 9, 15, 6, 1, 21, 3, 10, 13, 1, 21, 2, 10, 10, 1, 4, 6, 10, 2, 2, 17, 36], [12, 4, 13, 2, 1, 7, 2, 23, 3, 2, 22, 1, 10, 4, 6, 5, 1, 8, 3, 16, 14, 5, 1, 11, 2, 12, 3, 11, 3, 8, 16, 1, 5, 23, 1, 13, 9, 23, 3, 2, 1, 6, 2, 5, 5, 10, 2, 1, 21, 7, 9, 8, 5, 1, 9, 21, 24, 1, 21, 9, 15, 8, 11, 1, 13, 4, 11, 2, 1, 9, 8, 2, 1, 10, 9, 9, 25, 1, 15, 8, 13, 3, 6, 6, 4, 19, 10, 2, 20, 1, 13, 3, 6, 10, 2, 11, 1, 21, 2, 2, 10, 36, 29, 19, 7, 1, 27, 28, 29, 19, 7, 1, 27, 28, 21, 3, 7, 6, 5, 10, 18, 24, 1, 8, 2, 2, 11, 6, 1, 17, 9, 3, 8, 5, 2, 11, 1, 21, 7, 9, 8, 5, 1, 13, 15, 12, 14, 1, 14, 9, 15, 6, 2, 22, 3, 21, 2, 26, 6, 1, 11, 4, 18, 5, 3, 13, 2, 1, 13, 9, 23, 3, 2, 20, 1, 17, 2, 7, 21, 9, 7, 13, 4, 8, 12, 2, 6, 1, 22, 9, 9, 11, 2, 8, 24, 1, 2, 23, 2, 7, 18, 1, 6, 2, 8, 5, 2, 8, 12, 2, 1, 4, 5, 5, 2, 13, 17, 5, 1, 26, 17, 9, 3, 16, 8, 4, 8, 5, 26, 1, 22, 4, 18, 1, 14, 9, 15, 6, 2, 22, 3, 21, 2, 26, 6, 1, 11, 4, 18, 5, 3, 13, 2, 1, 13, 9, 23, 3, 2, 6, 1, 19, 4, 11, 1, 6, 9, 4, 17, 1, 9, 17, 2, 7, 4, 6, 1, 4, 10, 22, 4, 18, 6, 1, 4, 7, 2, 24, 1, 19, 4, 6, 2, 11, 1, 17, 7, 2, 11, 3, 12, 5, 4, 19, 10, 2, 1, 22, 2, 10, 10, 31, 5, 7, 9, 11, 11, 2, 8, 1, 17, 7, 2, 13, 3, 6, 2, 1, 13, 2, 8, 1, 35, 17, 4, 7, 5, 3, 12, 15, 10, 4, 7, 10, 18, 1, 6, 9, 10, 11, 3, 2, 7, 6, 34, 1, 2, 6, 6, 2, 8, 5, 3, 4, 10, 10, 18, 1, 23, 3, 9, 10, 2, 8, 5, 1, 3, 8, 12, 9, 13, 17, 4, 6, 6, 3, 9, 8, 4, 5, 2, 20, 1, 22, 14, 9, 10, 2, 1, 13, 9, 23, 3, 2, 1, 26, 11, 7, 4, 13, 4, 26, 1, 4, 17, 17, 4, 7, 2, 8, 5, 1, 13, 9, 13, 2, 8, 5, 6, 1, 13, 4, 10, 2, 1, 12, 14, 4, 7, 4, 12, 5, 2, 7, 6, 1, 5, 14, 7, 2, 4, 5, 2, 8, 1, 11, 2, 23, 2, 10, 9, 17, 1, 6, 2, 12, 9, 8, 11, 1, 11, 3, 13, 2, 8, 6, 3, 9, 8, 20, 29, 19, 7, 1, 27, 28, 29, 19, 7, 1, 27, 28, 3, 21, 1, 6, 9, 15, 8, 11, 6, 1, 5, 9, 10, 2, 7, 4, 19, 10, 2, 1, 35, 9, 7, 1, 2, 23, 2, 8, 1, 2, 8, 33, 9, 18, 4, 19, 10, 2, 34, 1, 18, 9, 15, 24, 1, 22, 4, 7, 8, 2, 11, 20, 1, 10, 3, 8, 11, 4, 1, 14, 4, 13, 3, 10, 5, 9, 8, 26, 6, 1, 16, 2, 7, 13, 4, 8, 1, 4, 12, 12, 2, 8, 5, 24, 1, 38, 15, 3, 5, 2, 1, 16, 9, 9, 11, 24, 1, 17, 4, 3, 8, 21, 15, 10, 10, 18, 1, 11, 3, 6, 5, 7, 4, 12, 5, 3, 8, 16, 1, 31, 1, 21, 4, 12, 2, 24, 1, 7, 2, 4, 6, 9, 8, 20, 1, 17, 2, 7, 21, 9, 7, 13, 4, 8, 12, 2, 6, 1, 11, 9, 15, 19, 5, 1, 2, 8, 11, 15, 7, 3, 8, 16, 1, 6, 9, 15, 7, 12, 2, 1, 2, 13, 19, 4, 7, 7, 4, 6, 6, 13, 2, 8, 5, 1, 17, 2, 7, 17, 2, 5, 7, 4, 5, 9, 7, 6, 24, 1, 17, 4, 3, 8, 21, 15, 10, 10, 18, 1, 5, 14, 3, 8, 1, 9, 19, 23, 3, 9, 15, 6, 1, 12, 14, 4, 7, 4, 12, 5, 2, 7, 3, 37, 4, 5, 3, 9, 8, 6, 1, 9, 7, 11, 2, 7, 1, 11, 4, 18, 20, 1, 6, 15, 7, 17, 7, 3, 6, 2, 6, 24, 1, 22, 4, 5, 12, 14, 1, 26, 13, 9, 8, 5, 18, 1, 17, 18, 5, 14, 9, 8, 2, 6, 38, 15, 2, 26, 1, 2, 8, 11, 10, 2, 6, 6, 1, 6, 15, 17, 17, 10, 18, 1, 21, 9, 9, 11, 1, 11, 7, 3, 8, 25, 1, 13, 3, 7, 4, 12, 15, 10, 9, 15, 6, 10, 18, 1, 4, 17, 17, 2, 4, 7, 6, 1, 14, 15, 8, 16, 7, 18, 1, 6, 9, 10, 11, 3, 2, 7, 6, 26, 1, 25, 8, 4, 17, 6, 4, 12, 25, 6, 36, 29, 19, 7, 1, 27, 28, 29, 19, 7, 1, 27, 28, 3, 1, 22, 4, 6, 8, 26, 5, 1, 2, 32, 17, 2, 12, 5, 3, 8, 16, 1, 4, 12, 5, 3, 9, 8, 24, 1, 14, 9, 17, 2, 11, 1, 19, 2, 4, 15, 5, 3, 21, 15, 10, 1, 5, 2, 32, 5, 15, 7, 4, 10, 1, 2, 13, 9, 5, 3, 9, 8, 4, 10, 10, 18, 1, 12, 14, 4, 7, 16, 2, 11, 20, 1, 16, 9, 5, 1, 17, 4, 7, 5, 3, 12, 15, 10, 4, 7, 10, 18, 1, 19, 4, 11, 1, 12, 14, 7, 3, 6, 5, 13, 4, 6, 1, 26, 21, 2, 2, 10, 16, 9, 9, 11, 26, 1, 6, 5, 9, 7, 18, 1, 3, 8, 5, 2, 10, 10, 3, 16, 2, 8, 5, 1, 4, 15, 11, 3, 2, 8, 12, 2, 1, 12, 7, 3, 8, 16, 3, 8, 16, 1, 12, 7, 4, 17, 15, 10, 2, 8, 12, 2, 1, 4, 10, 10, 20, 29, 19, 7, 1, 27, 28, 29, 19, 7, 1, 27, 28, 22, 4, 5, 12, 14, 1, 21, 9, 10, 9, 22, 3, 8, 16, 1, 12, 3, 7, 12, 15, 13, 6, 5, 4, 8, 12, 2, 6, 42, 1, 41, 42, 1, 5, 14, 2, 7, 2, 26, 6, 1, 8, 9, 5, 14, 3, 8, 16, 1, 2, 10, 6, 2, 1, 9, 8, 20, 1, 44, 42, 1, 21, 4, 8, 1, 17, 7, 2, 11, 3, 12, 5, 4, 19, 10, 2, 1, 26, 14, 9, 15, 6, 2, 22, 3, 21, 2, 1, 5, 4, 25, 2, 6, 1, 13, 2, 8, 1, 22, 3, 8, 6, 26, 1, 5, 23, 1, 13, 9, 23, 3, 2, 6, 20, 1, 47, 42, 1, 22, 4, 18, 1, 4, 17, 17, 7, 2, 12, 3, 4, 5, 2, 1, 5, 7, 15, 2, 1, 6, 5, 9, 7, 18, 1, 14, 9, 10, 10, 18, 22, 9, 9, 11, 1, 5, 15, 7, 8, 6, 1, 21, 2, 4, 5, 15, 7, 2, 1, 21, 3, 10, 13, 20, 1, 52, 42, 1, 18, 9, 15, 26, 23, 2, 1, 3, 13, 19, 3, 19, 2, 11, 1, 2, 8, 9, 15, 16, 14, 1, 8, 9, 16, 1, 2, 13, 9, 5, 3, 9, 8, 6, 1, 2, 4, 6, 3, 10, 18, 1, 6, 5, 3, 7, 7, 2, 11, 1, 15, 8, 6, 9, 17, 14, 3, 6, 5, 3, 12, 4, 5, 2, 11, 1, 6, 5, 9, 7, 18, 5, 2, 10, 10, 3, 8, 16, 20]]\n",
            "Vocabulary Size: 10000\n"
          ]
        }
      ]
    },
    {
      "cell_type": "markdown",
      "source": [
        "**Create TF Datasets**\n",
        "\n",
        "<p>🛑🛑🛑 &nbsp;&nbsp;<strong><font color=\"green\">🔑 Keys to DNN Kingdom 👑 : TF Data</font></strong>&nbsp;&nbsp;🛑🛑🛑</p>"
      ],
      "metadata": {
        "id": "URNynC6EZbuf"
      }
    },
    {
      "cell_type": "code",
      "source": [
        "batch_size = 64\n",
        "train_shuffle_buffer_size = len(train_token_x)\n",
        "validation_shuffle_buffer_size = len(validate_token_x)\n",
        "\n",
        "def pad(x, y):\n",
        "  return x.to_tensor(default_value=0, shape=[None, None]), y\n",
        "\n",
        "# Use tensorflow ragged constants to get the ragged version of data\n",
        "train_processed_x = tf.ragged.constant(train_token_x)\n",
        "validate_processed_x = tf.ragged.constant(validate_token_x)\n",
        "train_processed_y = tf.ragged.constant(train_y)\n",
        "validate_processed_y = tf.ragged.constant(validate_y)\n",
        "\n",
        "# Create TF Dataset\n",
        "train_data = tf.data.Dataset.from_tensor_slices((train_processed_x, train_processed_y))\n",
        "validation_data = tf.data.Dataset.from_tensor_slices((validate_processed_x, validate_processed_y))\n",
        "\n",
        "#############\n",
        "# Train data\n",
        "#############\n",
        "# Apply all data processing logic\n",
        "train_data = train_data.shuffle(buffer_size=train_shuffle_buffer_size)\n",
        "train_data = train_data.batch(batch_size)\n",
        "train_data = train_data.map(pad, num_parallel_calls=AUTOTUNE)\n",
        "train_data = train_data.prefetch(AUTOTUNE)\n",
        "#train_data = train_data.cache()\n",
        "\n",
        "##################\n",
        "# Validation data\n",
        "##################\n",
        "# Apply all data processing logic\n",
        "#validation_data = validation_data.shuffle(buffer_size=validation_shuffle_buffer_size)\n",
        "validation_data = validation_data.batch(batch_size)\n",
        "validation_data = validation_data.map(pad, num_parallel_calls=AUTOTUNE)\n",
        "validation_data = validation_data.prefetch(AUTOTUNE)\n",
        "\n",
        "print(\"train_data\",train_data)\n",
        "print(\"validation_data\",validation_data)"
      ],
      "metadata": {
        "id": "cWmonsdsZbuf",
        "colab": {
          "base_uri": "https://localhost:8080/"
        },
        "outputId": "b11d99fd-58b6-4468-934c-d7e0b49edf3e"
      },
      "execution_count": null,
      "outputs": [
        {
          "output_type": "stream",
          "name": "stdout",
          "text": [
            "train_data <PrefetchDataset element_spec=(TensorSpec(shape=(None, None), dtype=tf.int32, name=None), TensorSpec(shape=(None,), dtype=tf.int64, name=None))>\n",
            "validation_data <PrefetchDataset element_spec=(TensorSpec(shape=(None, None), dtype=tf.int32, name=None), TensorSpec(shape=(None,), dtype=tf.int64, name=None))>\n"
          ]
        }
      ]
    },
    {
      "cell_type": "code",
      "source": [
        "# View some data from tf dataset\n",
        "for input,output in train_data.take(1):\n",
        "  print(input.shape,output.shape)\n",
        "  \n",
        "  print(\"Input:\",input[0])\n",
        "  print(\"Output:\",output[0])\n",
        "  print(\"****************\")\n",
        "  print(\"Input:\",input[1])\n",
        "  print(\"Output:\",output[1])"
      ],
      "metadata": {
        "id": "j0H8WLCVZbuf",
        "colab": {
          "base_uri": "https://localhost:8080/"
        },
        "outputId": "d94e5334-aae3-4094-c909-a22142067605"
      },
      "execution_count": null,
      "outputs": [
        {
          "output_type": "stream",
          "name": "stdout",
          "text": [
            "(64, 3405) (64,)\n",
            "Input: tf.Tensor([ 6  4 22 ...  0  0  0], shape=(3405,), dtype=int32)\n",
            "Output: tf.Tensor(0, shape=(), dtype=int64)\n",
            "****************\n",
            "Input: tf.Tensor([33  4  8 ...  0  0  0], shape=(3405,), dtype=int32)\n",
            "Output: tf.Tensor(0, shape=(), dtype=int64)\n"
          ]
        }
      ]
    },
    {
      "cell_type": "markdown",
      "source": [
        "### **Simple Model**\n",
        "\n",
        "Now define a simple single layer LSTM model"
      ],
      "metadata": {
        "id": "99O9ogs3Zbuf"
      }
    },
    {
      "cell_type": "code",
      "source": [
        "############################\n",
        "# Training Params\n",
        "############################\n",
        "learning_rate = 1e-2\n",
        "epochs = 20\n",
        "embedding_dim = 128\n",
        "hidden_size = 12"
      ],
      "metadata": {
        "id": "OIKFBLjF2txF"
      },
      "execution_count": null,
      "outputs": []
    },
    {
      "cell_type": "markdown",
      "source": [
        "**Build Model**\n",
        "\n",
        "<p>🛑🛑🛑 &nbsp;&nbsp;<strong><font color=\"green\">🔑 Keys to DNN Kingdom 👑 : Model using functional API</font></strong>&nbsp;&nbsp;🛑🛑🛑</p>"
      ],
      "metadata": {
        "id": "XXkmM9fjZbug"
      }
    },
    {
      "cell_type": "code",
      "source": [
        "def build_simple_lstm_model(num_classes,vocab_size,embedding_dim,hidden_size):\n",
        "  # Model input\n",
        "  model_input = tf.keras.Input(shape=(None,), name='sentence_input')\n",
        "\n",
        "  # Embedding\n",
        "  embedding = tf.keras.layers.Embedding(input_dim=vocab_size+1, output_dim=embedding_dim, \n",
        "                        name='word_embedding', mask_zero=True)(model_input)\n",
        "\n",
        "  # LSTM layer\n",
        "  hidden1 = tf.keras.layers.LSTM(units=hidden_size, return_sequences=False)(embedding)\n",
        "\n",
        "  hidden = tf.keras.layers.Dense(units=hidden_size, activation='relu')(hidden1)\n",
        "\n",
        "  # Output Layer\n",
        "  output = tf.keras.layers.Dense(units=num_classes, activation='softmax')(hidden)\n",
        "\n",
        "  # Create model\n",
        "  model = tf.keras.Model(inputs=model_input, outputs=output)\n",
        "\n",
        "  return model"
      ],
      "metadata": {
        "id": "4INnX-cLZbug"
      },
      "execution_count": null,
      "outputs": []
    },
    {
      "cell_type": "markdown",
      "source": [
        "**Train**"
      ],
      "metadata": {
        "id": "A6Zv837UZbug"
      }
    },
    {
      "cell_type": "code",
      "source": [
        "# Free up memory\n",
        "tf.keras.backend.clear_session()\n",
        "\n",
        "# Build the model\n",
        "model = build_simple_lstm_model(num_classes,vocabulary_size, embedding_dim, hidden_size)\n",
        "\n",
        "# Print the model architecture\n",
        "print(model.summary())\n",
        "\n",
        "# Optimizer\n",
        "optimizer = tf.keras.optimizers.Adam(learning_rate=learning_rate)\n",
        "# Loss\n",
        "loss = tf.keras.losses.sparse_categorical_crossentropy\n",
        "\n",
        "# Compile\n",
        "model.compile(loss=loss,\n",
        "                  optimizer=optimizer,\n",
        "                  metrics=['accuracy'])\n",
        "\n",
        "# Train model\n",
        "start_time = time.time()\n",
        "training_results = model.fit(\n",
        "        train_data,\n",
        "        validation_data= validation_data,\n",
        "        epochs=epochs, \n",
        "        verbose=1)\n",
        "execution_time = (time.time() - start_time)/60.0\n",
        "print(\"Training execution time (mins)\",execution_time)"
      ],
      "metadata": {
        "id": "3m5vEz19Zbug",
        "colab": {
          "base_uri": "https://localhost:8080/"
        },
        "outputId": "e75bc957-f9f5-4201-8fa0-43bc3c98e408"
      },
      "execution_count": null,
      "outputs": [
        {
          "output_type": "stream",
          "name": "stdout",
          "text": [
            "Model: \"model\"\n",
            "_________________________________________________________________\n",
            " Layer (type)                Output Shape              Param #   \n",
            "=================================================================\n",
            " sentence_input (InputLayer)  [(None, None)]           0         \n",
            "                                                                 \n",
            " word_embedding (Embedding)  (None, None, 128)         1280128   \n",
            "                                                                 \n",
            " lstm (LSTM)                 (None, 12)                6768      \n",
            "                                                                 \n",
            " dense (Dense)               (None, 12)                156       \n",
            "                                                                 \n",
            " dense_1 (Dense)             (None, 2)                 26        \n",
            "                                                                 \n",
            "=================================================================\n",
            "Total params: 1,287,078\n",
            "Trainable params: 1,287,078\n",
            "Non-trainable params: 0\n",
            "_________________________________________________________________\n",
            "None\n",
            "Epoch 1/20\n",
            "125/125 [==============================] - 21s 129ms/step - loss: 0.6809 - accuracy: 0.5353 - val_loss: 0.6834 - val_accuracy: 0.5215\n",
            "Epoch 2/20\n",
            "125/125 [==============================] - 15s 120ms/step - loss: 0.6593 - accuracy: 0.5609 - val_loss: 0.6631 - val_accuracy: 0.5510\n",
            "Epoch 3/20\n",
            "125/125 [==============================] - 15s 119ms/step - loss: 0.6505 - accuracy: 0.5675 - val_loss: 0.6690 - val_accuracy: 0.5650\n",
            "Epoch 4/20\n",
            "125/125 [==============================] - 15s 120ms/step - loss: 0.6462 - accuracy: 0.5659 - val_loss: 0.6652 - val_accuracy: 0.5565\n",
            "Epoch 5/20\n",
            "125/125 [==============================] - 15s 120ms/step - loss: 0.6412 - accuracy: 0.5769 - val_loss: 0.6613 - val_accuracy: 0.5590\n",
            "Epoch 6/20\n",
            "125/125 [==============================] - 15s 122ms/step - loss: 0.6400 - accuracy: 0.5716 - val_loss: 0.6578 - val_accuracy: 0.5590\n",
            "Epoch 7/20\n",
            "125/125 [==============================] - 15s 122ms/step - loss: 0.6362 - accuracy: 0.5739 - val_loss: 0.6588 - val_accuracy: 0.5585\n",
            "Epoch 8/20\n",
            "125/125 [==============================] - 15s 122ms/step - loss: 0.6303 - accuracy: 0.5907 - val_loss: 0.6732 - val_accuracy: 0.5330\n",
            "Epoch 9/20\n",
            "125/125 [==============================] - 15s 123ms/step - loss: 0.6307 - accuracy: 0.5824 - val_loss: 0.6624 - val_accuracy: 0.5650\n",
            "Epoch 10/20\n",
            "125/125 [==============================] - 16s 128ms/step - loss: 0.6251 - accuracy: 0.5920 - val_loss: 0.6538 - val_accuracy: 0.5660\n",
            "Epoch 11/20\n",
            "125/125 [==============================] - 15s 121ms/step - loss: 0.6234 - accuracy: 0.5943 - val_loss: 0.6630 - val_accuracy: 0.5705\n",
            "Epoch 12/20\n",
            "125/125 [==============================] - 15s 122ms/step - loss: 0.6199 - accuracy: 0.6022 - val_loss: 0.6636 - val_accuracy: 0.5740\n",
            "Epoch 13/20\n",
            "125/125 [==============================] - 15s 121ms/step - loss: 0.6214 - accuracy: 0.5962 - val_loss: 0.6744 - val_accuracy: 0.5615\n",
            "Epoch 14/20\n",
            "125/125 [==============================] - 15s 121ms/step - loss: 0.6212 - accuracy: 0.5999 - val_loss: 0.6590 - val_accuracy: 0.5645\n",
            "Epoch 15/20\n",
            "125/125 [==============================] - 15s 121ms/step - loss: 0.6229 - accuracy: 0.6019 - val_loss: 0.6649 - val_accuracy: 0.5560\n",
            "Epoch 16/20\n",
            "125/125 [==============================] - 15s 121ms/step - loss: 0.6232 - accuracy: 0.5990 - val_loss: 0.6894 - val_accuracy: 0.5625\n",
            "Epoch 17/20\n",
            "125/125 [==============================] - 15s 121ms/step - loss: 0.6232 - accuracy: 0.6015 - val_loss: 0.6529 - val_accuracy: 0.5670\n",
            "Epoch 18/20\n",
            "125/125 [==============================] - 15s 120ms/step - loss: 0.6195 - accuracy: 0.6044 - val_loss: 0.6721 - val_accuracy: 0.5660\n",
            "Epoch 19/20\n",
            "125/125 [==============================] - 15s 121ms/step - loss: 0.6190 - accuracy: 0.6053 - val_loss: 0.6587 - val_accuracy: 0.5560\n",
            "Epoch 20/20\n",
            "125/125 [==============================] - 15s 121ms/step - loss: 0.6194 - accuracy: 0.6068 - val_loss: 0.6534 - val_accuracy: 0.5705\n",
            "Training execution time (mins) 5.15596330165863\n"
          ]
        }
      ]
    },
    {
      "cell_type": "code",
      "source": [
        "# Plot training results\n",
        "fig = plt.figure(figsize=(20,5))\n",
        "axs = fig.add_subplot(1,3,1)\n",
        "axs.set_title('Loss')\n",
        "# Plot all metrics\n",
        "for metric in [\"loss\",\"val_loss\"]:\n",
        "    axs.plot(np.arange(0, epochs), training_results.history[metric], label=metric)\n",
        "axs.legend()\n",
        "\n",
        "axs = fig.add_subplot(1,3,2)\n",
        "axs.set_title('Accuracy')\n",
        "# Plot all metrics\n",
        "for metric in [\"accuracy\",\"val_accuracy\"]:\n",
        "    axs.plot(np.arange(0, epochs), training_results.history[metric], label=metric)\n",
        "axs.legend()\n",
        "\n",
        "plt.show()"
      ],
      "metadata": {
        "id": "bmb4iZw2Zbug",
        "colab": {
          "base_uri": "https://localhost:8080/",
          "height": 336
        },
        "outputId": "1cd02c09-fc0e-4786-a3c7-6b22158c1d4e"
      },
      "execution_count": null,
      "outputs": [
        {
          "output_type": "display_data",
          "data": {
            "text/plain": [
              "<Figure size 1440x360 with 2 Axes>"
            ],
            "image/png": "[encoded data removed]"
          },
          "metadata": {
            "needs_background": "light"
          }
        }
      ]
    },
    {
      "cell_type": "markdown",
      "source": [
        "**Evaluate**"
      ],
      "metadata": {
        "id": "jQrS5LzYHWZ1"
      }
    },
    {
      "cell_type": "code",
      "source": [
        "# Predict on the test set\n",
        "pred = model.predict(validation_data)\n",
        "pred = pred.argmax(axis=1)\n",
        "\n",
        "# Print the classification report comparing the true labels and the predicted ones\n",
        "print(classification_report(validate_processed_y, pred))"
      ],
      "metadata": {
        "id": "FVBEjfDa3hKz",
        "colab": {
          "base_uri": "https://localhost:8080/"
        },
        "outputId": "66dce1d8-7122-471a-8139-e557822bc05d"
      },
      "execution_count": null,
      "outputs": [
        {
          "output_type": "stream",
          "name": "stdout",
          "text": [
            "              precision    recall  f1-score   support\n",
            "\n",
            "           0       0.59      0.48      0.53      1002\n",
            "           1       0.56      0.66      0.61       998\n",
            "\n",
            "    accuracy                           0.57      2000\n",
            "   macro avg       0.57      0.57      0.57      2000\n",
            "weighted avg       0.57      0.57      0.57      2000\n",
            "\n"
          ]
        }
      ]
    },
    {
      "cell_type": "markdown",
      "source": [
        "### **Model with Residual Connections 🎊🎉**\n",
        "\n",
        "Now define LSTM model with residual connections. \n",
        "\n",
        "From the google [Translate paper](https://arxiv.org/abs/1609.08144), we can see that skip connections enable us to train deeper recurrent networks.\n",
        "\n",
        "For that, add skips connections between different LSTMs layers."
      ],
      "metadata": {
        "id": "4yF484jL3Vvg"
      }
    },
    {
      "cell_type": "markdown",
      "source": [
        "**Build Model**\n",
        "\n",
        "<p>🛑🛑🛑 &nbsp;&nbsp;<strong><font color=\"green\">🔑 Keys to DNN Kingdom 👑 : Model using functional API</font></strong>&nbsp;&nbsp;🛑🛑🛑</p>\n",
        "\n",
        "**<font color='red'>Activity</font> 🎊🎉** "
      ],
      "metadata": {
        "id": "t0NK8H9FIk6i"
      }
    },
    {
      "cell_type": "code",
      "source": [
        "def build_lstm_residual_connections_model(num_classes,vocab_size,embedding_dim,hidden_size):\n",
        "  # Model input\n",
        "  model_input = tf.keras.Input(shape=(None,), name='sentence_input')\n",
        "\n",
        "  # Embedding\n",
        "  # Add a embedding layer with dimension tokenizer.num_words+1 and embedding size.\n",
        "  # Set mask_zero as true \n",
        "  embedding = tf.keras.layers.Embedding(input_dim=vocab_size+1, output_dim=embedding_dim, \n",
        "                        name='word_embedding', mask_zero=True)(model_input)\n",
        "\n",
        "  # Add an LSTM layer with hidden size and return the sequences\n",
        "  hidden1 = tf.keras.layers.LSTM(units=hidden_size, return_sequences=True)(embedding)\n",
        "  # Create residual connection\n",
        "  #residual1 = hidden1 + embedding # This will not work the dimension of embedding cannot be added to hidden1\n",
        "  embedding_projections = tf.keras.layers.Dense(units=hidden_size, activation='relu')\n",
        "  residual1 = hidden1 + embedding_projections(embedding)\n",
        "\n",
        "  # Add another LSTM layer with hidden size and return the sequences\n",
        "  hidden2 = tf.keras.layers.LSTM(units=hidden_size, return_sequences=True)(residual1)\n",
        "  # Create a residual connection\n",
        "  residual2 = hidden2 + hidden1\n",
        "\n",
        "  # Add another LSTM layer with hidden size and return the sequences\n",
        "  hidden3 = tf.keras.layers.LSTM(units=hidden_size, return_sequences=True)(residual2)\n",
        "  # Create a residual connection\n",
        "  residual3 = hidden3 + hidden2\n",
        "\n",
        "  # Add another LSTM layer with hidden size and return the sequences\n",
        "  hidden4 = tf.keras.layers.LSTM(units=hidden_size, return_sequences=True)(residual3)\n",
        "\n",
        "  # Concatenate all hidden states\n",
        "  hidden = tf.keras.layers.Concatenate(axis=2)([hidden1, hidden2, hidden3, hidden4])\n",
        "\n",
        "  # Use last LSTM layer with hidden size and return sequences False\n",
        "  final = tf.keras.layers.LSTM(units=hidden_size, return_sequences=False)(hidden)\n",
        "\n",
        "  # Output Layer\n",
        "  output = tf.keras.layers.Dense(units=num_classes, activation='softmax')(final)\n",
        "\n",
        "  # Create model\n",
        "  model = tf.keras.Model(inputs=model_input, outputs=output)\n",
        "\n",
        "  return model"
      ],
      "metadata": {
        "id": "Iu8v9b9C3ang"
      },
      "execution_count": null,
      "outputs": []
    },
    {
      "cell_type": "markdown",
      "source": [
        "**Solution**"
      ],
      "metadata": {
        "id": "RMRnWmie-SWr"
      }
    },
    {
      "cell_type": "code",
      "source": [
        "display_solution(\"https://storage.googleapis.com/public-code-snippets/cs109b_lab9_activity2.txt\")"
      ],
      "metadata": {
        "id": "UQpOnFN8EIq-",
        "colab": {
          "base_uri": "https://localhost:8080/"
        },
        "outputId": "59712b1b-b95e-46a6-9d94-8cf46cac1d66"
      },
      "execution_count": null,
      "outputs": [
        {
          "output_type": "stream",
          "name": "stdout",
          "text": [
            "def build_lstm_residual_connections_model(num_classes,vocab_size,embedding_dim,hidden_size):\n",
            "  # Model input\n",
            "  model_input = tf.keras.Input(shape=(None,), name='sentence_input')\n",
            "\n",
            "  # Embedding\n",
            "  # Add a embedding layer with dimension tokenizer.num_words+1 and embedding size.\n",
            "  # Set mask_zero as true \n",
            "  embedding = tf.keras.layers.Embedding(input_dim=vocab_size+1, output_dim=embedding_dim, \n",
            "                        name='word_embedding', mask_zero=True)(model_input)\n",
            "\n",
            "  # Add an LSTM layer with hidden size and return the sequences\n",
            "  hidden1 = tf.keras.layers.LSTM(units=hidden_size, return_sequences=True)(embedding)\n",
            "  # Create residual connection\n",
            "  #residual1 = hidden1 + embedding # This will not work the dimension of embedding cannot be added to hidden1\n",
            "  embedding_projections = tf.keras.layers.Dense(units=hidden_size, activation='relu')\n",
            "  residual1 = hidden1 + embedding_projections(embedding)\n",
            "\n",
            "  # Add another LSTM layer with hidden size and return the sequences\n",
            "  hidden2 = tf.keras.layers.LSTM(units=hidden_size, return_sequences=True)(residual1)\n",
            "  # Create a residual connection\n",
            "  residual2 = hidden2 + hidden1\n",
            "\n",
            "  # Add another LSTM layer with hidden size and return the sequences\n",
            "  hidden3 = tf.keras.layers.LSTM(units=hidden_size, return_sequences=True)(residual2)\n",
            "  # Create a residual connection\n",
            "  residual3 = hidden3 + hidden2\n",
            "\n",
            "  # Add another LSTM layer with hidden size and return the sequences\n",
            "  hidden4 = tf.keras.layers.LSTM(units=hidden_size, return_sequences=True)(residual3)\n",
            "\n",
            "  # Concatenate all hidden states\n",
            "  hidden = tf.keras.layers.Concatenate(axis=2)([hidden1, hidden2, hidden3, hidden4])\n",
            "\n",
            "  # Use last LSTM layer with hidden size and return sequences False\n",
            "  final = tf.keras.layers.LSTM(units=hidden_size, return_sequences=False)(hidden)\n",
            "\n",
            "  # Output Layer\n",
            "  output = tf.keras.layers.Dense(units=num_classes, activation='softmax')(final)\n",
            "\n",
            "  # Create model\n",
            "  model = tf.keras.Model(inputs=model_input, outputs=output)\n",
            "\n",
            "  return model\n"
          ]
        }
      ]
    },
    {
      "cell_type": "markdown",
      "source": [
        "**Train**"
      ],
      "metadata": {
        "id": "_aRiLZ46Hbft"
      }
    },
    {
      "cell_type": "code",
      "source": [
        "############################\n",
        "# Training Params\n",
        "############################\n",
        "learning_rate = 1e-2\n",
        "epochs = 3 # 20\n",
        "embedding_dim = 128\n",
        "hidden_size = 12\n",
        "\n",
        "# Free up memory\n",
        "tf.keras.backend.clear_session()\n",
        "\n",
        "# Build the model\n",
        "model = build_lstm_residual_connections_model(num_classes,vocabulary_size, embedding_dim, hidden_size)\n",
        "\n",
        "# Print the model architecture\n",
        "print(model.summary())\n",
        "\n",
        "# Optimizer\n",
        "optimizer = tf.keras.optimizers.Adam(learning_rate=learning_rate)\n",
        "# Loss\n",
        "loss = tf.keras.losses.sparse_categorical_crossentropy\n",
        "\n",
        "# Compile\n",
        "model.compile(loss=loss,\n",
        "                  optimizer=optimizer,\n",
        "                  metrics=['accuracy'])\n",
        "\n",
        "# Train model\n",
        "start_time = time.time()\n",
        "training_results = model.fit(\n",
        "        train_data,\n",
        "        validation_data= validation_data,\n",
        "        epochs=epochs, \n",
        "        verbose=1)\n",
        "execution_time = (time.time() - start_time)/60.0\n",
        "print(\"Training execution time (mins)\",execution_time)"
      ],
      "metadata": {
        "id": "OneJ3WIW39nn",
        "colab": {
          "base_uri": "https://localhost:8080/"
        },
        "outputId": "144cc602-65ff-48f0-9256-bcc07a77ab70"
      },
      "execution_count": null,
      "outputs": [
        {
          "output_type": "stream",
          "name": "stdout",
          "text": [
            "Model: \"model\"\n",
            "__________________________________________________________________________________________________\n",
            " Layer (type)                   Output Shape         Param #     Connected to                     \n",
            "==================================================================================================\n",
            " sentence_input (InputLayer)    [(None, None)]       0           []                               \n",
            "                                                                                                  \n",
            " word_embedding (Embedding)     (None, None, 128)    1280128     ['sentence_input[0][0]']         \n",
            "                                                                                                  \n",
            " lstm (LSTM)                    (None, None, 12)     6768        ['word_embedding[0][0]']         \n",
            "                                                                                                  \n",
            " dense (Dense)                  (None, None, 12)     1548        ['word_embedding[0][0]']         \n",
            "                                                                                                  \n",
            " tf.__operators__.add (TFOpLamb  (None, None, 12)    0           ['lstm[0][0]',                   \n",
            " da)                                                              'dense[0][0]']                  \n",
            "                                                                                                  \n",
            " lstm_1 (LSTM)                  (None, None, 12)     1200        ['tf.__operators__.add[0][0]']   \n",
            "                                                                                                  \n",
            " tf.__operators__.add_1 (TFOpLa  (None, None, 12)    0           ['lstm_1[0][0]',                 \n",
            " mbda)                                                            'lstm[0][0]']                   \n",
            "                                                                                                  \n",
            " lstm_2 (LSTM)                  (None, None, 12)     1200        ['tf.__operators__.add_1[0][0]'] \n",
            "                                                                                                  \n",
            " tf.__operators__.add_2 (TFOpLa  (None, None, 12)    0           ['lstm_2[0][0]',                 \n",
            " mbda)                                                            'lstm_1[0][0]']                 \n",
            "                                                                                                  \n",
            " lstm_3 (LSTM)                  (None, None, 12)     1200        ['tf.__operators__.add_2[0][0]'] \n",
            "                                                                                                  \n",
            " concatenate (Concatenate)      (None, None, 48)     0           ['lstm[0][0]',                   \n",
            "                                                                  'lstm_1[0][0]',                 \n",
            "                                                                  'lstm_2[0][0]',                 \n",
            "                                                                  'lstm_3[0][0]']                 \n",
            "                                                                                                  \n",
            " lstm_4 (LSTM)                  (None, 12)           2928        ['concatenate[0][0]']            \n",
            "                                                                                                  \n",
            " dense_1 (Dense)                (None, 2)            26          ['lstm_4[0][0]']                 \n",
            "                                                                                                  \n",
            "==================================================================================================\n",
            "Total params: 1,294,998\n",
            "Trainable params: 1,294,998\n",
            "Non-trainable params: 0\n",
            "__________________________________________________________________________________________________\n",
            "None\n",
            "Epoch 1/3\n",
            "125/125 [==============================] - 86s 606ms/step - loss: 0.6837 - accuracy: 0.5286 - val_loss: 0.6733 - val_accuracy: 0.5465\n",
            "Epoch 2/3\n",
            "125/125 [==============================] - 71s 571ms/step - loss: 0.6614 - accuracy: 0.5601 - val_loss: 0.6625 - val_accuracy: 0.5500\n",
            "Epoch 3/3\n",
            "125/125 [==============================] - 71s 572ms/step - loss: 0.6556 - accuracy: 0.5636 - val_loss: 0.6589 - val_accuracy: 0.5575\n",
            "Training execution time (mins) 3.810488470395406\n"
          ]
        }
      ]
    },
    {
      "cell_type": "code",
      "source": [
        "# Plot training results\n",
        "fig = plt.figure(figsize=(20,5))\n",
        "axs = fig.add_subplot(1,3,1)\n",
        "axs.set_title('Loss')\n",
        "# Plot all metrics\n",
        "for metric in [\"loss\",\"val_loss\"]:\n",
        "    axs.plot(np.arange(0, epochs), training_results.history[metric], label=metric)\n",
        "axs.legend()\n",
        "\n",
        "axs = fig.add_subplot(1,3,2)\n",
        "axs.set_title('Accuracy')\n",
        "# Plot all metrics\n",
        "for metric in [\"accuracy\",\"val_accuracy\"]:\n",
        "    axs.plot(np.arange(0, epochs), training_results.history[metric], label=metric)\n",
        "axs.legend()\n",
        "\n",
        "plt.show()"
      ],
      "metadata": {
        "id": "MoGs1bSP4DiZ"
      },
      "execution_count": null,
      "outputs": []
    },
    {
      "cell_type": "markdown",
      "source": [
        "**Evaluate**"
      ],
      "metadata": {
        "id": "BIPA7_lmHNib"
      }
    },
    {
      "cell_type": "code",
      "source": [
        "# Predict on the test set\n",
        "pred = model.predict(validation_data)\n",
        "pred = pred.argmax(axis=1)\n",
        "\n",
        "# Print the classification report comparing the true labels and the predicted ones\n",
        "print(classification_report(validate_processed_y, pred))"
      ],
      "metadata": {
        "id": "dohbKwVT4D-5"
      },
      "execution_count": null,
      "outputs": []
    },
    {
      "cell_type": "markdown",
      "source": [
        "## **ELMo and Highway Networks**"
      ],
      "metadata": {
        "id": "qlSFbedknhnR"
      }
    },
    {
      "cell_type": "markdown",
      "source": [
        "**Steps:**\n",
        "\n",
        "* Load the IMDB dataset from keras datasets\n",
        "* Split the dataset into train and test data and labels\n",
        "* Define the input and output of the ELMo model\n",
        "* Generate TF Datasets \n",
        "* Define a class HighwayLayer that inherits from tf.keras.layers.Layer to implement the highway network layer\n",
        "* Define an ELMo model with the custom highway layer\n",
        "* Compile and train the ELMo model\n",
        "* Plot the trace plot of the model history\n",
        "* For a sentence in the test dataset, extract both the word embeddings and the contextual embeddings of the sentence by passing it through the trained ELMo model"
      ],
      "metadata": {
        "id": "oKmcEiWGq0rB"
      }
    },
    {
      "cell_type": "markdown",
      "source": [
        "### **Load the data**\n",
        "\n",
        "\n",
        "Load the IMDB dataset"
      ],
      "metadata": {
        "id": "HkYc9GyB5SVi"
      }
    },
    {
      "cell_type": "code",
      "source": [
        "# Use the helper code given to load the IMDB dataset with the following parameters\n",
        "n_words = 2000\n",
        "skip= 100\n",
        "data_train, data_validation = tf.keras.datasets.imdb.load_data(num_words=n_words,skip_top=skip, maxlen=200 )"
      ],
      "metadata": {
        "id": "p3T73Ff8q2Qc"
      },
      "execution_count": null,
      "outputs": []
    },
    {
      "cell_type": "code",
      "source": [
        "print(\"data_train input shape:\",data_train[0].shape)\n",
        "print(\"data_train output shape:\",data_train[1].shape)\n",
        "print(\"data_validation input shape:\",data_validation[0].shape)\n",
        "print(\"data_validation outout shape:\",data_validation[1].shape)\n",
        "\n",
        "# View a training samples\n",
        "for i in range(5):\n",
        "  print(\"Length:\",len(data_train[0][i]))\n",
        "  print(data_train[0][i])\n",
        "  print(data_train[1][i])"
      ],
      "metadata": {
        "id": "xzJyuA-EvRCt"
      },
      "execution_count": null,
      "outputs": []
    },
    {
      "cell_type": "markdown",
      "source": [
        "Our input sentences are ragged and we will need to handle that in our data pipeleines to feed to the model for training"
      ],
      "metadata": {
        "id": "pCB9mxVewed7"
      }
    },
    {
      "cell_type": "code",
      "source": [
        "### Helper code to fix the mapping of the imdb word index\n",
        "index = tf.keras.datasets.imdb.get_word_index()\n",
        "\n",
        "# we need to add 3 from the indices because 0 is 'padding', 1 is 'start of sequence' and 2 is 'unknown'\n",
        "inv_index = { j+3:i for i,j in index.items()}\n",
        "inv_index[0] = \"\"\n",
        "inv_index[1] = \"<s>\"\n",
        "inv_index[2] = \"UNK\""
      ],
      "metadata": {
        "id": "YggN3MpJseJt"
      },
      "execution_count": null,
      "outputs": []
    },
    {
      "cell_type": "code",
      "source": [
        "# Display actual text\n",
        "review = [inv_index[token] for token in data_train[0][0]]\n",
        "print(\"review:\",\" \".join(review))"
      ],
      "metadata": {
        "id": "J9AsfvP_svoy"
      },
      "execution_count": null,
      "outputs": []
    },
    {
      "cell_type": "markdown",
      "source": [
        "### **Build Data Pipelines**"
      ],
      "metadata": {
        "id": "cEdWtmmKH4IK"
      }
    },
    {
      "cell_type": "markdown",
      "source": [
        "* The data is already preprocessed. \n",
        "* We define the input and target words.\n",
        "\n",
        "* We will predict the next word based on the input."
      ],
      "metadata": {
        "id": "nryyOObluLCE"
      }
    },
    {
      "cell_type": "markdown",
      "source": [
        "\n",
        "**Generate Training Data**\n",
        "\n",
        "For the training the model we need sentences as inputs and outputs. We will train the models in a semi-supervised way. So the input will be all the words of the sentence, except the last one. The output is all the words of the sentence, except the first one"
      ],
      "metadata": {
        "id": "iexkI1sgucD-"
      }
    },
    {
      "cell_type": "code",
      "source": [
        "# Define the input and output of the network for both, the train and test sets\n",
        "# The input is the all the words of the sentence, except the last one\n",
        "# The output is all the words of the sentence, except the first one\n",
        "\n",
        "train_x  = [i[:-1] for i in data_train[0]]\n",
        "train_y = [i[1:] for i in data_train[0]]\n",
        "\n",
        "validation_x  = [i[:-1] for i in data_validation[0]]\n",
        "validation_y = [i[1:] for i in data_validation[0]]"
      ],
      "metadata": {
        "id": "bjqGwoVbu5Ji"
      },
      "execution_count": null,
      "outputs": []
    },
    {
      "cell_type": "code",
      "source": [
        "# View a few samples\n",
        "for i in range(5):\n",
        "  print(\"\")\n",
        "  print(\"Length:\",len(train_x[i]),train_x[i])\n",
        "  print(\"Length:\",len(train_y[i]),train_y[i])"
      ],
      "metadata": {
        "id": "HABDo8ifujdB"
      },
      "execution_count": null,
      "outputs": []
    },
    {
      "cell_type": "markdown",
      "source": [
        "**Create TF Datasets**\n",
        "\n",
        "<p>🛑🛑🛑 &nbsp;&nbsp;<strong><font color=\"green\">🔑 Keys to DNN Kingdom 👑 : TF Data</font></strong>&nbsp;&nbsp;🛑🛑🛑</p>"
      ],
      "metadata": {
        "id": "FXJA4GpAH_0m"
      }
    },
    {
      "cell_type": "code",
      "source": [
        "batch_size = 512\n",
        "train_shuffle_buffer_size = len(train_x)\n",
        "validation_shuffle_buffer_size = len(validate_x)\n",
        "\n",
        "def pad(x, y):\n",
        "  return (x.to_tensor(default_value=0, shape=[None, None]), y.to_tensor(default_value=0, shape=[None, None]))\n",
        "\n",
        "# Use tensorflow ragged constants to get the ragged version of data\n",
        "train_processed_x = tf.ragged.constant(train_x)\n",
        "validation_processed_x = tf.ragged.constant(validation_x)\n",
        "train_processed_y = tf.ragged.constant(train_y)\n",
        "validation_processed_y = tf.ragged.constant(validation_y)\n",
        "\n",
        "# Create TF Dataset\n",
        "train_data = tf.data.Dataset.from_tensor_slices((train_processed_x, train_processed_y))\n",
        "validation_data = tf.data.Dataset.from_tensor_slices((validation_processed_x, validation_processed_y))\n",
        "\n",
        "#############\n",
        "# Train data\n",
        "#############\n",
        "# Apply all data processing logic\n",
        "train_data = train_data.shuffle(buffer_size=train_shuffle_buffer_size)\n",
        "train_data = train_data.batch(batch_size)\n",
        "train_data = train_data.map(pad, num_parallel_calls=AUTOTUNE)\n",
        "train_data = train_data.prefetch(AUTOTUNE)\n",
        "\n",
        "##################\n",
        "# Validation data\n",
        "##################\n",
        "# Apply all data processing logic\n",
        "validation_data = validation_data.shuffle(buffer_size=validation_shuffle_buffer_size)\n",
        "validation_data = validation_data.batch(batch_size)\n",
        "validation_data = validation_data.map(pad, num_parallel_calls=AUTOTUNE)\n",
        "validation_data = validation_data.prefetch(AUTOTUNE)\n",
        "\n",
        "print(\"train_data\",train_data)\n",
        "print(\"validation_data\",validation_data)"
      ],
      "metadata": {
        "id": "D8AKabvwu5Mq"
      },
      "execution_count": null,
      "outputs": []
    },
    {
      "cell_type": "code",
      "source": [
        "# View some data from tf dataset\n",
        "for input,output in train_data.take(1):\n",
        "  print(input.shape,output.shape)\n",
        "  \n",
        "  print(\"Input:\",input[0])\n",
        "  print(\"Output:\",output[0])\n",
        "  # print(\"****************\")\n",
        "  # print(\"Input:\",input[1])\n",
        "  # print(\"Output:\",output[1])"
      ],
      "metadata": {
        "id": "iTsUEtbiu5QP"
      },
      "execution_count": null,
      "outputs": []
    },
    {
      "cell_type": "markdown",
      "source": [
        "### **ELMo Model 🎊🎉**\n",
        "\n",
        "Now Build the ELMo model to extract embeddings"
      ],
      "metadata": {
        "id": "h9J0amoF6f6U"
      }
    },
    {
      "cell_type": "markdown",
      "source": [
        "**Custom Highway Network Layer**\n",
        "\n",
        "\n",
        "<p>🛑🛑🛑 &nbsp;&nbsp;<strong><font color=\"green\">🔑 Keys to DNN Kingdom 👑 : Custom Layer</font></strong>&nbsp;&nbsp;🛑🛑🛑</p>"
      ],
      "metadata": {
        "id": "5okacC9tQGk0"
      }
    },
    {
      "cell_type": "markdown",
      "source": [
        "\n",
        "\n",
        "You should include a highway connection between the layers of the LSTM. Keras doesn't have it by default.\n",
        "\n",
        "Remember that a highway network is written as:\n",
        "$$x = z \\odot T +r \\odot C$$\n",
        "Where $r$ is the output of the previous layer, $z$ the result of a dense layer applied to $r$, $T$ and $C$ the Transform gate and Carry gate, respectively.\n",
        "\n",
        "For simplicity, we assume that $C$ = $1-T$. Then, the highway network is:\n",
        "\\begin{align}\n",
        "x &= z \\odot T +r \\odot (1-T) \\\\\n",
        "&= z \\odot T -r \\odot T+ r \\\\\n",
        "&= (z -r)\\odot T + r \n",
        "\\end{align}\n",
        "$$ $$\n",
        "To create a the highway network, we create the $T$ vector to multiplicate each value of the input.\n",
        "\n",
        "\n",
        "Note that we add self.supports_masking = True to support masking. This attribute ensures that the layer will propagate its input mask to its outputs; masking in Keras is by default False. \n",
        "\n",
        "**<font color='red'>Activity</font> 🎊🎉** "
      ],
      "metadata": {
        "id": "1h_0esZsy6ie"
      }
    },
    {
      "cell_type": "code",
      "source": [
        "# Define a class that builds the custom layer for the highway network\n",
        "# This will implement the equation presented above\n",
        "\n",
        "class HighwayLayer(tf.keras.layers.Layer):\n",
        "    def __init__(self):\n",
        "      super(HighwayLayer, self).__init__()\n",
        "      self.supports_masking = ___\n",
        "    \n",
        "    # The __call__() method of your layer will automatically run build the first time it is called\n",
        "    def build(self, input_shape):\n",
        "      # Create the state of the layer (weights)\n",
        "      # Define a tf.Variable using tf.random_normal_initializer with mean=0.0 and stddev=0.05, shape=[1,input_shape[-1]\n",
        "      # Make sure to set tge trainable=True for the tf.Variable\n",
        "      self.T = ___     \n",
        "\n",
        "    def call(self, z, r):\n",
        "      # compute the highway network output as show above\n",
        "      return ___\n"
      ],
      "metadata": {
        "id": "ZKRe1zPVzAq_"
      },
      "execution_count": null,
      "outputs": []
    },
    {
      "cell_type": "markdown",
      "source": [
        "**Solution**"
      ],
      "metadata": {
        "id": "pxV_vivI-lFe"
      }
    },
    {
      "cell_type": "code",
      "source": [
        "##display_solution(\"https://storage.googleapis.com/public-code-snippets/cs109b_lab9_activity3.txt\")"
      ],
      "metadata": {
        "id": "JgjgNbEUEOgL"
      },
      "execution_count": null,
      "outputs": []
    },
    {
      "cell_type": "markdown",
      "source": [
        "**Build Model**\n",
        "\n",
        "<p>🛑🛑🛑 &nbsp;&nbsp;<strong><font color=\"green\">🔑 Keys to DNN Kingdom 👑 : Model using functional API</font></strong>&nbsp;&nbsp;🛑🛑🛑</p>"
      ],
      "metadata": {
        "id": "bxQ8zsY1IesN"
      }
    },
    {
      "cell_type": "code",
      "source": [
        "def build_model(vocab_size,embedding_dim,hidden_size):\n",
        "  # Model input\n",
        "  model_input = tf.keras.Input(shape=(None,), name='sentence_input')\n",
        "\n",
        "  # Embedding\n",
        "  embedding = tf.keras.layers.Embedding(input_dim=vocab_size+1, output_dim=embedding_dim, \n",
        "                        name='embedding', mask_zero=True)(model_input)\n",
        "\n",
        "  # LSTM layer\n",
        "  r = tf.keras.layers.LSTM(units=hidden_size, return_sequences=True, name=\"r\")(embedding)\n",
        "  z = tf.keras.layers.Dense(units=hidden_size,name=\"z\")(r)\n",
        "\n",
        "  # Highway\n",
        "  h1_hw = HighwayLayer()(z,r)\n",
        "\n",
        "  h2 = tf.keras.layers.LSTM(units=hidden_size, return_sequences=True, name=\"h2\")(h1_hw)\n",
        "\n",
        "  # Output Layer\n",
        "  output = tf.keras.layers.Dense(units=vocab_size+1, activation='softmax', name='softmax_layer')(h2)\n",
        "\n",
        "  # Create model\n",
        "  model = tf.keras.Model(inputs=model_input, outputs=output)\n",
        "\n",
        "  # Create Toy ELMo model\n",
        "  toy_ELMo = tf.keras.Model(inputs=model_input, outputs=[embedding,h2], name='Toy_ELMo')\n",
        "\n",
        "  return model, toy_ELMo"
      ],
      "metadata": {
        "id": "Y469dIsB6sGy"
      },
      "execution_count": null,
      "outputs": []
    },
    {
      "cell_type": "markdown",
      "source": [
        "**Train**"
      ],
      "metadata": {
        "id": "kqG9wlHCHX_E"
      }
    },
    {
      "cell_type": "code",
      "source": [
        "############################\n",
        "# Training Params\n",
        "############################\n",
        "learning_rate = 5e-2\n",
        "epochs = 10\n",
        "embedding_dim = 32\n",
        "hidden_size = 10\n",
        "vocabulary_size = n_words\n",
        "\n",
        "# Free up memory\n",
        "tf.keras.backend.clear_session()\n",
        "\n",
        "# Build the model\n",
        "model, toy_ELMo = build_model(vocabulary_size, embedding_dim, hidden_size)\n",
        "\n",
        "# Print the model architecture\n",
        "print(model.summary())\n",
        "\n",
        "# Optimizer\n",
        "optimizer = tf.keras.optimizers.Adam(learning_rate=learning_rate)\n",
        "# Loss\n",
        "loss = tf.keras.losses.sparse_categorical_crossentropy\n",
        "\n",
        "# Compile\n",
        "model.compile(loss=loss,\n",
        "                  optimizer=optimizer,\n",
        "                  metrics=['accuracy'])\n",
        "\n",
        "# Train model\n",
        "start_time = time.time()\n",
        "training_results = model.fit(\n",
        "        train_data,\n",
        "        validation_data= validation_data,\n",
        "        epochs=epochs, \n",
        "        verbose=1)\n",
        "execution_time = (time.time() - start_time)/60.0\n",
        "print(\"Training execution time (mins)\",execution_time)"
      ],
      "metadata": {
        "id": "-srEwEZyK2X-"
      },
      "execution_count": null,
      "outputs": []
    },
    {
      "cell_type": "markdown",
      "source": [
        "Plot Training Metrics"
      ],
      "metadata": {
        "id": "TRXolz0ez5_d"
      }
    },
    {
      "cell_type": "code",
      "source": [
        "# Plot training results\n",
        "fig = plt.figure(figsize=(20,5))\n",
        "axs = fig.add_subplot(1,3,1)\n",
        "axs.set_title('Loss')\n",
        "# Plot all metrics\n",
        "for metric in [\"loss\",\"val_loss\"]:\n",
        "    axs.plot(np.arange(0, epochs), training_results.history[metric], label=metric)\n",
        "axs.legend()\n",
        "\n",
        "axs = fig.add_subplot(1,3,2)\n",
        "axs.set_title('Accuracy')\n",
        "# Plot all metrics\n",
        "for metric in [\"accuracy\",\"val_accuracy\"]:\n",
        "    axs.plot(np.arange(0, epochs), training_results.history[metric], label=metric)\n",
        "axs.legend()\n",
        "\n",
        "plt.show()"
      ],
      "metadata": {
        "id": "RmyQL9pXLSg6"
      },
      "execution_count": null,
      "outputs": []
    },
    {
      "cell_type": "markdown",
      "source": [
        "### Extract embedding of a sentence\n",
        "\n",
        "We can extract the word embeddings. For an arbitrary sentence, we extract the word embedding."
      ],
      "metadata": {
        "id": "1Vcp3rBB0ICe"
      }
    },
    {
      "cell_type": "code",
      "source": [
        "# View some data from tf dataset\n",
        "for batch in validation_data.take(1):\n",
        "  input, output = batch\n",
        "  print(input.shape,output.shape)"
      ],
      "metadata": {
        "id": "Vnd8lOUq0IcR"
      },
      "execution_count": null,
      "outputs": []
    },
    {
      "cell_type": "code",
      "source": [
        "# Pass the input through the toy elmo model\n",
        "model_outputs = toy_ELMo(input)\n",
        "print(\"model_outputs\",len(model_outputs))\n",
        "\n",
        "# Unpack the outputs\n",
        "embedding,h2 = model_outputs\n",
        "\n",
        "print(\"embedding:\",embedding.shape)\n",
        "print(embedding[0])\n",
        "print(\"h2:\",h2.shape)\n",
        "print(h2[0])"
      ],
      "metadata": {
        "id": "_lQDOOC3wOTu"
      },
      "execution_count": null,
      "outputs": []
    },
    {
      "cell_type": "markdown",
      "source": [
        "## **Using TensorBoard in Colab**"
      ],
      "metadata": {
        "id": "WTagrYvswKBU"
      }
    },
    {
      "cell_type": "markdown",
      "source": [
        "Load the extension"
      ],
      "metadata": {
        "id": "Q2pP6SCKwQBP"
      }
    },
    {
      "cell_type": "code",
      "source": [
        "# Load the TensorBoard notebook extension\n",
        "%load_ext tensorboard"
      ],
      "metadata": {
        "id": "idLq6bCzwRt8"
      },
      "execution_count": null,
      "outputs": []
    },
    {
      "cell_type": "markdown",
      "source": [
        "Download some data"
      ],
      "metadata": {
        "id": "C08288NMwf8F"
      }
    },
    {
      "cell_type": "code",
      "source": [
        "fashion_mnist = tf.keras.datasets.fashion_mnist\n",
        "\n",
        "(x_train, y_train),(x_validation, y_validation) = fashion_mnist.load_data()\n",
        "x_train, x_validation = x_train / 255.0, x_validation / 255.0"
      ],
      "metadata": {
        "id": "j-XUGvqEwiJT"
      },
      "execution_count": null,
      "outputs": []
    },
    {
      "cell_type": "markdown",
      "source": [
        "Creat a simple model"
      ],
      "metadata": {
        "id": "offKRi4Bwn3k"
      }
    },
    {
      "cell_type": "code",
      "source": [
        "def create_model():\n",
        "  return tf.keras.models.Sequential([\n",
        "    tf.keras.layers.Flatten(input_shape=(28, 28)),\n",
        "    tf.keras.layers.Dense(512, activation='relu'),\n",
        "    tf.keras.layers.Dropout(0.2),\n",
        "    tf.keras.layers.Dense(10, activation='softmax')\n",
        "  ])"
      ],
      "metadata": {
        "id": "U5RKTUmqwpyq"
      },
      "execution_count": null,
      "outputs": []
    },
    {
      "cell_type": "markdown",
      "source": [
        "Start TensorBoard"
      ],
      "metadata": {
        "id": "0x74j9iCx-Ab"
      }
    },
    {
      "cell_type": "code",
      "source": [
        "%tensorboard --logdir logs"
      ],
      "metadata": {
        "id": "_lagKQqXx-f8"
      },
      "execution_count": null,
      "outputs": []
    },
    {
      "cell_type": "markdown",
      "source": [
        "Train the model using the Tensorboard checkpoint callback"
      ],
      "metadata": {
        "id": "mQ0nguizwsC3"
      }
    },
    {
      "cell_type": "code",
      "source": [
        "############################\n",
        "# Training Params\n",
        "############################\n",
        "learning_rate=0.001\n",
        "epochs = 10\n",
        "hidden_size = 10\n",
        "\n",
        "# Free up memory\n",
        "tf.keras.backend.clear_session()\n",
        "\n",
        "# Build the model\n",
        "model = create_model()\n",
        "\n",
        "# Print the model architecture\n",
        "print(model.summary())\n",
        "\n",
        "# Optimizer\n",
        "optimizer = tf.keras.optimizers.Adam(learning_rate=learning_rate)\n",
        "# Loss\n",
        "loss = tf.keras.losses.sparse_categorical_crossentropy\n",
        "\n",
        "# Compile\n",
        "model.compile(loss=loss,\n",
        "                  optimizer=optimizer,\n",
        "                  metrics=['accuracy'])\n",
        "\n",
        "# Callbacks\n",
        "logdir = os.path.join(\"logs\", datetime.datetime.now().strftime(\"%Y%m%d-%H%M%S\"))\n",
        "tensorboard_callback = tf.keras.callbacks.TensorBoard(logdir, histogram_freq=1)\n",
        "callbacks = [tensorboard_callback]\n",
        "\n",
        "# Train model\n",
        "start_time = time.time()\n",
        "training_results = model.fit(\n",
        "        x=x_train,\n",
        "        y=y_train,\n",
        "        validation_data= (x_validation, y_validation),\n",
        "        epochs=epochs,\n",
        "        callbacks=callbacks,\n",
        "        verbose=1)\n",
        "execution_time = (time.time() - start_time)/60.0\n",
        "print(\"Training execution time (mins)\",execution_time)"
      ],
      "metadata": {
        "id": "Rlfom8H4wrZ9"
      },
      "execution_count": null,
      "outputs": []
    }
  ]
}