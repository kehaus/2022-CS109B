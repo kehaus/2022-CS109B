{
 "cells": [
  {
   "cell_type": "markdown",
   "metadata": {
    "id": "RTwjswBgwh9C"
   },
   "source": [
    "# <img style=\"float: left; padding-right: 10px; width: 45px\" src=\"https://raw.githubusercontent.com/Harvard-IACS/2018-CS109A/master/content/styles/iacs.png\"> CS109B Introduction to Data Science\n",
    "\n",
    "## Lab 9: NLP, RNNs, LSTMs, ELMo \n",
    "\n",
    "**Harvard University**<br/>\n",
    "**Spring 2022**<br/>\n",
    "**Instructors**: Mark Glickman & Pavlos Protopapas<br/>\n",
    "**Authors**: Shivas Jayaram\n",
    "<br/>"
   ]
  },
  {
   "cell_type": "markdown",
   "metadata": {
    "id": "qjXBHdlVxdwT"
   },
   "source": [
    "## Learning Objectives\n",
    "\n",
    "By the end of this Lab, you should understand how to:\n",
    "* Perform **preprocessing** operation on text\n",
    "* **Tokenization** for Deep Learning models\n",
    "* Build and compare various **RNN** Architectures\n",
    "* Build **LSTMs** with Residual connections\n",
    "* **ELMo** from sctrach using Highway Networks\n",
    "* Setting up **TensorBoard** in Colab\n",
    "\n",
    "---\n",
    "You will also learn the following:\n",
    "<p><strong><font color=\"green\">🔑 Keys to DNN Kingdom 👑 : \n",
    "<ul>\n",
    "<li>🔑 TF Data</li>\n",
    "<li>🔑 Model using functional API</li>\n",
    "<li>🔑 Custom Layer</li>\n",
    "</ul>\n",
    "</font></strong></p>\n",
    "\n",
    "---\n"
   ]
  },
  {
   "cell_type": "markdown",
   "metadata": {
    "id": "Zor_Wr8Vxkfz"
   },
   "source": [
    "<a id=\"contents\"></a>\n",
    "\n",
    "## Notebook Contents\n",
    "\n",
    "- [**Preprocessing Text Data Recap**](#prep)\n",
    "    - [Review NLP Terminologies](#prep)\n",
    "    - [Text processing using NLTK](#prep) \n",
    "    - [Stop words, Word Stemmer, Lemmatization](#prep)\n",
    "    - [Tokenization for Deep Learning](#prep)\n",
    "- [**Recurrent Neural Networks**](#rnn)   \n",
    "    - [Creating various RNN model architectures](#rnn)\n",
    "- [**LSTMs**](#lstms) \n",
    "  - [Creating LSTMs with Residual connections](#lstms)\n",
    "- [**ELMo and Highway Networks**](#elmo)      \n",
    "- [**Using TensorBaord in Colab**](#tensorboard) "
   ]
  },
  {
   "cell_type": "markdown",
   "metadata": {
    "id": "RAM_-TzxyEm8"
   },
   "source": [
    "## **Setup Notebook**"
   ]
  },
  {
   "cell_type": "markdown",
   "metadata": {
    "id": "kjgnOSl9yP_4"
   },
   "source": [
    "**Imports**"
   ]
  },
  {
   "cell_type": "code",
   "execution_count": 21,
   "metadata": {
    "id": "MBh7Da09vHt9"
   },
   "outputs": [],
   "source": [
    "# Import necessary libraries\n",
    "import os\n",
    "import time\n",
    "import datetime\n",
    "import requests\n",
    "import numpy as np\n",
    "import pandas as pd\n",
    "import matplotlib.pyplot as plt\n",
    "import matplotlib.cm as cm\n",
    "%matplotlib inline\n",
    "\n",
    "# Tensorflow\n",
    "import tensorflow as tf\n",
    "from tensorflow.python.keras import backend as K\n",
    "\n",
    "# NLTK\n",
    "import nltk\n",
    "from nltk.tokenize import word_tokenize, sent_tokenize\n",
    "from nltk.corpus import stopwords \n",
    "from nltk.tokenize import RegexpTokenizer\n",
    "from nltk.tokenize import SpaceTokenizer\n",
    "from nltk.stem.porter import PorterStemmer\n",
    "from nltk.stem import WordNetLemmatizer\n",
    "\n",
    "# sklearn\n",
    "from sklearn.feature_extraction.text import CountVectorizer, TfidfVectorizer\n",
    "from sklearn.model_selection import train_test_split\n",
    "from sklearn.metrics import classification_report\n",
    "from sklearn.preprocessing import LabelEncoder\n",
    "from sklearn import manifold"
   ]
  },
  {
   "cell_type": "code",
   "execution_count": 22,
   "metadata": {
    "colab": {
     "base_uri": "https://localhost:8080/"
    },
    "id": "D9LeKyyI0mby",
    "outputId": "04fcc567-11f9-4362-b5ec-b43f22ebddfe"
   },
   "outputs": [
    {
     "name": "stderr",
     "output_type": "stream",
     "text": [
      "[nltk_data] Downloading package punkt to /home/u_61397728/nltk_data...\n",
      "[nltk_data]   Package punkt is already up-to-date!\n",
      "[nltk_data] Downloading package stopwords to\n",
      "[nltk_data]     /home/u_61397728/nltk_data...\n",
      "[nltk_data]   Package stopwords is already up-to-date!\n",
      "[nltk_data] Downloading package wordnet to\n",
      "[nltk_data]     /home/u_61397728/nltk_data...\n",
      "[nltk_data]   Package wordnet is already up-to-date!\n"
     ]
    },
    {
     "data": {
      "text/plain": [
       "True"
      ]
     },
     "execution_count": 22,
     "metadata": {},
     "output_type": "execute_result"
    }
   ],
   "source": [
    "# download nltk's punkt sentence tokenizer\n",
    "nltk.download('punkt')\n",
    "# download nltk's stop words\n",
    "nltk.download('stopwords')\n",
    "nltk.download('wordnet')"
   ]
  },
  {
   "cell_type": "markdown",
   "metadata": {
    "id": "3WYZljtMyXnC"
   },
   "source": [
    "**Verify Setup**"
   ]
  },
  {
   "cell_type": "markdown",
   "metadata": {
    "id": "17RkYjSxyaae"
   },
   "source": [
    "It is a good practice to verify what version of TensorFlow & Keras you are using. Also verify if GPU is enabled and what GPU you have. Run the following cells to check the version of TensorFlow\n",
    "\n",
    "References:\n",
    "- [Eager Execution](https://www.tensorflow.org/guide/eager)\n",
    "- [Data Performance](https://www.tensorflow.org/guide/data_performance)"
   ]
  },
  {
   "cell_type": "code",
   "execution_count": 23,
   "metadata": {
    "colab": {
     "base_uri": "https://localhost:8080/"
    },
    "id": "6PBpsXEayaxu",
    "outputId": "5f00ebb3-e158-4a84-c9fc-4f48013ec2d2"
   },
   "outputs": [
    {
     "name": "stdout",
     "output_type": "stream",
     "text": [
      "tensorflow version 2.8.0\n",
      "keras version 2.8.0\n",
      "Eager Execution Enabled: True\n",
      "INFO:tensorflow:Using MirroredStrategy with devices ('/job:localhost/replica:0/task:0/device:GPU:0',)\n",
      "Number of replicas: 1\n",
      "Devices: [PhysicalDevice(name='/physical_device:CPU:0', device_type='CPU'), PhysicalDevice(name='/physical_device:GPU:0', device_type='GPU')]\n",
      "[LogicalDevice(name='/device:GPU:0', device_type='GPU')]\n",
      "GPU Available:  [PhysicalDevice(name='/physical_device:GPU:0', device_type='GPU')]\n",
      "All Physical Devices [PhysicalDevice(name='/physical_device:CPU:0', device_type='CPU'), PhysicalDevice(name='/physical_device:GPU:0', device_type='GPU')]\n"
     ]
    }
   ],
   "source": [
    "# Enable/Disable Eager Execution\n",
    "# Reference: https://www.tensorflow.org/guide/eager\n",
    "# TensorFlow's eager execution is an imperative programming environment that evaluates operations immediately, \n",
    "# without building graphs\n",
    "\n",
    "#tf.compat.v1.disable_eager_execution()\n",
    "#tf.compat.v1.enable_eager_execution()\n",
    "\n",
    "print(\"tensorflow version\", tf.__version__)\n",
    "print(\"keras version\", tf.keras.__version__)\n",
    "print(\"Eager Execution Enabled:\", tf.executing_eagerly())\n",
    "\n",
    "# Get the number of replicas \n",
    "strategy = tf.distribute.MirroredStrategy()\n",
    "print(\"Number of replicas:\", strategy.num_replicas_in_sync)\n",
    "\n",
    "devices = tf.config.experimental.get_visible_devices()\n",
    "print(\"Devices:\", devices)\n",
    "print(tf.config.experimental.list_logical_devices('GPU'))\n",
    "\n",
    "print(\"GPU Available: \", tf.config.list_physical_devices('GPU'))\n",
    "print(\"All Physical Devices\", tf.config.list_physical_devices())\n",
    "\n",
    "# Better performance with the tf.data API\n",
    "# Reference: https://www.tensorflow.org/guide/data_performance\n",
    "AUTOTUNE = tf.data.experimental.AUTOTUNE"
   ]
  },
  {
   "cell_type": "markdown",
   "metadata": {
    "id": "JSTTuvGGyfQ4"
   },
   "source": [
    "Check what GPU you have"
   ]
  },
  {
   "cell_type": "code",
   "execution_count": 24,
   "metadata": {
    "colab": {
     "base_uri": "https://localhost:8080/"
    },
    "id": "aTi15newyhfU",
    "outputId": "7b183429-848f-4832-b664-5cc09600caa4"
   },
   "outputs": [
    {
     "name": "stdout",
     "output_type": "stream",
     "text": [
      "Sat Apr 23 02:56:31 2022       \r\n",
      "+-----------------------------------------------------------------------------+\r\n",
      "| NVIDIA-SMI 470.57.02    Driver Version: 470.57.02    CUDA Version: 11.4     |\r\n",
      "|-------------------------------+----------------------+----------------------+\r\n",
      "| GPU  Name        Persistence-M| Bus-Id        Disp.A | Volatile Uncorr. ECC |\r\n",
      "| Fan  Temp  Perf  Pwr:Usage/Cap|         Memory-Usage | GPU-Util  Compute M. |\r\n",
      "|                               |                      |               MIG M. |\r\n",
      "|===============================+======================+======================|\r\n",
      "|   0  Tesla T4            Off  | 00000000:00:1E.0 Off |                    0 |\r\n",
      "| N/A   42C    P0    25W /  70W |  14885MiB / 15109MiB |      0%      Default |\r\n",
      "|                               |                      |                  N/A |\r\n",
      "+-------------------------------+----------------------+----------------------+\r\n",
      "                                                                               \r\n",
      "+-----------------------------------------------------------------------------+\r\n",
      "| Processes:                                                                  |\r\n",
      "|  GPU   GI   CI        PID   Type   Process name                  GPU Memory |\r\n",
      "|        ID   ID                                                   Usage      |\r\n",
      "|=============================================================================|\r\n",
      "+-----------------------------------------------------------------------------+\r\n"
     ]
    }
   ],
   "source": [
    "!nvidia-smi"
   ]
  },
  {
   "cell_type": "code",
   "execution_count": 25,
   "metadata": {
    "id": "85H8bRmxDzLC"
   },
   "outputs": [],
   "source": [
    "# Utils\n",
    "def display_solution(activity):\n",
    "  response = requests.get(activity)\n",
    "  print(response.text)  "
   ]
  },
  {
   "cell_type": "markdown",
   "metadata": {
    "id": "SMO036PRhlXz"
   },
   "source": [
    "## **Preprocessing Text Data** <div id='prep'>"
   ]
  },
  {
   "cell_type": "markdown",
   "metadata": {
    "id": "5s7W0TCCjot5"
   },
   "source": [
    "#### **Review**"
   ]
  },
  {
   "cell_type": "markdown",
   "metadata": {
    "id": "ANn5RwqBjtQf"
   },
   "source": [
    "**Basic Definitions:**\n",
    "- Natural Language Processing (NLP): The use of computers to process linguistic information into structured data and extract useful insights\n",
    "- Document: A single unit of observation used in NLP, which could be as short as a word or as long as a book\n",
    "- Corpus: A collection of documents from a shared context that are processed and analyzed using NLP\n",
    "\n",
    "**Conceptual:**\n",
    "- Text is structured data, but lacks the simple structure needed for quantitative analysis and ML\n",
    "- Extensive preprocessing and parsing is needed to convert plain text into structured data\n",
    "- How to parse a given document depends upon the specific application and the corpus being used\n",
    "- Once parsed, documents can be analyzed like other quantitative datasets \n",
    "\n",
    "\n",
    "**Common NLP Tools:**\n",
    "- [<font>Natural Language Toolkit</font>](https://www.nltk.org)\n",
    "- [scikit-learn](https://scikit-learn.org)\n",
    "- [CoreNLP](https://stanfordnlp.github.io/CoreNLP/)\n",
    "- [Gensim](https://radimrehurek.com/gensim/)\n",
    "- [spaCy](https://spacy.io/)\n",
    "- [AllenNLP](https://allennlp.org/)\n",
    "- [<font>Transformers</font>](https://huggingface.co/transformers/index.html)\n",
    "\n",
    "**Basic Data Pipeline for NLP:**\n",
    "- <font>Data ingestion from files, scraping, APIs</font>\n",
    "- <font>Converting to lowercase</font>\n",
    "- Treating each punctuation mark as a token (e.g., , . ! ?)\n",
    "- Removing punctuation altogether\n",
    "- <font>Removing stop words (very common words like the, if, to ...)</font>\n",
    "- Word stemming (Stemming removes or stems the last few characters of a word)\n",
    "- Lemmatization (Lemmatization considers the context and converts the word to its meaningful base form)\n",
    "- <font>Parsing text using regular expressions</font>\n",
    "- <font>Tokenizing / Text Vectorization</font>\n",
    "- Creating n-grams\n",
    "- Creating TF-IDF vectors\n",
    "- <font>Creating word embeddings</font>\n",
    "\n",
    "**Modeling Strategies**\n",
    "- <strong>Creating “bag of words” models</strong>\n",
    "- <strong>Creating “sequence 2 sequence” models</strong>"
   ]
  },
  {
   "cell_type": "markdown",
   "metadata": {
    "id": "MUyXFonByrNg"
   },
   "source": [
    "#### **Preprocessing using NLTK**"
   ]
  },
  {
   "cell_type": "markdown",
   "metadata": {
    "id": "bwblOF6L0vlP"
   },
   "source": [
    "Consider this input text"
   ]
  },
  {
   "cell_type": "code",
   "execution_count": 26,
   "metadata": {
    "colab": {
     "base_uri": "https://localhost:8080/"
    },
    "id": "AMXlvRWmhSZw",
    "outputId": "79bb8311-3864-4a66-b7de-f206bfa50ea8"
   },
   "outputs": [
    {
     "name": "stdout",
     "output_type": "stream",
     "text": [
      "Input Text: Advanced Topics in Data Science (CS109b) is the second half of a one-year introduction to data science. \n",
      "Building upon the material in Introduction to Data Science, the course introduces advanced methods for data wrangling, \n",
      "data visualization, statistical modeling, and prediction. Topics include big data, multiple deep learning architectures \n",
      "such as CNNs, RNNs, transformers, language models, autoencoders, and generative models as well as basic \n",
      "Bayesian methods, and unsupervised learning.\n",
      "\n"
     ]
    }
   ],
   "source": [
    "input_text = \"\"\"Advanced Topics in Data Science (CS109b) is the second half of a one-year introduction to data science. \n",
    "Building upon the material in Introduction to Data Science, the course introduces advanced methods for data wrangling, \n",
    "data visualization, statistical modeling, and prediction. Topics include big data, multiple deep learning architectures \n",
    "such as CNNs, RNNs, transformers, language models, autoencoders, and generative models as well as basic \n",
    "Bayesian methods, and unsupervised learning.\n",
    "\"\"\"\n",
    "\n",
    "print(\"Input Text:\",input_text)"
   ]
  },
  {
   "cell_type": "markdown",
   "metadata": {
    "id": "Njzgubdg09D5"
   },
   "source": [
    "How do we break this paragraph of text into:\n",
    "- Sentences\n",
    "- Words"
   ]
  },
  {
   "cell_type": "code",
   "execution_count": 27,
   "metadata": {
    "colab": {
     "base_uri": "https://localhost:8080/"
    },
    "id": "4FTm7xBYmk4B",
    "outputId": "cc7d99fe-87a6-44b9-b675-5298fb7d9b6d"
   },
   "outputs": [
    {
     "name": "stdout",
     "output_type": "stream",
     "text": [
      "Sentences:\n",
      "0 Advanced Topics in Data Science (CS109b) is the second half of a one-year introduction to data science.\n",
      "1 Building upon the material in Introduction to Data Science, the course introduces advanced methods for data wrangling, \n",
      "data visualization, statistical modeling, and prediction.\n",
      "2 Topics include big data, multiple deep learning architectures \n",
      "such as CNNs, RNNs, transformers, language models, autoencoders, and generative models as well as basic \n",
      "Bayesian methods, and unsupervised learning.\n",
      "\n",
      " Number of Sentences: 3\n"
     ]
    }
   ],
   "source": [
    "# Get sentences\n",
    "sentences = sent_tokenize(input_text)\n",
    "print(\"Sentences:\")\n",
    "for index, sentence in enumerate(sentences):\n",
    "  print(index,sentence)\n",
    "\n",
    "\n",
    "# Number of sentences\n",
    "print(\"\\n Number of Sentences:\", len(sentences))"
   ]
  },
  {
   "cell_type": "code",
   "execution_count": 28,
   "metadata": {
    "colab": {
     "base_uri": "https://localhost:8080/"
    },
    "id": "-Rih3h0j1XHn",
    "outputId": "9a4fc85f-2ac6-49e9-9dc2-ef9ca0eb15ba"
   },
   "outputs": [
    {
     "name": "stdout",
     "output_type": "stream",
     "text": [
      "\n",
      "Words:\n",
      "['Advanced', 'Topics', 'in', 'Data', 'Science', '(', 'CS109b', ')', 'is', 'the', 'second', 'half', 'of', 'a', 'one-year', 'introduction', 'to', 'data', 'science', '.', 'Building', 'upon', 'the', 'material', 'in', 'Introduction', 'to', 'Data', 'Science', ',', 'the', 'course', 'introduces', 'advanced', 'methods', 'for', 'data', 'wrangling', ',', 'data', 'visualization', ',', 'statistical', 'modeling', ',', 'and', 'prediction', '.', 'Topics', 'include', 'big', 'data', ',', 'multiple', 'deep', 'learning', 'architectures', 'such', 'as', 'CNNs', ',', 'RNNs', ',', 'transformers', ',', 'language', 'models', ',', 'autoencoders', ',', 'and', 'generative', 'models', 'as', 'well', 'as', 'basic', 'Bayesian', 'methods', ',', 'and', 'unsupervised', 'learning', '.']\n",
      "\n",
      " Number of Words: 84\n"
     ]
    }
   ],
   "source": [
    "# Get words\n",
    "words = word_tokenize(input_text)\n",
    "print(\"\\nWords:\")\n",
    "print(words)\n",
    "\n",
    "# Number of words\n",
    "print(\"\\n Number of Words:\", len(words))"
   ]
  },
  {
   "cell_type": "markdown",
   "metadata": {
    "id": "Y9DbYZvr2JvI"
   },
   "source": [
    "Next we will use a Regular expression tokenizer from the NLTK library to remove any punctuation and get only words as tokens"
   ]
  },
  {
   "cell_type": "code",
   "execution_count": 29,
   "metadata": {
    "colab": {
     "base_uri": "https://localhost:8080/"
    },
    "id": "1iM9hF-mz_LH",
    "outputId": "c569e278-23cc-4f33-bac1-5fccd007fda4"
   },
   "outputs": [
    {
     "name": "stdout",
     "output_type": "stream",
     "text": [
      "Words:\n",
      "['Advanced', 'Topics', 'in', 'Data', 'Science', 'CS109b', 'is', 'the', 'second', 'half', 'of', 'a', 'one', 'year', 'introduction', 'to', 'data', 'science', 'Building', 'upon', 'the', 'material', 'in', 'Introduction', 'to', 'Data', 'Science', 'the', 'course', 'introduces', 'advanced', 'methods', 'for', 'data', 'wrangling', 'data', 'visualization', 'statistical', 'modeling', 'and', 'prediction', 'Topics', 'include', 'big', 'data', 'multiple', 'deep', 'learning', 'architectures', 'such', 'as', 'CNNs', 'RNNs', 'transformers', 'language', 'models', 'autoencoders', 'and', 'generative', 'models', 'as', 'well', 'as', 'basic', 'Bayesian', 'methods', 'and', 'unsupervised', 'learning']\n",
      "\n",
      " Number of Words: 69\n"
     ]
    }
   ],
   "source": [
    "# Get Word tokenizer from NLTK\n",
    "tokenizer = RegexpTokenizer(r'\\w+')\n",
    "\n",
    "# Word Tokenize text\n",
    "words = tokenizer.tokenize(input_text)\n",
    "print(\"Words:\")\n",
    "print(words)\n",
    "\n",
    "# Number of words\n",
    "print(\"\\n Number of Words:\", len(words))"
   ]
  },
  {
   "cell_type": "markdown",
   "metadata": {
    "id": "hacwwkna2iU4"
   },
   "source": [
    "Why are the number of tokens in this method less than before?"
   ]
  },
  {
   "cell_type": "markdown",
   "metadata": {
    "id": "Xe4dAloaCjgN"
   },
   "source": [
    "### Stop words\n",
    "\n",
    "Words occuring frequently e.g: is, the etc"
   ]
  },
  {
   "cell_type": "code",
   "execution_count": 30,
   "metadata": {
    "colab": {
     "base_uri": "https://localhost:8080/"
    },
    "id": "HHShfxpUUcfJ",
    "outputId": "8a71f525-c8ee-4d68-ca1d-aded23df642a"
   },
   "outputs": [
    {
     "data": {
      "text/plain": [
       "['Advanced',\n",
       " 'Topics',\n",
       " 'in',\n",
       " 'Data',\n",
       " 'Science',\n",
       " 'CS109b',\n",
       " 'is',\n",
       " 'the',\n",
       " 'second',\n",
       " 'half',\n",
       " 'of',\n",
       " 'a',\n",
       " 'one',\n",
       " 'year',\n",
       " 'introduction',\n",
       " 'to',\n",
       " 'data',\n",
       " 'science',\n",
       " 'Building',\n",
       " 'upon',\n",
       " 'the',\n",
       " 'material',\n",
       " 'in',\n",
       " 'Introduction',\n",
       " 'to',\n",
       " 'Data',\n",
       " 'Science',\n",
       " 'the',\n",
       " 'course',\n",
       " 'introduces',\n",
       " 'advanced',\n",
       " 'methods',\n",
       " 'for',\n",
       " 'data',\n",
       " 'wrangling',\n",
       " 'data',\n",
       " 'visualization',\n",
       " 'statistical',\n",
       " 'modeling',\n",
       " 'and',\n",
       " 'prediction',\n",
       " 'Topics',\n",
       " 'include',\n",
       " 'big',\n",
       " 'data',\n",
       " 'multiple',\n",
       " 'deep',\n",
       " 'learning',\n",
       " 'architectures',\n",
       " 'such',\n",
       " 'as',\n",
       " 'CNNs',\n",
       " 'RNNs',\n",
       " 'transformers',\n",
       " 'language',\n",
       " 'models',\n",
       " 'autoencoders',\n",
       " 'and',\n",
       " 'generative',\n",
       " 'models',\n",
       " 'as',\n",
       " 'well',\n",
       " 'as',\n",
       " 'basic',\n",
       " 'Bayesian',\n",
       " 'methods',\n",
       " 'and',\n",
       " 'unsupervised',\n",
       " 'learning']"
      ]
     },
     "execution_count": 30,
     "metadata": {},
     "output_type": "execute_result"
    }
   ],
   "source": [
    "words"
   ]
  },
  {
   "cell_type": "code",
   "execution_count": 31,
   "metadata": {
    "colab": {
     "base_uri": "https://localhost:8080/"
    },
    "id": "gzl7kL98Cj9i",
    "outputId": "0f3ac222-12d7-416f-a2f0-1a8b38d6c6b9"
   },
   "outputs": [
    {
     "name": "stdout",
     "output_type": "stream",
     "text": [
      "Stop words from NLTK:\n",
      " {'are', 'no', \"don't\", 'is', 'whom', 'was', 'down', 'over', 'that', \"hasn't\", 'don', 'this', 'aren', \"she's\", 'himself', 'very', 'from', 'an', 'the', \"mustn't\", \"you're\", \"shan't\", 'when', 'above', 'were', 'but', 'your', 'theirs', 'then', 'did', 'which', 'isn', \"didn't\", 'in', 'both', \"couldn't\", 'not', 'their', 'up', 'than', 're', 'he', 'these', \"shouldn't\", 'hadn', 'should', 'because', 'll', 'under', 'any', 'there', 'been', 'we', 'do', 'nor', 'ourselves', 've', 'mustn', 'o', 'about', 'doing', 'a', \"it's\", 'too', 'she', 'what', 'her', 'here', \"mightn't\", 'weren', 'shan', 'hasn', 'my', 'haven', 'more', 'on', 'below', 'who', 'i', 'wouldn', \"wouldn't\", 'all', 'be', 't', 'having', 'just', 'doesn', 'only', 'most', 'didn', 'his', 'to', \"needn't\", \"haven't\", 'other', 'our', 'does', 'm', \"should've\", 'itself', 'where', 'off', 'such', 'has', 'can', 'had', 'yourself', 'you', \"isn't\", 'yours', 'against', \"weren't\", 'after', 'if', 'themselves', 'again', \"you'll\", 'out', 'once', 'ours', 'own', 'or', \"wasn't\", 'it', 'couldn', 'while', 'him', 'through', 'ma', 'y', \"hadn't\", 'being', \"aren't\", 'they', 'how', \"won't\", 'at', 'for', 'yourselves', 'by', 'mightn', 'have', 'why', 'needn', 'd', 'its', 'won', 'further', 'before', 'now', 'each', 'shouldn', 'with', \"doesn't\", 'of', 'as', 'herself', 'will', \"that'll\", 'few', 'myself', 'me', 'am', 'until', 'hers', 'some', 'those', 'same', 'between', 's', 'into', \"you'd\", \"you've\", 'during', 'so', 'them', 'and', 'wasn', 'ain'}\n",
      "179 stop words\n",
      "Processed words:\n",
      " {'upon', 'generative', 'Introduction', 'visualization', 'include', 'basic', 'language', 'one', 'architectures', 'big', 'well', 'Topics', 'Bayesian', 'Advanced', 'statistical', 'half', 'deep', 'wrangling', 'autoencoders', 'learning', 'Building', 'introduces', 'transformers', 'course', 'Data', 'modeling', 'prediction', 'advanced', 'material', 'models', 'second', 'unsupervised', 'CS109b', 'RNNs', 'Science', 'data', 'year', 'methods', 'multiple', 'science', 'CNNs', 'introduction'}\n",
      "42 words\n"
     ]
    }
   ],
   "source": [
    "stops = set(stopwords.words(\"english\")) #stops\n",
    "\n",
    "print(\"Stop words from NLTK:\\n\",stops) #Already defined in NLTK\n",
    "print('%d stop words' % len(stops))\n",
    "stops = stops.union(['I','using'])\n",
    "\n",
    "# Find unique words that are not in the stop words\n",
    "words = set([w for w in words if not w in stops])\n",
    "print(\"Processed words:\\n\",words)\n",
    "print('%d words' % len(words))"
   ]
  },
  {
   "cell_type": "markdown",
   "metadata": {
    "id": "Caseopvu3POW"
   },
   "source": [
    "After removing stop words we hav even smaller vocabulary"
   ]
  },
  {
   "cell_type": "markdown",
   "metadata": {
    "id": "kl5kYMQZCy-M"
   },
   "source": [
    "### Word Stemmer\n",
    "\n",
    "Another useful technique is word stemming, which is the process of transforming a word into its root form that allows us to map related words to the same stem. Stemming removes word endings to group together words with the same stem. For example, the words \"finding\" and \"finds\" would all be reduced to \"find\"."
   ]
  },
  {
   "cell_type": "code",
   "execution_count": 32,
   "metadata": {
    "colab": {
     "base_uri": "https://localhost:8080/"
    },
    "id": "JCjP-naSCzds",
    "outputId": "c218834f-b248-4d54-842d-ff237220f999"
   },
   "outputs": [
    {
     "data": {
      "text/plain": [
       "['runner',\n",
       " 'like',\n",
       " 'run',\n",
       " 'and',\n",
       " 'thu',\n",
       " 'they',\n",
       " 'run',\n",
       " 'find',\n",
       " 'find',\n",
       " 'find',\n",
       " 'finder']"
      ]
     },
     "execution_count": 32,
     "metadata": {},
     "output_type": "execute_result"
    }
   ],
   "source": [
    "# Using Porter Stemmer\n",
    "porter = PorterStemmer()\n",
    "def tokenizer_porter(text):\n",
    "     return [porter.stem(word) for word in text.split()]\n",
    "tokenizer_porter('runners like running and thus they run finding find finds finder')"
   ]
  },
  {
   "cell_type": "markdown",
   "metadata": {
    "id": "2hokVV0WDIFr"
   },
   "source": [
    "### Word Lemmatization\n",
    "While stemming just uses the character strings to find the common base, lemmatization looks up the part of speech of a word and converts it to a noun form. "
   ]
  },
  {
   "cell_type": "code",
   "execution_count": 33,
   "metadata": {
    "colab": {
     "base_uri": "https://localhost:8080/"
    },
    "id": "OKiCNwj-DIoR",
    "outputId": "7ced16b1-097a-49b2-cf43-26d0cee4d88e"
   },
   "outputs": [
    {
     "ename": "LookupError",
     "evalue": "\n**********************************************************************\n  Resource \u001b[93momw-1.4\u001b[0m not found.\n  Please use the NLTK Downloader to obtain the resource:\n\n  \u001b[31m>>> import nltk\n  >>> nltk.download('omw-1.4')\n  \u001b[0m\n  For more information see: https://www.nltk.org/data.html\n\n  Attempted to load \u001b[93mcorpora/omw-1.4\u001b[0m\n\n  Searched in:\n    - '/home/u_61397728/nltk_data'\n    - '/opt/conda/envs/tensorflow/nltk_data'\n    - '/opt/conda/envs/tensorflow/share/nltk_data'\n    - '/opt/conda/envs/tensorflow/lib/nltk_data'\n    - '/usr/share/nltk_data'\n    - '/usr/local/share/nltk_data'\n    - '/usr/lib/nltk_data'\n    - '/usr/local/lib/nltk_data'\n**********************************************************************\n",
     "output_type": "error",
     "traceback": [
      "\u001b[0;31m---------------------------------------------------------------------------\u001b[0m",
      "\u001b[0;31mLookupError\u001b[0m                               Traceback (most recent call last)",
      "File \u001b[0;32m/opt/conda/envs/tensorflow/lib/python3.10/site-packages/nltk/corpus/util.py:84\u001b[0m, in \u001b[0;36mLazyCorpusLoader.__load\u001b[0;34m(self)\u001b[0m\n\u001b[1;32m     83\u001b[0m \u001b[38;5;28;01mtry\u001b[39;00m:\n\u001b[0;32m---> 84\u001b[0m     root \u001b[38;5;241m=\u001b[39m \u001b[43mnltk\u001b[49m\u001b[38;5;241;43m.\u001b[39;49m\u001b[43mdata\u001b[49m\u001b[38;5;241;43m.\u001b[39;49m\u001b[43mfind\u001b[49m\u001b[43m(\u001b[49m\u001b[38;5;124;43mf\u001b[39;49m\u001b[38;5;124;43m\"\u001b[39;49m\u001b[38;5;132;43;01m{\u001b[39;49;00m\u001b[38;5;28;43mself\u001b[39;49m\u001b[38;5;241;43m.\u001b[39;49m\u001b[43msubdir\u001b[49m\u001b[38;5;132;43;01m}\u001b[39;49;00m\u001b[38;5;124;43m/\u001b[39;49m\u001b[38;5;132;43;01m{\u001b[39;49;00m\u001b[43mzip_name\u001b[49m\u001b[38;5;132;43;01m}\u001b[39;49;00m\u001b[38;5;124;43m\"\u001b[39;49m\u001b[43m)\u001b[49m\n\u001b[1;32m     85\u001b[0m \u001b[38;5;28;01mexcept\u001b[39;00m \u001b[38;5;167;01mLookupError\u001b[39;00m:\n",
      "File \u001b[0;32m/opt/conda/envs/tensorflow/lib/python3.10/site-packages/nltk/data.py:583\u001b[0m, in \u001b[0;36mfind\u001b[0;34m(resource_name, paths)\u001b[0m\n\u001b[1;32m    582\u001b[0m resource_not_found \u001b[38;5;241m=\u001b[39m \u001b[38;5;124mf\u001b[39m\u001b[38;5;124m\"\u001b[39m\u001b[38;5;130;01m\\n\u001b[39;00m\u001b[38;5;132;01m{\u001b[39;00msep\u001b[38;5;132;01m}\u001b[39;00m\u001b[38;5;130;01m\\n\u001b[39;00m\u001b[38;5;132;01m{\u001b[39;00mmsg\u001b[38;5;132;01m}\u001b[39;00m\u001b[38;5;130;01m\\n\u001b[39;00m\u001b[38;5;132;01m{\u001b[39;00msep\u001b[38;5;132;01m}\u001b[39;00m\u001b[38;5;130;01m\\n\u001b[39;00m\u001b[38;5;124m\"\u001b[39m\n\u001b[0;32m--> 583\u001b[0m \u001b[38;5;28;01mraise\u001b[39;00m \u001b[38;5;167;01mLookupError\u001b[39;00m(resource_not_found)\n",
      "\u001b[0;31mLookupError\u001b[0m: \n**********************************************************************\n  Resource \u001b[93momw-1.4\u001b[0m not found.\n  Please use the NLTK Downloader to obtain the resource:\n\n  \u001b[31m>>> import nltk\n  >>> nltk.download('omw-1.4')\n  \u001b[0m\n  For more information see: https://www.nltk.org/data.html\n\n  Attempted to load \u001b[93mcorpora/omw-1.4.zip/omw-1.4/\u001b[0m\n\n  Searched in:\n    - '/home/u_61397728/nltk_data'\n    - '/opt/conda/envs/tensorflow/nltk_data'\n    - '/opt/conda/envs/tensorflow/share/nltk_data'\n    - '/opt/conda/envs/tensorflow/lib/nltk_data'\n    - '/usr/share/nltk_data'\n    - '/usr/local/share/nltk_data'\n    - '/usr/lib/nltk_data'\n    - '/usr/local/lib/nltk_data'\n**********************************************************************\n",
      "\nDuring handling of the above exception, another exception occurred:\n",
      "\u001b[0;31mLookupError\u001b[0m                               Traceback (most recent call last)",
      "Input \u001b[0;32mIn [33]\u001b[0m, in \u001b[0;36m<cell line: 4>\u001b[0;34m()\u001b[0m\n\u001b[1;32m      2\u001b[0m \u001b[38;5;28;01mdef\u001b[39;00m \u001b[38;5;21mtokenizer_lemmatize\u001b[39m(text):\n\u001b[1;32m      3\u001b[0m      \u001b[38;5;28;01mreturn\u001b[39;00m [lemmatizer\u001b[38;5;241m.\u001b[39mlemmatize(word) \u001b[38;5;28;01mfor\u001b[39;00m word \u001b[38;5;129;01min\u001b[39;00m text\u001b[38;5;241m.\u001b[39msplit()]\n\u001b[0;32m----> 4\u001b[0m \u001b[43mtokenizer_lemmatize\u001b[49m\u001b[43m(\u001b[49m\u001b[38;5;124;43m'\u001b[39;49m\u001b[38;5;124;43mrunners like running and thus they run runs finding find finds finder\u001b[39;49m\u001b[38;5;124;43m'\u001b[39;49m\u001b[43m)\u001b[49m\n",
      "Input \u001b[0;32mIn [33]\u001b[0m, in \u001b[0;36mtokenizer_lemmatize\u001b[0;34m(text)\u001b[0m\n\u001b[1;32m      2\u001b[0m \u001b[38;5;28;01mdef\u001b[39;00m \u001b[38;5;21mtokenizer_lemmatize\u001b[39m(text):\n\u001b[0;32m----> 3\u001b[0m      \u001b[38;5;28;01mreturn\u001b[39;00m [lemmatizer\u001b[38;5;241m.\u001b[39mlemmatize(word) \u001b[38;5;28;01mfor\u001b[39;00m word \u001b[38;5;129;01min\u001b[39;00m text\u001b[38;5;241m.\u001b[39msplit()]\n",
      "Input \u001b[0;32mIn [33]\u001b[0m, in \u001b[0;36m<listcomp>\u001b[0;34m(.0)\u001b[0m\n\u001b[1;32m      2\u001b[0m \u001b[38;5;28;01mdef\u001b[39;00m \u001b[38;5;21mtokenizer_lemmatize\u001b[39m(text):\n\u001b[0;32m----> 3\u001b[0m      \u001b[38;5;28;01mreturn\u001b[39;00m [\u001b[43mlemmatizer\u001b[49m\u001b[38;5;241;43m.\u001b[39;49m\u001b[43mlemmatize\u001b[49m\u001b[43m(\u001b[49m\u001b[43mword\u001b[49m\u001b[43m)\u001b[49m \u001b[38;5;28;01mfor\u001b[39;00m word \u001b[38;5;129;01min\u001b[39;00m text\u001b[38;5;241m.\u001b[39msplit()]\n",
      "File \u001b[0;32m/opt/conda/envs/tensorflow/lib/python3.10/site-packages/nltk/stem/wordnet.py:45\u001b[0m, in \u001b[0;36mWordNetLemmatizer.lemmatize\u001b[0;34m(self, word, pos)\u001b[0m\n\u001b[1;32m     33\u001b[0m \u001b[38;5;28;01mdef\u001b[39;00m \u001b[38;5;21mlemmatize\u001b[39m(\u001b[38;5;28mself\u001b[39m, word: \u001b[38;5;28mstr\u001b[39m, pos: \u001b[38;5;28mstr\u001b[39m \u001b[38;5;241m=\u001b[39m \u001b[38;5;124m\"\u001b[39m\u001b[38;5;124mn\u001b[39m\u001b[38;5;124m\"\u001b[39m) \u001b[38;5;241m-\u001b[39m\u001b[38;5;241m>\u001b[39m \u001b[38;5;28mstr\u001b[39m:\n\u001b[1;32m     34\u001b[0m     \u001b[38;5;124;03m\"\"\"Lemmatize `word` using WordNet's built-in morphy function.\u001b[39;00m\n\u001b[1;32m     35\u001b[0m \u001b[38;5;124;03m    Returns the input word unchanged if it cannot be found in WordNet.\u001b[39;00m\n\u001b[1;32m     36\u001b[0m \n\u001b[0;32m   (...)\u001b[0m\n\u001b[1;32m     43\u001b[0m \u001b[38;5;124;03m    :return: The lemma of `word`, for the given `pos`.\u001b[39;00m\n\u001b[1;32m     44\u001b[0m \u001b[38;5;124;03m    \"\"\"\u001b[39;00m\n\u001b[0;32m---> 45\u001b[0m     lemmas \u001b[38;5;241m=\u001b[39m \u001b[43mwn\u001b[49m\u001b[38;5;241;43m.\u001b[39;49m\u001b[43m_morphy\u001b[49m(word, pos)\n\u001b[1;32m     46\u001b[0m     \u001b[38;5;28;01mreturn\u001b[39;00m \u001b[38;5;28mmin\u001b[39m(lemmas, key\u001b[38;5;241m=\u001b[39m\u001b[38;5;28mlen\u001b[39m) \u001b[38;5;28;01mif\u001b[39;00m lemmas \u001b[38;5;28;01melse\u001b[39;00m word\n",
      "File \u001b[0;32m/opt/conda/envs/tensorflow/lib/python3.10/site-packages/nltk/corpus/util.py:121\u001b[0m, in \u001b[0;36mLazyCorpusLoader.__getattr__\u001b[0;34m(self, attr)\u001b[0m\n\u001b[1;32m    118\u001b[0m \u001b[38;5;28;01mif\u001b[39;00m attr \u001b[38;5;241m==\u001b[39m \u001b[38;5;124m\"\u001b[39m\u001b[38;5;124m__bases__\u001b[39m\u001b[38;5;124m\"\u001b[39m:\n\u001b[1;32m    119\u001b[0m     \u001b[38;5;28;01mraise\u001b[39;00m \u001b[38;5;167;01mAttributeError\u001b[39;00m(\u001b[38;5;124m\"\u001b[39m\u001b[38;5;124mLazyCorpusLoader object has no attribute \u001b[39m\u001b[38;5;124m'\u001b[39m\u001b[38;5;124m__bases__\u001b[39m\u001b[38;5;124m'\u001b[39m\u001b[38;5;124m\"\u001b[39m)\n\u001b[0;32m--> 121\u001b[0m \u001b[38;5;28;43mself\u001b[39;49m\u001b[38;5;241;43m.\u001b[39;49m\u001b[43m__load\u001b[49m\u001b[43m(\u001b[49m\u001b[43m)\u001b[49m\n\u001b[1;32m    122\u001b[0m \u001b[38;5;66;03m# This looks circular, but its not, since __load() changes our\u001b[39;00m\n\u001b[1;32m    123\u001b[0m \u001b[38;5;66;03m# __class__ to something new:\u001b[39;00m\n\u001b[1;32m    124\u001b[0m \u001b[38;5;28;01mreturn\u001b[39;00m \u001b[38;5;28mgetattr\u001b[39m(\u001b[38;5;28mself\u001b[39m, attr)\n",
      "File \u001b[0;32m/opt/conda/envs/tensorflow/lib/python3.10/site-packages/nltk/corpus/util.py:89\u001b[0m, in \u001b[0;36mLazyCorpusLoader.__load\u001b[0;34m(self)\u001b[0m\n\u001b[1;32m     86\u001b[0m             \u001b[38;5;28;01mraise\u001b[39;00m e\n\u001b[1;32m     88\u001b[0m \u001b[38;5;66;03m# Load the corpus.\u001b[39;00m\n\u001b[0;32m---> 89\u001b[0m corpus \u001b[38;5;241m=\u001b[39m \u001b[38;5;28;43mself\u001b[39;49m\u001b[38;5;241;43m.\u001b[39;49m\u001b[43m__reader_cls\u001b[49m\u001b[43m(\u001b[49m\u001b[43mroot\u001b[49m\u001b[43m,\u001b[49m\u001b[43m \u001b[49m\u001b[38;5;241;43m*\u001b[39;49m\u001b[38;5;28;43mself\u001b[39;49m\u001b[38;5;241;43m.\u001b[39;49m\u001b[43m__args\u001b[49m\u001b[43m,\u001b[49m\u001b[43m \u001b[49m\u001b[38;5;241;43m*\u001b[39;49m\u001b[38;5;241;43m*\u001b[39;49m\u001b[38;5;28;43mself\u001b[39;49m\u001b[38;5;241;43m.\u001b[39;49m\u001b[43m__kwargs\u001b[49m\u001b[43m)\u001b[49m\n\u001b[1;32m     91\u001b[0m \u001b[38;5;66;03m# This is where the magic happens!  Transform ourselves into\u001b[39;00m\n\u001b[1;32m     92\u001b[0m \u001b[38;5;66;03m# the corpus by modifying our own __dict__ and __class__ to\u001b[39;00m\n\u001b[1;32m     93\u001b[0m \u001b[38;5;66;03m# match that of the corpus.\u001b[39;00m\n\u001b[1;32m     95\u001b[0m args, kwargs \u001b[38;5;241m=\u001b[39m \u001b[38;5;28mself\u001b[39m\u001b[38;5;241m.\u001b[39m__args, \u001b[38;5;28mself\u001b[39m\u001b[38;5;241m.\u001b[39m__kwargs\n",
      "File \u001b[0;32m/opt/conda/envs/tensorflow/lib/python3.10/site-packages/nltk/corpus/reader/wordnet.py:1176\u001b[0m, in \u001b[0;36mWordNetCorpusReader.__init__\u001b[0;34m(self, root, omw_reader)\u001b[0m\n\u001b[1;32m   1172\u001b[0m     warnings\u001b[38;5;241m.\u001b[39mwarn(\n\u001b[1;32m   1173\u001b[0m         \u001b[38;5;124m\"\u001b[39m\u001b[38;5;124mThe multilingual functions are not available with this Wordnet version\u001b[39m\u001b[38;5;124m\"\u001b[39m\n\u001b[1;32m   1174\u001b[0m     )\n\u001b[1;32m   1175\u001b[0m \u001b[38;5;28;01melse\u001b[39;00m:\n\u001b[0;32m-> 1176\u001b[0m     \u001b[38;5;28mself\u001b[39m\u001b[38;5;241m.\u001b[39mprovenances \u001b[38;5;241m=\u001b[39m \u001b[38;5;28;43mself\u001b[39;49m\u001b[38;5;241;43m.\u001b[39;49m\u001b[43momw_prov\u001b[49m\u001b[43m(\u001b[49m\u001b[43m)\u001b[49m\n\u001b[1;32m   1178\u001b[0m \u001b[38;5;66;03m# A cache to store the wordnet data of multiple languages\u001b[39;00m\n\u001b[1;32m   1179\u001b[0m \u001b[38;5;28mself\u001b[39m\u001b[38;5;241m.\u001b[39m_lang_data \u001b[38;5;241m=\u001b[39m defaultdict(\u001b[38;5;28mlist\u001b[39m)\n",
      "File \u001b[0;32m/opt/conda/envs/tensorflow/lib/python3.10/site-packages/nltk/corpus/reader/wordnet.py:1285\u001b[0m, in \u001b[0;36mWordNetCorpusReader.omw_prov\u001b[0;34m(self)\u001b[0m\n\u001b[1;32m   1283\u001b[0m provdict \u001b[38;5;241m=\u001b[39m {}\n\u001b[1;32m   1284\u001b[0m provdict[\u001b[38;5;124m\"\u001b[39m\u001b[38;5;124meng\u001b[39m\u001b[38;5;124m\"\u001b[39m] \u001b[38;5;241m=\u001b[39m \u001b[38;5;124m\"\u001b[39m\u001b[38;5;124m\"\u001b[39m\n\u001b[0;32m-> 1285\u001b[0m fileids \u001b[38;5;241m=\u001b[39m \u001b[38;5;28;43mself\u001b[39;49m\u001b[38;5;241;43m.\u001b[39;49m\u001b[43m_omw_reader\u001b[49m\u001b[38;5;241;43m.\u001b[39;49m\u001b[43mfileids\u001b[49m()\n\u001b[1;32m   1286\u001b[0m \u001b[38;5;28;01mfor\u001b[39;00m fileid \u001b[38;5;129;01min\u001b[39;00m fileids:\n\u001b[1;32m   1287\u001b[0m     prov, langfile \u001b[38;5;241m=\u001b[39m os\u001b[38;5;241m.\u001b[39mpath\u001b[38;5;241m.\u001b[39msplit(fileid)\n",
      "File \u001b[0;32m/opt/conda/envs/tensorflow/lib/python3.10/site-packages/nltk/corpus/util.py:121\u001b[0m, in \u001b[0;36mLazyCorpusLoader.__getattr__\u001b[0;34m(self, attr)\u001b[0m\n\u001b[1;32m    118\u001b[0m \u001b[38;5;28;01mif\u001b[39;00m attr \u001b[38;5;241m==\u001b[39m \u001b[38;5;124m\"\u001b[39m\u001b[38;5;124m__bases__\u001b[39m\u001b[38;5;124m\"\u001b[39m:\n\u001b[1;32m    119\u001b[0m     \u001b[38;5;28;01mraise\u001b[39;00m \u001b[38;5;167;01mAttributeError\u001b[39;00m(\u001b[38;5;124m\"\u001b[39m\u001b[38;5;124mLazyCorpusLoader object has no attribute \u001b[39m\u001b[38;5;124m'\u001b[39m\u001b[38;5;124m__bases__\u001b[39m\u001b[38;5;124m'\u001b[39m\u001b[38;5;124m\"\u001b[39m)\n\u001b[0;32m--> 121\u001b[0m \u001b[38;5;28;43mself\u001b[39;49m\u001b[38;5;241;43m.\u001b[39;49m\u001b[43m__load\u001b[49m\u001b[43m(\u001b[49m\u001b[43m)\u001b[49m\n\u001b[1;32m    122\u001b[0m \u001b[38;5;66;03m# This looks circular, but its not, since __load() changes our\u001b[39;00m\n\u001b[1;32m    123\u001b[0m \u001b[38;5;66;03m# __class__ to something new:\u001b[39;00m\n\u001b[1;32m    124\u001b[0m \u001b[38;5;28;01mreturn\u001b[39;00m \u001b[38;5;28mgetattr\u001b[39m(\u001b[38;5;28mself\u001b[39m, attr)\n",
      "File \u001b[0;32m/opt/conda/envs/tensorflow/lib/python3.10/site-packages/nltk/corpus/util.py:86\u001b[0m, in \u001b[0;36mLazyCorpusLoader.__load\u001b[0;34m(self)\u001b[0m\n\u001b[1;32m     84\u001b[0m             root \u001b[38;5;241m=\u001b[39m nltk\u001b[38;5;241m.\u001b[39mdata\u001b[38;5;241m.\u001b[39mfind(\u001b[38;5;124mf\u001b[39m\u001b[38;5;124m\"\u001b[39m\u001b[38;5;132;01m{\u001b[39;00m\u001b[38;5;28mself\u001b[39m\u001b[38;5;241m.\u001b[39msubdir\u001b[38;5;132;01m}\u001b[39;00m\u001b[38;5;124m/\u001b[39m\u001b[38;5;132;01m{\u001b[39;00mzip_name\u001b[38;5;132;01m}\u001b[39;00m\u001b[38;5;124m\"\u001b[39m)\n\u001b[1;32m     85\u001b[0m         \u001b[38;5;28;01mexcept\u001b[39;00m \u001b[38;5;167;01mLookupError\u001b[39;00m:\n\u001b[0;32m---> 86\u001b[0m             \u001b[38;5;28;01mraise\u001b[39;00m e\n\u001b[1;32m     88\u001b[0m \u001b[38;5;66;03m# Load the corpus.\u001b[39;00m\n\u001b[1;32m     89\u001b[0m corpus \u001b[38;5;241m=\u001b[39m \u001b[38;5;28mself\u001b[39m\u001b[38;5;241m.\u001b[39m__reader_cls(root, \u001b[38;5;241m*\u001b[39m\u001b[38;5;28mself\u001b[39m\u001b[38;5;241m.\u001b[39m__args, \u001b[38;5;241m*\u001b[39m\u001b[38;5;241m*\u001b[39m\u001b[38;5;28mself\u001b[39m\u001b[38;5;241m.\u001b[39m__kwargs)\n",
      "File \u001b[0;32m/opt/conda/envs/tensorflow/lib/python3.10/site-packages/nltk/corpus/util.py:81\u001b[0m, in \u001b[0;36mLazyCorpusLoader.__load\u001b[0;34m(self)\u001b[0m\n\u001b[1;32m     79\u001b[0m \u001b[38;5;28;01melse\u001b[39;00m:\n\u001b[1;32m     80\u001b[0m     \u001b[38;5;28;01mtry\u001b[39;00m:\n\u001b[0;32m---> 81\u001b[0m         root \u001b[38;5;241m=\u001b[39m \u001b[43mnltk\u001b[49m\u001b[38;5;241;43m.\u001b[39;49m\u001b[43mdata\u001b[49m\u001b[38;5;241;43m.\u001b[39;49m\u001b[43mfind\u001b[49m\u001b[43m(\u001b[49m\u001b[38;5;124;43mf\u001b[39;49m\u001b[38;5;124;43m\"\u001b[39;49m\u001b[38;5;132;43;01m{\u001b[39;49;00m\u001b[38;5;28;43mself\u001b[39;49m\u001b[38;5;241;43m.\u001b[39;49m\u001b[43msubdir\u001b[49m\u001b[38;5;132;43;01m}\u001b[39;49;00m\u001b[38;5;124;43m/\u001b[39;49m\u001b[38;5;132;43;01m{\u001b[39;49;00m\u001b[38;5;28;43mself\u001b[39;49m\u001b[38;5;241;43m.\u001b[39;49m\u001b[43m__name\u001b[49m\u001b[38;5;132;43;01m}\u001b[39;49;00m\u001b[38;5;124;43m\"\u001b[39;49m\u001b[43m)\u001b[49m\n\u001b[1;32m     82\u001b[0m     \u001b[38;5;28;01mexcept\u001b[39;00m \u001b[38;5;167;01mLookupError\u001b[39;00m \u001b[38;5;28;01mas\u001b[39;00m e:\n\u001b[1;32m     83\u001b[0m         \u001b[38;5;28;01mtry\u001b[39;00m:\n",
      "File \u001b[0;32m/opt/conda/envs/tensorflow/lib/python3.10/site-packages/nltk/data.py:583\u001b[0m, in \u001b[0;36mfind\u001b[0;34m(resource_name, paths)\u001b[0m\n\u001b[1;32m    581\u001b[0m sep \u001b[38;5;241m=\u001b[39m \u001b[38;5;124m\"\u001b[39m\u001b[38;5;124m*\u001b[39m\u001b[38;5;124m\"\u001b[39m \u001b[38;5;241m*\u001b[39m \u001b[38;5;241m70\u001b[39m\n\u001b[1;32m    582\u001b[0m resource_not_found \u001b[38;5;241m=\u001b[39m \u001b[38;5;124mf\u001b[39m\u001b[38;5;124m\"\u001b[39m\u001b[38;5;130;01m\\n\u001b[39;00m\u001b[38;5;132;01m{\u001b[39;00msep\u001b[38;5;132;01m}\u001b[39;00m\u001b[38;5;130;01m\\n\u001b[39;00m\u001b[38;5;132;01m{\u001b[39;00mmsg\u001b[38;5;132;01m}\u001b[39;00m\u001b[38;5;130;01m\\n\u001b[39;00m\u001b[38;5;132;01m{\u001b[39;00msep\u001b[38;5;132;01m}\u001b[39;00m\u001b[38;5;130;01m\\n\u001b[39;00m\u001b[38;5;124m\"\u001b[39m\n\u001b[0;32m--> 583\u001b[0m \u001b[38;5;28;01mraise\u001b[39;00m \u001b[38;5;167;01mLookupError\u001b[39;00m(resource_not_found)\n",
      "\u001b[0;31mLookupError\u001b[0m: \n**********************************************************************\n  Resource \u001b[93momw-1.4\u001b[0m not found.\n  Please use the NLTK Downloader to obtain the resource:\n\n  \u001b[31m>>> import nltk\n  >>> nltk.download('omw-1.4')\n  \u001b[0m\n  For more information see: https://www.nltk.org/data.html\n\n  Attempted to load \u001b[93mcorpora/omw-1.4\u001b[0m\n\n  Searched in:\n    - '/home/u_61397728/nltk_data'\n    - '/opt/conda/envs/tensorflow/nltk_data'\n    - '/opt/conda/envs/tensorflow/share/nltk_data'\n    - '/opt/conda/envs/tensorflow/lib/nltk_data'\n    - '/usr/share/nltk_data'\n    - '/usr/local/share/nltk_data'\n    - '/usr/lib/nltk_data'\n    - '/usr/local/lib/nltk_data'\n**********************************************************************\n"
     ]
    }
   ],
   "source": [
    "lemmatizer = nltk.stem.WordNetLemmatizer()\n",
    "def tokenizer_lemmatize(text):\n",
    "     return [lemmatizer.lemmatize(word) for word in text.split()]\n",
    "tokenizer_lemmatize('runners like running and thus they run runs finding find finds finder')"
   ]
  },
  {
   "cell_type": "markdown",
   "metadata": {
    "id": "UmFiLdHJ3fFZ"
   },
   "source": [
    "## **Tokenization for Deep Learning**"
   ]
  },
  {
   "cell_type": "markdown",
   "metadata": {
    "id": "KB2Jse_CzTpk"
   },
   "source": [
    "Lets review the text preprocessing steps and how we can build our data pipelines for Deep Learning models\n",
    "\n",
    "<img src=\"https://storage.googleapis.com/public_colab_images/nlp/tokenization_for_dl.png\" />\n"
   ]
  },
  {
   "cell_type": "markdown",
   "metadata": {
    "id": "gnbJmOn21O8U"
   },
   "source": [
    "#### **tf.keras: Tokenizer**"
   ]
  },
  {
   "cell_type": "code",
   "execution_count": 34,
   "metadata": {
    "colab": {
     "base_uri": "https://localhost:8080/"
    },
    "id": "TavdaRTenhT_",
    "outputId": "430b63cf-4aad-42aa-aacf-ea6e3a06a684"
   },
   "outputs": [
    {
     "name": "stdout",
     "output_type": "stream",
     "text": [
      "OrderedDict([('advanced', 2), ('topics', 2), ('in', 2), ('data', 6), ('science', 3), ('cs109b', 1), ('is', 1), ('the', 3), ('second', 1), ('half', 1), ('of', 1), ('a', 1), ('one', 1), ('year', 1), ('introduction', 2), ('to', 2), ('building', 1), ('upon', 1), ('material', 1), ('course', 1), ('introduces', 1), ('methods', 2), ('for', 1), ('wrangling', 1), ('visualization', 1), ('statistical', 1), ('modeling', 1), ('and', 3), ('prediction', 1), ('include', 1), ('big', 1), ('multiple', 1), ('deep', 1), ('learning', 2), ('architectures', 1), ('such', 1), ('as', 3), ('cnns', 1), ('rnns', 1), ('transformers', 1), ('language', 1), ('models', 2), ('autoencoders', 1), ('generative', 1), ('well', 1), ('basic', 1), ('bayesian', 1), ('unsupervised', 1)])\n",
      "word_index {'UNK': 1, 'data': 2, 'science': 3, 'the': 4, 'and': 5, 'as': 6, 'advanced': 7, 'topics': 8, 'in': 9, 'introduction': 10, 'to': 11, 'methods': 12, 'learning': 13, 'models': 14, 'cs109b': 15, 'is': 16, 'second': 17, 'half': 18, 'of': 19, 'a': 20, 'one': 21, 'year': 22, 'building': 23, 'upon': 24, 'material': 25, 'course': 26, 'introduces': 27, 'for': 28, 'wrangling': 29, 'visualization': 30, 'statistical': 31, 'modeling': 32, 'prediction': 33, 'include': 34, 'big': 35, 'multiple': 36, 'deep': 37, 'architectures': 38, 'such': 39, 'cnns': 40, 'rnns': 41, 'transformers': 42, 'language': 43, 'autoencoders': 44, 'generative': 45, 'well': 46, 'basic': 47, 'bayesian': 48, 'unsupervised': 49}\n",
      "Vocabulary Size: 49\n",
      "\n",
      "Example: [[2, 3, 16, 1]]\n",
      "\n",
      "Example: [[1, 1, 1, 1]]\n"
     ]
    }
   ],
   "source": [
    "# Initialize the Tokenizer\n",
    "tokenizer = tf.keras.preprocessing.text.Tokenizer(num_words=None,\n",
    "                                                filters='\\'!\"#$%&()*+,-./:;<=>?@[\\\\]^_`{|}~\\t\\n',\n",
    "                                                lower=True,\n",
    "                                                oov_token=\"UNK\",\n",
    "                                                split=' ',)\n",
    "\n",
    "# Fit on text to generate token index and vocabulary\n",
    "tokenizer.fit_on_texts([input_text])\n",
    "\n",
    "# Tokenize\n",
    "tokens = tokenizer.texts_to_sequences([input_text])\n",
    "\n",
    "print(tokenizer.word_counts)\n",
    "word_index = tokenizer.word_index\n",
    "index_word = tokenizer.index_word\n",
    "print(\"word_index\",word_index)\n",
    "vocabulary_size = len(word_index.keys())\n",
    "print(\"Vocabulary Size:\",vocabulary_size)\n",
    "\n",
    "\n",
    "print(\"\\nExample:\",tokenizer.texts_to_sequences([\"data science is awesome\"]))\n",
    "print(\"\\nExample:\",tokenizer.texts_to_sequences([\"I like ice cream\"]))"
   ]
  },
  {
   "cell_type": "markdown",
   "metadata": {
    "id": "7R32BZxmTZI8"
   },
   "source": [
    "Encoding the tokens as different vector representations"
   ]
  },
  {
   "cell_type": "code",
   "execution_count": 35,
   "metadata": {
    "colab": {
     "base_uri": "https://localhost:8080/"
    },
    "id": "19wS28wuDGk2",
    "outputId": "e1e3387f-d281-4c0f-e043-6d1dd7002c13"
   },
   "outputs": [
    {
     "name": "stdout",
     "output_type": "stream",
     "text": [
      "binary vectors: [[0. 1. 1. 1. 0. 0. 0. 0. 0. 0. 0. 0. 0. 0. 0. 0. 1. 0. 0. 0. 0. 0. 0. 0.\n",
      "  0. 0. 0. 0. 0. 0. 0. 0. 0. 0. 0. 0. 0. 0. 0. 0. 0. 0. 0. 0. 0. 0. 0. 0.\n",
      "  0. 0.]\n",
      " [0. 1. 0. 0. 0. 0. 0. 0. 0. 0. 0. 0. 0. 0. 0. 0. 0. 0. 0. 0. 0. 0. 0. 0.\n",
      "  0. 0. 0. 0. 0. 0. 0. 0. 0. 0. 0. 0. 0. 0. 0. 0. 0. 0. 0. 0. 0. 0. 0. 0.\n",
      "  0. 0.]]\n",
      "count vectors: [[0. 1. 1. 1. 0. 0. 0. 0. 0. 0. 0. 0. 0. 0. 0. 0. 1. 0. 0. 0. 0. 0. 0. 0.\n",
      "  0. 0. 0. 0. 0. 0. 0. 0. 0. 0. 0. 0. 0. 0. 0. 0. 0. 0. 0. 0. 0. 0. 0. 0.\n",
      "  0. 0.]\n",
      " [0. 4. 0. 0. 0. 0. 0. 0. 0. 0. 0. 0. 0. 0. 0. 0. 0. 0. 0. 0. 0. 0. 0. 0.\n",
      "  0. 0. 0. 0. 0. 0. 0. 0. 0. 0. 0. 0. 0. 0. 0. 0. 0. 0. 0. 0. 0. 0. 0. 0.\n",
      "  0. 0.]]\n",
      "tfidf vectors: [[0.         0.69314718 0.40546511 0.40546511 0.         0.\n",
      "  0.         0.         0.         0.         0.         0.\n",
      "  0.         0.         0.         0.         0.40546511 0.\n",
      "  0.         0.         0.         0.         0.         0.\n",
      "  0.         0.         0.         0.         0.         0.\n",
      "  0.         0.         0.         0.         0.         0.\n",
      "  0.         0.         0.         0.         0.         0.\n",
      "  0.         0.         0.         0.         0.         0.\n",
      "  0.         0.        ]\n",
      " [0.         1.65405321 0.         0.         0.         0.\n",
      "  0.         0.         0.         0.         0.         0.\n",
      "  0.         0.         0.         0.         0.         0.\n",
      "  0.         0.         0.         0.         0.         0.\n",
      "  0.         0.         0.         0.         0.         0.\n",
      "  0.         0.         0.         0.         0.         0.\n",
      "  0.         0.         0.         0.         0.         0.\n",
      "  0.         0.         0.         0.         0.         0.\n",
      "  0.         0.        ]]\n"
     ]
    }
   ],
   "source": [
    "test_documents = [\"data science is awesome\", \"i like ice cream\"]\n",
    "\n",
    "vectors = tokenizer.texts_to_matrix(test_documents, mode='binary')\n",
    "print(\"binary vectors:\", vectors)\n",
    "\n",
    "vectors = tokenizer.texts_to_matrix(test_documents, mode='count')\n",
    "print(\"count vectors:\", vectors)\n",
    "\n",
    "vectors = tokenizer.texts_to_matrix(test_documents, mode='tfidf')\n",
    "print(\"tfidf vectors:\", vectors)"
   ]
  },
  {
   "cell_type": "markdown",
   "metadata": {
    "id": "3fhvG7FH1s9C"
   },
   "source": [
    "#### **tf.keras: TextVectorization Layer**"
   ]
  },
  {
   "cell_type": "code",
   "execution_count": 36,
   "metadata": {
    "colab": {
     "base_uri": "https://localhost:8080/"
    },
    "id": "d7w3jmsl93kr",
    "outputId": "55c90a5c-bd7f-4c83-f88b-d3c055cb2aeb"
   },
   "outputs": [
    {
     "name": "stdout",
     "output_type": "stream",
     "text": [
      "Vocabulary Size: 47\n",
      "vocabulary: 47 ['', '[UNK]', 'data', 'the', 'science', 'as', 'and', 'topics', 'to', 'models', 'methods', 'learning', 'introduction', 'in', 'advanced', 'wrangling', 'well', 'visualization', 'upon', 'unsupervised', 'transformers', 'such', 'statistical', 'second', 'rnns', 'prediction', 'oneyear', 'of', 'multiple', 'modeling', 'material', 'language', 'is', 'introduces', 'include', 'half', 'generative', 'for', 'deep', 'cs109b', 'course', 'cnns', 'building', 'big', 'bayesian', 'basic', 'autoencoders']\n",
      "word_index: {'': 0, '[UNK]': 1, 'data': 2, 'the': 3, 'science': 4, 'as': 5, 'and': 6, 'topics': 7, 'to': 8, 'models': 9, 'methods': 10, 'learning': 11, 'introduction': 12, 'in': 13, 'advanced': 14, 'wrangling': 15, 'well': 16, 'visualization': 17, 'upon': 18, 'unsupervised': 19, 'transformers': 20, 'such': 21, 'statistical': 22, 'second': 23, 'rnns': 24, 'prediction': 25, 'oneyear': 26, 'of': 27, 'multiple': 28, 'modeling': 29, 'material': 30, 'language': 31, 'is': 32, 'introduces': 33, 'include': 34, 'half': 35, 'generative': 36, 'for': 37, 'deep': 38, 'cs109b': 39, 'course': 40, 'cnns': 41, 'building': 42, 'big': 43, 'bayesian': 44, 'basic': 45, 'autoencoders': 46}\n",
      "\n",
      "Example: tf.Tensor([ 2  4 32  1], shape=(4,), dtype=int64)\n",
      "\n",
      "Example: tf.Tensor([1 1 1 1], shape=(4,), dtype=int64)\n"
     ]
    }
   ],
   "source": [
    "# Set maximum number of words in vocab\n",
    "max_tokens = 45\n",
    "\n",
    "# Initialize Text Vectorizer\n",
    "text_vectorizer = tf.keras.layers.TextVectorization(\n",
    "    max_tokens=max_tokens+2, # 0 is reserved for padding, 1 is reserved for UNK\n",
    "    output_mode=\"int\"\n",
    ")\n",
    "\n",
    "# Fit on text to generate token index and vocabulary\n",
    "text_vectorizer.adapt([input_text])\n",
    "\n",
    "# Get Vocabulary\n",
    "vocabulary = text_vectorizer.get_vocabulary()\n",
    "vocabulary_size = len(vocabulary)\n",
    "print(\"Vocabulary Size:\",vocabulary_size)\n",
    "\n",
    "# Generate word index\n",
    "word_index = dict(zip(vocabulary, range(vocabulary_size)))\n",
    "\n",
    "print(\"vocabulary:\",len(vocabulary),vocabulary)\n",
    "print(\"word_index:\",word_index)\n",
    "\n",
    "print(\"\\nExample:\",text_vectorizer(\"data science is awesome\"))\n",
    "print(\"\\nExample:\",text_vectorizer(\"I like ice cream\"))"
   ]
  },
  {
   "cell_type": "markdown",
   "metadata": {
    "id": "DeufigppTka_"
   },
   "source": [
    "Encoding the tokens as different vector representations"
   ]
  },
  {
   "cell_type": "markdown",
   "metadata": {
    "id": "kC4-_lMn2wYQ"
   },
   "source": [
    "Binary 1-gram bag-of-words"
   ]
  },
  {
   "cell_type": "code",
   "execution_count": 37,
   "metadata": {
    "colab": {
     "base_uri": "https://localhost:8080/"
    },
    "id": "O6vptG1ITXjN",
    "outputId": "e9874599-6a3f-4f90-8aaf-a7c41bebf92c"
   },
   "outputs": [
    {
     "name": "stdout",
     "output_type": "stream",
     "text": [
      "Vocabulary: ['[UNK]', 'data', 'the', 'science', 'as', 'and', 'topics', 'to', 'models', 'methods', 'learning', 'introduction', 'in', 'advanced', 'wrangling', 'well', 'visualization', 'upon', 'unsupervised', 'transformers', 'such', 'statistical', 'second', 'rnns', 'prediction', 'oneyear', 'of', 'multiple', 'modeling', 'material', 'language', 'is', 'introduces', 'include', 'half', 'generative', 'for', 'deep', 'cs109b', 'course', 'cnns', 'building', 'big', 'bayesian', 'basic', 'autoencoders', 'architectures']\n",
      "\n",
      "Example: tf.Tensor(\n",
      "[1. 1. 0. 1. 0. 0. 0. 0. 0. 0. 0. 0. 0. 0. 0. 0. 0. 0. 0. 0. 0. 0. 0. 0.\n",
      " 0. 0. 0. 0. 0. 0. 0. 1. 0. 0. 0. 0. 0. 0. 0. 0. 0. 0. 0. 0. 0. 0. 0.], shape=(47,), dtype=float32)\n",
      "\n",
      "Example: tf.Tensor(\n",
      "[1. 0. 0. 0. 0. 0. 0. 0. 0. 0. 0. 0. 0. 0. 0. 0. 0. 0. 0. 0. 0. 0. 0. 0.\n",
      " 0. 0. 0. 0. 0. 0. 0. 0. 0. 0. 0. 0. 0. 0. 0. 0. 0. 0. 0. 0. 0. 0. 0.], shape=(47,), dtype=float32)\n"
     ]
    }
   ],
   "source": [
    "# Initialize Text Vectorizer\n",
    "text_vectorizer = tf.keras.layers.TextVectorization(\n",
    "    max_tokens=max_tokens+2,\n",
    "    output_mode=\"multi_hot\"\n",
    ")\n",
    "# Fit on text to generate token index and vocabulary\n",
    "text_vectorizer.adapt([input_text])\n",
    "\n",
    "print(\"Vocabulary:\",text_vectorizer.get_vocabulary())\n",
    "print(\"\\nExample:\",text_vectorizer(\"data science is awesome\"))\n",
    "print(\"\\nExample:\",text_vectorizer(\"I like ice cream\"))"
   ]
  },
  {
   "cell_type": "markdown",
   "metadata": {
    "id": "pQFyuSXx2ykc"
   },
   "source": [
    "Bigram bag-of-words"
   ]
  },
  {
   "cell_type": "code",
   "execution_count": 38,
   "metadata": {
    "colab": {
     "base_uri": "https://localhost:8080/"
    },
    "id": "NdOj3O8gZLKs",
    "outputId": "1214cd12-e979-424d-f6f1-445370a7c275"
   },
   "outputs": [
    {
     "name": "stdout",
     "output_type": "stream",
     "text": [
      "Vocabulary: ['[UNK]', 'data', 'the', 'science', 'data science', 'as', 'and', 'topics', 'to data', 'to', 'models', 'methods', 'learning', 'introduction to', 'introduction', 'in', 'advanced', 'wrangling data', 'wrangling', 'well as', 'well', 'visualization statistical', 'visualization', 'upon the', 'upon', 'unsupervised learning', 'unsupervised', 'transformers language', 'transformers', 'topics include', 'topics in', 'the second', 'the material', 'the course', 'such as', 'such', 'statistical modeling', 'statistical', 'second half', 'second', 'science the', 'science cs109b', 'science building', 'rnns transformers', 'rnns', 'prediction topics', 'prediction', 'oneyear introduction', 'oneyear', 'of a', 'of', 'multiple deep', 'multiple', 'models autoencoders', 'models as', 'modeling and', 'modeling', 'methods for', 'methods and', 'material in', 'material', 'learning architectures', 'language models', 'language', 'is the', 'is', 'introduces advanced', 'introduces', 'include big', 'include', 'in introduction', 'in data', 'half of', 'half', 'generative models', 'generative', 'for data', 'for', 'deep learning', 'deep', 'data wrangling', 'data visualization', 'data multiple', 'cs109b is', 'cs109b', 'course introduces', 'course', 'cnns rnns', 'cnns', 'building upon', 'building', 'big data', 'big', 'bayesian methods', 'bayesian', 'basic bayesian', 'basic', 'autoencoders and', 'autoencoders', 'as well', 'as cnns', 'as basic', 'architectures such', 'architectures', 'and unsupervised', 'and prediction', 'and generative', 'advanced topics', 'advanced methods', 'a oneyear', 'a']\n",
      "\n",
      "Example: tf.Tensor(\n",
      "[3. 1. 0. 1. 1. 0. 0. 0. 0. 0. 0. 0. 0. 0. 0. 0. 0. 0. 0. 0. 0. 0. 0. 0.\n",
      " 0. 0. 0. 0. 0. 0. 0. 0. 0. 0. 0. 0. 0. 0. 0. 0. 0. 0. 0. 0. 0. 0. 0. 0.\n",
      " 0. 0. 0. 0. 0. 0. 0. 0. 0. 0. 0. 0. 0. 0. 0. 0. 0. 1. 0. 0. 0. 0. 0. 0.\n",
      " 0. 0. 0. 0. 0. 0. 0. 0. 0. 0. 0. 0. 0. 0. 0. 0. 0. 0. 0. 0. 0. 0. 0. 0.\n",
      " 0. 0. 0. 0. 0. 0. 0. 0. 0. 0. 0. 0. 0. 0. 0.], shape=(111,), dtype=float32)\n",
      "\n",
      "Example: tf.Tensor(\n",
      "[7. 0. 0. 0. 0. 0. 0. 0. 0. 0. 0. 0. 0. 0. 0. 0. 0. 0. 0. 0. 0. 0. 0. 0.\n",
      " 0. 0. 0. 0. 0. 0. 0. 0. 0. 0. 0. 0. 0. 0. 0. 0. 0. 0. 0. 0. 0. 0. 0. 0.\n",
      " 0. 0. 0. 0. 0. 0. 0. 0. 0. 0. 0. 0. 0. 0. 0. 0. 0. 0. 0. 0. 0. 0. 0. 0.\n",
      " 0. 0. 0. 0. 0. 0. 0. 0. 0. 0. 0. 0. 0. 0. 0. 0. 0. 0. 0. 0. 0. 0. 0. 0.\n",
      " 0. 0. 0. 0. 0. 0. 0. 0. 0. 0. 0. 0. 0. 0. 0.], shape=(111,), dtype=float32)\n"
     ]
    }
   ],
   "source": [
    "# Initialize Text Vectorizer\n",
    "text_vectorizer = tf.keras.layers.TextVectorization(\n",
    "    ngrams=2,\n",
    "    output_mode=\"count\"\n",
    ")\n",
    "# Fit on text to generate token index and vocabulary\n",
    "text_vectorizer.adapt([input_text])\n",
    "\n",
    "print(\"Vocabulary:\",text_vectorizer.get_vocabulary())\n",
    "print(\"\\nExample:\",text_vectorizer(\"data science is awesome\"))\n",
    "print(\"\\nExample:\",text_vectorizer(\"I like ice cream\"))"
   ]
  },
  {
   "cell_type": "markdown",
   "metadata": {
    "id": "4GuUTg9LbFZb"
   },
   "source": [
    "## **Recurrent Neural Networks**"
   ]
  },
  {
   "cell_type": "markdown",
   "metadata": {
    "id": "_u60Fcq2cls5"
   },
   "source": [
    "This section is to get you familiar with different RNN architectures. We will be working with a Named Entity Recognition (NER) dataset."
   ]
  },
  {
   "cell_type": "markdown",
   "metadata": {
    "id": "Ch1PniWbcb4D"
   },
   "source": [
    "### **Load the data**\n",
    "\n",
    "The dataset contains all the sentences, with each word tagged. </br>\n",
    "The tags can be:\n",
    "* geo = Geographical Entity\n",
    "* org = Organization\n",
    "* per = Person\n",
    "* gpe = Geopolitical Entity\n",
    "* tim = Time indicator\n",
    "* art = Artifact\n",
    "* eve = Event\n",
    "* nat = Natural Phenomenon\n",
    "\n",
    "Extract each sentence and transform it into an adequate format.  Use **df.fillna(method='ffill', inplace=True)** to fill the NaN values and extract the values easily.</br>"
   ]
  },
  {
   "cell_type": "code",
   "execution_count": 39,
   "metadata": {
    "colab": {
     "base_uri": "https://localhost:8080/",
     "height": 224
    },
    "id": "7m4ZNwuWbiU2",
    "outputId": "17cf1ebd-9085-44e5-e700-ee5b071b93ec"
   },
   "outputs": [
    {
     "name": "stdout",
     "output_type": "stream",
     "text": [
      "Shape: (1048575, 3)\n"
     ]
    },
    {
     "data": {
      "text/html": [
       "<div>\n",
       "<style scoped>\n",
       "    .dataframe tbody tr th:only-of-type {\n",
       "        vertical-align: middle;\n",
       "    }\n",
       "\n",
       "    .dataframe tbody tr th {\n",
       "        vertical-align: top;\n",
       "    }\n",
       "\n",
       "    .dataframe thead th {\n",
       "        text-align: right;\n",
       "    }\n",
       "</style>\n",
       "<table border=\"1\" class=\"dataframe\">\n",
       "  <thead>\n",
       "    <tr style=\"text-align: right;\">\n",
       "      <th></th>\n",
       "      <th>Sentence #</th>\n",
       "      <th>Word</th>\n",
       "      <th>Tag</th>\n",
       "    </tr>\n",
       "  </thead>\n",
       "  <tbody>\n",
       "    <tr>\n",
       "      <th>0</th>\n",
       "      <td>Sentence: 1</td>\n",
       "      <td>Thousands</td>\n",
       "      <td>O</td>\n",
       "    </tr>\n",
       "    <tr>\n",
       "      <th>1</th>\n",
       "      <td>NaN</td>\n",
       "      <td>of</td>\n",
       "      <td>O</td>\n",
       "    </tr>\n",
       "    <tr>\n",
       "      <th>2</th>\n",
       "      <td>NaN</td>\n",
       "      <td>demonstrators</td>\n",
       "      <td>O</td>\n",
       "    </tr>\n",
       "    <tr>\n",
       "      <th>3</th>\n",
       "      <td>NaN</td>\n",
       "      <td>have</td>\n",
       "      <td>O</td>\n",
       "    </tr>\n",
       "    <tr>\n",
       "      <th>4</th>\n",
       "      <td>NaN</td>\n",
       "      <td>marched</td>\n",
       "      <td>O</td>\n",
       "    </tr>\n",
       "  </tbody>\n",
       "</table>\n",
       "</div>"
      ],
      "text/plain": [
       "    Sentence #           Word Tag\n",
       "0  Sentence: 1      Thousands   O\n",
       "1          NaN             of   O\n",
       "2          NaN  demonstrators   O\n",
       "3          NaN           have   O\n",
       "4          NaN        marched   O"
      ]
     },
     "execution_count": 39,
     "metadata": {},
     "output_type": "execute_result"
    }
   ],
   "source": [
    "# Load data\n",
    "data = pd.read_csv('https://storage.googleapis.com/dataset_store/nlp/ner_dataset.csv', \n",
    "                 encoding= 'unicode_escape', \n",
    "                 usecols=['Sentence #','Word','Tag'])\n",
    "\n",
    "# Take a quick look at the dataset\n",
    "print(\"Shape:\",data.shape)\n",
    "data.head()"
   ]
  },
  {
   "cell_type": "markdown",
   "metadata": {
    "id": "0c0tJ5KPeynR"
   },
   "source": [
    "### **Build Data Pipelines**"
   ]
  },
  {
   "cell_type": "markdown",
   "metadata": {
    "id": "j6I9Wv7te2sr"
   },
   "source": [
    "**Clean Data**"
   ]
  },
  {
   "cell_type": "markdown",
   "metadata": {
    "id": "cUW9mzc35giM"
   },
   "source": [
    "\n",
    "\n",
    "The sentence is marked only at the first word with NaNs for the rest of the cells. We need to fill them with sentence number"
   ]
  },
  {
   "cell_type": "code",
   "execution_count": 40,
   "metadata": {
    "colab": {
     "base_uri": "https://localhost:8080/",
     "height": 255
    },
    "id": "AIfDCNAgrAmG",
    "outputId": "bc4d617e-0975-429a-b144-c5701fe03518"
   },
   "outputs": [
    {
     "name": "stdout",
     "output_type": "stream",
     "text": [
      "Shape: (1048575, 2)\n"
     ]
    },
    {
     "data": {
      "text/html": [
       "<div>\n",
       "<style scoped>\n",
       "    .dataframe tbody tr th:only-of-type {\n",
       "        vertical-align: middle;\n",
       "    }\n",
       "\n",
       "    .dataframe tbody tr th {\n",
       "        vertical-align: top;\n",
       "    }\n",
       "\n",
       "    .dataframe thead th {\n",
       "        text-align: right;\n",
       "    }\n",
       "</style>\n",
       "<table border=\"1\" class=\"dataframe\">\n",
       "  <thead>\n",
       "    <tr style=\"text-align: right;\">\n",
       "      <th></th>\n",
       "      <th>Word</th>\n",
       "      <th>Tag</th>\n",
       "    </tr>\n",
       "    <tr>\n",
       "      <th>Sentence #</th>\n",
       "      <th></th>\n",
       "      <th></th>\n",
       "    </tr>\n",
       "  </thead>\n",
       "  <tbody>\n",
       "    <tr>\n",
       "      <th>1</th>\n",
       "      <td>Thousands</td>\n",
       "      <td>O</td>\n",
       "    </tr>\n",
       "    <tr>\n",
       "      <th>1</th>\n",
       "      <td>of</td>\n",
       "      <td>O</td>\n",
       "    </tr>\n",
       "    <tr>\n",
       "      <th>1</th>\n",
       "      <td>demonstrators</td>\n",
       "      <td>O</td>\n",
       "    </tr>\n",
       "    <tr>\n",
       "      <th>1</th>\n",
       "      <td>have</td>\n",
       "      <td>O</td>\n",
       "    </tr>\n",
       "    <tr>\n",
       "      <th>1</th>\n",
       "      <td>marched</td>\n",
       "      <td>O</td>\n",
       "    </tr>\n",
       "  </tbody>\n",
       "</table>\n",
       "</div>"
      ],
      "text/plain": [
       "                     Word Tag\n",
       "Sentence #                   \n",
       "1               Thousands   O\n",
       "1                      of   O\n",
       "1           demonstrators   O\n",
       "1                    have   O\n",
       "1                 marched   O"
      ]
     },
     "execution_count": 40,
     "metadata": {},
     "output_type": "execute_result"
    }
   ],
   "source": [
    "# We fill Nan values using the previous value. \n",
    "# This way we can separate each sentence.\n",
    "data.fillna(method='ffill', inplace=True)\n",
    "\n",
    "# Remove \"Sentence: \" from the sentence column\n",
    "data['Sentence #'] = data['Sentence #'].str.replace('Sentence: ','').astype(int)\n",
    "\n",
    "# Set the index as the sentence number. Then we filter each sentence, joininig the text\n",
    "data.set_index('Sentence #', inplace=True)\n",
    "\n",
    "print(\"Shape:\",data.shape)\n",
    "data.head()"
   ]
  },
  {
   "cell_type": "code",
   "execution_count": 41,
   "metadata": {
    "colab": {
     "base_uri": "https://localhost:8080/",
     "height": 627
    },
    "id": "lUaMtHVArLXY",
    "outputId": "52ef9fc0-3e85-49c6-cbeb-de659cf98a65"
   },
   "outputs": [
    {
     "name": "stdout",
     "output_type": "stream",
     "text": [
      "['O' 'B-geo' 'B-gpe' 'B-per' 'I-geo' 'B-org' 'I-org' 'B-tim' 'B-art'\n",
      " 'I-art' 'I-per' 'I-gpe' 'I-tim' 'B-nat' 'B-eve' 'I-eve' 'I-nat']\n"
     ]
    },
    {
     "data": {
      "image/png": "[encoded data removed]",
      "text/plain": [
       "<Figure size 1080x720 with 1 Axes>"
      ]
     },
     "metadata": {
      "needs_background": "light"
     },
     "output_type": "display_data"
    }
   ],
   "source": [
    "# Take a quick look at the different tags\n",
    "print(data[\"Tag\"].unique())\n",
    "plt.figure(figsize=(15,10))\n",
    "plt.hist(data[\"Tag\"], log=True)\n",
    "plt.show()"
   ]
  },
  {
   "cell_type": "markdown",
   "metadata": {
    "id": "3X6was11_YMb"
   },
   "source": [
    "Let us look at the first sentence"
   ]
  },
  {
   "cell_type": "code",
   "execution_count": 42,
   "metadata": {
    "colab": {
     "base_uri": "https://localhost:8080/"
    },
    "id": "bEIKIUbV_aqQ",
    "outputId": "6bab7296-5f5c-4689-808f-139f9ddba203"
   },
   "outputs": [
    {
     "name": "stdout",
     "output_type": "stream",
     "text": [
      "Thousands -> O\n",
      "of -> O\n",
      "demonstrators -> O\n",
      "have -> O\n",
      "marched -> O\n",
      "through -> O\n",
      "London -> B-geo\n",
      "to -> O\n",
      "protest -> O\n",
      "the -> O\n",
      "war -> O\n",
      "in -> O\n",
      "Iraq -> B-geo\n",
      "and -> O\n",
      "demand -> O\n",
      "the -> O\n",
      "withdrawal -> O\n",
      "of -> O\n",
      "British -> B-gpe\n",
      "troops -> O\n",
      "from -> O\n",
      "that -> O\n",
      "country -> O\n",
      ". -> O\n"
     ]
    }
   ],
   "source": [
    "# Print first sentence\n",
    "sentence = data.loc[1]\n",
    "for index, row in sentence.iterrows():\n",
    "  print(row[\"Word\"],\"->\",row[\"Tag\"])"
   ]
  },
  {
   "cell_type": "markdown",
   "metadata": {
    "id": "snVlNqWop1l8"
   },
   "source": [
    "Select sentences with more than 15 and less than 30 words."
   ]
  },
  {
   "cell_type": "code",
   "execution_count": 43,
   "metadata": {
    "colab": {
     "base_uri": "https://localhost:8080/",
     "height": 272
    },
    "id": "mdyVMdNbptAy",
    "outputId": "89eb34e2-af59-46fe-ee3c-20886119db04"
   },
   "outputs": [
    {
     "name": "stdout",
     "output_type": "stream",
     "text": [
      "length [24 25 24 ... 29 20 24]\n",
      "Shape: (653765, 2)\n"
     ]
    },
    {
     "data": {
      "text/html": [
       "<div>\n",
       "<style scoped>\n",
       "    .dataframe tbody tr th:only-of-type {\n",
       "        vertical-align: middle;\n",
       "    }\n",
       "\n",
       "    .dataframe tbody tr th {\n",
       "        vertical-align: top;\n",
       "    }\n",
       "\n",
       "    .dataframe thead th {\n",
       "        text-align: right;\n",
       "    }\n",
       "</style>\n",
       "<table border=\"1\" class=\"dataframe\">\n",
       "  <thead>\n",
       "    <tr style=\"text-align: right;\">\n",
       "      <th></th>\n",
       "      <th>Word</th>\n",
       "      <th>Tag</th>\n",
       "    </tr>\n",
       "    <tr>\n",
       "      <th>Sentence #</th>\n",
       "      <th></th>\n",
       "      <th></th>\n",
       "    </tr>\n",
       "  </thead>\n",
       "  <tbody>\n",
       "    <tr>\n",
       "      <th>1</th>\n",
       "      <td>Thousands</td>\n",
       "      <td>O</td>\n",
       "    </tr>\n",
       "    <tr>\n",
       "      <th>1</th>\n",
       "      <td>of</td>\n",
       "      <td>O</td>\n",
       "    </tr>\n",
       "    <tr>\n",
       "      <th>1</th>\n",
       "      <td>demonstrators</td>\n",
       "      <td>O</td>\n",
       "    </tr>\n",
       "    <tr>\n",
       "      <th>1</th>\n",
       "      <td>have</td>\n",
       "      <td>O</td>\n",
       "    </tr>\n",
       "    <tr>\n",
       "      <th>1</th>\n",
       "      <td>marched</td>\n",
       "      <td>O</td>\n",
       "    </tr>\n",
       "  </tbody>\n",
       "</table>\n",
       "</div>"
      ],
      "text/plain": [
       "                     Word Tag\n",
       "Sentence #                   \n",
       "1               Thousands   O\n",
       "1                      of   O\n",
       "1           demonstrators   O\n",
       "1                    have   O\n",
       "1                 marched   O"
      ]
     },
     "execution_count": 43,
     "metadata": {},
     "output_type": "execute_result"
    }
   ],
   "source": [
    "# Filter the dataframe by sequence length\n",
    "index, length = np.unique(data.index, return_counts=True)\n",
    "\n",
    "b1 = length>15\n",
    "b2 = length<30\n",
    "b = np.logical_and(b1, b2)\n",
    "\n",
    "index = index[b]\n",
    "length = length[b]\n",
    "\n",
    "data = data.loc[index]\n",
    "\n",
    "print(\"length\",length)\n",
    "# Take a quick look at the dataset\n",
    "print(\"Shape:\",data.shape)\n",
    "data.head()"
   ]
  },
  {
   "cell_type": "markdown",
   "metadata": {
    "id": "-3PBDpv_p_2P"
   },
   "source": [
    "**Tokenize**"
   ]
  },
  {
   "cell_type": "code",
   "execution_count": 44,
   "metadata": {
    "colab": {
     "base_uri": "https://localhost:8080/",
     "height": 255
    },
    "id": "2gxki76hptDN",
    "outputId": "e1d3ef67-a723-4a77-c0a4-c0d20907e0f8"
   },
   "outputs": [
    {
     "name": "stdout",
     "output_type": "stream",
     "text": [
      "Shape: (600549, 2)\n"
     ]
    },
    {
     "data": {
      "text/html": [
       "<div>\n",
       "<style scoped>\n",
       "    .dataframe tbody tr th:only-of-type {\n",
       "        vertical-align: middle;\n",
       "    }\n",
       "\n",
       "    .dataframe tbody tr th {\n",
       "        vertical-align: top;\n",
       "    }\n",
       "\n",
       "    .dataframe thead th {\n",
       "        text-align: right;\n",
       "    }\n",
       "</style>\n",
       "<table border=\"1\" class=\"dataframe\">\n",
       "  <thead>\n",
       "    <tr style=\"text-align: right;\">\n",
       "      <th></th>\n",
       "      <th>Word</th>\n",
       "      <th>Tag</th>\n",
       "    </tr>\n",
       "    <tr>\n",
       "      <th>Sentence #</th>\n",
       "      <th></th>\n",
       "      <th></th>\n",
       "    </tr>\n",
       "  </thead>\n",
       "  <tbody>\n",
       "    <tr>\n",
       "      <th>1</th>\n",
       "      <td>248</td>\n",
       "      <td>16</td>\n",
       "    </tr>\n",
       "    <tr>\n",
       "      <th>1</th>\n",
       "      <td>3</td>\n",
       "      <td>16</td>\n",
       "    </tr>\n",
       "    <tr>\n",
       "      <th>1</th>\n",
       "      <td>859</td>\n",
       "      <td>16</td>\n",
       "    </tr>\n",
       "    <tr>\n",
       "      <th>1</th>\n",
       "      <td>14</td>\n",
       "      <td>16</td>\n",
       "    </tr>\n",
       "    <tr>\n",
       "      <th>1</th>\n",
       "      <td>1501</td>\n",
       "      <td>16</td>\n",
       "    </tr>\n",
       "  </tbody>\n",
       "</table>\n",
       "</div>"
      ],
      "text/plain": [
       "            Word  Tag\n",
       "Sentence #           \n",
       "1            248   16\n",
       "1              3   16\n",
       "1            859   16\n",
       "1             14   16\n",
       "1           1501   16"
      ]
     },
     "execution_count": 44,
     "metadata": {},
     "output_type": "execute_result"
    }
   ],
   "source": [
    "# Transform the tags into labels using LabelEnconder\n",
    "le = LabelEncoder()\n",
    "data['Tag'] = le.fit_transform(data.Tag)\n",
    "\n",
    "# Initialize tokenizer\n",
    "tokenizer = tf.keras.preprocessing.text.Tokenizer(num_words=None,\n",
    "                                                filters='\\'!\"#$%&()*+,-./:;<=>?@[\\\\]^_`{|}~\\t\\n',\n",
    "                                                lower=True,\n",
    "                                                split=' ',)\n",
    "# Fit on entire text\n",
    "tokenizer.fit_on_texts(data.Word.values)\n",
    "\n",
    "# Transform to tokens\n",
    "tokens = tokenizer.texts_to_sequences(data.Word.values)\n",
    "\n",
    "# Remove empty elements\n",
    "b = np.array([token!=[] for token in tokens])\n",
    "data = data.iloc[b,:]\n",
    "tokens = np.array(tokens, dtype=object)[b]\n",
    "\n",
    "data.Word = tokens\n",
    "data.Word=data.Word.map(lambda x: x[0])\n",
    "\n",
    "\n",
    "print(\"Shape:\",data.shape)\n",
    "data.head()"
   ]
  },
  {
   "cell_type": "code",
   "execution_count": 45,
   "metadata": {
    "colab": {
     "base_uri": "https://localhost:8080/"
    },
    "id": "f2VArX9IrDiv",
    "outputId": "179a0fea-be25-4b43-fecf-b885500f90c0"
   },
   "outputs": [
    {
     "name": "stdout",
     "output_type": "stream",
     "text": [
      "248 -> 16\n",
      "3 -> 16\n",
      "859 -> 16\n",
      "14 -> 16\n",
      "1501 -> 16\n",
      "238 -> 16\n",
      "472 -> 2\n",
      "5 -> 16\n",
      "490 -> 16\n",
      "1 -> 16\n",
      "124 -> 16\n",
      "2 -> 16\n",
      "57 -> 2\n",
      "6 -> 16\n",
      "590 -> 16\n",
      "1 -> 16\n",
      "812 -> 16\n",
      "3 -> 16\n",
      "178 -> 3\n",
      "85 -> 16\n",
      "21 -> 16\n",
      "12 -> 16\n",
      "50 -> 16\n"
     ]
    }
   ],
   "source": [
    "# Print first sentence\n",
    "test_sentence = data.loc[1]\n",
    "for index, row in test_sentence.iterrows():\n",
    "  print(row[\"Word\"],\"->\",row[\"Tag\"])"
   ]
  },
  {
   "cell_type": "code",
   "execution_count": 46,
   "metadata": {
    "colab": {
     "base_uri": "https://localhost:8080/"
    },
    "id": "POq19OMarZ8D",
    "outputId": "5fd15498-8f26-4858-ee39-af4f3d1d5de3"
   },
   "outputs": [
    {
     "name": "stdout",
     "output_type": "stream",
     "text": [
      "Shape: (26521, 28)\n"
     ]
    }
   ],
   "source": [
    "# Prepare training data by building the sentences from each word \n",
    "IDs = data.index.unique()\n",
    "\n",
    "sentences = []\n",
    "tags = []\n",
    "Ns = []\n",
    "for i in IDs: # For each id for the sentence\n",
    "    sel = data.loc[i] # We extract the respective data\n",
    "    if len(sel.shape)<2: # If the data is not formatted properly\n",
    "        continue # Ommit that id\n",
    "        \n",
    "    sentence = sel.Word.values # A sentence is a list of tokens\n",
    "    tag = sel['Tag'].values # The tags correspond to each token\n",
    "    \n",
    "    sentences.append(sentence)  # We store the sentences in a list\n",
    "    tags.append(tag)            # We do the same with the tags\n",
    "    Ns.append(sentence.shape[0])# And store the length of the sentence\n",
    "    \n",
    "# We transform everything into np arrays    \n",
    "Ns = np.array(Ns)\n",
    "sentences = np.array(sentences, dtype=object)\n",
    "tags = np.array(tags, dtype=object)    \n",
    "\n",
    "# To speed up calculations, we filter by sequence length\n",
    "# We do not care much of long sentences.\n",
    "b1 = Ns>15\n",
    "b2 = Ns<30\n",
    "b = np.logical_and(b1, b2)\n",
    "\n",
    "# We filter the training set\n",
    "Ns = Ns[b]\n",
    "sentences = sentences[b]\n",
    "tags = tags[b]\n",
    "\n",
    "# For simplicity, we create a padded array beforehand\n",
    "sentences = tf.keras.preprocessing.sequence.pad_sequences(sentences, padding='post')\n",
    "tags = tf.keras.preprocessing.sequence.pad_sequences(tags, padding='post')\n",
    "\n",
    "print(\"Shape:\",sentences.shape)"
   ]
  },
  {
   "cell_type": "code",
   "execution_count": 47,
   "metadata": {
    "colab": {
     "base_uri": "https://localhost:8080/"
    },
    "id": "yJDFIxrnuapb",
    "outputId": "5d55ae29-fe14-498e-b22a-2a46f2ac90bc"
   },
   "outputs": [
    {
     "name": "stdout",
     "output_type": "stream",
     "text": [
      "Input 28 [ 248    3  859   14 1501  238  472    5  490    1  124    2   57    6\n",
      "  590    1  812    3  178   85   21   12   50    0    0    0    0    0]\n",
      "Output 28 [16 16 16 16 16 16  2 16 16 16 16 16  2 16 16 16 16 16  3 16 16 16 16  0\n",
      "  0  0  0  0]\n",
      "*************\n",
      "Input 28 [    1   490   532    10     1  1928     3     1  1079   460     3   403\n",
      "     7   487   831   139     2     1   125  2429  8837  1453     3 13911\n",
      "     0     0     0     0]\n",
      "Output 28 [16 16 16 16 16 16 16 16 16 16 16  2 16 16  5 13 16 16 16  3 16 16 16  2\n",
      "  0  0  0  0]\n",
      "*************\n",
      "Input 28 [   1  139   11 1749   84  403    7 3158    2    1   57  609    6    1\n",
      "  718 2100    3  528  178   85    2   12   50    0    0    0    0    0]\n",
      "Output 28 [16 16 16 16 16  3 16 16 16 16  2 16 16 16 16 16 16 16  3 16 16 16 16  0\n",
      "  0  0  0  0]\n",
      "*************\n"
     ]
    }
   ],
   "source": [
    "# View some data\n",
    "for idx in range(3):\n",
    "  print(\"Input\",len(sentences[idx]), sentences[idx])\n",
    "  print(\"Output\",len(tags[idx]),tags[idx])\n",
    "  print(\"*************\")"
   ]
  },
  {
   "cell_type": "markdown",
   "metadata": {
    "id": "pDenaWeyu1k-"
   },
   "source": [
    "We split data into train and validation by randomly selecting 20% as the validation set."
   ]
  },
  {
   "cell_type": "code",
   "execution_count": 48,
   "metadata": {
    "colab": {
     "base_uri": "https://localhost:8080/"
    },
    "id": "6tlYFFCpu1k_",
    "outputId": "7fc95629-e467-4734-eddb-f9e082593214"
   },
   "outputs": [
    {
     "name": "stdout",
     "output_type": "stream",
     "text": [
      "train_x count: 21216\n",
      "validate_x count: 5305\n"
     ]
    }
   ],
   "source": [
    "# Split data\n",
    "validation_percent = 0.20\n",
    "\n",
    "# Split data into train / validate\n",
    "train_x, validate_x, train_y, validate_y = train_test_split(sentences, tags, test_size=validation_percent)\n",
    "\n",
    "print(\"train_x count:\",len(train_x))\n",
    "print(\"validate_x count:\",len(validate_x))"
   ]
  },
  {
   "cell_type": "code",
   "execution_count": 49,
   "metadata": {
    "colab": {
     "base_uri": "https://localhost:8080/"
    },
    "id": "Np420ai8KiVF",
    "outputId": "eeac6524-f7ff-4bb1-d506-a514aea54bfb"
   },
   "outputs": [
    {
     "name": "stdout",
     "output_type": "stream",
     "text": [
      "Number of classes: 17\n",
      "Vocabulary Size: 22817\n"
     ]
    }
   ],
   "source": [
    "# Number of unique labels\n",
    "num_classes = le.classes_.shape[0] \n",
    "print(\"Number of classes:\", num_classes)\n",
    "\n",
    "vocabulary_size = len(tokenizer.word_counts)\n",
    "print(\"Vocabulary Size:\",vocabulary_size)"
   ]
  },
  {
   "cell_type": "markdown",
   "metadata": {
    "id": "HcDMizUpvpAS"
   },
   "source": [
    "### **Single Layer RNN**"
   ]
  },
  {
   "cell_type": "markdown",
   "metadata": {
    "id": "jFp79PR2vtWD"
   },
   "source": [
    "**Build Model**\n",
    "\n",
    "Define a model, which will be many to many.\n",
    "\n",
    "* The first layer should be Embedding, with _mask_zero_ set to True. This will propagate the mask in the network.\n",
    "* Then, a SimpleRNN layer. We set here the number of hidden units. Remember to return the sequence of hidden states.\n",
    "* We will define a Dense layer, with size set as the number of classes and activation softmax. "
   ]
  },
  {
   "cell_type": "code",
   "execution_count": 50,
   "metadata": {
    "id": "8GCkLWj8rjA5"
   },
   "outputs": [],
   "source": [
    "def build_single_rnn(num_classes,vocab_size,embedding_dim):\n",
    "  # Model input\n",
    "  model_input = tf.keras.Input(shape=(None,), name='sentence_input')\n",
    "\n",
    "  # Embedding\n",
    "  hidden = tf.keras.layers.Embedding(input_dim=vocab_size+1, output_dim=embedding_dim, \n",
    "                        name='word_embedding', mask_zero=True)(model_input)\n",
    "\n",
    "  # Forward RNN layer\n",
    "  hidden = tf.keras.layers.SimpleRNN(units=embedding_dim, return_sequences=True)(hidden)\n",
    "\n",
    "  # Output Layer\n",
    "  output = tf.keras.layers.Dense(units=num_classes, activation='softmax')(hidden)\n",
    "\n",
    "  # Create model\n",
    "  model = tf.keras.Model(inputs=model_input, outputs=output, name=\"single_rnn\")\n",
    "\n",
    "  return model"
   ]
  },
  {
   "cell_type": "markdown",
   "metadata": {
    "id": "tyoHmIR0GBax"
   },
   "source": [
    "**Train**"
   ]
  },
  {
   "cell_type": "code",
   "execution_count": 51,
   "metadata": {
    "colab": {
     "base_uri": "https://localhost:8080/"
    },
    "id": "T0kZBsE_Fhgp",
    "outputId": "60bbc73f-d3b6-44ff-c134-3fb7b5a9eeeb"
   },
   "outputs": [
    {
     "name": "stdout",
     "output_type": "stream",
     "text": [
      "Model: \"single_rnn\"\n",
      "_________________________________________________________________\n",
      " Layer (type)                Output Shape              Param #   \n",
      "=================================================================\n",
      " sentence_input (InputLayer)  [(None, None)]           0         \n",
      "                                                                 \n",
      " word_embedding (Embedding)  (None, None, 8)           182544    \n",
      "                                                                 \n",
      " simple_rnn (SimpleRNN)      (None, None, 8)           136       \n",
      "                                                                 \n",
      " dense (Dense)               (None, None, 17)          153       \n",
      "                                                                 \n",
      "=================================================================\n",
      "Total params: 182,833\n",
      "Trainable params: 182,833\n",
      "Non-trainable params: 0\n",
      "_________________________________________________________________\n",
      "None\n",
      "Epoch 1/20\n",
      "21/21 [==============================] - 27s 53ms/step - loss: 2.0921 - accuracy: 0.2112 - val_loss: 2.0448 - val_accuracy: 0.4036\n",
      "Epoch 2/20\n",
      "21/21 [==============================] - 1s 35ms/step - loss: 1.9737 - accuracy: 0.5638 - val_loss: 1.8772 - val_accuracy: 0.7724\n",
      "Epoch 3/20\n",
      "21/21 [==============================] - 1s 35ms/step - loss: 1.7546 - accuracy: 0.8210 - val_loss: 1.5999 - val_accuracy: 0.8324\n",
      "Epoch 4/20\n",
      "21/21 [==============================] - 1s 34ms/step - loss: 1.4358 - accuracy: 0.8307 - val_loss: 1.2495 - val_accuracy: 0.8324\n",
      "Epoch 5/20\n",
      "21/21 [==============================] - 1s 35ms/step - loss: 1.1072 - accuracy: 0.8307 - val_loss: 0.9661 - val_accuracy: 0.8324\n",
      "Epoch 6/20\n",
      "21/21 [==============================] - 1s 35ms/step - loss: 0.8812 - accuracy: 0.8308 - val_loss: 0.8028 - val_accuracy: 0.8325\n",
      "Epoch 7/20\n",
      "21/21 [==============================] - 1s 34ms/step - loss: 0.7623 - accuracy: 0.8313 - val_loss: 0.7230 - val_accuracy: 0.8333\n",
      "Epoch 8/20\n",
      "21/21 [==============================] - 1s 34ms/step - loss: 0.7012 - accuracy: 0.8321 - val_loss: 0.6773 - val_accuracy: 0.8338\n",
      "Epoch 9/20\n",
      "21/21 [==============================] - 1s 35ms/step - loss: 0.6623 - accuracy: 0.8328 - val_loss: 0.6444 - val_accuracy: 0.8348\n",
      "Epoch 10/20\n",
      "21/21 [==============================] - 1s 35ms/step - loss: 0.6313 - accuracy: 0.8335 - val_loss: 0.6159 - val_accuracy: 0.8352\n",
      "Epoch 11/20\n",
      "21/21 [==============================] - 1s 34ms/step - loss: 0.6028 - accuracy: 0.8338 - val_loss: 0.5887 - val_accuracy: 0.8350\n",
      "Epoch 12/20\n",
      "21/21 [==============================] - 1s 34ms/step - loss: 0.5752 - accuracy: 0.8338 - val_loss: 0.5625 - val_accuracy: 0.8352\n",
      "Epoch 13/20\n",
      "21/21 [==============================] - 1s 34ms/step - loss: 0.5489 - accuracy: 0.8342 - val_loss: 0.5379 - val_accuracy: 0.8357\n",
      "Epoch 14/20\n",
      "21/21 [==============================] - 1s 34ms/step - loss: 0.5242 - accuracy: 0.8349 - val_loss: 0.5150 - val_accuracy: 0.8365\n",
      "Epoch 15/20\n",
      "21/21 [==============================] - 1s 35ms/step - loss: 0.5012 - accuracy: 0.8364 - val_loss: 0.4939 - val_accuracy: 0.8390\n",
      "Epoch 16/20\n",
      "21/21 [==============================] - 1s 36ms/step - loss: 0.4800 - accuracy: 0.8398 - val_loss: 0.4746 - val_accuracy: 0.8439\n",
      "Epoch 17/20\n",
      "21/21 [==============================] - 1s 35ms/step - loss: 0.4605 - accuracy: 0.8450 - val_loss: 0.4571 - val_accuracy: 0.8472\n",
      "Epoch 18/20\n",
      "21/21 [==============================] - 1s 35ms/step - loss: 0.4428 - accuracy: 0.8494 - val_loss: 0.4413 - val_accuracy: 0.8530\n",
      "Epoch 19/20\n",
      "21/21 [==============================] - 1s 34ms/step - loss: 0.4266 - accuracy: 0.8558 - val_loss: 0.4269 - val_accuracy: 0.8585\n",
      "Epoch 20/20\n",
      "21/21 [==============================] - 1s 34ms/step - loss: 0.4120 - accuracy: 0.8620 - val_loss: 0.4140 - val_accuracy: 0.8634\n",
      "Training execution time (mins) 0.6779349486033122\n"
     ]
    }
   ],
   "source": [
    "############################\n",
    "# Training Params\n",
    "############################\n",
    "learning_rate = 0.001\n",
    "epochs = 20\n",
    "embedding_dim = 8\n",
    "\n",
    "# Free up memory\n",
    "K.clear_session()\n",
    "\n",
    "# Build the model\n",
    "model = build_single_rnn(num_classes,vocabulary_size, embedding_dim)\n",
    "\n",
    "# Print the model architecture\n",
    "print(model.summary())\n",
    "\n",
    "# Optimizer\n",
    "optimizer = tf.keras.optimizers.Adam(learning_rate=learning_rate)\n",
    "# Loss\n",
    "loss = tf.keras.losses.sparse_categorical_crossentropy\n",
    "\n",
    "# Compile\n",
    "model.compile(loss=loss,\n",
    "                  optimizer=optimizer,\n",
    "                  metrics=['accuracy'])\n",
    "\n",
    "# Train model\n",
    "start_time = time.time()\n",
    "training_results = model.fit(\n",
    "        train_x,train_y,\n",
    "        validation_data= (validate_x,validate_y),\n",
    "        batch_size=1024,\n",
    "        epochs=epochs, \n",
    "        verbose=1)\n",
    "execution_time = (time.time() - start_time)/60.0\n",
    "print(\"Training execution time (mins)\",execution_time)"
   ]
  },
  {
   "cell_type": "code",
   "execution_count": 52,
   "metadata": {
    "colab": {
     "base_uri": "https://localhost:8080/",
     "height": 336
    },
    "id": "5yHNyWgFFhjJ",
    "outputId": "dcd29707-0e03-4106-cbe6-20f5c2a97535"
   },
   "outputs": [
    {
     "data": {
      "image/png": "[encoded data removed]",
      "text/plain": [
       "<Figure size 1440x360 with 2 Axes>"
      ]
     },
     "metadata": {
      "needs_background": "light"
     },
     "output_type": "display_data"
    }
   ],
   "source": [
    "# Plot training results\n",
    "fig = plt.figure(figsize=(20,5))\n",
    "axs = fig.add_subplot(1,3,1)\n",
    "axs.set_title('Loss')\n",
    "# Plot all metrics\n",
    "for metric in [\"loss\",\"val_loss\"]:\n",
    "    axs.plot(np.arange(0, epochs), training_results.history[metric], label=metric)\n",
    "axs.legend()\n",
    "\n",
    "axs = fig.add_subplot(1,3,2)\n",
    "axs.set_title('Accuracy')\n",
    "# Plot all metrics\n",
    "for metric in [\"accuracy\",\"val_accuracy\"]:\n",
    "    axs.plot(np.arange(0, epochs), training_results.history[metric], label=metric)\n",
    "axs.legend()\n",
    "\n",
    "plt.show()"
   ]
  },
  {
   "cell_type": "markdown",
   "metadata": {
    "id": "bCSwNl-eLQdK"
   },
   "source": [
    "### **Various Models Architectures 🎊🎉**\n",
    "\n",
    "### **<font color='red'>Activity</font> 🎊🎉** \n",
    "\n",
    "\n",
    "**Create the following architectures:**\n",
    "\n",
    "Create a function to build different RNN architectures. For simplicity, use the SimpleRNN.\n",
    "\n",
    "* Create a single-layer RNN network \n",
    "* Create a k-layer RNN network, where k=[2,3]. \n",
    "* Create a bidirectional single-layer RNN.  \n",
    "* Create a bidirectional k-layer RNN, where k=[2,3]. "
   ]
  },
  {
   "cell_type": "code",
   "execution_count": 53,
   "metadata": {
    "id": "nU0JzCXhFhlz"
   },
   "outputs": [],
   "source": [
    "# Create a function for all model options\n",
    "def build_model(num_classes,vocab_size,embedding_dim,rnn_layers,bidir):\n",
    "  # Model input\n",
    "  model_input = tf.keras.Input(shape=(None,), name='sentence_input')\n",
    "\n",
    "  # Embedding\n",
    "  hidden = tf.keras.layers.Embedding(input_dim=vocab_size+1, output_dim=embedding_dim, \n",
    "                        name='word_embedding', mask_zero=True)(model_input)\n",
    "\n",
    "  # Create RNNs\n",
    "  hidden_forward = []\n",
    "  hidden_backward = []\n",
    "  for k in range(rnn_layers):\n",
    "    # Forward RNN layer\n",
    "    hidden = tf.keras.layers.SimpleRNN(units=embedding_dim, return_sequences=True)(hidden)\n",
    "    hidden_forward.append(hidden)\n",
    "\n",
    "    # Backward RNN layer\n",
    "    if bidir:\n",
    "      hidden_b = tf.keras.layers.SimpleRNN(units=embedding_dim, return_sequences=True, go_backwards=True)(hidden)\n",
    "      hidden_backward.append(hidden_b)\n",
    "  \n",
    "  if bidir:\n",
    "      hidden = tf.keras.layers.concatenate(hidden_forward+hidden_backward)\n",
    "  else:\n",
    "      if rnn_layers==1:\n",
    "          hidden = hidden_forward[0]\n",
    "      else:\n",
    "          hidden = tf.keras.layers.concatenate(hidden_forward)\n",
    "\n",
    "  # Output Layer\n",
    "  output = tf.keras.layers.Dense(units=num_classes, activation='softmax')(hidden)\n",
    "\n",
    "  # Create model\n",
    "  model = tf.keras.Model(inputs=model_input, outputs=output, name='_'.join([str(embedding_dim), str(rnn_layer),str(bidir)]))\n",
    "\n",
    "  return model"
   ]
  },
  {
   "cell_type": "markdown",
   "metadata": {
    "id": "oPeZYx5t-GBj"
   },
   "source": [
    "**Solution**"
   ]
  },
  {
   "cell_type": "code",
   "execution_count": 54,
   "metadata": {
    "colab": {
     "base_uri": "https://localhost:8080/"
    },
    "id": "XH4PPLoMAXpc",
    "outputId": "b4178447-4399-4c5b-ac3a-08c93c5a9b29"
   },
   "outputs": [
    {
     "name": "stdout",
     "output_type": "stream",
     "text": [
      "# Create a function for all model options\n",
      "def build_model(num_classes,vocab_size,embedding_dim,rnn_layers,bidir):\n",
      "  # Model input\n",
      "  model_input = tf.keras.Input(shape=(None,), name='sentence_input')\n",
      "\n",
      "  # Embedding\n",
      "  hidden = tf.keras.layers.Embedding(input_dim=vocab_size+1, output_dim=embedding_dim, \n",
      "                        name='word_embedding', mask_zero=True)(model_input)\n",
      "\n",
      "  # Create RNNs\n",
      "  hidden_forward = []\n",
      "  hidden_backward = []\n",
      "  for k in range(rnn_layers):\n",
      "    # Forward RNN layer\n",
      "    hidden = tf.keras.layers.SimpleRNN(units=embedding_dim, return_sequences=True)(hidden)\n",
      "    hidden_forward.append(hidden)\n",
      "\n",
      "    # Backward RNN layer\n",
      "    if bidir:\n",
      "      hidden_b = tf.keras.layers.SimpleRNN(units=embedding_dim, return_sequences=True, go_backwards=True)(hidden)\n",
      "      hidden_backward.append(hidden_b)\n",
      "  \n",
      "  if bidir:\n",
      "      hidden = tf.keras.layers.concatenate(hidden_forward+hidden_backward)\n",
      "  else:\n",
      "      if rnn_layers==1:\n",
      "          hidden = hidden_forward[0]\n",
      "      else:\n",
      "          hidden = tf.keras.layers.concatenate(hidden_forward)\n",
      "\n",
      "  # Output Layer\n",
      "  output = tf.keras.layers.Dense(units=num_classes, activation='softmax')(hidden)\n",
      "\n",
      "  # Create model\n",
      "  model = tf.keras.Model(inputs=model_input, outputs=output, name='_'.join([str(embedding_dim), str(rnn_layer),str(bidir)]))\n",
      "\n",
      "  return model\n"
     ]
    }
   ],
   "source": [
    "display_solution(\"https://storage.googleapis.com/public-code-snippets/cs109b_lab9_activity1.txt\")"
   ]
  },
  {
   "cell_type": "markdown",
   "metadata": {
    "id": "19N4Gj-hsQuH"
   },
   "source": [
    "Run each model experiment with the following training parameters"
   ]
  },
  {
   "cell_type": "code",
   "execution_count": 55,
   "metadata": {
    "colab": {
     "base_uri": "https://localhost:8080/",
     "height": 416
    },
    "id": "0hjCX7vMLqoF",
    "outputId": "d87e19f7-6f46-4820-ddc9-1e898bacaed8"
   },
   "outputs": [
    {
     "name": "stdout",
     "output_type": "stream",
     "text": [
      "32_1_False\n",
      "Training execution time (mins) 0.25669445594151813\n",
      "32_1_True\n",
      "Training execution time (mins) 0.49709102710088093\n",
      "32_2_False\n",
      "Training execution time (mins) 0.48726726373036705\n",
      "32_2_True\n",
      "Training execution time (mins) 0.9529780507087707\n",
      "64_1_False\n",
      "Training execution time (mins) 0.3028216560681661\n",
      "64_1_True\n",
      "Training execution time (mins) 0.5916741132736206\n",
      "64_2_False\n",
      "Training execution time (mins) 0.5885754704475403\n",
      "64_2_True\n",
      "Training execution time (mins) 1.1231298128763834\n"
     ]
    }
   ],
   "source": [
    "############################\n",
    "# Training Params\n",
    "############################\n",
    "learning_rate=0.001\n",
    "epochs = 20\n",
    "embedding_dim = [32,64] # [8,32,64]\n",
    "num_rnn_layers = [1,2] # [2,3]\n",
    "\n",
    "all_training_results = []\n",
    "\n",
    "for e_dim in embedding_dim:\n",
    "  for rnn_layer in num_rnn_layers:\n",
    "    for bidir in [False,True]:\n",
    "      # Free up memory\n",
    "      K.clear_session()\n",
    "\n",
    "      # Build the model\n",
    "      model = build_model(num_classes,vocabulary_size, e_dim, rnn_layer, bidir)\n",
    "\n",
    "      # Print the model architecture\n",
    "      print(model.name)\n",
    "      #print(model.summary())\n",
    "\n",
    "      # Optimizer\n",
    "      optimizer = tf.keras.optimizers.Adam(learning_rate=learning_rate)\n",
    "      # Loss\n",
    "      loss = tf.keras.losses.sparse_categorical_crossentropy\n",
    "\n",
    "      # Compile\n",
    "      model.compile(loss=loss,\n",
    "                        optimizer=optimizer,\n",
    "                        metrics=['accuracy'])\n",
    "\n",
    "      # Train model\n",
    "      start_time = time.time()\n",
    "      training_results = model.fit(\n",
    "              train_x,train_y,\n",
    "              validation_data= (validate_x,validate_y),\n",
    "              batch_size=1024,\n",
    "              epochs=epochs, \n",
    "              verbose=0)\n",
    "      all_training_results.append(training_results)\n",
    "      execution_time = (time.time() - start_time)/60.0\n",
    "      print(\"Training execution time (mins)\",execution_time)"
   ]
  },
  {
   "cell_type": "markdown",
   "metadata": {
    "id": "QBWEEPyqM4-k"
   },
   "source": [
    "**Evaluate Models**"
   ]
  },
  {
   "cell_type": "code",
   "execution_count": 56,
   "metadata": {
    "id": "6vApdka6Lqxl"
   },
   "outputs": [
    {
     "data": {
      "image/png": "[encoded data removed]",
      "text/plain": [
       "<Figure size 1080x720 with 1 Axes>"
      ]
     },
     "metadata": {
      "needs_background": "light"
     },
     "output_type": "display_data"
    }
   ],
   "source": [
    "# plot the results\n",
    "plt.figure(figsize=(15,10))\n",
    "for training_results in all_training_results:\n",
    "    plt.plot(training_results.history['val_loss'], label=training_results.model.name)\n",
    "plt.legend(loc=0)\n",
    "plt.yscale('log')\n",
    "plt.xlabel('Epoch')\n",
    "plt.ylabel('Loss')\n",
    "plt.show()"
   ]
  },
  {
   "cell_type": "code",
   "execution_count": 57,
   "metadata": {
    "id": "BaoZz3haM9Wp"
   },
   "outputs": [
    {
     "data": {
      "image/png": "[encoded data removed]",
      "text/plain": [
       "<Figure size 1080x720 with 1 Axes>"
      ]
     },
     "metadata": {
      "needs_background": "light"
     },
     "output_type": "display_data"
    }
   ],
   "source": [
    "plt.figure(figsize=(15,10))\n",
    "for training_results in all_training_results:\n",
    "    plt.plot(training_results.history['val_accuracy'], label=training_results.model.name)\n",
    "plt.legend(loc=0)\n",
    "plt.ylim(0.8,1)\n",
    "plt.xlabel('Epoch')\n",
    "plt.ylabel('Accuracy')\n",
    "plt.show()"
   ]
  },
  {
   "cell_type": "markdown",
   "metadata": {
    "id": "MRkMqGepskvs"
   },
   "source": [
    "Which model is performing well?"
   ]
  },
  {
   "cell_type": "markdown",
   "metadata": {
    "id": "5wT9IIKMZJlB"
   },
   "source": [
    "## **LSTMs**"
   ]
  },
  {
   "cell_type": "markdown",
   "metadata": {
    "id": "xOQxeAfeZbuc"
   },
   "source": [
    "### **Load the data**"
   ]
  },
  {
   "cell_type": "code",
   "execution_count": 58,
   "metadata": {
    "colab": {
     "base_uri": "https://localhost:8080/",
     "height": 224
    },
    "id": "u6d1jPy3Zbuc",
    "outputId": "6e89f0a8-457c-45c1-9747-83e3aceacbab"
   },
   "outputs": [
    {
     "name": "stdout",
     "output_type": "stream",
     "text": [
      "Shape: (10000, 2)\n"
     ]
    },
    {
     "data": {
      "text/html": [
       "<div>\n",
       "<style scoped>\n",
       "    .dataframe tbody tr th:only-of-type {\n",
       "        vertical-align: middle;\n",
       "    }\n",
       "\n",
       "    .dataframe tbody tr th {\n",
       "        vertical-align: top;\n",
       "    }\n",
       "\n",
       "    .dataframe thead th {\n",
       "        text-align: right;\n",
       "    }\n",
       "</style>\n",
       "<table border=\"1\" class=\"dataframe\">\n",
       "  <thead>\n",
       "    <tr style=\"text-align: right;\">\n",
       "      <th></th>\n",
       "      <th>text</th>\n",
       "      <th>polarity</th>\n",
       "    </tr>\n",
       "  </thead>\n",
       "  <tbody>\n",
       "    <tr>\n",
       "      <th>0</th>\n",
       "      <td>first think another Disney movie, might good, ...</td>\n",
       "      <td>1</td>\n",
       "    </tr>\n",
       "    <tr>\n",
       "      <th>1</th>\n",
       "      <td>Put aside Dr. House repeat missed, Desperate H...</td>\n",
       "      <td>0</td>\n",
       "    </tr>\n",
       "    <tr>\n",
       "      <th>2</th>\n",
       "      <td>big fan Stephen King's work, film made even gr...</td>\n",
       "      <td>1</td>\n",
       "    </tr>\n",
       "    <tr>\n",
       "      <th>3</th>\n",
       "      <td>watched horrid thing TV. Needless say one movi...</td>\n",
       "      <td>0</td>\n",
       "    </tr>\n",
       "    <tr>\n",
       "      <th>4</th>\n",
       "      <td>truly enjoyed film. acting terrific plot. Jeff...</td>\n",
       "      <td>1</td>\n",
       "    </tr>\n",
       "  </tbody>\n",
       "</table>\n",
       "</div>"
      ],
      "text/plain": [
       "                                                text  polarity\n",
       "0  first think another Disney movie, might good, ...         1\n",
       "1  Put aside Dr. House repeat missed, Desperate H...         0\n",
       "2  big fan Stephen King's work, film made even gr...         1\n",
       "3  watched horrid thing TV. Needless say one movi...         0\n",
       "4  truly enjoyed film. acting terrific plot. Jeff...         1"
      ]
     },
     "execution_count": 58,
     "metadata": {},
     "output_type": "execute_result"
    }
   ],
   "source": [
    "# Read the data\n",
    "file_path = \"https://storage.googleapis.com/cs109b/nlp/imdb.csv\"\n",
    "data = pd.read_csv(file_path, encoding='latin1')\n",
    "print(\"Shape:\",data.shape)\n",
    "data.head()"
   ]
  },
  {
   "cell_type": "code",
   "execution_count": 59,
   "metadata": {
    "colab": {
     "base_uri": "https://localhost:8080/"
    },
    "id": "7njEUztMtFtp",
    "outputId": "c7be529f-7591-4043-c3c5-d6532eea0a33"
   },
   "outputs": [
    {
     "name": "stdout",
     "output_type": "stream",
     "text": [
      "Number of classes: 2\n",
      "data_x: 10000\n",
      "data_y: 10000\n",
      "data_x: [\"first think another Disney movie, might good, it's kids movie. watch it, can't help enjoy it. ages love movie. first saw movie 10 8 years later still love it! Danny Glover superb could play part better. Christopher Lloyd hilarious perfect part. Tony Danza believable Mel Clark. can't help, enjoy movie! give 10/10!\"\n",
      " 'Put aside Dr. House repeat missed, Desperate Housewives (new) watch one. don\\'t know exactly plagued movie. never thought I\\'d say this, want 15 minutes fame back.<br /><br />Script, Direction, can\\'t say. recognized stable actors (the usual suspects), thought Herbert Marshall class addition sat good cheesy flick. Boy, wrong. Dullsville.<br /><br />My favorite parts: \"office girl\" makes 029 keypunch puts cards 087 sorter. LOL @ \"the computer\". I\\'d like someone identify next device - 477 ? It\\'s even dinosaur\\'s time.<br /><br />And dinosaurs don\\'t much time waste.'\n",
      " 'big fan Stephen King\\'s work, film made even greater fan King. Pet Sematary Creed family. moved new house, seem happy. pet cemetery behind house. Creed\\'s new neighbor Jud (played Fred Gwyne) explains burial ground behind pet cemetery. burial ground pure evil. Jud tells Louis Creed bury human (or kind pet) burial ground, would come back life. problem, come back, person, they\\'re evil. Soon Jud explains everything Pet Sematary, everything starts go hell. wont explain anymore don\\'t want give away main parts film. acting Pet Sematary pretty good, needed little bit work. story one main parts movie, mainly original gripping. film features lots make-up effects make movie way eerie, frightening. One basic reasons movie sent chills back, fact make-up effects. one character film truly freaky. character \"Zelda.\" particular character pops film three times precise. Zelda Rachel Creed\\'s sister passed away years before, Rachel still haunted her. first time Zelda appears movie isn\\'t generally scary isn\\'t talking anything, second time worst, honest, second time scares living **** me. absolutely nothing wrong movie, almost perfect. Pet Sematary delivers great scares, pretty good acting, first rate plot, mesmerizing make-up. truly one favorite horror films time. 10 10.'\n",
      " 'watched horrid thing TV. Needless say one movies watch see much worse get. Frankly, don\\'t know much lower bar go. <br /><br />The characters composed one lame stereo-type another, obvious attempt creating another \"Bad News Bears\" embarrassing say least.<br /><br />I seen prized turkeys time, reason list since \"Numero Uno\".<br /><br />Let put way, watched Vanilla Ice movie, bad funny. This...this...is even good.'\n",
      " \"truly enjoyed film. acting terrific plot. Jeff Combs talent recognized for. part flick would change ending. death creature far gruesome Sci Fi Channel.<br /><br />There interesting religious messages film. Jeff Combs obviously played Messiah figure creature (or shark prefer) represented anti-Chirst. particularly frightening scenes 'end world feel'. noticed third viewing classic creature feature. know many people won't get references Christianity, watch close you'll get it.\"]\n",
      "data_y: [1 0 1 0 1]\n"
     ]
    }
   ],
   "source": [
    "# Get data x and y\n",
    "data_x = data[\"text\"].values\n",
    "data_y = data[\"polarity\"].values\n",
    "\n",
    "# Number of unique labels\n",
    "num_classes = len(np.unique(data_y))\n",
    "print(\"Number of classes:\", num_classes)\n",
    "\n",
    "print(\"data_x:\",len(data_x))\n",
    "print(\"data_y:\",len(data_y))\n",
    "print(\"data_x:\",data_x[:5])\n",
    "print(\"data_y:\",data_y[:5])"
   ]
  },
  {
   "cell_type": "markdown",
   "metadata": {
    "id": "oAGfg61ZZbud"
   },
   "source": [
    "### **Build Data Pipelines**"
   ]
  },
  {
   "cell_type": "markdown",
   "metadata": {
    "id": "nbMP2Tw3Zbue"
   },
   "source": [
    "**Split Data** "
   ]
  },
  {
   "cell_type": "markdown",
   "metadata": {
    "id": "s-u197VeZbue"
   },
   "source": [
    "We split data into train and validation by randomly selecting 20% as the test set."
   ]
  },
  {
   "cell_type": "code",
   "execution_count": 60,
   "metadata": {
    "colab": {
     "base_uri": "https://localhost:8080/"
    },
    "id": "3mocTngXKerG",
    "outputId": "75daec7d-0d0b-47b2-8771-9a8569f70233"
   },
   "outputs": [
    {
     "name": "stdout",
     "output_type": "stream",
     "text": [
      "train_x count: 8000\n",
      "validate_x count: 2000\n"
     ]
    }
   ],
   "source": [
    "# Split data\n",
    "validation_percent = 0.20\n",
    "\n",
    "# Split data into train / validate\n",
    "train_x, validate_x, train_y, validate_y = train_test_split(data_x, data_y, test_size=validation_percent, stratify=data_y)\n",
    "\n",
    "print(\"train_x count:\",len(train_x))\n",
    "print(\"validate_x count:\",len(validate_x))"
   ]
  },
  {
   "cell_type": "markdown",
   "metadata": {
    "id": "JrIlzVO8IMsQ"
   },
   "source": [
    "**Text Tokenization**"
   ]
  },
  {
   "cell_type": "code",
   "execution_count": 61,
   "metadata": {
    "colab": {
     "base_uri": "https://localhost:8080/"
    },
    "id": "q-gFUEk3Zbue",
    "outputId": "5af0a858-4ee2-4cf8-b85a-41371fc8aa2e"
   },
   "outputs": [
    {
     "name": "stdout",
     "output_type": "stream",
     "text": [
      "train_x len : 8000\n",
      "train_x: [[16, 9, 3, 8, 16, 1, 10, 3, 2, 20, 1, 11, 2, 6, 17, 3, 5, 2, 1, 10, 9, 9, 25, 3, 8, 16, 1, 3, 8, 5, 2, 7, 2, 6, 5, 3, 8, 16, 24, 1, 22, 4, 5, 12, 14, 2, 11, 1, 8, 9, 5, 9, 7, 3, 9, 15, 6, 1, 19, 2, 5, 5, 3, 2, 1, 17, 4, 16, 2, 1, 14, 2, 4, 7, 11, 1, 35, 4, 8, 11, 1, 21, 4, 3, 7, 10, 18, 1, 9, 19, 23, 3, 9, 15, 6, 1, 10, 9, 9, 25, 3, 8, 16, 1, 6, 18, 8, 9, 17, 6, 3, 6, 1, 4, 8, 18, 5, 14, 3, 8, 16, 1, 21, 3, 10, 13, 34, 24, 1, 16, 7, 2, 5, 12, 14, 2, 8, 1, 13, 9, 10, 1, 16, 9, 5, 1, 8, 4, 25, 2, 11, 1, 3, 5, 20, 1, 8, 2, 23, 2, 7, 1, 21, 4, 8, 1, 13, 9, 10, 24, 1, 12, 4, 8, 8, 9, 5, 1, 7, 2, 6, 3, 6, 5, 1, 6, 2, 2, 3, 8, 16, 1, 4, 5, 5, 7, 4, 12, 5, 3, 23, 2, 1, 22, 9, 13, 4, 8, 1, 5, 4, 25, 3, 8, 16, 1, 12, 10, 9, 5, 14, 2, 6, 20, 1, 18, 2, 6, 24, 1, 13, 4, 18, 1, 17, 2, 7, 23, 2, 7, 5, 2, 11, 24, 1, 5, 14, 2, 13, 2, 1, 3, 11, 2, 4, 10, 1, 12, 2, 8, 5, 7, 4, 10, 1, 12, 9, 7, 2, 1, 13, 9, 23, 3, 2, 24, 1, 14, 2, 10, 17, 6, 1, 13, 4, 25, 2, 1, 21, 3, 10, 13, 1, 10, 9, 5, 1, 6, 5, 7, 9, 8, 16, 2, 7, 1, 17, 7, 9, 19, 4, 19, 10, 18, 1, 19, 2, 20, 29, 19, 7, 1, 27, 28, 29, 19, 7, 1, 27, 28, 5, 14, 2, 1, 21, 3, 10, 13, 1, 12, 14, 7, 9, 8, 3, 12, 10, 2, 6, 1, 19, 2, 5, 5, 3, 2, 1, 17, 4, 16, 2, 26, 6, 1, 35, 13, 9, 10, 34, 1, 10, 3, 21, 2, 1, 17, 14, 18, 6, 3, 12, 4, 10, 1, 6, 2, 32, 15, 4, 10, 10, 18, 1, 4, 19, 15, 6, 2, 11, 1, 11, 4, 18, 6, 1, 25, 3, 11, 1, 14, 3, 16, 14, 1, 6, 12, 14, 9, 9, 10, 1, 6, 9, 15, 5, 14, 24, 1, 9, 8, 5, 9, 1, 8, 2, 22, 1, 10, 3, 21, 2, 1, 8, 2, 22, 1, 18, 9, 7, 25, 20, 1, 22, 4, 8, 5, 6, 1, 4, 12, 5, 7, 2, 6, 6, 24, 1, 17, 4, 18, 1, 19, 3, 10, 10, 6, 1, 5, 9, 9, 20, 1, 5, 4, 25, 3, 8, 16, 1, 6, 2, 2, 13, 3, 8, 16, 10, 18, 1, 3, 8, 8, 9, 12, 2, 8, 5, 1, 6, 14, 9, 5, 6, 1, 10, 9, 12, 4, 10, 1, 19, 2, 4, 12, 14, 24, 1, 17, 4, 16, 2, 1, 6, 10, 9, 22, 10, 18, 1, 19, 2, 12, 9, 13, 2, 6, 1, 13, 9, 11, 2, 10, 3, 8, 16, 1, 6, 2, 8, 6, 4, 5, 3, 9, 8, 24, 1, 38, 15, 3, 12, 25, 10, 18, 1, 33, 15, 13, 17, 6, 1, 6, 15, 16, 16, 2, 6, 5, 3, 23, 2, 1, 17, 14, 9, 5, 9, 6, 1, 6, 2, 32, 15, 4, 10, 10, 18, 1, 17, 7, 9, 23, 9, 12, 4, 5, 3, 23, 2, 1, 17, 3, 8, 31, 15, 17, 1, 17, 14, 9, 5, 9, 16, 7, 4, 17, 14, 6, 20, 29, 19, 7, 1, 27, 28, 29, 19, 7, 1, 27, 28, 3, 1, 21, 2, 2, 10, 1, 19, 7, 3, 2, 21, 8, 2, 6, 6, 1, 21, 3, 10, 13, 1, 35, 33, 15, 6, 5, 1, 8, 3, 8, 2, 5, 18, 1, 13, 3, 8, 15, 5, 2, 6, 34, 1, 12, 15, 7, 6, 2, 1, 19, 10, 2, 6, 6, 3, 8, 16, 1, 3, 5, 20, 1, 9, 8, 2, 1, 14, 4, 8, 11, 24, 1, 21, 3, 10, 13, 1, 8, 2, 23, 2, 7, 1, 9, 23, 2, 7, 6, 5, 4, 18, 6, 1, 22, 2, 10, 12, 9, 13, 2, 20, 1, 16, 2, 5, 1, 25, 8, 9, 22, 1, 17, 4, 16, 2, 1, 22, 3, 5, 14, 3, 8, 1, 6, 14, 9, 7, 5, 1, 13, 3, 8, 15, 5, 2, 6, 24, 1, 16, 2, 5, 6, 1, 7, 3, 16, 14, 5, 1, 13, 9, 11, 2, 10, 3, 8, 16, 1, 12, 4, 7, 2, 2, 7, 1, 10, 9, 9, 25, 1, 19, 4, 12, 25, 20, 1, 12, 15, 7, 6, 2, 6, 1, 21, 3, 10, 13, 1, 22, 2, 10, 10, 24, 1, 8, 2, 23, 2, 7, 1, 7, 2, 4, 10, 10, 18, 1, 16, 2, 5, 1, 12, 14, 4, 8, 12, 2, 1, 16, 7, 4, 6, 17, 1, 2, 23, 2, 7, 18, 5, 14, 3, 8, 16, 1, 16, 9, 3, 8, 16, 1, 9, 8, 20, 1, 25, 3, 8, 11, 1, 33, 15, 13, 17, 6, 1, 4, 7, 9, 15, 8, 11, 1, 13, 9, 11, 2, 10, 3, 8, 16, 1, 6, 14, 9, 9, 5, 6, 1, 12, 9, 8, 5, 7, 9, 23, 2, 7, 6, 3, 2, 6, 1, 12, 7, 2, 4, 5, 2, 1, 33, 15, 13, 17, 3, 8, 16, 1, 7, 3, 16, 14, 5, 1, 13, 4, 33, 9, 7, 1, 6, 2, 8, 4, 5, 2, 1, 3, 8, 23, 2, 6, 5, 3, 16, 4, 5, 3, 9, 8, 1, 5, 4, 25, 2, 6, 1, 13, 15, 12, 14, 1, 21, 3, 8, 4, 10, 1, 4, 12, 5, 1, 21, 3, 10, 13, 20, 1, 6, 3, 5, 1, 5, 14, 2, 7, 2, 24, 1, 4, 5, 5, 2, 13, 17, 5, 1, 4, 19, 6, 9, 7, 19, 1, 4, 10, 10, 24, 1, 12, 9, 13, 2, 6, 1, 7, 3, 16, 14, 5, 1, 18, 9, 15, 20, 1, 21, 2, 2, 10, 6, 1, 10, 3, 25, 2, 1, 21, 3, 10, 13, 13, 4, 25, 2, 7, 6, 1, 22, 4, 8, 5, 2, 11, 1, 6, 15, 13, 13, 4, 7, 3, 37, 2, 1, 13, 15, 12, 14, 1, 13, 4, 5, 2, 7, 3, 4, 10, 1, 6, 14, 9, 7, 5, 1, 21, 3, 10, 13, 20, 1, 19, 2, 16, 6, 1, 10, 9, 8, 16, 2, 7, 1, 6, 2, 38, 15, 2, 8, 12, 2, 6, 24, 1, 19, 2, 16, 6, 1, 2, 23, 2, 8, 1, 10, 9, 8, 16, 2, 7, 1, 2, 32, 17, 10, 4, 8, 4, 5, 3, 9, 8, 6, 20, 1, 21, 2, 2, 10, 1, 7, 15, 6, 14, 2, 11, 45, 1, 21, 2, 2, 10, 1, 5, 14, 2, 7, 2, 20, 29, 19, 7, 1, 27, 28, 29, 19, 7, 1, 27, 28, 4, 8, 9, 5, 14, 2, 7, 1, 19, 3, 5, 1, 21, 15, 13, 19, 10, 2, 24, 1, 4, 10, 5, 14, 9, 15, 16, 14, 1, 19, 3, 5, 1, 12, 15, 7, 3, 9, 6, 3, 5, 18, 24, 1, 15, 6, 2, 1, 12, 9, 10, 9, 15, 7, 1, 5, 14, 7, 9, 15, 16, 14, 9, 15, 5, 1, 21, 3, 10, 13, 20, 1, 13, 4, 33, 9, 7, 3, 5, 18, 1, 19, 10, 4, 12, 25, 1, 22, 14, 3, 5, 2, 24, 1, 21, 7, 2, 38, 15, 2, 8, 5, 10, 18, 24, 1, 6, 17, 10, 4, 6, 14, 2, 6, 1, 6, 2, 38, 15, 2, 8, 12, 2, 6, 1, 12, 9, 10, 9, 15, 7, 1, 2, 13, 2, 7, 16, 2, 20, 1, 13, 4, 18, 1, 11, 9, 8, 2, 1, 6, 18, 13, 19, 9, 10, 3, 12, 1, 16, 2, 6, 5, 15, 7, 2, 1, 2, 4, 7, 10, 18, 1, 9, 8, 24, 1, 19, 2, 12, 9, 13, 2, 6, 1, 19, 3, 5, 1, 11, 3, 6, 5, 7, 4, 12, 5, 3, 9, 8, 1, 12, 9, 8, 5, 3, 8, 15, 4, 10, 10, 18, 1, 17, 9, 17, 6, 1, 10, 4, 5, 2, 7, 1, 12, 15, 5, 5, 3, 8, 16, 1, 19, 4, 12, 25, 1, 19, 10, 4, 12, 25, 1, 22, 14, 3, 5, 2, 20, 1, 16, 2, 5, 6, 1, 12, 9, 8, 21, 15, 6, 3, 8, 16, 24, 1, 19, 2, 12, 9, 13, 2, 6, 1, 5, 2, 11, 3, 9, 15, 6, 1, 3, 8, 5, 2, 7, 21, 2, 7, 2, 8, 12, 2, 1, 4, 8, 18, 5, 14, 3, 8, 16, 1, 2, 10, 6, 2, 1, 21, 3, 10, 13, 1, 16, 9, 2, 6, 1, 9, 8, 20, 29, 19, 7, 1, 27, 28, 29, 19, 7, 1, 27, 28, 22, 14, 3, 10, 2, 1, 13, 4, 18, 1, 21, 15, 13, 19, 10, 2, 1, 19, 3, 5, 1, 4, 12, 5, 3, 9, 8, 6, 24, 1, 21, 3, 10, 13, 1, 6, 5, 4, 18, 6, 1, 11, 2, 4, 11, 31, 9, 8, 1, 5, 14, 2, 13, 2, 6, 20, 1, 17, 4, 16, 2, 24, 1, 25, 8, 9, 22, 1, 10, 3, 5, 5, 10, 2, 1, 8, 9, 5, 14, 3, 8, 16, 1, 4, 19, 9, 15, 5, 24, 1, 17, 10, 4, 18, 2, 11, 1, 3, 8, 8, 9, 12, 2, 8, 5, 10, 18, 24, 1, 22, 9, 7, 10, 11, 1, 2, 32, 4, 12, 5, 10, 18, 1, 6, 4, 13, 2, 20, 1, 6, 4, 23, 2, 1, 6, 14, 4, 11, 18, 1, 12, 14, 4, 7, 4, 12, 5, 2, 7, 6, 1, 5, 2, 2, 8, 4, 16, 2, 1, 18, 2, 4, 7, 6, 24, 1, 2, 23, 2, 7, 18, 9, 8, 2, 1, 2, 8, 12, 9, 15, 8, 5, 2, 7, 6, 1, 3, 8, 8, 9, 12, 2, 8, 5, 24, 1, 2, 23, 2, 7, 18, 5, 14, 3, 8, 16, 1, 3, 8, 8, 9, 12, 2, 8, 12, 2, 1, 3, 5, 20, 1, 8, 2, 23, 2, 7, 1, 5, 14, 9, 15, 16, 14, 5, 1, 22, 9, 15, 10, 11, 1, 10, 9, 9, 25, 1, 21, 15, 10, 10, 1, 21, 7, 9, 8, 5, 4, 10, 1, 8, 15, 11, 3, 5, 18, 1, 6, 9, 13, 2, 5, 14, 3, 8, 16, 1, 4, 8, 18, 5, 14, 3, 8, 16, 1, 23, 15, 10, 16, 4, 7, 1, 11, 2, 17, 7, 4, 23, 2, 11, 24, 1, 14, 2, 7, 2, 24, 1, 5, 7, 15, 10, 18, 1, 6, 9, 13, 2, 5, 14, 3, 8, 16, 1, 13, 4, 7, 23, 2, 10, 1, 4, 5, 20, 1, 9, 8, 12, 2, 24, 1, 19, 2, 4, 15, 5, 3, 21, 15, 10, 1, 3, 8, 8, 9, 12, 2, 8, 5, 20, 1, 2, 23, 2, 8, 1, 6, 2, 32, 15, 4, 10, 10, 18, 1, 17, 2, 7, 23, 2, 7, 5, 2, 11, 1, 13, 9, 13, 2, 8, 5, 6, 1, 21, 3, 10, 13, 1, 35, 4, 10, 19, 2, 3, 5, 1, 5, 4, 13, 2, 1, 12, 9, 13, 17, 4, 7, 2, 11, 1, 5, 9, 11, 4, 18, 26, 6, 1, 6, 5, 4, 8, 11, 4, 7, 11, 6, 34, 1, 3, 8, 8, 9, 12, 2, 8, 5, 1, 4, 8, 16, 2, 10, 3, 12, 1, 21, 2, 2, 10, 3, 8, 16, 1, 5, 14, 2, 13, 20, 1, 6, 9, 13, 2, 5, 14, 3, 8, 16, 1, 22, 4, 18, 1, 13, 9, 10, 26, 6, 1, 8, 15, 11, 2, 1, 19, 9, 11, 18, 1, 17, 9, 7, 5, 7, 4, 18, 2, 11, 1, 6, 5, 7, 3, 25, 2, 6, 1, 11, 3, 21, 21, 2, 7, 2, 8, 5, 1, 12, 14, 9, 7, 11, 1, 8, 15, 11, 2, 1, 19, 9, 11, 3, 2, 6, 1, 21, 3, 10, 13, 6, 20, 1, 21, 2, 2, 10, 6, 1, 8, 4, 5, 15, 7, 4, 10, 1, 22, 9, 8, 11, 7, 9, 15, 6, 24, 1, 7, 2, 4, 6, 9, 8, 1, 22, 4, 5, 12, 14, 1, 21, 3, 10, 13, 24, 1, 22, 9, 15, 10, 11, 1, 6, 2, 2, 1, 6, 17, 2, 12, 5, 4, 12, 15, 10, 4, 7, 1, 11, 2, 17, 3, 12, 5, 3, 9, 8, 6, 1, 13, 9, 10, 26, 6, 1, 19, 9, 11, 18, 1, 17, 10, 4, 18, 6, 1, 19, 2, 5, 5, 3, 2, 1, 17, 4, 16, 2, 20, 29, 19, 7, 1, 27, 28, 29, 19, 7, 1, 27, 28, 5, 14, 2, 1, 7, 2, 4, 6, 9, 8, 1, 13, 9, 10, 1, 14, 2, 7, 6, 2, 10, 21, 20, 1, 17, 4, 16, 2, 24, 1, 2, 32, 2, 13, 17, 10, 3, 21, 3, 2, 6, 1, 41, 42, 49, 40, 26, 6, 1, 6, 9, 15, 5, 14, 2, 7, 8, 1, 19, 2, 10, 10, 2, 1, 2, 23, 2, 7, 18, 9, 8, 2, 1, 25, 8, 9, 22, 6, 1, 35, 9, 7, 1, 10, 2, 4, 6, 5, 1, 3, 13, 4, 16, 3, 8, 2, 34, 20, 1, 11, 2, 6, 17, 3, 5, 2, 1, 17, 7, 9, 21, 2, 6, 6, 3, 9, 8, 24, 1, 6, 5, 3, 10, 10, 1, 8, 9, 7, 13, 4, 10, 1, 17, 2, 7, 6, 9, 8, 24, 1, 6, 5, 3, 10, 10, 1, 10, 9, 9, 25, 6, 1, 7, 2, 10, 3, 16, 3, 9, 15, 6, 20, 1, 13, 9, 10, 1, 17, 10, 4, 18, 6, 1, 2, 32, 4, 12, 5, 10, 18, 1, 7, 3, 16, 14, 5, 1, 4, 13, 9, 15, 8, 5, 1, 6, 38, 15, 2, 4, 25, 18, 31, 12, 10, 2, 4, 8, 10, 3, 8, 2, 6, 6, 1, 8, 2, 2, 11, 2, 11, 1, 13, 4, 25, 2, 1, 12, 14, 4, 7, 4, 12, 5, 2, 7, 1, 21, 2, 2, 10, 1, 4, 15, 5, 14, 2, 8, 5, 3, 12, 4, 10, 10, 18, 1, 41, 42, 49, 40, 26, 6, 20, 1, 17, 10, 4, 18, 6, 1, 13, 4, 5, 5, 2, 7, 31, 9, 21, 31, 21, 4, 12, 5, 8, 2, 6, 6, 1, 22, 9, 15, 10, 11, 1, 14, 4, 7, 11, 31, 6, 2, 5, 1, 5, 14, 3, 8, 25, 1, 13, 9, 10, 1, 4, 12, 5, 15, 4, 10, 10, 18, 1, 19, 2, 5, 5, 3, 2, 1, 17, 4, 16, 2, 1, 14, 2, 7, 6, 2, 10, 21, 20, 29, 19, 7, 1, 27, 28, 29, 19, 7, 1, 27, 28, 15, 8, 21, 9, 7, 5, 15, 8, 4, 5, 2, 10, 18, 24, 1, 6, 15, 17, 17, 9, 7, 5, 3, 8, 16, 1, 12, 4, 6, 5, 1, 10, 3, 5, 5, 10, 2, 1, 13, 9, 13, 2, 8, 5, 6, 1, 6, 14, 3, 8, 2, 24, 1, 5, 9, 5, 4, 10, 10, 18, 1, 9, 23, 2, 7, 6, 14, 4, 11, 9, 22, 2, 11, 1, 13, 9, 10, 26, 6, 1, 22, 9, 8, 11, 2, 7, 21, 15, 10, 1, 17, 2, 7, 21, 9, 7, 13, 4, 8, 12, 2, 20, 1, 8, 9, 8, 2, 1, 4, 8, 18, 5, 14, 3, 8, 16, 1, 17, 4, 7, 5, 3, 12, 15, 10, 4, 7, 10, 18, 1, 17, 10, 2, 4, 6, 3, 8, 16, 24, 1, 8, 9, 8, 2, 1, 7, 2, 4, 10, 10, 18, 1, 6, 5, 7, 2, 8, 16, 5, 14, 1, 7, 9, 10, 2, 1, 13, 9, 10, 1, 11, 9, 2, 6, 20, 1, 7, 2, 4, 10, 10, 18, 1, 21, 4, 15, 10, 5, 1, 4, 12, 5, 9, 7, 6, 24, 1, 21, 4, 12, 5, 1, 13, 15, 12, 14, 1, 22, 9, 7, 25, 1, 22, 3, 5, 14, 20, 1, 13, 4, 8, 18, 1, 5, 9, 5, 4, 10, 10, 18, 1, 7, 2, 12, 9, 16, 8, 3, 37, 4, 19, 10, 2, 24, 1, 9, 6, 12, 4, 7, 31, 8, 9, 13, 3, 8, 2, 2, 1, 11, 4, 23, 3, 11, 1, 6, 5, 7, 4, 5, 14, 4, 3, 7, 8, 1, 35, 3, 8, 1, 7, 9, 10, 2, 1, 10, 3, 5, 5, 10, 2, 1, 12, 10, 9, 6, 2, 1, 9, 8, 2, 1, 19, 2, 5, 5, 2, 7, 1, 17, 2, 7, 21, 9, 7, 13, 4, 8, 12, 2, 6, 34, 24, 1, 6, 4, 7, 4, 14, 1, 17, 4, 15, 10, 6, 9, 8, 1, 35, 7, 2, 12, 2, 8, 5, 1, 16, 9, 10, 11, 2, 8, 1, 16, 10, 9, 19, 2, 1, 8, 9, 13, 3, 8, 2, 2, 1, 6, 5, 15, 11, 3, 9, 1, 54, 40, 1, 6, 15, 8, 6, 2, 5, 1, 6, 5, 7, 3, 17, 34, 24, 1, 12, 14, 4, 7, 4, 12, 5, 2, 7, 1, 4, 12, 5, 9, 7, 1, 10, 3, 10, 3, 1, 5, 4, 18, 10, 9, 7, 24, 1, 22, 9, 15, 10, 11, 1, 14, 4, 7, 11, 1, 6, 2, 5, 1, 7, 2, 4, 10, 10, 18, 1, 17, 10, 4, 12, 2, 1, 17, 2, 7, 21, 9, 7, 13, 4, 8, 12, 2, 1, 4, 8, 18, 5, 14, 3, 8, 16, 1, 9, 25, 4, 18, 20, 1, 8, 9, 8, 2, 1, 12, 14, 4, 7, 4, 12, 5, 2, 7, 6, 1, 7, 2, 4, 10, 10, 18, 1, 11, 2, 23, 2, 10, 9, 17, 2, 11, 24, 1, 7, 2, 4, 10, 10, 18, 1, 6, 5, 4, 8, 11, 1, 12, 14, 4, 7, 4, 12, 5, 2, 7, 1, 12, 15, 5, 31, 9, 15, 5, 6, 1, 13, 9, 10, 1, 7, 15, 8, 6, 1, 10, 9, 9, 17, 6, 1, 4, 7, 9, 15, 8, 11, 1, 17, 3, 12, 25, 6, 1, 6, 5, 2, 4, 13, 1, 19, 7, 3, 10, 10, 3, 4, 8, 5, 1, 17, 2, 7, 21, 9, 7, 13, 4, 8, 12, 2, 20, 29, 19, 7, 1, 27, 28, 29, 19, 7, 1, 27, 28, 7, 2, 4, 10, 10, 18, 24, 1, 21, 3, 10, 13, 1, 22, 9, 7, 5, 14, 22, 14, 3, 10, 2, 1, 17, 9, 7, 5, 7, 4, 18, 4, 10, 1, 8, 15, 11, 3, 5, 18, 24, 1, 16, 7, 2, 5, 12, 14, 2, 8, 1, 13, 9, 10, 26, 6, 1, 2, 32, 12, 2, 10, 10, 2, 8, 5, 1, 17, 2, 7, 21, 9, 7, 13, 4, 8, 12, 2, 1, 19, 2, 5, 5, 3, 2, 1, 17, 4, 16, 2, 20, 1, 2, 23, 2, 7, 18, 5, 14, 3, 8, 16, 1, 2, 10, 6, 2, 1, 19, 3, 5, 1, 13, 15, 11, 11, 10, 2, 11, 1, 4, 22, 25, 22, 4, 7, 11, 1, 19, 2, 20, 1, 22, 9, 7, 25, 1, 11, 9, 8, 2, 1, 11, 2, 23, 2, 10, 9, 17, 1, 6, 15, 17, 17, 9, 7, 5, 3, 8, 16, 1, 12, 14, 4, 7, 4, 12, 5, 2, 7, 6, 1, 19, 10, 4, 6, 5, 1, 7, 3, 16, 14, 5, 1, 6, 5, 9, 7, 18, 24, 1, 21, 3, 10, 13, 1, 22, 9, 15, 10, 11, 1, 13, 15, 12, 14, 1, 19, 2, 5, 5, 2, 7, 1, 19, 3, 9, 16, 7, 4, 17, 14, 3, 12, 4, 10, 1, 21, 3, 10, 13, 20, 1, 6, 5, 4, 8, 11, 6, 24, 1, 23, 2, 14, 3, 12, 10, 2, 1, 13, 9, 10, 1, 7, 2, 4, 10, 10, 18, 1, 7, 3, 6, 2, 1, 6, 5, 7, 4, 5, 9, 6, 17, 14, 2, 7, 2, 1, 17, 9, 17, 15, 10, 4, 7, 3, 5, 18, 1, 4, 12, 5, 7, 2, 6, 6, 20, 29, 19, 7, 1, 27, 28, 29, 19, 7, 1, 27, 28, 53, 27, 41, 40, 20], [22, 4, 10, 5, 1, 11, 3, 6, 8, 2, 18, 26, 6, 1, 30, 5, 14, 2, 1, 7, 9, 9, 25, 3, 2, 30, 1, 19, 4, 6, 2, 11, 1, 6, 5, 9, 7, 18, 1, 33, 3, 13, 1, 13, 9, 7, 7, 3, 6, 24, 1, 21, 9, 7, 13, 2, 7, 1, 13, 3, 8, 9, 7, 1, 10, 2, 4, 16, 15, 2, 1, 17, 3, 12, 14, 2, 7, 1, 13, 4, 11, 2, 1, 9, 8, 2, 1, 4, 13, 4, 37, 3, 8, 16, 1, 12, 9, 13, 2, 19, 4, 12, 25, 6, 1, 6, 17, 9, 7, 5, 6, 1, 14, 3, 6, 5, 9, 7, 18, 24, 1, 2, 8, 11, 3, 8, 16, 1, 4, 10, 13, 9, 6, 5, 1, 41, 40, 1, 18, 2, 4, 7, 1, 7, 2, 5, 3, 7, 2, 13, 2, 8, 5, 1, 13, 4, 25, 3, 8, 16, 1, 13, 4, 33, 9, 7, 1, 10, 2, 4, 16, 15, 2, 1, 11, 2, 19, 15, 5, 1, 41, 42, 42, 42, 1, 4, 16, 2, 1, 47, 49, 20, 29, 19, 7, 1, 27, 28, 29, 19, 7, 1, 27, 28, 5, 14, 2, 1, 21, 3, 10, 13, 1, 9, 17, 2, 8, 6, 1, 19, 7, 3, 2, 21, 1, 6, 18, 8, 9, 17, 6, 3, 6, 1, 13, 9, 7, 7, 3, 6, 26, 1, 12, 14, 3, 10, 11, 14, 9, 9, 11, 24, 1, 3, 8, 12, 10, 15, 11, 2, 11, 1, 6, 2, 7, 3, 2, 6, 1, 7, 2, 31, 10, 9, 12, 4, 5, 3, 9, 8, 6, 1, 31, 1, 21, 4, 5, 14, 2, 7, 1, 13, 3, 10, 3, 5, 4, 7, 18, 1, 13, 4, 8, 20, 1, 2, 23, 2, 8, 1, 21, 4, 13, 3, 10, 18, 1, 6, 2, 5, 5, 10, 2, 11, 1, 16, 9, 9, 11, 1, 21, 9, 9, 5, 19, 4, 10, 10, 1, 12, 7, 4, 37, 2, 11, 1, 5, 2, 32, 4, 6, 24, 1, 13, 9, 7, 7, 3, 6, 26, 1, 17, 4, 6, 6, 3, 9, 8, 1, 19, 4, 6, 2, 19, 4, 10, 10, 1, 7, 2, 13, 4, 3, 8, 2, 11, 1, 6, 5, 7, 9, 8, 16, 20, 29, 19, 7, 1, 27, 28, 29, 19, 7, 1, 27, 28, 5, 14, 2, 1, 12, 14, 3, 10, 11, 14, 9, 9, 11, 1, 6, 2, 16, 13, 2, 8, 5, 1, 33, 15, 13, 17, 6, 1, 4, 14, 2, 4, 11, 1, 44, 47, 1, 18, 2, 4, 7, 6, 1, 4, 11, 15, 10, 5, 1, 13, 9, 7, 7, 3, 6, 1, 35, 17, 10, 4, 18, 2, 11, 1, 11, 2, 8, 8, 3, 6, 1, 38, 15, 4, 3, 11, 34, 1, 19, 4, 6, 2, 19, 4, 10, 10, 1, 12, 9, 4, 12, 14, 1, 12, 14, 2, 13, 3, 6, 5, 7, 18, 1, 5, 2, 4, 12, 14, 2, 7, 1, 19, 3, 16, 1, 10, 4, 25, 2, 1, 14, 3, 16, 14, 1, 6, 12, 14, 9, 9, 10, 1, 35, 3, 8, 1, 7, 2, 4, 10, 1, 10, 3, 21, 2, 1, 7, 2, 4, 16, 4, 8, 1, 12, 9, 15, 8, 5, 18, 1, 14, 3, 16, 14, 1, 6, 12, 14, 9, 9, 10, 1, 19, 3, 16, 1, 10, 4, 25, 2, 24, 1, 5, 2, 32, 4, 6, 34, 20, 1, 13, 2, 8, 5, 3, 9, 8, 2, 11, 1, 4, 5, 5, 2, 13, 17, 5, 2, 11, 1, 12, 4, 7, 2, 2, 7, 1, 19, 4, 6, 2, 19, 4, 10, 10, 1, 17, 10, 4, 18, 2, 7, 1, 11, 3, 11, 8, 26, 5, 1, 22, 9, 7, 25, 1, 9, 15, 5, 20, 29, 19, 7, 1, 27, 28, 29, 19, 7, 1, 27, 28, 13, 9, 7, 7, 3, 6, 26, 6, 1, 5, 2, 4, 13, 1, 6, 5, 7, 15, 16, 16, 10, 3, 8, 16, 1, 10, 2, 12, 5, 15, 7, 2, 6, 1, 16, 3, 23, 3, 8, 16, 1, 11, 7, 2, 4, 13, 6, 20, 1, 5, 15, 7, 8, 1, 5, 4, 19, 10, 2, 1, 14, 3, 13, 24, 1, 5, 2, 10, 10, 3, 8, 16, 1, 5, 7, 18, 1, 13, 4, 33, 9, 7, 1, 10, 2, 4, 16, 15, 2, 1, 5, 2, 4, 13, 20, 1, 6, 2, 23, 2, 7, 4, 10, 1, 5, 3, 13, 2, 6, 1, 17, 3, 5, 12, 14, 2, 6, 1, 17, 7, 4, 12, 5, 3, 12, 2, 24, 1, 2, 32, 17, 7, 2, 6, 6, 1, 4, 13, 4, 37, 2, 13, 2, 8, 5, 1, 6, 17, 2, 2, 11, 1, 5, 14, 7, 9, 22, 6, 20, 1, 13, 9, 7, 7, 3, 6, 1, 6, 2, 2, 13, 6, 1, 15, 8, 12, 9, 8, 23, 3, 8, 12, 2, 11, 1, 4, 16, 7, 2, 2, 6, 1, 11, 2, 4, 10, 1, 17, 10, 4, 18, 2, 7, 6, 1, 22, 3, 8, 1, 11, 3, 6, 5, 7, 3, 12, 5, 24, 1, 5, 7, 18, 1, 13, 4, 33, 9, 7, 1, 10, 2, 4, 16, 15, 2, 1, 5, 2, 4, 13, 20, 29, 19, 7, 1, 27, 28, 29, 19, 7, 1, 27, 28, 19, 3, 16, 1, 10, 4, 25, 2, 1, 22, 3, 8, 1, 11, 3, 6, 5, 7, 3, 12, 5, 1, 4, 8, 11, 24, 1, 4, 11, 14, 2, 7, 3, 8, 16, 1, 2, 8, 11, 1, 11, 2, 4, 10, 24, 1, 13, 9, 7, 7, 3, 6, 1, 4, 5, 5, 2, 8, 11, 6, 1, 5, 4, 13, 17, 4, 1, 19, 4, 18, 1, 11, 2, 23, 3, 10, 1, 7, 4, 18, 6, 1, 5, 7, 18, 1, 9, 15, 5, 20, 1, 17, 14, 2, 8, 9, 13, 2, 8, 4, 10, 10, 18, 24, 1, 5, 14, 7, 9, 22, 6, 1, 42, 50, 1, 13, 3, 10, 2, 6, 1, 14, 9, 15, 7, 1, 31, 1, 21, 4, 6, 5, 2, 7, 1, 5, 14, 7, 2, 22, 1, 13, 3, 8, 9, 7, 1, 10, 2, 4, 16, 15, 2, 1, 12, 4, 7, 2, 2, 7, 1, 9, 15, 5, 6, 5, 4, 8, 11, 3, 8, 16, 1, 6, 17, 2, 2, 11, 1, 2, 23, 2, 8, 1, 13, 4, 33, 9, 7, 1, 10, 2, 4, 16, 15, 2, 1, 17, 3, 5, 12, 14, 2, 7, 20, 1, 4, 8, 9, 5, 14, 2, 7, 1, 5, 7, 18, 1, 5, 2, 4, 13, 24, 1, 13, 9, 7, 7, 3, 6, 1, 9, 21, 21, 2, 7, 2, 11, 1, 12, 9, 8, 5, 7, 4, 12, 5, 1, 11, 2, 23, 3, 10, 1, 7, 4, 18, 6, 20, 29, 19, 7, 1, 27, 28, 29, 19, 7, 1, 27, 28, 5, 14, 3, 6, 1, 10, 2, 4, 23, 2, 6, 1, 5, 9, 15, 16, 14, 1, 11, 2, 12, 3, 6, 3, 9, 8, 1, 31, 1, 6, 5, 4, 18, 1, 12, 9, 13, 21, 9, 7, 5, 4, 19, 10, 2, 1, 10, 3, 21, 2, 1, 17, 15, 7, 6, 15, 2, 1, 13, 4, 33, 9, 7, 1, 10, 2, 4, 16, 15, 2, 1, 11, 7, 2, 4, 13, 1, 16, 9, 3, 8, 16, 1, 13, 3, 8, 9, 7, 1, 10, 2, 4, 16, 15, 2, 1, 16, 7, 3, 8, 11, 1, 13, 4, 25, 3, 8, 16, 1, 10, 3, 5, 5, 10, 2, 1, 13, 9, 8, 2, 18, 1, 6, 17, 2, 8, 11, 3, 8, 16, 1, 13, 9, 8, 5, 14, 6, 1, 5, 3, 13, 2, 1, 4, 22, 4, 18, 1, 14, 9, 13, 2, 20, 1, 11, 2, 12, 3, 6, 3, 9, 8, 1, 2, 23, 2, 8, 1, 4, 16, 9, 8, 3, 37, 3, 8, 16, 1, 21, 3, 7, 6, 5, 1, 13, 3, 8, 9, 7, 1, 10, 2, 4, 16, 15, 2, 1, 6, 5, 3, 8, 5, 1, 22, 3, 21, 2, 1, 5, 14, 7, 2, 2, 1, 12, 14, 3, 10, 11, 7, 2, 8, 20, 29, 19, 7, 1, 27, 28, 29, 19, 7, 1, 27, 28, 13, 9, 7, 7, 3, 6, 1, 6, 3, 16, 8, 6, 1, 11, 2, 23, 3, 10, 1, 7, 4, 18, 6, 24, 1, 19, 2, 16, 3, 8, 6, 1, 4, 4, 1, 10, 2, 23, 2, 10, 1, 13, 9, 23, 2, 6, 1, 38, 15, 3, 12, 25, 10, 18, 1, 4, 4, 4, 1, 10, 2, 23, 2, 10, 24, 1, 9, 8, 2, 1, 10, 2, 23, 2, 10, 1, 13, 4, 33, 9, 7, 1, 10, 2, 4, 16, 15, 2, 1, 19, 4, 6, 2, 19, 4, 10, 10, 20, 1, 6, 2, 4, 6, 9, 8, 1, 22, 3, 8, 11, 6, 1, 11, 9, 22, 8, 24, 1, 12, 14, 4, 8, 12, 2, 6, 1, 16, 2, 5, 5, 3, 8, 16, 1, 30, 12, 4, 10, 10, 2, 11, 1, 15, 17, 30, 1, 16, 7, 9, 22, 1, 3, 8, 12, 7, 2, 4, 6, 3, 8, 16, 10, 18, 1, 6, 10, 3, 13, 20, 29, 19, 7, 1, 27, 28, 29, 19, 7, 1, 27, 28, 21, 9, 7, 1, 17, 4, 7, 5, 24, 1, 10, 9, 23, 2, 1, 13, 9, 23, 3, 2, 20, 1, 10, 9, 5, 6, 1, 16, 7, 2, 4, 5, 1, 17, 2, 7, 21, 9, 7, 13, 4, 8, 12, 2, 6, 1, 10, 3, 25, 4, 19, 10, 2, 1, 12, 14, 4, 7, 4, 12, 5, 2, 7, 6, 1, 3, 5, 26, 6, 1, 2, 4, 6, 18, 1, 21, 3, 8, 11, 1, 7, 2, 4, 10, 10, 18, 1, 17, 15, 10, 10, 3, 8, 16, 1, 13, 9, 7, 7, 3, 6, 20, 1, 4, 10, 6, 9, 24, 1, 13, 9, 23, 3, 2, 1, 16, 7, 2, 4, 5, 1, 33, 9, 19, 1, 17, 9, 7, 5, 7, 4, 18, 3, 8, 16, 1, 17, 7, 9, 21, 2, 6, 6, 3, 9, 8, 4, 10, 1, 19, 4, 6, 2, 19, 4, 10, 10, 1, 13, 4, 33, 9, 7, 1, 13, 3, 8, 9, 7, 1, 10, 2, 4, 16, 15, 2, 1, 10, 2, 23, 2, 10, 6, 20, 1, 4, 10, 10, 24, 1, 5, 2, 4, 12, 14, 2, 6, 1, 5, 3, 13, 2, 10, 2, 6, 6, 1, 13, 2, 6, 6, 4, 16, 2, 1, 14, 9, 10, 11, 3, 8, 16, 1, 5, 3, 16, 14, 5, 1, 11, 7, 2, 4, 13, 6, 1, 2, 23, 2, 8, 1, 6, 2, 2, 13, 1, 11, 3, 6, 5, 4, 8, 5, 1, 4, 10, 13, 9, 6, 5, 1, 3, 13, 17, 9, 6, 6, 3, 19, 10, 2, 1, 4, 12, 14, 3, 2, 23, 2, 20, 29, 19, 7, 1, 27, 28, 29, 19, 7, 1, 27, 28, 6, 5, 3, 10, 10, 24, 1, 13, 9, 23, 3, 2, 1, 21, 10, 4, 22, 6, 20, 1, 16, 2, 8, 2, 7, 4, 10, 10, 18, 1, 4, 12, 12, 15, 7, 4, 5, 2, 24, 1, 2, 32, 4, 16, 16, 2, 7, 4, 5, 2, 6, 1, 2, 23, 2, 8, 1, 21, 4, 19, 7, 3, 12, 4, 5, 2, 6, 1, 5, 14, 3, 8, 16, 6, 20, 1, 12, 14, 2, 12, 25, 1, 14, 5, 5, 17, 43, 27, 27, 2, 6, 17, 8, 20, 16, 9, 20, 12, 9, 13, 27, 17, 4, 16, 2, 44, 27, 6, 27, 12, 10, 9, 6, 2, 7, 27, 40, 44, 40, 52, 41, 40, 20, 14, 5, 13, 10, 1, 2, 32, 4, 13, 17, 10, 2, 6, 20, 1, 4, 10, 6, 9, 24, 1, 2, 32, 12, 2, 17, 5, 1, 9, 8, 2, 1, 6, 12, 2, 8, 2, 1, 17, 7, 4, 18, 6, 1, 17, 10, 4, 18, 2, 7, 6, 24, 1, 13, 9, 23, 3, 2, 1, 12, 9, 13, 17, 10, 2, 5, 2, 10, 18, 1, 3, 16, 8, 9, 7, 2, 6, 1, 13, 9, 7, 7, 3, 6, 26, 1, 12, 14, 7, 3, 6, 5, 3, 4, 8, 1, 21, 4, 3, 5, 14, 20, 1, 12, 9, 8, 6, 3, 11, 2, 7, 3, 8, 16, 1, 11, 3, 6, 8, 2, 18, 26, 6, 1, 10, 2, 21, 5, 1, 22, 3, 8, 16, 1, 37, 2, 4, 10, 24, 1, 5, 14, 4, 5, 26, 6, 1, 6, 15, 7, 17, 7, 3, 6, 3, 8, 16, 20, 29, 19, 7, 1, 27, 28, 29, 19, 7, 1, 27, 28, 17, 7, 2, 6, 15, 13, 4, 19, 10, 18, 24, 1, 10, 9, 5, 1, 2, 32, 4, 16, 16, 2, 7, 4, 5, 3, 9, 8, 6, 27, 21, 4, 19, 7, 3, 12, 4, 5, 3, 9, 8, 6, 1, 11, 9, 8, 2, 1, 13, 4, 25, 2, 1, 6, 5, 9, 7, 18, 1, 11, 7, 4, 13, 4, 5, 3, 12, 20, 1, 18, 2, 5, 1, 44, 40, 1, 13, 3, 8, 15, 5, 2, 1, 11, 9, 12, 15, 13, 2, 8, 5, 4, 7, 18, 1, 13, 9, 7, 7, 3, 6, 1, 3, 8, 12, 10, 15, 11, 2, 11, 1, 11, 23, 11, 1, 21, 2, 4, 5, 15, 7, 2, 6, 1, 3, 8, 21, 9, 7, 13, 4, 5, 3, 9, 8, 1, 13, 4, 25, 2, 6, 1, 6, 5, 9, 7, 18, 1, 11, 7, 4, 13, 4, 5, 3, 12, 1, 2, 32, 12, 10, 15, 11, 2, 11, 1, 13, 9, 23, 3, 2, 20, 29, 19, 7, 1, 27, 28, 29, 19, 7, 1, 27, 28, 21, 9, 7, 1, 2, 32, 4, 13, 17, 10, 2, 24, 1, 19, 3, 7, 5, 14, 1, 21, 4, 13, 3, 10, 18, 1, 6, 2, 5, 5, 10, 2, 11, 1, 5, 2, 32, 4, 6, 1, 16, 9, 9, 11, 1, 41, 44, 24, 1, 13, 9, 7, 7, 3, 6, 1, 7, 2, 31, 10, 9, 12, 4, 5, 2, 11, 1, 41, 52, 1, 5, 3, 13, 2, 6, 20, 1, 3, 8, 3, 5, 3, 4, 10, 1, 13, 3, 8, 9, 7, 1, 10, 2, 4, 16, 15, 2, 1, 12, 4, 7, 2, 2, 7, 1, 2, 8, 11, 2, 11, 1, 21, 9, 15, 7, 1, 6, 15, 7, 16, 2, 7, 3, 2, 6, 1, 10, 9, 6, 5, 1, 14, 4, 10, 21, 1, 13, 15, 6, 12, 10, 2, 1, 10, 2, 21, 5, 1, 35, 17, 3, 5, 12, 14, 3, 8, 16, 34, 1, 6, 14, 9, 15, 10, 11, 2, 7, 24, 1, 5, 14, 15, 6, 1, 13, 4, 25, 3, 8, 16, 1, 5, 14, 7, 9, 22, 3, 8, 16, 1, 42, 50, 1, 13, 17, 14, 1, 2, 23, 2, 8, 1, 3, 8, 2, 32, 17, 10, 3, 12, 4, 19, 10, 2, 20, 29, 19, 7, 1, 27, 28, 29, 19, 7, 1, 27, 28, 5, 9, 1, 21, 15, 10, 10, 18, 1, 4, 17, 17, 7, 2, 12, 3, 4, 5, 2, 1, 15, 8, 11, 2, 7, 6, 5, 4, 8, 11, 1, 6, 5, 9, 7, 18, 1, 33, 3, 13, 1, 13, 9, 7, 7, 3, 6, 24, 1, 3, 5, 26, 6, 1, 16, 9, 9, 11, 1, 22, 4, 5, 12, 14, 1, 30, 5, 14, 2, 1, 7, 9, 9, 25, 3, 2, 30, 1, 22, 4, 5, 12, 14, 1, 11, 23, 11, 26, 6, 1, 11, 9, 12, 15, 13, 2, 8, 5, 4, 7, 18, 24, 1, 12, 14, 2, 12, 25, 1, 4, 21, 9, 7, 2, 13, 2, 8, 5, 3, 9, 8, 2, 11, 1, 10, 3, 8, 25, 1, 13, 9, 23, 3, 2, 26, 6, 1, 3, 8, 4, 12, 12, 15, 7, 4, 12, 3, 2, 6, 1, 17, 7, 9, 19, 4, 19, 10, 18, 1, 4, 10, 6, 9, 1, 7, 2, 4, 11, 1, 13, 9, 7, 7, 3, 6, 26, 1, 19, 3, 9, 16, 7, 4, 17, 14, 18, 24, 1, 4, 10, 6, 9, 1, 5, 3, 5, 10, 2, 11, 1, 30, 5, 14, 2, 1, 7, 9, 9, 25, 3, 2, 20, 30, 1, 14, 4, 23, 2, 8, 26, 5, 1, 7, 2, 4, 11, 1, 19, 9, 9, 25, 1, 14, 9, 17, 2, 1, 9, 8, 2, 1, 11, 4, 18, 6, 20, 29, 19, 7, 1, 27, 28, 29, 19, 7, 1, 27, 28, 19, 15, 5, 1, 9, 23, 2, 7, 4, 10, 10, 24, 1, 30, 5, 14, 2, 1, 7, 9, 9, 25, 3, 2, 30, 1, 16, 9, 9, 11, 1, 17, 9, 7, 5, 7, 4, 18, 4, 10, 1, 13, 3, 7, 4, 12, 15, 10, 9, 15, 6, 1, 6, 5, 9, 7, 18, 1, 17, 9, 22, 2, 7, 21, 15, 10, 1, 5, 2, 6, 5, 4, 13, 2, 8, 5, 1, 17, 9, 22, 2, 7, 1, 11, 7, 2, 4, 13, 6, 1, 5, 7, 3, 15, 13, 17, 14, 1, 12, 9, 13, 13, 9, 8, 1, 13, 4, 8, 20, 1, 50, 27, 41, 40], [29, 19, 7, 1, 27, 28, 29, 19, 7, 1, 27, 28, 5, 14, 3, 6, 1, 13, 9, 23, 3, 2, 1, 6, 15, 12, 25, 6, 1, 19, 3, 16, 1, 5, 3, 13, 2, 20, 1, 7, 2, 13, 3, 8, 11, 2, 11, 1, 13, 9, 23, 3, 2, 1, 7, 2, 6, 15, 7, 7, 2, 12, 5, 3, 9, 8, 1, 35, 12, 14, 7, 3, 6, 5, 9, 17, 14, 2, 7, 1, 10, 4, 13, 19, 2, 7, 5, 34, 24, 1, 4, 10, 6, 9, 1, 21, 9, 15, 8, 11, 1, 2, 32, 5, 7, 2, 13, 2, 10, 18, 1, 19, 9, 7, 3, 8, 16, 20, 1, 30, 6, 2, 13, 4, 8, 4, 1, 6, 4, 8, 5, 4, 30, 1, 2, 23, 2, 7, 18, 1, 22, 4, 18, 1, 2, 23, 2, 8, 1, 17, 9, 9, 7, 2, 7, 1, 13, 9, 23, 3, 2, 20, 29, 19, 7, 1, 27, 28, 29, 19, 7, 1, 27, 28, 9, 8, 10, 18, 1, 21, 3, 8, 2, 1, 9, 8, 2, 1, 12, 4, 6, 5, 1, 6, 9, 13, 2, 5, 14, 3, 8, 16, 1, 13, 9, 23, 3, 2, 1, 4, 10, 3, 11, 4, 1, 23, 4, 10, 10, 3, 20, 1, 4, 10, 3, 11, 4, 1, 9, 8, 2, 1, 16, 7, 4, 8, 11, 1, 9, 10, 11, 1, 10, 4, 11, 3, 2, 6, 1, 2, 15, 7, 9, 17, 2, 4, 8, 1, 13, 9, 23, 3, 2, 1, 14, 3, 6, 5, 9, 7, 18, 20, 1, 10, 9, 23, 2, 11, 1, 13, 4, 8, 3, 4, 12, 4, 10, 1, 10, 9, 9, 25, 6, 1, 30, 6, 15, 6, 17, 3, 7, 3, 4, 30, 1, 30, 3, 8, 21, 2, 7, 8, 9, 30, 1, 35, 11, 4, 7, 3, 9, 1, 4, 7, 16, 2, 8, 5, 9, 34, 20, 1, 6, 17, 2, 8, 11, 1, 5, 3, 13, 2, 1, 11, 2, 4, 10, 3, 8, 16, 1, 13, 9, 23, 3, 2, 20, 1, 6, 4, 18, 1, 4, 8, 9, 5, 14, 2, 7, 1, 16, 9, 9, 11, 1, 5, 14, 3, 8, 16, 1, 13, 9, 23, 3, 2, 20, 20, 20, 15, 6, 2, 1, 22, 4, 8, 5, 1, 21, 4, 10, 10, 1, 4, 6, 10, 2, 2, 17, 1, 38, 15, 3, 12, 25, 10, 18, 20, 20, 20], [22, 4, 8, 5, 1, 6, 2, 2, 1, 13, 9, 23, 3, 2, 1, 5, 22, 9, 1, 15, 5, 5, 2, 7, 10, 18, 1, 15, 8, 6, 18, 13, 17, 4, 5, 14, 2, 5, 3, 12, 1, 12, 14, 4, 7, 4, 12, 5, 2, 7, 6, 24, 1, 9, 8, 2, 20, 1, 4, 12, 5, 3, 8, 16, 1, 6, 15, 17, 2, 7, 19, 24, 1, 33, 9, 14, 8, 1, 12, 4, 6, 6, 4, 23, 2, 5, 2, 6, 1, 3, 8, 6, 4, 8, 2, 1, 17, 4, 7, 4, 8, 9, 3, 11, 1, 22, 14, 9, 13, 24, 1, 6, 4, 18, 3, 8, 16, 1, 16, 9, 2, 6, 24, 1, 7, 2, 4, 10, 10, 18, 1, 16, 2, 5, 24, 1, 17, 2, 5, 2, 7, 1, 21, 4, 10, 25, 1, 10, 3, 21, 2, 10, 9, 8, 16, 1, 19, 2, 6, 5, 1, 21, 7, 3, 2, 8, 11, 1, 5, 15, 7, 8, 6, 1, 7, 2, 6, 12, 15, 2, 20, 1, 19, 3, 16, 1, 13, 3, 6, 5, 4, 25, 2, 24, 1, 6, 3, 8, 12, 2, 1, 5, 14, 2, 18, 26, 7, 2, 1, 4, 13, 9, 7, 4, 10, 1, 13, 9, 19, 6, 5, 2, 7, 6, 24, 1, 13, 3, 6, 9, 16, 18, 8, 3, 6, 5, 3, 12, 1, 19, 4, 6, 5, 4, 7, 11, 6, 1, 19, 9, 9, 5, 24, 1, 3, 5, 26, 6, 1, 14, 4, 7, 11, 1, 11, 2, 12, 3, 11, 2, 1, 7, 9, 9, 5, 1, 10, 2, 6, 6, 20, 1, 22, 7, 3, 5, 2, 7, 27, 11, 3, 7, 2, 12, 5, 9, 7, 1, 2, 10, 4, 3, 8, 2, 1, 13, 4, 18, 1, 12, 9, 15, 10, 11, 1, 16, 9, 5, 5, 2, 8, 1, 4, 22, 4, 18, 1, 9, 8, 2, 20, 1, 5, 14, 9, 15, 16, 14, 5, 1, 3, 8, 5, 2, 7, 2, 6, 5, 3, 8, 16, 1, 10, 2, 8, 16, 5, 14, 18, 1, 3, 8, 5, 2, 7, 23, 3, 2, 22, 1, 17, 7, 9, 11, 15, 12, 2, 7, 1, 13, 3, 12, 14, 4, 2, 10, 1, 14, 4, 15, 6, 13, 4, 8, 1, 3, 8, 12, 10, 15, 11, 2, 11, 1, 11, 23, 11, 24, 1, 11, 3, 6, 12, 10, 9, 6, 2, 11, 1, 5, 22, 9, 1, 6, 5, 4, 7, 6, 1, 30, 23, 2, 7, 18, 1, 11, 3, 21, 21, 2, 7, 2, 8, 5, 1, 3, 11, 2, 4, 6, 30, 1, 6, 12, 7, 3, 17, 5, 24, 1, 11, 3, 7, 2, 12, 5, 9, 7, 1, 8, 2, 4, 7, 10, 18, 1, 3, 13, 17, 9, 6, 6, 3, 19, 10, 2, 1, 22, 9, 7, 25, 1, 22, 3, 5, 14, 24, 1, 11, 3, 7, 2, 12, 5, 9, 7, 1, 17, 14, 9, 5, 9, 16, 7, 4, 17, 14, 18, 1, 3, 13, 17, 9, 6, 6, 3, 19, 10, 2, 1, 11, 2, 13, 4, 8, 11, 6, 1, 13, 4, 11, 2, 1, 14, 3, 13, 24, 1, 12, 7, 2, 22, 1, 12, 9, 8, 6, 5, 4, 8, 5, 10, 18, 1, 4, 8, 16, 7, 18, 1, 13, 4, 11, 2, 1, 6, 3, 5, 1, 4, 7, 9, 15, 8, 11, 1, 22, 4, 3, 5, 3, 8, 16, 24, 1, 9, 8, 20, 1, 13, 9, 9, 11, 1, 9, 8, 2, 1, 19, 3, 16, 1, 11, 18, 6, 21, 15, 8, 12, 5, 3, 9, 8, 4, 10, 1, 21, 4, 13, 3, 10, 18, 1, 12, 9, 13, 2, 6, 1, 4, 12, 7, 9, 6, 6, 1, 12, 10, 2, 4, 7, 10, 18, 1, 6, 12, 7, 2, 2, 8, 20], [4, 6, 25, 1, 21, 3, 7, 6, 5, 1, 9, 8, 2, 1, 7, 2, 4, 10, 10, 18, 1, 19, 2, 5, 5, 2, 7, 1, 9, 8, 2, 20, 1, 10, 9, 9, 25, 1, 6, 4, 7, 4, 14, 1, 13, 20, 1, 16, 20, 24, 1, 7, 2, 4, 10, 24, 1, 13, 2, 4, 8, 24, 1, 12, 7, 15, 2, 10, 1, 16, 3, 7, 10, 24, 1, 10, 9, 9, 25, 1, 4, 13, 18, 1, 4, 11, 4, 13, 6, 1, 10, 3, 5, 5, 10, 2, 1, 21, 9, 9, 10, 1, 14, 4, 8, 16, 3, 8, 16, 1, 4, 7, 9, 15, 8, 11, 20, 1, 8, 9, 5, 14, 3, 8, 16, 36, 1, 17, 2, 9, 17, 10, 2, 1, 11, 9, 8, 26, 5, 1, 4, 11, 9, 7, 2, 1, 14, 2, 7, 36, 1, 6, 2, 12, 9, 8, 11, 24, 1, 6, 2, 19, 4, 6, 5, 3, 4, 8, 1, 12, 15, 5, 2, 1, 14, 9, 5, 1, 21, 3, 7, 6, 5, 1, 13, 9, 23, 3, 2, 24, 1, 30, 19, 4, 19, 18, 1, 21, 4, 12, 2, 30, 20, 1, 6, 5, 9, 7, 18, 1, 16, 9, 9, 11, 24, 1, 15, 8, 11, 2, 7, 6, 5, 4, 8, 11, 20, 1, 11, 3, 11, 8, 26, 5, 1, 13, 4, 25, 2, 1, 9, 8, 2, 1, 21, 3, 7, 6, 5, 24, 1, 19, 2, 16, 3, 8, 8, 3, 8, 16, 20, 1, 10, 9, 9, 6, 18, 1, 4, 12, 5, 9, 7, 6, 24, 1, 8, 9, 5, 14, 3, 8, 16, 1, 6, 5, 9, 7, 18, 20, 1, 12, 7, 15, 2, 10, 24, 1, 17, 10, 4, 18, 3, 8, 16, 20, 1, 21, 3, 7, 6, 5, 1, 9, 8, 2, 1, 19, 2, 5, 5, 2, 7, 1, 4, 12, 5, 9, 7, 6, 24, 1, 19, 2, 5, 5, 2, 7, 1, 6, 5, 9, 7, 18, 24, 1, 13, 2, 4, 8, 20, 1, 5, 14, 3, 8, 25, 1, 13, 15, 6, 3, 12, 1, 19, 2, 5, 5, 2, 7, 1, 12, 7, 15, 2, 10, 1, 3, 8, 5, 2, 8, 5, 3, 9, 8, 6, 1, 41, 1, 13, 15, 6, 3, 12, 1, 19, 2, 5, 5, 2, 7, 1, 12, 7, 15, 2, 10, 1, 3, 8, 5, 2, 8, 5, 3, 9, 8, 6, 1, 47, 20, 1, 22, 9, 7, 6, 5, 1, 13, 9, 23, 3, 2, 1, 6, 4, 22, 24, 1, 12, 9, 13, 17, 4, 2, 7, 1, 21, 3, 7, 6, 5, 1, 9, 8, 2, 1, 9, 8, 2, 1, 19, 3, 16, 24, 1, 19, 3, 16, 24, 1, 19, 3, 16, 1, 8, 9, 5, 14, 3, 8, 16, 20]]\n",
      "validate_token_x len : 2000\n",
      "validate_token_x: [[6, 14, 9, 22, 26, 6, 1, 2, 12, 14, 9, 2, 11, 1, 26, 19, 15, 19, 19, 10, 3, 8, 16, 26, 1, 6, 9, 15, 8, 11, 1, 2, 21, 21, 2, 12, 5, 1, 15, 6, 2, 11, 1, 17, 15, 5, 1, 6, 10, 2, 2, 17, 20, 1, 6, 9, 9, 5, 14, 3, 8, 16, 1, 6, 14, 9, 22, 20, 1, 5, 14, 3, 8, 25, 1, 13, 3, 16, 14, 5, 1, 6, 10, 2, 17, 5, 1, 17, 4, 7, 5, 6, 1, 11, 4, 8, 16, 2, 7, 1, 17, 2, 7, 3, 10, 20, 1, 4, 10, 6, 9, 1, 14, 2, 4, 7, 11, 1, 6, 2, 5, 1, 6, 14, 9, 5, 6, 1, 6, 14, 9, 22, 1, 6, 17, 9, 8, 16, 2, 1, 11, 3, 23, 2, 7, 6, 1, 6, 14, 9, 5, 1, 5, 4, 7, 17, 9, 8, 1, 6, 17, 7, 3, 8, 16, 6, 24, 1, 21, 10, 9, 7, 3, 11, 4, 20, 1, 22, 9, 15, 10, 11, 1, 4, 6, 6, 15, 13, 2, 1, 10, 10, 9, 18, 11, 1, 19, 7, 3, 11, 16, 2, 6, 1, 8, 2, 23, 2, 7, 1, 11, 9, 23, 2, 1, 5, 14, 2, 7, 2, 20, 1, 7, 2, 13, 2, 13, 19, 2, 7, 1, 6, 14, 9, 22, 1, 7, 2, 7, 15, 8, 6, 1, 4, 10, 5, 14, 9, 15, 16, 14, 1, 8, 2, 23, 2, 7, 1, 2, 11, 16, 2, 31, 9, 21, 31, 5, 14, 2, 31, 6, 2, 4, 5, 1, 2, 32, 12, 3, 5, 3, 8, 16, 1, 22, 9, 15, 10, 11, 1, 13, 4, 25, 2, 1, 15, 8, 11, 2, 7, 22, 4, 5, 2, 7, 1, 2, 17, 3, 6, 9, 11, 2, 6, 1, 10, 4, 25, 2, 1, 16, 7, 4, 8, 11, 13, 9, 5, 14, 2, 7, 26, 6, 1, 14, 9, 15, 6, 2, 20, 20, 20, 1, 3, 13, 4, 16, 3, 8, 3, 8, 16, 1, 2, 12, 14, 9, 2, 11, 1, 19, 15, 19, 19, 10, 3, 8, 16, 1, 6, 9, 15, 8, 11, 6, 1, 8, 4, 7, 7, 4, 5, 3, 8, 16, 1, 4, 11, 23, 2, 8, 5, 15, 7, 2, 6, 1, 14, 2, 4, 11, 6, 20, 1, 5, 14, 9, 15, 16, 14, 5, 1, 26, 21, 10, 3, 17, 17, 2, 7, 26, 1, 19, 2, 5, 5, 2, 7, 1, 15, 8, 11, 2, 7, 6, 2, 4, 1, 4, 12, 5, 3, 9, 8, 20, 1, 12, 9, 15, 7, 6, 2, 24, 1, 4, 11, 23, 4, 8, 5, 4, 16, 2, 1, 8, 4, 5, 15, 7, 4, 10, 1, 2, 8, 23, 3, 7, 9, 8, 13, 2, 8, 5, 20], [33, 9, 14, 8, 18, 1, 13, 4, 25, 2, 6, 1, 9, 8, 2, 1, 19, 2, 6, 5, 1, 6, 5, 18, 10, 2, 1, 2, 32, 2, 7, 12, 3, 6, 2, 6, 24, 1, 13, 4, 25, 3, 8, 16, 1, 6, 5, 7, 9, 8, 16, 1, 21, 3, 10, 13, 1, 16, 9, 9, 11, 1, 18, 4, 25, 15, 37, 4, 26, 6, 1, 6, 5, 9, 7, 18, 20, 1, 2, 10, 2, 12, 5, 3, 9, 8, 1, 8, 2, 22, 1, 18, 4, 25, 15, 37, 4, 26, 6, 1, 19, 9, 6, 6, 1, 19, 2, 16, 3, 8, 8, 3, 8, 16, 1, 22, 4, 7, 1, 3, 8, 6, 3, 11, 2, 1, 9, 7, 16, 4, 8, 3, 37, 4, 5, 3, 9, 8, 20, 29, 19, 7, 1, 27, 28, 29, 19, 7, 1, 27, 28, 3, 8, 1, 9, 17, 3, 8, 3, 9, 8, 1, 23, 3, 9, 10, 2, 8, 12, 2, 1, 22, 3, 6, 2, 1, 15, 6, 2, 11, 1, 12, 9, 8, 5, 2, 32, 5, 24, 1, 13, 4, 25, 3, 8, 16, 1, 6, 5, 7, 9, 8, 16, 1, 16, 4, 8, 16, 6, 1, 21, 3, 10, 13, 20, 1, 6, 17, 2, 12, 3, 4, 10, 10, 18, 1, 10, 9, 23, 2, 1, 22, 4, 18, 1, 5, 2, 10, 10, 6, 1, 14, 3, 6, 5, 9, 7, 18, 24, 1, 13, 9, 23, 3, 8, 16, 1, 4, 7, 9, 15, 8, 11, 1, 7, 9, 10, 2, 6, 1, 3, 8, 6, 3, 11, 2, 1, 18, 4, 25, 15, 37, 4, 26, 6, 1, 21, 4, 13, 3, 10, 18, 24, 1, 13, 4, 25, 3, 8, 16, 1, 6, 2, 2, 1, 23, 3, 9, 10, 2, 8, 12, 2, 24, 1, 10, 3, 25, 2, 1, 22, 4, 18, 1, 6, 9, 10, 23, 2, 1, 17, 7, 9, 19, 10, 2, 13, 6, 20, 20, 20, 29, 19, 7, 1, 27, 28, 29, 19, 7, 1, 27, 28, 5, 4, 10, 25, 3, 8, 16, 1, 4, 19, 9, 15, 5, 24, 1, 5, 2, 12, 14, 8, 3, 12, 4, 10, 1, 4, 6, 17, 2, 12, 5, 6, 24, 1, 21, 3, 10, 13, 1, 16, 9, 9, 11, 1, 2, 32, 4, 13, 17, 10, 2, 1, 17, 4, 15, 6, 2, 11, 24, 1, 7, 18, 5, 14, 13, 3, 12, 1, 17, 10, 4, 8, 3, 21, 3, 2, 11, 1, 22, 4, 18, 1, 6, 14, 9, 9, 5, 3, 8, 16, 1, 21, 3, 10, 13, 20, 1, 9, 8, 2, 1, 14, 9, 8, 16, 1, 25, 9, 8, 16, 1, 21, 3, 10, 13, 6, 1, 18, 2, 4, 7, 20, 1, 10, 3, 25, 2, 1, 3, 8, 21, 2, 7, 8, 4, 10, 1, 4, 21, 21, 4, 3, 7, 6, 24, 1, 22, 3, 5, 14, 9, 15, 5, 1, 2, 4, 6, 18, 1, 4, 12, 5, 3, 9, 8, 31, 23, 3, 9, 10, 2, 8, 12, 2, 1, 6, 12, 2, 8, 2, 6, 24, 1, 12, 9, 8, 21, 15, 6, 2, 11, 1, 6, 5, 9, 7, 18, 10, 3, 8, 2, 20, 1, 6, 5, 7, 9, 8, 16, 10, 18, 1, 7, 2, 12, 9, 13, 13, 2, 8, 11, 2, 11, 1, 4, 6, 3, 4, 8, 1, 21, 3, 10, 13, 6, 1, 10, 9, 23, 2, 7, 6, 20, 29, 19, 7, 1, 27, 28, 29, 19, 7, 1, 27, 28, 35, 6, 9, 7, 7, 18, 1, 2, 8, 16, 10, 3, 6, 14, 24, 1, 19, 2, 5, 5, 2, 7, 1, 6, 17, 4, 8, 3, 6, 14, 1, 10, 9, 10, 34], [30, 12, 4, 23, 2, 13, 2, 8, 30, 1, 2, 32, 12, 2, 2, 11, 2, 11, 1, 2, 32, 17, 2, 12, 5, 4, 5, 3, 9, 8, 6, 24, 1, 16, 9, 9, 11, 1, 22, 4, 18, 20, 1, 2, 23, 2, 8, 1, 22, 9, 7, 6, 2, 1, 5, 14, 9, 15, 16, 14, 5, 1, 22, 9, 15, 10, 11, 1, 19, 2, 20, 1, 19, 4, 6, 3, 12, 4, 10, 10, 18, 24, 1, 14, 2, 7, 2, 26, 6, 1, 6, 14, 9, 22, 43, 1, 12, 4, 23, 2, 13, 2, 8, 1, 4, 10, 5, 2, 7, 8, 4, 5, 2, 1, 7, 4, 12, 2, 24, 1, 21, 4, 12, 2, 1, 17, 7, 2, 33, 15, 11, 3, 12, 2, 24, 1, 2, 5, 12, 20, 1, 38, 15, 3, 5, 2, 1, 17, 9, 6, 6, 3, 19, 10, 18, 1, 6, 5, 15, 17, 3, 11, 2, 6, 5, 1, 3, 11, 2, 4, 1, 2, 23, 2, 7, 1, 12, 7, 2, 4, 5, 2, 11, 45, 1, 4, 10, 13, 9, 6, 5, 1, 22, 9, 7, 5, 14, 18, 1, 33, 4, 3, 10, 1, 5, 3, 13, 2, 1, 22, 7, 3, 5, 2, 7, 6, 20, 1, 9, 8, 2, 1, 6, 14, 9, 22, 1, 21, 2, 4, 5, 15, 7, 2, 11, 1, 12, 4, 23, 2, 13, 2, 8, 1, 16, 9, 3, 8, 16, 1, 12, 10, 15, 19, 24, 1, 5, 7, 18, 3, 8, 16, 1, 17, 3, 12, 25, 1, 16, 3, 7, 10, 6, 24, 1, 8, 9, 5, 14, 3, 8, 16, 1, 2, 10, 6, 2, 1, 14, 4, 17, 17, 2, 8, 2, 11, 20, 1, 7, 2, 13, 3, 8, 3, 6, 12, 2, 8, 5, 1, 10, 3, 6, 5, 2, 8, 3, 8, 16, 1, 44, 44, 1, 13, 3, 8, 15, 5, 2, 1, 4, 8, 11, 18, 1, 7, 9, 9, 8, 2, 18, 1, 11, 3, 4, 10, 9, 16, 24, 1, 21, 9, 10, 10, 9, 22, 2, 11, 1, 11, 2, 4, 5, 14, 1, 6, 5, 2, 4, 25, 1, 25, 8, 3, 23, 2, 6, 1, 23, 3, 4, 1, 13, 3, 11, 16, 2, 5, 1, 12, 4, 8, 8, 3, 19, 4, 10, 6, 20, 1, 6, 2, 2, 8, 1, 6, 14, 9, 22, 24, 1, 14, 2, 7, 2, 26, 6, 1, 2, 32, 4, 13, 17, 10, 2, 1, 11, 3, 4, 10, 9, 16, 43, 1, 30, 18, 9, 15, 26, 7, 2, 1, 6, 15, 7, 2, 1, 18, 9, 15, 26, 7, 2, 1, 9, 25, 4, 18, 1, 16, 9, 3, 8, 16, 1, 12, 4, 23, 2, 13, 4, 8, 20, 30, 1, 30, 18, 2, 4, 14, 24, 1, 5, 14, 4, 5, 26, 6, 1, 21, 3, 8, 2, 20, 1, 3, 26, 23, 2, 1, 10, 3, 25, 2, 1, 41, 40, 1, 31, 1, 5, 14, 9, 15, 6, 4, 8, 11, 36, 30, 1, 14, 3, 10, 4, 7, 3, 9, 15, 6, 20, 20, 20, 1, 17, 9, 6, 6, 3, 19, 10, 18, 1, 19, 2, 6, 5, 1, 22, 7, 3, 5, 3, 8, 16, 1, 3, 26, 23, 2, 1, 2, 23, 2, 7, 1, 22, 3, 5, 8, 2, 6, 6, 2, 11, 20, 29, 19, 7, 1, 27, 28, 29, 19, 7, 1, 27, 28, 44, 44, 1, 13, 3, 8, 15, 5, 2, 6, 1, 12, 4, 23, 2, 13, 2, 8, 1, 14, 9, 7, 7, 3, 19, 10, 2, 1, 13, 4, 25, 2, 15, 17, 24, 1, 5, 4, 12, 25, 10, 3, 8, 16, 1, 5, 9, 15, 16, 14, 1, 6, 9, 12, 3, 4, 10, 1, 3, 6, 6, 15, 2, 6, 20, 20, 20, 1, 6, 9, 15, 8, 11, 6, 1, 10, 3, 25, 2, 1, 2, 8, 5, 2, 7, 5, 4, 3, 8, 3, 8, 16, 1, 8, 3, 16, 14, 5, 20, 1, 4, 10, 6, 9, 1, 10, 9, 23, 2, 1, 19, 4, 11, 1, 7, 2, 12, 2, 8, 5, 1, 3, 11, 2, 4, 6, 1, 5, 14, 2, 18, 26, 7, 2, 1, 7, 2, 6, 9, 7, 5, 2, 11, 1, 13, 4, 25, 3, 8, 16, 1, 6, 3, 5, 12, 9, 13, 1, 12, 4, 7, 1, 3, 8, 6, 15, 7, 4, 8, 12, 2, 1, 12, 9, 13, 13, 2, 7, 12, 3, 4, 10, 6, 20, 1, 22, 9, 8, 11, 2, 7, 1, 5, 14, 2, 18, 26, 10, 10, 1, 16, 2, 12, 25, 9, 1, 8, 2, 32, 5, 24, 1, 8, 2, 22, 1, 5, 3, 5, 10, 2, 1, 22, 9, 7, 6, 5, 1, 6, 14, 9, 22, 1, 3, 26, 23, 2, 1, 2, 23, 2, 7, 1, 6, 2, 2, 8, 20, 1, 22, 9, 15, 10, 11, 1, 2, 23, 2, 8, 1, 6, 4, 18, 1, 22, 9, 7, 6, 2, 1, 30, 23, 3, 23, 4, 1, 10, 4, 15, 16, 14, 10, 3, 8, 20, 30, 1, 10, 2, 4, 6, 5, 1, 30, 23, 3, 23, 4, 1, 10, 4, 15, 16, 14, 10, 3, 8, 30, 1, 7, 3, 17, 17, 2, 11, 1, 6, 9, 13, 2, 5, 14, 3, 8, 16, 1, 6, 9, 13, 2, 22, 14, 4, 5, 1, 3, 8, 6, 17, 3, 7, 2, 11, 20, 29, 19, 7, 1, 27, 28, 29, 19, 7, 1, 27, 28, 6, 14, 9, 22, 6, 1, 10, 3, 25, 2, 1, 13, 4, 25, 2, 1, 14, 9, 17, 2, 1, 5, 14, 2, 7, 2, 26, 6, 1, 12, 9, 13, 2, 5, 1, 6, 9, 13, 2, 22, 14, 2, 7, 2, 1, 4, 3, 13, 2, 11, 1, 2, 4, 7, 5, 14, 20, 29, 19, 7, 1, 27, 28, 29, 19, 7, 1, 27, 28, 35, 15, 8, 7, 4, 5, 4, 19, 10, 2, 1, 14, 9, 8, 2, 6, 5, 10, 18, 20, 20, 20, 34], [41, 34, 1, 22, 2, 4, 17, 9, 8, 1, 2, 32, 17, 2, 7, 5, 24, 1, 2, 23, 2, 8, 1, 6, 2, 2, 1, 11, 3, 21, 21, 2, 7, 2, 8, 12, 2, 1, 15, 20, 6, 20, 1, 4, 7, 13, 18, 1, 7, 3, 21, 21, 10, 2, 6, 1, 22, 22, 3, 1, 22, 22, 3, 3, 20, 1, 13, 9, 23, 3, 2, 1, 6, 2, 2, 1, 17, 7, 3, 23, 4, 5, 2, 6, 24, 1, 4, 7, 13, 2, 11, 1, 30, 13, 41, 1, 16, 4, 7, 4, 8, 11, 30, 1, 35, 3, 8, 23, 2, 8, 5, 2, 11, 1, 18, 2, 4, 7, 1, 41, 42, 47, 44, 36, 34, 24, 1, 4, 15, 5, 14, 2, 8, 5, 3, 12, 1, 30, 41, 42, 40, 47, 1, 6, 17, 7, 3, 8, 16, 21, 3, 2, 10, 11, 30, 1, 35, 4, 25, 4, 1, 30, 6, 3, 10, 2, 8, 5, 1, 11, 2, 4, 5, 14, 30, 34, 24, 1, 17, 7, 3, 23, 4, 5, 2, 6, 1, 15, 6, 2, 1, 22, 22, 3, 3, 20, 1, 11, 3, 21, 21, 2, 7, 2, 8, 12, 2, 1, 31, 1, 13, 41, 1, 10, 9, 4, 11, 1, 41, 24, 49, 1, 5, 3, 13, 2, 6, 1, 4, 13, 13, 15, 8, 3, 5, 3, 9, 8, 1, 47, 1, 5, 3, 13, 2, 6, 1, 21, 3, 7, 2, 1, 7, 4, 5, 2, 36, 1, 13, 41, 1, 6, 2, 13, 3, 1, 31, 1, 4, 15, 5, 9, 13, 4, 5, 3, 12, 24, 1, 6, 17, 7, 3, 8, 16, 21, 3, 2, 10, 11, 1, 7, 2, 38, 15, 3, 7, 2, 6, 1, 7, 2, 10, 9, 4, 11, 3, 8, 16, 1, 2, 23, 2, 7, 18, 1, 6, 14, 9, 5, 20, 1, 10, 3, 5, 5, 10, 2, 1, 11, 3, 21, 21, 2, 7, 2, 8, 12, 2, 39, 36, 1, 44, 34, 1, 16, 2, 7, 13, 4, 8, 1, 4, 7, 13, 18, 1, 15, 8, 3, 21, 9, 7, 13, 6, 1, 19, 9, 7, 7, 9, 22, 2, 11, 1, 41, 42, 52, 40, 1, 18, 2, 4, 7, 1, 5, 9, 9, 20, 1, 2, 6, 17, 2, 12, 3, 4, 10, 10, 18, 1, 31, 1, 14, 2, 10, 13, 2, 5, 6, 20, 1, 16, 2, 7, 13, 4, 8, 1, 14, 2, 10, 13, 2, 5, 6, 1, 2, 8, 11, 1, 22, 22, 3, 1, 6, 3, 16, 8, 3, 21, 3, 12, 4, 8, 5, 1, 17, 3, 25, 2, 1, 5, 9, 17, 24, 1, 12, 4, 8, 8, 9, 5, 1, 6, 2, 2, 1, 2, 23, 2, 8, 1, 9, 8, 2, 1, 13, 9, 23, 3, 2, 20, 1, 13, 4, 25, 2, 1, 10, 3, 5, 5, 10, 2, 1, 4, 11, 11, 3, 5, 3, 9, 8, 4, 10, 1, 6, 2, 4, 7, 12, 14, 1, 4, 7, 12, 14, 3, 23, 2, 6, 1, 31, 1, 13, 15, 12, 14, 1, 5, 7, 15, 5, 14, 21, 15, 10, 1, 30, 5, 7, 15, 2, 1, 6, 5, 9, 7, 18, 30, 39, 1, 6, 15, 7, 17, 7, 3, 6, 2, 11, 24, 1, 13, 15, 12, 14, 1, 30, 5, 7, 15, 5, 14, 21, 15, 10, 30, 1, 21, 3, 10, 13, 1, 11, 3, 7, 2, 12, 5, 9, 7, 6, 1, 17, 15, 7, 6, 15, 3, 5, 1, 12, 14, 2, 4, 17, 1, 17, 7, 9, 17, 4, 16, 4, 5, 3, 9, 8, 20], [13, 9, 23, 3, 2, 1, 13, 9, 6, 5, 10, 18, 1, 12, 7, 4, 17, 1, 7, 2, 4, 6, 9, 8, 1, 13, 9, 23, 3, 2, 1, 22, 9, 7, 5, 14, 1, 22, 4, 5, 12, 14, 3, 8, 16, 1, 33, 2, 4, 8, 31, 12, 10, 4, 15, 11, 1, 23, 4, 13, 1, 11, 4, 13, 13, 2, 1, 6, 5, 4, 7, 6, 1, 13, 9, 23, 3, 2, 20, 5, 14, 2, 7, 2, 1, 16, 9, 9, 11, 1, 4, 12, 5, 3, 9, 8, 1, 6, 12, 2, 8, 2, 6, 1, 13, 9, 23, 3, 2, 1, 19, 2, 6, 5, 1, 9, 8, 2, 6, 1, 2, 8, 11, 1, 13, 9, 23, 3, 2, 20, 29, 19, 7, 1, 27, 28, 29, 19, 7, 1, 27, 28, 5, 14, 2, 1, 4, 12, 5, 3, 8, 16, 1, 13, 9, 23, 3, 2, 1, 19, 4, 11, 1, 22, 9, 7, 6, 5, 1, 4, 12, 5, 3, 8, 16, 1, 2, 23, 2, 7, 1, 6, 2, 2, 8, 1, 44, 1, 4, 12, 5, 9, 7, 6, 1, 19, 3, 10, 10, 1, 16, 9, 10, 11, 19, 2, 7, 16, 1, 13, 3, 12, 14, 4, 2, 10, 1, 33, 4, 3, 1, 22, 14, 3, 5, 2, 1, 4, 12, 5, 1, 4, 10, 10, 20, 4, 8, 11, 1, 13, 9, 23, 3, 2, 1, 21, 4, 7, 1, 9, 8, 2, 1, 33, 2, 4, 8, 31, 12, 10, 4, 15, 11, 1, 23, 4, 13, 1, 11, 4, 13, 13, 2, 6, 1, 22, 9, 7, 6, 5, 1, 13, 9, 23, 3, 2, 6, 1, 11, 9, 8, 2, 1, 15, 1, 22, 4, 5, 12, 14, 1, 9, 8, 2, 1, 16, 7, 2, 4, 5, 1, 13, 9, 23, 3, 2, 6, 1, 15, 1, 22, 4, 5, 12, 14, 1, 19, 10, 9, 9, 11, 1, 6, 17, 9, 7, 5, 24, 25, 3, 12, 25, 19, 9, 32, 2, 7, 1, 6, 15, 11, 11, 2, 8, 1, 11, 2, 4, 5, 14, 20, 29, 19, 7, 1, 27, 28, 29, 19, 7, 1, 27, 28, 9, 23, 2, 7, 1, 13, 9, 23, 3, 2, 1, 12, 7, 4, 17, 27, 9, 25, 1, 7, 4, 5, 3, 8, 16, 1, 52, 1, 41, 40, 20]]\n",
      "Vocabulary Size: 10000\n"
     ]
    }
   ],
   "source": [
    "# Define a tokenizer with vocabulary size of 10,000 that filters all special characters and \n",
    "# converts the characters to lowercase\n",
    "tokenizer = tf.keras.preprocessing.text.Tokenizer(num_words=10000,\n",
    "                                                  filters='!\"#$%&()*+,-./:;<=>?@[\\\\]^_`{|}~\\t\\n',\n",
    "                                                  lower=True,\n",
    "                                                  split=' ',\n",
    "                                                  char_level=True,)\n",
    "\n",
    "# Fit the tokenizer on the comments column of the train set\n",
    "tokenizer.fit_on_texts(train_x)\n",
    "\n",
    "# Convert the text to tokens\n",
    "train_token_x = tokenizer.texts_to_sequences(train_x)\n",
    "validate_token_x = tokenizer.texts_to_sequences(validate_x)\n",
    "\n",
    "print(\"train_x len :\",len(train_token_x))\n",
    "print(\"train_x:\",train_token_x[:5])\n",
    "print(\"validate_token_x len :\",len(validate_token_x))\n",
    "print(\"validate_token_x:\",validate_token_x[:5])\n",
    "\n",
    "vocabulary_size = tokenizer.num_words\n",
    "print(\"Vocabulary Size:\",vocabulary_size)"
   ]
  },
  {
   "cell_type": "markdown",
   "metadata": {
    "id": "URNynC6EZbuf"
   },
   "source": [
    "**Create TF Datasets**\n",
    "\n",
    "<p>🛑🛑🛑 &nbsp;&nbsp;<strong><font color=\"green\">🔑 Keys to DNN Kingdom 👑 : TF Data</font></strong>&nbsp;&nbsp;🛑🛑🛑</p>"
   ]
  },
  {
   "cell_type": "code",
   "execution_count": 62,
   "metadata": {
    "colab": {
     "base_uri": "https://localhost:8080/"
    },
    "id": "cWmonsdsZbuf",
    "outputId": "b11d99fd-58b6-4468-934c-d7e0b49edf3e"
   },
   "outputs": [
    {
     "name": "stdout",
     "output_type": "stream",
     "text": [
      "train_data <PrefetchDataset element_spec=(TensorSpec(shape=(None, None), dtype=tf.int32, name=None), TensorSpec(shape=(None,), dtype=tf.int64, name=None))>\n",
      "validation_data <PrefetchDataset element_spec=(TensorSpec(shape=(None, None), dtype=tf.int32, name=None), TensorSpec(shape=(None,), dtype=tf.int64, name=None))>\n"
     ]
    }
   ],
   "source": [
    "batch_size = 64\n",
    "train_shuffle_buffer_size = len(train_token_x)\n",
    "validation_shuffle_buffer_size = len(validate_token_x)\n",
    "\n",
    "def pad(x, y):\n",
    "  return x.to_tensor(default_value=0, shape=[None, None]), y\n",
    "\n",
    "# Use tensorflow ragged constants to get the ragged version of data\n",
    "train_processed_x = tf.ragged.constant(train_token_x)\n",
    "validate_processed_x = tf.ragged.constant(validate_token_x)\n",
    "train_processed_y = tf.ragged.constant(train_y)\n",
    "validate_processed_y = tf.ragged.constant(validate_y)\n",
    "\n",
    "# Create TF Dataset\n",
    "train_data = tf.data.Dataset.from_tensor_slices((train_processed_x, train_processed_y))\n",
    "validation_data = tf.data.Dataset.from_tensor_slices((validate_processed_x, validate_processed_y))\n",
    "\n",
    "#############\n",
    "# Train data\n",
    "#############\n",
    "# Apply all data processing logic\n",
    "train_data = train_data.shuffle(buffer_size=train_shuffle_buffer_size)\n",
    "train_data = train_data.batch(batch_size)\n",
    "train_data = train_data.map(pad, num_parallel_calls=AUTOTUNE)\n",
    "train_data = train_data.prefetch(AUTOTUNE)\n",
    "#train_data = train_data.cache()\n",
    "\n",
    "##################\n",
    "# Validation data\n",
    "##################\n",
    "# Apply all data processing logic\n",
    "#validation_data = validation_data.shuffle(buffer_size=validation_shuffle_buffer_size)\n",
    "validation_data = validation_data.batch(batch_size)\n",
    "validation_data = validation_data.map(pad, num_parallel_calls=AUTOTUNE)\n",
    "validation_data = validation_data.prefetch(AUTOTUNE)\n",
    "\n",
    "print(\"train_data\",train_data)\n",
    "print(\"validation_data\",validation_data)"
   ]
  },
  {
   "cell_type": "code",
   "execution_count": 63,
   "metadata": {
    "colab": {
     "base_uri": "https://localhost:8080/"
    },
    "id": "j0H8WLCVZbuf",
    "outputId": "d94e5334-aae3-4094-c909-a22142067605"
   },
   "outputs": [
    {
     "name": "stdout",
     "output_type": "stream",
     "text": [
      "(64, 3771) (64,)\n",
      "Input: tf.Tensor([ 9 21  5 ...  0  0  0], shape=(3771,), dtype=int32)\n",
      "Output: tf.Tensor(1, shape=(), dtype=int64)\n",
      "****************\n",
      "Input: tf.Tensor([30 33  4 ...  0  0  0], shape=(3771,), dtype=int32)\n",
      "Output: tf.Tensor(1, shape=(), dtype=int64)\n"
     ]
    }
   ],
   "source": [
    "# View some data from tf dataset\n",
    "for input,output in train_data.take(1):\n",
    "  print(input.shape,output.shape)\n",
    "  \n",
    "  print(\"Input:\",input[0])\n",
    "  print(\"Output:\",output[0])\n",
    "  print(\"****************\")\n",
    "  print(\"Input:\",input[1])\n",
    "  print(\"Output:\",output[1])"
   ]
  },
  {
   "cell_type": "markdown",
   "metadata": {
    "id": "99O9ogs3Zbuf"
   },
   "source": [
    "### **Simple Model**\n",
    "\n",
    "Now define a simple single layer LSTM model"
   ]
  },
  {
   "cell_type": "code",
   "execution_count": 64,
   "metadata": {
    "id": "OIKFBLjF2txF"
   },
   "outputs": [],
   "source": [
    "############################\n",
    "# Training Params\n",
    "############################\n",
    "learning_rate = 1e-2\n",
    "epochs = 20\n",
    "embedding_dim = 128\n",
    "hidden_size = 12"
   ]
  },
  {
   "cell_type": "markdown",
   "metadata": {
    "id": "XXkmM9fjZbug"
   },
   "source": [
    "**Build Model**\n",
    "\n",
    "<p>🛑🛑🛑 &nbsp;&nbsp;<strong><font color=\"green\">🔑 Keys to DNN Kingdom 👑 : Model using functional API</font></strong>&nbsp;&nbsp;🛑🛑🛑</p>"
   ]
  },
  {
   "cell_type": "code",
   "execution_count": 65,
   "metadata": {
    "id": "4INnX-cLZbug"
   },
   "outputs": [],
   "source": [
    "def build_simple_lstm_model(num_classes,vocab_size,embedding_dim,hidden_size):\n",
    "  # Model input\n",
    "  model_input = tf.keras.Input(shape=(None,), name='sentence_input')\n",
    "\n",
    "  # Embedding\n",
    "  embedding = tf.keras.layers.Embedding(input_dim=vocab_size+1, output_dim=embedding_dim, \n",
    "                        name='word_embedding', mask_zero=True)(model_input)\n",
    "\n",
    "  # LSTM layer\n",
    "  hidden1 = tf.keras.layers.LSTM(units=hidden_size, return_sequences=False)(embedding)\n",
    "\n",
    "  hidden = tf.keras.layers.Dense(units=hidden_size, activation='relu')(hidden1)\n",
    "\n",
    "  # Output Layer\n",
    "  output = tf.keras.layers.Dense(units=num_classes, activation='softmax')(hidden)\n",
    "\n",
    "  # Create model\n",
    "  model = tf.keras.Model(inputs=model_input, outputs=output)\n",
    "\n",
    "  return model"
   ]
  },
  {
   "cell_type": "markdown",
   "metadata": {
    "id": "A6Zv837UZbug"
   },
   "source": [
    "**Train**"
   ]
  },
  {
   "cell_type": "code",
   "execution_count": 66,
   "metadata": {
    "colab": {
     "base_uri": "https://localhost:8080/"
    },
    "id": "3m5vEz19Zbug",
    "outputId": "e75bc957-f9f5-4201-8fa0-43bc3c98e408"
   },
   "outputs": [
    {
     "name": "stdout",
     "output_type": "stream",
     "text": [
      "Model: \"model\"\n",
      "_________________________________________________________________\n",
      " Layer (type)                Output Shape              Param #   \n",
      "=================================================================\n",
      " sentence_input (InputLayer)  [(None, None)]           0         \n",
      "                                                                 \n",
      " word_embedding (Embedding)  (None, None, 128)         1280128   \n",
      "                                                                 \n",
      " lstm (LSTM)                 (None, 12)                6768      \n",
      "                                                                 \n",
      " dense (Dense)               (None, 12)                156       \n",
      "                                                                 \n",
      " dense_1 (Dense)             (None, 2)                 26        \n",
      "                                                                 \n",
      "=================================================================\n",
      "Total params: 1,287,078\n",
      "Trainable params: 1,287,078\n",
      "Non-trainable params: 0\n",
      "_________________________________________________________________\n",
      "None\n",
      "Epoch 1/20\n"
     ]
    },
    {
     "name": "stderr",
     "output_type": "stream",
     "text": [
      "2022-04-23 03:02:54.862932: E tensorflow/stream_executor/cuda/cuda_dnn.cc:373] Could not create cudnn handle: CUDNN_STATUS_INTERNAL_ERROR\n",
      "2022-04-23 03:02:54.863003: W tensorflow/core/framework/op_kernel.cc:1745] OP_REQUIRES failed at cudnn_rnn_ops.cc:1556 : UNKNOWN: Fail to find the dnn implementation.\n"
     ]
    },
    {
     "ename": "UnknownError",
     "evalue": "Graph execution error:\n\nDetected at node 'cond/CudnnRNNV3' defined at (most recent call last):\n    File \"/opt/conda/envs/tensorflow/lib/python3.10/runpy.py\", line 196, in _run_module_as_main\n      return _run_code(code, main_globals, None,\n    File \"/opt/conda/envs/tensorflow/lib/python3.10/runpy.py\", line 86, in _run_code\n      exec(code, run_globals)\n    File \"/opt/conda/envs/tensorflow/lib/python3.10/site-packages/ipykernel_launcher.py\", line 16, in <module>\n      app.launch_new_instance()\n    File \"/opt/conda/envs/tensorflow/lib/python3.10/site-packages/traitlets/config/application.py\", line 846, in launch_instance\n      app.start()\n    File \"/opt/conda/envs/tensorflow/lib/python3.10/site-packages/ipykernel/kernelapp.py\", line 677, in start\n      self.io_loop.start()\n    File \"/opt/conda/envs/tensorflow/lib/python3.10/site-packages/tornado/platform/asyncio.py\", line 199, in start\n      self.asyncio_loop.run_forever()\n    File \"/opt/conda/envs/tensorflow/lib/python3.10/asyncio/base_events.py\", line 600, in run_forever\n      self._run_once()\n    File \"/opt/conda/envs/tensorflow/lib/python3.10/asyncio/base_events.py\", line 1896, in _run_once\n      handle._run()\n    File \"/opt/conda/envs/tensorflow/lib/python3.10/asyncio/events.py\", line 80, in _run\n      self._context.run(self._callback, *self._args)\n    File \"/opt/conda/envs/tensorflow/lib/python3.10/site-packages/ipykernel/kernelbase.py\", line 473, in dispatch_queue\n      await self.process_one()\n    File \"/opt/conda/envs/tensorflow/lib/python3.10/site-packages/ipykernel/kernelbase.py\", line 462, in process_one\n      await dispatch(*args)\n    File \"/opt/conda/envs/tensorflow/lib/python3.10/site-packages/ipykernel/kernelbase.py\", line 369, in dispatch_shell\n      await result\n    File \"/opt/conda/envs/tensorflow/lib/python3.10/site-packages/ipykernel/kernelbase.py\", line 664, in execute_request\n      reply_content = await reply_content\n    File \"/opt/conda/envs/tensorflow/lib/python3.10/site-packages/ipykernel/ipkernel.py\", line 355, in do_execute\n      res = shell.run_cell(code, store_history=store_history, silent=silent)\n    File \"/opt/conda/envs/tensorflow/lib/python3.10/site-packages/ipykernel/zmqshell.py\", line 532, in run_cell\n      return super().run_cell(*args, **kwargs)\n    File \"/opt/conda/envs/tensorflow/lib/python3.10/site-packages/IPython/core/interactiveshell.py\", line 2863, in run_cell\n      result = self._run_cell(\n    File \"/opt/conda/envs/tensorflow/lib/python3.10/site-packages/IPython/core/interactiveshell.py\", line 2909, in _run_cell\n      return runner(coro)\n    File \"/opt/conda/envs/tensorflow/lib/python3.10/site-packages/IPython/core/async_helpers.py\", line 129, in _pseudo_sync_runner\n      coro.send(None)\n    File \"/opt/conda/envs/tensorflow/lib/python3.10/site-packages/IPython/core/interactiveshell.py\", line 3106, in run_cell_async\n      has_raised = await self.run_ast_nodes(code_ast.body, cell_name,\n    File \"/opt/conda/envs/tensorflow/lib/python3.10/site-packages/IPython/core/interactiveshell.py\", line 3309, in run_ast_nodes\n      if await self.run_code(code, result, async_=asy):\n    File \"/opt/conda/envs/tensorflow/lib/python3.10/site-packages/IPython/core/interactiveshell.py\", line 3369, in run_code\n      exec(code_obj, self.user_global_ns, self.user_ns)\n    File \"/tmp/ipykernel_133/3732254497.py\", line 22, in <cell line: 22>\n      training_results = model.fit(\n    File \"/opt/conda/envs/tensorflow/lib/python3.10/site-packages/keras/utils/traceback_utils.py\", line 64, in error_handler\n      return fn(*args, **kwargs)\n    File \"/opt/conda/envs/tensorflow/lib/python3.10/site-packages/keras/engine/training.py\", line 1384, in fit\n      tmp_logs = self.train_function(iterator)\n    File \"/opt/conda/envs/tensorflow/lib/python3.10/site-packages/keras/engine/training.py\", line 1021, in train_function\n      return step_function(self, iterator)\n    File \"/opt/conda/envs/tensorflow/lib/python3.10/site-packages/keras/engine/training.py\", line 1010, in step_function\n      outputs = model.distribute_strategy.run(run_step, args=(data,))\n    File \"/opt/conda/envs/tensorflow/lib/python3.10/site-packages/keras/engine/training.py\", line 1000, in run_step\n      outputs = model.train_step(data)\n    File \"/opt/conda/envs/tensorflow/lib/python3.10/site-packages/keras/engine/training.py\", line 859, in train_step\n      y_pred = self(x, training=True)\n    File \"/opt/conda/envs/tensorflow/lib/python3.10/site-packages/keras/utils/traceback_utils.py\", line 64, in error_handler\n      return fn(*args, **kwargs)\n    File \"/opt/conda/envs/tensorflow/lib/python3.10/site-packages/keras/engine/base_layer.py\", line 1096, in __call__\n      outputs = call_fn(inputs, *args, **kwargs)\n    File \"/opt/conda/envs/tensorflow/lib/python3.10/site-packages/keras/utils/traceback_utils.py\", line 92, in error_handler\n      return fn(*args, **kwargs)\n    File \"/opt/conda/envs/tensorflow/lib/python3.10/site-packages/keras/engine/functional.py\", line 451, in call\n      return self._run_internal_graph(\n    File \"/opt/conda/envs/tensorflow/lib/python3.10/site-packages/keras/engine/functional.py\", line 589, in _run_internal_graph\n      outputs = node.layer(*args, **kwargs)\n    File \"/opt/conda/envs/tensorflow/lib/python3.10/site-packages/keras/layers/recurrent.py\", line 679, in __call__\n      return super(RNN, self).__call__(inputs, **kwargs)\n    File \"/opt/conda/envs/tensorflow/lib/python3.10/site-packages/keras/utils/traceback_utils.py\", line 64, in error_handler\n      return fn(*args, **kwargs)\n    File \"/opt/conda/envs/tensorflow/lib/python3.10/site-packages/keras/engine/base_layer.py\", line 1096, in __call__\n      outputs = call_fn(inputs, *args, **kwargs)\n    File \"/opt/conda/envs/tensorflow/lib/python3.10/site-packages/keras/utils/traceback_utils.py\", line 92, in error_handler\n      return fn(*args, **kwargs)\n    File \"/opt/conda/envs/tensorflow/lib/python3.10/site-packages/keras/layers/recurrent_v2.py\", line 1255, in call\n      runtime) = lstm_with_backend_selection(**normal_lstm_kwargs)\n    File \"/opt/conda/envs/tensorflow/lib/python3.10/site-packages/keras/layers/recurrent_v2.py\", line 1651, in lstm_with_backend_selection\n      _function_register(defun_gpu_lstm, **params)\n    File \"/opt/conda/envs/tensorflow/lib/python3.10/site-packages/keras/layers/recurrent_v2.py\", line 1783, in _function_register\n      concrete_func = func.get_concrete_function(*args, **kwargs)\n    File \"/opt/conda/envs/tensorflow/lib/python3.10/site-packages/keras/layers/recurrent_v2.py\", line 1618, in gpu_lstm_with_fallback\n      return tf.cond(\n    File \"/opt/conda/envs/tensorflow/lib/python3.10/site-packages/keras/layers/recurrent_v2.py\", line 1592, in cudnn_lstm_fn\n      return gpu_lstm(\n    File \"/opt/conda/envs/tensorflow/lib/python3.10/site-packages/keras/layers/recurrent_v2.py\", line 1480, in gpu_lstm\n      outputs, h, c, _, _ = tf.raw_ops.CudnnRNNV3(\nNode: 'cond/CudnnRNNV3'\nFail to find the dnn implementation.\n\t [[{{node cond/CudnnRNNV3}}]]\n\t [[model/lstm/PartitionedCall]] [Op:__inference_train_function_67366]",
     "output_type": "error",
     "traceback": [
      "\u001b[0;31m---------------------------------------------------------------------------\u001b[0m",
      "\u001b[0;31mUnknownError\u001b[0m                              Traceback (most recent call last)",
      "Input \u001b[0;32mIn [66]\u001b[0m, in \u001b[0;36m<cell line: 22>\u001b[0;34m()\u001b[0m\n\u001b[1;32m     20\u001b[0m \u001b[38;5;66;03m# Train model\u001b[39;00m\n\u001b[1;32m     21\u001b[0m start_time \u001b[38;5;241m=\u001b[39m time\u001b[38;5;241m.\u001b[39mtime()\n\u001b[0;32m---> 22\u001b[0m training_results \u001b[38;5;241m=\u001b[39m \u001b[43mmodel\u001b[49m\u001b[38;5;241;43m.\u001b[39;49m\u001b[43mfit\u001b[49m\u001b[43m(\u001b[49m\n\u001b[1;32m     23\u001b[0m \u001b[43m        \u001b[49m\u001b[43mtrain_data\u001b[49m\u001b[43m,\u001b[49m\n\u001b[1;32m     24\u001b[0m \u001b[43m        \u001b[49m\u001b[43mvalidation_data\u001b[49m\u001b[38;5;241;43m=\u001b[39;49m\u001b[43m \u001b[49m\u001b[43mvalidation_data\u001b[49m\u001b[43m,\u001b[49m\n\u001b[1;32m     25\u001b[0m \u001b[43m        \u001b[49m\u001b[43mepochs\u001b[49m\u001b[38;5;241;43m=\u001b[39;49m\u001b[43mepochs\u001b[49m\u001b[43m,\u001b[49m\u001b[43m \u001b[49m\n\u001b[1;32m     26\u001b[0m \u001b[43m        \u001b[49m\u001b[43mverbose\u001b[49m\u001b[38;5;241;43m=\u001b[39;49m\u001b[38;5;241;43m1\u001b[39;49m\u001b[43m)\u001b[49m\n\u001b[1;32m     27\u001b[0m execution_time \u001b[38;5;241m=\u001b[39m (time\u001b[38;5;241m.\u001b[39mtime() \u001b[38;5;241m-\u001b[39m start_time)\u001b[38;5;241m/\u001b[39m\u001b[38;5;241m60.0\u001b[39m\n\u001b[1;32m     28\u001b[0m \u001b[38;5;28mprint\u001b[39m(\u001b[38;5;124m\"\u001b[39m\u001b[38;5;124mTraining execution time (mins)\u001b[39m\u001b[38;5;124m\"\u001b[39m,execution_time)\n",
      "File \u001b[0;32m/opt/conda/envs/tensorflow/lib/python3.10/site-packages/keras/utils/traceback_utils.py:67\u001b[0m, in \u001b[0;36mfilter_traceback.<locals>.error_handler\u001b[0;34m(*args, **kwargs)\u001b[0m\n\u001b[1;32m     65\u001b[0m \u001b[38;5;28;01mexcept\u001b[39;00m \u001b[38;5;167;01mException\u001b[39;00m \u001b[38;5;28;01mas\u001b[39;00m e:  \u001b[38;5;66;03m# pylint: disable=broad-except\u001b[39;00m\n\u001b[1;32m     66\u001b[0m   filtered_tb \u001b[38;5;241m=\u001b[39m _process_traceback_frames(e\u001b[38;5;241m.\u001b[39m__traceback__)\n\u001b[0;32m---> 67\u001b[0m   \u001b[38;5;28;01mraise\u001b[39;00m e\u001b[38;5;241m.\u001b[39mwith_traceback(filtered_tb) \u001b[38;5;28;01mfrom\u001b[39;00m \u001b[38;5;28mNone\u001b[39m\n\u001b[1;32m     68\u001b[0m \u001b[38;5;28;01mfinally\u001b[39;00m:\n\u001b[1;32m     69\u001b[0m   \u001b[38;5;28;01mdel\u001b[39;00m filtered_tb\n",
      "File \u001b[0;32m/opt/conda/envs/tensorflow/lib/python3.10/site-packages/tensorflow/python/eager/execute.py:54\u001b[0m, in \u001b[0;36mquick_execute\u001b[0;34m(op_name, num_outputs, inputs, attrs, ctx, name)\u001b[0m\n\u001b[1;32m     52\u001b[0m \u001b[38;5;28;01mtry\u001b[39;00m:\n\u001b[1;32m     53\u001b[0m   ctx\u001b[38;5;241m.\u001b[39mensure_initialized()\n\u001b[0;32m---> 54\u001b[0m   tensors \u001b[38;5;241m=\u001b[39m pywrap_tfe\u001b[38;5;241m.\u001b[39mTFE_Py_Execute(ctx\u001b[38;5;241m.\u001b[39m_handle, device_name, op_name,\n\u001b[1;32m     55\u001b[0m                                       inputs, attrs, num_outputs)\n\u001b[1;32m     56\u001b[0m \u001b[38;5;28;01mexcept\u001b[39;00m core\u001b[38;5;241m.\u001b[39m_NotOkStatusException \u001b[38;5;28;01mas\u001b[39;00m e:\n\u001b[1;32m     57\u001b[0m   \u001b[38;5;28;01mif\u001b[39;00m name \u001b[38;5;129;01mis\u001b[39;00m \u001b[38;5;129;01mnot\u001b[39;00m \u001b[38;5;28;01mNone\u001b[39;00m:\n",
      "\u001b[0;31mUnknownError\u001b[0m: Graph execution error:\n\nDetected at node 'cond/CudnnRNNV3' defined at (most recent call last):\n    File \"/opt/conda/envs/tensorflow/lib/python3.10/runpy.py\", line 196, in _run_module_as_main\n      return _run_code(code, main_globals, None,\n    File \"/opt/conda/envs/tensorflow/lib/python3.10/runpy.py\", line 86, in _run_code\n      exec(code, run_globals)\n    File \"/opt/conda/envs/tensorflow/lib/python3.10/site-packages/ipykernel_launcher.py\", line 16, in <module>\n      app.launch_new_instance()\n    File \"/opt/conda/envs/tensorflow/lib/python3.10/site-packages/traitlets/config/application.py\", line 846, in launch_instance\n      app.start()\n    File \"/opt/conda/envs/tensorflow/lib/python3.10/site-packages/ipykernel/kernelapp.py\", line 677, in start\n      self.io_loop.start()\n    File \"/opt/conda/envs/tensorflow/lib/python3.10/site-packages/tornado/platform/asyncio.py\", line 199, in start\n      self.asyncio_loop.run_forever()\n    File \"/opt/conda/envs/tensorflow/lib/python3.10/asyncio/base_events.py\", line 600, in run_forever\n      self._run_once()\n    File \"/opt/conda/envs/tensorflow/lib/python3.10/asyncio/base_events.py\", line 1896, in _run_once\n      handle._run()\n    File \"/opt/conda/envs/tensorflow/lib/python3.10/asyncio/events.py\", line 80, in _run\n      self._context.run(self._callback, *self._args)\n    File \"/opt/conda/envs/tensorflow/lib/python3.10/site-packages/ipykernel/kernelbase.py\", line 473, in dispatch_queue\n      await self.process_one()\n    File \"/opt/conda/envs/tensorflow/lib/python3.10/site-packages/ipykernel/kernelbase.py\", line 462, in process_one\n      await dispatch(*args)\n    File \"/opt/conda/envs/tensorflow/lib/python3.10/site-packages/ipykernel/kernelbase.py\", line 369, in dispatch_shell\n      await result\n    File \"/opt/conda/envs/tensorflow/lib/python3.10/site-packages/ipykernel/kernelbase.py\", line 664, in execute_request\n      reply_content = await reply_content\n    File \"/opt/conda/envs/tensorflow/lib/python3.10/site-packages/ipykernel/ipkernel.py\", line 355, in do_execute\n      res = shell.run_cell(code, store_history=store_history, silent=silent)\n    File \"/opt/conda/envs/tensorflow/lib/python3.10/site-packages/ipykernel/zmqshell.py\", line 532, in run_cell\n      return super().run_cell(*args, **kwargs)\n    File \"/opt/conda/envs/tensorflow/lib/python3.10/site-packages/IPython/core/interactiveshell.py\", line 2863, in run_cell\n      result = self._run_cell(\n    File \"/opt/conda/envs/tensorflow/lib/python3.10/site-packages/IPython/core/interactiveshell.py\", line 2909, in _run_cell\n      return runner(coro)\n    File \"/opt/conda/envs/tensorflow/lib/python3.10/site-packages/IPython/core/async_helpers.py\", line 129, in _pseudo_sync_runner\n      coro.send(None)\n    File \"/opt/conda/envs/tensorflow/lib/python3.10/site-packages/IPython/core/interactiveshell.py\", line 3106, in run_cell_async\n      has_raised = await self.run_ast_nodes(code_ast.body, cell_name,\n    File \"/opt/conda/envs/tensorflow/lib/python3.10/site-packages/IPython/core/interactiveshell.py\", line 3309, in run_ast_nodes\n      if await self.run_code(code, result, async_=asy):\n    File \"/opt/conda/envs/tensorflow/lib/python3.10/site-packages/IPython/core/interactiveshell.py\", line 3369, in run_code\n      exec(code_obj, self.user_global_ns, self.user_ns)\n    File \"/tmp/ipykernel_133/3732254497.py\", line 22, in <cell line: 22>\n      training_results = model.fit(\n    File \"/opt/conda/envs/tensorflow/lib/python3.10/site-packages/keras/utils/traceback_utils.py\", line 64, in error_handler\n      return fn(*args, **kwargs)\n    File \"/opt/conda/envs/tensorflow/lib/python3.10/site-packages/keras/engine/training.py\", line 1384, in fit\n      tmp_logs = self.train_function(iterator)\n    File \"/opt/conda/envs/tensorflow/lib/python3.10/site-packages/keras/engine/training.py\", line 1021, in train_function\n      return step_function(self, iterator)\n    File \"/opt/conda/envs/tensorflow/lib/python3.10/site-packages/keras/engine/training.py\", line 1010, in step_function\n      outputs = model.distribute_strategy.run(run_step, args=(data,))\n    File \"/opt/conda/envs/tensorflow/lib/python3.10/site-packages/keras/engine/training.py\", line 1000, in run_step\n      outputs = model.train_step(data)\n    File \"/opt/conda/envs/tensorflow/lib/python3.10/site-packages/keras/engine/training.py\", line 859, in train_step\n      y_pred = self(x, training=True)\n    File \"/opt/conda/envs/tensorflow/lib/python3.10/site-packages/keras/utils/traceback_utils.py\", line 64, in error_handler\n      return fn(*args, **kwargs)\n    File \"/opt/conda/envs/tensorflow/lib/python3.10/site-packages/keras/engine/base_layer.py\", line 1096, in __call__\n      outputs = call_fn(inputs, *args, **kwargs)\n    File \"/opt/conda/envs/tensorflow/lib/python3.10/site-packages/keras/utils/traceback_utils.py\", line 92, in error_handler\n      return fn(*args, **kwargs)\n    File \"/opt/conda/envs/tensorflow/lib/python3.10/site-packages/keras/engine/functional.py\", line 451, in call\n      return self._run_internal_graph(\n    File \"/opt/conda/envs/tensorflow/lib/python3.10/site-packages/keras/engine/functional.py\", line 589, in _run_internal_graph\n      outputs = node.layer(*args, **kwargs)\n    File \"/opt/conda/envs/tensorflow/lib/python3.10/site-packages/keras/layers/recurrent.py\", line 679, in __call__\n      return super(RNN, self).__call__(inputs, **kwargs)\n    File \"/opt/conda/envs/tensorflow/lib/python3.10/site-packages/keras/utils/traceback_utils.py\", line 64, in error_handler\n      return fn(*args, **kwargs)\n    File \"/opt/conda/envs/tensorflow/lib/python3.10/site-packages/keras/engine/base_layer.py\", line 1096, in __call__\n      outputs = call_fn(inputs, *args, **kwargs)\n    File \"/opt/conda/envs/tensorflow/lib/python3.10/site-packages/keras/utils/traceback_utils.py\", line 92, in error_handler\n      return fn(*args, **kwargs)\n    File \"/opt/conda/envs/tensorflow/lib/python3.10/site-packages/keras/layers/recurrent_v2.py\", line 1255, in call\n      runtime) = lstm_with_backend_selection(**normal_lstm_kwargs)\n    File \"/opt/conda/envs/tensorflow/lib/python3.10/site-packages/keras/layers/recurrent_v2.py\", line 1651, in lstm_with_backend_selection\n      _function_register(defun_gpu_lstm, **params)\n    File \"/opt/conda/envs/tensorflow/lib/python3.10/site-packages/keras/layers/recurrent_v2.py\", line 1783, in _function_register\n      concrete_func = func.get_concrete_function(*args, **kwargs)\n    File \"/opt/conda/envs/tensorflow/lib/python3.10/site-packages/keras/layers/recurrent_v2.py\", line 1618, in gpu_lstm_with_fallback\n      return tf.cond(\n    File \"/opt/conda/envs/tensorflow/lib/python3.10/site-packages/keras/layers/recurrent_v2.py\", line 1592, in cudnn_lstm_fn\n      return gpu_lstm(\n    File \"/opt/conda/envs/tensorflow/lib/python3.10/site-packages/keras/layers/recurrent_v2.py\", line 1480, in gpu_lstm\n      outputs, h, c, _, _ = tf.raw_ops.CudnnRNNV3(\nNode: 'cond/CudnnRNNV3'\nFail to find the dnn implementation.\n\t [[{{node cond/CudnnRNNV3}}]]\n\t [[model/lstm/PartitionedCall]] [Op:__inference_train_function_67366]"
     ]
    }
   ],
   "source": [
    "# Free up memory\n",
    "tf.keras.backend.clear_session()\n",
    "\n",
    "# Build the model\n",
    "model = build_simple_lstm_model(num_classes,vocabulary_size, embedding_dim, hidden_size)\n",
    "\n",
    "# Print the model architecture\n",
    "print(model.summary())\n",
    "\n",
    "# Optimizer\n",
    "optimizer = tf.keras.optimizers.Adam(learning_rate=learning_rate)\n",
    "# Loss\n",
    "loss = tf.keras.losses.sparse_categorical_crossentropy\n",
    "\n",
    "# Compile\n",
    "model.compile(loss=loss,\n",
    "                  optimizer=optimizer,\n",
    "                  metrics=['accuracy'])\n",
    "\n",
    "# Train model\n",
    "start_time = time.time()\n",
    "training_results = model.fit(\n",
    "        train_data,\n",
    "        validation_data= validation_data,\n",
    "        epochs=epochs, \n",
    "        verbose=1)\n",
    "execution_time = (time.time() - start_time)/60.0\n",
    "print(\"Training execution time (mins)\",execution_time)"
   ]
  },
  {
   "cell_type": "code",
   "execution_count": null,
   "metadata": {
    "colab": {
     "base_uri": "https://localhost:8080/",
     "height": 336
    },
    "id": "bmb4iZw2Zbug",
    "outputId": "1cd02c09-fc0e-4786-a3c7-6b22158c1d4e"
   },
   "outputs": [],
   "source": [
    "# Plot training results\n",
    "fig = plt.figure(figsize=(20,5))\n",
    "axs = fig.add_subplot(1,3,1)\n",
    "axs.set_title('Loss')\n",
    "# Plot all metrics\n",
    "for metric in [\"loss\",\"val_loss\"]:\n",
    "    axs.plot(np.arange(0, epochs), training_results.history[metric], label=metric)\n",
    "axs.legend()\n",
    "\n",
    "axs = fig.add_subplot(1,3,2)\n",
    "axs.set_title('Accuracy')\n",
    "# Plot all metrics\n",
    "for metric in [\"accuracy\",\"val_accuracy\"]:\n",
    "    axs.plot(np.arange(0, epochs), training_results.history[metric], label=metric)\n",
    "axs.legend()\n",
    "\n",
    "plt.show()"
   ]
  },
  {
   "cell_type": "markdown",
   "metadata": {
    "id": "jQrS5LzYHWZ1"
   },
   "source": [
    "**Evaluate**"
   ]
  },
  {
   "cell_type": "code",
   "execution_count": null,
   "metadata": {
    "colab": {
     "base_uri": "https://localhost:8080/"
    },
    "id": "FVBEjfDa3hKz",
    "outputId": "66dce1d8-7122-471a-8139-e557822bc05d"
   },
   "outputs": [],
   "source": [
    "# Predict on the test set\n",
    "pred = model.predict(validation_data)\n",
    "pred = pred.argmax(axis=1)\n",
    "\n",
    "# Print the classification report comparing the true labels and the predicted ones\n",
    "print(classification_report(validate_processed_y, pred))"
   ]
  },
  {
   "cell_type": "markdown",
   "metadata": {
    "id": "4yF484jL3Vvg"
   },
   "source": [
    "### **Model with Residual Connections 🎊🎉**\n",
    "\n",
    "Now define LSTM model with residual connections. \n",
    "\n",
    "From the google [Translate paper](https://arxiv.org/abs/1609.08144), we can see that skip connections enable us to train deeper recurrent networks.\n",
    "\n",
    "For that, add skips connections between different LSTMs layers."
   ]
  },
  {
   "cell_type": "markdown",
   "metadata": {
    "id": "t0NK8H9FIk6i"
   },
   "source": [
    "**Build Model**\n",
    "\n",
    "<p>🛑🛑🛑 &nbsp;&nbsp;<strong><font color=\"green\">🔑 Keys to DNN Kingdom 👑 : Model using functional API</font></strong>&nbsp;&nbsp;🛑🛑🛑</p>\n",
    "\n",
    "**<font color='red'>Activity</font> 🎊🎉** "
   ]
  },
  {
   "cell_type": "code",
   "execution_count": null,
   "metadata": {
    "id": "Iu8v9b9C3ang"
   },
   "outputs": [],
   "source": [
    "def build_lstm_residual_connections_model(num_classes,vocab_size,embedding_dim,hidden_size):\n",
    "  # Model input\n",
    "  model_input = tf.keras.Input(shape=(None,), name='sentence_input')\n",
    "\n",
    "  # Embedding\n",
    "  # Add a embedding layer with dimension tokenizer.num_words+1 and embedding size.\n",
    "  # Set mask_zero as true \n",
    "  embedding = tf.keras.layers.Embedding(input_dim=vocab_size+1, output_dim=embedding_dim, \n",
    "                        name='word_embedding', mask_zero=True)(model_input)\n",
    "\n",
    "  # Add an LSTM layer with hidden size and return the sequences\n",
    "  hidden1 = tf.keras.layers.LSTM(units=hidden_size, return_sequences=True)(embedding)\n",
    "  # Create residual connection\n",
    "  #residual1 = hidden1 + embedding # This will not work the dimension of embedding cannot be added to hidden1\n",
    "  embedding_projections = tf.keras.layers.Dense(units=hidden_size, activation='relu')\n",
    "  residual1 = hidden1 + embedding_projections(embedding)\n",
    "\n",
    "  # Add another LSTM layer with hidden size and return the sequences\n",
    "  hidden2 = tf.keras.layers.LSTM(units=hidden_size, return_sequences=True)(residual1)\n",
    "  # Create a residual connection\n",
    "  residual2 = hidden2 + hidden1\n",
    "\n",
    "  # Add another LSTM layer with hidden size and return the sequences\n",
    "  hidden3 = tf.keras.layers.LSTM(units=hidden_size, return_sequences=True)(residual2)\n",
    "  # Create a residual connection\n",
    "  residual3 = hidden3 + hidden2\n",
    "\n",
    "  # Add another LSTM layer with hidden size and return the sequences\n",
    "  hidden4 = tf.keras.layers.LSTM(units=hidden_size, return_sequences=True)(residual3)\n",
    "\n",
    "  # Concatenate all hidden states\n",
    "  hidden = tf.keras.layers.Concatenate(axis=2)([hidden1, hidden2, hidden3, hidden4])\n",
    "\n",
    "  # Use last LSTM layer with hidden size and return sequences False\n",
    "  final = tf.keras.layers.LSTM(units=hidden_size, return_sequences=False)(hidden)\n",
    "\n",
    "  # Output Layer\n",
    "  output = tf.keras.layers.Dense(units=num_classes, activation='softmax')(final)\n",
    "\n",
    "  # Create model\n",
    "  model = tf.keras.Model(inputs=model_input, outputs=output)\n",
    "\n",
    "  return model"
   ]
  },
  {
   "cell_type": "markdown",
   "metadata": {
    "id": "RMRnWmie-SWr"
   },
   "source": [
    "**Solution**"
   ]
  },
  {
   "cell_type": "code",
   "execution_count": null,
   "metadata": {
    "colab": {
     "base_uri": "https://localhost:8080/"
    },
    "id": "UQpOnFN8EIq-",
    "outputId": "59712b1b-b95e-46a6-9d94-8cf46cac1d66"
   },
   "outputs": [],
   "source": [
    "display_solution(\"https://storage.googleapis.com/public-code-snippets/cs109b_lab9_activity2.txt\")"
   ]
  },
  {
   "cell_type": "markdown",
   "metadata": {
    "id": "_aRiLZ46Hbft"
   },
   "source": [
    "**Train**"
   ]
  },
  {
   "cell_type": "code",
   "execution_count": null,
   "metadata": {
    "colab": {
     "base_uri": "https://localhost:8080/"
    },
    "id": "OneJ3WIW39nn",
    "outputId": "144cc602-65ff-48f0-9256-bcc07a77ab70"
   },
   "outputs": [],
   "source": [
    "############################\n",
    "# Training Params\n",
    "############################\n",
    "learning_rate = 1e-2\n",
    "epochs = 3 # 20\n",
    "embedding_dim = 128\n",
    "hidden_size = 12\n",
    "\n",
    "# Free up memory\n",
    "tf.keras.backend.clear_session()\n",
    "\n",
    "# Build the model\n",
    "model = build_lstm_residual_connections_model(num_classes,vocabulary_size, embedding_dim, hidden_size)\n",
    "\n",
    "# Print the model architecture\n",
    "print(model.summary())\n",
    "\n",
    "# Optimizer\n",
    "optimizer = tf.keras.optimizers.Adam(learning_rate=learning_rate)\n",
    "# Loss\n",
    "loss = tf.keras.losses.sparse_categorical_crossentropy\n",
    "\n",
    "# Compile\n",
    "model.compile(loss=loss,\n",
    "                  optimizer=optimizer,\n",
    "                  metrics=['accuracy'])\n",
    "\n",
    "# Train model\n",
    "start_time = time.time()\n",
    "training_results = model.fit(\n",
    "        train_data,\n",
    "        validation_data= validation_data,\n",
    "        epochs=epochs, \n",
    "        verbose=1)\n",
    "execution_time = (time.time() - start_time)/60.0\n",
    "print(\"Training execution time (mins)\",execution_time)"
   ]
  },
  {
   "cell_type": "code",
   "execution_count": null,
   "metadata": {
    "id": "MoGs1bSP4DiZ"
   },
   "outputs": [],
   "source": [
    "# Plot training results\n",
    "fig = plt.figure(figsize=(20,5))\n",
    "axs = fig.add_subplot(1,3,1)\n",
    "axs.set_title('Loss')\n",
    "# Plot all metrics\n",
    "for metric in [\"loss\",\"val_loss\"]:\n",
    "    axs.plot(np.arange(0, epochs), training_results.history[metric], label=metric)\n",
    "axs.legend()\n",
    "\n",
    "axs = fig.add_subplot(1,3,2)\n",
    "axs.set_title('Accuracy')\n",
    "# Plot all metrics\n",
    "for metric in [\"accuracy\",\"val_accuracy\"]:\n",
    "    axs.plot(np.arange(0, epochs), training_results.history[metric], label=metric)\n",
    "axs.legend()\n",
    "\n",
    "plt.show()"
   ]
  },
  {
   "cell_type": "markdown",
   "metadata": {
    "id": "BIPA7_lmHNib"
   },
   "source": [
    "**Evaluate**"
   ]
  },
  {
   "cell_type": "code",
   "execution_count": null,
   "metadata": {
    "id": "dohbKwVT4D-5"
   },
   "outputs": [],
   "source": [
    "# Predict on the test set\n",
    "pred = model.predict(validation_data)\n",
    "pred = pred.argmax(axis=1)\n",
    "\n",
    "# Print the classification report comparing the true labels and the predicted ones\n",
    "print(classification_report(validate_processed_y, pred))"
   ]
  },
  {
   "cell_type": "markdown",
   "metadata": {
    "id": "qlSFbedknhnR"
   },
   "source": [
    "## **ELMo and Highway Networks**"
   ]
  },
  {
   "cell_type": "markdown",
   "metadata": {
    "id": "oKmcEiWGq0rB"
   },
   "source": [
    "**Steps:**\n",
    "\n",
    "* Load the IMDB dataset from keras datasets\n",
    "* Split the dataset into train and test data and labels\n",
    "* Define the input and output of the ELMo model\n",
    "* Generate TF Datasets \n",
    "* Define a class HighwayLayer that inherits from tf.keras.layers.Layer to implement the highway network layer\n",
    "* Define an ELMo model with the custom highway layer\n",
    "* Compile and train the ELMo model\n",
    "* Plot the trace plot of the model history\n",
    "* For a sentence in the test dataset, extract both the word embeddings and the contextual embeddings of the sentence by passing it through the trained ELMo model"
   ]
  },
  {
   "cell_type": "markdown",
   "metadata": {
    "id": "HkYc9GyB5SVi"
   },
   "source": [
    "### **Load the data**\n",
    "\n",
    "\n",
    "Load the IMDB dataset"
   ]
  },
  {
   "cell_type": "code",
   "execution_count": 68,
   "metadata": {
    "id": "p3T73Ff8q2Qc"
   },
   "outputs": [],
   "source": [
    "# Use the helper code given to load the IMDB dataset with the following parameters\n",
    "n_words = 2000\n",
    "skip= 100\n",
    "data_train, data_validation = tf.keras.datasets.imdb.load_data(num_words=n_words,skip_top=skip, maxlen=200 )"
   ]
  },
  {
   "cell_type": "code",
   "execution_count": 69,
   "metadata": {
    "id": "xzJyuA-EvRCt"
   },
   "outputs": [
    {
     "name": "stdout",
     "output_type": "stream",
     "text": [
      "data_train input shape: (14244,)\n",
      "data_train output shape: (14244,)\n",
      "data_validation input shape: (14669,)\n",
      "data_validation outout shape: (14669,)\n",
      "Length: 189\n",
      "[2, 194, 1153, 194, 2, 2, 228, 2, 2, 1463, 2, 2, 134, 2, 2, 715, 2, 118, 1634, 2, 394, 2, 2, 119, 954, 189, 102, 2, 207, 110, 2, 2, 2, 2, 188, 2, 2, 2, 2, 2, 249, 126, 2, 2, 114, 2, 2, 1523, 2, 647, 2, 116, 2, 2, 2, 2, 229, 2, 340, 1322, 2, 118, 2, 2, 130, 2, 2, 2, 1002, 2, 2, 2, 952, 2, 2, 2, 455, 2, 2, 2, 2, 1543, 1905, 398, 2, 1649, 2, 2, 2, 163, 2, 2, 2, 2, 1153, 2, 194, 775, 2, 2, 2, 349, 2, 148, 605, 2, 2, 2, 123, 125, 2, 2, 2, 2, 349, 165, 2, 2, 2, 2, 228, 2, 2, 2, 1157, 2, 299, 120, 2, 120, 174, 2, 220, 175, 136, 2, 2, 2, 228, 2, 2, 2, 656, 245, 2, 2, 2, 2, 131, 152, 491, 2, 2, 2, 2, 1212, 2, 2, 2, 371, 2, 2, 625, 2, 1382, 2, 2, 168, 145, 2, 2, 1690, 2, 2, 2, 1355, 2, 2, 2, 2, 154, 462, 2, 2, 2, 285, 2, 145, 2]\n",
      "0\n",
      "Length: 141\n",
      "[2, 2, 2, 2, 2, 2, 2, 2, 249, 108, 2, 2, 2, 2, 2, 369, 2, 2, 149, 2, 2, 112, 2, 2, 311, 2, 2, 2, 2, 2, 2, 1829, 296, 2, 2, 320, 2, 534, 2, 263, 2, 1301, 2, 1873, 2, 2, 2, 2, 2, 2, 2, 360, 2, 2, 2, 316, 334, 2, 2, 1716, 2, 645, 662, 2, 257, 2, 1200, 2, 1228, 2, 2, 2, 2, 2, 2, 165, 1539, 278, 2, 2, 2, 780, 2, 106, 2, 2, 1338, 2, 2, 2, 2, 215, 2, 610, 2, 2, 2, 326, 2, 2, 2, 2, 2, 2, 272, 2, 2, 2, 2, 2, 2, 2, 2, 2, 2, 2, 170, 2, 595, 116, 595, 1352, 2, 191, 2, 638, 2, 2, 2, 2, 2, 106, 607, 624, 2, 534, 2, 227, 2, 129, 113]\n",
      "0\n",
      "Length: 147\n",
      "[2, 249, 1323, 2, 2, 113, 2, 2, 2, 1637, 2, 2, 2, 2, 2, 2, 457, 2, 2, 2, 1400, 2, 2, 2, 2, 2, 2, 706, 919, 2, 2, 355, 340, 355, 1696, 2, 143, 2, 2, 2, 289, 2, 2, 369, 2, 2, 2, 2, 2, 131, 2, 249, 114, 249, 229, 249, 2, 2, 2, 126, 110, 2, 473, 2, 569, 2, 419, 2, 429, 2, 1513, 2, 2, 534, 2, 474, 570, 2, 2, 124, 138, 2, 2, 421, 1543, 2, 725, 2, 2, 419, 2, 2, 1571, 2, 1543, 2, 2, 2, 2, 2, 296, 2, 2, 2, 2, 421, 128, 2, 233, 334, 207, 126, 224, 2, 562, 298, 2, 1272, 2, 2, 2, 516, 988, 2, 2, 2, 120, 2, 595, 2, 784, 2, 2, 2, 165, 170, 143, 2, 2, 2, 2, 2, 226, 251, 2, 2, 113]\n",
      "0\n",
      "Length: 43\n",
      "[2, 778, 128, 2, 2, 630, 163, 2, 2, 1766, 2, 1051, 2, 2, 2, 156, 2, 2, 148, 139, 121, 664, 665, 2, 2, 1361, 173, 2, 749, 2, 2, 2, 2, 2, 226, 2, 2, 2, 127, 2, 2, 2, 2]\n",
      "0\n",
      "Length: 123\n",
      "[2, 2, 365, 1234, 2, 1156, 354, 2, 2, 2, 2, 2, 1016, 2, 2, 356, 2, 2, 1349, 500, 746, 2, 200, 2, 2, 2, 2, 2, 1117, 1831, 2, 2, 2, 2, 2, 2, 2, 2, 369, 2, 215, 1345, 143, 2, 2, 1838, 2, 1974, 2, 2, 119, 257, 2, 2, 486, 2, 2, 2, 2, 2, 271, 2, 196, 2, 949, 2, 2, 2, 2, 2, 2, 2, 819, 2, 2, 2, 2, 180, 2, 227, 2, 2, 2, 2, 2, 423, 2, 168, 2, 2, 2, 2, 2, 665, 2, 270, 2, 2, 2, 197, 2, 161, 2, 2, 2, 2, 2, 2, 419, 665, 2, 2, 2, 108, 2, 2, 2, 2, 2, 2, 2, 2, 1901]\n",
      "1\n"
     ]
    }
   ],
   "source": [
    "print(\"data_train input shape:\",data_train[0].shape)\n",
    "print(\"data_train output shape:\",data_train[1].shape)\n",
    "print(\"data_validation input shape:\",data_validation[0].shape)\n",
    "print(\"data_validation outout shape:\",data_validation[1].shape)\n",
    "\n",
    "# View a training samples\n",
    "for i in range(5):\n",
    "  print(\"Length:\",len(data_train[0][i]))\n",
    "  print(data_train[0][i])\n",
    "  print(data_train[1][i])"
   ]
  },
  {
   "cell_type": "markdown",
   "metadata": {
    "id": "pCB9mxVewed7"
   },
   "source": [
    "Our input sentences are ragged and we will need to handle that in our data pipeleines to feed to the model for training"
   ]
  },
  {
   "cell_type": "code",
   "execution_count": 70,
   "metadata": {
    "id": "YggN3MpJseJt"
   },
   "outputs": [],
   "source": [
    "### Helper code to fix the mapping of the imdb word index\n",
    "index = tf.keras.datasets.imdb.get_word_index()\n",
    "\n",
    "# we need to add 3 from the indices because 0 is 'padding', 1 is 'start of sequence' and 2 is 'unknown'\n",
    "inv_index = { j+3:i for i,j in index.items()}\n",
    "inv_index[0] = \"\"\n",
    "inv_index[1] = \"<s>\"\n",
    "inv_index[2] = \"UNK\""
   ]
  },
  {
   "cell_type": "code",
   "execution_count": 71,
   "metadata": {
    "id": "J9AsfvP_svoy"
   },
   "outputs": [
    {
     "name": "stdout",
     "output_type": "stream",
     "text": [
      "review: UNK big hair big UNK UNK music UNK UNK giant UNK UNK these UNK UNK words UNK best describe UNK terrible UNK UNK love cheesy horror movies UNK i've seen UNK UNK UNK UNK got UNK UNK UNK UNK UNK worst ever UNK UNK plot UNK UNK thin UNK ridiculous UNK acting UNK UNK UNK UNK script UNK completely laughable UNK best UNK UNK end UNK UNK UNK cop UNK UNK UNK worked UNK UNK UNK killer UNK UNK UNK UNK damn terribly written UNK clothes UNK UNK UNK funny UNK UNK UNK UNK hair UNK big lots UNK UNK UNK men UNK those cut UNK UNK UNK show off UNK UNK UNK UNK men actually UNK UNK UNK UNK music UNK UNK UNK trash UNK plays over UNK over again UNK almost every scene UNK UNK UNK music UNK UNK UNK taking away UNK UNK UNK UNK still doesn't close UNK UNK UNK UNK aside UNK UNK UNK truly UNK UNK whose UNK charm UNK UNK look back UNK UNK disaster UNK UNK UNK 80's UNK UNK UNK UNK old laugh UNK UNK UNK everything UNK back UNK\n"
     ]
    }
   ],
   "source": [
    "# Display actual text\n",
    "review = [inv_index[token] for token in data_train[0][0]]\n",
    "print(\"review:\",\" \".join(review))"
   ]
  },
  {
   "cell_type": "markdown",
   "metadata": {
    "id": "cEdWtmmKH4IK"
   },
   "source": [
    "### **Build Data Pipelines**"
   ]
  },
  {
   "cell_type": "markdown",
   "metadata": {
    "id": "nryyOObluLCE"
   },
   "source": [
    "* The data is already preprocessed. \n",
    "* We define the input and target words.\n",
    "\n",
    "* We will predict the next word based on the input."
   ]
  },
  {
   "cell_type": "markdown",
   "metadata": {
    "id": "iexkI1sgucD-"
   },
   "source": [
    "\n",
    "**Generate Training Data**\n",
    "\n",
    "For the training the model we need sentences as inputs and outputs. We will train the models in a semi-supervised way. So the input will be all the words of the sentence, except the last one. The output is all the words of the sentence, except the first one"
   ]
  },
  {
   "cell_type": "code",
   "execution_count": 72,
   "metadata": {
    "id": "bjqGwoVbu5Ji"
   },
   "outputs": [],
   "source": [
    "# Define the input and output of the network for both, the train and test sets\n",
    "# The input is the all the words of the sentence, except the last one\n",
    "# The output is all the words of the sentence, except the first one\n",
    "\n",
    "train_x  = [i[:-1] for i in data_train[0]]\n",
    "train_y = [i[1:] for i in data_train[0]]\n",
    "\n",
    "validation_x  = [i[:-1] for i in data_validation[0]]\n",
    "validation_y = [i[1:] for i in data_validation[0]]"
   ]
  },
  {
   "cell_type": "code",
   "execution_count": 73,
   "metadata": {
    "id": "HABDo8ifujdB"
   },
   "outputs": [
    {
     "name": "stdout",
     "output_type": "stream",
     "text": [
      "\n",
      "Length: 188 [2, 194, 1153, 194, 2, 2, 228, 2, 2, 1463, 2, 2, 134, 2, 2, 715, 2, 118, 1634, 2, 394, 2, 2, 119, 954, 189, 102, 2, 207, 110, 2, 2, 2, 2, 188, 2, 2, 2, 2, 2, 249, 126, 2, 2, 114, 2, 2, 1523, 2, 647, 2, 116, 2, 2, 2, 2, 229, 2, 340, 1322, 2, 118, 2, 2, 130, 2, 2, 2, 1002, 2, 2, 2, 952, 2, 2, 2, 455, 2, 2, 2, 2, 1543, 1905, 398, 2, 1649, 2, 2, 2, 163, 2, 2, 2, 2, 1153, 2, 194, 775, 2, 2, 2, 349, 2, 148, 605, 2, 2, 2, 123, 125, 2, 2, 2, 2, 349, 165, 2, 2, 2, 2, 228, 2, 2, 2, 1157, 2, 299, 120, 2, 120, 174, 2, 220, 175, 136, 2, 2, 2, 228, 2, 2, 2, 656, 245, 2, 2, 2, 2, 131, 152, 491, 2, 2, 2, 2, 1212, 2, 2, 2, 371, 2, 2, 625, 2, 1382, 2, 2, 168, 145, 2, 2, 1690, 2, 2, 2, 1355, 2, 2, 2, 2, 154, 462, 2, 2, 2, 285, 2, 145]\n",
      "Length: 188 [194, 1153, 194, 2, 2, 228, 2, 2, 1463, 2, 2, 134, 2, 2, 715, 2, 118, 1634, 2, 394, 2, 2, 119, 954, 189, 102, 2, 207, 110, 2, 2, 2, 2, 188, 2, 2, 2, 2, 2, 249, 126, 2, 2, 114, 2, 2, 1523, 2, 647, 2, 116, 2, 2, 2, 2, 229, 2, 340, 1322, 2, 118, 2, 2, 130, 2, 2, 2, 1002, 2, 2, 2, 952, 2, 2, 2, 455, 2, 2, 2, 2, 1543, 1905, 398, 2, 1649, 2, 2, 2, 163, 2, 2, 2, 2, 1153, 2, 194, 775, 2, 2, 2, 349, 2, 148, 605, 2, 2, 2, 123, 125, 2, 2, 2, 2, 349, 165, 2, 2, 2, 2, 228, 2, 2, 2, 1157, 2, 299, 120, 2, 120, 174, 2, 220, 175, 136, 2, 2, 2, 228, 2, 2, 2, 656, 245, 2, 2, 2, 2, 131, 152, 491, 2, 2, 2, 2, 1212, 2, 2, 2, 371, 2, 2, 625, 2, 1382, 2, 2, 168, 145, 2, 2, 1690, 2, 2, 2, 1355, 2, 2, 2, 2, 154, 462, 2, 2, 2, 285, 2, 145, 2]\n",
      "\n",
      "Length: 140 [2, 2, 2, 2, 2, 2, 2, 2, 249, 108, 2, 2, 2, 2, 2, 369, 2, 2, 149, 2, 2, 112, 2, 2, 311, 2, 2, 2, 2, 2, 2, 1829, 296, 2, 2, 320, 2, 534, 2, 263, 2, 1301, 2, 1873, 2, 2, 2, 2, 2, 2, 2, 360, 2, 2, 2, 316, 334, 2, 2, 1716, 2, 645, 662, 2, 257, 2, 1200, 2, 1228, 2, 2, 2, 2, 2, 2, 165, 1539, 278, 2, 2, 2, 780, 2, 106, 2, 2, 1338, 2, 2, 2, 2, 215, 2, 610, 2, 2, 2, 326, 2, 2, 2, 2, 2, 2, 272, 2, 2, 2, 2, 2, 2, 2, 2, 2, 2, 2, 170, 2, 595, 116, 595, 1352, 2, 191, 2, 638, 2, 2, 2, 2, 2, 106, 607, 624, 2, 534, 2, 227, 2, 129]\n",
      "Length: 140 [2, 2, 2, 2, 2, 2, 2, 249, 108, 2, 2, 2, 2, 2, 369, 2, 2, 149, 2, 2, 112, 2, 2, 311, 2, 2, 2, 2, 2, 2, 1829, 296, 2, 2, 320, 2, 534, 2, 263, 2, 1301, 2, 1873, 2, 2, 2, 2, 2, 2, 2, 360, 2, 2, 2, 316, 334, 2, 2, 1716, 2, 645, 662, 2, 257, 2, 1200, 2, 1228, 2, 2, 2, 2, 2, 2, 165, 1539, 278, 2, 2, 2, 780, 2, 106, 2, 2, 1338, 2, 2, 2, 2, 215, 2, 610, 2, 2, 2, 326, 2, 2, 2, 2, 2, 2, 272, 2, 2, 2, 2, 2, 2, 2, 2, 2, 2, 2, 170, 2, 595, 116, 595, 1352, 2, 191, 2, 638, 2, 2, 2, 2, 2, 106, 607, 624, 2, 534, 2, 227, 2, 129, 113]\n",
      "\n",
      "Length: 146 [2, 249, 1323, 2, 2, 113, 2, 2, 2, 1637, 2, 2, 2, 2, 2, 2, 457, 2, 2, 2, 1400, 2, 2, 2, 2, 2, 2, 706, 919, 2, 2, 355, 340, 355, 1696, 2, 143, 2, 2, 2, 289, 2, 2, 369, 2, 2, 2, 2, 2, 131, 2, 249, 114, 249, 229, 249, 2, 2, 2, 126, 110, 2, 473, 2, 569, 2, 419, 2, 429, 2, 1513, 2, 2, 534, 2, 474, 570, 2, 2, 124, 138, 2, 2, 421, 1543, 2, 725, 2, 2, 419, 2, 2, 1571, 2, 1543, 2, 2, 2, 2, 2, 296, 2, 2, 2, 2, 421, 128, 2, 233, 334, 207, 126, 224, 2, 562, 298, 2, 1272, 2, 2, 2, 516, 988, 2, 2, 2, 120, 2, 595, 2, 784, 2, 2, 2, 165, 170, 143, 2, 2, 2, 2, 2, 226, 251, 2, 2]\n",
      "Length: 146 [249, 1323, 2, 2, 113, 2, 2, 2, 1637, 2, 2, 2, 2, 2, 2, 457, 2, 2, 2, 1400, 2, 2, 2, 2, 2, 2, 706, 919, 2, 2, 355, 340, 355, 1696, 2, 143, 2, 2, 2, 289, 2, 2, 369, 2, 2, 2, 2, 2, 131, 2, 249, 114, 249, 229, 249, 2, 2, 2, 126, 110, 2, 473, 2, 569, 2, 419, 2, 429, 2, 1513, 2, 2, 534, 2, 474, 570, 2, 2, 124, 138, 2, 2, 421, 1543, 2, 725, 2, 2, 419, 2, 2, 1571, 2, 1543, 2, 2, 2, 2, 2, 296, 2, 2, 2, 2, 421, 128, 2, 233, 334, 207, 126, 224, 2, 562, 298, 2, 1272, 2, 2, 2, 516, 988, 2, 2, 2, 120, 2, 595, 2, 784, 2, 2, 2, 165, 170, 143, 2, 2, 2, 2, 2, 226, 251, 2, 2, 113]\n",
      "\n",
      "Length: 42 [2, 778, 128, 2, 2, 630, 163, 2, 2, 1766, 2, 1051, 2, 2, 2, 156, 2, 2, 148, 139, 121, 664, 665, 2, 2, 1361, 173, 2, 749, 2, 2, 2, 2, 2, 226, 2, 2, 2, 127, 2, 2, 2]\n",
      "Length: 42 [778, 128, 2, 2, 630, 163, 2, 2, 1766, 2, 1051, 2, 2, 2, 156, 2, 2, 148, 139, 121, 664, 665, 2, 2, 1361, 173, 2, 749, 2, 2, 2, 2, 2, 226, 2, 2, 2, 127, 2, 2, 2, 2]\n",
      "\n",
      "Length: 122 [2, 2, 365, 1234, 2, 1156, 354, 2, 2, 2, 2, 2, 1016, 2, 2, 356, 2, 2, 1349, 500, 746, 2, 200, 2, 2, 2, 2, 2, 1117, 1831, 2, 2, 2, 2, 2, 2, 2, 2, 369, 2, 215, 1345, 143, 2, 2, 1838, 2, 1974, 2, 2, 119, 257, 2, 2, 486, 2, 2, 2, 2, 2, 271, 2, 196, 2, 949, 2, 2, 2, 2, 2, 2, 2, 819, 2, 2, 2, 2, 180, 2, 227, 2, 2, 2, 2, 2, 423, 2, 168, 2, 2, 2, 2, 2, 665, 2, 270, 2, 2, 2, 197, 2, 161, 2, 2, 2, 2, 2, 2, 419, 665, 2, 2, 2, 108, 2, 2, 2, 2, 2, 2, 2, 2]\n",
      "Length: 122 [2, 365, 1234, 2, 1156, 354, 2, 2, 2, 2, 2, 1016, 2, 2, 356, 2, 2, 1349, 500, 746, 2, 200, 2, 2, 2, 2, 2, 1117, 1831, 2, 2, 2, 2, 2, 2, 2, 2, 369, 2, 215, 1345, 143, 2, 2, 1838, 2, 1974, 2, 2, 119, 257, 2, 2, 486, 2, 2, 2, 2, 2, 271, 2, 196, 2, 949, 2, 2, 2, 2, 2, 2, 2, 819, 2, 2, 2, 2, 180, 2, 227, 2, 2, 2, 2, 2, 423, 2, 168, 2, 2, 2, 2, 2, 665, 2, 270, 2, 2, 2, 197, 2, 161, 2, 2, 2, 2, 2, 2, 419, 665, 2, 2, 2, 108, 2, 2, 2, 2, 2, 2, 2, 2, 1901]\n"
     ]
    }
   ],
   "source": [
    "# View a few samples\n",
    "for i in range(5):\n",
    "  print(\"\")\n",
    "  print(\"Length:\",len(train_x[i]),train_x[i])\n",
    "  print(\"Length:\",len(train_y[i]),train_y[i])"
   ]
  },
  {
   "cell_type": "markdown",
   "metadata": {
    "id": "FXJA4GpAH_0m"
   },
   "source": [
    "**Create TF Datasets**\n",
    "\n",
    "<p>🛑🛑🛑 &nbsp;&nbsp;<strong><font color=\"green\">🔑 Keys to DNN Kingdom 👑 : TF Data</font></strong>&nbsp;&nbsp;🛑🛑🛑</p>"
   ]
  },
  {
   "cell_type": "code",
   "execution_count": 86,
   "metadata": {
    "id": "D8AKabvwu5Mq"
   },
   "outputs": [
    {
     "name": "stdout",
     "output_type": "stream",
     "text": [
      "train_data <PrefetchDataset element_spec=(TensorSpec(shape=(None, None), dtype=tf.int32, name=None), TensorSpec(shape=(None, None), dtype=tf.int32, name=None))>\n",
      "validation_data <PrefetchDataset element_spec=(TensorSpec(shape=(None, None), dtype=tf.int32, name=None), TensorSpec(shape=(None, None), dtype=tf.int32, name=None))>\n"
     ]
    }
   ],
   "source": [
    "batch_size = 512\n",
    "train_shuffle_buffer_size = len(train_x)\n",
    "validation_shuffle_buffer_size = len(validate_x)\n",
    "\n",
    "def pad(x, y):\n",
    "  return (x.to_tensor(default_value=0, shape=[None, None]), y.to_tensor(default_value=0, shape=[None, None]))\n",
    "\n",
    "# Use tensorflow ragged constants to get the ragged version of data\n",
    "train_processed_x = tf.ragged.constant(train_x)\n",
    "validation_processed_x = tf.ragged.constant(validation_x)\n",
    "train_processed_y = tf.ragged.constant(train_y)\n",
    "validation_processed_y = tf.ragged.constant(validation_y)\n",
    "\n",
    "# Create TF Dataset\n",
    "train_data = tf.data.Dataset.from_tensor_slices((train_processed_x, train_processed_y))\n",
    "validation_data = tf.data.Dataset.from_tensor_slices((validation_processed_x, validation_processed_y))\n",
    "\n",
    "#############\n",
    "# Train data\n",
    "#############\n",
    "# Apply all data processing logic\n",
    "train_data = train_data.shuffle(buffer_size=train_shuffle_buffer_size)\n",
    "train_data = train_data.batch(batch_size)\n",
    "train_data = train_data.map(pad, num_parallel_calls=AUTOTUNE)\n",
    "train_data = train_data.prefetch(AUTOTUNE)\n",
    "\n",
    "##################\n",
    "# Validation data\n",
    "##################\n",
    "# Apply all data processing logic\n",
    "validation_data = validation_data.shuffle(buffer_size=validation_shuffle_buffer_size)\n",
    "validation_data = validation_data.batch(batch_size)\n",
    "validation_data = validation_data.map(pad, num_parallel_calls=AUTOTUNE)\n",
    "validation_data = validation_data.prefetch(AUTOTUNE)\n",
    "\n",
    "print(\"train_data\",train_data)\n",
    "print(\"validation_data\",validation_data)"
   ]
  },
  {
   "cell_type": "code",
   "execution_count": 87,
   "metadata": {
    "id": "iTsUEtbiu5QP"
   },
   "outputs": [
    {
     "name": "stdout",
     "output_type": "stream",
     "text": [
      "(512, 198) (512, 198)\n",
      "Input: tf.Tensor(\n",
      "[   2    2    2    2    2    2 1930  503    2    2  372    2    2 1930\n",
      "    2    2    2  328    2  549    2  433  377    2  503  681 1025    2\n",
      "    2  681    2    2    2    2    2    2    2  131    2    2    2    2\n",
      "    2    2  567  503    2    2    2  236  155  372  842  159    2    2\n",
      "    2    2    2    2    2  232    2    2  567    2    2  772    2 1101\n",
      "    2  567  934    2    2  203    2    2  992  232  269    2 1108    2\n",
      "  255    2    2    2    2    2  481    2    2    2    2    2    2    2\n",
      "    2    2  428  493    2    2  311  743    2    2    2  137    2  379\n",
      "  117    2  428  372    2    2    2    2    2    2  499  695    2    2\n",
      "    2    2    2    2    2  255    2    2    2    2    2    2  152  264\n",
      "    2 1425  879    2    2    2  216    2    2  475    2    2  181  372\n",
      "    2    2    2  879    2    2  503    2    2    2    2    2    2    2\n",
      "    2  194    2    2    2    2    2    2    2  104  879    2    2    2\n",
      "    2  349    2  595    2    0    0    0    0    0    0    0    0    0\n",
      "    0    0], shape=(198,), dtype=int32)\n",
      "Output: tf.Tensor(\n",
      "[   2    2    2    2    2 1930  503    2    2  372    2    2 1930    2\n",
      "    2    2  328    2  549    2  433  377    2  503  681 1025    2    2\n",
      "  681    2    2    2    2    2    2    2  131    2    2    2    2    2\n",
      "    2  567  503    2    2    2  236  155  372  842  159    2    2    2\n",
      "    2    2    2    2  232    2    2  567    2    2  772    2 1101    2\n",
      "  567  934    2    2  203    2    2  992  232  269    2 1108    2  255\n",
      "    2    2    2    2    2  481    2    2    2    2    2    2    2    2\n",
      "    2  428  493    2    2  311  743    2    2    2  137    2  379  117\n",
      "    2  428  372    2    2    2    2    2    2  499  695    2    2    2\n",
      "    2    2    2    2  255    2    2    2    2    2    2  152  264    2\n",
      " 1425  879    2    2    2  216    2    2  475    2    2  181  372    2\n",
      "    2    2  879    2    2  503    2    2    2    2    2    2    2    2\n",
      "  194    2    2    2    2    2    2    2  104  879    2    2    2    2\n",
      "  349    2  595    2  372    0    0    0    0    0    0    0    0    0\n",
      "    0    0], shape=(198,), dtype=int32)\n"
     ]
    }
   ],
   "source": [
    "# View some data from tf dataset\n",
    "for input,output in train_data.take(1):\n",
    "  print(input.shape,output.shape)\n",
    "  \n",
    "  print(\"Input:\",input[0])\n",
    "  print(\"Output:\",output[0])\n",
    "  # print(\"****************\")\n",
    "  # print(\"Input:\",input[1])\n",
    "  # print(\"Output:\",output[1])"
   ]
  },
  {
   "cell_type": "markdown",
   "metadata": {
    "id": "h9J0amoF6f6U"
   },
   "source": [
    "### **ELMo Model 🎊🎉**\n",
    "\n",
    "Now Build the ELMo model to extract embeddings"
   ]
  },
  {
   "cell_type": "markdown",
   "metadata": {
    "id": "5okacC9tQGk0"
   },
   "source": [
    "**Custom Highway Network Layer**\n",
    "\n",
    "\n",
    "<p>🛑🛑🛑 &nbsp;&nbsp;<strong><font color=\"green\">🔑 Keys to DNN Kingdom 👑 : Custom Layer</font></strong>&nbsp;&nbsp;🛑🛑🛑</p>"
   ]
  },
  {
   "cell_type": "markdown",
   "metadata": {
    "id": "1h_0esZsy6ie"
   },
   "source": [
    "\n",
    "\n",
    "You should include a highway connection between the layers of the LSTM. Keras doesn't have it by default.\n",
    "\n",
    "Remember that a highway network is written as:\n",
    "$$x = z \\odot T +r \\odot C$$\n",
    "Where $r$ is the output of the previous layer, $z$ the result of a dense layer applied to $r$, $T$ and $C$ the Transform gate and Carry gate, respectively.\n",
    "\n",
    "For simplicity, we assume that $C$ = $1-T$. Then, the highway network is:\n",
    "\\begin{align}\n",
    "x &= z \\odot T +r \\odot (1-T) \\\\\n",
    "&= z \\odot T -r \\odot T+ r \\\\\n",
    "&= (z -r)\\odot T + r \n",
    "\\end{align}\n",
    "$$ $$\n",
    "To create a the highway network, we create the $T$ vector to multiplicate each value of the input.\n",
    "\n",
    "\n",
    "Note that we add self.supports_masking = True to support masking. This attribute ensures that the layer will propagate its input mask to its outputs; masking in Keras is by default False. \n",
    "\n",
    "**<font color='red'>Activity</font> 🎊🎉** "
   ]
  },
  {
   "cell_type": "code",
   "execution_count": 88,
   "metadata": {
    "id": "ZKRe1zPVzAq_"
   },
   "outputs": [],
   "source": [
    "# Define a class that builds the custom layer for the highway network\n",
    "# This will implement the equation presented above\n",
    "\n",
    "class HighwayLayer(tf.keras.layers.Layer):\n",
    "    def __init__(self):\n",
    "      super(HighwayLayer, self).__init__()\n",
    "      self.supports_masking = ___\n",
    "    \n",
    "    # The __call__() method of your layer will automatically run build the first time it is called\n",
    "    def build(self, input_shape):\n",
    "      # Create the state of the layer (weights)\n",
    "      # Define a tf.Variable using tf.random_normal_initializer with mean=0.0 and stddev=0.05, shape=[1,input_shape[-1]\n",
    "      # Make sure to set tge trainable=True for the tf.Variable\n",
    "      self.T = ___     \n",
    "\n",
    "    def call(self, z, r):\n",
    "      # compute the highway network output as show above\n",
    "      return ___\n"
   ]
  },
  {
   "cell_type": "markdown",
   "metadata": {
    "id": "pxV_vivI-lFe"
   },
   "source": [
    "**Solution**"
   ]
  },
  {
   "cell_type": "code",
   "execution_count": 89,
   "metadata": {
    "id": "JgjgNbEUEOgL"
   },
   "outputs": [],
   "source": [
    "##display_solution(\"https://storage.googleapis.com/public-code-snippets/cs109b_lab9_activity3.txt\")"
   ]
  },
  {
   "cell_type": "markdown",
   "metadata": {
    "id": "bxQ8zsY1IesN"
   },
   "source": [
    "**Build Model**\n",
    "\n",
    "<p>🛑🛑🛑 &nbsp;&nbsp;<strong><font color=\"green\">🔑 Keys to DNN Kingdom 👑 : Model using functional API</font></strong>&nbsp;&nbsp;🛑🛑🛑</p>"
   ]
  },
  {
   "cell_type": "code",
   "execution_count": 90,
   "metadata": {
    "id": "Y469dIsB6sGy"
   },
   "outputs": [],
   "source": [
    "def build_model(vocab_size,embedding_dim,hidden_size):\n",
    "  # Model input\n",
    "  model_input = tf.keras.Input(shape=(None,), name='sentence_input')\n",
    "\n",
    "  # Embedding\n",
    "  embedding = tf.keras.layers.Embedding(input_dim=vocab_size+1, output_dim=embedding_dim, \n",
    "                        name='embedding', mask_zero=True)(model_input)\n",
    "\n",
    "  # LSTM layer\n",
    "  r = tf.keras.layers.LSTM(units=hidden_size, return_sequences=True, name=\"r\")(embedding)\n",
    "  z = tf.keras.layers.Dense(units=hidden_size,name=\"z\")(r)\n",
    "\n",
    "  # Highway\n",
    "  h1_hw = HighwayLayer()(z,r)\n",
    "\n",
    "  h2 = tf.keras.layers.LSTM(units=hidden_size, return_sequences=True, name=\"h2\")(h1_hw)\n",
    "\n",
    "  # Output Layer\n",
    "  output = tf.keras.layers.Dense(units=vocab_size+1, activation='softmax', name='softmax_layer')(h2)\n",
    "\n",
    "  # Create model\n",
    "  model = tf.keras.Model(inputs=model_input, outputs=output)\n",
    "\n",
    "  # Create Toy ELMo model\n",
    "  toy_ELMo = tf.keras.Model(inputs=model_input, outputs=[embedding,h2], name='Toy_ELMo')\n",
    "\n",
    "  return model, toy_ELMo"
   ]
  },
  {
   "cell_type": "markdown",
   "metadata": {
    "id": "kqG9wlHCHX_E"
   },
   "source": [
    "**Train**"
   ]
  },
  {
   "cell_type": "code",
   "execution_count": 83,
   "metadata": {
    "id": "-srEwEZyK2X-"
   },
   "outputs": [
    {
     "ename": "ValueError",
     "evalue": "The truth value of a DataFrame is ambiguous. Use a.empty, a.bool(), a.item(), a.any() or a.all().",
     "output_type": "error",
     "traceback": [
      "\u001b[0;31m---------------------------------------------------------------------------\u001b[0m",
      "\u001b[0;31mValueError\u001b[0m                                Traceback (most recent call last)",
      "Input \u001b[0;32mIn [83]\u001b[0m, in \u001b[0;36m<cell line: 14>\u001b[0;34m()\u001b[0m\n\u001b[1;32m     11\u001b[0m tf\u001b[38;5;241m.\u001b[39mkeras\u001b[38;5;241m.\u001b[39mbackend\u001b[38;5;241m.\u001b[39mclear_session()\n\u001b[1;32m     13\u001b[0m \u001b[38;5;66;03m# Build the model\u001b[39;00m\n\u001b[0;32m---> 14\u001b[0m model, toy_ELMo \u001b[38;5;241m=\u001b[39m \u001b[43mbuild_model\u001b[49m\u001b[43m(\u001b[49m\u001b[43mvocabulary_size\u001b[49m\u001b[43m,\u001b[49m\u001b[43m \u001b[49m\u001b[43membedding_dim\u001b[49m\u001b[43m,\u001b[49m\u001b[43m \u001b[49m\u001b[43mhidden_size\u001b[49m\u001b[43m)\u001b[49m\n\u001b[1;32m     16\u001b[0m \u001b[38;5;66;03m# Print the model architecture\u001b[39;00m\n\u001b[1;32m     17\u001b[0m \u001b[38;5;28mprint\u001b[39m(model\u001b[38;5;241m.\u001b[39msummary())\n",
      "Input \u001b[0;32mIn [82]\u001b[0m, in \u001b[0;36mbuild_model\u001b[0;34m(vocab_size, embedding_dim, hidden_size)\u001b[0m\n\u001b[1;32m     11\u001b[0m z \u001b[38;5;241m=\u001b[39m tf\u001b[38;5;241m.\u001b[39mkeras\u001b[38;5;241m.\u001b[39mlayers\u001b[38;5;241m.\u001b[39mDense(units\u001b[38;5;241m=\u001b[39mhidden_size,name\u001b[38;5;241m=\u001b[39m\u001b[38;5;124m\"\u001b[39m\u001b[38;5;124mz\u001b[39m\u001b[38;5;124m\"\u001b[39m)(r)\n\u001b[1;32m     13\u001b[0m \u001b[38;5;66;03m# Highway\u001b[39;00m\n\u001b[0;32m---> 14\u001b[0m h1_hw \u001b[38;5;241m=\u001b[39m \u001b[43mHighwayLayer\u001b[49m\u001b[43m(\u001b[49m\u001b[43m)\u001b[49m\u001b[43m(\u001b[49m\u001b[43mz\u001b[49m\u001b[43m,\u001b[49m\u001b[43mr\u001b[49m\u001b[43m)\u001b[49m\n\u001b[1;32m     16\u001b[0m h2 \u001b[38;5;241m=\u001b[39m tf\u001b[38;5;241m.\u001b[39mkeras\u001b[38;5;241m.\u001b[39mlayers\u001b[38;5;241m.\u001b[39mLSTM(units\u001b[38;5;241m=\u001b[39mhidden_size, return_sequences\u001b[38;5;241m=\u001b[39m\u001b[38;5;28;01mTrue\u001b[39;00m, name\u001b[38;5;241m=\u001b[39m\u001b[38;5;124m\"\u001b[39m\u001b[38;5;124mh2\u001b[39m\u001b[38;5;124m\"\u001b[39m)(h1_hw)\n\u001b[1;32m     18\u001b[0m \u001b[38;5;66;03m# Output Layer\u001b[39;00m\n",
      "File \u001b[0;32m/opt/conda/envs/tensorflow/lib/python3.10/site-packages/keras/utils/traceback_utils.py:67\u001b[0m, in \u001b[0;36mfilter_traceback.<locals>.error_handler\u001b[0;34m(*args, **kwargs)\u001b[0m\n\u001b[1;32m     65\u001b[0m \u001b[38;5;28;01mexcept\u001b[39;00m \u001b[38;5;167;01mException\u001b[39;00m \u001b[38;5;28;01mas\u001b[39;00m e:  \u001b[38;5;66;03m# pylint: disable=broad-except\u001b[39;00m\n\u001b[1;32m     66\u001b[0m   filtered_tb \u001b[38;5;241m=\u001b[39m _process_traceback_frames(e\u001b[38;5;241m.\u001b[39m__traceback__)\n\u001b[0;32m---> 67\u001b[0m   \u001b[38;5;28;01mraise\u001b[39;00m e\u001b[38;5;241m.\u001b[39mwith_traceback(filtered_tb) \u001b[38;5;28;01mfrom\u001b[39;00m \u001b[38;5;28mNone\u001b[39m\n\u001b[1;32m     68\u001b[0m \u001b[38;5;28;01mfinally\u001b[39;00m:\n\u001b[1;32m     69\u001b[0m   \u001b[38;5;28;01mdel\u001b[39;00m filtered_tb\n",
      "File \u001b[0;32m/opt/conda/envs/tensorflow/lib/python3.10/site-packages/pandas/core/generic.py:1527\u001b[0m, in \u001b[0;36mNDFrame.__nonzero__\u001b[0;34m(self)\u001b[0m\n\u001b[1;32m   1525\u001b[0m \u001b[38;5;129m@final\u001b[39m\n\u001b[1;32m   1526\u001b[0m \u001b[38;5;28;01mdef\u001b[39;00m \u001b[38;5;21m__nonzero__\u001b[39m(\u001b[38;5;28mself\u001b[39m):\n\u001b[0;32m-> 1527\u001b[0m     \u001b[38;5;28;01mraise\u001b[39;00m \u001b[38;5;167;01mValueError\u001b[39;00m(\n\u001b[1;32m   1528\u001b[0m         \u001b[38;5;124mf\u001b[39m\u001b[38;5;124m\"\u001b[39m\u001b[38;5;124mThe truth value of a \u001b[39m\u001b[38;5;132;01m{\u001b[39;00m\u001b[38;5;28mtype\u001b[39m(\u001b[38;5;28mself\u001b[39m)\u001b[38;5;241m.\u001b[39m\u001b[38;5;18m__name__\u001b[39m\u001b[38;5;132;01m}\u001b[39;00m\u001b[38;5;124m is ambiguous. \u001b[39m\u001b[38;5;124m\"\u001b[39m\n\u001b[1;32m   1529\u001b[0m         \u001b[38;5;124m\"\u001b[39m\u001b[38;5;124mUse a.empty, a.bool(), a.item(), a.any() or a.all().\u001b[39m\u001b[38;5;124m\"\u001b[39m\n\u001b[1;32m   1530\u001b[0m     )\n",
      "\u001b[0;31mValueError\u001b[0m: The truth value of a DataFrame is ambiguous. Use a.empty, a.bool(), a.item(), a.any() or a.all()."
     ]
    }
   ],
   "source": [
    "############################\n",
    "# Training Params\n",
    "############################\n",
    "learning_rate = 5e-2\n",
    "epochs = 10\n",
    "embedding_dim = 32\n",
    "hidden_size = 10\n",
    "vocabulary_size = n_words\n",
    "\n",
    "# Free up memory\n",
    "tf.keras.backend.clear_session()\n",
    "\n",
    "# Build the model\n",
    "model, toy_ELMo = build_model(vocabulary_size, embedding_dim, hidden_size)\n",
    "\n",
    "# Print the model architecture\n",
    "print(model.summary())\n",
    "\n",
    "# Optimizer\n",
    "optimizer = tf.keras.optimizers.Adam(learning_rate=learning_rate)\n",
    "# Loss\n",
    "loss = tf.keras.losses.sparse_categorical_crossentropy\n",
    "\n",
    "# Compile\n",
    "model.compile(loss=loss,\n",
    "                  optimizer=optimizer,\n",
    "                  metrics=['accuracy'])\n",
    "\n",
    "# Train model\n",
    "start_time = time.time()\n",
    "training_results = model.fit(\n",
    "        train_data,\n",
    "        validation_data= validation_data,\n",
    "        epochs=epochs, \n",
    "        verbose=1)\n",
    "execution_time = (time.time() - start_time)/60.0\n",
    "print(\"Training execution time (mins)\",execution_time)"
   ]
  },
  {
   "cell_type": "markdown",
   "metadata": {
    "id": "TRXolz0ez5_d"
   },
   "source": [
    "Plot Training Metrics"
   ]
  },
  {
   "cell_type": "code",
   "execution_count": null,
   "metadata": {
    "id": "RmyQL9pXLSg6"
   },
   "outputs": [],
   "source": [
    "# Plot training results\n",
    "fig = plt.figure(figsize=(20,5))\n",
    "axs = fig.add_subplot(1,3,1)\n",
    "axs.set_title('Loss')\n",
    "# Plot all metrics\n",
    "for metric in [\"loss\",\"val_loss\"]:\n",
    "    axs.plot(np.arange(0, epochs), training_results.history[metric], label=metric)\n",
    "axs.legend()\n",
    "\n",
    "axs = fig.add_subplot(1,3,2)\n",
    "axs.set_title('Accuracy')\n",
    "# Plot all metrics\n",
    "for metric in [\"accuracy\",\"val_accuracy\"]:\n",
    "    axs.plot(np.arange(0, epochs), training_results.history[metric], label=metric)\n",
    "axs.legend()\n",
    "\n",
    "plt.show()"
   ]
  },
  {
   "cell_type": "markdown",
   "metadata": {
    "id": "1Vcp3rBB0ICe"
   },
   "source": [
    "### Extract embedding of a sentence\n",
    "\n",
    "We can extract the word embeddings. For an arbitrary sentence, we extract the word embedding."
   ]
  },
  {
   "cell_type": "code",
   "execution_count": 84,
   "metadata": {
    "id": "Vnd8lOUq0IcR"
   },
   "outputs": [
    {
     "name": "stdout",
     "output_type": "stream",
     "text": [
      "(512, 198) (512, 198)\n"
     ]
    }
   ],
   "source": [
    "# View some data from tf dataset\n",
    "for batch in validation_data.take(1):\n",
    "  input, output = batch\n",
    "  print(input.shape,output.shape)"
   ]
  },
  {
   "cell_type": "code",
   "execution_count": 85,
   "metadata": {
    "id": "_lQDOOC3wOTu"
   },
   "outputs": [
    {
     "ename": "NameError",
     "evalue": "name 'toy_ELMo' is not defined",
     "output_type": "error",
     "traceback": [
      "\u001b[0;31m---------------------------------------------------------------------------\u001b[0m",
      "\u001b[0;31mNameError\u001b[0m                                 Traceback (most recent call last)",
      "Input \u001b[0;32mIn [85]\u001b[0m, in \u001b[0;36m<cell line: 2>\u001b[0;34m()\u001b[0m\n\u001b[1;32m      1\u001b[0m \u001b[38;5;66;03m# Pass the input through the toy elmo model\u001b[39;00m\n\u001b[0;32m----> 2\u001b[0m model_outputs \u001b[38;5;241m=\u001b[39m \u001b[43mtoy_ELMo\u001b[49m(\u001b[38;5;28minput\u001b[39m)\n\u001b[1;32m      3\u001b[0m \u001b[38;5;28mprint\u001b[39m(\u001b[38;5;124m\"\u001b[39m\u001b[38;5;124mmodel_outputs\u001b[39m\u001b[38;5;124m\"\u001b[39m,\u001b[38;5;28mlen\u001b[39m(model_outputs))\n\u001b[1;32m      5\u001b[0m \u001b[38;5;66;03m# Unpack the outputs\u001b[39;00m\n",
      "\u001b[0;31mNameError\u001b[0m: name 'toy_ELMo' is not defined"
     ]
    }
   ],
   "source": [
    "# Pass the input through the toy elmo model\n",
    "model_outputs = toy_ELMo(input)\n",
    "print(\"model_outputs\",len(model_outputs))\n",
    "\n",
    "# Unpack the outputs\n",
    "embedding,h2 = model_outputs\n",
    "\n",
    "print(\"embedding:\",embedding.shape)\n",
    "print(embedding[0])\n",
    "print(\"h2:\",h2.shape)\n",
    "print(h2[0])"
   ]
  },
  {
   "cell_type": "markdown",
   "metadata": {
    "id": "WTagrYvswKBU"
   },
   "source": [
    "## **Using TensorBoard in Colab**"
   ]
  },
  {
   "cell_type": "markdown",
   "metadata": {
    "id": "Q2pP6SCKwQBP"
   },
   "source": [
    "Load the extension"
   ]
  },
  {
   "cell_type": "code",
   "execution_count": null,
   "metadata": {
    "id": "idLq6bCzwRt8"
   },
   "outputs": [],
   "source": [
    "# Load the TensorBoard notebook extension\n",
    "%load_ext tensorboard"
   ]
  },
  {
   "cell_type": "markdown",
   "metadata": {
    "id": "C08288NMwf8F"
   },
   "source": [
    "Download some data"
   ]
  },
  {
   "cell_type": "code",
   "execution_count": null,
   "metadata": {
    "id": "j-XUGvqEwiJT"
   },
   "outputs": [],
   "source": [
    "fashion_mnist = tf.keras.datasets.fashion_mnist\n",
    "\n",
    "(x_train, y_train),(x_validation, y_validation) = fashion_mnist.load_data()\n",
    "x_train, x_validation = x_train / 255.0, x_validation / 255.0"
   ]
  },
  {
   "cell_type": "markdown",
   "metadata": {
    "id": "offKRi4Bwn3k"
   },
   "source": [
    "Creat a simple model"
   ]
  },
  {
   "cell_type": "code",
   "execution_count": null,
   "metadata": {
    "id": "U5RKTUmqwpyq"
   },
   "outputs": [],
   "source": [
    "def create_model():\n",
    "  return tf.keras.models.Sequential([\n",
    "    tf.keras.layers.Flatten(input_shape=(28, 28)),\n",
    "    tf.keras.layers.Dense(512, activation='relu'),\n",
    "    tf.keras.layers.Dropout(0.2),\n",
    "    tf.keras.layers.Dense(10, activation='softmax')\n",
    "  ])"
   ]
  },
  {
   "cell_type": "markdown",
   "metadata": {
    "id": "0x74j9iCx-Ab"
   },
   "source": [
    "Start TensorBoard"
   ]
  },
  {
   "cell_type": "code",
   "execution_count": null,
   "metadata": {
    "id": "_lagKQqXx-f8"
   },
   "outputs": [],
   "source": [
    "%tensorboard --logdir logs"
   ]
  },
  {
   "cell_type": "markdown",
   "metadata": {
    "id": "mQ0nguizwsC3"
   },
   "source": [
    "Train the model using the Tensorboard checkpoint callback"
   ]
  },
  {
   "cell_type": "code",
   "execution_count": null,
   "metadata": {
    "id": "Rlfom8H4wrZ9"
   },
   "outputs": [],
   "source": [
    "############################\n",
    "# Training Params\n",
    "############################\n",
    "learning_rate=0.001\n",
    "epochs = 10\n",
    "hidden_size = 10\n",
    "\n",
    "# Free up memory\n",
    "tf.keras.backend.clear_session()\n",
    "\n",
    "# Build the model\n",
    "model = create_model()\n",
    "\n",
    "# Print the model architecture\n",
    "print(model.summary())\n",
    "\n",
    "# Optimizer\n",
    "optimizer = tf.keras.optimizers.Adam(learning_rate=learning_rate)\n",
    "# Loss\n",
    "loss = tf.keras.losses.sparse_categorical_crossentropy\n",
    "\n",
    "# Compile\n",
    "model.compile(loss=loss,\n",
    "                  optimizer=optimizer,\n",
    "                  metrics=['accuracy'])\n",
    "\n",
    "# Callbacks\n",
    "logdir = os.path.join(\"logs\", datetime.datetime.now().strftime(\"%Y%m%d-%H%M%S\"))\n",
    "tensorboard_callback = tf.keras.callbacks.TensorBoard(logdir, histogram_freq=1)\n",
    "callbacks = [tensorboard_callback]\n",
    "\n",
    "# Train model\n",
    "start_time = time.time()\n",
    "training_results = model.fit(\n",
    "        x=x_train,\n",
    "        y=y_train,\n",
    "        validation_data= (x_validation, y_validation),\n",
    "        epochs=epochs,\n",
    "        callbacks=callbacks,\n",
    "        verbose=1)\n",
    "execution_time = (time.time() - start_time)/60.0\n",
    "print(\"Training execution time (mins)\",execution_time)"
   ]
  }
 ],
 "metadata": {
  "accelerator": "GPU",
  "colab": {
   "collapsed_sections": [],
   "machine_shape": "hm",
   "name": "cs109b_lab9.ipynb",
   "provenance": [],
   "toc_visible": true
  },
  "kernelspec": {
   "display_name": "Python3 (default - all except pytorch)",
   "language": "python",
   "name": "python3"
  },
  "language_info": {
   "codemirror_mode": {
    "name": "ipython",
    "version": 3
   },
   "file_extension": ".py",
   "mimetype": "text/x-python",
   "name": "python",
   "nbconvert_exporter": "python",
   "pygments_lexer": "ipython3",
   "version": "3.10.4"
  }
 },
 "nbformat": 4,
 "nbformat_minor": 1
}
