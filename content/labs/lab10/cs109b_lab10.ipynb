{
 "cells": [
  {
   "cell_type": "markdown",
   "metadata": {
    "id": "RTwjswBgwh9C"
   },
   "source": [
    "# <img style=\"float: left; padding-right: 10px; width: 45px\" src=\"https://raw.githubusercontent.com/Harvard-IACS/2018-CS109A/master/content/styles/iacs.png\"> CS109B Introduction to Data Science\n",
    "\n",
    "## Lab 10: Attention, Self-Attention, Transformers, Text Classification using Language Models \n",
    "\n",
    "**Harvard University**<br/>\n",
    "**Spring 2022**<br/>\n",
    "**Instructors**: Mark Glickman & Pavlos Protopapas<br/>\n",
    "**Authors**: Shivas Jayaram\n",
    "\n",
    "<br/>\n",
    "---\n"
   ]
  },
  {
   "cell_type": "markdown",
   "metadata": {
    "id": "qjXBHdlVxdwT"
   },
   "source": [
    "## Learning Objectives\n",
    "\n",
    "By the end of this Lab, you will understand:\n",
    "* How **Attention** works in Sequence to Sequence models\n",
    "* **Self-Attention** and the **Transformer** architecture\n",
    "* An **end-to-end** deep learning experiment tracking for a **Text Classification** task using **Language Models** including **BERT** (Bidirectional Encoder Representations from Transformers)\n",
    "* **Extras**: How to use **GPT2**(Generative Pre-Training) for language generation tasks and how to fine-tune on a custom dataset \n"
   ]
  },
  {
   "cell_type": "markdown",
   "metadata": {
    "id": "Zor_Wr8Vxkfz"
   },
   "source": [
    "<a id=\"contents\"></a>\n",
    "\n",
    "## Notebook Contents\n",
    "\n",
    "- [**Sequence to Sequence with Attention**](#attention)\n",
    "- [**Self-Attention & Transformers**](#transformers)   \n",
    "- [**Text Classification using Language Models**](#classification) \n",
    "- [**Text Generation using GPT2**](#gpt)      "
   ]
  },
  {
   "cell_type": "markdown",
   "metadata": {
    "id": "RAM_-TzxyEm8"
   },
   "source": [
    "## **<font color=\"#A41034\">Setup Notebook</font>**"
   ]
  },
  {
   "cell_type": "markdown",
   "metadata": {
    "id": "ACbN62IyVQD4"
   },
   "source": [
    "**Installs**\n",
    "\n",
    "We will install Huggingface’s transformers library. This library let us import a wide range of transformer-based pre-trained models. In our case, we will use BERT & GPT2."
   ]
  },
  {
   "cell_type": "code",
   "execution_count": 1,
   "metadata": {
    "colab": {
     "base_uri": "https://localhost:8080/"
    },
    "id": "go9Xw58SVR2K",
    "outputId": "8166a570-a45c-4364-b491-a77edf180b3f"
   },
   "outputs": [
    {
     "name": "stdout",
     "output_type": "stream",
     "text": [
      "Defaulting to user installation because normal site-packages is not writeable\n",
      "Requirement already satisfied: transformers in /home/u_61397728/.local/lib/python3.10/site-packages (4.18.0)\n",
      "Requirement already satisfied: tokenizers!=0.11.3,<0.13,>=0.11.1 in /home/u_61397728/.local/lib/python3.10/site-packages (from transformers) (0.12.1)\n",
      "Requirement already satisfied: requests in /opt/conda/lib/python3.10/site-packages (from transformers) (2.27.1)\n",
      "Requirement already satisfied: packaging>=20.0 in /opt/conda/lib/python3.10/site-packages (from transformers) (21.3)\n",
      "Requirement already satisfied: sacremoses in /home/u_61397728/.local/lib/python3.10/site-packages (from transformers) (0.0.49)\n",
      "Requirement already satisfied: huggingface-hub<1.0,>=0.1.0 in /home/u_61397728/.local/lib/python3.10/site-packages (from transformers) (0.5.1)\n",
      "Requirement already satisfied: filelock in /home/u_61397728/.local/lib/python3.10/site-packages (from transformers) (3.6.0)\n",
      "Requirement already satisfied: tqdm>=4.27 in /opt/conda/lib/python3.10/site-packages (from transformers) (4.62.3)\n",
      "Requirement already satisfied: numpy>=1.17 in /home/u_61397728/.local/lib/python3.10/site-packages (from transformers) (1.22.3)\n",
      "Requirement already satisfied: pyyaml>=5.1 in /home/u_61397728/.local/lib/python3.10/site-packages (from transformers) (6.0)\n",
      "Requirement already satisfied: regex!=2019.12.17 in /home/u_61397728/.local/lib/python3.10/site-packages (from transformers) (2022.3.15)\n",
      "Requirement already satisfied: typing-extensions>=3.7.4.3 in /home/u_61397728/.local/lib/python3.10/site-packages (from huggingface-hub<1.0,>=0.1.0->transformers) (4.1.1)\n",
      "Requirement already satisfied: pyparsing!=3.0.5,>=2.0.2 in /opt/conda/lib/python3.10/site-packages (from packaging>=20.0->transformers) (3.0.7)\n",
      "Requirement already satisfied: idna<4,>=2.5 in /opt/conda/lib/python3.10/site-packages (from requests->transformers) (3.3)\n",
      "Requirement already satisfied: urllib3<1.27,>=1.21.1 in /opt/conda/lib/python3.10/site-packages (from requests->transformers) (1.26.8)\n",
      "Requirement already satisfied: charset-normalizer~=2.0.0 in /opt/conda/lib/python3.10/site-packages (from requests->transformers) (2.0.12)\n",
      "Requirement already satisfied: certifi>=2017.4.17 in /opt/conda/lib/python3.10/site-packages (from requests->transformers) (2021.10.8)\n",
      "Requirement already satisfied: click in /home/u_61397728/.local/lib/python3.10/site-packages (from sacremoses->transformers) (8.1.2)\n",
      "Requirement already satisfied: six in /opt/conda/lib/python3.10/site-packages (from sacremoses->transformers) (1.16.0)\n",
      "Requirement already satisfied: joblib in /home/u_61397728/.local/lib/python3.10/site-packages (from sacremoses->transformers) (1.1.0)\n"
     ]
    }
   ],
   "source": [
    "!pip install transformers"
   ]
  },
  {
   "cell_type": "markdown",
   "metadata": {
    "id": "kjgnOSl9yP_4"
   },
   "source": [
    "**Imports**"
   ]
  },
  {
   "cell_type": "code",
   "execution_count": 1,
   "metadata": {
    "id": "pG8QANQO9azD"
   },
   "outputs": [
    {
     "name": "stderr",
     "output_type": "stream",
     "text": [
      "/opt/conda/envs/tensorflow/lib/python3.10/site-packages/tqdm/auto.py:22: TqdmWarning: IProgress not found. Please update jupyter and ipywidgets. See https://ipywidgets.readthedocs.io/en/stable/user_install.html\n",
      "  from .autonotebook import tqdm as notebook_tqdm\n"
     ]
    }
   ],
   "source": [
    "# Import necessary libraries\n",
    "import os\n",
    "import time\n",
    "import datetime\n",
    "import requests\n",
    "import json\n",
    "import re\n",
    "import random\n",
    "from glob import glob\n",
    "import numpy as np\n",
    "import pandas as pd\n",
    "import matplotlib.pyplot as plt\n",
    "import matplotlib.cm as cm\n",
    "%matplotlib inline\n",
    "\n",
    "# Tensorflow\n",
    "import tensorflow as tf\n",
    "from tensorflow.python.keras import backend as K\n",
    "from tensorflow.python.keras.utils.layer_utils import count_params\n",
    "\n",
    "# sklearn\n",
    "from sklearn.model_selection import train_test_split\n",
    "\n",
    "# Transformers\n",
    "from transformers import BertTokenizer, TFBertForSequenceClassification, BertConfig\n",
    "from transformers import GPT2Tokenizer, TFGPT2LMHeadModel, GPT2Config"
   ]
  },
  {
   "cell_type": "markdown",
   "metadata": {
    "id": "3WYZljtMyXnC"
   },
   "source": [
    "**Verify Setup**"
   ]
  },
  {
   "cell_type": "markdown",
   "metadata": {
    "id": "17RkYjSxyaae"
   },
   "source": [
    "It is a good practice to verify what version of TensorFlow & Keras you are using. Also verify if GPU is enabled and what GPU you have. Run the following cells to check the version of TensorFlow\n",
    "\n",
    "References:\n",
    "- [Eager Execution](https://www.tensorflow.org/guide/eager)\n",
    "- [Data Performance](https://www.tensorflow.org/guide/data_performance)"
   ]
  },
  {
   "cell_type": "code",
   "execution_count": 2,
   "metadata": {
    "colab": {
     "base_uri": "https://localhost:8080/"
    },
    "id": "6PBpsXEayaxu",
    "outputId": "3a92929d-b315-42df-ed5d-41c37ab52cbc"
   },
   "outputs": [
    {
     "name": "stdout",
     "output_type": "stream",
     "text": [
      "tensorflow version 2.8.0\n",
      "keras version 2.8.0\n",
      "Eager Execution Enabled: True\n",
      "INFO:tensorflow:Using MirroredStrategy with devices ('/job:localhost/replica:0/task:0/device:GPU:0',)\n",
      "Number of replicas: 1\n",
      "Devices: [PhysicalDevice(name='/physical_device:CPU:0', device_type='CPU'), PhysicalDevice(name='/physical_device:GPU:0', device_type='GPU')]\n",
      "[LogicalDevice(name='/device:GPU:0', device_type='GPU')]\n",
      "GPU Available:  [PhysicalDevice(name='/physical_device:GPU:0', device_type='GPU')]\n",
      "All Physical Devices [PhysicalDevice(name='/physical_device:CPU:0', device_type='CPU'), PhysicalDevice(name='/physical_device:GPU:0', device_type='GPU')]\n"
     ]
    },
    {
     "name": "stderr",
     "output_type": "stream",
     "text": [
      "2022-04-19 00:17:34.029764: I tensorflow/stream_executor/cuda/cuda_gpu_executor.cc:936] successful NUMA node read from SysFS had negative value (-1), but there must be at least one NUMA node, so returning NUMA node zero\n",
      "2022-04-19 00:17:34.036607: I tensorflow/stream_executor/cuda/cuda_gpu_executor.cc:936] successful NUMA node read from SysFS had negative value (-1), but there must be at least one NUMA node, so returning NUMA node zero\n",
      "2022-04-19 00:17:34.036955: I tensorflow/stream_executor/cuda/cuda_gpu_executor.cc:936] successful NUMA node read from SysFS had negative value (-1), but there must be at least one NUMA node, so returning NUMA node zero\n",
      "2022-04-19 00:17:34.037799: I tensorflow/core/platform/cpu_feature_guard.cc:151] This TensorFlow binary is optimized with oneAPI Deep Neural Network Library (oneDNN) to use the following CPU instructions in performance-critical operations:  AVX2 AVX512F FMA\n",
      "To enable them in other operations, rebuild TensorFlow with the appropriate compiler flags.\n",
      "2022-04-19 00:17:34.038185: I tensorflow/stream_executor/cuda/cuda_gpu_executor.cc:936] successful NUMA node read from SysFS had negative value (-1), but there must be at least one NUMA node, so returning NUMA node zero\n",
      "2022-04-19 00:17:34.038509: I tensorflow/stream_executor/cuda/cuda_gpu_executor.cc:936] successful NUMA node read from SysFS had negative value (-1), but there must be at least one NUMA node, so returning NUMA node zero\n",
      "2022-04-19 00:17:34.038767: I tensorflow/stream_executor/cuda/cuda_gpu_executor.cc:936] successful NUMA node read from SysFS had negative value (-1), but there must be at least one NUMA node, so returning NUMA node zero\n",
      "2022-04-19 00:17:34.642842: I tensorflow/stream_executor/cuda/cuda_gpu_executor.cc:936] successful NUMA node read from SysFS had negative value (-1), but there must be at least one NUMA node, so returning NUMA node zero\n",
      "2022-04-19 00:17:34.643183: I tensorflow/stream_executor/cuda/cuda_gpu_executor.cc:936] successful NUMA node read from SysFS had negative value (-1), but there must be at least one NUMA node, so returning NUMA node zero\n",
      "2022-04-19 00:17:34.643452: I tensorflow/stream_executor/cuda/cuda_gpu_executor.cc:936] successful NUMA node read from SysFS had negative value (-1), but there must be at least one NUMA node, so returning NUMA node zero\n",
      "2022-04-19 00:17:34.643694: I tensorflow/core/common_runtime/gpu/gpu_device.cc:1525] Created device /job:localhost/replica:0/task:0/device:GPU:0 with 565 MB memory:  -> device: 0, name: Tesla T4, pci bus id: 0000:00:1e.0, compute capability: 7.5\n"
     ]
    }
   ],
   "source": [
    "# Enable/Disable Eager Execution\n",
    "# Reference: https://www.tensorflow.org/guide/eager\n",
    "# TensorFlow's eager execution is an imperative programming environment that evaluates operations immediately, \n",
    "# without building graphs\n",
    "\n",
    "#tf.compat.v1.disable_eager_execution()\n",
    "#tf.compat.v1.enable_eager_execution()\n",
    "\n",
    "print(\"tensorflow version\", tf.__version__)\n",
    "print(\"keras version\", tf.keras.__version__)\n",
    "print(\"Eager Execution Enabled:\", tf.executing_eagerly())\n",
    "\n",
    "# Get the number of replicas \n",
    "strategy = tf.distribute.MirroredStrategy()\n",
    "print(\"Number of replicas:\", strategy.num_replicas_in_sync)\n",
    "\n",
    "devices = tf.config.experimental.get_visible_devices()\n",
    "print(\"Devices:\", devices)\n",
    "print(tf.config.experimental.list_logical_devices('GPU'))\n",
    "\n",
    "print(\"GPU Available: \", tf.config.list_physical_devices('GPU'))\n",
    "print(\"All Physical Devices\", tf.config.list_physical_devices())\n",
    "\n",
    "# Better performance with the tf.data API\n",
    "# Reference: https://www.tensorflow.org/guide/data_performance\n",
    "AUTOTUNE = tf.data.experimental.AUTOTUNE"
   ]
  },
  {
   "cell_type": "markdown",
   "metadata": {
    "id": "JSTTuvGGyfQ4"
   },
   "source": [
    "Check what GPU you have"
   ]
  },
  {
   "cell_type": "code",
   "execution_count": 3,
   "metadata": {
    "colab": {
     "base_uri": "https://localhost:8080/"
    },
    "id": "aTi15newyhfU",
    "outputId": "2ab2fd35-a0b1-431f-8d97-b1de75b2a8bb"
   },
   "outputs": [
    {
     "name": "stdout",
     "output_type": "stream",
     "text": [
      "Tue Apr 19 00:17:34 2022       \r\n",
      "+-----------------------------------------------------------------------------+\r\n",
      "| NVIDIA-SMI 470.57.02    Driver Version: 470.57.02    CUDA Version: 11.4     |\r\n",
      "|-------------------------------+----------------------+----------------------+\r\n",
      "| GPU  Name        Persistence-M| Bus-Id        Disp.A | Volatile Uncorr. ECC |\r\n",
      "| Fan  Temp  Perf  Pwr:Usage/Cap|         Memory-Usage | GPU-Util  Compute M. |\r\n",
      "|                               |                      |               MIG M. |\r\n",
      "|===============================+======================+======================|\r\n",
      "|   0  Tesla T4            Off  | 00000000:00:1E.0 Off |                    0 |\r\n",
      "| N/A   47C    P0    26W /  70W |  14885MiB / 15109MiB |      2%      Default |\r\n",
      "|                               |                      |                  N/A |\r\n",
      "+-------------------------------+----------------------+----------------------+\r\n",
      "                                                                               \r\n",
      "+-----------------------------------------------------------------------------+\r\n",
      "| Processes:                                                                  |\r\n",
      "|  GPU   GI   CI        PID   Type   Process name                  GPU Memory |\r\n",
      "|        ID   ID                                                   Usage      |\r\n",
      "|=============================================================================|\r\n",
      "+-----------------------------------------------------------------------------+\r\n"
     ]
    }
   ],
   "source": [
    "!nvidia-smi"
   ]
  },
  {
   "cell_type": "markdown",
   "metadata": {
    "id": "yABkL_rBV1u6"
   },
   "source": [
    "#### **Utils**\n",
    "\n",
    "Here are some util functions that we will be using for this notebook"
   ]
  },
  {
   "cell_type": "code",
   "execution_count": 4,
   "metadata": {
    "id": "qOd0mLYzV2Fr"
   },
   "outputs": [],
   "source": [
    "# ================\n",
    "# mainly used for third part\n",
    "# ================\n",
    "\n",
    "class JsonEncoder(json.JSONEncoder):\n",
    "  def default(self, obj):\n",
    "    if isinstance(obj, np.integer):\n",
    "        return int(obj)\n",
    "    elif isinstance(obj, np.floating):\n",
    "        return float(obj)\n",
    "    elif isinstance(obj, decimal.Decimal):\n",
    "        return float(obj)\n",
    "    elif isinstance(obj, np.ndarray):\n",
    "        return obj.tolist()\n",
    "    else:\n",
    "        return super(JsonEncoder, self).default(obj)\n",
    "\n",
    "experiment_name = None\n",
    "def create_experiment():\n",
    "  global experiment_name\n",
    "  experiment_name = \"experiment_\" + str(int(time.time()))\n",
    "\n",
    "  # Create experiment folder\n",
    "  if not os.path.exists(experiment_name):\n",
    "      os.mkdir(experiment_name)\n",
    "\n",
    "def save_data_details(data_details):\n",
    "  with open(os.path.join(experiment_name,\"data_details.json\"), \"w\") as json_file:\n",
    "    json_file.write(json.dumps(data_details,cls=JsonEncoder))\n",
    "\n",
    "def save_model(model,model_name=\"model01\"):\n",
    "\n",
    "  if isinstance(model,TFBertForSequenceClassification):\n",
    "    model.save_weights(os.path.join(experiment_name,model_name+\".h5\"))\n",
    "  else:\n",
    "    # Save the enitire model (structure + weights)\n",
    "    model.save(os.path.join(experiment_name,model_name+\".hdf5\"))\n",
    "\n",
    "    # Save only the weights\n",
    "    model.save_weights(os.path.join(experiment_name,model_name+\".h5\"))\n",
    "\n",
    "    # Save the structure only\n",
    "    model_json = model.to_json()\n",
    "    with open(os.path.join(experiment_name,model_name+\".json\"), \"w\") as json_file:\n",
    "        json_file.write(model_json)\n",
    "\n",
    "def get_model_size(model_name=\"model01\"):\n",
    "  model_size = os.stat(os.path.join(experiment_name,model_name+\".h5\")).st_size\n",
    "  return model_size\n",
    "\n",
    "def evaluate_save_model(model,test_data, training_results,execution_time, learning_rate, batch_size, epochs, optimizer,save=True):\n",
    "    \n",
    "  # Get the model train history\n",
    "  model_train_history = training_results.history\n",
    "  # Get the number of epochs the training was run for\n",
    "  num_epochs = len(model_train_history[\"loss\"])\n",
    "\n",
    "  # Plot training results\n",
    "  fig = plt.figure(figsize=(15,5))\n",
    "  axs = fig.add_subplot(1,2,1)\n",
    "  axs.set_title('Loss')\n",
    "  # Plot all metrics\n",
    "  for metric in [\"loss\",\"val_loss\"]:\n",
    "      axs.plot(np.arange(0, num_epochs), model_train_history[metric], label=metric)\n",
    "  axs.legend()\n",
    "  \n",
    "  axs = fig.add_subplot(1,2,2)\n",
    "  axs.set_title('Accuracy')\n",
    "  # Plot all metrics\n",
    "  for metric in [\"accuracy\",\"val_accuracy\"]:\n",
    "      axs.plot(np.arange(0, num_epochs), model_train_history[metric], label=metric)\n",
    "  axs.legend()\n",
    "\n",
    "  plt.show()\n",
    "  \n",
    "  # Evaluate on test data\n",
    "  evaluation_results = model.evaluate(test_data)\n",
    "  print(evaluation_results)\n",
    "  \n",
    "  if save:\n",
    "    # Save model\n",
    "    save_model(model, model_name=model.name)\n",
    "    model_size = get_model_size(model_name=model.name)\n",
    "\n",
    "    # Save model history\n",
    "    with open(os.path.join(experiment_name,model.name+\"_train_history.json\"), \"w\") as json_file:\n",
    "        json_file.write(json.dumps(model_train_history,cls=JsonEncoder))\n",
    "\n",
    "    trainable_parameters = count_params(model.trainable_weights)\n",
    "    non_trainable_parameters = count_params(model.non_trainable_weights)\n",
    "\n",
    "    # Save model metrics\n",
    "    metrics ={\n",
    "        \"trainable_parameters\":trainable_parameters,\n",
    "        \"execution_time\":execution_time,\n",
    "        \"loss\":evaluation_results[0],\n",
    "        \"accuracy\":evaluation_results[1],\n",
    "        \"model_size\":model_size,\n",
    "        \"learning_rate\":learning_rate,\n",
    "        \"batch_size\":batch_size,\n",
    "        \"epochs\":epochs,\n",
    "        \"name\": model.name,\n",
    "        \"optimizer\":type(optimizer).__name__\n",
    "    }\n",
    "    with open(os.path.join(experiment_name,model.name+\"_model_metrics.json\"), \"w\") as json_file:\n",
    "        json_file.write(json.dumps(metrics,cls=JsonEncoder))"
   ]
  },
  {
   "cell_type": "markdown",
   "metadata": {
    "id": "5EWgQ_7t-b9N"
   },
   "source": [
    "## **Sequence to Sequence with Attention**"
   ]
  },
  {
   "cell_type": "markdown",
   "metadata": {
    "id": "at6-kWWl-gN2"
   },
   "source": [
    "### **Overview**\n",
    "\n",
    "The aim of this section is to build and train a Seq2Seq model with attention\n",
    "\n",
    "**The Task:** Perform Neural Machine Translation from english to spanish. We will also create a analysis model to create a sentence to sentence heat-map\n",
    "\n",
    "**NOTE:** For this section, we will modify the attention, by not combining it with the previous input to the decoder, but instead concatenating it with the current hidden state of the decoder. This is not as effective as the Bahdanau attention but greatly simplifies the execution.\n",
    "\n",
    "The equation transforms from: \n",
    "\n",
    "$$\n",
    "c_{i}=\\sum_{j=1}^{T_{x}} \\alpha_{i j}\\left(h_{i-1}^{D}, h_{j}^{E}\\right) h_{j}^{E}\n",
    "$$\n",
    "\n",
    "to:\n",
    "\n",
    "$$\n",
    "c_{i}=\\sum_{j=1}^{T_{x}} \\alpha_{i j}\\left(h_{i}^{D}, h_{j}^{E}\\right) h_{j}^{E}\n",
    "$$"
   ]
  },
  {
   "cell_type": "markdown",
   "metadata": {
    "id": "M9QclLbQiMq7"
   },
   "source": [
    "### **Dataset**\n",
    "\n",
    "The dataset consists of English to Spanish translations from http://www.manythings.org/ \n",
    "\n"
   ]
  },
  {
   "cell_type": "markdown",
   "metadata": {
    "id": "KKdj502KiMq9"
   },
   "source": [
    "**Load Data**\n",
    "\n",
    "Load the english to spanish dataset"
   ]
  },
  {
   "cell_type": "code",
   "execution_count": 5,
   "metadata": {
    "id": "WHzZ4pWziMq9"
   },
   "outputs": [],
   "source": [
    "# Read the English to Spanish datafile into a pandas dataframe\n",
    "# Use columns [0,1] with tab as the seperator, no head\n",
    "# Set the names of the columns as \"English\" and \"Spanish\"\n",
    "file_url = 'https://storage.googleapis.com/cs109b/nlp/spa.txt'\n",
    "data = pd.read_csv(file_url, sep='\\t', header=None, usecols=[0,1], names=['English', 'Spanish'])"
   ]
  },
  {
   "cell_type": "code",
   "execution_count": 6,
   "metadata": {
    "colab": {
     "base_uri": "https://localhost:8080/",
     "height": 381
    },
    "id": "-Hf96oFeiMq9",
    "outputId": "7148e03f-19c2-4afb-e6e4-c62ac5f985ab"
   },
   "outputs": [
    {
     "name": "stdout",
     "output_type": "stream",
     "text": [
      "Shape: (118964, 2)\n"
     ]
    },
    {
     "data": {
      "text/html": [
       "<div>\n",
       "<style scoped>\n",
       "    .dataframe tbody tr th:only-of-type {\n",
       "        vertical-align: middle;\n",
       "    }\n",
       "\n",
       "    .dataframe tbody tr th {\n",
       "        vertical-align: top;\n",
       "    }\n",
       "\n",
       "    .dataframe thead th {\n",
       "        text-align: right;\n",
       "    }\n",
       "</style>\n",
       "<table border=\"1\" class=\"dataframe\">\n",
       "  <thead>\n",
       "    <tr style=\"text-align: right;\">\n",
       "      <th></th>\n",
       "      <th>English</th>\n",
       "      <th>Spanish</th>\n",
       "    </tr>\n",
       "  </thead>\n",
       "  <tbody>\n",
       "    <tr>\n",
       "      <th>0</th>\n",
       "      <td>Go.</td>\n",
       "      <td>Ve.</td>\n",
       "    </tr>\n",
       "    <tr>\n",
       "      <th>1</th>\n",
       "      <td>Go.</td>\n",
       "      <td>Vete.</td>\n",
       "    </tr>\n",
       "    <tr>\n",
       "      <th>2</th>\n",
       "      <td>Go.</td>\n",
       "      <td>Vaya.</td>\n",
       "    </tr>\n",
       "    <tr>\n",
       "      <th>3</th>\n",
       "      <td>Go.</td>\n",
       "      <td>Váyase.</td>\n",
       "    </tr>\n",
       "    <tr>\n",
       "      <th>4</th>\n",
       "      <td>Hi.</td>\n",
       "      <td>Hola.</td>\n",
       "    </tr>\n",
       "    <tr>\n",
       "      <th>5</th>\n",
       "      <td>Run!</td>\n",
       "      <td>¡Corre!</td>\n",
       "    </tr>\n",
       "    <tr>\n",
       "      <th>6</th>\n",
       "      <td>Run.</td>\n",
       "      <td>Corred.</td>\n",
       "    </tr>\n",
       "    <tr>\n",
       "      <th>7</th>\n",
       "      <td>Who?</td>\n",
       "      <td>¿Quién?</td>\n",
       "    </tr>\n",
       "    <tr>\n",
       "      <th>8</th>\n",
       "      <td>Fire!</td>\n",
       "      <td>¡Fuego!</td>\n",
       "    </tr>\n",
       "    <tr>\n",
       "      <th>9</th>\n",
       "      <td>Fire!</td>\n",
       "      <td>¡Incendio!</td>\n",
       "    </tr>\n",
       "  </tbody>\n",
       "</table>\n",
       "</div>"
      ],
      "text/plain": [
       "  English     Spanish\n",
       "0     Go.         Ve.\n",
       "1     Go.       Vete.\n",
       "2     Go.       Vaya.\n",
       "3     Go.     Váyase.\n",
       "4     Hi.       Hola.\n",
       "5    Run!     ¡Corre!\n",
       "6    Run.     Corred.\n",
       "7    Who?     ¿Quién?\n",
       "8   Fire!     ¡Fuego!\n",
       "9   Fire!  ¡Incendio!"
      ]
     },
     "execution_count": 6,
     "metadata": {},
     "output_type": "execute_result"
    }
   ],
   "source": [
    "# Take a quick look of the dataset\n",
    "print(\"Shape:\",data.shape)\n",
    "data.head(10)"
   ]
  },
  {
   "cell_type": "markdown",
   "metadata": {
    "id": "pIij8IPFiUCz"
   },
   "source": [
    "**Add Start/End Tokens**\n",
    "\n",
    "Add start `<s>` and end `</s>` tokens to each word"
   ]
  },
  {
   "cell_type": "code",
   "execution_count": 7,
   "metadata": {
    "id": "LuGPq4C0iUCz"
   },
   "outputs": [],
   "source": [
    "# For each English and Spanish sentence in the dataframe \n",
    "# add the start <s> and end </s> tokens\n",
    "data.Spanish = '<s> '+data.Spanish+' </s>'\n",
    "data.English = '<s> '+data.English+' </s>'"
   ]
  },
  {
   "cell_type": "code",
   "execution_count": 8,
   "metadata": {
    "colab": {
     "base_uri": "https://localhost:8080/",
     "height": 363
    },
    "id": "N7YzGLRLiUCz",
    "outputId": "7e79ae00-cb74-434b-cd86-f2b90fa5b230"
   },
   "outputs": [
    {
     "data": {
      "text/html": [
       "<div>\n",
       "<style scoped>\n",
       "    .dataframe tbody tr th:only-of-type {\n",
       "        vertical-align: middle;\n",
       "    }\n",
       "\n",
       "    .dataframe tbody tr th {\n",
       "        vertical-align: top;\n",
       "    }\n",
       "\n",
       "    .dataframe thead th {\n",
       "        text-align: right;\n",
       "    }\n",
       "</style>\n",
       "<table border=\"1\" class=\"dataframe\">\n",
       "  <thead>\n",
       "    <tr style=\"text-align: right;\">\n",
       "      <th></th>\n",
       "      <th>English</th>\n",
       "      <th>Spanish</th>\n",
       "    </tr>\n",
       "  </thead>\n",
       "  <tbody>\n",
       "    <tr>\n",
       "      <th>0</th>\n",
       "      <td>&lt;s&gt; Go. &lt;/s&gt;</td>\n",
       "      <td>&lt;s&gt; Ve. &lt;/s&gt;</td>\n",
       "    </tr>\n",
       "    <tr>\n",
       "      <th>1</th>\n",
       "      <td>&lt;s&gt; Go. &lt;/s&gt;</td>\n",
       "      <td>&lt;s&gt; Vete. &lt;/s&gt;</td>\n",
       "    </tr>\n",
       "    <tr>\n",
       "      <th>2</th>\n",
       "      <td>&lt;s&gt; Go. &lt;/s&gt;</td>\n",
       "      <td>&lt;s&gt; Vaya. &lt;/s&gt;</td>\n",
       "    </tr>\n",
       "    <tr>\n",
       "      <th>3</th>\n",
       "      <td>&lt;s&gt; Go. &lt;/s&gt;</td>\n",
       "      <td>&lt;s&gt; Váyase. &lt;/s&gt;</td>\n",
       "    </tr>\n",
       "    <tr>\n",
       "      <th>4</th>\n",
       "      <td>&lt;s&gt; Hi. &lt;/s&gt;</td>\n",
       "      <td>&lt;s&gt; Hola. &lt;/s&gt;</td>\n",
       "    </tr>\n",
       "    <tr>\n",
       "      <th>5</th>\n",
       "      <td>&lt;s&gt; Run! &lt;/s&gt;</td>\n",
       "      <td>&lt;s&gt; ¡Corre! &lt;/s&gt;</td>\n",
       "    </tr>\n",
       "    <tr>\n",
       "      <th>6</th>\n",
       "      <td>&lt;s&gt; Run. &lt;/s&gt;</td>\n",
       "      <td>&lt;s&gt; Corred. &lt;/s&gt;</td>\n",
       "    </tr>\n",
       "    <tr>\n",
       "      <th>7</th>\n",
       "      <td>&lt;s&gt; Who? &lt;/s&gt;</td>\n",
       "      <td>&lt;s&gt; ¿Quién? &lt;/s&gt;</td>\n",
       "    </tr>\n",
       "    <tr>\n",
       "      <th>8</th>\n",
       "      <td>&lt;s&gt; Fire! &lt;/s&gt;</td>\n",
       "      <td>&lt;s&gt; ¡Fuego! &lt;/s&gt;</td>\n",
       "    </tr>\n",
       "    <tr>\n",
       "      <th>9</th>\n",
       "      <td>&lt;s&gt; Fire! &lt;/s&gt;</td>\n",
       "      <td>&lt;s&gt; ¡Incendio! &lt;/s&gt;</td>\n",
       "    </tr>\n",
       "  </tbody>\n",
       "</table>\n",
       "</div>"
      ],
      "text/plain": [
       "          English              Spanish\n",
       "0    <s> Go. </s>         <s> Ve. </s>\n",
       "1    <s> Go. </s>       <s> Vete. </s>\n",
       "2    <s> Go. </s>       <s> Vaya. </s>\n",
       "3    <s> Go. </s>     <s> Váyase. </s>\n",
       "4    <s> Hi. </s>       <s> Hola. </s>\n",
       "5   <s> Run! </s>     <s> ¡Corre! </s>\n",
       "6   <s> Run. </s>     <s> Corred. </s>\n",
       "7   <s> Who? </s>     <s> ¿Quién? </s>\n",
       "8  <s> Fire! </s>     <s> ¡Fuego! </s>\n",
       "9  <s> Fire! </s>  <s> ¡Incendio! </s>"
      ]
     },
     "execution_count": 8,
     "metadata": {},
     "output_type": "execute_result"
    }
   ],
   "source": [
    "data.head(10)"
   ]
  },
  {
   "cell_type": "markdown",
   "metadata": {
    "id": "QkX-H01sidfl"
   },
   "source": [
    "### **Build Data Pipelines**"
   ]
  },
  {
   "cell_type": "markdown",
   "metadata": {
    "id": "TtigHBD4idfl"
   },
   "source": [
    "**Text Tokenization**"
   ]
  },
  {
   "cell_type": "code",
   "execution_count": 9,
   "metadata": {
    "id": "z0BT8Mfiidfl"
   },
   "outputs": [],
   "source": [
    "# Specify the maximum size of the vocabulary of English words as 5000\n",
    "vocab_size_eng = 5000\n",
    "\n",
    "# Specify the maximum size of the vocabulary of Spanish word as 5000\n",
    "vocab_size_spa = 5000\n",
    "\n",
    "# Create tokenizer objects for both languages with appropriate choices\n",
    "tokenizer_eng = tf.keras.preprocessing.text.Tokenizer(num_words=vocab_size_eng,\n",
    "                                                      lower=True, \n",
    "                                                      char_level=False, \n",
    "                                                      oov_token=None, \n",
    "                                                      filters='!\"#$%&()*+,-.:;=?@[\\\\]^_`{|}~\\t\\n')\n",
    "\n",
    "# For spanish, make sure to also filter out the special spanish token ¡ and ¿ commonly used in formal spanish\n",
    "tokenizer_spa = tf.keras.preprocessing.text.Tokenizer(num_words=vocab_size_spa,\n",
    "                                                      lower=True, \n",
    "                                                      char_level=False, \n",
    "                                                      oov_token=None, \n",
    "                                                      filters='¡!\"#$%&()*+,-.:;=¿?@[\\\\]^_`{|}~\\t\\n')"
   ]
  },
  {
   "cell_type": "code",
   "execution_count": 10,
   "metadata": {
    "id": "pOELUm1cidfl"
   },
   "outputs": [],
   "source": [
    "# Fit both tokenizers on all the text in the dataframe for each language \n",
    "tokenizer_eng.fit_on_texts(data.English)\n",
    "tokenizer_spa.fit_on_texts(data.Spanish)"
   ]
  },
  {
   "cell_type": "code",
   "execution_count": 11,
   "metadata": {
    "id": "S9G0Gshq8m9z"
   },
   "outputs": [],
   "source": [
    "# Get the integer sequence corresponding to both tokenizers \n",
    "input_eng = tokenizer_eng.texts_to_sequences(data.English)\n",
    "input_spa = tokenizer_spa.texts_to_sequences(data.Spanish)"
   ]
  },
  {
   "cell_type": "markdown",
   "metadata": {
    "id": "bjG_cupUidfm"
   },
   "source": [
    "View some tokenized text"
   ]
  },
  {
   "cell_type": "code",
   "execution_count": 12,
   "metadata": {
    "colab": {
     "base_uri": "https://localhost:8080/"
    },
    "id": "2qeh5Etoidfm",
    "outputId": "96587792-434c-45a3-9d03-173e9a259aaf"
   },
   "outputs": [
    {
     "name": "stdout",
     "output_type": "stream",
     "text": [
      "English: [1, 42, 2]\n",
      "Spanish: [1, 366, 2]\n"
     ]
    }
   ],
   "source": [
    "print(\"English:\",input_eng[0])\n",
    "print(\"Spanish:\",input_spa[0])"
   ]
  },
  {
   "cell_type": "markdown",
   "metadata": {
    "id": "ybpkjP2xiiWe"
   },
   "source": [
    "**Create TF Datasets**"
   ]
  },
  {
   "cell_type": "code",
   "execution_count": 16,
   "metadata": {},
   "outputs": [
    {
     "data": {
      "text/plain": [
       "<keras_preprocessing.text.Tokenizer at 0x7f7e53c09630>"
      ]
     },
     "execution_count": 16,
     "metadata": {},
     "output_type": "execute_result"
    }
   ],
   "source": []
  },
  {
   "cell_type": "code",
   "execution_count": 13,
   "metadata": {
    "colab": {
     "base_uri": "https://localhost:8080/"
    },
    "id": "s8vaxNvxiiWe",
    "outputId": "2ff79698-b154-4db5-896c-4b771911c502"
   },
   "outputs": [
    {
     "name": "stdout",
     "output_type": "stream",
     "text": [
      "train_data <PrefetchDataset element_spec=((TensorSpec(shape=(None, None), dtype=tf.int32, name=None), TensorSpec(shape=(None, None), dtype=tf.int32, name=None)), TensorSpec(shape=(None, None), dtype=tf.int32, name=None))>\n"
     ]
    }
   ],
   "source": [
    "batch_size = 512\n",
    "train_shuffle_buffer_size = 5000\n",
    "\n",
    "# Write a mapping function to process the input data\n",
    "# The english doesn't need to be processed any further, as we will process the entire sentences.\n",
    "# Since we are using the decoder to predict the next word, the target language must be processed. \n",
    "# The source data and target must be shifted by one position\n",
    "def process(eng, spa):\n",
    "    in_spa  = spa[:,:-1]\n",
    "    out_spa = spa[:,1:]\n",
    "    \n",
    "    in_eng  = eng.to_tensor(default_value=0, shape=[None, None])\n",
    "    in_spa  = in_spa.to_tensor(default_value=0, shape=[None, None])\n",
    "    out_spa = out_spa.to_tensor(default_value=0, shape=[None, None]) \n",
    "    return (in_eng, in_spa), out_spa\n",
    "\n",
    "# Use tensorflow ragged constants to get the ragged version of data\n",
    "train_processed_x = tf.ragged.constant(input_eng)\n",
    "train_processed_y = tf.ragged.constant(input_spa)\n",
    "\n",
    "# Create TF Dataset\n",
    "train_data = tf.data.Dataset.from_tensor_slices((train_processed_x, train_processed_y))\n",
    "\n",
    "#############\n",
    "# Train data\n",
    "#############\n",
    "# Apply all data processing logic\n",
    "train_data = train_data.shuffle(buffer_size=train_shuffle_buffer_size)\n",
    "train_data = train_data.batch(batch_size)\n",
    "train_data = train_data.map(process, num_parallel_calls=AUTOTUNE)\n",
    "train_data = train_data.prefetch(AUTOTUNE)\n",
    "\n",
    "print(\"train_data\",train_data)"
   ]
  },
  {
   "cell_type": "code",
   "execution_count": 14,
   "metadata": {
    "colab": {
     "base_uri": "https://localhost:8080/"
    },
    "id": "C7JX2voKiiWf",
    "outputId": "6d454de7-10d3-4449-becb-88c5ca48b571"
   },
   "outputs": [
    {
     "name": "stdout",
     "output_type": "stream",
     "text": [
      "(512, 6) (512, 8) (512, 8)\n",
      "Input English: tf.Tensor([   1   84   31 2398    2    0], shape=(6,), dtype=int32)\n",
      "Input Spanish: tf.Tensor([   1  110    5   76 2151    0    0    0], shape=(8,), dtype=int32)\n",
      "Output Spanish: tf.Tensor([ 110    5   76 2151    2    0    0    0], shape=(8,), dtype=int32)\n",
      "****************\n",
      "Input English:\n",
      "[\"<s> i'll be brief </s>\"]\n",
      "Input Spanish:\n",
      "['<s> voy a ser breve']\n",
      "Output Spanish:\n",
      "['voy a ser breve </s>']\n"
     ]
    }
   ],
   "source": [
    "# View some data from tf dataset\n",
    "for (ip_eng,ip_spa),output in train_data.take(1):\n",
    "  print(ip_eng.shape,ip_spa.shape,output.shape)\n",
    "  \n",
    "  print(\"Input English:\",ip_eng[0])\n",
    "  print(\"Input Spanish:\",ip_spa[0])\n",
    "  print(\"Output Spanish:\",output[0])\n",
    "  print(\"****************\")\n",
    "  print(\"Input English:\")\n",
    "  print(tokenizer_eng.sequences_to_texts([ip_eng[0].numpy()]))\n",
    "  print(\"Input Spanish:\")\n",
    "  print(tokenizer_spa.sequences_to_texts([ip_spa[0].numpy()]))\n",
    "  print(\"Output Spanish:\")\n",
    "  print(tokenizer_spa.sequences_to_texts([output[0].numpy()]))"
   ]
  },
  {
   "cell_type": "markdown",
   "metadata": {
    "id": "rFLchnokrXeK"
   },
   "source": [
    "### **Build Seq2Seq with Attention Model**"
   ]
  },
  {
   "cell_type": "code",
   "execution_count": 15,
   "metadata": {
    "id": "tRQO_9YNriEB"
   },
   "outputs": [],
   "source": [
    "def build_model(evaluation_model=False):\n",
    "  # Model input\n",
    "  inputs_eng = tf.keras.Input(shape=[None])\n",
    "  inputs_spa = tf.keras.Input(shape=[None])\n",
    "\n",
    "  # Encoder\n",
    "  emb_eng = tf.keras.layers.Embedding(input_dim=tokenizer_eng.num_words+1, \n",
    "                                    output_dim = 128, \n",
    "                                    mask_zero=True,\n",
    "                                    name='Encoder_embedding')(inputs_eng)\n",
    "  encoder_states = tf.keras.layers.GRU(128, return_sequences=True, name='Encoder_RNN_f')(emb_eng)\n",
    "  last_encoder_state = encoder_states[:,-1,:]\n",
    "\n",
    "  # Decoder\n",
    "  emb_spa = tf.keras.layers.Embedding(input_dim=tokenizer_spa.num_words+1, \n",
    "                                    output_dim = 128, \n",
    "                                    mask_zero=True,\n",
    "                                    name='Decoder_embedding')(inputs_spa)\n",
    "  decoder_states = tf.keras.layers.GRU(128, return_sequences=True,  name='Decoder_RNN')(emb_spa)\n",
    "\n",
    "  # Create projections for the encoder and decoder hidden states \n",
    "  hidden_size=64\n",
    "  r_encoder = tf.keras.layers.Dense(hidden_size, activation=None, use_bias=False)(encoder_states)\n",
    "  r_decoder = tf.keras.layers.Dense(hidden_size, activation=None, use_bias=False)(decoder_states)\n",
    "\n",
    "  # Compute Attention\n",
    "  # Step 1:\n",
    "  # Expand the dimensions for the query and the value at the appropriate locations \n",
    "  query = tf.expand_dims(r_decoder, axis=2)\n",
    "  value = tf.expand_dims(r_encoder, axis=1)\n",
    "\n",
    "  # Step 2:\n",
    "  # Compute the score as in Bahdanau's paper  \n",
    "  score = tf.reduce_sum(tf.tanh(query + value, name='Score'), axis=-1)\n",
    "\n",
    "\n",
    "  # Additional step:\n",
    "  # It is crucial to manually mask the 'padded' hidden states otherwise there will be \n",
    "  # a mismatch between the encoder-decoder model defined above\n",
    "  # And the attention weights computed below \n",
    "  N_query = tf.reduce_sum(tf.cast(inputs_spa>0, tf.float32), axis=1)\n",
    "  query_mask = tf.sequence_mask(N_query)\n",
    "\n",
    "  N_value = tf.reduce_sum(tf.cast(inputs_eng>0, tf.float32), axis=1)\n",
    "  value_mask = tf.sequence_mask(N_value)\n",
    "\n",
    "  # Mask the score\n",
    "  m1 = tf.sequence_mask(N_query, dtype=tf.float32)\n",
    "  m2 = tf.sequence_mask(N_value, dtype=tf.float32)\n",
    "\n",
    "  score = tf.transpose(tf.multiply(tf.transpose(score,[2,0,1]), m1),[1,2,0])\n",
    "  score = tf.transpose(tf.multiply(tf.transpose(score,[1,0,2]), m2), [1,0,2])\n",
    "\n",
    "  # Step 3: Use the scores to get a distribution of probabilities\n",
    "  weights = tf.nn.softmax(score, axis=2, name='Weights')\n",
    "\n",
    "  # Step 4: Compute the context vector by multiplying the encoder states with the weights \n",
    "  context_vector = tf.matmul(weights, encoder_states)\n",
    "\n",
    "  # Concatenate the context vector with the decoder states \n",
    "  enhanced_encoding = tf.keras.layers.Concatenate(axis=2)([context_vector, decoder_states])\n",
    "\n",
    "  # Pass the enhanced encoding to a dense layer with softmax activation \n",
    "  output_spa = tf.keras.layers.Dense(tokenizer_spa.num_words+1,activation='softmax')(enhanced_encoding)\n",
    "\n",
    "  # Set up the model with appropriate inputs and the output defined above \n",
    "  model = tf.keras.Model(inputs=(inputs_eng, inputs_spa), outputs=output_spa)\n",
    "\n",
    "  # Build another evaluation model that will give us the associated weights\n",
    "  # We will use this for visualization\n",
    "  evaluation_model = tf.keras.Model(inputs=(inputs_eng, inputs_spa), outputs=[weights,inputs_eng,inputs_spa])\n",
    "\n",
    "  return model, evaluation_model"
   ]
  },
  {
   "cell_type": "markdown",
   "metadata": {
    "id": "GdTJ70F8sK8r"
   },
   "source": [
    "### **Train**"
   ]
  },
  {
   "cell_type": "code",
   "execution_count": null,
   "metadata": {
    "colab": {
     "base_uri": "https://localhost:8080/"
    },
    "id": "Jr37Ja2_EN1M",
    "outputId": "4111c3e3-5d99-4ed3-da1b-e18662bf6482"
   },
   "outputs": [
    {
     "name": "stdout",
     "output_type": "stream",
     "text": [
      "Epoch 1/50\n",
      "233/233 [==============================] - 13s 26ms/step - loss: 2.5266\n",
      "Epoch 2/50\n",
      "233/233 [==============================] - 6s 26ms/step - loss: 1.6038\n",
      "Epoch 3/50\n",
      "233/233 [==============================] - 6s 26ms/step - loss: 0.9613\n",
      "Epoch 4/50\n",
      "233/233 [==============================] - 6s 26ms/step - loss: 0.7350\n",
      "Epoch 5/50\n",
      "233/233 [==============================] - 6s 26ms/step - loss: 0.6277\n",
      "Epoch 6/50\n",
      "233/233 [==============================] - 6s 25ms/step - loss: 0.5608\n",
      "Epoch 7/50\n",
      "233/233 [==============================] - 6s 26ms/step - loss: 0.5091\n",
      "Epoch 8/50\n",
      "233/233 [==============================] - 6s 26ms/step - loss: 0.4688\n",
      "Epoch 9/50\n",
      "233/233 [==============================] - 6s 26ms/step - loss: 0.4419\n",
      "Epoch 10/50\n",
      "233/233 [==============================] - 6s 25ms/step - loss: 0.4151\n",
      "Epoch 11/50\n",
      "233/233 [==============================] - 6s 25ms/step - loss: 0.3960\n",
      "Epoch 12/50\n",
      "233/233 [==============================] - 6s 26ms/step - loss: 0.3744\n",
      "Epoch 13/50\n",
      "233/233 [==============================] - 6s 26ms/step - loss: 0.3589\n",
      "Epoch 14/50\n",
      "233/233 [==============================] - 6s 26ms/step - loss: 0.3464\n",
      "Epoch 15/50\n",
      "233/233 [==============================] - 6s 26ms/step - loss: 0.3357\n",
      "Epoch 16/50\n",
      "233/233 [==============================] - 6s 26ms/step - loss: 0.3249\n",
      "Epoch 17/50\n",
      "233/233 [==============================] - 6s 26ms/step - loss: 0.3139\n",
      "Epoch 18/50\n",
      "233/233 [==============================] - 6s 26ms/step - loss: 0.3047\n",
      "Epoch 19/50\n",
      "233/233 [==============================] - 6s 26ms/step - loss: 0.2940\n",
      "Epoch 20/50\n",
      "233/233 [==============================] - 6s 26ms/step - loss: 0.2879\n",
      "Epoch 21/50\n",
      "233/233 [==============================] - 6s 26ms/step - loss: 0.2802\n",
      "Epoch 22/50\n",
      "233/233 [==============================] - 6s 26ms/step - loss: 0.2752\n",
      "Epoch 23/50\n",
      "233/233 [==============================] - 6s 26ms/step - loss: 0.2678\n",
      "Epoch 24/50\n",
      "233/233 [==============================] - 6s 26ms/step - loss: 0.2636\n",
      "Epoch 25/50\n",
      "233/233 [==============================] - 6s 26ms/step - loss: 0.2635\n",
      "Epoch 26/50\n",
      "233/233 [==============================] - 6s 26ms/step - loss: 0.2567\n",
      "Epoch 27/50\n",
      "233/233 [==============================] - 6s 26ms/step - loss: 0.2560\n",
      "Epoch 28/50\n",
      "233/233 [==============================] - 6s 26ms/step - loss: 0.2529\n",
      "Epoch 29/50\n",
      "233/233 [==============================] - 6s 26ms/step - loss: 0.2464\n",
      "Epoch 30/50\n",
      "233/233 [==============================] - 6s 25ms/step - loss: 0.2420\n",
      "Epoch 31/50\n",
      "233/233 [==============================] - 6s 26ms/step - loss: 0.2397\n",
      "Epoch 32/50\n",
      "233/233 [==============================] - 6s 25ms/step - loss: 0.2338\n",
      "Epoch 33/50\n",
      "233/233 [==============================] - 6s 25ms/step - loss: 0.2322\n",
      "Epoch 34/50\n",
      "233/233 [==============================] - 6s 25ms/step - loss: 0.2295\n",
      "Epoch 35/50\n",
      "233/233 [==============================] - 6s 25ms/step - loss: 0.2269\n",
      "Epoch 36/50\n",
      "233/233 [==============================] - 6s 25ms/step - loss: 0.2263\n",
      "Epoch 37/50\n",
      "233/233 [==============================] - 6s 26ms/step - loss: 0.2241\n",
      "Epoch 38/50\n",
      "233/233 [==============================] - 6s 25ms/step - loss: 0.2212\n",
      "Epoch 39/50\n",
      "233/233 [==============================] - 6s 25ms/step - loss: 0.2204\n",
      "Epoch 40/50\n",
      "233/233 [==============================] - 6s 26ms/step - loss: 0.2192\n",
      "Epoch 41/50\n",
      "233/233 [==============================] - 6s 26ms/step - loss: 0.2161\n",
      "Epoch 42/50\n",
      "233/233 [==============================] - 6s 26ms/step - loss: 0.2174\n",
      "Epoch 43/50\n",
      "233/233 [==============================] - 6s 26ms/step - loss: 0.2148\n",
      "Epoch 44/50\n",
      "233/233 [==============================] - 6s 26ms/step - loss: 0.2140\n",
      "Epoch 45/50\n",
      "233/233 [==============================] - 6s 25ms/step - loss: 0.2099\n",
      "Epoch 46/50\n",
      "233/233 [==============================] - 6s 25ms/step - loss: 0.2090\n",
      "Epoch 47/50\n",
      "233/233 [==============================] - 6s 25ms/step - loss: 0.2074\n",
      "Epoch 48/50\n",
      "233/233 [==============================] - 6s 26ms/step - loss: 0.2044\n",
      "Epoch 49/50\n",
      "233/233 [==============================] - 6s 25ms/step - loss: 0.2025\n",
      "Epoch 50/50\n",
      "233/233 [==============================] - 6s 26ms/step - loss: 0.2035\n",
      "Training execution time (mins) 7.087873514493307\n"
     ]
    }
   ],
   "source": [
    "############################\n",
    "# Training Params\n",
    "############################\n",
    "learning_rate = 5e-3\n",
    "epochs = 50\n",
    "\n",
    "# Free up memory\n",
    "tf.keras.backend.clear_session()\n",
    "\n",
    "# Build the model\n",
    "model, evaluation_model = build_model()\n",
    "\n",
    "# Print the model architecture\n",
    "#print(model.summary())\n",
    "\n",
    "# Optimizer\n",
    "optimizer = tf.keras.optimizers.Adam(learning_rate=learning_rate)\n",
    "# Loss\n",
    "loss = tf.keras.losses.sparse_categorical_crossentropy\n",
    "\n",
    "# Compile\n",
    "model.compile(loss=loss,\n",
    "                  optimizer=optimizer)\n",
    "\n",
    "# Train model\n",
    "start_time = time.time()\n",
    "training_results = model.fit(\n",
    "        train_data,\n",
    "        epochs=epochs, \n",
    "        verbose=1)\n",
    "execution_time = (time.time() - start_time)/60.0\n",
    "print(\"Training execution time (mins)\",execution_time)"
   ]
  },
  {
   "cell_type": "markdown",
   "metadata": {
    "id": "LyTQGBpOmZQN"
   },
   "source": [
    "### **Evalute Model**\n",
    "\n",
    "Now use the evalution model to output the weights and visualize them"
   ]
  },
  {
   "cell_type": "code",
   "execution_count": null,
   "metadata": {
    "colab": {
     "base_uri": "https://localhost:8080/"
    },
    "id": "unhLZYRA_z9C",
    "outputId": "886bdc41-131c-42dc-8a64-cd3dfff17664"
   },
   "outputs": [
    {
     "name": "stdout",
     "output_type": "stream",
     "text": [
      "(512, 6) (512, 7) (512, 7)\n",
      "Input English:\n",
      "['<s> i love beer </s>']\n",
      "Input Spanish:\n",
      "['<s> me encanta la cerveza']\n",
      "Output Spanish:\n",
      "['me encanta la cerveza </s>']\n"
     ]
    }
   ],
   "source": [
    "for batch in train_data.take(1):\n",
    "  (ip_eng,ip_spa),output = batch\n",
    "  print(ip_eng.shape,ip_spa.shape,output.shape)\n",
    "\n",
    "  print(\"Input English:\")\n",
    "  print(tokenizer_eng.sequences_to_texts([ip_eng[0].numpy()]))\n",
    "  print(\"Input Spanish:\")\n",
    "  print(tokenizer_spa.sequences_to_texts([ip_spa[0].numpy()]))\n",
    "  print(\"Output Spanish:\")\n",
    "  print(tokenizer_spa.sequences_to_texts([output[0].numpy()]))\n",
    "\n",
    "# Use the evaluation model to get the weights and associated sentences in both languages  \n",
    "alphas,eng,spa = evaluation_model((ip_eng,ip_spa))"
   ]
  },
  {
   "cell_type": "code",
   "execution_count": null,
   "metadata": {
    "id": "nQ2QOYhd9dMw"
   },
   "outputs": [],
   "source": [
    "# Size we get an entire batch as output, pick one for a particular sentence\n",
    "sentence=0\n",
    "base_eng_sentence = eng[sentence].numpy()\n",
    "base_spa_sentence = spa[sentence].numpy()\n",
    "scores = alphas[sentence].numpy()\n",
    "# Remove mask 0\n",
    "b_eng = base_eng_sentence>0\n",
    "b_spa = base_spa_sentence>0\n",
    "eng_sentence = base_eng_sentence[b_eng]\n",
    "spa_sentence = base_spa_sentence[b_spa]\n",
    "# Make sure to adjust for the tokens \n",
    "spa_sentence = spa_sentence[1:]\n",
    "eng_sentence = eng_sentence[:-1]"
   ]
  },
  {
   "cell_type": "code",
   "execution_count": null,
   "metadata": {
    "colab": {
     "base_uri": "https://localhost:8080/",
     "height": 325
    },
    "id": "k5oDW3769dQH",
    "outputId": "965572d2-8bd9-4db6-fe6e-44784cb6facd"
   },
   "outputs": [
    {
     "data": {
      "image/png": "[encoded data removed]",
      "text/plain": [
       "<Figure size 288x336 with 1 Axes>"
      ]
     },
     "metadata": {
      "needs_background": "light"
     },
     "output_type": "display_data"
    }
   ],
   "source": [
    "# Plot your results \n",
    "plt.matshow(scores, aspect='auto', cmap=plt.get_cmap('Blues'))\n",
    "plt.ylim(spa_sentence.shape[0]-0.5,0-0.5)\n",
    "spa_words = tokenizer_spa.sequences_to_texts([spa_sentence[::-1]])[0].split(' ')\n",
    "plt.yticks(ticks = range(spa_sentence.shape[0])[::-1], labels=spa_words, rotation = 0)\n",
    "\n",
    "plt.xlim(0-0.5,eng_sentence.shape[0]-0.5)\n",
    "eng_words = tokenizer_eng.sequences_to_texts([eng_sentence])[0].split(' ')\n",
    "\n",
    "plt.xticks(ticks = range(eng_sentence.shape[0]), labels=eng_words, rotation = 45)\n",
    "\n",
    "plt.show()"
   ]
  },
  {
   "cell_type": "markdown",
   "metadata": {
    "id": "bvgSNdERCuvj"
   },
   "source": [
    "### **Analyse Model Architecure**"
   ]
  },
  {
   "cell_type": "code",
   "execution_count": 15,
   "metadata": {
    "colab": {
     "base_uri": "https://localhost:8080/"
    },
    "id": "S0Y5-oybCtEA",
    "outputId": "f3b0ead7-4deb-4ecf-93d3-94186133f548"
   },
   "outputs": [
    {
     "name": "stderr",
     "output_type": "stream",
     "text": [
      "2022-04-16 02:46:03.378334: I tensorflow/stream_executor/cuda/cuda_dnn.cc:368] Loaded cuDNN version 8100\n"
     ]
    },
    {
     "name": "stdout",
     "output_type": "stream",
     "text": [
      "emb_eng (512, 6, 128) [batch size, sequence length english, embedding dim]\n",
      "encoder_states (512, 6, 128) [batch size, sequence length english, embedding dim]\n",
      "last_encoder_state (512, 128) [batch size, embedding dim]\n",
      "****\n",
      "emb_spa (512, 7, 128) [batch size, sequence length spanish, embedding dim]\n",
      "decoder_states (512, 7, 128) [batch size, sequence length spanish, embedding dim]\n",
      "****\n",
      "r_encoder (512, 6, 64) [batch size, sequence length english, projection size]\n",
      "r_decoder (512, 7, 64) [batch size, sequence length spanish, projection size]\n",
      "****\n",
      "query (512, 7, 1, 64) [batch size, sequence length spanish, 1, projection size]\n",
      "value (512, 1, 6, 64) [batch size, 1, sequence length english, projection size]\n",
      "****\n",
      "score (512, 7, 6) [batch size,sequence length spanish, sequence length english]\n",
      "weights (512, 7, 6) [batch size, sequence length spanish, sequence length english]\n",
      "****\n",
      "context_vector (512, 7, 128) [batch size, sequence length spanish, encoder_states->embedding dim ]\n",
      "enhanced_encoding (512, 7, 256) [batch size, sequence length spanish, encoder_states->embedding dim + decoder_states->embedding dim]\n",
      "output_spa (512, 7, 5001) [batch size, sequence length spanish, vocabulary size+1]\n"
     ]
    }
   ],
   "source": [
    "inputs_eng = tf.keras.Input(shape=[None])\n",
    "inputs_spa = tf.keras.Input(shape=[None])\n",
    "emb_eng = tf.keras.layers.Embedding(input_dim=tokenizer_eng.num_words+1, \n",
    "                                    output_dim = 128, \n",
    "                                    mask_zero=True,\n",
    "                                    name='Encoder_embedding')(inputs_eng)\n",
    "encoder_states = tf.keras.layers.GRU(128, return_sequences=True, name='Encoder_RNN_f')(emb_eng)\n",
    "last_encoder_state = encoder_states[:,-1,:]\n",
    "\n",
    "# Decoder\n",
    "emb_spa = tf.keras.layers.Embedding(input_dim=tokenizer_spa.num_words+1, \n",
    "                                  output_dim = 128, \n",
    "                                  mask_zero=True,\n",
    "                                  name='Decoder_embedding')(inputs_spa)\n",
    "decoder_states = tf.keras.layers.GRU(128, return_sequences=True,  name='Decoder_RNN')(emb_spa)\n",
    "\n",
    "# Create projections for the encoder and decoder hidden states \n",
    "hidden_size=64\n",
    "r_encoder = tf.keras.layers.Dense(hidden_size, activation=None, use_bias=False)(encoder_states)\n",
    "r_decoder = tf.keras.layers.Dense(hidden_size, activation=None, use_bias=False)(decoder_states)\n",
    "\n",
    "# Compute Attention\n",
    "# Step 1:\n",
    "# Expand the dimensions for the query and the value at the appropriate locations \n",
    "query = tf.expand_dims(r_decoder, axis=2)\n",
    "value = tf.expand_dims(r_encoder, axis=1)\n",
    "\n",
    "# Step 2:\n",
    "# Compute the score as in Bahdanau's paper  \n",
    "score = tf.reduce_sum(tf.tanh(query + value, name='Score'), axis=-1)\n",
    "\n",
    "N_query = tf.reduce_sum(tf.cast(inputs_spa>0, tf.float32), axis=1)\n",
    "query_mask = tf.sequence_mask(N_query)\n",
    "\n",
    "N_value = tf.reduce_sum(tf.cast(inputs_eng>0, tf.float32), axis=1)\n",
    "value_mask = tf.sequence_mask(N_value)\n",
    "\n",
    "# Mask the score\n",
    "m1 = tf.sequence_mask(N_query, dtype=tf.float32)\n",
    "m2 = tf.sequence_mask(N_value, dtype=tf.float32)\n",
    "\n",
    "score = tf.transpose(tf.multiply(tf.transpose(score,[2,0,1]), m1),[1,2,0])\n",
    "score = tf.transpose(tf.multiply(tf.transpose(score,[1,0,2]), m2), [1,0,2])\n",
    "\n",
    "weights = tf.nn.softmax(score, axis=2, name='Weights')\n",
    "\n",
    "context_vector = tf.matmul(weights, encoder_states)\n",
    "# Concatenate the context vector with the decoder states \n",
    "enhanced_encoding = tf.keras.layers.Concatenate(axis=2)([context_vector, decoder_states])\n",
    "\n",
    "# Pass the enhanced encoding to a dense layer with softmax activation \n",
    "output_spa = tf.keras.layers.Dense(tokenizer_spa.num_words+1,activation='softmax')(enhanced_encoding)\n",
    "\n",
    "outputs = [emb_eng, encoder_states, last_encoder_state, \n",
    "           emb_spa, decoder_states, r_encoder, r_decoder, query, value, score, \n",
    "           weights, context_vector, enhanced_encoding, output_spa]\n",
    "\n",
    "model = tf.keras.Model(inputs=(inputs_eng, inputs_spa), outputs=outputs)\n",
    "\n",
    "#print(model.summary())\n",
    "\n",
    "op = model.predict(train_data.take(1))\n",
    "print(\"emb_eng\",op[0].shape , \"[batch size, sequence length english, embedding dim]\")\n",
    "print(\"encoder_states\", op[1].shape, \"[batch size, sequence length english, embedding dim]\")\n",
    "print(\"last_encoder_state\", op[2].shape, \"[batch size, embedding dim]\")\n",
    "print(\"****\")\n",
    "print(\"emb_spa\",op[3].shape , \"[batch size, sequence length spanish, embedding dim]\")\n",
    "print(\"decoder_states\", op[4].shape, \"[batch size, sequence length spanish, embedding dim]\")\n",
    "print(\"****\")\n",
    "print(\"r_encoder\", op[5].shape, \"[batch size, sequence length english, projection size]\")\n",
    "print(\"r_decoder\", op[6].shape, \"[batch size, sequence length spanish, projection size]\")\n",
    "print(\"****\")\n",
    "print(\"query\", op[7].shape, \"[batch size, sequence length spanish, 1, projection size]\")\n",
    "print(\"value\", op[8].shape, \"[batch size, 1, sequence length english, projection size]\")\n",
    "print(\"****\")\n",
    "print(\"score\", op[9].shape, \"[batch size,sequence length spanish, sequence length english]\")\n",
    "print(\"weights\", op[10].shape, \"[batch size, sequence length spanish, sequence length english]\")\n",
    "print(\"****\")\n",
    "print(\"context_vector\", op[11].shape, \"[batch size, sequence length spanish, encoder_states->embedding dim ]\")\n",
    "print(\"enhanced_encoding\", op[12].shape, \n",
    "      \"[batch size, sequence length spanish, encoder_states->embedding dim + decoder_states->embedding dim]\")\n",
    "print(\"output_spa\", op[13].shape, \"[batch size, sequence length spanish, vocabulary size+1]\")"
   ]
  },
  {
   "cell_type": "markdown",
   "metadata": {
    "id": "D7CvAwaB-ggs"
   },
   "source": [
    "## **Self-Attention & Transformers**"
   ]
  },
  {
   "cell_type": "markdown",
   "metadata": {
    "id": "S3yH6q94lJKI"
   },
   "source": [
    "### **Overview**\n",
    "\n",
    "The aim of this section is to build and train a Transformer model from scratch. For this, we will be using an English to Spanish translation dataset. We are going to perform machine translation from english to spanish using an encoder decoder architecture. \n",
    "\n",
    "**The Task:** Perform Neural Machine Translation from english to spanish.\n",
    "\n"
   ]
  },
  {
   "cell_type": "markdown",
   "metadata": {
    "id": "HwQLea2c-vCg"
   },
   "source": [
    "### **Dataset**\n",
    "\n",
    "The dataset consists of English to Spanish translations from http://www.manythings.org/ \n",
    "\n"
   ]
  },
  {
   "cell_type": "markdown",
   "metadata": {
    "id": "1UKv1rRKnyzK"
   },
   "source": [
    "**Load Data**\n",
    "\n",
    "Load the english to spanish dataset"
   ]
  },
  {
   "cell_type": "code",
   "execution_count": 16,
   "metadata": {
    "id": "p3T73Ff8q2Qc"
   },
   "outputs": [],
   "source": [
    "# Read the English to Spanish datafile into a pandas dataframe\n",
    "# Use columns [0,1] with tab as the seperator, no head\n",
    "# Set the names of the columns as \"English\" and \"Spanish\"\n",
    "file_url = 'https://storage.googleapis.com/cs109b/nlp/spa.txt'\n",
    "data = pd.read_csv(file_url, sep='\\t', header=None, usecols=[0,1], names=['English', 'Spanish'])"
   ]
  },
  {
   "cell_type": "code",
   "execution_count": 17,
   "metadata": {
    "colab": {
     "base_uri": "https://localhost:8080/",
     "height": 381
    },
    "id": "JGMWMJP18mwc",
    "outputId": "7683a350-0ee3-4c43-b8ff-555ff7c67ebc"
   },
   "outputs": [
    {
     "name": "stdout",
     "output_type": "stream",
     "text": [
      "Shape: (118964, 2)\n"
     ]
    },
    {
     "data": {
      "text/html": [
       "<div>\n",
       "<style scoped>\n",
       "    .dataframe tbody tr th:only-of-type {\n",
       "        vertical-align: middle;\n",
       "    }\n",
       "\n",
       "    .dataframe tbody tr th {\n",
       "        vertical-align: top;\n",
       "    }\n",
       "\n",
       "    .dataframe thead th {\n",
       "        text-align: right;\n",
       "    }\n",
       "</style>\n",
       "<table border=\"1\" class=\"dataframe\">\n",
       "  <thead>\n",
       "    <tr style=\"text-align: right;\">\n",
       "      <th></th>\n",
       "      <th>English</th>\n",
       "      <th>Spanish</th>\n",
       "    </tr>\n",
       "  </thead>\n",
       "  <tbody>\n",
       "    <tr>\n",
       "      <th>0</th>\n",
       "      <td>Go.</td>\n",
       "      <td>Ve.</td>\n",
       "    </tr>\n",
       "    <tr>\n",
       "      <th>1</th>\n",
       "      <td>Go.</td>\n",
       "      <td>Vete.</td>\n",
       "    </tr>\n",
       "    <tr>\n",
       "      <th>2</th>\n",
       "      <td>Go.</td>\n",
       "      <td>Vaya.</td>\n",
       "    </tr>\n",
       "    <tr>\n",
       "      <th>3</th>\n",
       "      <td>Go.</td>\n",
       "      <td>Váyase.</td>\n",
       "    </tr>\n",
       "    <tr>\n",
       "      <th>4</th>\n",
       "      <td>Hi.</td>\n",
       "      <td>Hola.</td>\n",
       "    </tr>\n",
       "    <tr>\n",
       "      <th>5</th>\n",
       "      <td>Run!</td>\n",
       "      <td>¡Corre!</td>\n",
       "    </tr>\n",
       "    <tr>\n",
       "      <th>6</th>\n",
       "      <td>Run.</td>\n",
       "      <td>Corred.</td>\n",
       "    </tr>\n",
       "    <tr>\n",
       "      <th>7</th>\n",
       "      <td>Who?</td>\n",
       "      <td>¿Quién?</td>\n",
       "    </tr>\n",
       "    <tr>\n",
       "      <th>8</th>\n",
       "      <td>Fire!</td>\n",
       "      <td>¡Fuego!</td>\n",
       "    </tr>\n",
       "    <tr>\n",
       "      <th>9</th>\n",
       "      <td>Fire!</td>\n",
       "      <td>¡Incendio!</td>\n",
       "    </tr>\n",
       "  </tbody>\n",
       "</table>\n",
       "</div>"
      ],
      "text/plain": [
       "  English     Spanish\n",
       "0     Go.         Ve.\n",
       "1     Go.       Vete.\n",
       "2     Go.       Vaya.\n",
       "3     Go.     Váyase.\n",
       "4     Hi.       Hola.\n",
       "5    Run!     ¡Corre!\n",
       "6    Run.     Corred.\n",
       "7    Who?     ¿Quién?\n",
       "8   Fire!     ¡Fuego!\n",
       "9   Fire!  ¡Incendio!"
      ]
     },
     "execution_count": 17,
     "metadata": {},
     "output_type": "execute_result"
    }
   ],
   "source": [
    "# Take a quick look of the dataset\n",
    "print(\"Shape:\",data.shape)\n",
    "data.head(10)"
   ]
  },
  {
   "cell_type": "markdown",
   "metadata": {
    "id": "PK1zV88zoPW0"
   },
   "source": [
    "**Add Start/End Tokens**\n",
    "\n",
    "Add start `<s>` and end `</s>` tokens to each word"
   ]
  },
  {
   "cell_type": "code",
   "execution_count": 18,
   "metadata": {
    "id": "1OIdTW0Y8m18"
   },
   "outputs": [],
   "source": [
    "# For Spanish sentence in the dataframe \n",
    "# add the start <s> and end </s> tokens\n",
    "data.Spanish = '<s> '+data.Spanish+' </s>'"
   ]
  },
  {
   "cell_type": "code",
   "execution_count": 19,
   "metadata": {
    "colab": {
     "base_uri": "https://localhost:8080/",
     "height": 363
    },
    "id": "lZ0tZZc9tXu9",
    "outputId": "cb2f2c41-326a-477f-f40e-88a9c72382f9"
   },
   "outputs": [
    {
     "data": {
      "text/html": [
       "<div>\n",
       "<style scoped>\n",
       "    .dataframe tbody tr th:only-of-type {\n",
       "        vertical-align: middle;\n",
       "    }\n",
       "\n",
       "    .dataframe tbody tr th {\n",
       "        vertical-align: top;\n",
       "    }\n",
       "\n",
       "    .dataframe thead th {\n",
       "        text-align: right;\n",
       "    }\n",
       "</style>\n",
       "<table border=\"1\" class=\"dataframe\">\n",
       "  <thead>\n",
       "    <tr style=\"text-align: right;\">\n",
       "      <th></th>\n",
       "      <th>English</th>\n",
       "      <th>Spanish</th>\n",
       "    </tr>\n",
       "  </thead>\n",
       "  <tbody>\n",
       "    <tr>\n",
       "      <th>0</th>\n",
       "      <td>Go.</td>\n",
       "      <td>&lt;s&gt; Ve. &lt;/s&gt;</td>\n",
       "    </tr>\n",
       "    <tr>\n",
       "      <th>1</th>\n",
       "      <td>Go.</td>\n",
       "      <td>&lt;s&gt; Vete. &lt;/s&gt;</td>\n",
       "    </tr>\n",
       "    <tr>\n",
       "      <th>2</th>\n",
       "      <td>Go.</td>\n",
       "      <td>&lt;s&gt; Vaya. &lt;/s&gt;</td>\n",
       "    </tr>\n",
       "    <tr>\n",
       "      <th>3</th>\n",
       "      <td>Go.</td>\n",
       "      <td>&lt;s&gt; Váyase. &lt;/s&gt;</td>\n",
       "    </tr>\n",
       "    <tr>\n",
       "      <th>4</th>\n",
       "      <td>Hi.</td>\n",
       "      <td>&lt;s&gt; Hola. &lt;/s&gt;</td>\n",
       "    </tr>\n",
       "    <tr>\n",
       "      <th>5</th>\n",
       "      <td>Run!</td>\n",
       "      <td>&lt;s&gt; ¡Corre! &lt;/s&gt;</td>\n",
       "    </tr>\n",
       "    <tr>\n",
       "      <th>6</th>\n",
       "      <td>Run.</td>\n",
       "      <td>&lt;s&gt; Corred. &lt;/s&gt;</td>\n",
       "    </tr>\n",
       "    <tr>\n",
       "      <th>7</th>\n",
       "      <td>Who?</td>\n",
       "      <td>&lt;s&gt; ¿Quién? &lt;/s&gt;</td>\n",
       "    </tr>\n",
       "    <tr>\n",
       "      <th>8</th>\n",
       "      <td>Fire!</td>\n",
       "      <td>&lt;s&gt; ¡Fuego! &lt;/s&gt;</td>\n",
       "    </tr>\n",
       "    <tr>\n",
       "      <th>9</th>\n",
       "      <td>Fire!</td>\n",
       "      <td>&lt;s&gt; ¡Incendio! &lt;/s&gt;</td>\n",
       "    </tr>\n",
       "  </tbody>\n",
       "</table>\n",
       "</div>"
      ],
      "text/plain": [
       "  English              Spanish\n",
       "0     Go.         <s> Ve. </s>\n",
       "1     Go.       <s> Vete. </s>\n",
       "2     Go.       <s> Vaya. </s>\n",
       "3     Go.     <s> Váyase. </s>\n",
       "4     Hi.       <s> Hola. </s>\n",
       "5    Run!     <s> ¡Corre! </s>\n",
       "6    Run.     <s> Corred. </s>\n",
       "7    Who?     <s> ¿Quién? </s>\n",
       "8   Fire!     <s> ¡Fuego! </s>\n",
       "9   Fire!  <s> ¡Incendio! </s>"
      ]
     },
     "execution_count": 19,
     "metadata": {},
     "output_type": "execute_result"
    }
   ],
   "source": [
    "data.head(10)"
   ]
  },
  {
   "cell_type": "markdown",
   "metadata": {
    "id": "fYEPvRq_J-o1"
   },
   "source": [
    "**Split Data** \n",
    "We split data into train and test by randomly selecting 10% as the test set."
   ]
  },
  {
   "cell_type": "code",
   "execution_count": 20,
   "metadata": {
    "colab": {
     "base_uri": "https://localhost:8080/"
    },
    "id": "b0ZpfiCbJ_KL",
    "outputId": "f9fc01c1-cff4-45bc-a581-5c9ec44a9fff"
   },
   "outputs": [
    {
     "name": "stdout",
     "output_type": "stream",
     "text": [
      "train_en count: 107067\n",
      "test_en count: 11897\n",
      "train_en count: 107067\n",
      "test_en count: 11897\n"
     ]
    }
   ],
   "source": [
    "test_percent = 0.10\n",
    "\n",
    "data_en = data.English.values\n",
    "data_sp = data.Spanish.values\n",
    "\n",
    "# Split data into train / validate\n",
    "split_outputs = train_test_split(data_en, data_sp, test_size=test_percent)\n",
    "train_en, test_en, train_sp, test_sp = split_outputs\n",
    "\n",
    "print(\"train_en count:\",len(train_en))\n",
    "print(\"test_en count:\",len(test_en))\n",
    "print(\"train_en count:\",len(train_sp))\n",
    "print(\"test_en count:\",len(test_sp))"
   ]
  },
  {
   "cell_type": "markdown",
   "metadata": {
    "id": "K8N5dzj5oAQf"
   },
   "source": [
    "### **Build Data Pipelines**"
   ]
  },
  {
   "cell_type": "markdown",
   "metadata": {
    "id": "ZMqO0WXeoBVX"
   },
   "source": [
    "**Text Vectorization**\n",
    "\n",
    "[Reference](https://www.tensorflow.org/api_docs/python/tf/keras/layers/experimental/preprocessing/TextVectorization)\n"
   ]
  },
  {
   "cell_type": "code",
   "execution_count": 22,
   "metadata": {
    "id": "esKuYOeU8m4m"
   },
   "outputs": [],
   "source": [
    "vocab_size = 5000\n",
    "sequence_length = 20\n",
    "\n",
    "# Build a function to clean spanish text\n",
    "# Convert to lower case\n",
    "# filter out the special spanish token ¡ and ¿ commonly used in formal spanish\n",
    "strip_chars = '!\"#$%&\\'()*+,-.:;=?@[\\]^_`{|}~¿¡'\n",
    "def custom_standardization(input_string):\n",
    "    lowercase = tf.strings.lower(input_string)\n",
    "    return tf.strings.regex_replace(\n",
    "        lowercase, f\"[{re.escape(strip_chars)}]\", \"\")\n",
    "\n",
    "vectorization_eng = tf.keras.layers.TextVectorization(\n",
    "    max_tokens=vocab_size,\n",
    "    output_mode=\"int\",\n",
    "    output_sequence_length=sequence_length,\n",
    ")\n",
    "vectorization_spa = tf.keras.layers.TextVectorization(\n",
    "    max_tokens=vocab_size,\n",
    "    output_mode=\"int\",\n",
    "    output_sequence_length=sequence_length + 1,\n",
    "    standardize=custom_standardization,\n",
    ")"
   ]
  },
  {
   "cell_type": "code",
   "execution_count": 23,
   "metadata": {
    "id": "b0QMxVZ-8m7G"
   },
   "outputs": [],
   "source": [
    "# Fit both vectorizations on all the text in the dataframe for each language \n",
    "vectorization_eng.adapt(data.English)\n",
    "vectorization_spa.adapt(data.Spanish)"
   ]
  },
  {
   "cell_type": "markdown",
   "metadata": {
    "id": "atuMLV6-tsin"
   },
   "source": [
    "View some tokenized text"
   ]
  },
  {
   "cell_type": "code",
   "execution_count": 24,
   "metadata": {
    "colab": {
     "base_uri": "https://localhost:8080/"
    },
    "id": "aMgQT0Qrtu-P",
    "outputId": "a1ee16f4-6e34-4a67-ef1f-bdfb55ce8470"
   },
   "outputs": [
    {
     "name": "stdout",
     "output_type": "stream",
     "text": [
      "English: tf.Tensor([41  0  0  0  0  0  0  0  0  0  0  0  0  0  0  0  0  0  0  0], shape=(20,), dtype=int64)\n",
      "Spanish: tf.Tensor(\n",
      "[  2 368   3   0   0   0   0   0   0   0   0   0   0   0   0   0   0   0\n",
      "   0   0   0], shape=(21,), dtype=int64)\n",
      "English: tf.Tensor([41  0  0  0  0  0  0  0  0  0  0  0  0  0  0  0  0  0  0  0], shape=(20,), dtype=int64)\n",
      "Spanish: tf.Tensor(\n",
      "[   2 1329    3    0    0    0    0    0    0    0    0    0    0    0\n",
      "    0    0    0    0    0    0    0], shape=(21,), dtype=int64)\n",
      "English: tf.Tensor([41  0  0  0  0  0  0  0  0  0  0  0  0  0  0  0  0  0  0  0], shape=(20,), dtype=int64)\n",
      "Spanish: tf.Tensor(\n",
      "[  2 504   3   0   0   0   0   0   0   0   0   0   0   0   0   0   0   0\n",
      "   0   0   0], shape=(21,), dtype=int64)\n",
      "English: tf.Tensor([41  0  0  0  0  0  0  0  0  0  0  0  0  0  0  0  0  0  0  0], shape=(20,), dtype=int64)\n",
      "Spanish: tf.Tensor([2 1 3 0 0 0 0 0 0 0 0 0 0 0 0 0 0 0 0 0 0], shape=(21,), dtype=int64)\n",
      "English: tf.Tensor(\n",
      "[2271    0    0    0    0    0    0    0    0    0    0    0    0    0\n",
      "    0    0    0    0    0    0], shape=(20,), dtype=int64)\n",
      "Spanish: tf.Tensor(\n",
      "[   2 2066    3    0    0    0    0    0    0    0    0    0    0    0\n",
      "    0    0    0    0    0    0    0], shape=(21,), dtype=int64)\n"
     ]
    }
   ],
   "source": [
    "for idx in range(5):\n",
    "  print(\"English:\",vectorization_eng(data.English[idx]))\n",
    "  print(\"Spanish:\",vectorization_spa(data.Spanish[idx]))"
   ]
  },
  {
   "cell_type": "markdown",
   "metadata": {
    "id": "O60XCTjlpGx3"
   },
   "source": [
    "**Create TF Datasets**"
   ]
  },
  {
   "cell_type": "code",
   "execution_count": 25,
   "metadata": {
    "colab": {
     "base_uri": "https://localhost:8080/"
    },
    "id": "a7n_Q0CarXP5",
    "outputId": "bbb2ade9-aeb3-4e4c-de71-527726690980"
   },
   "outputs": [
    {
     "name": "stdout",
     "output_type": "stream",
     "text": [
      "train_data <PrefetchDataset element_spec=((TensorSpec(shape=(None, 20), dtype=tf.int64, name=None), TensorSpec(shape=(None, 20), dtype=tf.int64, name=None)), TensorSpec(shape=(None, 20), dtype=tf.int64, name=None))>\n",
      "test_data <PrefetchDataset element_spec=((TensorSpec(shape=(None, 20), dtype=tf.int64, name=None), TensorSpec(shape=(None, 20), dtype=tf.int64, name=None)), TensorSpec(shape=(None, 20), dtype=tf.int64, name=None))>\n"
     ]
    }
   ],
   "source": [
    "batch_size = 256\n",
    "train_shuffle_buffer_size = 5000\n",
    "\n",
    "# Write a mapping function to process the input data\n",
    "# First vectorize both english and spanish.\n",
    "# Since we are using the decoder to predict the next word, the target language must be processed. \n",
    "# The source data and target must be shifted by one position\n",
    "def process(eng, spa):\n",
    "    eng = vectorization_eng(eng)\n",
    "    spa = vectorization_spa(spa)\n",
    "    return (eng,spa[:, :-1]), spa[:, 1:]    # shift input and outputs\n",
    "\n",
    "# Create TF Dataset\n",
    "#train_data = tf.data.Dataset.from_tensor_slices((data.English, data.Spanish))\n",
    "train_data = tf.data.Dataset.from_tensor_slices((train_en, train_sp))\n",
    "test_data = tf.data.Dataset.from_tensor_slices((test_en, test_sp))\n",
    "\n",
    "#############\n",
    "# Train data\n",
    "#############\n",
    "# Apply all data processing logic\n",
    "train_data = train_data.shuffle(buffer_size=train_shuffle_buffer_size)\n",
    "train_data = train_data.batch(batch_size)\n",
    "train_data = train_data.map(process, num_parallel_calls=AUTOTUNE)\n",
    "train_data = train_data.prefetch(AUTOTUNE)\n",
    "\n",
    "#############\n",
    "# Test data\n",
    "#############\n",
    "# Apply all data processing logic\n",
    "test_data = test_data.batch(batch_size)\n",
    "test_data = test_data.map(process, num_parallel_calls=AUTOTUNE)\n",
    "test_data = test_data.prefetch(AUTOTUNE)\n",
    "\n",
    "print(\"train_data\",train_data)\n",
    "print(\"test_data\",test_data)"
   ]
  },
  {
   "cell_type": "code",
   "execution_count": 26,
   "metadata": {
    "colab": {
     "base_uri": "https://localhost:8080/"
    },
    "id": "ErBpm5SExTH4",
    "outputId": "01891216-3256-41f4-a42c-ccf2434ae1cc"
   },
   "outputs": [
    {
     "name": "stdout",
     "output_type": "stream",
     "text": [
      "(256, 20) (256, 20) (256, 20)\n",
      "Input English: tf.Tensor([15  5 16 97 48  0  0  0  0  0  0  0  0  0  0  0  0  0  0  0], shape=(20,), dtype=int64)\n",
      "Input Spanish: tf.Tensor([ 2 40 59  3  0  0  0  0  0  0  0  0  0  0  0  0  0  0  0  0], shape=(20,), dtype=int64)\n",
      "Output Spanish: tf.Tensor([40 59  3  0  0  0  0  0  0  0  0  0  0  0  0  0  0  0  0  0], shape=(20,), dtype=int64)\n",
      "****************\n"
     ]
    }
   ],
   "source": [
    "# View some data from tf.data dataset\n",
    "for (ip_eng,ip_spa),output in train_data.take(1):\n",
    "  print(ip_eng.shape,ip_spa.shape,output.shape)\n",
    "  \n",
    "  print(\"Input English:\",ip_eng[0])\n",
    "  print(\"Input Spanish:\",ip_spa[0])\n",
    "  print(\"Output Spanish:\",output[0])\n",
    "  print(\"****************\")"
   ]
  },
  {
   "cell_type": "markdown",
   "metadata": {
    "id": "2CQJR27GMtBC"
   },
   "source": [
    "### **Build Transformer Model**"
   ]
  },
  {
   "cell_type": "markdown",
   "metadata": {
    "id": "wq5_ioKYNhTZ"
   },
   "source": [
    "**Positional Encoding**\n",
    "\n",
    "Build a function to encode positions using the following technical details:\n",
    "\n",
    "<img src=\"https://storage.googleapis.com/public_colab_images/nlp/positional-encoding-math.png\" width=\"600\"/>"
   ]
  },
  {
   "cell_type": "code",
   "execution_count": 27,
   "metadata": {
    "id": "1Kw3JcKDNlQU"
   },
   "outputs": [],
   "source": [
    "def generate_positional_encoding(max_length, model_size):\n",
    "    pos_enc = np.array(\n",
    "        [\n",
    "            [pos / np.power(10000, 2 * (j // 2) / model_size) for j in range(model_size)]\n",
    "            if pos != 0\n",
    "            else np.zeros(model_size)\n",
    "            for pos in range(max_length)\n",
    "        ]\n",
    "    )\n",
    "    pos_enc[1:, 0::2] = np.sin(pos_enc[1:, 0::2])  # dim 2i\n",
    "    pos_enc[1:, 1::2] = np.cos(pos_enc[1:, 1::2])  # dim 2i+1\n",
    "    return pos_enc"
   ]
  },
  {
   "cell_type": "markdown",
   "metadata": {
    "id": "bbM8lTt5IsP5"
   },
   "source": [
    "**PositionalEmbedding Layer**\n",
    "\n",
    "We will build an positional embedding layer the combines token embedding as well as the postinal encoding\n",
    "\n",
    "<img src=\"https://storage.googleapis.com/public_colab_images/nlp/positional-encoding-layer.png\" width=\"800px\"/>"
   ]
  },
  {
   "cell_type": "code",
   "execution_count": 28,
   "metadata": {
    "id": "ZYXYEVisIn76"
   },
   "outputs": [],
   "source": [
    "class PositionalEmbedding(tf.keras.layers.Layer):\n",
    "    def __init__(self, sequence_length, input_dim, output_dim):\n",
    "      super().__init__()\n",
    "\n",
    "      # Layer parameters\n",
    "      self.sequence_length = sequence_length\n",
    "      self.input_dim = input_dim\n",
    "      self.output_dim = output_dim\n",
    "\n",
    "      # Token embedding Layer\n",
    "      self.token_embeddings = tf.keras.layers.Embedding(input_dim=input_dim, output_dim=output_dim)\n",
    "\n",
    "      # self.positional_embeddings = tf.keras.layers.Embedding(input_dim=sequence_length, output_dim=output_dim)\n",
    "\n",
    "    def call(self, inputs):\n",
    "      # Generate token embeddings\n",
    "      embedded_tokens = self.token_embeddings(inputs)\n",
    "      # Add positional encoding to the token embedding\n",
    "      return embedded_tokens + generate_positional_encoding(self.sequence_length,self.output_dim)  # comment this out\n",
    "\n",
    "      # embedded_positions = self.positional_embeddings(inputs)\n",
    "      # return embedded_tokens + embedded_positions\n",
    "\n",
    "    def compute_mask(self, inputs, mask=None):\n",
    "        return tf.math.not_equal(inputs, 0)"
   ]
  },
  {
   "cell_type": "markdown",
   "metadata": {
    "id": "H7oRNiNBAfmc"
   },
   "source": [
    "**Encoder Layer**\n",
    "\n",
    "We will build an encoder layer based on the following architecture\n",
    "\n",
    "<img src=\"https://storage.googleapis.com/public_colab_images/nlp/transformer_layer.png\" width=\"800px\"/>"
   ]
  },
  {
   "cell_type": "code",
   "execution_count": 29,
   "metadata": {
    "id": "4dAWhI60AiL8"
   },
   "outputs": [],
   "source": [
    "class EncoderLayer(tf.keras.layers.Layer):\n",
    "    def __init__(self, embed_dim, dense_dim, num_heads):\n",
    "        super().__init__()\n",
    "        # Layer parameters\n",
    "        self.embed_dim = embed_dim\n",
    "        self.dense_dim = dense_dim\n",
    "        self.num_heads = num_heads\n",
    "\n",
    "        # MultiHeadAttention Layer - Self Attention\n",
    "        self.attention = tf.keras.layers.MultiHeadAttention(num_heads=num_heads, key_dim=embed_dim//num_heads)\n",
    "        # Normalization Layer\n",
    "        self.attention_norm = tf.keras.layers.LayerNormalization()\n",
    "\n",
    "        # Dense projection\n",
    "        self.dense_proj = tf.keras.Sequential(\n",
    "            [tf.keras.layers.Dense(units=dense_dim, activation=\"relu\"),\n",
    "             tf.keras.layers.Dense(units=embed_dim)]\n",
    "        )\n",
    "        # Normalization Layer\n",
    "        self.dense_projection_norm = tf.keras.layers.LayerNormalization()\n",
    "\n",
    "    def call(self, inputs, mask=None):\n",
    "        # Apply mask\n",
    "        if mask is not None:\n",
    "            mask = mask[:, tf.newaxis, :]\n",
    "        \n",
    "        # Compute Self Attention\n",
    "        self_attention = self.attention(query=inputs, value=inputs, key=inputs, attention_mask=mask)\n",
    "        # Apply Normalization + Residual connection\n",
    "        self_attention = self.attention_norm(inputs + self_attention)\n",
    "\n",
    "        # Apply projection\n",
    "        layer_output = self.dense_proj(self_attention)\n",
    "        # Apply Normalization + Residual connection\n",
    "        layer_output = self.dense_projection_norm(self_attention + layer_output)\n",
    "        return layer_output"
   ]
  },
  {
   "cell_type": "markdown",
   "metadata": {
    "id": "rhz0FoOeI1ac"
   },
   "source": [
    "**Decoder Layer**\n",
    "\n",
    "We will build a decoder layer based on the following architecture\n",
    "\n",
    "<img src=\"https://storage.googleapis.com/public_colab_images/nlp/decoder_layer.png\" width=\"800px\"/>"
   ]
  },
  {
   "cell_type": "code",
   "execution_count": 30,
   "metadata": {
    "id": "vKr_d-kZI3p9"
   },
   "outputs": [],
   "source": [
    "class DecoderLayer(tf.keras.layers.Layer):\n",
    "    def __init__(self, embed_dim, dense_dim, num_heads):\n",
    "        super().__init__()\n",
    "        # Layer parameters\n",
    "        self.embed_dim = embed_dim\n",
    "        self.dense_dim = dense_dim\n",
    "        self.num_heads = num_heads\n",
    "\n",
    "        # MultiHeadAttention Layer - Self Attention\n",
    "        self.attention_1 = tf.keras.layers.MultiHeadAttention(num_heads=num_heads, key_dim=embed_dim//num_heads)\n",
    "        # Normalization Layer\n",
    "        self.attention_1_norm = tf.keras.layers.LayerNormalization()\n",
    "\n",
    "        # MultiHeadAttention Layer - Encoder-Decoder Attention\n",
    "        self.attention_2 = tf.keras.layers.MultiHeadAttention(num_heads=num_heads, key_dim=embed_dim//num_heads)\n",
    "        # Normalization Layer\n",
    "        self.attention_2_norm = tf.keras.layers.LayerNormalization()\n",
    "\n",
    "        # Dense projection\n",
    "        self.dense_proj = tf.keras.Sequential(\n",
    "            [tf.keras.layers.Dense(units=dense_dim, activation=\"relu\"),\n",
    "             tf.keras.layers.Dense(units=embed_dim)]\n",
    "        )\n",
    "        # Normalization Layer\n",
    "        self.dense_projection_norm = tf.keras.layers.LayerNormalization()\n",
    "\n",
    "        # Set supports_masking to ensures that the layer will propagate its input mask to its outputs\n",
    "        self.supports_masking = True\n",
    "\n",
    "    def call(self, inputs, encoder_outputs, mask=None):\n",
    "        # Get Causal Attention Mask\n",
    "        causal_mask = self.get_causal_attention_mask(inputs)\n",
    "        # Apply Padding Masks\n",
    "        if mask is not None:\n",
    "            padding_mask = tf.cast(mask[:, tf.newaxis, :], dtype=\"int32\")\n",
    "            padding_mask = tf.minimum(padding_mask, causal_mask)\n",
    "        \n",
    "        # Compute Self Attention\n",
    "        self_attention = self.attention_1(query=inputs,\n",
    "                                          value=inputs,\n",
    "                                          key=inputs,\n",
    "                                          attention_mask=causal_mask)\n",
    "        # Apply Normalization + Residual connection\n",
    "        self_attention = self.attention_1_norm(inputs + self_attention)\n",
    "\n",
    "        # Compute Encoder-Decoder Attention\n",
    "        encoder_decoder_attention = self.attention_2(query=self_attention,\n",
    "                                              value=encoder_outputs,\n",
    "                                              key=encoder_outputs,attention_mask=padding_mask)\n",
    "        # Apply Normalization + Residual connection\n",
    "        encoder_decoder_attention = self.attention_2_norm(self_attention + encoder_decoder_attention)\n",
    "\n",
    "        # Apply projection\n",
    "        layer_output = self.dense_proj(encoder_decoder_attention)\n",
    "        # Apply Normalization + Residual connection\n",
    "        layer_output = self.dense_projection_norm(encoder_decoder_attention + layer_output)\n",
    "        return layer_output\n",
    "    \n",
    "    def get_causal_attention_mask(self, inputs):\n",
    "        \"\"\"\n",
    "        Method to generates a causal mask:\n",
    "        Since the decoder looks at the entire sequence at once, we need to mask the future\n",
    "        \"\"\"\n",
    "        input_shape = tf.shape(inputs)\n",
    "        batch_size, sequence_length = input_shape[0], input_shape[1]\n",
    "        i = tf.range(sequence_length)[:, tf.newaxis]\n",
    "        j = tf.range(sequence_length)\n",
    "        mask = tf.cast(i >= j, dtype=\"int32\")\n",
    "        mask = tf.reshape(mask, (1, input_shape[1], input_shape[1]))\n",
    "        mult = tf.concat(\n",
    "            [tf.expand_dims(batch_size, -1),\n",
    "             tf.constant([1, 1], dtype=tf.int32)], axis=0)\n",
    "        return tf.tile(mask, mult)"
   ]
  },
  {
   "cell_type": "code",
   "execution_count": 31,
   "metadata": {
    "id": "ofjeCvSPPgRU"
   },
   "outputs": [],
   "source": [
    "def build_transformer_model(vocab_size, embedding_dim, num_heads, dense_dim):\n",
    "\n",
    "  # Model input\n",
    "  inputs_eng = tf.keras.Input(shape=[None])\n",
    "  inputs_spa = tf.keras.Input(shape=[None])\n",
    "\n",
    "  # Build the Encoder\n",
    "  encoder_ip = PositionalEmbedding(sequence_length, vocab_size, embedding_dim)(inputs_eng)\n",
    "  encoder_op = EncoderLayer(embedding_dim, dense_dim, num_heads)(encoder_ip) # Stack multiple layers\n",
    "\n",
    "  # Build the Decoder\n",
    "  decoder_ip = PositionalEmbedding(sequence_length, vocab_size, embedding_dim)(inputs_spa)\n",
    "  decoder_op = DecoderLayer(embedding_dim, dense_dim, num_heads)(decoder_ip, encoder_op) # Stack multiple layers\n",
    "  decoder_op = tf.keras.layers.Dropout(0.4)(decoder_op)\n",
    "\n",
    "  # Output Layer\n",
    "  output = tf.keras.layers.Dense(units=vocab_size, activation=\"softmax\")(decoder_op)\n",
    "\n",
    "  # Create model\n",
    "  model = tf.keras.Model([inputs_eng, inputs_spa], output)\n",
    "\n",
    "  return model"
   ]
  },
  {
   "cell_type": "code",
   "execution_count": 32,
   "metadata": {
    "colab": {
     "base_uri": "https://localhost:8080/"
    },
    "id": "rVhl0MTDRfZn",
    "outputId": "cc011517-fd28-4258-f0ed-6958d1200040"
   },
   "outputs": [
    {
     "name": "stdout",
     "output_type": "stream",
     "text": [
      "Model: \"model\"\n",
      "__________________________________________________________________________________________________\n",
      " Layer (type)                   Output Shape         Param #     Connected to                     \n",
      "==================================================================================================\n",
      " input_1 (InputLayer)           [(None, None)]       0           []                               \n",
      "                                                                                                  \n",
      " input_2 (InputLayer)           [(None, None)]       0           []                               \n",
      "                                                                                                  \n",
      " positional_embedding (Position  (None, 20, 256)     1280000     ['input_1[0][0]']                \n",
      " alEmbedding)                                                                                     \n",
      "                                                                                                  \n",
      " positional_embedding_1 (Positi  (None, 20, 256)     1280000     ['input_2[0][0]']                \n",
      " onalEmbedding)                                                                                   \n",
      "                                                                                                  \n",
      " encoder_layer (EncoderLayer)   (None, 20, 256)      1315072     ['positional_embedding[0][0]']   \n",
      "                                                                                                  \n",
      " decoder_layer (DecoderLayer)   (None, 20, 256)      1578752     ['positional_embedding_1[0][0]', \n",
      "                                                                  'encoder_layer[0][0]']          \n",
      "                                                                                                  \n",
      " dropout (Dropout)              (None, 20, 256)      0           ['decoder_layer[0][0]']          \n",
      "                                                                                                  \n",
      " dense_4 (Dense)                (None, 20, 5000)     1285000     ['dropout[0][0]']                \n",
      "                                                                                                  \n",
      "==================================================================================================\n",
      "Total params: 6,738,824\n",
      "Trainable params: 6,738,824\n",
      "Non-trainable params: 0\n",
      "__________________________________________________________________________________________________\n",
      "None\n",
      "Epoch 1/15\n",
      "419/419 [==============================] - 32s 56ms/step - loss: 1.7792\n",
      "Epoch 2/15\n",
      "419/419 [==============================] - 23s 56ms/step - loss: 1.4299\n",
      "Epoch 3/15\n",
      "419/419 [==============================] - 24s 56ms/step - loss: 1.2068\n",
      "Epoch 4/15\n",
      "419/419 [==============================] - 24s 57ms/step - loss: 1.0435\n",
      "Epoch 5/15\n",
      "419/419 [==============================] - 24s 57ms/step - loss: 0.9247\n",
      "Epoch 6/15\n",
      "419/419 [==============================] - 24s 57ms/step - loss: 0.8369\n",
      "Epoch 7/15\n",
      "419/419 [==============================] - 24s 58ms/step - loss: 0.7709\n",
      "Epoch 8/15\n",
      "419/419 [==============================] - 24s 58ms/step - loss: 0.7199\n",
      "Epoch 9/15\n",
      "419/419 [==============================] - 24s 58ms/step - loss: 0.6794\n",
      "Epoch 10/15\n",
      "419/419 [==============================] - 24s 58ms/step - loss: 0.6467\n",
      "Epoch 11/15\n",
      "419/419 [==============================] - 24s 58ms/step - loss: 0.6190\n",
      "Epoch 12/15\n",
      "419/419 [==============================] - 25s 59ms/step - loss: 0.5946\n",
      "Epoch 13/15\n",
      "419/419 [==============================] - 25s 59ms/step - loss: 0.5742\n",
      "Epoch 14/15\n",
      "419/419 [==============================] - 25s 59ms/step - loss: 0.5558\n",
      "Epoch 15/15\n",
      "419/419 [==============================] - 25s 59ms/step - loss: 0.5387\n",
      "Training execution time (mins) 6.202343153953552\n"
     ]
    }
   ],
   "source": [
    "############################\n",
    "# Training Params\n",
    "############################\n",
    "learning_rate = 0.001\n",
    "epochs = 15\n",
    "embedding_dim = 256\n",
    "dense_dim = 2048\n",
    "num_heads = 8\n",
    "\n",
    "# Free up memory\n",
    "tf.keras.backend.clear_session()\n",
    "\n",
    "# Build the model\n",
    "model = build_transformer_model(vocab_size, embedding_dim, num_heads, dense_dim)\n",
    "\n",
    "# Print the model architecture\n",
    "print(model.summary())\n",
    "\n",
    "# Optimizer\n",
    "optimizer = tf.keras.optimizers.RMSprop(learning_rate=learning_rate)\n",
    "# Loss\n",
    "loss = tf.keras.losses.sparse_categorical_crossentropy\n",
    "\n",
    "# Compile\n",
    "model.compile(loss=loss,\n",
    "                  optimizer=optimizer)\n",
    "\n",
    "# Train model\n",
    "start_time = time.time()\n",
    "training_results = model.fit(\n",
    "        train_data,\n",
    "        epochs=epochs, \n",
    "        verbose=1)\n",
    "execution_time = (time.time() - start_time)/60.0\n",
    "print(\"Training execution time (mins)\",execution_time)"
   ]
  },
  {
   "cell_type": "markdown",
   "metadata": {
    "id": "tjvzou36JNeY"
   },
   "source": [
    "**Make Predictions**"
   ]
  },
  {
   "cell_type": "code",
   "execution_count": 33,
   "metadata": {
    "colab": {
     "base_uri": "https://localhost:8080/"
    },
    "id": "OZkcnh1T8nUp",
    "outputId": "d4e354cd-4d87-46ee-bf7c-21510311fec1"
   },
   "outputs": [
    {
     "name": "stdout",
     "output_type": "stream",
     "text": [
      "-\n",
      "I think I know what the problem is.\n",
      "<s> creo que sé cuál es el problema </s>\n",
      "-\n",
      "They're afraid of us.\n",
      "<s> ellos les tienen miedo </s>\n",
      "-\n",
      "This is our fault.\n",
      "<s> es culpa nuestra culpa </s>\n",
      "-\n",
      "I'm a junior high school student.\n",
      "<s> soy una [UNK] de [UNK] de grande de [UNK] </s>\n",
      "-\n",
      "I don't owe anyone anything.\n",
      "<s> no te debo nada de nadie </s>\n",
      "-\n",
      "I told Tom no.\n",
      "<s> yo dije a tom no </s>\n",
      "-\n",
      "Can you start tomorrow?\n",
      "<s> puedes empezar mañana </s>\n",
      "-\n",
      "He introduced me to his parents.\n",
      "<s> Él me [UNK] a sus padres </s>\n",
      "-\n",
      "Illness prevented me from going out.\n",
      "<s> la enfermedad me impidió salir </s>\n",
      "-\n",
      "Tom smiled at Mary.\n",
      "<s> tom sonrió a mary </s>\n",
      "-\n",
      "We set a trap to catch a fox.\n",
      "<s> nosotros [UNK] una trampa para un zorro </s>\n",
      "-\n",
      "Tom has had enough.\n",
      "<s> tom ya tiene suficiente </s>\n",
      "-\n",
      "I didn't ask to be chosen.\n",
      "<s> no te pedí ser [UNK] </s>\n",
      "-\n",
      "I wish I had known the truth.\n",
      "<s> ojalá hubiera sabido que ella la verdad </s>\n",
      "-\n",
      "Never open the door of a car that is in motion.\n",
      "<s> nunca [UNK] la puerta de un auto en [UNK] </s>\n",
      "-\n",
      "You've never been to Paris, have you?\n",
      "<s> nunca has estado en parís verdad </s>\n",
      "-\n",
      "Have you eaten supper yet?\n",
      "<s> ya has [UNK] </s>\n",
      "-\n",
      "Tom is having trouble dealing with the fact that his father was a mass murderer.\n",
      "<s> tom está teniendo problemas para hacer ese hecho de que su padre fue un [UNK] de [UNK] </s>\n",
      "-\n",
      "When I got home, I noticed that I had lost my wallet.\n",
      "<s> cuando llegué a casa me di cuenta de haber perdido mi billetera </s>\n",
      "-\n",
      "The socks smell bad.\n",
      "<s> los calcetines [UNK] mal </s>\n"
     ]
    }
   ],
   "source": [
    "spa_vocab = vectorization_spa.get_vocabulary()\n",
    "spa_index_lookup = dict(zip(range(len(spa_vocab)), spa_vocab))\n",
    "max_decoded_sentence_length = sequence_length\n",
    "\n",
    "def decode_sequence(input_sentence):\n",
    "    tokenized_input_sentence = vectorization_eng([input_sentence])\n",
    "    decoded_sentence = \"<s>\"\n",
    "    for i in range(max_decoded_sentence_length):\n",
    "        tokenized_target_sentence = vectorization_spa(\n",
    "            [decoded_sentence])[:, :-1]\n",
    "        predictions = model(\n",
    "            [tokenized_input_sentence, tokenized_target_sentence])\n",
    "        sampled_token_index = np.argmax(predictions[0, i, :])\n",
    "        sampled_token = spa_index_lookup[sampled_token_index]\n",
    "        decoded_sentence += \" \" + sampled_token\n",
    "        if sampled_token == \"</s>\":\n",
    "            break\n",
    "    return decoded_sentence\n",
    "\n",
    "for _ in range(20):\n",
    "    input_sentence = random.choice(data.English)\n",
    "    print(\"-\")\n",
    "    print(input_sentence)\n",
    "    print(decode_sequence(input_sentence))"
   ]
  },
  {
   "cell_type": "markdown",
   "metadata": {
    "id": "yhYyV7wZ-vLh"
   },
   "source": [
    "## **Text Classification using Language Models**"
   ]
  },
  {
   "cell_type": "markdown",
   "metadata": {
    "id": "kqX23tjULArl"
   },
   "source": [
    "### **Overview**\n",
    "\n",
    "In this section, we're going to be working with news articles from CNN. We will explore the dataset, prepare the data for modeling, and try different models, which includes simple networks, networks with embeddings, networks with pretrained embeddings and BERT.\n",
    "\n",
    "**The Task:** Classify news articles into three categories, namely politics, health, and entertainment."
   ]
  },
  {
   "cell_type": "markdown",
   "metadata": {
    "id": "FfBllrkLLEbO"
   },
   "source": [
    "### **Dataset**\n",
    "\n",
    "The dataset consists of news articles pulled from CNN in the politics, health, and entertainment categories. There are about 300 articles in each category. "
   ]
  },
  {
   "cell_type": "markdown",
   "metadata": {
    "id": "5rMrEtY9LMY0"
   },
   "source": [
    "**Download**\n",
    "\n",
    "Download the datasets to colab."
   ]
  },
  {
   "cell_type": "code",
   "execution_count": 34,
   "metadata": {
    "colab": {
     "base_uri": "https://localhost:8080/"
    },
    "id": "2kWoaaJLLMwg",
    "outputId": "a8894fd8-0818-4a45-cb28-6c7e92d43dac"
   },
   "outputs": [
    {
     "name": "stdout",
     "output_type": "stream",
     "text": [
      "Downloading data from https://github.com/dlops-io/datasets/releases/download/v1.0/news300.zip\n",
      "2113536/2109041 [==============================] - 0s 0us/step\n",
      "2121728/2109041 [==============================] - 0s 0us/step\n",
      "dataset_path: /home/u_61397728/.keras/datasets/news300\n",
      "Downloading data from https://github.com/shivasj/dataset-store/releases/download/v3.0/glove.6B.100d.txt.zip\n",
      "134414336/134409594 [==============================] - 2s 0us/step\n",
      "134422528/134409594 [==============================] - 2s 0us/step\n",
      "glove_path: /home/u_61397728/.keras/datasets/glove.6B.100d.txt\n",
      "Download execution time (mins) 0.23412856658299763\n"
     ]
    }
   ],
   "source": [
    "start_time = time.time()\n",
    "# Dowload\n",
    "dataset_path = tf.keras.utils.get_file(\n",
    "    origin=\"https://github.com/dlops-io/datasets/releases/download/v1.0/news300.zip\",\n",
    "    extract=True)\n",
    "dataset_path = dataset_path.replace(\".zip\",\"\")\n",
    "print(\"dataset_path:\",dataset_path)\n",
    "glove_path = tf.keras.utils.get_file(\n",
    "    origin=\"https://github.com/shivasj/dataset-store/releases/download/v3.0/glove.6B.100d.txt.zip\",\n",
    "    extract=True)\n",
    "glove_path = glove_path.replace(\".zip\",\"\")\n",
    "print(\"glove_path:\",glove_path)\n",
    "execution_time = (time.time() - start_time)/60.0\n",
    "print(\"Download execution time (mins)\",execution_time)"
   ]
  },
  {
   "cell_type": "markdown",
   "metadata": {
    "id": "Rslcjmd2Lh7o"
   },
   "source": [
    "**Load Data**\n",
    "\n",
    "* Read-in data as lists.\n",
    "* Each element in data_x is the content of a sample, namely an news article. \n",
    "* Each element in data_y is the label of that article."
   ]
  },
  {
   "cell_type": "code",
   "execution_count": 35,
   "metadata": {
    "colab": {
     "base_uri": "https://localhost:8080/"
    },
    "id": "s2AmGLNSLkcz",
    "outputId": "79eadbaf-41fb-4343-fc87-4c24b9385492"
   },
   "outputs": [
    {
     "name": "stdout",
     "output_type": "stream",
     "text": [
      "Number of classes: 3\n",
      "Labels: ['health', 'entertainment', 'politics']\n",
      "data_x count: 920\n",
      "data_y count: 920\n",
      "Label counts: (array(['entertainment', 'health', 'politics'], dtype='<U13'), array([310, 310, 300]))\n"
     ]
    }
   ],
   "source": [
    "# Get the labels from folder names\n",
    "label_names = os.listdir(dataset_path)\n",
    "\n",
    "# Number of unique labels\n",
    "num_classes = len(label_names) \n",
    "# Create label index for easy lookup\n",
    "label2index = dict((name, index) for index, name in enumerate(label_names))\n",
    "index2label = dict((index, name) for index, name in enumerate(label_names))\n",
    "\n",
    "print(\"Number of classes:\", num_classes)\n",
    "print(\"Labels:\", label_names)\n",
    "\n",
    "# Generate a list of labels and path to text\n",
    "data_x = []\n",
    "data_y = []\n",
    "\n",
    "for label in label_names:\n",
    "  text_files = os.listdir(os.path.join(dataset_path,label))\n",
    "  data_x.extend([os.path.join(dataset_path,label,f) for f in text_files])\n",
    "  data_y.extend([label for f in text_files])\n",
    "\n",
    "# Load the text content\n",
    "for idx, path in enumerate(data_x):\n",
    "  # Load text\n",
    "  with open(path) as file:\n",
    "    data_x[idx] = file.read()\n",
    "\n",
    "# Preview\n",
    "print(\"data_x count:\",len(data_x))\n",
    "print(\"data_y count:\",len(data_y))\n",
    "print(\"Label counts:\",np.unique(data_y, return_counts=True))"
   ]
  },
  {
   "cell_type": "markdown",
   "metadata": {
    "id": "mNFmLU6JLnzT"
   },
   "source": [
    "**View Text**\n",
    "\n",
    "Let's take a look at the data."
   ]
  },
  {
   "cell_type": "code",
   "execution_count": 36,
   "metadata": {
    "colab": {
     "base_uri": "https://localhost:8080/"
    },
    "id": "Q_xFL7u8LqiT",
    "outputId": "787bf839-7478-42ea-9c4b-833a2ff99b71"
   },
   "outputs": [
    {
     "name": "stdout",
     "output_type": "stream",
     "text": [
      "Label: politics , Text: Vulnerable Senate Republicans tie themselves to Barrett with Trump's numbers eroding   (CNN)Endangered Senate Republicans have a new running mate in the battle to keep their narrow majority: Amy Coney Barrett. As President Donald Trump's standing has deteriorated, they are aligning themselves closely with his Supreme Court nominee, hoping their aggressive push to confirm her to the bench before Election Day will be enough to energize their base, fill their campaign coffers and overcome the drag at the top of the ticket. At Tuesday's confirmation hearing, Republicans in tight races in North Carolina, Iowa, Texas and South Carolina were quick to rally to Barrett's defense and are signaling they'll vote to confirm her to the court just days before the November election. Republicans are calculating that getting Barrett on the bench will overcome backlash from voters, given that polls show clear majorities believe that the winner of the November 3 elections should make the lifetime appointment -- and the fact the Republican senators all took the opposite stance in 2016, when they opposed advancing President Barack Obama's pick because, they said, March of that year was too close to Election Day. \"It's not a close issue in South Carolina -- for liberal judges or conservative judges, overwhelmingly conservative judges,\" Senate Judiciary Chairman Lindsey Graham told CNN. \"I think that resonates with South Carolinians.\" At the hearing, Texas Sen. John Cornyn received praise from his supporters after asking Barrett to hold up a blank notepad to show that she wasn't referencing any notes in her testimony. \"That's impressive,\" Cornyn said. Iowa Sen. Joni Ernst pointed out, \"I am pro-life,\" while giving Barrett a chance to push back on Democrats' line of questioning. North Carolina Sen. Thom Tillis read off a list of tweets attacking Barrett in an apparent attempt to stoke outrage at her treatment by her critics. And Graham defended his own health care position while noting he was being swamped by outside money in his race. And with polls showing Trump losing in nearly every battleground state, Republicans say they need to run ahead of the President in their states -- and they hope Barrett's nomination will give them a boost down the final stretch. \"I'm hoping to outperform him in the state,\" Cornyn told CNN when asked about Trump. \"I think it reminds people it does make a difference who is president,\" Cornyn said of the Barrett hearings. \"He made a generational mark on the judiciary with our help -- and people understand that's important. I think that could well help him, and I'm proud to support the President's nominee.\" With the GOP clinging to its 53-47 majority, Democrats see a growing number of pickup opportunities across the country and are campaigning hard on the economic hardships caused by the coronavirus pandemic. And on Tuesday, Democrats were careful to avoid letting the confirmation hearings devolve into ugly moments that could give the GOP fresh ammunition in the final three weeks of the campaign. \"They are just hell-bent on getting this done as fast as possible, and that's because at least four of them are in death-defying reelection campaigns,\" Senate Minority Whip Dick Durbin, an Illinois Democrat, said Tuesday after the hearing. \"They want to get out of town as fast as they can.\"   Perhaps nowhere has the dynamic been more pronounced than with Graham, who is locked in a dead heat in his bid for reelection in South Carolina, and reversed his past opposition to moving on a Supreme Court nominee in a presidential election year to now leading the charge to get Barrett to the bench at a lightning-quick pace. Virtually everywhere Graham goes he mentions the Supreme Court fight, whether it was in a question about the coronavirus during his Senate debate earlier this month or on Fox News as he mentions Barrett's confirmation and pitches for dollars in the next breath while he reads off the name of his campaign website. \"I've been following my race pretty close, probably closer than most. I'm working hard. I'm being challenged unlike any other time,\" Graham said Tuesday night. \"I like where I'm at.\" In Barrett's second day of hearings on Tuesday, Graham was quick to link the proceedings to his race, subtly referencing his Democratic foe, Jaime Harrison, who has broken fundraising records in the contest after raising a staggering $57 million in the last quarter alone. Graham joked to Rhode Island Democratic Sen. Sheldon Whitehouse that \"me and you are going to come closer and closer about regulating money.\" \"I don't know what's going on out there but I can tell you there's a lot of money being raised in this campaign,\" said Graham. \"I'd like to know where the hell some of it's coming from.\" In his opening remarks Tuesday, the Senate Judiciary chairman sought to blunt Democratic attacks that Barrett would shift the Supreme Court further to the right and undermine the Affordable Care Act. \"If it were up to me, bureaucrats would not be administering health care from Washington, people in South Carolina would be running health care,\" said Graham. \"If it were up to me, we would get more money under Obamacare than we do today; 35% would not go to three states, and sick people would be covered.\" \"So that's the political debate we're involved in a campaign in South Carolina,\" he said. \"My fate will be left up to the people of South Carolina.\" He also played up his relationship with the President, mentioning their golf outings, and said he didn't know if Trump was listening before praising his nominee as highly qualified and \"one of the greatest picks President Trump could've made.\" Asked later about the propriety of mentioning his campaign, Graham said it's \"pretty appropriate for me to respond to political attacks in a political way.\" \"I thought it was fair for me to say my position is there's a better way for South Carolina,\" said Graham, who noted that Democrats mentioned three different times during Monday's hearing the impact Barrett could have on his state if she joined a conservative majority to strike down the Affordable Care Act. And it happened on Tuesday as well. Democrats repeatedly warned that Barrett would threaten the health care of America, one of their main campaign attacks against Republicans. The court will hear arguments on the landmark health care law's constitutionality a week after Election Day. Durbin said Tuesday that in South Carolina, 242,000 people would lose their insurance coverage if the Affordable Care Act were eliminated and coverage for 2 million in the state with preexisting conditions would be threatened. California Sen. Kamala Harris, the Democrats' vice presidential nominee, ticked off the numbers of Americans in Texas, North Carolina, South Carolina and Iowa who could lose their insurance if the ACA were struck down, mentioning the states where Republican senators on the Judiciary Committee are running for reelection. Tillis, one of the most vulnerable Republicans, spent much of his time in the hearing fending off health care attacks and defending Barrett. He said the left's \"Medicare for All\" proposal \"could be Medicare for none.\" He said that while \"we need to protect everyone,\" the ACA had failed in containing costs and in its promise that \"if you like your doctor you can keep it.\" Tillis also attacked Democrats on abortion, saying that his granddaughter had been born three weeks premature and they would support a \"radical policy that would allow the right to take that child away.\" The senator, who recently tested positive for coronavirus, also put into the record a letter from his doctor that he had \"fully complied\" with the US Centers for Disease Control and Prevention guidelines, though he has yet to say if he has now tested negative. Cornyn, a former head of the Senate GOP's campaign arm, said of the Barrett nomination's impact on the battle for the majority: \"I think everything is a little different by the state.\" \"I think it'll probably be a fundraising bonanza for my opponent,\" he told CNN on Tuesday.  \n",
      "Label: health , Text: Trump credits swift treatment for his Covid-19 recovery  (CNN)Rapid coronavirus treatment was the key to his quick recovery from Covid-19, President Donald Trump said in an interview with Fox News. \"I think the secret for me was I got there very early,\" he told the network's medical contributor Dr. Marc Siegel during the pre-taped segment that aired Friday night. Trump announced he tested positive for coronavirus early Friday morning last week, and by Friday night, he was taken by helicopter to Walter Reed National Military Medical Center in Bethesda, Maryland, for treatment.  \"I think going in early is a big factor in my case.\" He received an immediate dose of an experimental monoclonal antibody therapy at the White House, then was treated with a course of the infused antiviral medication remdesivir, and the steroid dexamethasone during his hospital stay. He was also given supplemental oxygen, White House physician Dr. Sean Conley said. Trump was released from Walter Reed Monday afternoon. The President said he felt weak when he first started noticing symptoms. \"I didn't have a problem with breathing, which a lot of people seem to have. I had none of that, but I didn't feel very strong. I didn't feel very vital,\"  he said. \"I didn't feel like the President of the US should feel and I knew there was something a little bit off ... but I would say more weakness than anything else.\" Trump's physicians said early in the illness his blood oxygen levels dipped at least twice but rose again after they administered oxygen. They also said he experienced a high fever. But Trump said he feels well now and had been medication-free for eight hours at the time the interview with Fox News was taped. It was not clear when the interview was recorded. \"I feel really good. I feel very strong,\" he said. Trump isn't sure where he caught the coronavirus. \"They had some big events at the White House and perhaps there,\" he said. \"I don't really know. Nobody really knows for sure. Numerous people have contracted it, but you know people have contracted it all over the world. It's highly contagious,\" he said.  \"That's one thing you learned this is a contagious disease, and generally you get better from it but we also now have medicine that will help a lot,\" he added. The President said he's not taking any coronavirus-related medications. \"We pretty much finished and now we'll see how things go, but pretty much nothing,\" he said. \"We had our final doses of just about everything.\" \"Actually the, the original transfusion, that's supposed to last for about four months, you know, the antibodies and I think you're supposed to be protected anywhere from two to four months and maybe longer than that.\" Trump may have been referring to Regeneron's monoclonal antibody treatment, which is infused. He said he'd consider donating his plasma if asked to do so. \"I will, if that's if they want me to do it, I'd love to do it,\" he said. The President credited the doctors and scientists for doing \"an incredible job\" against the coronavirus in a short time. \"The respect for the doctors and for the technicians and for the scientists is incredible because I've seen what they've done and it's incredible, the job that they've done in a short period of time,\" Trump said.  \"Over a six month period the job that they've done is incredible, and you'll see that very soon with the medicines and with the vaccines.\"  \n",
      "Label: health , Text: A Virus Doesn't Discriminate: Dr. Sanjay Gupta's coronavirus podcast for March 27  (CNN)The coronavirus outbreak has fueled a surge in racism against Asian-Americans around the country. CNN's Chief Medical Correspondent Sanjay Gupta hears from some Americans who have personally experienced racism and he talks about why there's no place for hate in our country. You can listen to this episode in your favorite podcast app or read the transcript below. Dr. Sanjay Gupta: As word spread of a new virus out of Wuhan, China, a stigma spread with it. Maybe you've seen the videos on social media of Asian-Americans being harassed on the street or in public transit. It's hard to watch but it's important to talk about.   The thing is ... a virus doesn't care about borders ... Nor does it care about the race of whom it infects. A virus doesn't discriminate. Nor should we. I'm Dr. Sanjay Gupta, CNN's Chief Medical Correspondent. This is \"Coronavirus: Fact vs. Fiction.\" Kyung Lah: So we were working just, you know, clearly a television crew working, and a man walked up. And he said something right next to my producer.  Dr. Gupta: That's my colleague Kyung Lah, Senior National Correspondent for CNN. Lah: As I asked him to repeat himself, I said, 'Excuse me, sir, can I help you?' It was dawning on me what he had said. He had used a derogatory term, you know, talked about a long-held xenophobic stereotype about immigrants. And it was just surreal. It's not something that I'd experienced to my face in a very long time.  Dr. Gupta: Kyung is Korean-American and based in Los Angeles. She herself was targeted. Lah: It's still really hard for me to explain how it makes me feel. I joked about it on Twitter and said, if you're gonna be racist, please be accurate. I'm Korean, not Chinese. Not that that matters at all.  Dr. Gupta: It doesn't matter at all. And she's not alone.   San Francisco State University found that news about coronavirus discrimination increased by 50% across the country, from February 9th through March 7th. That's just one month. The lead researcher on the project told the New York Times that this is only the \"tip of the iceberg\"... Meaning only the most serious cases would be reported and there are likely many more cases out there. Dr. Gupta: Even on social media -- we're seeing the same thing.  Just last week Eugenie Grey, a blogger in New York, was out walking her dog when a passerby kicked the dog. She described what happened on Instagram.  Eugenie Grey: I'm sorry. I wasn't gonna cry when I started recording, and then I just started crying right now. I'm just so upset because who [BLEEP] kicks dogs? You guys, I'm not a virus. Dr. Gupta: It's not just individual attacks.  Earlier this year, with only a handful of novel coronavirus cases in America, Chinese restaurants were already suffering.   Rose Wu: (speaks in Chinese) In New York City's Chinatown, restaurant owner Rose Wu told us many of her customers canceled their Chinese New Year bookings last minute. That was just as the city of Wuhan, in China, was going into lockdown.  Rose Wu: (speaks in Chinese) Rose says some customers told her they canceled out of fear of catching the virus because she and her staff are Chinese.  By mid-February, Rose's business was down some 70 to 80 percent. That was weeks before most of America started staying at home.  Unfortunately, the list goes on and on.   Here's what President Trump had to say when a reporter asked him about it: Reporter: Why do you keep calling this the Chinese virus? There are reports of dozens of incidents of bias against Chinese Americans in this country. Your own aide, Secretary Azar, has said he does not use this term. He says ethnicity does not cause the virus. Why do you keep using this? President Donald Trump: Because it comes from China. Reporter: People say it's racist. Trump: It's not racist at all, no, not at all. It comes from China. That's why. It comes from China. Dr. Gupta: That was on March 18th. Five days later, President Trump reversed course. He opened a press conference on Sunday with this statement: Trump: It's very important that we totally protect our Asian-American community in the United States and all around the world. They're amazing people and the spreading of the virus is not their fault in any way, shape or form. Dr. Gupta: The president rebuking racism is certainly a welcome development and the right thing to do.  For some Asian-Americans, like my colleague Kyung Lah, the damage had been done.  Lah: When certain members of the political establishment began using the term Chinese virus, when Fox News repeatedly called it Chinese virus, that's when I noticed an uptick in the level of hate on social media. That is not a mistake. I think that you can absolutely show that there is a correlation.  Dr. Gupta: Merlin Chowkwanyun is a historian who studies inequality and activism at the Columbia University Mailman School of Public Health.  Merlin Chowkwanyun: I mean words and language ... they really matter and they frame the larger public imagination towards this issue. And so I hope we can remember the history of blaming immigrants and racial minorities for diseases and avoid reviving it too much this time. Dr. Gupta: As you heard him say -- this isn't the first time that an infectious disease outbreak has been linked to certain immigrant groups. It's a pattern that has been repeated in history.  Chowkwanyun: So in the mid 19th century, for example, shortly before the Civil War, it was actually the Irish who were often blamed for cholera epidemics. In the early 20th century, during a polio epidemic, it was Italians who got scapegoated a lot. Jews from Eastern Europe were often blamed for tuberculosis, as were African Americans.   Dr. Gupta: That kind of xenophobia didn't just manifest in individual violence, but also in institutional policies like the Immigration Act of 1924, which severely limited immigration from Asia and parts of Europe. Chowkwanyun: If you go back and read the proceedings in debates, federal commissions that were deliberating these kinds of immigrant restrictions, you see all sorts of references to epidemics and immigrants and sickness and the threats that they pose.   Dr. Gupta: Thankfully, people have been calling out the racism they are witnessing.   Last week, actor Tzi Ma posted a video as he washed his hands.   Tzi Ma (Twitter clip): Acts of violence against Asian Americans will not stop the spread of the virus. Dr. Gupta: It's part of an online campaign called #washthehate, which aims to raise awareness about the harassment that people are now facing.  Tzi Ma (Twitter clip): So the next time you wash your hands, wash out the hate that you may have for your fellow Americans. Hate will get you sick even if the virus doesn't.  Dr. Gupta: His sentiments are being echoed by other celebrities and government officials. Even comedians are talking about it.  Here's Anhtriet Tran performing at a comedy show called \"Asians Strike Back\" earlier this month.   Anhtriet Tran: The coronavirus has just opened the floodgates for people to be racist to Asians. You know there's one that's very popular, it's oh like Asians. We like to eat dogs. So stupid. You guys know how expensive a dog is?  Dr. Gupta: But even comedy can't erase the hurt being felt by many in our country.   I asked my colleague Kyung what advice did she have for people out there. Here's what she said.  Kyung Lah: It is a virus that sees no race, that sees no boundaries. And if we do not treat this uniformly as a public, this is going to get the better of us. That's what I would say. We are all the same when we are fighting this thing. So we better start acting like one or else we're not going to get through this.  Dr. Gupta: Kyung's right. These are scary times for all of us. But what we need to do is unify and realize that we are stronger if we stick together.  All of us are going through this and we will come out of it.  Hatred does not have -- and never will have -- any place in our country. So if you see someone getting mistreated, call it out for what it is. That's part of standing up for each other. We're all in this together. If you have questions, you can record them as a voice memo and email them to asksanjay@cnn.com -- we might even include them in the podcast. We'll be back Monday. Thanks for listening. \"Asians Strike Back: A Coronavirus Comedy & Science Show\" was held on March 1st and created by Asian comedian Esther Chen and science comedian Kyle Marian to fight xenophobia and misinformation in the United States.  \n",
      "Label: health , Text: Abortion access thrown into jeopardy by coronavirus pandemic London (CNN)As the coronavirus pandemic sweeps the globe, women's access to abortion has become one of many healthcare provisions thrown into jeopardy. Abortion provider Marie Stopes International, which operates across 37 countries, has warned of far-reaching impacts worldwide if women's reproductive rights are not protected as governments limit citizens' activities. \"Our initial projections warn that unless governments act now, up to 9.5 million vulnerable women and girls risk losing access to our contraception and safe abortion services in 2020 due to the Covid-19 pandemic. The consequences would be devastating,\" it said in an online statement Friday. The organization estimates that disruption to its services due to the coronavirus could lead to an additional 3 million unintended pregnancies, 2.7 million unsafe abortions and 11,000 pregnancy-related deaths. In the US, several states' officials opted to include elective abortions in the medical procedures limited during the coronavirus outbreak. State officials say the steps are necessary to preserve protective supplies that are becoming increasingly precious as the pandemic worsens. But abortion-rights groups have decried the actions, saying officials are exploiting a public health crisis to advance a political agenda, and court battles continue. Federal judges in Texas, Ohio and Alabama moved last week to block those states' orders limiting elective abortions. While an appeals court then reversed course and temporarily allowed the Texas order to go into effect, another appeals court on Monday affirmed the lower court's ruling blocking Ohio's order. A federal judge also blocked a state executive order in Oklahoma on Monday limiting abortion access. The state said it would appeal. Thousands of miles away, in Italy's worst-affected region, Lombardy, some struggling hospitals have closed their abortion services and are sending women to other hospitals for care, the head of a gynecologists' association that supports abortion rights told CNN late last month. The move has greatly complicated abortion access for women in those areas, said Dr. Silvana Agatone, president of LAIGA.  Although abortions are considered urgent medical interventions, under Italian law each region is allowed to handle the provision as it sees fit, Agatone said. Her group had not yet been able to speak with the health minister about a national response, she added. The Italian health ministry did not respond to CNN's request for comment.  Meanwhile, two abortion rights advocate groups in Germany warned that women's health and lives were being put at risk as restrictions on movement and counseling center closures limit their access to abortion services. The UK government caused confusion last month when it first announced that women in England would temporarily be allowed to access early medical abortion at home, rather than attending a clinic -- and then, hours later, reversed its decision.  A week later, the government guidance allowing women temporarily to access early medical abortion without traveling to a clinic was reinstated. UK changes  Abortion providers welcomed the UK government's confirmation on March 30 that women in England seeking an abortion in the first 10 weeks of pregnancy could take both the pills needed for a termination at home rather than having to go to a clinic to take the first one. Wales and Scotland have also changed their policies to allow early medical abortion at home in the first trimester of pregnancy, up to 10 weeks and 12 weeks respectively. The British Pregnancy Advisory Service (BPAS), a charity which helps nearly 100,000 women a year with pregnancy counseling and abortion care, said it would keep people safer at a time when UK citizens are largely barred from leaving their homes. \"This will prevent tens of thousands of women from having to travel needlessly to clinics and will also enable many of our healthcare professionals to provide teleconsultations and prescriptions from the safety of their own homes,\" said BPAS Chief Executive Ann Furedi. BPAS confirmed on Twitter that it was launching its \"pills by post service\" on Wednesday, allowing women to access early abortion care at home. \"Telemedicine is a safe, effective method of delivering early abortion care and will prevent thousands of unnecessary journeys,\" it said. Marie Stopes International also welcomed the UK government's move and said its branch there would provide remote services in Britain from April 6. New laws regarding abortion came into force in Northern Ireland on March 31 but do not include provision for allowing early medical abortion wholly at home. BPAS and Marie Stopes International called for policy makers urgently to review the situation. \"In Northern Ireland, abortion care is now lawful, but services have not yet been established and telemedical abortion care is not permitted under the regulations produced by the government last week,\" said Furedi, of BPAS. \"As a result, women are being forced to travel hundreds of miles via ferry and public transport to clinics in England at a time when they are also being told to stay at home to save lives.\"  'Acute risk' Meanwhile, abortions are still happening in Germany, according to CNN's German affiliate RTL, but women face delays in accessing counseling centers -- a requirement there before terminating a pregnancy. Groups including abortion rights advocate organizations Pro Familia and Doctors for Choice wrote an open letter last month to doctors performing abortions in which they warned that \"access to abortions is now at acute risk\" because of the restrictions imposed to help contain the pandemic. Closures or reduced opening hours for counseling centers have led to serious delays for women seeking the required in-person counseling appointment before any abortion takes place, the letter warns. They may also struggle to get to clinics providing abortions because of travel restrictions.  These issues mean that women may no longer meet the legal deadline by which a legal termination is permitted, the letter states, and increases the risk that women will resort to \"unsafe abortion methods.\" The abortion rights advocate organizations urge federal and state governments and health insurers to make it possible for all women to seek advice by video call or telephone, rather than having to attend counseling appointments in person. CNN reached out to the German government for comment. France commits to access Officials in France and Spain have sought to reassure women that their reproductive healthcare rights will be protected. The head of France's national health agency, Jérôme Salomon, insisted last month that the country's abortion centers would remain open during the crisis despite tight restrictions on people's movements. Salomon also stressed France's commitment to ensuring women retain access to vital services during the country's lockdown. \"We want to uphold women's sexual and reproductive rights. Access to the contraceptive pill will be maintained. Medical monitoring for pregnancies must continue to be ensured, including the three necessary ultrasound scans. We are exploring the possibilities of doing this through video calls,\" he said. More than 100 health professionals involved in abortion provision put their names to a piece in French national newspaper Le Monde on March 31 calling for emergency measures regarding abortion. Their proposals included providing access to medical abortion at home until seven weeks of pregnancy, giving minors access to abortion straight after their first medical consultation, rather than after 48 hours, and allowing abortion up to 14 weeks of pregnancy, rather than 12. In Spain, the Association of Clinics Accredited for the Voluntary Interruption of Pregnancy tweeted that its clinics remained open because abortion is part of the country's national health provision. \"It's an urgent resource which cannot be postponed and should be attended to promptly,\" the association said. Other abortion clinics in Spain also tweeted that they were continuing their work. CNN's Benjamin Berteau, Ingrid Formanek and Caroline Kelly contributed to this report. \n",
      "Label: politics , Text: Trump's photo op raises new questions about how seriously he takes the virus   (CNN)In the midst of an aggressive course of treatment for coronavirus, President Donald Trump left the hospital with his security detail Sunday so he could ride in an SUV past supporters cheering him on outside Walter Reed National Military Medical Center.  The short trip, where Trump waved to his supporters through the window while wearing a mask in the back of his SUV, was an attempted show of strength that displayed the President's questionable judgment, his willingness to endanger his staff and the fact that he still does not seem to comprehend the seriousness of a highly contagious and deadly disease. Trump's doctors on Sunday provided concerning details about his condition to reporters -- including two alarming drops in his oxygen levels. But the late Sunday photo op underscored that the chief concern for the President, who was furious at his chief of staff for telling reporters about his troubling vital signs, is projecting a commanding image to the public. An attending physician at Walter Reed harshly criticized Trump's Sunday drive-by as a risk to the lives of Secret Service agents who accompanied him in his SUV.  \"Every single person in the vehicle during that completely unnecessary Presidential 'drive-by' just now has to be quarantined for 14 days. They might get sick. They may die. For political theater. Commanded by Trump to put their lives at risk for theater. This is insanity,\" Dr. James Phillips tweeted.  \"That Presidential SUV is not only bulletproof, but hermetically sealed against chemical attack. The risk of COVID19 transmission inside is as high as it gets outside of medical procedures. The irresponsibility is astounding. My thoughts are with the Secret Service forced to play,\" Phillips tweeted.  Despite the risk posed to others in the hospital, the driver and security, White House spokesman Judd Deere said that \"the movement was cleared by the medical team as safe to do\" and that \"appropriate precautions\" were taken, \"including PPE.\" Photos of Trump's unannounced ride posted by Getty Images show a Secret Service agent in the front row wearing a full medical gown, respirator mask and a clear face shield. The White House Management Office sent its first staff-wide email Sunday night since Trump tested positive for coronavirus early Friday morning. Until then, staffers had gotten no word about whether to come into work or to remain home given that several of their colleagues tested positive. Stunningly, the email, which was viewed by CNN, states they should not contact the White House testing office if they have symptoms.  Trump's diagnosis also doesn't seem to have changed his campaign's understanding of the risks their events have posed to their supporters. Jason Miller, a senior campaign adviser to Trump, told CNN's Ana Cabrera Sunday on \"Newsroom\" that the campaign will continue to take temperatures and give out hand sanitizer and masks as supporters enter rallies, but he did not detail any other changes like requiring attendees to wear those masks.  \"We're not going to hide in fear,\" Miller said. Trump's condition   Trump's physician, Navy Cmdr. Dr. Sean Conley, held a second medical briefing in as many days on Sunday that again raised more questions than answers about the President's condition.  In that jarring news conference Sunday morning, Trump's doctors said that even though the President has had at least two concerning drops in oxygen levels, they are hoping he could be discharged as early as tomorrow from Walter Reed. Conley and other doctors involved in the President's care offered some information about the President's condition and the treatments that he is receiving -- but there were still significant gaps that made it hard to decipher the full picture. Conley again failed to answer basic questions about the President's condition and admitted Sunday that he had omitted those alarming drops in the President's oxygen levels during Saturday's news conference because he wanted to \"reflect the upbeat attitude\" that the team and the President had about his condition and didn't want \"to give any information that might steer the course of illness in another direction.\" Conley acknowledged that his evasive answers \"came off that we were trying to hide something\" but said that \"wasn't necessarily true,\" adding that the President is \"doing really well\" and is responding to treatment.  The President has experienced \"two episodes of transient drops in his oxygen saturation,\" Conley said Sunday. The first significant episode occurred late Friday morning when, Conley said, the President had \"a high fever and his oxygen saturation was transiently dipping below 94%.\" The President was given oxygen at that point, Conley said, answering a question he had evaded during his Saturday briefing.  \"After about a minute on only two liters, his saturation levels were back over 95%. He stayed on that for about an hour maybe, and it was off and gone,\" Conley said Sunday. Later on Friday, Conley said, Trump was out of bed, moving around the White House residence with only mild symptoms. On Saturday, the President's oxygen level dropped again \"to about 93%,\" Conley said. \"We watched it and it returned back up.\" But the incident led doctors to start treating Trump with the steroid drug dexamethasone, which has been shown to help patients with Covid-19. It is typically given to patients on supplemental oxygen or ventilation.  Conley said the President's current blood oxygen level is 98%. But Conley refused to say how low the President's blood oxygen levels had dropped during that first alarming episode at the White House.  When asked if the President's blood oxygen level had dropped below 90, he replied, \"We don't have any recordings here of that.\" Pressed again on whether the level had dropped below 90, Conley said the President's blood oxygen levels didn't get down into \"the low 80s.\" He offered no detail about what X-rays or CT scans have shown about whether there has been any damage to the President's lungs. \"There's some expected findings, but nothing of any major clinical concern,\" Conley said, not explaining whether they were expected findings in the lungs of a normal patient or a Covid-19 patient. A crisis in leadership  Some seven months into a pandemic that has killed more than 209,000 Americans, the nation is now facing a grave governing crisis with its commander in chief hospitalized -- his condition hinging on his progress over the coming days -- as the White House events of the past week serve as a textbook example of how not to handle a deadly virus. The White House already has a huge credibility problem with the public, and the lack of on-the-record information from White House officials Friday and Saturday served as a master class in opacity and contradiction that raised major questions about the President's health. It was only late Saturday night -- more than 24 hours after the President had been at Walter Reed -- that the public learned specific details about why Trump was airlifted to the hospital Friday, when chief of staff Mark Meadows said during an interview with Fox News that Trump had a fever on Friday morning and his oxygen level had \"dropped rapidly.\"  Earlier on Saturday, Meadows had also attempted to signal that the President's initial condition was more serious when he spoke to pool reporters as an unnamed official after Conley's briefing that morning. But his identity was later revealed by The New York Times and The Associated Press, and Trump was angry that Meadows had contradicted the White House physician's upbeat assessment, two sources with knowledge of the situation told CNN's Jim Acosta Sunday. A separate White House official confirmed Trump is unhappy with Meadows, as the chief of staff is now viewed by Trump advisers as having damaged the credibility of the current medical briefings on the President's bout with the coronavirus. The President's aversion to appearing weak and sick is now what is driving the effort to project resolve, including a video he tweeted from Walter Reed on Saturday, the photos released by the White House of him working and the multiple accounts of phone calls where he sounded strong by his allies and family members. Sunday afternoon, Trump tweeted another video where he teased his surprise drive-by in front of supporters gathered outside the hospital.  Conley said on Sunday he and Meadows \"work side by side\" and that the chief of staff's statement had been misconstrued. \"What he meant was that 24 hours ago when he and I were checking on the President, that there was that momentary episode of a high fever and that temporary drop in the saturation, which prompted us to act expediently to move him up here,\" Conley said, referring to Walter Reed. A potential superspreading event at the White House Many of the Trump aides or contacts who have recently tested positive for Covid-19 attended the White House festivities honoring Supreme Court nominee Amy Coney Barrett on September 26, in the Rose Garden. At least seven people attending the event, including the President and first lady, have tested positive. University of Notre Dame President the Rev. John Jenkins, former counselor to the President Kellyanne Conway and Republican Sens. Mike Lee of Utah and Thom Tillis of North Carolina, who were seated relatively close to each other, tested positive. Former New Jersey Gov. Chris Christie also tested positive and checked himself into the hospital Saturday as a precautionary measure, because he has asthma. Conway, Christie, Trump's senior adviser Hope Hicks and his campaign manager Bill Stepien — who have all tested positive — were also all involved in debate prep ahead of Trump's Tuesday clash with Democratic nominee Joe Biden.  It \"seems highly likely this originated at the SCOTUS announcement last week,\" a senior administration official told CNN's Jake Tapper of the outbreak among GOP officials. \"It may have come from the Hill. The next major concern will be securing Capitol Hill and protecting lawmakers,\" the official added. Trump did not address anyone else's diagnosis during a video message from Walter Reed Saturday. As he praised the medical care he had received at Walter Reed, he sought to spin his hospitalization to his advantage by making it sound like his diagnosis had been inevitable, even though he took few precautions to prevent it.  The President said he was \"starting to feel good\" and that he was receiving therapeutics he said are like \"miracles coming down from God.\"  \"This was something that's happened, and it's happened to millions of people all over the world and I'm fighting for them, not just in the US,\" Trump said. \"We're gonna beat this coronavirus — or whatever you want to call it — and we're gonna beat it soundly.\"  Thanking the American people for their well wishes, Trump said the true nature of his condition would be revealed in the coming days: \"You don't know. Over the next period of a few days, I guess that's the real test, so we'll be seeing what happens over those next couple of days,\" Trump said. In the video, President said the decision to go to Walter Reed on Friday was his. He suggested he didn't like the prospect of staying isolated at the residence: \"Lock yourself in, don't ever leave, don't even go to the Oval Office, just stay upstairs and enjoy it, don't see people, don't talk to people and just be done with it.\" That statement from Trump, clearly attempting to make himself look like a decision-maker in command of the situation, contradicts reporting from CNN's Kevin Liptak and Kaitlan Collins that the President was reluctant to go to the hospital. \"I had to be out front and this is America, this is the United States, this is the greatest country in the world, this is the most powerful country in the world,\" Trump continued in the video. \"I can't be locked up in a room upstairs and totally safe, and just say, hey whatever happens, happens. I can't do that.\" Trump's alternate reality  For much of this year, Trump has spun an alternate reality about the dangers of coronavirus — disputing science and the efficacy of masks, downplaying the risks to the American people, and making false statements about how 99% of coronavirus cases in America are \"totally harmless\" or that the virus \"affects virtually nobody.\" He encouraged his aides and advisers to live in that dangerous fantasy land, pushing his luck to the limits as late as this past week when he again recklessly gathered thousands of unmasked Americans at his political rallies and packed the top officials in government into a Rose Garden ceremony for his Supreme Court nominee. All the while, White House officials embraced the fallacy that administering rapid coronavirus tests frequently at the White House could provide a shield of immunity. The President's construct crumbled Friday when he was airlifted to Walter Reed after contracting the virus, while many aides, advisers and allies were testing positive for Covid-19 after interacting with him over the past week. The White House seemed to be continuing to downplay concerns about the severity of the virus Saturday morning during Conley's first news conference at Walter Reed where he described the President as upbeat and feeling good, without revealing any of the alarming developments with his oxygen levels the day before.  Conley repeatedly stated Saturday that the President was not currently receiving any. But his rosy pronouncements about the President's condition were contradicted minutes later in the statement that was given to pool reporters from a source familiar with Trump's health, later identified as Meadows. On Saturday evening, Conley followed up with another memo saying Trump \"remains fever-free and off supplemental oxygen with a saturation level between 96% and 98% all day,\" which is within the normal range for blood oxygen levels. That statement now appears to conflict with the information Conley revealed Sunday morning when he described the drop in the President's oxygen level to 93% on Saturday, though Conley did not specify what time that happened. While the President was still at the White House Friday, he was administered the experimental Regeneron antibody cocktail, a promising treatment that has not yet been approved by the Food and Drug Administration that was intended to help boost the President's immune system as he fights the virus. Once Trump was at Walter Reed, doctors initiated the antiviral drug remdesivir. He is receiving a five-day course of the drug, which has been shown to shorten recovery time for some coronavirus patients. The President completed his second dose on Saturday evening. He's also continuing on dexamethasone, the first dose of which he received Saturday.  Dr. Brian Garibaldi, one of Trump's doctors, said Trump has been \"up and around\" Sunday. \"Our plan for today is to have him to eat and drink, be up out of bed as much as possible to be mobile,\" Girabaldi said. \"And if he continues to look and feel as well as he does today our hope is that we can plan for discharge as early as tomorrow to the White House where he can continue his treatment course.\" There is a long history of White House officials covering up or obfuscating about the medical condition of the sitting President — from Grover Cleveland's secret surgery to remove a tumor in his mouth aboard a friend's yacht, to John F. Kennedy hiding his Addison's disease. Officials in the Trump White House have carefully calibrated their statements about the President's health over the past few days in what seems like an effort to put the best face on the diagnosis at a time when the President is 29 days from Election Day and trailing in the polls. Mail-in voting has already begun in certain states across the country.  The President tweeted that he had tested positive for coronavirus around 1 a.m. ET Friday, hours after attending a Thursday night fundraiser in Bedminster, New Jersey, where he met with a small group of donors indoors with no masks, before addressing a larger crowd outdoors. Trump got his first positive coronavirus test result Thursday after returning from that trip, a White House official said Saturday evening. Hicks had begun experiencing symptoms the previous night while accompanying the President on his trip to Minnesota for a fundraiser and rally Wednesday night. It's unclear whether the President was tested around that same time, given how closely they work together. Miller, the senior Trump campaign adviser, on Sunday could not explain why Trump went ahead to the New Jersey fundraiser after Hicks had tested positive and accused Biden of using face masks as a prop during an appearance on ABC's \"This Week.\" Biden's senior adviser Symone Sanders told CNN's Jake Tapper on \"State of the Union\" that Biden and his campaign officials are following guidelines from the US Centers for Disease Control and Prevention: \"We're wearing the masks that are keeping us safe.\" CNN's Kevin Liptak, Jim Acosta, Kaitlan Collins and Allie Malloy contributed to this report. \n",
      "Label: entertainment , Text: 1619 Project faces renewed criticism — this time from within The New York Times New York (CNN)Amid all the external debate that the 1619 Project has provoked in the past year, the project led by Nikole Hannah-Jones has also prompted internal criticism at The New York Times. Some of the angst is chalked up to the usual sniping that happens when a reporter, in this case Hannah-Jones, becomes a \"star,\" in newsroom parlance. But there are substantive critiques too, and they were surfaced in an unusual column by Bret Stephens, a Times op-ed writer with a conservative bent.   Stephens wrote in a Friday column that the acclaimed project, which aims to reframe the history of the US around the beginning of American slavery, had \"failed.\" The column touched such a nerve that A.G. Sulzberger, the publisher of The Times, issued a statement of support for the 1619 Project on Sunday night. Sulzberger, told staffers that he had gotten questions about whether the opinion column represented \"an institutional shift\" in support for the project \"That couldn't be further from the truth,\" Sulzberger wrote in a Slack channel accessible to all staff. \"It is a journalistic triumph that changed the way millions of Americans understand our country, its history and its present.\" After praising Hannah-Jones, who won a Pulitzer Prize for heading the project, Sulzberger said that the 1619 Project ranks as \"one of the proudest accomplishments\" the paper has had during his tenure as publisher. \"It's also sparked a national conversation unlike anything I've ever seen before, and that makes it a natural subject for an opinion columnist to write about,\" Sulzberger added. \"I believe strongly in the right of Opinion to produce a piece even when — maybe even especially when — we don't agree with it as an institution.\" In other words, the project continues to have the full weight of the Times behind it -- despite scrutiny it has received from some historians, including some who support the effort overall, and from conservative commentators who have aimed to undermine the project's core purpose. Last month President Trump referred to the project as \"totally discredited,\" which is not true. He said \"this project rewrites American history to teach our children that we were founded on the principle of oppression, not freedom.\" In the words of The Times, the project \"aims to reframe the country's history by placing the consequences of slavery and the contributions of black Americans at the very center of our national narrative.\" Many staffers at The Times are enormously proud of the undertaking and see it as a symbol of the news organization's agenda-setting power. There have been grumblings, though, about Hannah-Jones' sometimes defensive posture and her occasional battles with critics on Twitter. Last week, before Stephens' column came out, she wrote in a tweet, \"In 1894, the NYT called Ida B. Wells a 'slanderous and nasty-minded mulattress' for daring to tell the truth about lynching. 100 years later she earned the Pulitzer Prize. These efforts to discredit my work simply put me in a long tradition of [black women] who failed to know their places.\" (The next day, however, she noted in a tweet, \"There have certainly been some astute (and certainly more good-faith and intellectual) critiques from the left. I have found many of them interesting and have relished the way they help me challenge my own thinking and hopefully keep growing.\") Stephens' column, published on Friday, acknowledged the ambitious nature of the 1619 Project and defended it from critics who have characterized it as anti-American.  But Stephens pointed to debate about the project among some historians and argued that editors at The Times, \"however much background reading they might have done, are not in a position to adjudicate historical disputes.\" He said \"the 1619 Project is a thesis in search of evidence, not the other way around.\" And he concluded that the 1619 Project \"has given critics of The Times a gift.\" Stephens' column was widely praised by conservatives. For a period of time on Saturday, both the column and the original 1619 Project link were on the paper's most-emailed list. The column remained on that list as of Monday afternoon.   Some supporters of the 1619 Project ridiculed Stephens for writing it. In an extraordinary move, The New York Times Guild went as far as to excoriate Stephens in a tweet over the weekend. \"It says a lot about an organization when it breaks it's own rules and goes after one of it's own,\" the guild tweeted. \"The act, like the article, reeks.\" The guild later deleted the tweet, saying that it was \"tweeted in error.\" \"We apologize for the mistake,\" the guild added. Jake Silverstein, the editor of The New York Times Magazine, where the project originated, wrote on Twitter that \"while we disagree strongly with Bret's column, we welcome debate about the historical analysis The 1619 Project rigorously advances. I'm proud of the fact that over the past year, the project has had such a profound impact on discussions about our history. We stand behind this work entirely.\" Silverstein called Hannah-Jones a \"national treasure.\" Stephens, who won the Pulitzer Prize while at The Wall Street Journal, has been one of The Times' most controversial figures since moving to the newspaper in 2017. Earlier this year, Stephens also expressed disagreement with The Times when he wrote a piece defending a controversial column by Republican Sen. Tom Cotton. The Times ultimately said that Cotton's column shouldn't have been published and the episode led to the resignation of James Bennet as editorial page editor. Hannah-Jones did not respond to a request for comment about Stephens' newest column. But in an appearance on \"Reliable Sources\" last month, she said the project is not going anywhere. \"We are expanding the project into TV and film, as well as books,\" she said. \"Vast numbers of Americans have appreciated this work. It has not made them hate their country. It has made them better understand their country. And really what the 1619 Project is a charge for us to work to live up to the majestic ideals of our founding.\" Hannah-Jones isn't the only star reporter at The Times to draw scrutiny from within the paper in recent weeks. Rukmini Callimachi, a reporter at The Times who focuses on extremism, has faced questions about her work after the subject of her hit podcast \"Caliphate\" was recently charged in Canada with perpetrating a hoax. Ben Smith, who writes about media for The Times, examined the criticism leveled against Callimachi in a column on Sunday.  \n",
      "Label: politics , Text: US revokes visa of Giuliani's Ukrainian ally who spread conspiracy theories about the Bidens Washington (CNN)The US State Department revoked the visa of a former Ukrainian diplomat who has worked with Republicans to spread baseless conspiracy theories about the Biden family and foreign meddling in 2016, American and Ukrainian officials told CNN on Monday.  A US official said there are also conversations within the US government about potentially sanctioning that individual -- Andrii Telizhenko -- and identifying him as a Russian agent. Democrats have accused Telizhenko of intentionally spreading Russian disinformation.  In mid-September, the US Treasury Department sanctioned another ally of former New York City Mayor Rudy Giuliani -- controversial Ukrainian lawmaker Andrii Derkach -- and accused him of being an \"active Russian agent\" who is part of Moscow's interference in the 2020 campaign.  A source familiar told CNN that Ukrainians became aware of the visa revocation when Telizhenko attempted to board a flight from Kiev to New York and was unable to do so. It is unclear why he was planning to visit New York, the source said, but they believed it was tied to the US presidential election being just around the corner. Speaking about Telizhenko's visa revocation, Ukrainian ambassador to the US Volodymyr Yelchenko told CNN, \"The guy fully deserved it.\" A State Department spokesperson declined to comment, telling CNN, \"Visa records are confidential under U.S. law; therefore, we cannot discuss the details of individual visa cases.\" The Washington Post was the first to report that Telizhenko's visa had been revoked. Telizhenko is a stalwart Giuliani ally who has traveled with the former mayor and has promoted the conspiracy theory that Ukraine meddled in the 2016 election to weaken Democratic nominee Hillary Clinton and defeat President Donald Trump. That theory flies in the face of the unanimous assessment from US intelligence agencies that it was the Russian government who interfered in the 2016 election, and their goal was to elect Trump. Giuliani did not respond to a request for comment on the visa revocation. Telizhenko played a significant role Senate GOP investigation into Bidens Telizhenko played a significant role in the Republican-led Senate investigation into Ukraine and the Bidens. Senate Homeland Security Chairman Ron Johnson, a Wisconsin Republican, had sought earlier this year to subpoena Telizhenko, who was a contractor to a US public affairs companies that worked with Ukrainian energy firm Burisma, but he scrapped the subpoena following objections from Sen. Mitt Romney, a Utah Republican. Democrats accused Johnson and Senate Finance Chairman Chuck Grassley of Iowa, who co-led the report, of relying on Telizhenko despite the fact that he was one of the \"known purveyors of Russian disinformation narratives\" involving former Vice President Joe Biden and his son Hunter Biden. In the Republican report released last month, which accused Hunter Biden who was hired by Burisma, of being involved in questionable foreign payments, Telizhenko is cited repeatedly. The report, which did not accuse Joe Biden of any wrongdoing, even tried to turn the allegations surrounding Telizhenko back on the Democrats, including a section header that \"Obama administration officials and a Democrat lobbying firm had consistent and significant contact\" with Telizhenko. Johnson denied relying on Russian disinformation in his investigation. Lt. Col. Alexander Vindman, who was a top White House adviser on Ukraine and had regular contacts with the Ukrainian embassy, testified in the impeachment inquiry that Telizhenko is \"not a credible individual.\" David Holmes, a top US diplomat, also cast doubt on Telizhenko, telling lawmakers, \"I don't think we found his perspective to be always credible and useful.\" Despite the condemnation, Telizhenko became a fixture in right-wing media. He spread his allegations on Trump-friendly conspiracy sites like Infowars and Gateway Pundit, appeared on One America News Network and gave an interview to The Hill's ex-columnist John Solomon, who coordinated his work with Giuliani and other Trump allies. Some of that coverage highlighted his partnership with Giuliani, who has also championed many of the same conspiracy theories about Ukrainian election meddling. Last year, Telizhenko participated in meetings between Giuliani and two disgraced Ukrainian prosecutors who accused the Bidens of corruption, promoting claims that were largely debunked and discredited. Those meetings happened while the impeachment proceedings were happening in Washington -- with Congress scrutinizing allegations that Trump had abused his powers to seek political favors from the Ukrainian government. The intelligence community has warned about Russian efforts to interfere in next month's election, and the Treasury Department's decision to sanction Derkach was an extraordinary step by the US government to publicly condemn Russia's ongoing interference in the 2020 election. The US Embassy in Kiev on Monday warned against doing business with Derkach, noting he \"maintains close connections with the Russian Intelligence Services and has served as an active Russian agent for over a decade, employing manipulation and deceit to attempt to influence elections in the United States and elsewhere around the world.\" Sen. Chris Murphy, a Connecticut Democrat who has railed against the Trump administration for politicizing the intelligence agencies, commended the action taken against Derkach and said that more action in that vein needs to be taken.  However, when asked if Murphy thinks that the Trump administration will take additional actions to publicly identify other Russian agents he was skeptical. \"I don't think the White House or the [intelligence] agencies have any plans to release additional information -- that will only happen if we build that pressure,\" Murphy said at the Truman Center for National Policy's annual conference. \"And that's why I have started to talk more about what I know, and how it's inconsistent with what the intel agencies have told us to try to create that pressure campaign.\" CNN's Michael Warren contributed to this report. \n",
      "Label: politics , Text: How Alexandria Ocasio-Cortez's political future is shaping Senate Democrats' SCOTUS strategy  (CNN)On Sunday, something weird happened. Senate Democratic leader Chuck Schumer and Rep. Alexandria Ocasio-Cortez, who is widely rumored as a potential future primary challenger to the New York senator, held a joint press conference to talk about how their party will attempt to keep the Supreme Court vacancy caused by the death of Justice Ruth Bader Ginsburg vacant until after the 2020 presidential election. AOC implored Democrats to \"mobilize on an unprecedented scale\" in order to pressure Senate Majority Leader Mitch McConnell (R-Kentucky) not to push a vote before the election, adding: \"We need to tell him that he is playing with fire.\" Schumer took that rhetorical threat even further. When asked about the possibility of Senate Democrats adding Supreme Court seats or eliminating the filibuster entirely if they win back the majority in 43 days, Schumer responded this way: \"Well, it will be a decision that is ... comes to the Senate. We first have to win the majority before that can happen. But once we win the majority, God willing, everything is on the table. \"... As I said, we first have to win the majority, because if we don't win the majority, these questions are all moot. But if we win the majority, everything is on the table.\" That is a remarkable statement by the man who, as of today, has at least a 50-50 chance of running the Senate come 2021. It's also a reflection of just how aware Schumer is of the potential threat AOC poses to him in a 2022 Democratic primary -- and how much he is going out of his way to move to the ideological left to shut down the possibility.  For months, AOC has refused to rule out challenging Schumer from the left come 2022. \"I don't know,\" the New York Democratic congresswoman said this spring of a potential primary race. \"Honestly, this news cycle is so insane, who knows where any of us are going to be in 2022?\" Which, in the world of politics, is essentially her acknowledging that she is thinking about it. Or at least wants Schumer to believe she is thinking about it. Because all AOC had to say -- either back in the spring or, well, at anytime between then and now -- is something like: No, I am not going to run against Chuck Schumer in 2022. I support him and his efforts to win back the Senate majority this fall. That she hasn't said that -- and, in fact, has left the door wide open, tells you everything you need to know.  And Schumer is paying attention. As John Bresnahan and Marianne Levine documented in this Politico piece in late August:  \"The self-described 'angry centrist' is no more. Once derided for being too close to Wall Street, Schumer aides now boast that he has stood up to the financial services industry. Schumer is still distrusted by some on the left, but the New York Democrat insists his views have shifted to reflect a different constituency, as well as the more progressive Democratic Party of the Donald Trump era.\" Or, as Schumer himself explained his evolution to Politico: \"A good elected official looks at the needs of the people he or she represents and does everything he or she can to help solve those needs, and the world changes. And the problems that existed, say in the '90s, are different than the problems that exist today.\" Sure! There's no question that the election of Donald Trump in 2016 -- and the resultant capitulation of elected Republican leaders to his whims in the years that followed -- have forced Democrats to reevaluate how they see the other party and how much (if anything) can be done on a bipartisan basis. But it is equally impossible to believe that Schumer's change from proud centrist to defiant liberal has nothing to do with the specter of AOC running against him in 2022. Schumer is a deeply political animal -- you don't get to where he has gotten in politics without being one -- and he understands just how powerful AOC has become in the party since her upset primary win over Rep. Joe Crowley, a member of the House Democratic leadership, in 2018. (Sound familiar???) Schumer's slide to the left is an acknowledgment of the rising power of the liberal left in his party. Progressives who aligned far more closely with AOC and Vermont Sen. Bernie Sanders than Schumer and former Vice President Joe Biden are ascendant in Democratic politics, as illustrated by a series of primary wins for liberals -- including in Schumer's home state -- this year.  He also understands the power that AOC possesses within the Democratic Party. With Sanders, presumably, stepping off the national stage (he has now run for president unsuccessfully twice) the liberal wing of the party now seems to be AOC's for the taking. And if her fundraising and staff hires are any indication, she is taking it. Given that status, it is not inconceivable that AOC could oust Schumer -- even if he is the Senate majority leader in 2022.  All of which makes Schumer more than willing to bring AOC as close as possible on this Supreme Court fight -- and make proclamations like \"everything is on the table.\"  \n",
      "Label: entertainment , Text: YouTubers the Stokes Twins have been charged for bank robbery pranks  (CNN)YouTube celebrities the Stokes Twins could face up to four years in state prison for their role in two fake bank robberies.  Alan and Alex Stokes are popular Internet pranksters who have over 4.8 million followers.  The charges against them were announced Wednesday but the alleged incidents took place in October 2019. The 23-year-old brothers are accused of pretending to rob a bank upon ordering an Uber. The Uber driver refused to pick them up, and the pair's videographer was filming the incident. A witness to the exchange believed the brothers had robbed a bank and were attempting to carjack the driver, according to the district attorney's office.  When police arrived, they ordered the driver out at gunpoint, but released him after determining he was not involved. The district attorney's office said police issued a warning to the brothers and let them go.  Hours later, police received emergency calls about the pair allegedly repeating the behavior on the University of California, Irvine, campus.  Orange County District Attorney Todd Spitzer called the fake robberies a \"twisted attempt to gain more popularity on the internet\" that endangered the public and police.  \"These were not pranks,\" Spitzer said. \"These are crimes that could have resulted in someone getting seriously injured or even killed.\" The brothers were each charged Wednesday with one felony count of false imprisonment effected by violence, menace, fraud, or deceit, as well as one misdemeanor count of falsely reporting an emergency in connection with the October 2019 pranks, according to the Orange County District Attorney's Office.  The second charge is commonly referred to as \"swatting,\" or calling the police to falsely report a crime or emergency and lure them to someone else's location. In previous instances, swatting has been fatal for those unwittingly involved.  Footage of the fake robberies doesn't appear on their shared channel. Their most recent video, published Tuesday, sees the brothers and their friends attempt to eat 100,000 calories in 24 hours.   Law enforcement caught up with another one of YouTube's most prominent pranksters this week, too: On Wednesday, FBI agents searched the home of Jake Paul \"in connection with an ongoing investigation.\" The FBI declined to comment on the nature of the investigation.  Also this week, Arizona police dropped charges against Paul for criminal trespass and unlawful assembly. In June, he'd been filmed at an Arizona mall as it was being looted, police said, though Paul denied he'd engaged in looting or vandalism.   \n",
      "Label: health , Text: Parents have a right to be stressed. But don't take it out on your kids Melissa Merrick, PhD, is the president and CEO of Prevent Child Abuse America. Robert Sege, MD, PhD, is a pediatrician at Floating Hospital for Children at Tufts Medical Center in Boston and on the board of Prevent Child Abuse America.  (CNN)Just as prior generations were deeply affected by the Great Depression, the assassinations of Martin Luther King and the Kennedys and the horrors of 9/11, the Covid-19 pandemic may well be the defining moment in the lives of today's children.  That's why we owe it to our children to focus on positive experiences during these difficult times, while minimizing adverse experiences that can wound children for a lifetime.  We already know that positive experiences, especially close relationships, promote healthy child development and allow us to withstand the ups and downs of life beyond the current pandemic.  At the same time, adverse experiences such as child abuse, neglect and family challenges -- particularly in the absence of protective factors -- can cause lasting damage to mental and physical health.  While many parents aren't thinking about child abuse, raising awareness during this health crisis is key. That's because the increased stress we're seeing in families due to the virus can increase children's risk of abuse at the hands of their loved ones. Children who are usually in school are now learning at home. Their parents may be working from home, working at essential jobs (without good childcare options) or may have lost their jobs.   Children who are being abused or neglected are more likely to go unnoticed without teachers and others to help them. (Anyone worried about the possibility of abuse or neglect can still contact the national child abuse hotline: 1-800-422-4423 or childhelphotline.org. Crisis counselors answer calls 24/7 and provide crisis intervention, information, and referrals.) Some families will find that heightened stress can result in domestic violence which itself deeply affects children. If there is a gun in the home there may be greater risk, and local police are trained to help. (call the national domestic violence hotline at 1-800-799-7233 or by chat at thehotline.org.) April is Child Abuse Prevention Month, a perfect time to raise awareness and take actions to support children and create experiences that will help them understand, grow, and be resilient in this unprecedented time. Talking with children Ask children about their feelings. Try to listen without judgment. Just being heard strengthens your important relationships with your children.  Children need to know that they matter. Explain why physical distancing, staying at home, not playing outside with their friends, and canceling school are personal sacrifices that they (and we) make for the good of all of us. Understanding and talking about this as a shared sacrifice builds their foundations for empathy. Address children's fears. Children old enough to see the news may worry, without understanding the meaning of what they view. While the news is scary, we can be both honest and reassuring by explaining how social distancing is helping and how scientists around the world are working together to help solve the crisis. Coping with stress Many families are financially stressed, even more than usual. It's okay to talk with kids about your experience and what you're doing about it. Find resources to make it through this difficult period. Fortunately, communities; local, state, and federal governments; and many businesses and nonprofits are helping meet basic needs.  Some of us have work we can do at home. While this is a blessing, it's also confusing for children, and stressful for us. For younger children, establish routines so they know when you can be interrupted, and activities to do when you're not.  Be kind to yourself. It's simply not possible to have both normal work productivity and be constantly available to your children. If you need to turn the TV on and have kids watch a movie or play a video game to give you time to focus, it's OK! Parents sometimes need a time out, too. It's fine to take a moment for a deep breath, or even step inside a locked bathroom or outside patio to decompress. Our kids are watching and learning how to best deal with stress. Try to stay calm and unapologetic about taking time for yourself so that you have something left to give your kids when you're in the right head space. Reaching out and maintaining community Kindness toward families. We are seeing an outpouring of kindness to families with children at home. Neighbors are dropping off diapers for economically stressed families, writing uplifting messages in sidewalk chalk, and putting teddy bears in their windows for toddlers and young children to find on neighborhood walks. Think about what you can do for families in your community. More technology is OK. Maintaining our own social connections and those of our children means more reliance than ever on the web. Parents might relax their rules about internet use and allow children frequent contact with their friends online over Skype, Zoom, FaceTime or the like. Similarly, having a virtual cup of coffee with a friend can reduce our own isolation. Expect to have times of depression or anxiety. Those of us who have dealt with these conditions in the past may want to seek help early. If you, or a friend or family member, is considering harming themselves, respond immediately and get help. Turn to your doctor or mental health provider, or call the national suicide prevention hotline at 1-800-273-8255 or visit suicidepreventionlifeline.org for 24/7 access to a trained counselor. Physically distancing ourselves is critical to prevent infection and the spread of the virus. At the same time, social connections are more important than ever to preventing child abuse and negle During child abuse prevention month and beyond, we can all focus on making sure that our children will have good stories to tell their grandchildren.    \n"
     ]
    }
   ],
   "source": [
    "# Generate a random sample of index\n",
    "data_samples = np.random.randint(0,high=len(data_x)-1, size=10)\n",
    "for i,data_idx in enumerate(data_samples):\n",
    "  print(\"Label:\",data_y[data_idx],\", Text:\",data_x[data_idx])"
   ]
  },
  {
   "cell_type": "markdown",
   "metadata": {
    "id": "dTSURd6wL_3c"
   },
   "source": [
    "**Split Data** \n",
    "We split data into train and validation by randomly selecting 20% as the validation set."
   ]
  },
  {
   "cell_type": "code",
   "execution_count": 37,
   "metadata": {
    "colab": {
     "base_uri": "https://localhost:8080/"
    },
    "id": "qZeruausMAS8",
    "outputId": "e5810284-9e9a-4034-9c85-d91fd7eacc60"
   },
   "outputs": [
    {
     "name": "stdout",
     "output_type": "stream",
     "text": [
      "train_x count: 736\n",
      "validate_x count: 184\n"
     ]
    }
   ],
   "source": [
    "validation_percent = 0.20\n",
    "\n",
    "# Split data into train / validate\n",
    "train_x, validate_x, train_y, validate_y = train_test_split(data_x, data_y, test_size=validation_percent)\n",
    "\n",
    "print(\"train_x count:\",len(train_x))\n",
    "print(\"validate_x count:\",len(validate_x))"
   ]
  },
  {
   "cell_type": "code",
   "execution_count": 38,
   "metadata": {
    "id": "_CPD_7qtPR6F"
   },
   "outputs": [],
   "source": [
    "# Text processing parameters\n",
    "max_tokens = 15000\n",
    "sequence_length = 1000\n",
    "\n",
    "# Convert all y labels to numbers\n",
    "train_processed_y = [label2index[label] for label in train_y]\n",
    "validate_processed_y = [label2index[label] for label in validate_y]\n",
    "\n",
    "# Converts to y to binary class matrix (One-hot-encoded)\n",
    "train_processed_y = tf.keras.utils.to_categorical(train_processed_y, num_classes=num_classes, dtype='float32')\n",
    "validate_processed_y = tf.keras.utils.to_categorical(validate_processed_y, num_classes=num_classes, dtype='float32')\n",
    "\n",
    "# Create text only tf.data\n",
    "text_data = tf.data.Dataset.from_tensor_slices(train_x)"
   ]
  },
  {
   "cell_type": "markdown",
   "metadata": {
    "id": "0rPbdystQDnE"
   },
   "source": [
    "### **Text Classificaton Models**"
   ]
  },
  {
   "cell_type": "code",
   "execution_count": 40,
   "metadata": {
    "id": "aHEAcD6NQu01"
   },
   "outputs": [],
   "source": [
    "BATCH_SIZE = 32\n",
    "\n",
    "def build_tf_data(train_x, validate_x, train_processed_y, validate_processed_y, text_vectorizer):  \n",
    "  \n",
    "  TRAIN_SHUFFLE_BUFFER_SIZE = len(train_x)\n",
    "  VALIDATION_SHUFFLE_BUFFER_SIZE = len(validate_x)\n",
    "\n",
    "  # Vectorize Text\n",
    "  def vectorize_text(text, label=None):\n",
    "    text = tf.expand_dims(text, -1)\n",
    "    text = text_vectorizer(text)\n",
    "    if label is None:\n",
    "      return text\n",
    "    else:\n",
    "      return text, label\n",
    "\n",
    "  # Create TF Dataset\n",
    "  train_data = tf.data.Dataset.from_tensor_slices((train_x, train_processed_y))\n",
    "  validation_data = tf.data.Dataset.from_tensor_slices((validate_x, validate_processed_y))\n",
    "\n",
    "  #############\n",
    "  # Train data\n",
    "  #############\n",
    "  train_data = train_data.shuffle(buffer_size=TRAIN_SHUFFLE_BUFFER_SIZE)\n",
    "  train_data = train_data.batch(BATCH_SIZE)\n",
    "  train_data = train_data.map(vectorize_text, num_parallel_calls=AUTOTUNE)\n",
    "  train_data = train_data.prefetch(buffer_size=AUTOTUNE)\n",
    "  train_data = train_data.cache()\n",
    "\n",
    "  ##################\n",
    "  # Validation data\n",
    "  ##################\n",
    "  validation_data = validation_data.shuffle(buffer_size=VALIDATION_SHUFFLE_BUFFER_SIZE)\n",
    "  validation_data = validation_data.batch(BATCH_SIZE)\n",
    "  validation_data = validation_data.map(vectorize_text, num_parallel_calls=AUTOTUNE)\n",
    "  validation_data = validation_data.prefetch(buffer_size=AUTOTUNE)\n",
    "  validation_data = validation_data.cache()\n",
    "\n",
    "  return train_data, validation_data"
   ]
  },
  {
   "cell_type": "code",
   "execution_count": 42,
   "metadata": {
    "id": "uJnmY0ciP1Vr"
   },
   "outputs": [],
   "source": [
    "# Create an experiment (Stores all your models/metrics in a separate folder)\n",
    "create_experiment()"
   ]
  },
  {
   "cell_type": "markdown",
   "metadata": {
    "id": "esYCDP1PXNwy"
   },
   "source": [
    "### **FFN**\n",
    "\n",
    "* We will start with a simple fully connected neural network. \n",
    "* In this model, each layer is a dense layer\n",
    "* Wer use activation function in  the hidden layers as ReLU. \n",
    "* Since our task is a multiclass classification problem, we use softmax as the activation function in the output layer."
   ]
  },
  {
   "cell_type": "code",
   "execution_count": 41,
   "metadata": {
    "colab": {
     "base_uri": "https://localhost:8080/"
    },
    "id": "6yIvb7jcVKCQ",
    "outputId": "5e3ce6c6-0571-455b-ea15-f1c5158f510d"
   },
   "outputs": [
    {
     "name": "stdout",
     "output_type": "stream",
     "text": [
      "train_data <CacheDataset element_spec=(TensorSpec(shape=(None, 1000), dtype=tf.int64, name=None), TensorSpec(shape=(None, 3), dtype=tf.float32, name=None))>\n",
      "validation_data <CacheDataset element_spec=(TensorSpec(shape=(None, 1000), dtype=tf.int64, name=None), TensorSpec(shape=(None, 3), dtype=tf.float32, name=None))>\n"
     ]
    }
   ],
   "source": [
    "# Initialize Text Vectorizer\n",
    "text_vectorizer = tf.keras.layers.TextVectorization(\n",
    "    max_tokens=max_tokens,\n",
    "    output_mode=\"int\",\n",
    "    output_sequence_length=sequence_length,\n",
    ")\n",
    "\n",
    "# Adapt on text\n",
    "text_vectorizer.adapt(text_data.batch(64))\n",
    "\n",
    "# Build tf.data datasets\n",
    "train_data, validation_data = build_tf_data(train_x, validate_x, train_processed_y, validate_processed_y, text_vectorizer)\n",
    "\n",
    "print(\"train_data\",train_data)\n",
    "print(\"validation_data\",validation_data)"
   ]
  },
  {
   "cell_type": "code",
   "execution_count": 43,
   "metadata": {
    "id": "QLfbqgrsXbMw"
   },
   "outputs": [],
   "source": [
    "def build_simple_fcn(num_classes, sequence_length):\n",
    "  # Set the model name as\n",
    "  model_name = 'simple_fcn'\n",
    "\n",
    "  # Model input\n",
    "  model_input = tf.keras.layers.Input(shape=(sequence_length))\n",
    "\n",
    "  hidden = tf.keras.layers.Dense(1024, activation=\"relu\")(model_input)\n",
    "  hidden = tf.keras.layers.Dense(1024, activation=\"relu\")(hidden)\n",
    "  hidden = tf.keras.layers.Dense(512, activation=\"relu\")(hidden)\n",
    "  hidden = tf.keras.layers.Dense(512, activation=\"relu\")(hidden)\n",
    "\n",
    "  # Output Layer\n",
    "  output = tf.keras.layers.Dense(units=num_classes, activation='softmax')(hidden)\n",
    "\n",
    "  # Create model\n",
    "  model = tf.keras.Model(inputs=model_input, outputs=output, name=model_name)\n",
    "\n",
    "  return model"
   ]
  },
  {
   "cell_type": "markdown",
   "metadata": {
    "id": "LUuy6Q7YXbuf"
   },
   "source": [
    "**Train**"
   ]
  },
  {
   "cell_type": "code",
   "execution_count": 44,
   "metadata": {
    "colab": {
     "base_uri": "https://localhost:8080/",
     "height": 1000
    },
    "id": "tEj8EY8zXf4c",
    "outputId": "fb874bd7-d03a-4f01-90d7-651df88cd53d"
   },
   "outputs": [
    {
     "name": "stdout",
     "output_type": "stream",
     "text": [
      "Model: \"simple_fcn\"\n",
      "_________________________________________________________________\n",
      " Layer (type)                Output Shape              Param #   \n",
      "=================================================================\n",
      " input_3 (InputLayer)        [(None, 1000)]            0         \n",
      "                                                                 \n",
      " dense (Dense)               (None, 1024)              1025024   \n",
      "                                                                 \n",
      " dense_1 (Dense)             (None, 1024)              1049600   \n",
      "                                                                 \n",
      " dense_2 (Dense)             (None, 512)               524800    \n",
      "                                                                 \n",
      " dense_3 (Dense)             (None, 512)               262656    \n",
      "                                                                 \n",
      " dense_4 (Dense)             (None, 3)                 1539      \n",
      "                                                                 \n",
      "=================================================================\n",
      "Total params: 2,863,619\n",
      "Trainable params: 2,863,619\n",
      "Non-trainable params: 0\n",
      "_________________________________________________________________\n",
      "None\n",
      "Epoch 1/10\n",
      "23/23 [==============================] - 1s 12ms/step - loss: 48550.8203 - accuracy: 0.3315 - val_loss: 5.1347 - val_accuracy: 0.3043\n",
      "Epoch 2/10\n",
      "23/23 [==============================] - 0s 4ms/step - loss: 716.2133 - accuracy: 0.3084 - val_loss: 13.4796 - val_accuracy: 0.2989\n",
      "Epoch 3/10\n",
      "23/23 [==============================] - 0s 5ms/step - loss: 29.4965 - accuracy: 0.3546 - val_loss: 3.9130 - val_accuracy: 0.2935\n",
      "Epoch 4/10\n",
      "23/23 [==============================] - 0s 4ms/step - loss: 29.2173 - accuracy: 0.3397 - val_loss: 2.7021 - val_accuracy: 0.2935\n",
      "Epoch 5/10\n",
      "23/23 [==============================] - 0s 4ms/step - loss: 20.5245 - accuracy: 0.3166 - val_loss: 3.3600 - val_accuracy: 0.3043\n",
      "Epoch 6/10\n",
      "23/23 [==============================] - 0s 4ms/step - loss: 10.0385 - accuracy: 0.3247 - val_loss: 2.6938 - val_accuracy: 0.3043\n",
      "Epoch 7/10\n",
      "23/23 [==============================] - 0s 5ms/step - loss: 2.1571 - accuracy: 0.3234 - val_loss: 2.6091 - val_accuracy: 0.2989\n",
      "Epoch 8/10\n",
      "23/23 [==============================] - 0s 4ms/step - loss: 1.3687 - accuracy: 0.3519 - val_loss: 2.6824 - val_accuracy: 0.2989\n",
      "Epoch 9/10\n",
      "23/23 [==============================] - 0s 4ms/step - loss: 1.7032 - accuracy: 0.3261 - val_loss: 2.8047 - val_accuracy: 0.2989\n",
      "Epoch 10/10\n",
      "23/23 [==============================] - 0s 4ms/step - loss: 18.5013 - accuracy: 0.3247 - val_loss: 2.8800 - val_accuracy: 0.2989\n",
      "Training execution time (mins) 0.03491346041361491\n"
     ]
    },
    {
     "data": {
      "image/png": "[encoded data removed]",
      "text/plain": [
       "<Figure size 1080x360 with 2 Axes>"
      ]
     },
     "metadata": {
      "needs_background": "light"
     },
     "output_type": "display_data"
    },
    {
     "name": "stdout",
     "output_type": "stream",
     "text": [
      "6/6 [==============================] - 0s 2ms/step - loss: 2.8800 - accuracy: 0.2989\n",
      "[2.8799567222595215, 0.29891303181648254]\n"
     ]
    }
   ],
   "source": [
    "############################\n",
    "# Training Params\n",
    "############################\n",
    "learning_rate = 0.01\n",
    "epochs = 10\n",
    "\n",
    "# Free up memory\n",
    "K.clear_session()\n",
    "\n",
    "# Build the model\n",
    "model = build_simple_fcn(num_classes, sequence_length)\n",
    "\n",
    "# Print the model architecture\n",
    "print(model.summary())\n",
    "\n",
    "# Optimizer\n",
    "optimizer = tf.keras.optimizers.Adam(learning_rate=learning_rate)\n",
    "# Loss\n",
    "loss = tf.keras.losses.categorical_crossentropy\n",
    "\n",
    "# Compile\n",
    "model.compile(loss=loss,\n",
    "                  optimizer=optimizer,\n",
    "                  metrics=['accuracy'])\n",
    "\n",
    "# Train model\n",
    "start_time = time.time()\n",
    "training_results = model.fit(\n",
    "        train_data,\n",
    "        validation_data=validation_data,\n",
    "        epochs=epochs, \n",
    "        verbose=1)\n",
    "execution_time = (time.time() - start_time)/60.0\n",
    "print(\"Training execution time (mins)\",execution_time)\n",
    "\n",
    "evaluate_save_model(model,validation_data, training_results,execution_time, learning_rate, BATCH_SIZE, epochs, optimizer,save=True)"
   ]
  },
  {
   "cell_type": "markdown",
   "metadata": {
    "id": "PDakwZ4OYBXu"
   },
   "source": [
    "### **FFN: 1-Gram**"
   ]
  },
  {
   "cell_type": "code",
   "execution_count": 45,
   "metadata": {
    "colab": {
     "base_uri": "https://localhost:8080/"
    },
    "id": "mP6Ggaa9RhJi",
    "outputId": "508ec202-9e35-4645-a123-fedb83ec023d"
   },
   "outputs": [
    {
     "name": "stdout",
     "output_type": "stream",
     "text": [
      "train_data <CacheDataset element_spec=(TensorSpec(shape=(None, 15000), dtype=tf.float32, name=None), TensorSpec(shape=(None, 3), dtype=tf.float32, name=None))>\n",
      "validation_data <CacheDataset element_spec=(TensorSpec(shape=(None, 15000), dtype=tf.float32, name=None), TensorSpec(shape=(None, 3), dtype=tf.float32, name=None))>\n"
     ]
    }
   ],
   "source": [
    "# Initialize Text Vectorizer\n",
    "text_vectorizer = tf.keras.layers.TextVectorization(\n",
    "    max_tokens=max_tokens,\n",
    "    output_mode=\"multi_hot\"\n",
    ")\n",
    "\n",
    "# Adapt on text\n",
    "text_vectorizer.adapt(text_data.batch(64))\n",
    "\n",
    "# Build tf.data datasets\n",
    "train_data, validation_data = build_tf_data(train_x, validate_x, train_processed_y, validate_processed_y, text_vectorizer)\n",
    "\n",
    "print(\"train_data\",train_data)\n",
    "print(\"validation_data\",validation_data)"
   ]
  },
  {
   "cell_type": "code",
   "execution_count": 47,
   "metadata": {
    "id": "EWwdcDMNWYjl"
   },
   "outputs": [],
   "source": [
    "def build_binary_1gram_model(num_classes, input_size):\n",
    "  # Set the model name as\n",
    "  model_name = 'binary_1gram'\n",
    "\n",
    "  # Model input\n",
    "  model_input = tf.keras.layers.Input(shape=(input_size))\n",
    "\n",
    "  hidden = tf.keras.layers.Dense(1024, activation=\"relu\")(model_input)\n",
    "  hidden = tf.keras.layers.Dropout(0.4)(hidden)\n",
    "  hidden = tf.keras.layers.Dense(1024, activation=\"relu\")(hidden)\n",
    "  hidden = tf.keras.layers.Dropout(0.4)(hidden)\n",
    "  hidden = tf.keras.layers.Dense(512, activation=\"relu\")(hidden)\n",
    "  hidden = tf.keras.layers.Dropout(0.4)(hidden)\n",
    "  hidden = tf.keras.layers.Dense(512, activation=\"relu\")(hidden)\n",
    "  hidden = tf.keras.layers.Dropout(0.4)(hidden)\n",
    "\n",
    "  # Output Layer\n",
    "  output = tf.keras.layers.Dense(units=num_classes, activation='softmax')(hidden)\n",
    "\n",
    "  # Create model\n",
    "  model = tf.keras.Model(inputs=model_input, outputs=output, name=model_name)\n",
    "\n",
    "  return model"
   ]
  },
  {
   "cell_type": "code",
   "execution_count": 48,
   "metadata": {
    "colab": {
     "base_uri": "https://localhost:8080/",
     "height": 1000
    },
    "id": "UQggYShuWYmG",
    "outputId": "83711219-bd1b-46c8-f8c1-ae76f526331f"
   },
   "outputs": [
    {
     "name": "stdout",
     "output_type": "stream",
     "text": [
      "Model: \"binary_1gram\"\n",
      "_________________________________________________________________\n",
      " Layer (type)                Output Shape              Param #   \n",
      "=================================================================\n",
      " input_4 (InputLayer)        [(None, 15000)]           0         \n",
      "                                                                 \n",
      " dense (Dense)               (None, 1024)              15361024  \n",
      "                                                                 \n",
      " dropout (Dropout)           (None, 1024)              0         \n",
      "                                                                 \n",
      " dense_1 (Dense)             (None, 1024)              1049600   \n",
      "                                                                 \n",
      " dropout_1 (Dropout)         (None, 1024)              0         \n",
      "                                                                 \n",
      " dense_2 (Dense)             (None, 512)               524800    \n",
      "                                                                 \n",
      " dropout_2 (Dropout)         (None, 512)               0         \n",
      "                                                                 \n",
      " dense_3 (Dense)             (None, 512)               262656    \n",
      "                                                                 \n",
      " dropout_3 (Dropout)         (None, 512)               0         \n",
      "                                                                 \n",
      " dense_4 (Dense)             (None, 3)                 1539      \n",
      "                                                                 \n",
      "=================================================================\n",
      "Total params: 17,199,619\n",
      "Trainable params: 17,199,619\n",
      "Non-trainable params: 0\n",
      "_________________________________________________________________\n",
      "None\n",
      "Epoch 1/10\n",
      "23/23 [==============================] - 1s 15ms/step - loss: 5.3660 - accuracy: 0.6033 - val_loss: 0.5631 - val_accuracy: 0.8750\n",
      "Epoch 2/10\n",
      "23/23 [==============================] - 0s 8ms/step - loss: 1.7798 - accuracy: 0.7894 - val_loss: 0.2064 - val_accuracy: 0.9457\n",
      "Epoch 3/10\n",
      "23/23 [==============================] - 0s 8ms/step - loss: 0.7943 - accuracy: 0.8886 - val_loss: 0.4089 - val_accuracy: 0.9185\n",
      "Epoch 4/10\n",
      "23/23 [==============================] - 0s 8ms/step - loss: 0.7787 - accuracy: 0.9416 - val_loss: 0.9064 - val_accuracy: 0.9130\n",
      "Epoch 5/10\n",
      "23/23 [==============================] - 0s 7ms/step - loss: 0.3368 - accuracy: 0.9470 - val_loss: 0.6721 - val_accuracy: 0.9402\n",
      "Epoch 6/10\n",
      "23/23 [==============================] - 0s 7ms/step - loss: 0.3284 - accuracy: 0.9647 - val_loss: 0.4876 - val_accuracy: 0.9130\n",
      "Epoch 7/10\n",
      "23/23 [==============================] - 0s 7ms/step - loss: 0.1904 - accuracy: 0.9742 - val_loss: 1.9364 - val_accuracy: 0.9130\n",
      "Epoch 8/10\n",
      "23/23 [==============================] - 0s 7ms/step - loss: 0.3928 - accuracy: 0.9742 - val_loss: 1.4293 - val_accuracy: 0.9348\n",
      "Epoch 9/10\n",
      "23/23 [==============================] - 0s 7ms/step - loss: 1.8989 - accuracy: 0.9416 - val_loss: 0.7082 - val_accuracy: 0.9457\n",
      "Epoch 10/10\n",
      "23/23 [==============================] - 0s 7ms/step - loss: 1.4269 - accuracy: 0.9524 - val_loss: 1.6575 - val_accuracy: 0.9293\n",
      "Training execution time (mins) 0.045923086007436116\n"
     ]
    },
    {
     "data": {
      "image/png": "[encoded data removed]",
      "text/plain": [
       "<Figure size 1080x360 with 2 Axes>"
      ]
     },
     "metadata": {
      "needs_background": "light"
     },
     "output_type": "display_data"
    },
    {
     "name": "stdout",
     "output_type": "stream",
     "text": [
      "6/6 [==============================] - 0s 3ms/step - loss: 1.6575 - accuracy: 0.9293\n",
      "[1.6575071811676025, 0.929347813129425]\n"
     ]
    }
   ],
   "source": [
    "############################\n",
    "# Training Params\n",
    "############################\n",
    "learning_rate = 0.01\n",
    "epochs = 10\n",
    "\n",
    "# Free up memory\n",
    "K.clear_session()\n",
    "\n",
    "# Build the model\n",
    "model = build_binary_1gram_model(num_classes, max_tokens)\n",
    "\n",
    "# Print the model architecture\n",
    "print(model.summary())\n",
    "\n",
    "# Optimizer\n",
    "optimizer = tf.keras.optimizers.Adam(learning_rate=learning_rate)\n",
    "# Loss\n",
    "loss = tf.keras.losses.categorical_crossentropy\n",
    "\n",
    "# Compile\n",
    "model.compile(loss=loss,\n",
    "                  optimizer=optimizer,\n",
    "                  metrics=['accuracy'])\n",
    "\n",
    "# Train model\n",
    "start_time = time.time()\n",
    "training_results = model.fit(\n",
    "        train_data,\n",
    "        validation_data=validation_data,\n",
    "        epochs=epochs, \n",
    "        verbose=1)\n",
    "execution_time = (time.time() - start_time)/60.0\n",
    "print(\"Training execution time (mins)\",execution_time)\n",
    "\n",
    "evaluate_save_model(model,validation_data, training_results,execution_time, learning_rate, BATCH_SIZE, epochs, optimizer,save=True)"
   ]
  },
  {
   "cell_type": "markdown",
   "metadata": {
    "id": "UZyZiiV3YHJr"
   },
   "source": [
    "### **FFN: Bi-Gram**"
   ]
  },
  {
   "cell_type": "code",
   "execution_count": 49,
   "metadata": {
    "colab": {
     "base_uri": "https://localhost:8080/"
    },
    "id": "anha64dIYMJK",
    "outputId": "36e59d81-07dd-49e1-f44f-87b4ed32a3db"
   },
   "outputs": [
    {
     "name": "stdout",
     "output_type": "stream",
     "text": [
      "train_data <CacheDataset element_spec=(TensorSpec(shape=(None, 15000), dtype=tf.float32, name=None), TensorSpec(shape=(None, 3), dtype=tf.float32, name=None))>\n",
      "validation_data <CacheDataset element_spec=(TensorSpec(shape=(None, 15000), dtype=tf.float32, name=None), TensorSpec(shape=(None, 3), dtype=tf.float32, name=None))>\n"
     ]
    }
   ],
   "source": [
    "# Initialize Text Vectorizer\n",
    "text_vectorizer = tf.keras.layers.TextVectorization(\n",
    "    ngrams=2,\n",
    "    max_tokens=max_tokens,\n",
    "    output_mode=\"multi_hot\"\n",
    ")\n",
    "\n",
    "# Adapt on text\n",
    "text_vectorizer.adapt(text_data.batch(64))\n",
    "\n",
    "# Build tf.data datasets\n",
    "train_data, validation_data = build_tf_data(train_x, validate_x, train_processed_y, validate_processed_y, text_vectorizer)\n",
    "\n",
    "print(\"train_data\",train_data)\n",
    "print(\"validation_data\",validation_data)"
   ]
  },
  {
   "cell_type": "code",
   "execution_count": 50,
   "metadata": {
    "id": "FwVMZgUbYMJL"
   },
   "outputs": [],
   "source": [
    "def build_binary_2gram_model(num_classes, input_size):\n",
    "  # Set the model name as\n",
    "  model_name = 'binary_2gram'\n",
    "\n",
    "  # Model input\n",
    "  model_input = tf.keras.layers.Input(shape=(input_size))\n",
    "\n",
    "  hidden = tf.keras.layers.Dense(1024, activation=\"relu\")(model_input)\n",
    "  hidden = tf.keras.layers.Dropout(0.4)(hidden)\n",
    "  hidden = tf.keras.layers.Dense(1024, activation=\"relu\")(hidden)\n",
    "  hidden = tf.keras.layers.Dropout(0.4)(hidden)\n",
    "  hidden = tf.keras.layers.Dense(512, activation=\"relu\")(hidden)\n",
    "  hidden = tf.keras.layers.Dropout(0.4)(hidden)\n",
    "  hidden = tf.keras.layers.Dense(512, activation=\"relu\")(hidden)\n",
    "  hidden = tf.keras.layers.Dropout(0.4)(hidden)\n",
    "\n",
    "  # Output Layer\n",
    "  output = tf.keras.layers.Dense(units=num_classes, activation='softmax')(hidden)\n",
    "\n",
    "  # Create model\n",
    "  model = tf.keras.Model(inputs=model_input, outputs=output, name=model_name)\n",
    "\n",
    "  return model"
   ]
  },
  {
   "cell_type": "code",
   "execution_count": 51,
   "metadata": {
    "colab": {
     "base_uri": "https://localhost:8080/",
     "height": 1000
    },
    "id": "LJsZzZpKYMJL",
    "outputId": "206cf70c-2b39-4609-90c5-0b4316efe73b"
   },
   "outputs": [
    {
     "name": "stdout",
     "output_type": "stream",
     "text": [
      "Model: \"binary_2gram\"\n",
      "_________________________________________________________________\n",
      " Layer (type)                Output Shape              Param #   \n",
      "=================================================================\n",
      " input_5 (InputLayer)        [(None, 15000)]           0         \n",
      "                                                                 \n",
      " dense (Dense)               (None, 1024)              15361024  \n",
      "                                                                 \n",
      " dropout (Dropout)           (None, 1024)              0         \n",
      "                                                                 \n",
      " dense_1 (Dense)             (None, 1024)              1049600   \n",
      "                                                                 \n",
      " dropout_1 (Dropout)         (None, 1024)              0         \n",
      "                                                                 \n",
      " dense_2 (Dense)             (None, 512)               524800    \n",
      "                                                                 \n",
      " dropout_2 (Dropout)         (None, 512)               0         \n",
      "                                                                 \n",
      " dense_3 (Dense)             (None, 512)               262656    \n",
      "                                                                 \n",
      " dropout_3 (Dropout)         (None, 512)               0         \n",
      "                                                                 \n",
      " dense_4 (Dense)             (None, 3)                 1539      \n",
      "                                                                 \n",
      "=================================================================\n",
      "Total params: 17,199,619\n",
      "Trainable params: 17,199,619\n",
      "Non-trainable params: 0\n",
      "_________________________________________________________________\n",
      "None\n",
      "Epoch 1/10\n",
      "23/23 [==============================] - 1s 16ms/step - loss: 4.7404 - accuracy: 0.5761 - val_loss: 0.6892 - val_accuracy: 0.8370\n",
      "Epoch 2/10\n",
      "23/23 [==============================] - 0s 8ms/step - loss: 9.5249 - accuracy: 0.7106 - val_loss: 0.3756 - val_accuracy: 0.8967\n",
      "Epoch 3/10\n",
      "23/23 [==============================] - 0s 8ms/step - loss: 2.9399 - accuracy: 0.8342 - val_loss: 0.4018 - val_accuracy: 0.8587\n",
      "Epoch 4/10\n",
      "23/23 [==============================] - 0s 7ms/step - loss: 2.5693 - accuracy: 0.8736 - val_loss: 2.3104 - val_accuracy: 0.8696\n",
      "Epoch 5/10\n",
      "23/23 [==============================] - 0s 7ms/step - loss: 4.7006 - accuracy: 0.8723 - val_loss: 2.4208 - val_accuracy: 0.9185\n",
      "Epoch 6/10\n",
      "23/23 [==============================] - 0s 7ms/step - loss: 1.3890 - accuracy: 0.9334 - val_loss: 2.6898 - val_accuracy: 0.9185\n",
      "Epoch 7/10\n",
      "23/23 [==============================] - 0s 7ms/step - loss: 1.4605 - accuracy: 0.9389 - val_loss: 4.6886 - val_accuracy: 0.9130\n",
      "Epoch 8/10\n",
      "23/23 [==============================] - 0s 7ms/step - loss: 1.5665 - accuracy: 0.9307 - val_loss: 3.8549 - val_accuracy: 0.9239\n",
      "Epoch 9/10\n",
      "23/23 [==============================] - 0s 7ms/step - loss: 1.3872 - accuracy: 0.9565 - val_loss: 3.1010 - val_accuracy: 0.9293\n",
      "Epoch 10/10\n",
      "23/23 [==============================] - 0s 7ms/step - loss: 1.5555 - accuracy: 0.9647 - val_loss: 4.6126 - val_accuracy: 0.8859\n",
      "Training execution time (mins) 0.04351188739140829\n"
     ]
    },
    {
     "data": {
      "image/png": "[encoded data removed]",
      "text/plain": [
       "<Figure size 1080x360 with 2 Axes>"
      ]
     },
     "metadata": {
      "needs_background": "light"
     },
     "output_type": "display_data"
    },
    {
     "name": "stdout",
     "output_type": "stream",
     "text": [
      "6/6 [==============================] - 0s 3ms/step - loss: 4.6126 - accuracy: 0.8859\n",
      "[4.612576484680176, 0.885869562625885]\n"
     ]
    }
   ],
   "source": [
    "############################\n",
    "# Training Params\n",
    "############################\n",
    "learning_rate = 0.01\n",
    "epochs = 10\n",
    "\n",
    "# Free up memory\n",
    "K.clear_session()\n",
    "\n",
    "# Build the model\n",
    "model = build_binary_2gram_model(num_classes, max_tokens)\n",
    "\n",
    "# Print the model architecture\n",
    "print(model.summary())\n",
    "\n",
    "# Optimizer\n",
    "optimizer = tf.keras.optimizers.Adam(learning_rate=learning_rate)\n",
    "# Loss\n",
    "loss = tf.keras.losses.categorical_crossentropy\n",
    "\n",
    "# Compile\n",
    "model.compile(loss=loss,\n",
    "                  optimizer=optimizer,\n",
    "                  metrics=['accuracy'])\n",
    "\n",
    "# Train model\n",
    "start_time = time.time()\n",
    "training_results = model.fit(\n",
    "        train_data,\n",
    "        validation_data=validation_data,\n",
    "        epochs=epochs, \n",
    "        verbose=1)\n",
    "execution_time = (time.time() - start_time)/60.0\n",
    "print(\"Training execution time (mins)\",execution_time)\n",
    "\n",
    "evaluate_save_model(model,validation_data, training_results,execution_time, learning_rate, BATCH_SIZE, epochs, optimizer,save=True)"
   ]
  },
  {
   "cell_type": "markdown",
   "metadata": {
    "id": "UW-crrgZa1Sl"
   },
   "source": [
    "### **LSTM: Embedding**"
   ]
  },
  {
   "cell_type": "code",
   "execution_count": 52,
   "metadata": {
    "colab": {
     "base_uri": "https://localhost:8080/"
    },
    "id": "js9wNQk2auEF",
    "outputId": "ffb5d435-3c8c-43f8-9766-20db55df8e6e"
   },
   "outputs": [
    {
     "name": "stdout",
     "output_type": "stream",
     "text": [
      "Vocabulary Size: 15000\n",
      "train_data <CacheDataset element_spec=(TensorSpec(shape=(None, 1000), dtype=tf.int64, name=None), TensorSpec(shape=(None, 3), dtype=tf.float32, name=None))>\n",
      "validation_data <CacheDataset element_spec=(TensorSpec(shape=(None, 1000), dtype=tf.int64, name=None), TensorSpec(shape=(None, 3), dtype=tf.float32, name=None))>\n"
     ]
    }
   ],
   "source": [
    "# Initialize Text Vectorizer\n",
    "text_vectorizer = tf.keras.layers.TextVectorization(\n",
    "    max_tokens=max_tokens,\n",
    "    output_mode=\"int\",\n",
    "    output_sequence_length=sequence_length,\n",
    ")\n",
    "\n",
    "# Adapt on text\n",
    "text_vectorizer.adapt(text_data.batch(64))\n",
    "\n",
    "# Get Vocabulary\n",
    "vocabulary = text_vectorizer.get_vocabulary()\n",
    "vocabulary_size = len(vocabulary)\n",
    "print(\"Vocabulary Size:\",vocabulary_size)\n",
    "# Generate word index\n",
    "word_index = dict(zip(vocabulary, range(vocabulary_size)))\n",
    "\n",
    "# Build tf.data datasets\n",
    "train_data, validation_data = build_tf_data(train_x, validate_x, train_processed_y, validate_processed_y, text_vectorizer)\n",
    "\n",
    "print(\"train_data\",train_data)\n",
    "print(\"validation_data\",validation_data)"
   ]
  },
  {
   "cell_type": "code",
   "execution_count": 53,
   "metadata": {
    "id": "8-zxcSnIXZZd"
   },
   "outputs": [],
   "source": [
    "def build_lstm_model_emb(num_classes,vocab_size,embedding_dim,hidden_size):\n",
    "  # Set the model name as\n",
    "  model_name = 'lstm_model_emb'\n",
    "\n",
    "  # Model input\n",
    "  model_input = tf.keras.Input(shape=(None,))\n",
    "\n",
    "  # Embedding\n",
    "  embedding = tf.keras.layers.Embedding(input_dim=vocab_size, output_dim=embedding_dim, mask_zero=True)(model_input)\n",
    "\n",
    "  # LSTM layer\n",
    "  hidden = tf.keras.layers.LSTM(units=hidden_size, return_sequences=False)(embedding)\n",
    "  hidden = tf.keras.layers.Dense(units=hidden_size, activation='relu')(hidden)\n",
    "\n",
    "  # Output Layer\n",
    "  output = tf.keras.layers.Dense(units=num_classes, activation='softmax')(hidden)\n",
    "\n",
    "  # Create model\n",
    "  model = tf.keras.Model(inputs=model_input, outputs=output, name=model_name)\n",
    "\n",
    "  return model"
   ]
  },
  {
   "cell_type": "code",
   "execution_count": 54,
   "metadata": {
    "colab": {
     "base_uri": "https://localhost:8080/",
     "height": 1000
    },
    "id": "QBsMNTrAbDJV",
    "outputId": "3420536b-14de-4f32-d963-3291a4e857cf"
   },
   "outputs": [
    {
     "name": "stdout",
     "output_type": "stream",
     "text": [
      "Model: \"lstm_model_emb\"\n",
      "_________________________________________________________________\n",
      " Layer (type)                Output Shape              Param #   \n",
      "=================================================================\n",
      " input_6 (InputLayer)        [(None, None)]            0         \n",
      "                                                                 \n",
      " embedding (Embedding)       (None, None, 100)         1500000   \n",
      "                                                                 \n",
      " lstm (LSTM)                 (None, 64)                42240     \n",
      "                                                                 \n",
      " dense (Dense)               (None, 64)                4160      \n",
      "                                                                 \n",
      " dense_1 (Dense)             (None, 3)                 195       \n",
      "                                                                 \n",
      "=================================================================\n",
      "Total params: 1,546,595\n",
      "Trainable params: 1,546,595\n",
      "Non-trainable params: 0\n",
      "_________________________________________________________________\n",
      "None\n",
      "Epoch 1/10\n",
      "23/23 [==============================] - 26s 914ms/step - loss: 1.0341 - accuracy: 0.4769 - val_loss: 1.2014 - val_accuracy: 0.5924\n",
      "Epoch 2/10\n",
      "23/23 [==============================] - 15s 614ms/step - loss: 0.6205 - accuracy: 0.7867 - val_loss: 1.1161 - val_accuracy: 0.6250\n",
      "Epoch 3/10\n",
      "23/23 [==============================] - 15s 612ms/step - loss: 0.1289 - accuracy: 0.9688 - val_loss: 1.4563 - val_accuracy: 0.5707\n",
      "Epoch 4/10\n",
      "23/23 [==============================] - 15s 620ms/step - loss: 0.0591 - accuracy: 0.9878 - val_loss: 1.8367 - val_accuracy: 0.5761\n",
      "Epoch 5/10\n",
      "23/23 [==============================] - 15s 612ms/step - loss: 0.0282 - accuracy: 0.9932 - val_loss: 2.1594 - val_accuracy: 0.5761\n",
      "Epoch 6/10\n",
      "23/23 [==============================] - 16s 627ms/step - loss: 0.0131 - accuracy: 0.9986 - val_loss: 2.4417 - val_accuracy: 0.5924\n",
      "Epoch 7/10\n",
      "23/23 [==============================] - 15s 618ms/step - loss: 0.0137 - accuracy: 0.9959 - val_loss: 2.6183 - val_accuracy: 0.5707\n",
      "Epoch 8/10\n",
      "23/23 [==============================] - 15s 617ms/step - loss: 0.0209 - accuracy: 0.9973 - val_loss: 2.5180 - val_accuracy: 0.6196\n",
      "Epoch 9/10\n",
      "23/23 [==============================] - 15s 613ms/step - loss: 0.0083 - accuracy: 0.9986 - val_loss: 2.5084 - val_accuracy: 0.6250\n",
      "Epoch 10/10\n",
      "23/23 [==============================] - 15s 615ms/step - loss: 0.0088 - accuracy: 0.9973 - val_loss: 2.8379 - val_accuracy: 0.5815\n",
      "Training execution time (mins) 2.7378087043762207\n"
     ]
    },
    {
     "data": {
      "image/png": "[encoded data removed]",
      "text/plain": [
       "<Figure size 1080x360 with 2 Axes>"
      ]
     },
     "metadata": {
      "needs_background": "light"
     },
     "output_type": "display_data"
    },
    {
     "name": "stdout",
     "output_type": "stream",
     "text": [
      "6/6 [==============================] - 0s 18ms/step - loss: 2.8379 - accuracy: 0.5815\n",
      "[2.837888717651367, 0.58152174949646]\n"
     ]
    }
   ],
   "source": [
    "############################\n",
    "# Training Params\n",
    "############################\n",
    "learning_rate = 0.01\n",
    "epochs = 10\n",
    "embedding_dim = 100\n",
    "hidden_size = 64\n",
    "\n",
    "# Free up memory\n",
    "K.clear_session()\n",
    "\n",
    "# Build the model\n",
    "model = build_lstm_model_emb(num_classes, max_tokens, embedding_dim,hidden_size)\n",
    "\n",
    "# Print the model architecture\n",
    "print(model.summary())\n",
    "\n",
    "# Optimizer\n",
    "optimizer = tf.keras.optimizers.Adam(learning_rate=learning_rate)\n",
    "# Loss\n",
    "loss = tf.keras.losses.categorical_crossentropy\n",
    "\n",
    "# Compile\n",
    "model.compile(loss=loss,\n",
    "                  optimizer=optimizer,\n",
    "                  metrics=['accuracy'])\n",
    "\n",
    "# Train model\n",
    "start_time = time.time()\n",
    "training_results = model.fit(\n",
    "        train_data,\n",
    "        validation_data=validation_data,\n",
    "        epochs=epochs, \n",
    "        verbose=1)\n",
    "execution_time = (time.time() - start_time)/60.0\n",
    "print(\"Training execution time (mins)\",execution_time)\n",
    "\n",
    "evaluate_save_model(model,validation_data, training_results,execution_time, learning_rate, BATCH_SIZE, epochs, optimizer,save=True)"
   ]
  },
  {
   "cell_type": "code",
   "execution_count": 55,
   "metadata": {
    "id": "6a2gXZBHslAo"
   },
   "outputs": [],
   "source": [
    "#del varname"
   ]
  },
  {
   "cell_type": "markdown",
   "metadata": {
    "id": "imUQOWlyYRzL"
   },
   "source": [
    "### **LSTM: Pretrained Embedding**\n",
    "\n",
    "* Alternatively, we could initialize embeddings with pre-trained word embeddings.\n",
    "* Specifically, let's try GloVe embeddings. GloVe stands for Global Vectors, which is an open-source project developed by Stanford. It contains pre-trained word representations in various sizes, including 50-dimensional, 100-dimensional, 200-dimensional, and 300-dimensional.\n",
    "\n",
    "* In this model, we choose the 100d version.\n",
    "\n",
    "[Reference](http://nlp.stanford.edu/projects/glove/)"
   ]
  },
  {
   "cell_type": "markdown",
   "metadata": {
    "id": "jicA07sDYYmF"
   },
   "source": [
    "**Prepare Embedding**\n",
    "\n",
    "We need to prepare the pretrained embedding to use in our model"
   ]
  },
  {
   "cell_type": "code",
   "execution_count": 56,
   "metadata": {
    "colab": {
     "base_uri": "https://localhost:8080/"
    },
    "id": "4NrvVACTYbrE",
    "outputId": "384065f9-0dec-462b-be89-d340727adfda"
   },
   "outputs": [
    {
     "name": "stdout",
     "output_type": "stream",
     "text": [
      "Number of word vectors: 400000\n"
     ]
    }
   ],
   "source": [
    "# Read glove embeddings\n",
    "embeddings_index = {}\n",
    "with open(glove_path) as f:\n",
    "    for line in f:\n",
    "        word, coefs = line.split(maxsplit=1)\n",
    "        coefs = np.fromstring(coefs, \"f\", sep=\" \")\n",
    "        embeddings_index[word] = coefs\n",
    "\n",
    "print(\"Number of word vectors:\",len(embeddings_index))"
   ]
  },
  {
   "cell_type": "code",
   "execution_count": 57,
   "metadata": {
    "colab": {
     "base_uri": "https://localhost:8080/"
    },
    "id": "335gC1HPcQzE",
    "outputId": "598169cb-ced4-4df7-8a36-d0a3fc52d2ac"
   },
   "outputs": [
    {
     "name": "stdout",
     "output_type": "stream",
     "text": [
      "Text Coverage: 0.9356\n",
      "Embedding Matrix, Shape (15000, 100)\n"
     ]
    }
   ],
   "source": [
    "# Prepare embedding matrix\n",
    "embedding_dim = 100\n",
    "embedding_matrix = np.zeros((max_tokens, embedding_dim))\n",
    "oov = {}    \n",
    "n_covered = 0\n",
    "n_oov = 0\n",
    "for word, i in word_index.items():\n",
    "    embedding_vector = embeddings_index.get(word)\n",
    "    if embedding_vector is not None:\n",
    "      embedding_matrix[i] = embedding_vector\n",
    "    else:\n",
    "      n_oov += 1\n",
    "\n",
    "text_coverage = (vocabulary_size-n_oov)/vocabulary_size\n",
    "print(\"Text Coverage:\",text_coverage)\n",
    "\n",
    "print(\"Embedding Matrix, Shape\" ,embedding_matrix.shape)"
   ]
  },
  {
   "cell_type": "code",
   "execution_count": 58,
   "metadata": {
    "id": "voK5g2gZrmmF"
   },
   "outputs": [],
   "source": [
    "def build_lstm_pretrained_emb(num_classes,vocab_size,embedding_dim,hidden_size, embedding_matrix):\n",
    "  # Set the model name as\n",
    "  model_name = 'lstm_pretrained_emb'\n",
    "\n",
    "  # Model input\n",
    "  model_input = tf.keras.Input(shape=(None,))\n",
    "\n",
    "  # Embedding\n",
    "  embedding = tf.keras.layers.Embedding(input_dim=embedding_matrix.shape[0], \n",
    "                            output_dim=embedding_dim, \n",
    "                            embeddings_initializer=tf.keras.initializers.Constant(embedding_matrix), # Load pre-trained weights\n",
    "                            trainable=False, # Set Trainable to False\n",
    "                            name=\"embedding\")(model_input)\n",
    "\n",
    "  # LSTM layer\n",
    "  hidden = tf.keras.layers.LSTM(units=hidden_size, return_sequences=False)(embedding)\n",
    "  hidden = tf.keras.layers.Dense(units=hidden_size, activation='relu')(hidden)\n",
    "\n",
    "  # Output Layer\n",
    "  output = tf.keras.layers.Dense(units=num_classes, activation='softmax')(hidden)\n",
    "\n",
    "  # Create model\n",
    "  model = tf.keras.Model(inputs=model_input, outputs=output, name=model_name)\n",
    "\n",
    "  return model"
   ]
  },
  {
   "cell_type": "code",
   "execution_count": 59,
   "metadata": {
    "colab": {
     "base_uri": "https://localhost:8080/",
     "height": 1000
    },
    "id": "KnO4pWm5rmok",
    "outputId": "fd3ba866-d8b1-4478-b8aa-d9e305e23c7f"
   },
   "outputs": [
    {
     "name": "stdout",
     "output_type": "stream",
     "text": [
      "Model: \"lstm_pretrained_emb\"\n",
      "_________________________________________________________________\n",
      " Layer (type)                Output Shape              Param #   \n",
      "=================================================================\n",
      " input_7 (InputLayer)        [(None, None)]            0         \n",
      "                                                                 \n",
      " embedding (Embedding)       (None, None, 100)         1500000   \n",
      "                                                                 \n",
      " lstm (LSTM)                 (None, 64)                42240     \n",
      "                                                                 \n",
      " dense (Dense)               (None, 64)                4160      \n",
      "                                                                 \n",
      " dense_1 (Dense)             (None, 3)                 195       \n",
      "                                                                 \n",
      "=================================================================\n",
      "Total params: 1,546,595\n",
      "Trainable params: 46,595\n",
      "Non-trainable params: 1,500,000\n",
      "_________________________________________________________________\n",
      "None\n",
      "Epoch 1/10\n",
      "23/23 [==============================] - 3s 56ms/step - loss: 1.0987 - accuracy: 0.4334 - val_loss: 1.0385 - val_accuracy: 0.5000\n",
      "Epoch 2/10\n",
      "23/23 [==============================] - 1s 35ms/step - loss: 0.9665 - accuracy: 0.5217 - val_loss: 0.9563 - val_accuracy: 0.5217\n",
      "Epoch 3/10\n",
      "23/23 [==============================] - 1s 35ms/step - loss: 0.9157 - accuracy: 0.5557 - val_loss: 0.9019 - val_accuracy: 0.5543\n",
      "Epoch 4/10\n",
      "23/23 [==============================] - 1s 35ms/step - loss: 0.8642 - accuracy: 0.5856 - val_loss: 0.8412 - val_accuracy: 0.5870\n",
      "Epoch 5/10\n",
      "23/23 [==============================] - 1s 35ms/step - loss: 0.8260 - accuracy: 0.5856 - val_loss: 0.9316 - val_accuracy: 0.5598\n",
      "Epoch 6/10\n",
      "23/23 [==============================] - 1s 35ms/step - loss: 0.8592 - accuracy: 0.5842 - val_loss: 1.0164 - val_accuracy: 0.3967\n",
      "Epoch 7/10\n",
      "23/23 [==============================] - 1s 35ms/step - loss: 0.8746 - accuracy: 0.5448 - val_loss: 0.9388 - val_accuracy: 0.5543\n",
      "Epoch 8/10\n",
      "23/23 [==============================] - 1s 35ms/step - loss: 0.8355 - accuracy: 0.5883 - val_loss: 0.9141 - val_accuracy: 0.5870\n",
      "Epoch 9/10\n",
      "23/23 [==============================] - 1s 35ms/step - loss: 0.7213 - accuracy: 0.6671 - val_loss: 0.6899 - val_accuracy: 0.5870\n",
      "Epoch 10/10\n",
      "23/23 [==============================] - 1s 35ms/step - loss: 0.6296 - accuracy: 0.6114 - val_loss: 0.7364 - val_accuracy: 0.5870\n",
      "Training execution time (mins) 0.165275506178538\n"
     ]
    },
    {
     "data": {
      "image/png": "[encoded data removed]",
      "text/plain": [
       "<Figure size 1080x360 with 2 Axes>"
      ]
     },
     "metadata": {
      "needs_background": "light"
     },
     "output_type": "display_data"
    },
    {
     "name": "stdout",
     "output_type": "stream",
     "text": [
      "6/6 [==============================] - 0s 16ms/step - loss: 0.7364 - accuracy: 0.5870\n",
      "[0.7363658547401428, 0.5869565010070801]\n"
     ]
    }
   ],
   "source": [
    "############################\n",
    "# Training Params\n",
    "############################\n",
    "learning_rate = 0.01\n",
    "epochs = 10\n",
    "embedding_dim = 100\n",
    "hidden_size = 64\n",
    "\n",
    "# Free up memory\n",
    "K.clear_session()\n",
    "\n",
    "# Build the model\n",
    "model = build_lstm_pretrained_emb(num_classes, max_tokens, embedding_dim,hidden_size, embedding_matrix)\n",
    "\n",
    "# Print the model architecture\n",
    "print(model.summary())\n",
    "\n",
    "# Optimizer\n",
    "optimizer = tf.keras.optimizers.Adam(learning_rate=learning_rate)\n",
    "# Loss\n",
    "loss = tf.keras.losses.categorical_crossentropy\n",
    "\n",
    "# Compile\n",
    "model.compile(loss=loss,\n",
    "                  optimizer=optimizer,\n",
    "                  metrics=['accuracy'])\n",
    "\n",
    "# Train model\n",
    "start_time = time.time()\n",
    "training_results = model.fit(\n",
    "        train_data,\n",
    "        validation_data=validation_data,\n",
    "        epochs=epochs, \n",
    "        verbose=1)\n",
    "execution_time = (time.time() - start_time)/60.0\n",
    "print(\"Training execution time (mins)\",execution_time)\n",
    "\n",
    "evaluate_save_model(model,validation_data, training_results,execution_time, learning_rate, BATCH_SIZE, epochs, optimizer,save=True)"
   ]
  },
  {
   "cell_type": "markdown",
   "metadata": {
    "id": "UeWJGjKShw8p"
   },
   "source": [
    "### **Pretrained BERT**"
   ]
  },
  {
   "cell_type": "markdown",
   "metadata": {
    "id": "WFsmoyIicARn"
   },
   "source": [
    "BERT Text Tokenization ([Reference](https://huggingface.co/transformers/model_doc/bert.html#berttokenizer))"
   ]
  },
  {
   "cell_type": "code",
   "execution_count": 60,
   "metadata": {
    "id": "_vI1FNCCcFDW"
   },
   "outputs": [
    {
     "name": "stderr",
     "output_type": "stream",
     "text": [
      "Downloading: 100%|██████████| 226k/226k [00:00<00:00, 52.7MB/s]\n",
      "Downloading: 100%|██████████| 28.0/28.0 [00:00<00:00, 18.0kB/s]\n",
      "Downloading: 100%|██████████| 570/570 [00:00<00:00, 438kB/s]\n"
     ]
    }
   ],
   "source": [
    "# Tokenizer\n",
    "tokenizer=BertTokenizer.from_pretrained('bert-base-uncased',do_lower_case=True)"
   ]
  },
  {
   "cell_type": "code",
   "execution_count": 61,
   "metadata": {
    "colab": {
     "base_uri": "https://localhost:8080/"
    },
    "id": "vOd0Y2-ncTZ1",
    "outputId": "2c5eb310-d60b-4f42-bcc4-79db6777193b"
   },
   "outputs": [
    {
     "name": "stdout",
     "output_type": "stream",
     "text": [
      "Tokenizer Output: {'input_ids': <tf.Tensor: shape=(2, 15), dtype=int32, numpy=\n",
      "array([[  101,  2054,  2017,  2342,  2000,  2113,  2055,  2478,  2068,\n",
      "         9689, 13463,  1996,  6090,  3207,   102],\n",
      "       [  101,  1037,  2353,  1997, 27615, 25612, 10285,  2007, 21887,\n",
      "        23350,  3092,  2039,  1999,  1996,   102]], dtype=int32)>, 'token_type_ids': <tf.Tensor: shape=(2, 15), dtype=int32, numpy=\n",
      "array([[0, 0, 0, 0, 0, 0, 0, 0, 0, 0, 0, 0, 0, 0, 0],\n",
      "       [0, 0, 0, 0, 0, 0, 0, 0, 0, 0, 0, 0, 0, 0, 0]], dtype=int32)>, 'attention_mask': <tf.Tensor: shape=(2, 15), dtype=int32, numpy=\n",
      "array([[1, 1, 1, 1, 1, 1, 1, 1, 1, 1, 1, 1, 1, 1, 1],\n",
      "       [1, 1, 1, 1, 1, 1, 1, 1, 1, 1, 1, 1, 1, 1, 1]], dtype=int32)>}\n"
     ]
    }
   ],
   "source": [
    "# Tokenizer Example\n",
    "text = [\"What you need to know about using them safely amid the pandemic\", \n",
    "        \"A third of Medicare enrollees with coronavirus ended up in the hospital\"]\n",
    "outputs = tokenizer.batch_encode_plus(text, \n",
    "        return_tensors='tf',\n",
    "        add_special_tokens = True, # add [CLS], [SEP]\n",
    "        return_token_type_ids=True,\n",
    "        padding='max_length',\n",
    "        truncation='longest_first',\n",
    "        max_length=15\n",
    "      )\n",
    "print(\"Tokenizer Output:\",outputs)"
   ]
  },
  {
   "cell_type": "markdown",
   "metadata": {
    "id": "lr4BViO8cY7U"
   },
   "source": [
    "* Input ids: are the only required parameters to be passed to the model as input. They are token indices, numerical representations of tokens building the sequences that will be used as input by the model.\n",
    "* Attention mask: is an optional argument used when batching sequences together. This argument indicates to the model which tokens should be attended to, and which should not.\n",
    "* Token type ids: Some models’ purpose is to do sequence classification or question answering. These require two different sequences to be joined in a single “input_ids” entry, which usually is performed with the help of special tokens, such as the classifier ([CLS]) and separator ([SEP]) tokens. For example, the BERT model builds its two sequence input as such:\n",
    "\n",
    "* Here, we will tokenize news articles. To setup for BERT, we need to add special tokens,  namely [CLS] at the beginning and [SEP] at the end of each sentence. Also, we need to pad or truncate all sentences to a single constant length."
   ]
  },
  {
   "cell_type": "code",
   "execution_count": 62,
   "metadata": {
    "colab": {
     "base_uri": "https://localhost:8080/"
    },
    "id": "gr4qnSSpiNiL",
    "outputId": "f97d91c2-ba13-429a-b158-26fd5abb302d"
   },
   "outputs": [
    {
     "name": "stdout",
     "output_type": "stream",
     "text": [
      "dict_keys(['input_ids', 'token_type_ids', 'attention_mask'])\n",
      "train_data <PrefetchDataset element_spec=((TensorSpec(shape=(None, 256), dtype=tf.int32, name=None), TensorSpec(shape=(None, 256), dtype=tf.int32, name=None), TensorSpec(shape=(None, 256), dtype=tf.int32, name=None)), TensorSpec(shape=(None, 3), dtype=tf.float32, name=None))>\n",
      "validation_data <PrefetchDataset element_spec=((TensorSpec(shape=(None, 256), dtype=tf.int32, name=None), TensorSpec(shape=(None, 256), dtype=tf.int32, name=None), TensorSpec(shape=(None, 256), dtype=tf.int32, name=None)), TensorSpec(shape=(None, 3), dtype=tf.float32, name=None))>\n"
     ]
    }
   ],
   "source": [
    "BATCH_SIZE = 8\n",
    "TRAIN_SHUFFLE_BUFFER_SIZE = len(train_x)\n",
    "VALIDATION_SHUFFLE_BUFFER_SIZE = len(validate_x)\n",
    "\n",
    "# Feature constraints\n",
    "sequence_length = 256\n",
    "\n",
    "# Tokenize train x\n",
    "train_x_processed = tokenizer.batch_encode_plus(\n",
    "        train_x,\n",
    "        return_tensors='tf',\n",
    "        add_special_tokens = True, # add [CLS], [SEP]\n",
    "        return_token_type_ids=True,\n",
    "        padding='max_length',\n",
    "        max_length=sequence_length,\n",
    "        return_attention_mask = True,\n",
    "        truncation='longest_first'\n",
    "    )\n",
    "\n",
    "# Tokenize validate x\n",
    "validate_x_processed = tokenizer.batch_encode_plus(\n",
    "        validate_x,\n",
    "        return_tensors='tf',\n",
    "        add_special_tokens = True, # add [CLS], [SEP]\n",
    "        return_token_type_ids=True,\n",
    "        padding='max_length',\n",
    "        max_length=sequence_length,\n",
    "        return_attention_mask = True,\n",
    "        truncation='longest_first'\n",
    "    )\n",
    "\n",
    "print(train_x_processed.keys())\n",
    "\n",
    "# Create TF Dataset\n",
    "train_data = tf.data.Dataset.from_tensor_slices(((train_x_processed[\"input_ids\"],\n",
    "                                                  train_x_processed[\"token_type_ids\"],\n",
    "                                                  train_x_processed[\"attention_mask\"]), train_processed_y))\n",
    "validation_data = tf.data.Dataset.from_tensor_slices(((validate_x_processed[\"input_ids\"],\n",
    "                                                  validate_x_processed[\"token_type_ids\"],\n",
    "                                                  validate_x_processed[\"attention_mask\"]), validate_processed_y))\n",
    "\n",
    "#############\n",
    "# Train data\n",
    "#############\n",
    "train_data = train_data.shuffle(buffer_size=TRAIN_SHUFFLE_BUFFER_SIZE)\n",
    "train_data = train_data.batch(BATCH_SIZE)\n",
    "train_data = train_data.prefetch(buffer_size=AUTOTUNE)\n",
    "\n",
    "##################\n",
    "# Validation data\n",
    "##################\n",
    "validation_data = validation_data.shuffle(buffer_size=VALIDATION_SHUFFLE_BUFFER_SIZE)\n",
    "validation_data = validation_data.batch(BATCH_SIZE)\n",
    "validation_data = validation_data.prefetch(buffer_size=AUTOTUNE)\n",
    "\n",
    "print(\"train_data\",train_data)\n",
    "print(\"validation_data\",validation_data)"
   ]
  },
  {
   "cell_type": "code",
   "execution_count": 63,
   "metadata": {
    "id": "gCVuvUj6jlbJ"
   },
   "outputs": [],
   "source": [
    "def build_pretrained_bert(num_classes):\n",
    "  # Set the model name as\n",
    "  model_name = 'bert_pretrained'\n",
    "  model = TFBertForSequenceClassification.from_pretrained('bert-base-uncased', num_labels=num_classes,name=model_name)\n",
    "  model.layers[0].trainable=True\n",
    "  return model"
   ]
  },
  {
   "cell_type": "code",
   "execution_count": 64,
   "metadata": {
    "colab": {
     "base_uri": "https://localhost:8080/",
     "height": 945
    },
    "id": "7-VTGcMKjo21",
    "outputId": "940b48bd-a35b-40fd-bb9e-f4433c01cd69"
   },
   "outputs": [
    {
     "name": "stderr",
     "output_type": "stream",
     "text": [
      "Downloading: 100%|██████████| 511M/511M [00:12<00:00, 42.6MB/s] \n",
      "All model checkpoint layers were used when initializing TFBertForSequenceClassification.\n",
      "\n",
      "Some layers of TFBertForSequenceClassification were not initialized from the model checkpoint at bert-base-uncased and are newly initialized: ['classifier']\n",
      "You should probably TRAIN this model on a down-stream task to be able to use it for predictions and inference.\n"
     ]
    },
    {
     "name": "stdout",
     "output_type": "stream",
     "text": [
      "Model: \"bert_pretrained\"\n",
      "_________________________________________________________________\n",
      " Layer (type)                Output Shape              Param #   \n",
      "=================================================================\n",
      " bert (TFBertMainLayer)      multiple                  109482240 \n",
      "                                                                 \n",
      " dropout_37 (Dropout)        multiple                  0         \n",
      "                                                                 \n",
      " classifier (Dense)          multiple                  2307      \n",
      "                                                                 \n",
      "=================================================================\n",
      "Total params: 109,484,547\n",
      "Trainable params: 109,484,547\n",
      "Non-trainable params: 0\n",
      "_________________________________________________________________\n",
      "None\n",
      "Epoch 1/5\n",
      "92/92 [==============================] - 62s 487ms/step - loss: 0.5890 - accuracy: 0.7989 - val_loss: 0.2115 - val_accuracy: 0.9511\n",
      "Epoch 2/5\n",
      "92/92 [==============================] - 43s 463ms/step - loss: 0.1635 - accuracy: 0.9620 - val_loss: 0.1858 - val_accuracy: 0.9402\n",
      "Epoch 3/5\n",
      "92/92 [==============================] - 43s 469ms/step - loss: 0.0715 - accuracy: 0.9878 - val_loss: 0.1341 - val_accuracy: 0.9674\n",
      "Epoch 4/5\n",
      "92/92 [==============================] - 43s 472ms/step - loss: 0.0226 - accuracy: 0.9986 - val_loss: 0.1426 - val_accuracy: 0.9620\n",
      "Epoch 5/5\n",
      "92/92 [==============================] - 44s 478ms/step - loss: 0.0523 - accuracy: 0.9891 - val_loss: 0.0822 - val_accuracy: 0.9783\n",
      "Training execution time (mins) 3.9180635809898376\n"
     ]
    },
    {
     "data": {
      "image/png": "[encoded data removed]",
      "text/plain": [
       "<Figure size 1080x360 with 2 Axes>"
      ]
     },
     "metadata": {
      "needs_background": "light"
     },
     "output_type": "display_data"
    },
    {
     "name": "stdout",
     "output_type": "stream",
     "text": [
      "23/23 [==============================] - 3s 147ms/step - loss: 0.0822 - accuracy: 0.9783\n",
      "[0.08224465698003769, 0.97826087474823]\n"
     ]
    }
   ],
   "source": [
    "############################\n",
    "# Training Params\n",
    "############################\n",
    "learning_rate = 2e-5             # IMPORTANT: keeep learning rate low to not distort pretrained weights too much\n",
    "epochs = 5\n",
    "\n",
    "# Free up memory\n",
    "K.clear_session()\n",
    "\n",
    "# Build the model\n",
    "model = build_pretrained_bert(num_classes)\n",
    "\n",
    "# Print the model architecture\n",
    "print(model.summary())\n",
    "\n",
    "# Optimizer\n",
    "optimizer = tf.keras.optimizers.Adam(learning_rate=learning_rate, epsilon=1e-08)\n",
    "# Loss\n",
    "loss = tf.keras.losses.CategoricalCrossentropy(from_logits=True)\n",
    "\n",
    "# Compile\n",
    "model.compile(loss=loss,\n",
    "                  optimizer=optimizer,\n",
    "                  metrics=['accuracy'])\n",
    "\n",
    "# Train model\n",
    "start_time = time.time()\n",
    "training_results = model.fit(\n",
    "        train_data,\n",
    "        validation_data=validation_data,\n",
    "        epochs=epochs, \n",
    "        verbose=1)\n",
    "execution_time = (time.time() - start_time)/60.0\n",
    "print(\"Training execution time (mins)\",execution_time)\n",
    "\n",
    "evaluate_save_model(model,validation_data, training_results,execution_time, learning_rate, BATCH_SIZE, epochs, optimizer,save=True)"
   ]
  },
  {
   "cell_type": "markdown",
   "metadata": {
    "id": "GMs9Edxpdsji"
   },
   "source": [
    "### **Compare all Models**"
   ]
  },
  {
   "cell_type": "code",
   "execution_count": 65,
   "metadata": {
    "colab": {
     "base_uri": "https://localhost:8080/",
     "height": 237
    },
    "id": "KkasxT2wdsjj",
    "outputId": "7270d4d6-d4e6-49c4-cfb6-41b3e9ee5a84"
   },
   "outputs": [
    {
     "data": {
      "text/html": [
       "<div>\n",
       "<style scoped>\n",
       "    .dataframe tbody tr th:only-of-type {\n",
       "        vertical-align: middle;\n",
       "    }\n",
       "\n",
       "    .dataframe tbody tr th {\n",
       "        vertical-align: top;\n",
       "    }\n",
       "\n",
       "    .dataframe thead th {\n",
       "        text-align: right;\n",
       "    }\n",
       "</style>\n",
       "<table border=\"1\" class=\"dataframe\">\n",
       "  <thead>\n",
       "    <tr style=\"text-align: right;\">\n",
       "      <th></th>\n",
       "      <th>trainable_parameters</th>\n",
       "      <th>execution_time</th>\n",
       "      <th>loss</th>\n",
       "      <th>accuracy</th>\n",
       "      <th>model_size</th>\n",
       "      <th>learning_rate</th>\n",
       "      <th>epochs</th>\n",
       "      <th>name</th>\n",
       "    </tr>\n",
       "  </thead>\n",
       "  <tbody>\n",
       "    <tr>\n",
       "      <th>0</th>\n",
       "      <td>109,484,547</td>\n",
       "      <td>3.92 mins</td>\n",
       "      <td>0.08</td>\n",
       "      <td>97.83%</td>\n",
       "      <td>438 MB</td>\n",
       "      <td>0.00002</td>\n",
       "      <td>5</td>\n",
       "      <td>bert_pretrained</td>\n",
       "    </tr>\n",
       "    <tr>\n",
       "      <th>1</th>\n",
       "      <td>17,199,619</td>\n",
       "      <td>0.05 mins</td>\n",
       "      <td>1.66</td>\n",
       "      <td>92.93%</td>\n",
       "      <td>69 MB</td>\n",
       "      <td>0.01000</td>\n",
       "      <td>10</td>\n",
       "      <td>binary_1gram</td>\n",
       "    </tr>\n",
       "    <tr>\n",
       "      <th>5</th>\n",
       "      <td>17,199,619</td>\n",
       "      <td>0.04 mins</td>\n",
       "      <td>4.61</td>\n",
       "      <td>88.59%</td>\n",
       "      <td>69 MB</td>\n",
       "      <td>0.01000</td>\n",
       "      <td>10</td>\n",
       "      <td>binary_2gram</td>\n",
       "    </tr>\n",
       "    <tr>\n",
       "      <th>2</th>\n",
       "      <td>46,595</td>\n",
       "      <td>0.17 mins</td>\n",
       "      <td>0.74</td>\n",
       "      <td>58.70%</td>\n",
       "      <td>6 MB</td>\n",
       "      <td>0.01000</td>\n",
       "      <td>10</td>\n",
       "      <td>lstm_pretrained_emb</td>\n",
       "    </tr>\n",
       "    <tr>\n",
       "      <th>4</th>\n",
       "      <td>1,546,595</td>\n",
       "      <td>2.74 mins</td>\n",
       "      <td>2.84</td>\n",
       "      <td>58.15%</td>\n",
       "      <td>6 MB</td>\n",
       "      <td>0.01000</td>\n",
       "      <td>10</td>\n",
       "      <td>lstm_model_emb</td>\n",
       "    </tr>\n",
       "    <tr>\n",
       "      <th>3</th>\n",
       "      <td>2,863,619</td>\n",
       "      <td>0.03 mins</td>\n",
       "      <td>2.88</td>\n",
       "      <td>29.89%</td>\n",
       "      <td>11 MB</td>\n",
       "      <td>0.01000</td>\n",
       "      <td>10</td>\n",
       "      <td>simple_fcn</td>\n",
       "    </tr>\n",
       "  </tbody>\n",
       "</table>\n",
       "</div>"
      ],
      "text/plain": [
       "  trainable_parameters execution_time  loss accuracy model_size  \\\n",
       "0          109,484,547      3.92 mins  0.08   97.83%     438 MB   \n",
       "1           17,199,619      0.05 mins  1.66   92.93%      69 MB   \n",
       "5           17,199,619      0.04 mins  4.61   88.59%      69 MB   \n",
       "2               46,595      0.17 mins  0.74   58.70%       6 MB   \n",
       "4            1,546,595      2.74 mins  2.84   58.15%       6 MB   \n",
       "3            2,863,619      0.03 mins  2.88   29.89%      11 MB   \n",
       "\n",
       "   learning_rate  epochs                 name  \n",
       "0        0.00002       5      bert_pretrained  \n",
       "1        0.01000      10         binary_1gram  \n",
       "5        0.01000      10         binary_2gram  \n",
       "2        0.01000      10  lstm_pretrained_emb  \n",
       "4        0.01000      10       lstm_model_emb  \n",
       "3        0.01000      10           simple_fcn  "
      ]
     },
     "execution_count": 65,
     "metadata": {},
     "output_type": "execute_result"
    }
   ],
   "source": [
    "models_metrics_list = glob(experiment_name+\"/*_model_metrics.json\")\n",
    "\n",
    "all_models_metrics = []\n",
    "for mm_file in models_metrics_list:\n",
    "  with open(mm_file) as json_file:\n",
    "    model_metrics = json.load(json_file)\n",
    "    all_models_metrics.append(model_metrics)\n",
    "\n",
    "# Load metrics to dataframe\n",
    "view_metrics = pd.DataFrame(data=all_models_metrics)\n",
    "\n",
    "# Format columns\n",
    "view_metrics['accuracy'] = view_metrics['accuracy']*100\n",
    "view_metrics['accuracy'] = view_metrics['accuracy'].map('{:,.2f}%'.format)\n",
    "\n",
    "view_metrics['trainable_parameters'] = view_metrics['trainable_parameters'].map('{:,.0f}'.format)\n",
    "view_metrics['execution_time'] = view_metrics['execution_time'].map('{:,.2f} mins'.format)\n",
    "view_metrics['loss'] = view_metrics['loss'].map('{:,.2f}'.format)\n",
    "view_metrics['model_size'] = view_metrics['model_size']/1000000\n",
    "view_metrics['model_size'] = view_metrics['model_size'].map('{:,.0f} MB'.format)\n",
    "\n",
    "# Filter columns\n",
    "view_metrics = view_metrics[[\"trainable_parameters\",\"execution_time\",\"loss\",\n",
    "                             \"accuracy\",\"model_size\",\"learning_rate\",\"epochs\",\"name\"]]\n",
    "view_metrics = view_metrics.sort_values(by=['accuracy'],ascending=False)\n",
    "view_metrics.head(10)"
   ]
  },
  {
   "cell_type": "markdown",
   "metadata": {
    "id": "RfUnZ9mXt3aq"
   },
   "source": [
    "## **Text Generation using Language Model: GPT2** "
   ]
  },
  {
   "cell_type": "markdown",
   "metadata": {
    "id": "OyE1_j4G6mof"
   },
   "source": [
    "### **GPT2 Pretrained Lanaguage Model** <div id='gpt2_pretrained'>"
   ]
  },
  {
   "cell_type": "markdown",
   "metadata": {
    "id": "wB6uwb0R7vm2"
   },
   "source": [
    "**Tokenizer for GPT2**"
   ]
  },
  {
   "cell_type": "code",
   "execution_count": 66,
   "metadata": {
    "id": "QSzrsIKZ7yzd"
   },
   "outputs": [
    {
     "name": "stderr",
     "output_type": "stream",
     "text": [
      "Downloading: 100%|██████████| 0.99M/0.99M [00:00<00:00, 66.9MB/s]\n",
      "Downloading: 100%|██████████| 446k/446k [00:00<00:00, 72.5MB/s]\n",
      "Downloading: 100%|██████████| 665/665 [00:00<00:00, 463kB/s]\n"
     ]
    }
   ],
   "source": [
    "# Tokenizer - Load the tokenizer specific to gpt2 training\n",
    "tokenizer = GPT2Tokenizer.from_pretrained(\"gpt2\")"
   ]
  },
  {
   "cell_type": "markdown",
   "metadata": {
    "id": "LFlh-kxC8C87"
   },
   "source": [
    "**Load GPT2 Pretrained Model**"
   ]
  },
  {
   "cell_type": "code",
   "execution_count": 67,
   "metadata": {
    "colab": {
     "base_uri": "https://localhost:8080/"
    },
    "id": "l3OI7VpFvNRJ",
    "outputId": "0dfd044c-be04-47a8-afe7-dcc9af3ac2be"
   },
   "outputs": [
    {
     "name": "stderr",
     "output_type": "stream",
     "text": [
      "Downloading: 100%|██████████| 475M/475M [00:11<00:00, 41.8MB/s] \n",
      "2022-04-16 04:38:54.294152: W tensorflow/python/util/util.cc:368] Sets are not currently considered sequences, but this may change in the future, so consider avoiding using them.\n",
      "All model checkpoint layers were used when initializing TFGPT2LMHeadModel.\n",
      "\n",
      "All the layers of TFGPT2LMHeadModel were initialized from the model checkpoint at gpt2.\n",
      "If your task is similar to the task the model of the checkpoint was trained on, you can already use TFGPT2LMHeadModel for predictions without further training.\n"
     ]
    }
   ],
   "source": [
    "# Model - Load pretrained GPT Language Model\n",
    "model = TFGPT2LMHeadModel.from_pretrained(\"gpt2\", pad_token_id=tokenizer.eos_token_id)"
   ]
  },
  {
   "cell_type": "code",
   "execution_count": 68,
   "metadata": {
    "colab": {
     "base_uri": "https://localhost:8080/"
    },
    "id": "9JnY7AY4vJsw",
    "outputId": "318a9b1d-efef-4bfc-b5ac-f78997b3d7d9"
   },
   "outputs": [
    {
     "name": "stdout",
     "output_type": "stream",
     "text": [
      "Generated text:\n",
      "Summer is almost here, but there is still much to do, and we'll get to it in a bit.\n",
      "\n",
      "Q: So why does it seem that every player in this league really want to finish better than anyone else?\n",
      "\n",
      "The answer is probably that the players that we're used to playing at have failed to adapt to the new coaching style and the competition.\n",
      "\n",
      "Q: Why is this important? Why do I have to draft one of the other top talent in this league\n"
     ]
    }
   ],
   "source": [
    "# Input text\n",
    "input_text = \"Summer is almost here\" # enter a prompt here\n",
    "\n",
    "# Tokenize Input\n",
    "input_ids = tokenizer.encode(input_text, return_tensors='tf')\n",
    "\n",
    "# Generate output\n",
    "outputs = model.generate(\n",
    "    input_ids, \n",
    "    do_sample=True, \n",
    "    max_length=100, \n",
    "    top_p=0.80, \n",
    "    top_k=0\n",
    ")\n",
    "\n",
    "print(\"Generated text:\")\n",
    "print(tokenizer.decode(outputs[0], skip_special_tokens=True))"
   ]
  },
  {
   "cell_type": "markdown",
   "metadata": {
    "id": "zbdYcGs9vc_z"
   },
   "source": [
    "### **Finetune GPT-2 Lanaguage Model** "
   ]
  },
  {
   "cell_type": "markdown",
   "metadata": {
    "id": "PpTvtBwgt3n9"
   },
   "source": [
    "### **Overview**\n",
    "\n",
    "In this section, we're going to be working with news articles from CNN related to covid-19. We will explore the dataset, prepare the data for finetuning GPT2. Our fine-tuned GPT2 will be able to write articles related to covid-19.\n",
    "\n",
    "**The Task:** Finetune GPT2 to build a language model on news articles related to health, specifically covid-19 related articles.\n"
   ]
  },
  {
   "cell_type": "markdown",
   "metadata": {
    "id": "C3f3_gGXHViC"
   },
   "source": [
    "#### **Download Dataset**\n",
    "\n",
    "Download the datasets to colab."
   ]
  },
  {
   "cell_type": "code",
   "execution_count": 69,
   "metadata": {
    "colab": {
     "base_uri": "https://localhost:8080/"
    },
    "id": "egOka1XlMwWD",
    "outputId": "3d65f10d-07c3-498f-bdf0-cc0e69363d2d"
   },
   "outputs": [
    {
     "name": "stdout",
     "output_type": "stream",
     "text": [
      "Downloading data from https://storage.googleapis.com/cs109b/datasets/covid.zip\n",
      "6045696/6038181 [==============================] - 0s 0us/step\n",
      "6053888/6038181 [==============================] - 0s 0us/step\n",
      "dataset_path: /home/u_61397728/.keras/datasets/covid\n",
      "Download execution time (mins) 0.3350569208463033\n"
     ]
    }
   ],
   "source": [
    "start_time = time.time()\n",
    "# Download\n",
    "dataset_path = tf.keras.utils.get_file(\n",
    "    origin=\"https://storage.googleapis.com/cs109b/datasets/covid.zip\",\n",
    "    extract=True)\n",
    "dataset_path = dataset_path.replace(\".zip\",\"\")\n",
    "print(\"dataset_path:\",dataset_path)\n",
    "execution_time = (time.time() - start_time)/60.0\n",
    "print(\"Download execution time (mins)\",execution_time)"
   ]
  },
  {
   "cell_type": "markdown",
   "metadata": {
    "id": "BeRlscziOFqe"
   },
   "source": [
    "#### **Load Data**\n",
    "\n",
    "* Read-in data as lists."
   ]
  },
  {
   "cell_type": "code",
   "execution_count": 70,
   "metadata": {
    "colab": {
     "base_uri": "https://localhost:8080/"
    },
    "id": "YhzSkToQNDtu",
    "outputId": "2cf1a6fb-446b-45f2-db79-ee84b355711f"
   },
   "outputs": [
    {
     "name": "stdout",
     "output_type": "stream",
     "text": [
      "training_data count: 300\n"
     ]
    }
   ],
   "source": [
    "# Load all the paths to text files\n",
    "training_data = []\n",
    "text_files = os.listdir(dataset_path)\n",
    "training_data.extend([os.path.join(dataset_path,f) for f in text_files])\n",
    "\n",
    "# Subset your training data for demo, full datset can take a long time to train\n",
    "subset_data = True\n",
    "if subset_data:\n",
    "  training_data = training_data[:300]\n",
    "\n",
    "# Load the text content\n",
    "for idx, path in enumerate(training_data):\n",
    "  # Load text\n",
    "  with open(path) as file:\n",
    "    training_data[idx] = file.read()\n",
    "\n",
    "print(\"training_data count:\",len(training_data))"
   ]
  },
  {
   "cell_type": "markdown",
   "metadata": {
    "id": "vuVI0fRaOJ6V"
   },
   "source": [
    "#### **View Text**\n",
    "\n",
    "Let's take a look at the data."
   ]
  },
  {
   "cell_type": "code",
   "execution_count": 71,
   "metadata": {
    "colab": {
     "base_uri": "https://localhost:8080/"
    },
    "id": "vOnaQxrdNquT",
    "outputId": "7b5a54d3-f888-48c7-fde4-94c269fd6059"
   },
   "outputs": [
    {
     "name": "stdout",
     "output_type": "stream",
     "text": [
      "Text: How to train yourself not to touch your face   (CNN)We're washing our hands, staying at home and standing 6 feet apart when we do need to go out. What else can we do to limit the spread of Covid-19?  Public health experts say not enough is being done to tackle face touching -- something that could make a very large difference to the transmission of the coronavirus.   The challenge, says Susan Michie, the director of the Centre for Behaviour Change at University College London, is frustratingly simple. It's much, much harder not to do something than to do something.  \"Do wash your hands, do stand 2 meters apart -- but don't touch your face? It's much more difficult,\" Michie says. We touch our face for many reasons: to groom, to gesture (like with the classic face palm) and to scratch. It can even be soothing in times of stress. According to one study, people touch their face about 23 times an hour.  To overcome these ingrained habits, Michie recommends making a conscious effort to keep your hands below shoulder level at all times and train yourself to resist the urge to touch your face.  Why your face? The face, specifically what doctors call the T-zone of your eyes, nose and mouth, is a key route of transmission for the novel coronavirus. It can be spread via droplets that are expelled into the air and contaminate surfaces and objects like cellphones, car keys, door handles and elevators.  If you touch the mucus membranes in your nostrils, mouth and eyes after touching infected surfaces and objects -- what scientists call fomites -- you can become infected.  \"If you never touched your face, it wouldn't matter if you didn't wash your hands. Your hands could be as dirty or as contaminated as you like,\" says Robert West, a professor of health psychology at University College London. \"The only reason why it's important is because eventually your hands are going to come in contact with a mucus membrane. It's the mucus membranes that are the key ... (they) act as the pathway into the body.\"  Unlike, say, measles, for the most part you can't get Covid-19 simply by being in the same room as someone who has it already.  \"The fact that it's mainly droplet-based and that it survives quite a long time on surfaces means that these fomites are going to be a really important route of transmission,\" said West. \"We need more hand awareness and actions that are incompatible with touching your face.\" While it was especially important not to touch your face when you're out and about, West said the best approach to break the habit would be to practice not doing it in general -- even when you're at home and you've washed your hands.  One option? Head nets So what exactly can we do to stop touching our faces?  Floating Doctors, a US medical relief group, has a novel suggestion born of experience working in rural communities in central America. It is recommending that people use a head net when they go out -- like the ones used to protect from mosquito bites, or that you might see on a beekeeper.  \"They are totally comfortable, and you can see really well,\" said Dr. Ben LaBrot, the founder of Floating Doctors and a clinical assistant professor of medical education at the University of Southern California's Keck School of Medicine. \"You wear it over your hat.\"   \"The mind is quite aware of the barrier so you don't even really reach up,\" he said, adding that head nets are readily available in most places and inexpensive. \"This is a small, individual act that can prevent you from getting sick or one person from getting infected,\" he added. West said this kind of physical barrier could be quite effective.  \"There is research on how to control microhabits -- things that you do without really thinking about it,\" said West. \"You take away the opportunity to do it.\" Similarly, West said wearing a face mask could help people stop touching their mouth and nose, although there was a risk that the act of putting the mask on and taking it off could cause contamination.   Counter habits and mindfulness Another strategy West recommended was coming up with a \"counter-habit.\" \"The trigger is noticing your hand is moving to your face. One obvious thing is to divert it and scratch the back of your head -- redirect it. \"A few people have contacted me to say they put something on their hands to make it more mindful, like a scent,\" West continued. \"What you're trying to do is bring (the act) into consciousness.\" He said the \"toughest nut to crack\" was the facial itch. \"Itches have evolved for us to scratch. Historically, ticks or other bugs landed on our face and buried in our skin -- this would have been quite dangerous for us.\"  When I have an itch, said West, \"I notice it. I don't fight it but I don't give into it as it were. You notice it but you don't have to act on it.\" West said he was \"astonished\" more wasn't being done to encourage people not to touch their faces given what a critical role the behavior plays in spreading the virus.  \"If you've got a big problem (people think) you need a big solution,\" he said. \"Face touching [appears to be] such a trivial thing. It's almost silly, and it just doesn't feel right that stopping face touching could make much of a difference.  \"That's my hypothesis about why people aren't taking it seriously because if you look at the logic of it and the infection pathway it's clearly critical.\" West said we need to get to the point where if someone touched their face in public it elicited an \"ewww.\" \"We need to get it into our heads that face touching isn't even a thing you can do. It would be like taking your trousers down in public.\"  \n",
      "Text: How having cancer can put Covid-19 patients at higher risk of dying  (CNN)Researchers are learning more about the risks cancer patients face if they become sick with Covid-19, the disease caused by the novel coronavirus that has swept through the world.  Patients whose cancer was getting worse or spreading were more than five times more likely to die in the space of a month if they caught Covid-19, researchers said this week during the annual meeting of the American Society of Clinical Oncology. Even if the patients' cancer wasn't spreading, coronavirus infection nearly doubled the risk of dying, the researchers found. That early data, published in the medical journal The Lancet on Thursday, also showed that patients treated with the controversial coronavirus combination of hydroxychloroquine and azithromycin were nearly three times as likely to die within about a month. The researchers found no significant increase in risk for patients given either drug alone. The researchers from across North America and Europe looked at data on 928 Covid-19 cases from between March and April. 'Patients with cancer have twice the risk of dying' About 20% of the patients were treated with the hydroxychloroquine and azithromycin combination and about 10% took hydroxychloroquine alone, Dr. Jeremy Warner, who worked on the research and is an associate professor of medicine and biomedical informatics at Vanderbilt University Medical Center, told reporters. \"One of the notable things is that only two of these patients got these drugs as part of a clinical trial. The rest of them were given the drugs off label -- since these drugs are generally available that's at the discretion of the treating provider, but it's still notable,\" Warner said. \"Patients with all levels of severity of Covid-19 received these drugs, although certainly the patients that were hospitalized were more likely to receive these drugs.\" The US Food and Drug Administration and National Institutes of Health both have warned against using the drugs outside of clinical trials. Currently, there is no approved treatment for Covid-19. Overall, 121 patients total -- or 13% -- died during the study period and all deaths occurred within 30 days of being diagnosed with Covid-19, according to the data. \"While it's not surprising, it's informative that it looks like patients with cancer have twice the risk of dying than the general public,\" Warner told CNN on Thursday. The new study comes with limitations, including that more research is needed to determine whether similar findings would emerge among a larger group of patients. \"Right now, we're working to quickly get information about why some patients with cancer become infected with the SARS-CoV-2 virus and identify the factors that affect disease severity and death,\" Warner said in a statement. \"We're also interested in the effects of treatments that are being used to treat patients with cancer who have Covid-19.\" Warner told CNN that more research also is needed to examine whether Covid-19 impacts patients with certain types of cancer differently, and how. \"I think the public perceives cancer as perhaps a catch-all, but there are at least 120 different types of cancer, some of which have essentially normal life expectancy with treatment,\" Warner said. A separate study found that patients with lung cancer and other types of cancers in the chest had a 64% increased risk of dying from the coronavirus if they had been treated with chemotherapy recently -- within three months of a Covid-19 diagnosis. Patients given corticosteroids to reduce inflammation were 1.5 times more likely to die. Other types of cancer treatment, such as immunotherapies and tyrosine kinase inhibitors, were not associated with a greater risk of death among the patients. The study, conducted by an international team of researchers, included data on 400 thoracic cancer patients from around the world who had been diagnosed with Covid-19.  Patients with thoracic cancers -- lung cancers and others in the chest -- already are considered at high risk of severe illness or death from Covid-19 since they tend to be older and already have lung damage, among other risk factors. The data showed that 141 of the patients died. The majority, or 79%, died due to Covid-19 and 10% died due to their cancer. Cancer patients should not abandon their care, experts say The research should not deter patients from seeking care for their cancer due to fear of being exposed to the novel coronavirus in hospitals, said Dr. Toni Choueiri, of the Dana-Farber Cancer Institute and a professor of medicine at Harvard Medical School in Boston, who worked on the Lancet study. Patients also should talk to their doctors about what may be best for them, Choueiri said. \"The biggest message here is that if you need treatment for your cancer that could be curative -- surgery, radiation, some sort of chemotherapy -- you really still should have it,\" Choueiri told CNN on Thursday. \"I really worry about the next two to three months when we're open, when we're more safe, and a patient is saying, 'Well my stage three kidney cancer that needs surgery or my acute leukemia that needs chemotherapy, I'm going to delay until next year,'\" Choueiri said. \"That's what we don't want to happen.\" So far more than 100,000 people in the United States have died from Covid-19 during the coronavirus pandemic. The American Cancer Society predicts more than 600,000 people will die this year of cancer, said Dr. William Cance, the society's chief medical and scientific officer, who was not involved in the new research. \"Cancer is still moving at its pace. So we have to get people back in the research labs. We have to get our clinical trials back up and running, but in the context of this paper, we have to do it safely -- and when those patients undergoing therapy get Covid, it appears with these data that they have a much higher risk,\" Cance told CNN. \"But one of my greatest worries is the undiagnosed patient, the patients who need to be screened and they're not getting their screenings. In a lot of areas, colonoscopies have just stopped,\" he said. \"One bright spot is we are turning more to telehealth and lots of things can be done very well, if not better, through telehealth. This will force a change in how we take care of cancer patients.\"  \n",
      "Text: Some rural hospitals in Texas have yet to receive a single Covid-19 vaccine dose, hospital group says  (CNN)As Texas shifts its focus to large community vaccination efforts, some frontline health care workers remain unprotected. About 10% of the rural hospitals in Texas have yet to receive a single Covid-19 vaccine dose, according to a group representing rural hospitals in the state.  Of the 16 hospitals which have not been allocated a vaccine shipment, 15 have sought doses from neighboring providers or pharmacies to get their staff vaccinated, Don McBeath, director of government relations for the Texas Organization of Rural & Community Hospitals (TORCH) told CNN. \"There's been a very high level of frustration for a number of weeks with many of the rural hospitals in Texas, because they were watching the state move into the general public category, administering vaccine, yet we had so many rural hospitals that have not even been able to receive any for their frontline employees,\" said McBeath.  Last week, 25 of the state's 157 rural hospitals had yet to receive a vaccine shipment, according to McBeath. On Sunday, an update from the state on vaccine allocations revealed 16 rural hospitals were still not on the distribution list, including Golden Planes Community Hospital.  \"We have not received one single dose,\" said Don Bates, CEO of Golden Planes. Some of his employees have received a vaccine from their local United supermarket, which had some extra doses to share. McBeath said that the surges of Covid-19 seen in Texas and across the nation are \"as bad or worse\" in rural areas, where small hospitals can't afford to have staff out of commission because there are so many patients who need care.  If some of these hospitals have staff out sick or quarantining from Covid-19 exposure, \"you don't even have enough employees to run a 24-hour operation,\" he said. \"That's why we've plead to the state, over and over, to make the rural hospitals a priority -- to figure out a way to make it work,\" he added. Enrollment Issues Hospitals must have an application approved by the Texas Department of State Health Services before they can receive and administer vaccines. \"There are still some hospitals working to complete their enrollment as a vaccine provider. We've been working diligently with TORCH and the facilities directly to help them complete that process so they can receive vaccine,\" Chris Van Deusen, director of media relations for the Texas Department of State Health Services, told CNN. \"Rural hospitals serve an important role in providing care in their communities, and we will allocate vaccine to them as they enroll.\" Some hospital CEOs say the enrollment process isn't so simple.  Bates said he's tried to submit the application for his hospital at least a dozen times. \"When you're on the computer with an application, and they request yet another revision, that kicks you into a loop of waiting 14 more business days,\" he said. Bates likened it to calling the fire department when your house is burning down and having them respond, \"Well, how many buckets of water do you need?\"  He said his application was approved in the last week, but the hospital has not been informed how many doses it will receive and when.  \"If we're approved, send me vaccine,\" said Bates. \"Let me get shots in arms.\" Nathan Staggs, CEO of Anson General Hospital, another hospital waiting on vaccines, said his application was approved Wednesday. He said nearly half of his staff have recently had coronavirus, and some others have received doses through local pharmacies.   \"There was a lot of frustration for my staff -- 'Why can I go to a pharmacy in the grocery store in Abilene and get a vaccine, but I can't get one at work?'\" said Staggs. Expanding access to vaccines Around the country, the coronavirus vaccine rollout has been slower than federal officials initially projected. Just over 10 million people have received their first coronavirus shots and 29.3 million doses of vaccine have been distributed, the US Centers for Disease Control and Prevention said Wednesday. At the urging of federal officials, many states are opening up vaccines to additional priority groups. The Texas Department of State Health Services said in a statement on its website that during the week of January 11, Texas will direct most Covid-19 vaccines received to large sites or hubs in the state to vaccinate more than 100,000 people. Bates said those major hubs could be hours away for people living in rural communities. As vaccinations become available to the wider population, he said his employees are still waiting for their turn.  \"What does that mean for us? Do we continue to wait?\" he said. Texas, like other states, is working on speeding the administration of vaccines. The health department is communicating regularly with hospital heads. Bates said the message from the state has been clear: \"Get more shots in arms.\" \"Well, send me vaccines, and I'll do it,\" he said.  \n",
      "Text: How to recognize Covid-19 symptoms in children, based on pediatricians' advice  (CNN)Are parents really supposed to be reassured by all this talk about \"mild\" cases of Covid-19 in children? What about the unfortunate \"few\" youngsters who have died or come down with a strange and severe associated illness?  No parent wants to take the odds that their child might be the exception to the rule. \"We've had 90 deaths in children in the United States already, in just a few months,\" Dr. Sean O'Leary, vice-chair of the American Academy of Pediatrics Committee on Infectious Diseases, told CNN's Anderson Cooper on Monday. \"It's not fair to say that this virus is completely benign in children,\" he said. As a number of schools and universities across the country have begun classes or are moving forward with plans to begin full or partial in-person instruction in the coming weeks, fears among families are on the rise. The question looms: Will our children be safe?  After all, there has already been a 90% increase in the number of Covid-19 cases among children across the US in just the last four weeks, according to data released this week by the AAP. In Florida, where most public schools haven't opened yet, seven children have died, three in just the last month. Hospitalizations due to Covid-19 among children in Florida rose by 105% during the same four week time frame, from 213 to 436. Because most children have been sheltering at home until recently, it's not surprising that the numbers of cases in children were low at the start of the pandemic. \"Kids just haven't had that many contacts,\" said CNN Chief Medical Correspondent Dr. Sanjay Gupta in a Tuesday Facebook Live event. \"As we're seeing kids develop more and more contacts, we are seeing the numbers go up. And they're going up at an increasingly rapid pace. This is why I am worried about schools. \"We've got to approach this judiciously because if we have terrible outbreaks in schools, and if people get sick -- kids, faculty, teachers, whoever gets sick and someone dies -- obviously beyond the physical toll, (there is) the psychological toll, as well on communities,\" Gupta said. \"Which is something that really worries me.\" What are the symptoms? Symptoms of Covid-19 are the same in children as they are in adults. \"If you look at the long list of potential symptoms — congestion, cough, fever, loss of sense of smell — they can all happen in both adults and children,\" O'Leary said.  Other key signs include any difficulty in breathing; a rash, especially one that is quickly spreading; a lack of energy; and problems keeping a child awake, said pediatrician Dr. Daniel Cohen, who practices close to the epicenter of the New Rochelle, New York, outbreak, where nearly 2,900 people were infected from early March through late May.  \"It's very important to let the doctor know immediately if you can't really get them up, if they're falling asleep all the time and just exhausted, if they're not drinking, not eating -- the activities of daily living,\" Cohen said. Don't hesitate to call the doctor No worry is too small to reach out to your pediatrician, experts say. Parents are the best detectives because they know how their child typically behaves. \"It may be something that you cannot communicate but something's bothering you,\" Cohen said. \"I always tell parents, 'Look, if you're nervous, I should be, too. That's just the way things are right now.' The only call that's a wrong call is the unmade one.\" O'Leary agreed. If parents \"see their child is looking particularly ill or sicker than they would expect with a typical cold or illness, they should call their pediatrician to discuss. Severe anything is always a concern.\"  The pandemic is affecting the way medicine is practiced. Take fever, for example, a common sign of illness in children that might have been put on the \"watch and see\" list in pre-Covid times.  \"Today if we have a child with fever, I'm talking to those parents on a daily basis because of the ambiguity and the fear we all have,\" Cohen said. \"We don't want to miss that one kid.\"  It's not just the diagnosis of Covid-19, he said. \"It's watching the progression of the illness. Is this child getting sicker faster than you would like to see? And that's when you want to get them care,\" Cohen added. That guidance applies to the emotional and psychological health of children as well, O'Leary said.  \"Kids being more isolated, kids showing more anxiety, more depression,\" O'Leary said. \"Those are things — even though they're not directly related to Covid — that need attention.\" Can you tell if your child is sick? It's an especially scary reality for parents that many young children are asymptomatic, which means there are no signs or symptoms that their kids are carrying the virus. Still others have an extremely mild case with few issues.  That should be a relief for parents when it comes to their child's safety, because if a child with Covid-19 is weathering the virus well, pediatricians are just supporting and guiding the parents during the illness, Cohen said.  The concern then turns to protecting others, such as siblings, parents, grandparents and the community. \"Children can be a spark and we don't want the fire to spread,\" Cohen added. \"The best way to get rid of a fire is to remove the fuel, so we keep everybody separated.\" The only way a parent might suspect an asymptomatic illness is by tracking their child's exposure to others with Covid-19 and to be aware of what is happening in the school the child attends. \"Knowing their habits, knowing who they were around, knowing their exposures are key,\" Cohen said. \"You know, a child not wearing a mask in Georgia is different right now than a child not wearing a mask in New York, because cases are rising in Georgia.\" Whether asymptomatic children should be tested for a coronavirus infection depends on \"how often the kids are being exposed to other people\" and the testing capacity in their communities, O'Leary said. \"The most important thing for getting kids back into school is really to get the virus under control in the surrounding community,\" he said.  Mitigation measures that work for decreasing transmission of the virus — wearing masks, cleaning our hands and physical distancing — are most important, O'Leary added. Rare but severe illness linked to Covid-19 Another worry for parents is multisystem inflammatory syndrome in children (MIS-C).  It's a rare and unusual presentation in children that can appear a few days to weeks after a child has been exposed to Covid-19.  \"It resembles something known as Kawasaki's, which is also an inflammatory syndrome in the body. And it can be quite devastating for children,\" Gupta said. \"Thankfully, it is rare, but it does happen,\" Gupta added. \"It does seem to happen in the United States, in the UK, more than other countries around the world, and we're still not sure why that is. But this is something that doctors, pediatricians, parents, everybody is sort of keeping an eye out on.\" As of August 6, the US Centers for Disease Control and Prevention had confirmed 570 cases of MIS-C across 40 states and the District of Columbia, including 10 deaths. The average age of those cases is 8 years old, and 70% of the cases have occurred in Latino or non-Hispanic Black children.  Dr. Kevin Friedman, a pediatric cardiologist at Boston Children's Hospital, said that although there could be aspects of the immune system that predispose certain groups to MIS-C, the effect on communities of color could also be related to higher rates of multifamily living conditions, parents holding jobs as essential workers outside the home and higher rates of preexisting health conditions.  The clues of this rare syndrome The first clue to MIS-C is a persistent fever without a clear cause, according to the AAP. If that pops up in a child who has been recently exposed to anyone who may have had Covid-19, it should \"raise suspicions.\"  Other signs to look for include abdominal pain, diarrhea, swollen glands, red or swollen hands and feet, red cracked lips and pinkish or red eyes, called conjunctivitis. Rapid breathing or other respiratory signs may also be present, but are not as common. Beside the common fever symptoms, the gastrointestinal symptoms are most prevalent in children with MIS-C, with 80% to 90% of patients experiencing them, said Friedman, who is also an assistant professor of pediatrics at Harvard Medical School.  Children with MIS-C get sick rapidly, the AAP says, and may soon show signs of shock. When examined, they show symptoms of multi-organ dysfunction and high inflammatory blood levels. Most children with MIS-C will need to go to the hospital, the CDC says, and some will need care in the pediatric intensive care unit. However, experts like Friedman believe there's a milder form of MIS-C that doesn't quite surface in public health reporting. \"We're probably only experiencing the tip of the iceberg with this disease,\" he said. \"Some mild cases are also occurring.\"  MIS-C can be prevented the same way we prevent coronavirus spread in general, he added. That means making sure you and your family are washing your hands regularly, complying with universal mask adherence and practicing social distancing.  It's one more thing to watch out for as kids go back to school, but the condition is still very rare.  \"Any place where there is Covid exposure, there will be MIS-C too. It is inevitable that we'll see this with the reopening of schools,\" Friedman said, adding that in his experience the vast majority of children with MIS-C improve and \"they improve quite quickly.\"  Not sure your child is sick or just stressed? Some parents may be concerned with more typical parenting issues -- like if their child is truly sick or possibly just avoiding getting up early. Because we're in a pandemic, experts say it's best to assume the child is not faking symptoms. \"Many kids are having depression or mood reactions to the pandemic, so that can also affect energy level and motivation,\" said developmental behavioral pediatrician Dr. Jenny Radesky, an assistant professor of pediatrics at the University of Michigan. \"Similarly, if your child tends to have headaches or stomachaches in response to stress, or has a sensitive stomach, then use that information to help you not overreact to new complaints,\" she adds.  After all, we are all storing a lot of stress in our bodies these days. When asking about symptoms, she adds, don't ask direct questions such as '\"Does your throat hurt? Does your tummy feel weird?\" \"Children will say automatic yes and no responses,\" Radesky said. \"Instead ask 'What feels bad? Point to it. What does it feel like?' \"  Finally, remember this: \"It's hard to fake a fever. Fevers are not psychosomatic,\" she said. \"When in doubt, call your child's doctor. They know how to differentiate organic symptoms from psychosomatic reactions.\" You still could be sending a sick kid to school Still, no matter how careful a parent is, \"because so many kids with Covid-19 are asymptomatic, it's certainly still possible that you are sending a child with asymptomatic Covid-19 to school,\" Radesky said.  \"We need more surveillance testing of asymptomatic students and teachers, otherwise we may feel false reassurance that we are sending a non-contagious child to school,\" Radesky said. In a commentary published Tuesday in the journal JAMA Pediatrics, a Stanford University School of Medicine's pediatrics team recommended that schools follow a three-pronged testing approach, carried out in collaboration with local hospitals: All students with symptoms must be tested; Schools should conduct random student and staff testing to identify asymptomatic patients (important for children especially); and students from high-risk households should be offered testing more frequently \"As many school districts face budgetary constraints, schools must evaluate their options and identify measures that are particularly important and feasible for their communities,\" the authors wrote. CNN's Jen Christensen, Rosa Flores, Melissa Mahtani, Lauren Mascarenhas, Christina Maxouris, Ray Sanchez and Sara Weisfeldt contributed to this report.   \n",
      "Text: Early results from Moderna coronavirus vaccine trial show participants developed antibodies against the virus  (CNN)Volunteers who received Moderna's Covid-19 vaccine had positive early results, according to the biotech company, which partnered with the National Institutes of Health to develop the vaccine.     If future studies go well, the company's vaccine could be available to the public as early as January, Dr. Tal Zaks, Moderna's chief medical officer, told CNN.     \"This is absolutely good news and news that we think many have been waiting for for quite some time,\" Zaks said.     These early data come from the Phase 1 clinical trial, which typically studies a small number of people and focuses on whether a vaccine is safe and elicits an immune response. The results of the study, which was led by the National Institutes of Health, have not been peer reviewed or published in a medical journal.   Moderna, based in Cambridge, Massachusetts, is one of eight developers worldwide doing human clinical trials with a vaccine against the novel coronavirus, according to the World Health Organization. Two others, Pfizer and Inovio, are also in the United States, one is at the University of Oxford in Britain, and four are in China.    Moderna has vaccinated dozens of study participants and measured antibodies in eight of them. All eight developed neutralizing antibodies to the virus at levels reaching or exceeding the levels seen in people who've naturally recovered from Covid-19, according to the company.     Neutralizing antibodies bind to the virus, disabling it from attacking human cells.     \"We've demonstrated that these antibodies, this immune response, can actually block the virus,\" Zaks said. \"I think this is a very important first step in our journey towards having a vaccine.\"     A vaccine specialist who is not involved in Moderna's work said the company's results are \"great.\"     \"It shows that not only did the antibody bind to the virus, but it prevented the virus from infecting the cells,\" said Dr. Paul Offit, a member of the NIH panel that's setting a framework for vaccine studies in the US.    While the vaccine had promising results in the lab, it's not known if it will protect people in the real world. The US Food and Drug Administration has cleared the company to begin Phase 2 trials, which typically involve several hundred of people, and Moderna plans to start large-scale clinical trials, known as Phase 3 trials, in July. These typically involve tens of thousands of people.   Offit said before the pandemic, vaccine developers would usually test out their product in thousands of people before moving on to Phase 3, but said Moderna is \"extremely unlikely\" to have vaccinated that many by July, since they've only vaccinated dozens so far.     He said it makes sense to Moderna to move into Phase 3 without vaccinating that many people, given that Covid-19 is killing thousands of people each day.     \"This is a different time,\" Offit said.     In January, Dr. Anthony Fauci, the director of the National Institute for Allergy and Infectious Diseases, said it would take about 12 to 18 months to get a vaccine on the market. Zaks said he agreed with that estimate for Moderna's vaccine, putting a delivery date somewhere between January and June of next year.     In the Moderna study, three participants developed fever and other flu-like symptoms when they received the vaccine at a dose of 250 micrograms. Moderna anticipates the Phase 3 study on dosage will be between 25 and 100 micrograms.     So far, the Moderna study subjects who were vaccinated even at 25 and 100 micrograms achieved antibody levels similar to or even higher than people who naturally became infected with coronavirus.     But it's not clear whether natural infection confers immunity to re-infection, and so similarly it's not clear whether vaccination confers immunity.     \"That's a good question, and the truth is, we don't know that yet,\" Zaks said. \"We are going to have to conduct formal efficacy trials where you vaccinate many, many people, and then you monitor them in the ensuing months to make sure they don't get sick.\"   CNN's Devon Sayers contributed to this report. \n",
      "Text: Texas coronavirus cases top 1,300 from child care facilities alone  (CNN)As parents nationwide wonder if it's safe to send kids back to day care, Texas is grappling with a surge of Covid-19 cases from child care centers. At least 1,335 people have tested positive from child care facilities in Texas, the state's Department of Health and Human Services reported Monday, citing figures from Friday. Of those infected, 894 were staff members and 441 were children. The cases came from 883 child care facilities that are open in the state, DHHS said.  The new cases mark a significant increase from June 15, when there were 210 reported cases from 177 facilities -- including 141 staff members and 69 children. On May 15, Texas reported a total of 59 cases from 53 child care facilities. At that time, 36 staff members and 23 children were infected.  As of Monday, 12,220 child care facilities are open throughout the state. Texas, along with 31 other states, is dealing with a new influx of coronavirus cases -- leaving many states, school districts and parents in limbo about when or whether students will return to schools this fall.  CNN's Holly Yan contributed to this report. \n",
      "Text: CDC says 14-day Covid-19 quarantine can be shortened to 7 to 10 days  (CNN)Covid-19 quarantine periods can be as short as seven to 10 days for some people, the US Centers for Disease Control and Prevention said Wednesday, but a 14-day quarantine after coronavirus exposure remains the safest option. In new guidance, CDC says people could leave quarantine without taking a test if they do not develop any symptoms 10 days after being exposed to someone else with coronavirus, or after seven days with a negative test result and no symptoms. The change comes as Covid-19 cases, hospitalizations and deaths are on the rise around the United States -- and with that, more people facing quarantine.  The new quarantine guidance was based on \"extensive\" modeling by CDC and other agencies that showed the risk is low, Dr. John Brooks, chief medical officer for CDC's Covid-19 response, said during a telebriefing Wednesday. Many people end quarantine early because of pressure to return to work and school, CDC officials said, and some aren't willing to share names of contacts they fear will then be required to quarantine.  But if the quarantine period is reduced from 14 days, more people may be willing to stay home after exposure, the CDC said -- and that may result in fewer coronavirus infections. \"We believe that if we can reduce the burden a little bit, accepting that it comes at a small cost, we may get a greater compliance overall with people completing a full quarantine,\" Brooks said. \"If we get more people on board to complete that overall, that will result in fewer infections.\" Risk of transmission after ending quarantine early There's still some risk a person who left quarantine before 14 days could transmit the virus to others.  \"We can safely reduce the length of quarantine, but accepting there is a small residual risk that a person who is leaving quarantine early could transmit to someone else if they became infectious,\" Brooks said.  If a person quarantined for 10 days and had no symptoms and no test, the residual risk of transmitting coronavirus to someone else after quarantine is estimated to be about 1%, with an upper limit of about 10%,  the CDC said on its website. If a person quarantined for seven days and had no symptoms and a negative test, the risk of transmitting coronavirus is about 5%, with an upper limit of about 12%.  A PCR or antigen test should be collected within 48 hours before the end of quarantine, CDC says, but quarantine should not end before seven days, even if rest results are returned earlier. People who have been exposed should still watch for symptoms for 14 days, especially if they end quarantine early, Dr. Henry Walke, CDC's Covid-19 incident manager, said Wednesday. And if a person goes on to develop symptoms, they should contact their local health authorities and health care provider, seek out testing and isolate. Local public health agencies' recommendations may differ from CDC's, too. \"Everyone should follow this specific guidance from their local public health authorities about how long they should quarantine,\" Walke said. Recommended limits on travel CDC officials also said Wednesday that people who choose to travel should limit their activities afterward -- and the safest choice over the upcoming winter holidays is to stay home. \"CDC recommends that the best way to protect yourself and others is to postpone travel and stay home,\" Walke said. If people do decide to travel, \"CDC recommends that travelers consider getting tested one to three days before travel,\" Walke said. \"And then again three to five days after travel.\" Testing should be combined with reducing non-essential activities for a full seven days after traveling, he said. For those who don't get tested after traveling, CDC recommends non-essential activities be reduced for 10 days. \"Testing does not eliminate all risk, but when combined with reducing non-essential activities, symptom screening and continuing with precautions like wearing masks, social distancing and hand washing, it can make travel safer,\" Walke said. Before Thanksgiving, CDC made a similar recommendation, urging people to stay home and celebrate only with those in their household. \"We know it's a hard decision and that people need to have time to prepare and have discussions with family and friends and to make these decisions, and people travel for different reasons,\" Dr. Cindy Friedman, chief of the traveler's health branch at CDC, told the briefing. \"But our recommendations are trying to help give them the tools they need to make these tough choices.\"  \n",
      "Text: 'From worst to first': These states have tamed coronavirus, even after reopening. Here's how they're doing it, and why they can't let up \n",
      "Text: How parental self-care helps kids weather pandemic stress  Jessica DuLong is a Brooklyn-based journalist, ghostwriter, book coach and the author of \"Dust to Deliverance: Untold Stories from the Maritime Evacuation on September 11\" and \"My River Chronicles: Rediscovering the Work that Built America.\"   (CNN)Parents are running on empty. As the pandemic drags on into month seven, many families are still struggling to patch together child care to help cover the basics, never mind slotting in time for parental self-care. Each new day seems to bring at least one family freak-out as tensions from too much togetherness butt up against the stresses of uncertainty.  Parents worried about the long-term impact of the Covid-19 crisis on their children may be surprised to hear what psychotherapist and trauma reprocessing specialist Sara Waters recommends for protecting our kids.  It turns out that we parents play a bigger role in how things turn out than we might have thought. In most cases, parents \"have more influence on the resilience, confidence and assuredness of our children's psychological wellness during this time than any other variable.\" Because of mirror neurons — which fire off in response to emotions, facial expressions and body language — our children's experiences of the world will reflect our own.  \"If a parent's thoughts are generally negative or scarcity-based, our children will feel that and develop similar negative, scarcity-based thinking patterns,\" Waters said. \"If our limbic system is in a state of distress instead of calm, our children's own somatic experiences will be the same. If you struggle with staying positive in the face of challenges, then your children will also struggle.\" So, what's a scarcity-minded parent to do? Waters shared some ideas.  This conversation has been edited and condensed for clarity.  CNN: We're stressed out. Two out of five Americans report feelings of depression or anxiety, according to the US Centers for Disease Control and Prevention. But parents caring for children under 18 report significantly more stress than non-parents. How are you seeing these struggles play out? Sara Waters: Everybody in my family and every single one of my clients has been touched by this and adversely affected in some way. This is bringing up issues for people — everything from substance use and addiction struggles to surfacing issues in marriages. Those of us who are parents are struggling with our own human vulnerabilities, and that struggle impacts our kids. CNN: One of the most painful parts for parents is our inability to protect our children. Our kids expect us to have all the answers. And yet there are so many variables we can't control or predict. What can we do? Waters: The harsh reality, whether we like it or not, is that we won't have all the answers. We need to get more comfortable with feeling uncertain and being able to authentically say \"I don't know.\" There's something magical that happens when we share our own vulnerabilities in a way that lets our kids know they're not alone.  CNN: How do adults' emotions impact how children view the world?  Waters: Parents' ability to manage our own discomfort is the No. 1 factor determining our children's 2020 experience. Because of mirror neurons, even children who haven't yet learned language will pick up on our distress. Our children hear us vent. They watch our facial expressions when we're on a call, responding to an email or posting on social media. They pick up on whether we're relaxed or stressed and — whether we like it or not — they will absorb and experience what we feel.   CNN: It's particularly distressing that overwhelmed parents can't get out of this mess just by saying the right things. Are you saying we need to feel OK so that our children can feel OK, too? How do we do that? Waters: That begs the question: How do you know if you're OK? Pre-Covid we looked to certain external factors as a measuring stick to tell us whether or not we're OK — a job, a nice home, a busy schedule.  The pandemic is forcing us to change the measuring stick. Now, we need to notice different things: We have a roof over our heads; we must be OK. We have food to eat; we are OK. We are breathing; we are OK. That's not what we're used to doing, but it's so healthy to zoom in on what really matters.  CNN: And in your writing and speaking you make the point that, of course, many people in this country are struggling to cover even those basic needs. When it comes to parents with more resources who aren't riding that edge, how do we manage all the other struggles? Waters: Part of it is about accepting discomfort. Our generation and those before us were taught that discomfort is bad. We were taught to try to get rid of negative feelings or numb them out.  Well, that's not actually healthy. Most adults were never taught that it's OK to be scared, confused or uncertain — that the human race has a vast spectrum of emotions, half of which are not what we would probably consider pleasant. Feelings are for feeling — that's what they're for. They're not bad; they're not good. They just are. And we have a sacred opportunity right now to teach that to our children. When our children are sad, scared, bored or anxious we can, instead of trying to fix it for them, help them step into the emotion. We can say, \"Me, too. I get it. This does feel sad.\" Just think of how it will help them long-term to learn to name and accept the full range of human emotions.  Maybe when they're adults they can avoid becoming workaholics or struggling with eating disorders, substance abuse and other addictions that we use to numb difficult feelings. All that is possible if we can just teach them it's OK to feel uncomfortable or uncertain — to just sit with it without having to do anything about it. CNN: With many kids learning remotely while parents work from home, lots of families are struggling to cope. Parents' normal coping strategies have been disrupted right when their benefits are needed most. What suggestions do you have for getting through this? Waters: I think the answer is twofold. First, we need to find creative, healthy ways to metabolize our emotions based on what we have available. What's crucial is that we move through our painful feelings instead of running away or numbing them out. Second, we need to own and contend with our own brokenness. If you're discharging stress through chronically overeating, drinking, workaholism, having affairs or scrolling on social media, it's time to address your deeper issues. When you find healthier ways to process emotions, you also end up modeling that for your kids.  CNN: In terms of modeling, you're saying our kids will see how we manage our own emotions and follow suit, right? Waters: Exactly. By letting our children see us reacting in healthy ways to our emotions — age-appropriately, of course — we give them a permission slip for their own humanness, letting them know it's OK to feel. The process of naming emotions is also important — and a critical skill to teach our kids. CNN: There is so much talk right now about raising our kids to be resilient. When parents' own resource buckets feel so depleted, how can we possibly teach our kids to roll with the punches? Is there anything we can do other than being resilient ourselves? Because that sounds really hard. Waters: Yes. It starts with redefining resilience. When a lot of us were little, resilience meant dust yourself off, stand back up, get over it, get back to work, you're fine. We now know that's not resilience; that's absurdity. There is a time for being strong and having tenacity. But resilience is about actually sustaining through adversity. We don't do that by ignoring our emotions and our body sensations and acting like the hard things aren't hard. Rather, I think we need to redefine resilience as allowing yourself to experience all your feelings to prove to yourself that you can handle it — that you will still wake up the next day. Once we've taught ourselves that, we can teach it to our children. Then they'll know they can get through anything.  \n",
      "Text: CDC updates school guidelines for Covid-19 pandemic  (CNN)The US Centers for Disease Control and Prevention updated its school guidance Friday. The update adds more details to existing guidelines that will better inform administrators' decisions about opening schools and limit risk, according to CDC Director Dr. Robert Redfield.  Redfield said the updated guidance is a result of discussions the CDC has been having with districts about how to best operate during a pandemic. The updated guidelines emphasize the importance of keeping schools open if possible. Children less at risk \"The many benefits of in-person schooling should be weighed against the risks posed by Covid-19,\" the guidelines said. The available evidence from countries that have reopened schools showed that Covid-19 \"poses low risks to school-aged children - at least in areas with low community transmission.\" It adds that in general, children are less likely to have severe symptoms than adults. The risk of teachers, school administrators and other staff will, however, \"mirror that of other adults in the community\" if they get sick, the guidelines said. Schools are still encouraged to make accommodations for staff and students at higher risk for severe illness that will limit their exposure risk. Schools are also still encouraged to divide students and teachers into distinct groups, if possible, that stay together throughout the entire school day for in-person learning. Alternative schedules or staggered scheduling may also be a good idea to limit interaction. The guidelines encourage schools to develop a protocol to monitor local Covid-19 data in the community to track levels of transmission and to make decisions about mitigation strategies and to determine if school closures may be necessary.  Keep open schools safe Good hand hygiene is stressed. Learning stations and activities should have fewer students per group and students should be placed 6 feet apart if possible, the CDC advises. The old guidelines encouraged the use of face coverings, but said that they might be \"challenging for students.\" While the updated guidelines mention the challenge for some students, particularly younger students or students with asthma, it emphasizes that cloth face coverings and masks are \"one of many important mitigation strategies.\"  The consistent use of masks is most important when students, teachers, and staff are indoors and when social distancing is difficult. People should be reminded not to touch the mask and to wash hands or use hand sanitizer frequently, the guidelines say. Clear face coverings may be preferable for teachers of young students, for example, when they teach students how to read. Clear face coverings may also be helpful for teachers working with English language learners and for students with disabilities.  Keeping it clean Schools are encouraged to increase the frequency of routine cleaning and disinfection.  They should also consider upgrades to ventilation system or other improvements to increase the delivery of clean air. When the weather allows, schools should open windows and increase outdoor air circulation in the school. Fans can help and schools should consider running the HVAC system at maximum outside airflow for two hours before and after the school is occupied. Schools, should,  however, exercise caution in highly polluted areas. A different kind of lunch Cafeterias should avoid offering self-serve food or drinks. Meals should be individually plated or pre-packaged. Food service items like trays and utensils should be disposable if possible. If feasible, schools are encouraged to have children eat outside or in their classrooms, instead of in a communal dining hall. Schools should provide touchless payment methods if possible, hand sanitizer near the checkout, and foot pedal and no-touch trash cans. Schools should continue to make sure students don't share food or utensils.  Student travel Schools should limit non-essential travel and should consider postponing or canceling student international travel programs. If staff or students use public transportation or ride sharing, they should consider transportation that minimizes close contact with others like biking or walking or riding in the car only with household members. When someone does get sick The CDC continues to encourage schools to work closely with local and public health leaders if there is an infected person on campus. Rather than shut everything down immediately for a long period of time, the guidelines said one option is an initial short-term class suspension and cancellation of events and after-school activities, so that public health leaders can get the time they need to determine how widespread the infections are. When schools are using a pod system, keeping certain students together, administrators may only need to close certain parts of the building where an infected person had been. If local health officials recommend against closing the building, school leaders should thoroughly clean that area.  The decision to suspend school altogether should be made on a case-by-case basis using the most up-to-date information about the pandemic, according to the guidelines, taking into account local case counts and the degree of ongoing transmission in the community.  Clear communications If a school does need to close, administrators should establish transparent criteria for when the school will suspend in-person learning to slow the spread and also have transparent criteria for when the school will re-open. Schools are encouraged to \"regularly\" and \"transparently\" communicate with staff, teachers, students and families, including about mental health support services available at the school. Sharing facts will \"counter the spread of misinformation and mitigate fear,\" the guidelines said.   Schools should use existing information systems for day-to-day reporting of details such as the number of cases, number of students who are absent, the number of visits to the health center. Mental health Schools should offer remote counseling and ensure the continuity of mental health services. Schools should also encourage students who feel overwhelmed and want to harm themselves or others to call 911 or the National Suicide Prevention Lifeline, 1-800-273-TALK. Schools should also consider posting signs in the school for the national distress hotline which is 1-800-985-5990. Inclusivity The CDC also added more inclusive language to its guidelines, emphasizing that critical communications need to be accessible to individuals with disabilities and limited English proficiency.  It added an entire section on how schools should accommodate children with disabilities or special health care needs, encouraging a customized or individualized approach for students who may need the help.  Schools should also ensure direct service providers that work with these students have been asked if they have Covid-19 symptoms and, if they work at other schools, if there are positive cases in those classrooms. \"We owe it to our nation's children to take personal responsibility to do everything we can to lower the level of Covid-19, so that we can all get back to school safely,\" Redfield said. \"Schools provide a safe environment for kids and grandkids to learn and grow academically, socially, emotionally, but schools are not islands in and of themselves. They are connected to the communities that surround them.\"   \n"
     ]
    }
   ],
   "source": [
    "# Generate a random sample of index\n",
    "data_samples = np.random.randint(0,high=len(training_data)-1, size=10)\n",
    "for i,data_idx in enumerate(data_samples):\n",
    "  print(\"Text:\",training_data[data_idx])"
   ]
  },
  {
   "cell_type": "markdown",
   "metadata": {
    "id": "fdumdfzoOW9t"
   },
   "source": [
    "#### **Tokenize data for GPT2**\n",
    "\n",
    "We will use the `distilgpt2` version of pre trained GPT2 model to tokenize text"
   ]
  },
  {
   "cell_type": "code",
   "execution_count": 72,
   "metadata": {
    "colab": {
     "base_uri": "https://localhost:8080/"
    },
    "id": "v9BU2RDwOZvg",
    "outputId": "c76990da-24b8-489c-d556-b8ad55147131"
   },
   "outputs": [
    {
     "name": "stderr",
     "output_type": "stream",
     "text": [
      "Downloading: 100%|██████████| 0.99M/0.99M [00:00<00:00, 56.2MB/s]\n",
      "Downloading: 100%|██████████| 446k/446k [00:00<00:00, 49.9MB/s]\n",
      "Downloading: 100%|██████████| 762/762 [00:00<00:00, 376kB/s]\n",
      "Token indices sequence length is longer than the specified maximum sequence length for this model (2216 > 1024). Running this sequence through the model will result in indexing errors\n"
     ]
    },
    {
     "name": "stdout",
     "output_type": "stream",
     "text": [
      "300\n",
      "2216 [40229, 1195, 5, 32, 351, 1583, 13, 2986, 33708, 42095, 290, 8124, 7578, 10277, 25, 2744, 261, 615, 19397, 9905]\n"
     ]
    }
   ],
   "source": [
    "# Load tokenizer\n",
    "tokenizer = GPT2Tokenizer.from_pretrained(\"distilgpt2\")\n",
    "\n",
    "# Tokenize data\n",
    "training_data_tokenized = []\n",
    "for data in training_data:\n",
    "  tokenized_text = tokenizer.encode(data)\n",
    "  training_data_tokenized.append(tokenized_text)\n",
    "\n",
    "print(len(training_data_tokenized))\n",
    "print(len(training_data_tokenized[0]),training_data_tokenized[0][:20])"
   ]
  },
  {
   "cell_type": "markdown",
   "metadata": {
    "id": "gs1upcsBO8aZ"
   },
   "source": [
    "#### **Generate Training Data**\n",
    "\n",
    "For the training we need inputs and lables but we only have news article texts. In lecture we learnt that language models are trained in a semi supervised way where we generate inputs and labels from the input text. \n",
    "\n",
    "<br>\n",
    "\n",
    "To generate inputs and lables for training we will chunk the input text into blocks of size `100`. Then our labels will be the same as inputs but one position shifted to the right."
   ]
  },
  {
   "cell_type": "code",
   "execution_count": 73,
   "metadata": {
    "colab": {
     "base_uri": "https://localhost:8080/"
    },
    "id": "FApsJd9RPEEk",
    "outputId": "b9a9f0d9-6eef-4696-c820-0605f892b85b"
   },
   "outputs": [
    {
     "name": "stdout",
     "output_type": "stream",
     "text": [
      "inputs length: 3929\n",
      "labels length: 3929\n"
     ]
    }
   ],
   "source": [
    "# Split into blocks\n",
    "training_chunks = []\n",
    "block_size = 100\n",
    "for tokenized_text in training_data_tokenized:\n",
    "  for i in range(0, len(tokenized_text) - block_size + 1, block_size):  # Truncate in block of block_size\n",
    "      training_chunks.append(tokenized_text[i:i + block_size])\n",
    "\n",
    "# Generate inputs and labels\n",
    "inputs = []\n",
    "labels = []\n",
    "for ex in training_chunks:\n",
    "    inputs.append(ex[:-1])\n",
    "    labels.append(ex[1:])\n",
    "\n",
    "print(\"inputs length:\",len(inputs))\n",
    "print(\"labels length:\",len(labels))"
   ]
  },
  {
   "cell_type": "code",
   "execution_count": 74,
   "metadata": {
    "colab": {
     "base_uri": "https://localhost:8080/"
    },
    "id": "eLce4hYwcNxB",
    "outputId": "22636e23-f626-40c3-b959-8995920868d6"
   },
   "outputs": [
    {
     "name": "stdout",
     "output_type": "stream",
     "text": [
      "input: 99 [40229, 1195, 5, 32, 351, 1583, 13, 2986, 33708, 42095, 290, 8124, 7578, 10277, 25, 2744, 261, 615, 19397, 9905]\n",
      "labels: 99 [1195, 5, 32, 351, 1583, 13, 2986, 33708, 42095, 290, 8124, 7578, 10277, 25, 2744, 261, 615, 19397, 9905, 329]\n"
     ]
    }
   ],
   "source": [
    "print(\"input:\",len(inputs[0]),inputs[0][:20])\n",
    "print(\"labels:\",len(labels[0]),labels[0][:20])"
   ]
  },
  {
   "cell_type": "code",
   "execution_count": 75,
   "metadata": {
    "colab": {
     "base_uri": "https://localhost:8080/"
    },
    "id": "zSWaGRmAb7yu",
    "outputId": "6512e519-8ee3-4f72-b582-835745728b89"
   },
   "outputs": [
    {
     "name": "stdout",
     "output_type": "stream",
     "text": [
      "train_data <PrefetchDataset element_spec=(TensorSpec(shape=(12, 99), dtype=tf.int32, name=None), TensorSpec(shape=(12, 99), dtype=tf.int32, name=None))>\n"
     ]
    }
   ],
   "source": [
    "BATCH_SIZE = 12\n",
    "TRAIN_SHUFFLE_BUFFER_SIZE = len(inputs)\n",
    "\n",
    "# Create TF Dataset\n",
    "train_data = tf.data.Dataset.from_tensor_slices((inputs, labels))\n",
    "\n",
    "#############\n",
    "# Train data\n",
    "#############\n",
    "train_data = train_data.shuffle(buffer_size=TRAIN_SHUFFLE_BUFFER_SIZE)\n",
    "train_data = train_data.batch(BATCH_SIZE, drop_remainder=True)\n",
    "train_data = train_data.prefetch(buffer_size=AUTOTUNE)\n",
    "\n",
    "print(\"train_data\",train_data)"
   ]
  },
  {
   "cell_type": "markdown",
   "metadata": {
    "id": "_8j2gQjsPEQ_"
   },
   "source": [
    "#### **Train/Finetune GPT2 Pretrained Model**"
   ]
  },
  {
   "cell_type": "code",
   "execution_count": null,
   "metadata": {
    "colab": {
     "base_uri": "https://localhost:8080/"
    },
    "id": "-viOvb6hPR6e",
    "outputId": "634b9e17-3108-4461-a070-51316304e8bf"
   },
   "outputs": [
    {
     "name": "stderr",
     "output_type": "stream",
     "text": [
      "Downloading: 100%|██████████| 313M/313M [00:07<00:00, 43.2MB/s] \n",
      "All model checkpoint layers were used when initializing TFGPT2LMHeadModel.\n",
      "\n",
      "All the layers of TFGPT2LMHeadModel were initialized from the model checkpoint at distilgpt2.\n",
      "If your task is similar to the task the model of the checkpoint was trained on, you can already use TFGPT2LMHeadModel for predictions without further training.\n"
     ]
    },
    {
     "name": "stdout",
     "output_type": "stream",
     "text": [
      "Model: \"tfgpt2lm_head_model\"\n",
      "_________________________________________________________________\n",
      " Layer (type)                Output Shape              Param #   \n",
      "=================================================================\n",
      " transformer (TFGPT2MainLaye  multiple                 81912576  \n",
      " r)                                                              \n",
      "                                                                 \n",
      "=================================================================\n",
      "Total params: 81,912,576\n",
      "Trainable params: 81,912,576\n",
      "Non-trainable params: 0\n",
      "_________________________________________________________________\n",
      "None\n",
      "Epoch 1/30\n",
      "327/327 [==============================] - 92s 257ms/step - loss: 3.5648 - logits_loss: 3.5648 - logits_accuracy: 0.3336 - past_key_values_1_accuracy: 0.0015 - past_key_values_2_accuracy: 0.0013 - past_key_values_3_accuracy: 0.0025 - past_key_values_4_accuracy: 0.0017 - past_key_values_5_accuracy: 0.0012 - past_key_values_6_accuracy: 0.0012\n",
      "Epoch 2/30\n",
      "327/327 [==============================] - 85s 261ms/step - loss: 3.3381 - logits_loss: 3.3381 - logits_accuracy: 0.3542 - past_key_values_1_accuracy: 0.0014 - past_key_values_2_accuracy: 0.0014 - past_key_values_3_accuracy: 0.0027 - past_key_values_4_accuracy: 0.0016 - past_key_values_5_accuracy: 0.0012 - past_key_values_6_accuracy: 0.0012\n",
      "Epoch 3/30\n",
      "327/327 [==============================] - 88s 269ms/step - loss: 3.2316 - logits_loss: 3.2316 - logits_accuracy: 0.3653 - past_key_values_1_accuracy: 0.0014 - past_key_values_2_accuracy: 0.0013 - past_key_values_3_accuracy: 0.0026 - past_key_values_4_accuracy: 0.0015 - past_key_values_5_accuracy: 0.0012 - past_key_values_6_accuracy: 0.0013\n",
      "Epoch 4/30\n",
      "327/327 [==============================] - 91s 278ms/step - loss: 3.1437 - logits_loss: 3.1437 - logits_accuracy: 0.3749 - past_key_values_1_accuracy: 0.0015 - past_key_values_2_accuracy: 0.0013 - past_key_values_3_accuracy: 0.0026 - past_key_values_4_accuracy: 0.0015 - past_key_values_5_accuracy: 0.0012 - past_key_values_6_accuracy: 0.0013\n",
      "Epoch 5/30\n",
      "327/327 [==============================] - 86s 264ms/step - loss: 3.0675 - logits_loss: 3.0675 - logits_accuracy: 0.3845 - past_key_values_1_accuracy: 0.0015 - past_key_values_2_accuracy: 0.0013 - past_key_values_3_accuracy: 0.0026 - past_key_values_4_accuracy: 0.0015 - past_key_values_5_accuracy: 0.0012 - past_key_values_6_accuracy: 0.0013\n",
      "Epoch 6/30\n",
      "327/327 [==============================] - 85s 259ms/step - loss: 2.9981 - logits_loss: 2.9981 - logits_accuracy: 0.3925 - past_key_values_1_accuracy: 0.0014 - past_key_values_2_accuracy: 0.0013 - past_key_values_3_accuracy: 0.0027 - past_key_values_4_accuracy: 0.0015 - past_key_values_5_accuracy: 0.0012 - past_key_values_6_accuracy: 0.0012\n",
      "Epoch 7/30\n",
      "327/327 [==============================] - 85s 259ms/step - loss: 2.9311 - logits_loss: 2.9311 - logits_accuracy: 0.4012 - past_key_values_1_accuracy: 0.0015 - past_key_values_2_accuracy: 0.0014 - past_key_values_3_accuracy: 0.0025 - past_key_values_4_accuracy: 0.0015 - past_key_values_5_accuracy: 0.0012 - past_key_values_6_accuracy: 0.0013\n",
      "Epoch 8/30\n",
      "327/327 [==============================] - 84s 258ms/step - loss: 2.8684 - logits_loss: 2.8684 - logits_accuracy: 0.4088 - past_key_values_1_accuracy: 0.0015 - past_key_values_2_accuracy: 0.0014 - past_key_values_3_accuracy: 0.0026 - past_key_values_4_accuracy: 0.0014 - past_key_values_5_accuracy: 0.0012 - past_key_values_6_accuracy: 0.0013\n",
      "Epoch 9/30\n",
      "327/327 [==============================] - 84s 258ms/step - loss: 2.8084 - logits_loss: 2.8084 - logits_accuracy: 0.4160 - past_key_values_1_accuracy: 0.0015 - past_key_values_2_accuracy: 0.0013 - past_key_values_3_accuracy: 0.0026 - past_key_values_4_accuracy: 0.0015 - past_key_values_5_accuracy: 0.0012 - past_key_values_6_accuracy: 0.0013\n",
      "Epoch 10/30\n",
      "327/327 [==============================] - 85s 261ms/step - loss: 2.7499 - logits_loss: 2.7499 - logits_accuracy: 0.4238 - past_key_values_1_accuracy: 0.0015 - past_key_values_2_accuracy: 0.0014 - past_key_values_3_accuracy: 0.0026 - past_key_values_4_accuracy: 0.0014 - past_key_values_5_accuracy: 0.0012 - past_key_values_6_accuracy: 0.0012\n",
      "Epoch 11/30\n",
      "327/327 [==============================] - 87s 267ms/step - loss: 2.6940 - logits_loss: 2.6940 - logits_accuracy: 0.4305 - past_key_values_1_accuracy: 0.0015 - past_key_values_2_accuracy: 0.0013 - past_key_values_3_accuracy: 0.0026 - past_key_values_4_accuracy: 0.0014 - past_key_values_5_accuracy: 0.0012 - past_key_values_6_accuracy: 0.0013\n",
      "Epoch 12/30\n",
      "327/327 [==============================] - 91s 278ms/step - loss: 2.6392 - logits_loss: 2.6392 - logits_accuracy: 0.4381 - past_key_values_1_accuracy: 0.0015 - past_key_values_2_accuracy: 0.0014 - past_key_values_3_accuracy: 0.0025 - past_key_values_4_accuracy: 0.0015 - past_key_values_5_accuracy: 0.0011 - past_key_values_6_accuracy: 0.0012\n",
      "Epoch 13/30\n",
      "327/327 [==============================] - 89s 271ms/step - loss: 2.5847 - logits_loss: 2.5847 - logits_accuracy: 0.4455 - past_key_values_1_accuracy: 0.0015 - past_key_values_2_accuracy: 0.0014 - past_key_values_3_accuracy: 0.0025 - past_key_values_4_accuracy: 0.0014 - past_key_values_5_accuracy: 0.0012 - past_key_values_6_accuracy: 0.0012\n",
      "Epoch 14/30\n",
      "327/327 [==============================] - 85s 260ms/step - loss: 2.5318 - logits_loss: 2.5318 - logits_accuracy: 0.4532 - past_key_values_1_accuracy: 0.0015 - past_key_values_2_accuracy: 0.0014 - past_key_values_3_accuracy: 0.0025 - past_key_values_4_accuracy: 0.0014 - past_key_values_5_accuracy: 0.0012 - past_key_values_6_accuracy: 0.0012\n",
      "Epoch 15/30\n",
      "327/327 [==============================] - 85s 260ms/step - loss: 2.4792 - logits_loss: 2.4792 - logits_accuracy: 0.4603 - past_key_values_1_accuracy: 0.0015 - past_key_values_2_accuracy: 0.0014 - past_key_values_3_accuracy: 0.0027 - past_key_values_4_accuracy: 0.0014 - past_key_values_5_accuracy: 0.0012 - past_key_values_6_accuracy: 0.0012\n",
      "Epoch 16/30\n",
      "327/327 [==============================] - 86s 264ms/step - loss: 2.4298 - logits_loss: 2.4298 - logits_accuracy: 0.4671 - past_key_values_1_accuracy: 0.0015 - past_key_values_2_accuracy: 0.0014 - past_key_values_3_accuracy: 0.0026 - past_key_values_4_accuracy: 0.0014 - past_key_values_5_accuracy: 0.0011 - past_key_values_6_accuracy: 0.0013\n",
      "Epoch 17/30\n",
      "327/327 [==============================] - 90s 275ms/step - loss: 2.3768 - logits_loss: 2.3768 - logits_accuracy: 0.4747 - past_key_values_1_accuracy: 0.0015 - past_key_values_2_accuracy: 0.0015 - past_key_values_3_accuracy: 0.0026 - past_key_values_4_accuracy: 0.0014 - past_key_values_5_accuracy: 0.0012 - past_key_values_6_accuracy: 0.0013\n",
      "Epoch 18/30\n",
      "327/327 [==============================] - 91s 278ms/step - loss: 2.3286 - logits_loss: 2.3286 - logits_accuracy: 0.4821 - past_key_values_1_accuracy: 0.0015 - past_key_values_2_accuracy: 0.0014 - past_key_values_3_accuracy: 0.0026 - past_key_values_4_accuracy: 0.0014 - past_key_values_5_accuracy: 0.0011 - past_key_values_6_accuracy: 0.0012\n",
      "Epoch 19/30\n",
      "327/327 [==============================] - 91s 278ms/step - loss: 2.2807 - logits_loss: 2.2807 - logits_accuracy: 0.4896 - past_key_values_1_accuracy: 0.0015 - past_key_values_2_accuracy: 0.0014 - past_key_values_3_accuracy: 0.0026 - past_key_values_4_accuracy: 0.0014 - past_key_values_5_accuracy: 0.0012 - past_key_values_6_accuracy: 0.0012\n",
      "Epoch 20/30\n",
      "135/327 [===========>..................] - ETA: 53s - loss: 2.2247 - logits_loss: 2.2247 - logits_accuracy: 0.4982 - past_key_values_1_accuracy: 0.0015 - past_key_values_2_accuracy: 0.0014 - past_key_values_3_accuracy: 0.0027 - past_key_values_4_accuracy: 0.0014 - past_key_values_5_accuracy: 0.0012 - past_key_values_6_accuracy: 0.0012"
     ]
    }
   ],
   "source": [
    "############################\n",
    "# Training Params\n",
    "############################\n",
    "learning_rate = 3e-5 \n",
    "epsilon=1e-08\n",
    "clipnorm=1.0\n",
    "epochs = 30\n",
    "\n",
    "# Free up memory\n",
    "K.clear_session()\n",
    "\n",
    "# Build the model\n",
    "model = TFGPT2LMHeadModel.from_pretrained(\"distilgpt2\")\n",
    "\n",
    "# Print the model architecture\n",
    "print(model.summary())\n",
    "\n",
    "# Optimizer\n",
    "optimizer = tf.keras.optimizers.Adam(learning_rate=learning_rate, epsilon=epsilon, clipnorm=clipnorm)\n",
    "# Loss\n",
    "loss = tf.keras.losses.SparseCategoricalCrossentropy(from_logits=True)\n",
    "metric = tf.keras.metrics.SparseCategoricalAccuracy('accuracy')\n",
    "\n",
    "# Compile\n",
    "model.compile(loss=[loss, *[None] * model.config.n_layer],\n",
    "                  optimizer=optimizer,\n",
    "                  metrics=[metric])\n",
    "\n",
    "# Train model\n",
    "start_time = time.time()\n",
    "training_results = model.fit(\n",
    "        train_data, # train_data.take(1000) for testing\n",
    "        epochs=epochs, \n",
    "        verbose=1)\n",
    "execution_time = (time.time() - start_time)/60.0\n",
    "print(\"Training execution time (mins)\",execution_time)"
   ]
  },
  {
   "cell_type": "markdown",
   "metadata": {
    "id": "wfgtfb5SPc9h"
   },
   "source": [
    "#### **Generate Text**"
   ]
  },
  {
   "cell_type": "code",
   "execution_count": null,
   "metadata": {
    "colab": {
     "base_uri": "https://localhost:8080/",
     "height": 124
    },
    "id": "-fcKZUlenHCE",
    "outputId": "98618db3-b57f-4607-9a51-ed7f7ac914ed"
   },
   "outputs": [],
   "source": [
    "# Input text\n",
    "input_text = \"how is covid affecting\"\n",
    "\n",
    "# Tokenize Input\n",
    "input_ids = tokenizer.encode(input_text, return_tensors='tf')\n",
    "print(\"input_ids\",input_ids)\n",
    "\n",
    "# Generate outout\n",
    "outputs = model.generate(\n",
    "    input_ids, \n",
    "    do_sample=True, \n",
    "    max_length=75, \n",
    "    top_p=0.80, \n",
    "    top_k=0\n",
    ")\n",
    "\n",
    "print(\"Generated text:\")\n",
    "display(tokenizer.decode(outputs[0], skip_special_tokens=True))"
   ]
  },
  {
   "cell_type": "code",
   "execution_count": null,
   "metadata": {
    "colab": {
     "base_uri": "https://localhost:8080/",
     "height": 107
    },
    "id": "01iqgzuwoq3X",
    "outputId": "c38ed01d-5624-4ac3-b609-71e133164932"
   },
   "outputs": [],
   "source": [
    "# Input text\n",
    "input_text = \"the global pandemic\"\n",
    "\n",
    "# Tokenize Input\n",
    "input_ids = tokenizer.encode(input_text, return_tensors='tf')\n",
    "\n",
    "# Generate outout\n",
    "outputs = model.generate(\n",
    "    input_ids, \n",
    "    do_sample=True, \n",
    "    max_length=75, \n",
    "    top_p=0.80, \n",
    "    top_k=0\n",
    ")\n",
    "\n",
    "print(\"Generated text:\")\n",
    "display(tokenizer.decode(outputs[0], skip_special_tokens=True))"
   ]
  },
  {
   "cell_type": "code",
   "execution_count": null,
   "metadata": {
    "id": "3r_dbJ3UHqNS"
   },
   "outputs": [],
   "source": []
  },
  {
   "cell_type": "code",
   "execution_count": null,
   "metadata": {},
   "outputs": [],
   "source": []
  }
 ],
 "metadata": {
  "accelerator": "GPU",
  "colab": {
   "collapsed_sections": [],
   "name": "cs109b_lab10.ipynb",
   "provenance": [],
   "toc_visible": true
  },
  "kernelspec": {
   "display_name": "Python3 (default - all except pytorch)",
   "language": "python",
   "name": "python3"
  },
  "language_info": {
   "codemirror_mode": {
    "name": "ipython",
    "version": 3
   },
   "file_extension": ".py",
   "mimetype": "text/x-python",
   "name": "python",
   "nbconvert_exporter": "python",
   "pygments_lexer": "ipython3",
   "version": "3.10.4"
  }
 },
 "nbformat": 4,
 "nbformat_minor": 1
}
