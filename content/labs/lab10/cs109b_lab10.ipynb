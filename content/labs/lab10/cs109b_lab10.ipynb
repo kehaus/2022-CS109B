{
  "nbformat": 4,
  "nbformat_minor": 0,
  "metadata": {
    "colab": {
      "name": "cs109b_lab10.ipynb",
      "provenance": [],
      "collapsed_sections": [],
      "toc_visible": true
    },
    "kernelspec": {
      "name": "python3",
      "display_name": "Python 3"
    },
    "language_info": {
      "name": "python"
    },
    "accelerator": "GPU"
  },
  "cells": [
    {
      "cell_type": "markdown",
      "source": [
        "# <img style=\"float: left; padding-right: 10px; width: 45px\" src=\"https://raw.githubusercontent.com/Harvard-IACS/2018-CS109A/master/content/styles/iacs.png\"> CS109B Introduction to Data Science\n",
        "\n",
        "## Lab 10: Attention, Self-Attention, Transformers, Text Classification using Language Models \n",
        "\n",
        "**Harvard University**<br/>\n",
        "**Spring 2022**<br/>\n",
        "**Instructors**: Mark Glickman & Pavlos Protopapas<br/>\n",
        "**Authors**: Shivas Jayaram\n",
        "\n",
        "<br/>\n",
        "---\n"
      ],
      "metadata": {
        "id": "RTwjswBgwh9C"
      }
    },
    {
      "cell_type": "markdown",
      "source": [
        "## Learning Objectives\n",
        "\n",
        "By the end of this Lab, you will understand:\n",
        "* How **Attention** works in Sequence to Sequence models\n",
        "* **Self-Attention** and the **Transformer** architecture\n",
        "* An **end-to-end** deep learning experiment tracking for a **Text Classification** task using **Language Models** including **BERT** (Bidirectional Encoder Representations from Transformers)\n",
        "* **Extras**: How to use **GPT2**(Generative Pre-Training) for language generation tasks and how to fine-tune on a custom dataset \n"
      ],
      "metadata": {
        "id": "qjXBHdlVxdwT"
      }
    },
    {
      "cell_type": "markdown",
      "source": [
        "<a id=\"contents\"></a>\n",
        "\n",
        "## Notebook Contents\n",
        "\n",
        "- [**Sequence to Sequence with Attention**](#attention)\n",
        "- [**Self-Attention & Transformers**](#transformers)   \n",
        "- [**Text Classification using Language Models**](#classification) \n",
        "- [**Text Generation using GPT2**](#gpt)      "
      ],
      "metadata": {
        "id": "Zor_Wr8Vxkfz"
      }
    },
    {
      "cell_type": "markdown",
      "source": [
        "## **<font color=\"#A41034\">Setup Notebook</font>**"
      ],
      "metadata": {
        "id": "RAM_-TzxyEm8"
      }
    },
    {
      "cell_type": "markdown",
      "metadata": {
        "id": "ACbN62IyVQD4"
      },
      "source": [
        "**Installs**\n",
        "\n",
        "We will install Huggingface’s transformers library. This library let us import a wide range of transformer-based pre-trained models. In our case, we will use BERT & GPT2."
      ]
    },
    {
      "cell_type": "code",
      "metadata": {
        "colab": {
          "base_uri": "https://localhost:8080/"
        },
        "id": "go9Xw58SVR2K",
        "outputId": "8166a570-a45c-4364-b491-a77edf180b3f"
      },
      "source": [
        "!pip install transformers"
      ],
      "execution_count": null,
      "outputs": [
        {
          "output_type": "stream",
          "name": "stdout",
          "text": [
            "Requirement already satisfied: transformers in /usr/local/lib/python3.7/dist-packages (4.18.0)\n",
            "Requirement already satisfied: filelock in /usr/local/lib/python3.7/dist-packages (from transformers) (3.6.0)\n",
            "Requirement already satisfied: tqdm>=4.27 in /usr/local/lib/python3.7/dist-packages (from transformers) (4.64.0)\n",
            "Requirement already satisfied: tokenizers!=0.11.3,<0.13,>=0.11.1 in /usr/local/lib/python3.7/dist-packages (from transformers) (0.12.1)\n",
            "Requirement already satisfied: pyyaml>=5.1 in /usr/local/lib/python3.7/dist-packages (from transformers) (6.0)\n",
            "Requirement already satisfied: importlib-metadata in /usr/local/lib/python3.7/dist-packages (from transformers) (4.11.3)\n",
            "Requirement already satisfied: packaging>=20.0 in /usr/local/lib/python3.7/dist-packages (from transformers) (21.3)\n",
            "Requirement already satisfied: regex!=2019.12.17 in /usr/local/lib/python3.7/dist-packages (from transformers) (2019.12.20)\n",
            "Requirement already satisfied: requests in /usr/local/lib/python3.7/dist-packages (from transformers) (2.23.0)\n",
            "Requirement already satisfied: numpy>=1.17 in /usr/local/lib/python3.7/dist-packages (from transformers) (1.21.5)\n",
            "Requirement already satisfied: sacremoses in /usr/local/lib/python3.7/dist-packages (from transformers) (0.0.49)\n",
            "Requirement already satisfied: huggingface-hub<1.0,>=0.1.0 in /usr/local/lib/python3.7/dist-packages (from transformers) (0.5.1)\n",
            "Requirement already satisfied: typing-extensions>=3.7.4.3 in /usr/local/lib/python3.7/dist-packages (from huggingface-hub<1.0,>=0.1.0->transformers) (4.1.1)\n",
            "Requirement already satisfied: pyparsing!=3.0.5,>=2.0.2 in /usr/local/lib/python3.7/dist-packages (from packaging>=20.0->transformers) (3.0.8)\n",
            "Requirement already satisfied: zipp>=0.5 in /usr/local/lib/python3.7/dist-packages (from importlib-metadata->transformers) (3.8.0)\n",
            "Requirement already satisfied: certifi>=2017.4.17 in /usr/local/lib/python3.7/dist-packages (from requests->transformers) (2021.10.8)\n",
            "Requirement already satisfied: chardet<4,>=3.0.2 in /usr/local/lib/python3.7/dist-packages (from requests->transformers) (3.0.4)\n",
            "Requirement already satisfied: urllib3!=1.25.0,!=1.25.1,<1.26,>=1.21.1 in /usr/local/lib/python3.7/dist-packages (from requests->transformers) (1.24.3)\n",
            "Requirement already satisfied: idna<3,>=2.5 in /usr/local/lib/python3.7/dist-packages (from requests->transformers) (2.10)\n",
            "Requirement already satisfied: click in /usr/local/lib/python3.7/dist-packages (from sacremoses->transformers) (7.1.2)\n",
            "Requirement already satisfied: six in /usr/local/lib/python3.7/dist-packages (from sacremoses->transformers) (1.15.0)\n",
            "Requirement already satisfied: joblib in /usr/local/lib/python3.7/dist-packages (from sacremoses->transformers) (1.1.0)\n"
          ]
        }
      ]
    },
    {
      "cell_type": "markdown",
      "source": [
        "**Imports**"
      ],
      "metadata": {
        "id": "kjgnOSl9yP_4"
      }
    },
    {
      "cell_type": "code",
      "source": [
        "# Import necessary libraries\n",
        "import os\n",
        "import time\n",
        "import datetime\n",
        "import requests\n",
        "import json\n",
        "import re\n",
        "import random\n",
        "from glob import glob\n",
        "import numpy as np\n",
        "import pandas as pd\n",
        "import matplotlib.pyplot as plt\n",
        "import matplotlib.cm as cm\n",
        "%matplotlib inline\n",
        "\n",
        "# Tensorflow\n",
        "import tensorflow as tf\n",
        "from tensorflow.python.keras import backend as K\n",
        "from tensorflow.python.keras.utils.layer_utils import count_params\n",
        "\n",
        "# sklearn\n",
        "from sklearn.model_selection import train_test_split\n",
        "\n",
        "# Transformers\n",
        "from transformers import BertTokenizer, TFBertForSequenceClassification, BertConfig\n",
        "from transformers import GPT2Tokenizer, TFGPT2LMHeadModel, GPT2Config"
      ],
      "metadata": {
        "id": "pG8QANQO9azD"
      },
      "execution_count": null,
      "outputs": []
    },
    {
      "cell_type": "markdown",
      "source": [
        "**Verify Setup**"
      ],
      "metadata": {
        "id": "3WYZljtMyXnC"
      }
    },
    {
      "cell_type": "markdown",
      "source": [
        "It is a good practice to verify what version of TensorFlow & Keras you are using. Also verify if GPU is enabled and what GPU you have. Run the following cells to check the version of TensorFlow\n",
        "\n",
        "References:\n",
        "- [Eager Execution](https://www.tensorflow.org/guide/eager)\n",
        "- [Data Performance](https://www.tensorflow.org/guide/data_performance)"
      ],
      "metadata": {
        "id": "17RkYjSxyaae"
      }
    },
    {
      "cell_type": "code",
      "source": [
        "# Enable/Disable Eager Execution\n",
        "# Reference: https://www.tensorflow.org/guide/eager\n",
        "# TensorFlow's eager execution is an imperative programming environment that evaluates operations immediately, \n",
        "# without building graphs\n",
        "\n",
        "#tf.compat.v1.disable_eager_execution()\n",
        "#tf.compat.v1.enable_eager_execution()\n",
        "\n",
        "print(\"tensorflow version\", tf.__version__)\n",
        "print(\"keras version\", tf.keras.__version__)\n",
        "print(\"Eager Execution Enabled:\", tf.executing_eagerly())\n",
        "\n",
        "# Get the number of replicas \n",
        "strategy = tf.distribute.MirroredStrategy()\n",
        "print(\"Number of replicas:\", strategy.num_replicas_in_sync)\n",
        "\n",
        "devices = tf.config.experimental.get_visible_devices()\n",
        "print(\"Devices:\", devices)\n",
        "print(tf.config.experimental.list_logical_devices('GPU'))\n",
        "\n",
        "print(\"GPU Available: \", tf.config.list_physical_devices('GPU'))\n",
        "print(\"All Physical Devices\", tf.config.list_physical_devices())\n",
        "\n",
        "# Better performance with the tf.data API\n",
        "# Reference: https://www.tensorflow.org/guide/data_performance\n",
        "AUTOTUNE = tf.data.experimental.AUTOTUNE"
      ],
      "metadata": {
        "id": "6PBpsXEayaxu",
        "colab": {
          "base_uri": "https://localhost:8080/"
        },
        "outputId": "3a92929d-b315-42df-ed5d-41c37ab52cbc"
      },
      "execution_count": null,
      "outputs": [
        {
          "output_type": "stream",
          "name": "stdout",
          "text": [
            "tensorflow version 2.8.0\n",
            "keras version 2.8.0\n",
            "Eager Execution Enabled: True\n",
            "INFO:tensorflow:Using MirroredStrategy with devices ('/job:localhost/replica:0/task:0/device:GPU:0',)\n",
            "Number of replicas: 1\n",
            "Devices: [PhysicalDevice(name='/physical_device:CPU:0', device_type='CPU'), PhysicalDevice(name='/physical_device:GPU:0', device_type='GPU')]\n",
            "[LogicalDevice(name='/device:GPU:0', device_type='GPU')]\n",
            "GPU Available:  [PhysicalDevice(name='/physical_device:GPU:0', device_type='GPU')]\n",
            "All Physical Devices [PhysicalDevice(name='/physical_device:CPU:0', device_type='CPU'), PhysicalDevice(name='/physical_device:GPU:0', device_type='GPU')]\n"
          ]
        }
      ]
    },
    {
      "cell_type": "markdown",
      "source": [
        "Check what GPU you have"
      ],
      "metadata": {
        "id": "JSTTuvGGyfQ4"
      }
    },
    {
      "cell_type": "code",
      "source": [
        "!nvidia-smi"
      ],
      "metadata": {
        "id": "aTi15newyhfU",
        "colab": {
          "base_uri": "https://localhost:8080/"
        },
        "outputId": "2ab2fd35-a0b1-431f-8d97-b1de75b2a8bb"
      },
      "execution_count": null,
      "outputs": [
        {
          "output_type": "stream",
          "name": "stdout",
          "text": [
            "Fri Apr 15 15:25:57 2022       \n",
            "+-----------------------------------------------------------------------------+\n",
            "| NVIDIA-SMI 460.32.03    Driver Version: 460.32.03    CUDA Version: 11.2     |\n",
            "|-------------------------------+----------------------+----------------------+\n",
            "| GPU  Name        Persistence-M| Bus-Id        Disp.A | Volatile Uncorr. ECC |\n",
            "| Fan  Temp  Perf  Pwr:Usage/Cap|         Memory-Usage | GPU-Util  Compute M. |\n",
            "|                               |                      |               MIG M. |\n",
            "|===============================+======================+======================|\n",
            "|   0  Tesla V100-SXM2...  Off  | 00000000:00:04.0 Off |                    0 |\n",
            "| N/A   33C    P0    38W / 300W |   9049MiB / 16160MiB |      0%      Default |\n",
            "|                               |                      |                  N/A |\n",
            "+-------------------------------+----------------------+----------------------+\n",
            "                                                                               \n",
            "+-----------------------------------------------------------------------------+\n",
            "| Processes:                                                                  |\n",
            "|  GPU   GI   CI        PID   Type   Process name                  GPU Memory |\n",
            "|        ID   ID                                                   Usage      |\n",
            "|=============================================================================|\n",
            "+-----------------------------------------------------------------------------+\n"
          ]
        }
      ]
    },
    {
      "cell_type": "markdown",
      "metadata": {
        "id": "yABkL_rBV1u6"
      },
      "source": [
        "#### **Utils**\n",
        "\n",
        "Here are some util functions that we will be using for this notebook"
      ]
    },
    {
      "cell_type": "code",
      "metadata": {
        "id": "qOd0mLYzV2Fr"
      },
      "source": [
        "class JsonEncoder(json.JSONEncoder):\n",
        "  def default(self, obj):\n",
        "    if isinstance(obj, np.integer):\n",
        "        return int(obj)\n",
        "    elif isinstance(obj, np.floating):\n",
        "        return float(obj)\n",
        "    elif isinstance(obj, decimal.Decimal):\n",
        "        return float(obj)\n",
        "    elif isinstance(obj, np.ndarray):\n",
        "        return obj.tolist()\n",
        "    else:\n",
        "        return super(JsonEncoder, self).default(obj)\n",
        "\n",
        "experiment_name = None\n",
        "def create_experiment():\n",
        "  global experiment_name\n",
        "  experiment_name = \"experiment_\" + str(int(time.time()))\n",
        "\n",
        "  # Create experiment folder\n",
        "  if not os.path.exists(experiment_name):\n",
        "      os.mkdir(experiment_name)\n",
        "\n",
        "def save_data_details(data_details):\n",
        "  with open(os.path.join(experiment_name,\"data_details.json\"), \"w\") as json_file:\n",
        "    json_file.write(json.dumps(data_details,cls=JsonEncoder))\n",
        "\n",
        "def save_model(model,model_name=\"model01\"):\n",
        "\n",
        "  if isinstance(model,TFBertForSequenceClassification):\n",
        "    model.save_weights(os.path.join(experiment_name,model_name+\".h5\"))\n",
        "  else:\n",
        "    # Save the enitire model (structure + weights)\n",
        "    model.save(os.path.join(experiment_name,model_name+\".hdf5\"))\n",
        "\n",
        "    # Save only the weights\n",
        "    model.save_weights(os.path.join(experiment_name,model_name+\".h5\"))\n",
        "\n",
        "    # Save the structure only\n",
        "    model_json = model.to_json()\n",
        "    with open(os.path.join(experiment_name,model_name+\".json\"), \"w\") as json_file:\n",
        "        json_file.write(model_json)\n",
        "\n",
        "def get_model_size(model_name=\"model01\"):\n",
        "  model_size = os.stat(os.path.join(experiment_name,model_name+\".h5\")).st_size\n",
        "  return model_size\n",
        "\n",
        "def evaluate_save_model(model,test_data, training_results,execution_time, learning_rate, batch_size, epochs, optimizer,save=True):\n",
        "    \n",
        "  # Get the model train history\n",
        "  model_train_history = training_results.history\n",
        "  # Get the number of epochs the training was run for\n",
        "  num_epochs = len(model_train_history[\"loss\"])\n",
        "\n",
        "  # Plot training results\n",
        "  fig = plt.figure(figsize=(15,5))\n",
        "  axs = fig.add_subplot(1,2,1)\n",
        "  axs.set_title('Loss')\n",
        "  # Plot all metrics\n",
        "  for metric in [\"loss\",\"val_loss\"]:\n",
        "      axs.plot(np.arange(0, num_epochs), model_train_history[metric], label=metric)\n",
        "  axs.legend()\n",
        "  \n",
        "  axs = fig.add_subplot(1,2,2)\n",
        "  axs.set_title('Accuracy')\n",
        "  # Plot all metrics\n",
        "  for metric in [\"accuracy\",\"val_accuracy\"]:\n",
        "      axs.plot(np.arange(0, num_epochs), model_train_history[metric], label=metric)\n",
        "  axs.legend()\n",
        "\n",
        "  plt.show()\n",
        "  \n",
        "  # Evaluate on test data\n",
        "  evaluation_results = model.evaluate(test_data)\n",
        "  print(evaluation_results)\n",
        "  \n",
        "  if save:\n",
        "    # Save model\n",
        "    save_model(model, model_name=model.name)\n",
        "    model_size = get_model_size(model_name=model.name)\n",
        "\n",
        "    # Save model history\n",
        "    with open(os.path.join(experiment_name,model.name+\"_train_history.json\"), \"w\") as json_file:\n",
        "        json_file.write(json.dumps(model_train_history,cls=JsonEncoder))\n",
        "\n",
        "    trainable_parameters = count_params(model.trainable_weights)\n",
        "    non_trainable_parameters = count_params(model.non_trainable_weights)\n",
        "\n",
        "    # Save model metrics\n",
        "    metrics ={\n",
        "        \"trainable_parameters\":trainable_parameters,\n",
        "        \"execution_time\":execution_time,\n",
        "        \"loss\":evaluation_results[0],\n",
        "        \"accuracy\":evaluation_results[1],\n",
        "        \"model_size\":model_size,\n",
        "        \"learning_rate\":learning_rate,\n",
        "        \"batch_size\":batch_size,\n",
        "        \"epochs\":epochs,\n",
        "        \"name\": model.name,\n",
        "        \"optimizer\":type(optimizer).__name__\n",
        "    }\n",
        "    with open(os.path.join(experiment_name,model.name+\"_model_metrics.json\"), \"w\") as json_file:\n",
        "        json_file.write(json.dumps(metrics,cls=JsonEncoder))"
      ],
      "execution_count": null,
      "outputs": []
    },
    {
      "cell_type": "markdown",
      "source": [
        "## **Sequence to Sequence with Attention**"
      ],
      "metadata": {
        "id": "5EWgQ_7t-b9N"
      }
    },
    {
      "cell_type": "markdown",
      "source": [
        "### **Overview**\n",
        "\n",
        "The aim of this section is to build and train a Seq2Seq model with attention\n",
        "\n",
        "**The Task:** Perform Neural Machine Translation from english to spanish. We will also create a analysis model to create a sentence to sentence heat-map\n",
        "\n",
        "**NOTE:** For this section, we will modify the attention, by not combining it with the previous input to the decoder, but instead concatenating it with the current hidden state of the decoder. This is not as effective as the Bahdanau attention but greatly simplifies the execution.\n",
        "\n",
        "The equation transforms from: \n",
        "\n",
        "$$\n",
        "c_{i}=\\sum_{j=1}^{T_{x}} \\alpha_{i j}\\left(h_{i-1}^{D}, h_{j}^{E}\\right) h_{j}^{E}\n",
        "$$\n",
        "\n",
        "to:\n",
        "\n",
        "$$\n",
        "c_{i}=\\sum_{j=1}^{T_{x}} \\alpha_{i j}\\left(h_{i}^{D}, h_{j}^{E}\\right) h_{j}^{E}\n",
        "$$"
      ],
      "metadata": {
        "id": "at6-kWWl-gN2"
      }
    },
    {
      "cell_type": "markdown",
      "source": [
        "### **Dataset**\n",
        "\n",
        "The dataset consists of English to Spanish translations from http://www.manythings.org/ \n",
        "\n"
      ],
      "metadata": {
        "id": "M9QclLbQiMq7"
      }
    },
    {
      "cell_type": "markdown",
      "source": [
        "**Load Data**\n",
        "\n",
        "Load the english to spanish dataset"
      ],
      "metadata": {
        "id": "KKdj502KiMq9"
      }
    },
    {
      "cell_type": "code",
      "source": [
        "# Read the English to Spanish datafile into a pandas dataframe\n",
        "# Use columns [0,1] with tab as the seperator, no head\n",
        "# Set the names of the columns as \"English\" and \"Spanish\"\n",
        "file_url = 'https://storage.googleapis.com/cs109b/nlp/spa.txt'\n",
        "data = pd.read_csv(file_url, sep='\\t', header=None, usecols=[0,1], names=['English', 'Spanish'])"
      ],
      "metadata": {
        "id": "WHzZ4pWziMq9"
      },
      "execution_count": null,
      "outputs": []
    },
    {
      "cell_type": "code",
      "source": [
        "# Take a quick look of the dataset\n",
        "print(\"Shape:\",data.shape)\n",
        "data.head(10)"
      ],
      "metadata": {
        "colab": {
          "base_uri": "https://localhost:8080/",
          "height": 381
        },
        "outputId": "7148e03f-19c2-4afb-e6e4-c62ac5f985ab",
        "id": "-Hf96oFeiMq9"
      },
      "execution_count": null,
      "outputs": [
        {
          "output_type": "stream",
          "name": "stdout",
          "text": [
            "Shape: (118964, 2)\n"
          ]
        },
        {
          "output_type": "execute_result",
          "data": {
            "text/plain": [
              "  English     Spanish\n",
              "0     Go.         Ve.\n",
              "1     Go.       Vete.\n",
              "2     Go.       Vaya.\n",
              "3     Go.     Váyase.\n",
              "4     Hi.       Hola.\n",
              "5    Run!     ¡Corre!\n",
              "6    Run.     Corred.\n",
              "7    Who?     ¿Quién?\n",
              "8   Fire!     ¡Fuego!\n",
              "9   Fire!  ¡Incendio!"
            ],
            "text/html": [
              "\n",
              "  <div id=\"df-f37a6f4d-f723-4563-aceb-970a2035f92e\">\n",
              "    <div class=\"colab-df-container\">\n",
              "      <div>\n",
              "<style scoped>\n",
              "    .dataframe tbody tr th:only-of-type {\n",
              "        vertical-align: middle;\n",
              "    }\n",
              "\n",
              "    .dataframe tbody tr th {\n",
              "        vertical-align: top;\n",
              "    }\n",
              "\n",
              "    .dataframe thead th {\n",
              "        text-align: right;\n",
              "    }\n",
              "</style>\n",
              "<table border=\"1\" class=\"dataframe\">\n",
              "  <thead>\n",
              "    <tr style=\"text-align: right;\">\n",
              "      <th></th>\n",
              "      <th>English</th>\n",
              "      <th>Spanish</th>\n",
              "    </tr>\n",
              "  </thead>\n",
              "  <tbody>\n",
              "    <tr>\n",
              "      <th>0</th>\n",
              "      <td>Go.</td>\n",
              "      <td>Ve.</td>\n",
              "    </tr>\n",
              "    <tr>\n",
              "      <th>1</th>\n",
              "      <td>Go.</td>\n",
              "      <td>Vete.</td>\n",
              "    </tr>\n",
              "    <tr>\n",
              "      <th>2</th>\n",
              "      <td>Go.</td>\n",
              "      <td>Vaya.</td>\n",
              "    </tr>\n",
              "    <tr>\n",
              "      <th>3</th>\n",
              "      <td>Go.</td>\n",
              "      <td>Váyase.</td>\n",
              "    </tr>\n",
              "    <tr>\n",
              "      <th>4</th>\n",
              "      <td>Hi.</td>\n",
              "      <td>Hola.</td>\n",
              "    </tr>\n",
              "    <tr>\n",
              "      <th>5</th>\n",
              "      <td>Run!</td>\n",
              "      <td>¡Corre!</td>\n",
              "    </tr>\n",
              "    <tr>\n",
              "      <th>6</th>\n",
              "      <td>Run.</td>\n",
              "      <td>Corred.</td>\n",
              "    </tr>\n",
              "    <tr>\n",
              "      <th>7</th>\n",
              "      <td>Who?</td>\n",
              "      <td>¿Quién?</td>\n",
              "    </tr>\n",
              "    <tr>\n",
              "      <th>8</th>\n",
              "      <td>Fire!</td>\n",
              "      <td>¡Fuego!</td>\n",
              "    </tr>\n",
              "    <tr>\n",
              "      <th>9</th>\n",
              "      <td>Fire!</td>\n",
              "      <td>¡Incendio!</td>\n",
              "    </tr>\n",
              "  </tbody>\n",
              "</table>\n",
              "</div>\n",
              "      <button class=\"colab-df-convert\" onclick=\"convertToInteractive('df-f37a6f4d-f723-4563-aceb-970a2035f92e')\"\n",
              "              title=\"Convert this dataframe to an interactive table.\"\n",
              "              style=\"display:none;\">\n",
              "        \n",
              "  <svg xmlns=\"http://www.w3.org/2000/svg\" height=\"24px\"viewBox=\"0 0 24 24\"\n",
              "       width=\"24px\">\n",
              "    <path d=\"M0 0h24v24H0V0z\" fill=\"none\"/>\n",
              "    <path d=\"M18.56 5.44l.94 2.06.94-2.06 2.06-.94-2.06-.94-.94-2.06-.94 2.06-2.06.94zm-11 1L8.5 8.5l.94-2.06 2.06-.94-2.06-.94L8.5 2.5l-.94 2.06-2.06.94zm10 10l.94 2.06.94-2.06 2.06-.94-2.06-.94-.94-2.06-.94 2.06-2.06.94z\"/><path d=\"M17.41 7.96l-1.37-1.37c-.4-.4-.92-.59-1.43-.59-.52 0-1.04.2-1.43.59L10.3 9.45l-7.72 7.72c-.78.78-.78 2.05 0 2.83L4 21.41c.39.39.9.59 1.41.59.51 0 1.02-.2 1.41-.59l7.78-7.78 2.81-2.81c.8-.78.8-2.07 0-2.86zM5.41 20L4 18.59l7.72-7.72 1.47 1.35L5.41 20z\"/>\n",
              "  </svg>\n",
              "      </button>\n",
              "      \n",
              "  <style>\n",
              "    .colab-df-container {\n",
              "      display:flex;\n",
              "      flex-wrap:wrap;\n",
              "      gap: 12px;\n",
              "    }\n",
              "\n",
              "    .colab-df-convert {\n",
              "      background-color: #E8F0FE;\n",
              "      border: none;\n",
              "      border-radius: 50%;\n",
              "      cursor: pointer;\n",
              "      display: none;\n",
              "      fill: #1967D2;\n",
              "      height: 32px;\n",
              "      padding: 0 0 0 0;\n",
              "      width: 32px;\n",
              "    }\n",
              "\n",
              "    .colab-df-convert:hover {\n",
              "      background-color: #E2EBFA;\n",
              "      box-shadow: 0px 1px 2px rgba(60, 64, 67, 0.3), 0px 1px 3px 1px rgba(60, 64, 67, 0.15);\n",
              "      fill: #174EA6;\n",
              "    }\n",
              "\n",
              "    [theme=dark] .colab-df-convert {\n",
              "      background-color: #3B4455;\n",
              "      fill: #D2E3FC;\n",
              "    }\n",
              "\n",
              "    [theme=dark] .colab-df-convert:hover {\n",
              "      background-color: #434B5C;\n",
              "      box-shadow: 0px 1px 3px 1px rgba(0, 0, 0, 0.15);\n",
              "      filter: drop-shadow(0px 1px 2px rgba(0, 0, 0, 0.3));\n",
              "      fill: #FFFFFF;\n",
              "    }\n",
              "  </style>\n",
              "\n",
              "      <script>\n",
              "        const buttonEl =\n",
              "          document.querySelector('#df-f37a6f4d-f723-4563-aceb-970a2035f92e button.colab-df-convert');\n",
              "        buttonEl.style.display =\n",
              "          google.colab.kernel.accessAllowed ? 'block' : 'none';\n",
              "\n",
              "        async function convertToInteractive(key) {\n",
              "          const element = document.querySelector('#df-f37a6f4d-f723-4563-aceb-970a2035f92e');\n",
              "          const dataTable =\n",
              "            await google.colab.kernel.invokeFunction('convertToInteractive',\n",
              "                                                     [key], {});\n",
              "          if (!dataTable) return;\n",
              "\n",
              "          const docLinkHtml = 'Like what you see? Visit the ' +\n",
              "            '<a target=\"_blank\" href=https://colab.research.google.com/notebooks/data_table.ipynb>data table notebook</a>'\n",
              "            + ' to learn more about interactive tables.';\n",
              "          element.innerHTML = '';\n",
              "          dataTable['output_type'] = 'display_data';\n",
              "          await google.colab.output.renderOutput(dataTable, element);\n",
              "          const docLink = document.createElement('div');\n",
              "          docLink.innerHTML = docLinkHtml;\n",
              "          element.appendChild(docLink);\n",
              "        }\n",
              "      </script>\n",
              "    </div>\n",
              "  </div>\n",
              "  "
            ]
          },
          "metadata": {},
          "execution_count": 146
        }
      ]
    },
    {
      "cell_type": "markdown",
      "source": [
        "**Add Start/End Tokens**\n",
        "\n",
        "Add start `<s>` and end `</s>` tokens to each word"
      ],
      "metadata": {
        "id": "pIij8IPFiUCz"
      }
    },
    {
      "cell_type": "code",
      "source": [
        "# For each English and Spanish sentence in the dataframe \n",
        "# add the start <s> and end </s> tokens\n",
        "data.Spanish = '<s> '+data.Spanish+' </s>'\n",
        "data.English = '<s> '+data.English+' </s>'"
      ],
      "metadata": {
        "id": "LuGPq4C0iUCz"
      },
      "execution_count": null,
      "outputs": []
    },
    {
      "cell_type": "code",
      "source": [
        "data.head(10)"
      ],
      "metadata": {
        "colab": {
          "base_uri": "https://localhost:8080/",
          "height": 363
        },
        "outputId": "7e79ae00-cb74-434b-cd86-f2b90fa5b230",
        "id": "N7YzGLRLiUCz"
      },
      "execution_count": null,
      "outputs": [
        {
          "output_type": "execute_result",
          "data": {
            "text/plain": [
              "          English              Spanish\n",
              "0    <s> Go. </s>         <s> Ve. </s>\n",
              "1    <s> Go. </s>       <s> Vete. </s>\n",
              "2    <s> Go. </s>       <s> Vaya. </s>\n",
              "3    <s> Go. </s>     <s> Váyase. </s>\n",
              "4    <s> Hi. </s>       <s> Hola. </s>\n",
              "5   <s> Run! </s>     <s> ¡Corre! </s>\n",
              "6   <s> Run. </s>     <s> Corred. </s>\n",
              "7   <s> Who? </s>     <s> ¿Quién? </s>\n",
              "8  <s> Fire! </s>     <s> ¡Fuego! </s>\n",
              "9  <s> Fire! </s>  <s> ¡Incendio! </s>"
            ],
            "text/html": [
              "\n",
              "  <div id=\"df-f9715eaf-00fb-4aab-8774-3a90fd6f5f19\">\n",
              "    <div class=\"colab-df-container\">\n",
              "      <div>\n",
              "<style scoped>\n",
              "    .dataframe tbody tr th:only-of-type {\n",
              "        vertical-align: middle;\n",
              "    }\n",
              "\n",
              "    .dataframe tbody tr th {\n",
              "        vertical-align: top;\n",
              "    }\n",
              "\n",
              "    .dataframe thead th {\n",
              "        text-align: right;\n",
              "    }\n",
              "</style>\n",
              "<table border=\"1\" class=\"dataframe\">\n",
              "  <thead>\n",
              "    <tr style=\"text-align: right;\">\n",
              "      <th></th>\n",
              "      <th>English</th>\n",
              "      <th>Spanish</th>\n",
              "    </tr>\n",
              "  </thead>\n",
              "  <tbody>\n",
              "    <tr>\n",
              "      <th>0</th>\n",
              "      <td>&lt;s&gt; Go. &lt;/s&gt;</td>\n",
              "      <td>&lt;s&gt; Ve. &lt;/s&gt;</td>\n",
              "    </tr>\n",
              "    <tr>\n",
              "      <th>1</th>\n",
              "      <td>&lt;s&gt; Go. &lt;/s&gt;</td>\n",
              "      <td>&lt;s&gt; Vete. &lt;/s&gt;</td>\n",
              "    </tr>\n",
              "    <tr>\n",
              "      <th>2</th>\n",
              "      <td>&lt;s&gt; Go. &lt;/s&gt;</td>\n",
              "      <td>&lt;s&gt; Vaya. &lt;/s&gt;</td>\n",
              "    </tr>\n",
              "    <tr>\n",
              "      <th>3</th>\n",
              "      <td>&lt;s&gt; Go. &lt;/s&gt;</td>\n",
              "      <td>&lt;s&gt; Váyase. &lt;/s&gt;</td>\n",
              "    </tr>\n",
              "    <tr>\n",
              "      <th>4</th>\n",
              "      <td>&lt;s&gt; Hi. &lt;/s&gt;</td>\n",
              "      <td>&lt;s&gt; Hola. &lt;/s&gt;</td>\n",
              "    </tr>\n",
              "    <tr>\n",
              "      <th>5</th>\n",
              "      <td>&lt;s&gt; Run! &lt;/s&gt;</td>\n",
              "      <td>&lt;s&gt; ¡Corre! &lt;/s&gt;</td>\n",
              "    </tr>\n",
              "    <tr>\n",
              "      <th>6</th>\n",
              "      <td>&lt;s&gt; Run. &lt;/s&gt;</td>\n",
              "      <td>&lt;s&gt; Corred. &lt;/s&gt;</td>\n",
              "    </tr>\n",
              "    <tr>\n",
              "      <th>7</th>\n",
              "      <td>&lt;s&gt; Who? &lt;/s&gt;</td>\n",
              "      <td>&lt;s&gt; ¿Quién? &lt;/s&gt;</td>\n",
              "    </tr>\n",
              "    <tr>\n",
              "      <th>8</th>\n",
              "      <td>&lt;s&gt; Fire! &lt;/s&gt;</td>\n",
              "      <td>&lt;s&gt; ¡Fuego! &lt;/s&gt;</td>\n",
              "    </tr>\n",
              "    <tr>\n",
              "      <th>9</th>\n",
              "      <td>&lt;s&gt; Fire! &lt;/s&gt;</td>\n",
              "      <td>&lt;s&gt; ¡Incendio! &lt;/s&gt;</td>\n",
              "    </tr>\n",
              "  </tbody>\n",
              "</table>\n",
              "</div>\n",
              "      <button class=\"colab-df-convert\" onclick=\"convertToInteractive('df-f9715eaf-00fb-4aab-8774-3a90fd6f5f19')\"\n",
              "              title=\"Convert this dataframe to an interactive table.\"\n",
              "              style=\"display:none;\">\n",
              "        \n",
              "  <svg xmlns=\"http://www.w3.org/2000/svg\" height=\"24px\"viewBox=\"0 0 24 24\"\n",
              "       width=\"24px\">\n",
              "    <path d=\"M0 0h24v24H0V0z\" fill=\"none\"/>\n",
              "    <path d=\"M18.56 5.44l.94 2.06.94-2.06 2.06-.94-2.06-.94-.94-2.06-.94 2.06-2.06.94zm-11 1L8.5 8.5l.94-2.06 2.06-.94-2.06-.94L8.5 2.5l-.94 2.06-2.06.94zm10 10l.94 2.06.94-2.06 2.06-.94-2.06-.94-.94-2.06-.94 2.06-2.06.94z\"/><path d=\"M17.41 7.96l-1.37-1.37c-.4-.4-.92-.59-1.43-.59-.52 0-1.04.2-1.43.59L10.3 9.45l-7.72 7.72c-.78.78-.78 2.05 0 2.83L4 21.41c.39.39.9.59 1.41.59.51 0 1.02-.2 1.41-.59l7.78-7.78 2.81-2.81c.8-.78.8-2.07 0-2.86zM5.41 20L4 18.59l7.72-7.72 1.47 1.35L5.41 20z\"/>\n",
              "  </svg>\n",
              "      </button>\n",
              "      \n",
              "  <style>\n",
              "    .colab-df-container {\n",
              "      display:flex;\n",
              "      flex-wrap:wrap;\n",
              "      gap: 12px;\n",
              "    }\n",
              "\n",
              "    .colab-df-convert {\n",
              "      background-color: #E8F0FE;\n",
              "      border: none;\n",
              "      border-radius: 50%;\n",
              "      cursor: pointer;\n",
              "      display: none;\n",
              "      fill: #1967D2;\n",
              "      height: 32px;\n",
              "      padding: 0 0 0 0;\n",
              "      width: 32px;\n",
              "    }\n",
              "\n",
              "    .colab-df-convert:hover {\n",
              "      background-color: #E2EBFA;\n",
              "      box-shadow: 0px 1px 2px rgba(60, 64, 67, 0.3), 0px 1px 3px 1px rgba(60, 64, 67, 0.15);\n",
              "      fill: #174EA6;\n",
              "    }\n",
              "\n",
              "    [theme=dark] .colab-df-convert {\n",
              "      background-color: #3B4455;\n",
              "      fill: #D2E3FC;\n",
              "    }\n",
              "\n",
              "    [theme=dark] .colab-df-convert:hover {\n",
              "      background-color: #434B5C;\n",
              "      box-shadow: 0px 1px 3px 1px rgba(0, 0, 0, 0.15);\n",
              "      filter: drop-shadow(0px 1px 2px rgba(0, 0, 0, 0.3));\n",
              "      fill: #FFFFFF;\n",
              "    }\n",
              "  </style>\n",
              "\n",
              "      <script>\n",
              "        const buttonEl =\n",
              "          document.querySelector('#df-f9715eaf-00fb-4aab-8774-3a90fd6f5f19 button.colab-df-convert');\n",
              "        buttonEl.style.display =\n",
              "          google.colab.kernel.accessAllowed ? 'block' : 'none';\n",
              "\n",
              "        async function convertToInteractive(key) {\n",
              "          const element = document.querySelector('#df-f9715eaf-00fb-4aab-8774-3a90fd6f5f19');\n",
              "          const dataTable =\n",
              "            await google.colab.kernel.invokeFunction('convertToInteractive',\n",
              "                                                     [key], {});\n",
              "          if (!dataTable) return;\n",
              "\n",
              "          const docLinkHtml = 'Like what you see? Visit the ' +\n",
              "            '<a target=\"_blank\" href=https://colab.research.google.com/notebooks/data_table.ipynb>data table notebook</a>'\n",
              "            + ' to learn more about interactive tables.';\n",
              "          element.innerHTML = '';\n",
              "          dataTable['output_type'] = 'display_data';\n",
              "          await google.colab.output.renderOutput(dataTable, element);\n",
              "          const docLink = document.createElement('div');\n",
              "          docLink.innerHTML = docLinkHtml;\n",
              "          element.appendChild(docLink);\n",
              "        }\n",
              "      </script>\n",
              "    </div>\n",
              "  </div>\n",
              "  "
            ]
          },
          "metadata": {},
          "execution_count": 148
        }
      ]
    },
    {
      "cell_type": "markdown",
      "source": [
        "### **Build Data Pipelines**"
      ],
      "metadata": {
        "id": "QkX-H01sidfl"
      }
    },
    {
      "cell_type": "markdown",
      "source": [
        "**Text Tokenization**"
      ],
      "metadata": {
        "id": "TtigHBD4idfl"
      }
    },
    {
      "cell_type": "code",
      "source": [
        "# Specify the maximum size of the vocabulary of English words as 5000\n",
        "vocab_size_eng = 5000\n",
        "\n",
        "# Specify the maximum size of the vocabulary of Spanish word as 5000\n",
        "vocab_size_spa = 5000\n",
        "\n",
        "# Create tokenizer objects for both languages with appropriate choices\n",
        "tokenizer_eng = tf.keras.preprocessing.text.Tokenizer(num_words=vocab_size_eng,\n",
        "                                                      lower=True, \n",
        "                                                      char_level=False, \n",
        "                                                      oov_token=None, \n",
        "                                                      filters='!\"#$%&()*+,-.:;=?@[\\\\]^_`{|}~\\t\\n')\n",
        "\n",
        "# For spanish, make sure to also filter out the special spanish token ¡ and ¿ commonly used in formal spanish\n",
        "tokenizer_spa = tf.keras.preprocessing.text.Tokenizer(num_words=vocab_size_spa,\n",
        "                                                      lower=True, \n",
        "                                                      char_level=False, \n",
        "                                                      oov_token=None, \n",
        "                                                      filters='¡!\"#$%&()*+,-.:;=¿?@[\\\\]^_`{|}~\\t\\n')"
      ],
      "metadata": {
        "id": "z0BT8Mfiidfl"
      },
      "execution_count": null,
      "outputs": []
    },
    {
      "cell_type": "code",
      "source": [
        "# Fit both tokenizers on all the text in the dataframe for each language \n",
        "tokenizer_eng.fit_on_texts(data.English)\n",
        "tokenizer_spa.fit_on_texts(data.Spanish)"
      ],
      "metadata": {
        "id": "pOELUm1cidfl"
      },
      "execution_count": null,
      "outputs": []
    },
    {
      "cell_type": "code",
      "source": [
        "# Get the integer sequence corresponding to both tokenizers \n",
        "input_eng = tokenizer_eng.texts_to_sequences(data.English)\n",
        "input_spa = tokenizer_spa.texts_to_sequences(data.Spanish)"
      ],
      "metadata": {
        "id": "S9G0Gshq8m9z"
      },
      "execution_count": null,
      "outputs": []
    },
    {
      "cell_type": "markdown",
      "source": [
        "View some tokenized text"
      ],
      "metadata": {
        "id": "bjG_cupUidfm"
      }
    },
    {
      "cell_type": "code",
      "source": [
        "print(\"English:\",input_eng[0])\n",
        "print(\"Spanish:\",input_spa[0])"
      ],
      "metadata": {
        "colab": {
          "base_uri": "https://localhost:8080/"
        },
        "outputId": "96587792-434c-45a3-9d03-173e9a259aaf",
        "id": "2qeh5Etoidfm"
      },
      "execution_count": null,
      "outputs": [
        {
          "output_type": "stream",
          "name": "stdout",
          "text": [
            "English: [1, 42, 2]\n",
            "Spanish: [1, 366, 2]\n"
          ]
        }
      ]
    },
    {
      "cell_type": "markdown",
      "source": [
        "**Create TF Datasets**"
      ],
      "metadata": {
        "id": "ybpkjP2xiiWe"
      }
    },
    {
      "cell_type": "code",
      "source": [
        "batch_size = 512\n",
        "train_shuffle_buffer_size = 5000\n",
        "\n",
        "# Write a mapping function to process the input data\n",
        "# The english doesn't need to be processed any further, as we will process the entire sentences.\n",
        "# Since we are using the decoder to predict the next word, the target language must be processed. \n",
        "# The source data and target must be shifted by one position\n",
        "def process(eng, spa):\n",
        "    in_spa  = spa[:,:-1]\n",
        "    out_spa = spa[:,1:]\n",
        "    \n",
        "    in_eng  = eng.to_tensor(default_value=0, shape=[None, None])\n",
        "    in_spa  = in_spa.to_tensor(default_value=0, shape=[None, None])\n",
        "    out_spa = out_spa.to_tensor(default_value=0, shape=[None, None]) \n",
        "    return (in_eng, in_spa), out_spa\n",
        "\n",
        "# Use tensorflow ragged constants to get the ragged version of data\n",
        "train_processed_x = tf.ragged.constant(input_eng)\n",
        "train_processed_y = tf.ragged.constant(input_spa)\n",
        "\n",
        "# Create TF Dataset\n",
        "train_data = tf.data.Dataset.from_tensor_slices((train_processed_x, train_processed_y))\n",
        "\n",
        "#############\n",
        "# Train data\n",
        "#############\n",
        "# Apply all data processing logic\n",
        "train_data = train_data.shuffle(buffer_size=train_shuffle_buffer_size)\n",
        "train_data = train_data.batch(batch_size)\n",
        "train_data = train_data.map(process, num_parallel_calls=AUTOTUNE)\n",
        "train_data = train_data.prefetch(AUTOTUNE)\n",
        "\n",
        "print(\"train_data\",train_data)"
      ],
      "metadata": {
        "colab": {
          "base_uri": "https://localhost:8080/"
        },
        "outputId": "2ff79698-b154-4db5-896c-4b771911c502",
        "id": "s8vaxNvxiiWe"
      },
      "execution_count": null,
      "outputs": [
        {
          "output_type": "stream",
          "name": "stdout",
          "text": [
            "train_data <PrefetchDataset element_spec=((TensorSpec(shape=(None, None), dtype=tf.int32, name=None), TensorSpec(shape=(None, None), dtype=tf.int32, name=None)), TensorSpec(shape=(None, None), dtype=tf.int32, name=None))>\n"
          ]
        }
      ]
    },
    {
      "cell_type": "code",
      "source": [
        "# View some data from tf dataset\n",
        "for (ip_eng,ip_spa),output in train_data.take(1):\n",
        "  print(ip_eng.shape,ip_spa.shape,output.shape)\n",
        "  \n",
        "  print(\"Input English:\",ip_eng[0])\n",
        "  print(\"Input Spanish:\",ip_spa[0])\n",
        "  print(\"Output Spanish:\",output[0])\n",
        "  print(\"****************\")\n",
        "  print(\"Input English:\")\n",
        "  print(tokenizer_eng.sequences_to_texts([ip_eng[0].numpy()]))\n",
        "  print(\"Input Spanish:\")\n",
        "  print(tokenizer_spa.sequences_to_texts([ip_spa[0].numpy()]))\n",
        "  print(\"Output Spanish:\")\n",
        "  print(tokenizer_spa.sequences_to_texts([output[0].numpy()]))"
      ],
      "metadata": {
        "colab": {
          "base_uri": "https://localhost:8080/"
        },
        "outputId": "6d454de7-10d3-4449-becb-88c5ca48b571",
        "id": "C7JX2voKiiWf"
      },
      "execution_count": null,
      "outputs": [
        {
          "output_type": "stream",
          "name": "stdout",
          "text": [
            "(512, 6) (512, 8) (512, 8)\n",
            "Input English: tf.Tensor([  1 125  34 439   2   0], shape=(6,), dtype=int32)\n",
            "Input Spanish: tf.Tensor([  1   6  21 519   0   0   0   0], shape=(8,), dtype=int32)\n",
            "Output Spanish: tf.Tensor([  6  21 519   2   0   0   0   0], shape=(8,), dtype=int32)\n",
            "****************\n",
            "Input English:\n",
            "[\"<s> he's not sick </s>\"]\n",
            "Input Spanish:\n",
            "['<s> no está enfermo']\n",
            "Output Spanish:\n",
            "['no está enfermo </s>']\n"
          ]
        }
      ]
    },
    {
      "cell_type": "markdown",
      "source": [
        "### **Build Seq2Seq with Attention Model**"
      ],
      "metadata": {
        "id": "rFLchnokrXeK"
      }
    },
    {
      "cell_type": "code",
      "source": [
        "def build_model(evaluation_model=False):\n",
        "  # Model input\n",
        "  inputs_eng = tf.keras.Input(shape=[None])\n",
        "  inputs_spa = tf.keras.Input(shape=[None])\n",
        "\n",
        "  # Encoder\n",
        "  emb_eng = tf.keras.layers.Embedding(input_dim=tokenizer_eng.num_words+1, \n",
        "                                    output_dim = 128, \n",
        "                                    mask_zero=True,\n",
        "                                    name='Encoder_embedding')(inputs_eng)\n",
        "  encoder_states = tf.keras.layers.GRU(128, return_sequences=True, name='Encoder_RNN_f')(emb_eng)\n",
        "  last_encoder_state = encoder_states[:,-1,:]\n",
        "\n",
        "  # Decoder\n",
        "  emb_spa = tf.keras.layers.Embedding(input_dim=tokenizer_spa.num_words+1, \n",
        "                                    output_dim = 128, \n",
        "                                    mask_zero=True,\n",
        "                                    name='Decoder_embedding')(inputs_spa)\n",
        "  decoder_states = tf.keras.layers.GRU(128, return_sequences=True,  name='Decoder_RNN')(emb_spa)\n",
        "\n",
        "  # Create projections for the encoder and decoder hidden states \n",
        "  hidden_size=64\n",
        "  r_encoder = tf.keras.layers.Dense(hidden_size, activation=None, use_bias=False)(encoder_states)\n",
        "  r_decoder = tf.keras.layers.Dense(hidden_size, activation=None, use_bias=False)(decoder_states)\n",
        "\n",
        "  # Compute Attention\n",
        "  # Step 1:\n",
        "  # Expand the dimensions for the query and the value at the appropriate locations \n",
        "  query = tf.expand_dims(r_decoder, axis=2)\n",
        "  value = tf.expand_dims(r_encoder, axis=1)\n",
        "\n",
        "  # Step 2:\n",
        "  # Compute the score as in Bahdanau's paper  \n",
        "  score = tf.reduce_sum(tf.tanh(query + value, name='Score'), axis=-1)\n",
        "\n",
        "\n",
        "  # Additional step:\n",
        "  # It is crucial to manually mask the 'padded' hidden states otherwise there will be \n",
        "  # a mismatch between the encoder-decoder model defined above\n",
        "  # And the attention weights computed below \n",
        "  N_query = tf.reduce_sum(tf.cast(inputs_spa>0, tf.float32), axis=1)\n",
        "  query_mask = tf.sequence_mask(N_query)\n",
        "\n",
        "  N_value = tf.reduce_sum(tf.cast(inputs_eng>0, tf.float32), axis=1)\n",
        "  value_mask = tf.sequence_mask(N_value)\n",
        "\n",
        "  # Mask the score\n",
        "  m1 = tf.sequence_mask(N_query, dtype=tf.float32)\n",
        "  m2 = tf.sequence_mask(N_value, dtype=tf.float32)\n",
        "\n",
        "  score = tf.transpose(tf.multiply(tf.transpose(score,[2,0,1]), m1),[1,2,0])\n",
        "  score = tf.transpose(tf.multiply(tf.transpose(score,[1,0,2]), m2), [1,0,2])\n",
        "\n",
        "  # Step 3: Use the scores to get a distribution of probabilities\n",
        "  weights = tf.nn.softmax(score, axis=2, name='Weights')\n",
        "\n",
        "  # Step 4: Compute the context vector by multiplying the encoder states with the weights \n",
        "  context_vector = tf.matmul(weights, encoder_states)\n",
        "\n",
        "  # Concatenate the context vector with the decoder states \n",
        "  enhanced_encoding = tf.keras.layers.Concatenate(axis=2)([context_vector, decoder_states])\n",
        "\n",
        "  # Pass the enhanced encoding to a dense layer with softmax activation \n",
        "  output_spa = tf.keras.layers.Dense(tokenizer_spa.num_words+1,activation='softmax')(enhanced_encoding)\n",
        "\n",
        "  # Set up the model with appropriate inputs and the output defined above \n",
        "  model = tf.keras.Model(inputs=(inputs_eng, inputs_spa), outputs=output_spa)\n",
        "\n",
        "  # Build another evaluation model that will give us the associated weights\n",
        "  # We will use this for visualization\n",
        "  evaluation_model = tf.keras.Model(inputs=(inputs_eng, inputs_spa), outputs=[weights,inputs_eng,inputs_spa])\n",
        "\n",
        "  return model, evaluation_model"
      ],
      "metadata": {
        "id": "tRQO_9YNriEB"
      },
      "execution_count": null,
      "outputs": []
    },
    {
      "cell_type": "markdown",
      "source": [
        "### **Train**"
      ],
      "metadata": {
        "id": "GdTJ70F8sK8r"
      }
    },
    {
      "cell_type": "code",
      "source": [
        "############################\n",
        "# Training Params\n",
        "############################\n",
        "learning_rate = 5e-3\n",
        "epochs = 50\n",
        "\n",
        "# Free up memory\n",
        "tf.keras.backend.clear_session()\n",
        "\n",
        "# Build the model\n",
        "model, evaluation_model = build_model()\n",
        "\n",
        "# Print the model architecture\n",
        "#print(model.summary())\n",
        "\n",
        "# Optimizer\n",
        "optimizer = tf.keras.optimizers.Adam(learning_rate=learning_rate)\n",
        "# Loss\n",
        "loss = tf.keras.losses.sparse_categorical_crossentropy\n",
        "\n",
        "# Compile\n",
        "model.compile(loss=loss,\n",
        "                  optimizer=optimizer)\n",
        "\n",
        "# Train model\n",
        "start_time = time.time()\n",
        "training_results = model.fit(\n",
        "        train_data,\n",
        "        epochs=epochs, \n",
        "        verbose=1)\n",
        "execution_time = (time.time() - start_time)/60.0\n",
        "print(\"Training execution time (mins)\",execution_time)"
      ],
      "metadata": {
        "colab": {
          "base_uri": "https://localhost:8080/"
        },
        "id": "Jr37Ja2_EN1M",
        "outputId": "4111c3e3-5d99-4ed3-da1b-e18662bf6482"
      },
      "execution_count": null,
      "outputs": [
        {
          "output_type": "stream",
          "name": "stdout",
          "text": [
            "Epoch 1/50\n",
            "233/233 [==============================] - 13s 26ms/step - loss: 2.5266\n",
            "Epoch 2/50\n",
            "233/233 [==============================] - 6s 26ms/step - loss: 1.6038\n",
            "Epoch 3/50\n",
            "233/233 [==============================] - 6s 26ms/step - loss: 0.9613\n",
            "Epoch 4/50\n",
            "233/233 [==============================] - 6s 26ms/step - loss: 0.7350\n",
            "Epoch 5/50\n",
            "233/233 [==============================] - 6s 26ms/step - loss: 0.6277\n",
            "Epoch 6/50\n",
            "233/233 [==============================] - 6s 25ms/step - loss: 0.5608\n",
            "Epoch 7/50\n",
            "233/233 [==============================] - 6s 26ms/step - loss: 0.5091\n",
            "Epoch 8/50\n",
            "233/233 [==============================] - 6s 26ms/step - loss: 0.4688\n",
            "Epoch 9/50\n",
            "233/233 [==============================] - 6s 26ms/step - loss: 0.4419\n",
            "Epoch 10/50\n",
            "233/233 [==============================] - 6s 25ms/step - loss: 0.4151\n",
            "Epoch 11/50\n",
            "233/233 [==============================] - 6s 25ms/step - loss: 0.3960\n",
            "Epoch 12/50\n",
            "233/233 [==============================] - 6s 26ms/step - loss: 0.3744\n",
            "Epoch 13/50\n",
            "233/233 [==============================] - 6s 26ms/step - loss: 0.3589\n",
            "Epoch 14/50\n",
            "233/233 [==============================] - 6s 26ms/step - loss: 0.3464\n",
            "Epoch 15/50\n",
            "233/233 [==============================] - 6s 26ms/step - loss: 0.3357\n",
            "Epoch 16/50\n",
            "233/233 [==============================] - 6s 26ms/step - loss: 0.3249\n",
            "Epoch 17/50\n",
            "233/233 [==============================] - 6s 26ms/step - loss: 0.3139\n",
            "Epoch 18/50\n",
            "233/233 [==============================] - 6s 26ms/step - loss: 0.3047\n",
            "Epoch 19/50\n",
            "233/233 [==============================] - 6s 26ms/step - loss: 0.2940\n",
            "Epoch 20/50\n",
            "233/233 [==============================] - 6s 26ms/step - loss: 0.2879\n",
            "Epoch 21/50\n",
            "233/233 [==============================] - 6s 26ms/step - loss: 0.2802\n",
            "Epoch 22/50\n",
            "233/233 [==============================] - 6s 26ms/step - loss: 0.2752\n",
            "Epoch 23/50\n",
            "233/233 [==============================] - 6s 26ms/step - loss: 0.2678\n",
            "Epoch 24/50\n",
            "233/233 [==============================] - 6s 26ms/step - loss: 0.2636\n",
            "Epoch 25/50\n",
            "233/233 [==============================] - 6s 26ms/step - loss: 0.2635\n",
            "Epoch 26/50\n",
            "233/233 [==============================] - 6s 26ms/step - loss: 0.2567\n",
            "Epoch 27/50\n",
            "233/233 [==============================] - 6s 26ms/step - loss: 0.2560\n",
            "Epoch 28/50\n",
            "233/233 [==============================] - 6s 26ms/step - loss: 0.2529\n",
            "Epoch 29/50\n",
            "233/233 [==============================] - 6s 26ms/step - loss: 0.2464\n",
            "Epoch 30/50\n",
            "233/233 [==============================] - 6s 25ms/step - loss: 0.2420\n",
            "Epoch 31/50\n",
            "233/233 [==============================] - 6s 26ms/step - loss: 0.2397\n",
            "Epoch 32/50\n",
            "233/233 [==============================] - 6s 25ms/step - loss: 0.2338\n",
            "Epoch 33/50\n",
            "233/233 [==============================] - 6s 25ms/step - loss: 0.2322\n",
            "Epoch 34/50\n",
            "233/233 [==============================] - 6s 25ms/step - loss: 0.2295\n",
            "Epoch 35/50\n",
            "233/233 [==============================] - 6s 25ms/step - loss: 0.2269\n",
            "Epoch 36/50\n",
            "233/233 [==============================] - 6s 25ms/step - loss: 0.2263\n",
            "Epoch 37/50\n",
            "233/233 [==============================] - 6s 26ms/step - loss: 0.2241\n",
            "Epoch 38/50\n",
            "233/233 [==============================] - 6s 25ms/step - loss: 0.2212\n",
            "Epoch 39/50\n",
            "233/233 [==============================] - 6s 25ms/step - loss: 0.2204\n",
            "Epoch 40/50\n",
            "233/233 [==============================] - 6s 26ms/step - loss: 0.2192\n",
            "Epoch 41/50\n",
            "233/233 [==============================] - 6s 26ms/step - loss: 0.2161\n",
            "Epoch 42/50\n",
            "233/233 [==============================] - 6s 26ms/step - loss: 0.2174\n",
            "Epoch 43/50\n",
            "233/233 [==============================] - 6s 26ms/step - loss: 0.2148\n",
            "Epoch 44/50\n",
            "233/233 [==============================] - 6s 26ms/step - loss: 0.2140\n",
            "Epoch 45/50\n",
            "233/233 [==============================] - 6s 25ms/step - loss: 0.2099\n",
            "Epoch 46/50\n",
            "233/233 [==============================] - 6s 25ms/step - loss: 0.2090\n",
            "Epoch 47/50\n",
            "233/233 [==============================] - 6s 25ms/step - loss: 0.2074\n",
            "Epoch 48/50\n",
            "233/233 [==============================] - 6s 26ms/step - loss: 0.2044\n",
            "Epoch 49/50\n",
            "233/233 [==============================] - 6s 25ms/step - loss: 0.2025\n",
            "Epoch 50/50\n",
            "233/233 [==============================] - 6s 26ms/step - loss: 0.2035\n",
            "Training execution time (mins) 7.087873514493307\n"
          ]
        }
      ]
    },
    {
      "cell_type": "markdown",
      "source": [
        "### **Evalute Model**\n",
        "\n",
        "Now use the evalution model to output the weights and visualize them"
      ],
      "metadata": {
        "id": "LyTQGBpOmZQN"
      }
    },
    {
      "cell_type": "code",
      "source": [
        "for batch in train_data.take(1):\n",
        "  (ip_eng,ip_spa),output = batch\n",
        "  print(ip_eng.shape,ip_spa.shape,output.shape)\n",
        "\n",
        "  print(\"Input English:\")\n",
        "  print(tokenizer_eng.sequences_to_texts([ip_eng[0].numpy()]))\n",
        "  print(\"Input Spanish:\")\n",
        "  print(tokenizer_spa.sequences_to_texts([ip_spa[0].numpy()]))\n",
        "  print(\"Output Spanish:\")\n",
        "  print(tokenizer_spa.sequences_to_texts([output[0].numpy()]))\n",
        "\n",
        "# Use the evaluation model to get the weights and associated sentences in both languages  \n",
        "alphas,eng,spa = evaluation_model((ip_eng,ip_spa))"
      ],
      "metadata": {
        "colab": {
          "base_uri": "https://localhost:8080/"
        },
        "id": "unhLZYRA_z9C",
        "outputId": "886bdc41-131c-42dc-8a64-cd3dfff17664"
      },
      "execution_count": null,
      "outputs": [
        {
          "output_type": "stream",
          "name": "stdout",
          "text": [
            "(512, 6) (512, 7) (512, 7)\n",
            "Input English:\n",
            "['<s> i love beer </s>']\n",
            "Input Spanish:\n",
            "['<s> me encanta la cerveza']\n",
            "Output Spanish:\n",
            "['me encanta la cerveza </s>']\n"
          ]
        }
      ]
    },
    {
      "cell_type": "code",
      "source": [
        "# Size we get an entire batch as output, pick one for a particular sentence\n",
        "sentence=0\n",
        "base_eng_sentence = eng[sentence].numpy()\n",
        "base_spa_sentence = spa[sentence].numpy()\n",
        "scores = alphas[sentence].numpy()\n",
        "# Remove mask 0\n",
        "b_eng = base_eng_sentence>0\n",
        "b_spa = base_spa_sentence>0\n",
        "eng_sentence = base_eng_sentence[b_eng]\n",
        "spa_sentence = base_spa_sentence[b_spa]\n",
        "# Make sure to adjust for the tokens \n",
        "spa_sentence = spa_sentence[1:]\n",
        "eng_sentence = eng_sentence[:-1]"
      ],
      "metadata": {
        "id": "nQ2QOYhd9dMw"
      },
      "execution_count": null,
      "outputs": []
    },
    {
      "cell_type": "code",
      "source": [
        "# Plot your results \n",
        "plt.matshow(scores, aspect='auto', cmap=plt.get_cmap('Blues'))\n",
        "plt.ylim(spa_sentence.shape[0]-0.5,0-0.5)\n",
        "spa_words = tokenizer_spa.sequences_to_texts([spa_sentence[::-1]])[0].split(' ')\n",
        "plt.yticks(ticks = range(spa_sentence.shape[0])[::-1], labels=spa_words, rotation = 0)\n",
        "\n",
        "plt.xlim(0-0.5,eng_sentence.shape[0]-0.5)\n",
        "eng_words = tokenizer_eng.sequences_to_texts([eng_sentence])[0].split(' ')\n",
        "\n",
        "plt.xticks(ticks = range(eng_sentence.shape[0]), labels=eng_words, rotation = 45)\n",
        "\n",
        "plt.show()"
      ],
      "metadata": {
        "colab": {
          "base_uri": "https://localhost:8080/",
          "height": 325
        },
        "id": "k5oDW3769dQH",
        "outputId": "965572d2-8bd9-4db6-fe6e-44784cb6facd"
      },
      "execution_count": null,
      "outputs": [
        {
          "output_type": "display_data",
          "data": {
            "text/plain": [
              "<Figure size 288x336 with 1 Axes>"
            ],
            "image/png": "[encoded data removed]"
          },
          "metadata": {
            "needs_background": "light"
          }
        }
      ]
    },
    {
      "cell_type": "markdown",
      "source": [
        "### **Analyse Model Architecure**"
      ],
      "metadata": {
        "id": "bvgSNdERCuvj"
      }
    },
    {
      "cell_type": "code",
      "source": [
        "inputs_eng = tf.keras.Input(shape=[None])\n",
        "inputs_spa = tf.keras.Input(shape=[None])\n",
        "emb_eng = tf.keras.layers.Embedding(input_dim=tokenizer_eng.num_words+1, \n",
        "                                    output_dim = 128, \n",
        "                                    mask_zero=True,\n",
        "                                    name='Encoder_embedding')(inputs_eng)\n",
        "encoder_states = tf.keras.layers.GRU(128, return_sequences=True, name='Encoder_RNN_f')(emb_eng)\n",
        "last_encoder_state = encoder_states[:,-1,:]\n",
        "\n",
        "# Decoder\n",
        "emb_spa = tf.keras.layers.Embedding(input_dim=tokenizer_spa.num_words+1, \n",
        "                                  output_dim = 128, \n",
        "                                  mask_zero=True,\n",
        "                                  name='Decoder_embedding')(inputs_spa)\n",
        "decoder_states = tf.keras.layers.GRU(128, return_sequences=True,  name='Decoder_RNN')(emb_spa)\n",
        "\n",
        "# Create projections for the encoder and decoder hidden states \n",
        "hidden_size=64\n",
        "r_encoder = tf.keras.layers.Dense(hidden_size, activation=None, use_bias=False)(encoder_states)\n",
        "r_decoder = tf.keras.layers.Dense(hidden_size, activation=None, use_bias=False)(decoder_states)\n",
        "\n",
        "# Compute Attention\n",
        "# Step 1:\n",
        "# Expand the dimensions for the query and the value at the appropriate locations \n",
        "query = tf.expand_dims(r_decoder, axis=2)\n",
        "value = tf.expand_dims(r_encoder, axis=1)\n",
        "\n",
        "# Step 2:\n",
        "# Compute the score as in Bahdanau's paper  \n",
        "score = tf.reduce_sum(tf.tanh(query + value, name='Score'), axis=-1)\n",
        "\n",
        "N_query = tf.reduce_sum(tf.cast(inputs_spa>0, tf.float32), axis=1)\n",
        "query_mask = tf.sequence_mask(N_query)\n",
        "\n",
        "N_value = tf.reduce_sum(tf.cast(inputs_eng>0, tf.float32), axis=1)\n",
        "value_mask = tf.sequence_mask(N_value)\n",
        "\n",
        "# Mask the score\n",
        "m1 = tf.sequence_mask(N_query, dtype=tf.float32)\n",
        "m2 = tf.sequence_mask(N_value, dtype=tf.float32)\n",
        "\n",
        "score = tf.transpose(tf.multiply(tf.transpose(score,[2,0,1]), m1),[1,2,0])\n",
        "score = tf.transpose(tf.multiply(tf.transpose(score,[1,0,2]), m2), [1,0,2])\n",
        "\n",
        "weights = tf.nn.softmax(score, axis=2, name='Weights')\n",
        "\n",
        "context_vector = tf.matmul(weights, encoder_states)\n",
        "# Concatenate the context vector with the decoder states \n",
        "enhanced_encoding = tf.keras.layers.Concatenate(axis=2)([context_vector, decoder_states])\n",
        "\n",
        "# Pass the enhanced encoding to a dense layer with softmax activation \n",
        "output_spa = tf.keras.layers.Dense(tokenizer_spa.num_words+1,activation='softmax')(enhanced_encoding)\n",
        "\n",
        "outputs = [emb_eng, encoder_states, last_encoder_state, \n",
        "           emb_spa, decoder_states, r_encoder, r_decoder, query, value, score, \n",
        "           weights, context_vector, enhanced_encoding, output_spa]\n",
        "\n",
        "model = tf.keras.Model(inputs=(inputs_eng, inputs_spa), outputs=outputs)\n",
        "\n",
        "#print(model.summary())\n",
        "\n",
        "op = model.predict(train_data.take(1))\n",
        "print(\"emb_eng\",op[0].shape , \"[batch size, sequence length english, embedding dim]\")\n",
        "print(\"encoder_states\", op[1].shape, \"[batch size, sequence length english, embedding dim]\")\n",
        "print(\"last_encoder_state\", op[2].shape, \"[batch size, embedding dim]\")\n",
        "print(\"****\")\n",
        "print(\"emb_spa\",op[3].shape , \"[batch size, sequence length spanish, embedding dim]\")\n",
        "print(\"decoder_states\", op[4].shape, \"[batch size, sequence length spanish, embedding dim]\")\n",
        "print(\"****\")\n",
        "print(\"r_encoder\", op[5].shape, \"[batch size, sequence length english, projection size]\")\n",
        "print(\"r_decoder\", op[6].shape, \"[batch size, sequence length spanish, projection size]\")\n",
        "print(\"****\")\n",
        "print(\"query\", op[7].shape, \"[batch size, sequence length spanish, 1, projection size]\")\n",
        "print(\"value\", op[8].shape, \"[batch size, 1, sequence length english, projection size]\")\n",
        "print(\"****\")\n",
        "print(\"score\", op[9].shape, \"[batch size,sequence length spanish, sequence length english]\")\n",
        "print(\"weights\", op[10].shape, \"[batch size, sequence length spanish, sequence length english]\")\n",
        "print(\"****\")\n",
        "print(\"context_vector\", op[11].shape, \"[batch size, sequence length spanish, encoder_states->embedding dim ]\")\n",
        "print(\"enhanced_encoding\", op[12].shape, \n",
        "      \"[batch size, sequence length spanish, encoder_states->embedding dim + decoder_states->embedding dim]\")\n",
        "print(\"output_spa\", op[13].shape, \"[batch size, sequence length spanish, vocabulary size+1]\")"
      ],
      "metadata": {
        "colab": {
          "base_uri": "https://localhost:8080/"
        },
        "id": "S0Y5-oybCtEA",
        "outputId": "f3b0ead7-4deb-4ecf-93d3-94186133f548"
      },
      "execution_count": null,
      "outputs": [
        {
          "output_type": "stream",
          "name": "stdout",
          "text": [
            "emb_eng (512, 6, 128) [batch size, sequence length english, embedding dim]\n",
            "encoder_states (512, 6, 128) [batch size, sequence length english, embedding dim]\n",
            "last_encoder_state (512, 128) [batch size, embedding dim]\n",
            "****\n",
            "emb_spa (512, 7, 128) [batch size, sequence length spanish, embedding dim]\n",
            "decoder_states (512, 7, 128) [batch size, sequence length spanish, embedding dim]\n",
            "****\n",
            "r_encoder (512, 6, 64) [batch size, sequence length english, projection size]\n",
            "r_decoder (512, 7, 64) [batch size, sequence length spanish, projection size]\n",
            "****\n",
            "query (512, 7, 1, 64) [batch size, sequence length spanish, 1, projection size]\n",
            "value (512, 1, 6, 64) [batch size, 1, sequence length english, projection size]\n",
            "****\n",
            "score (512, 7, 6) [batch size,sequence length spanish, sequence length english]\n",
            "weights (512, 7, 6) [batch size, sequence length spanish, sequence length english]\n",
            "****\n",
            "context_vector (512, 7, 128) [batch size, sequence length spanish, encoder_states->embedding dim ]\n",
            "enhanced_encoding (512, 7, 256) [batch size, sequence length spanish, encoder_states->embedding dim + decoder_states->embedding dim]\n",
            "output_spa (512, 7, 5001) [batch size, sequence length spanish, vocabulary size+1]\n"
          ]
        }
      ]
    },
    {
      "cell_type": "markdown",
      "source": [
        "## **Self-Attention & Transformers**"
      ],
      "metadata": {
        "id": "D7CvAwaB-ggs"
      }
    },
    {
      "cell_type": "markdown",
      "source": [
        "### **Overview**\n",
        "\n",
        "The aim of this section is to build and train a Transformer model from scratch. For this, we will be using an English to Spanish translation dataset. We are going to perform machine translation from english to spanish using an encoder decoder architecture. \n",
        "\n",
        "**The Task:** Perform Neural Machine Translation from english to spanish.\n",
        "\n"
      ],
      "metadata": {
        "id": "S3yH6q94lJKI"
      }
    },
    {
      "cell_type": "markdown",
      "source": [
        "### **Dataset**\n",
        "\n",
        "The dataset consists of English to Spanish translations from http://www.manythings.org/ \n",
        "\n"
      ],
      "metadata": {
        "id": "HwQLea2c-vCg"
      }
    },
    {
      "cell_type": "markdown",
      "source": [
        "**Load Data**\n",
        "\n",
        "Load the english to spanish dataset"
      ],
      "metadata": {
        "id": "1UKv1rRKnyzK"
      }
    },
    {
      "cell_type": "code",
      "source": [
        "# Read the English to Spanish datafile into a pandas dataframe\n",
        "# Use columns [0,1] with tab as the seperator, no head\n",
        "# Set the names of the columns as \"English\" and \"Spanish\"\n",
        "file_url = 'https://storage.googleapis.com/cs109b/nlp/spa.txt'\n",
        "data = pd.read_csv(file_url, sep='\\t', header=None, usecols=[0,1], names=['English', 'Spanish'])"
      ],
      "metadata": {
        "id": "p3T73Ff8q2Qc"
      },
      "execution_count": null,
      "outputs": []
    },
    {
      "cell_type": "code",
      "source": [
        "# Take a quick look of the dataset\n",
        "print(\"Shape:\",data.shape)\n",
        "data.head(10)"
      ],
      "metadata": {
        "colab": {
          "base_uri": "https://localhost:8080/",
          "height": 381
        },
        "id": "JGMWMJP18mwc",
        "outputId": "7683a350-0ee3-4c43-b8ff-555ff7c67ebc"
      },
      "execution_count": null,
      "outputs": [
        {
          "output_type": "stream",
          "name": "stdout",
          "text": [
            "Shape: (118964, 2)\n"
          ]
        },
        {
          "output_type": "execute_result",
          "data": {
            "text/plain": [
              "  English     Spanish\n",
              "0     Go.         Ve.\n",
              "1     Go.       Vete.\n",
              "2     Go.       Vaya.\n",
              "3     Go.     Váyase.\n",
              "4     Hi.       Hola.\n",
              "5    Run!     ¡Corre!\n",
              "6    Run.     Corred.\n",
              "7    Who?     ¿Quién?\n",
              "8   Fire!     ¡Fuego!\n",
              "9   Fire!  ¡Incendio!"
            ],
            "text/html": [
              "\n",
              "  <div id=\"df-4214c394-e0b3-4bbd-bfcf-d7927b51f230\">\n",
              "    <div class=\"colab-df-container\">\n",
              "      <div>\n",
              "<style scoped>\n",
              "    .dataframe tbody tr th:only-of-type {\n",
              "        vertical-align: middle;\n",
              "    }\n",
              "\n",
              "    .dataframe tbody tr th {\n",
              "        vertical-align: top;\n",
              "    }\n",
              "\n",
              "    .dataframe thead th {\n",
              "        text-align: right;\n",
              "    }\n",
              "</style>\n",
              "<table border=\"1\" class=\"dataframe\">\n",
              "  <thead>\n",
              "    <tr style=\"text-align: right;\">\n",
              "      <th></th>\n",
              "      <th>English</th>\n",
              "      <th>Spanish</th>\n",
              "    </tr>\n",
              "  </thead>\n",
              "  <tbody>\n",
              "    <tr>\n",
              "      <th>0</th>\n",
              "      <td>Go.</td>\n",
              "      <td>Ve.</td>\n",
              "    </tr>\n",
              "    <tr>\n",
              "      <th>1</th>\n",
              "      <td>Go.</td>\n",
              "      <td>Vete.</td>\n",
              "    </tr>\n",
              "    <tr>\n",
              "      <th>2</th>\n",
              "      <td>Go.</td>\n",
              "      <td>Vaya.</td>\n",
              "    </tr>\n",
              "    <tr>\n",
              "      <th>3</th>\n",
              "      <td>Go.</td>\n",
              "      <td>Váyase.</td>\n",
              "    </tr>\n",
              "    <tr>\n",
              "      <th>4</th>\n",
              "      <td>Hi.</td>\n",
              "      <td>Hola.</td>\n",
              "    </tr>\n",
              "    <tr>\n",
              "      <th>5</th>\n",
              "      <td>Run!</td>\n",
              "      <td>¡Corre!</td>\n",
              "    </tr>\n",
              "    <tr>\n",
              "      <th>6</th>\n",
              "      <td>Run.</td>\n",
              "      <td>Corred.</td>\n",
              "    </tr>\n",
              "    <tr>\n",
              "      <th>7</th>\n",
              "      <td>Who?</td>\n",
              "      <td>¿Quién?</td>\n",
              "    </tr>\n",
              "    <tr>\n",
              "      <th>8</th>\n",
              "      <td>Fire!</td>\n",
              "      <td>¡Fuego!</td>\n",
              "    </tr>\n",
              "    <tr>\n",
              "      <th>9</th>\n",
              "      <td>Fire!</td>\n",
              "      <td>¡Incendio!</td>\n",
              "    </tr>\n",
              "  </tbody>\n",
              "</table>\n",
              "</div>\n",
              "      <button class=\"colab-df-convert\" onclick=\"convertToInteractive('df-4214c394-e0b3-4bbd-bfcf-d7927b51f230')\"\n",
              "              title=\"Convert this dataframe to an interactive table.\"\n",
              "              style=\"display:none;\">\n",
              "        \n",
              "  <svg xmlns=\"http://www.w3.org/2000/svg\" height=\"24px\"viewBox=\"0 0 24 24\"\n",
              "       width=\"24px\">\n",
              "    <path d=\"M0 0h24v24H0V0z\" fill=\"none\"/>\n",
              "    <path d=\"M18.56 5.44l.94 2.06.94-2.06 2.06-.94-2.06-.94-.94-2.06-.94 2.06-2.06.94zm-11 1L8.5 8.5l.94-2.06 2.06-.94-2.06-.94L8.5 2.5l-.94 2.06-2.06.94zm10 10l.94 2.06.94-2.06 2.06-.94-2.06-.94-.94-2.06-.94 2.06-2.06.94z\"/><path d=\"M17.41 7.96l-1.37-1.37c-.4-.4-.92-.59-1.43-.59-.52 0-1.04.2-1.43.59L10.3 9.45l-7.72 7.72c-.78.78-.78 2.05 0 2.83L4 21.41c.39.39.9.59 1.41.59.51 0 1.02-.2 1.41-.59l7.78-7.78 2.81-2.81c.8-.78.8-2.07 0-2.86zM5.41 20L4 18.59l7.72-7.72 1.47 1.35L5.41 20z\"/>\n",
              "  </svg>\n",
              "      </button>\n",
              "      \n",
              "  <style>\n",
              "    .colab-df-container {\n",
              "      display:flex;\n",
              "      flex-wrap:wrap;\n",
              "      gap: 12px;\n",
              "    }\n",
              "\n",
              "    .colab-df-convert {\n",
              "      background-color: #E8F0FE;\n",
              "      border: none;\n",
              "      border-radius: 50%;\n",
              "      cursor: pointer;\n",
              "      display: none;\n",
              "      fill: #1967D2;\n",
              "      height: 32px;\n",
              "      padding: 0 0 0 0;\n",
              "      width: 32px;\n",
              "    }\n",
              "\n",
              "    .colab-df-convert:hover {\n",
              "      background-color: #E2EBFA;\n",
              "      box-shadow: 0px 1px 2px rgba(60, 64, 67, 0.3), 0px 1px 3px 1px rgba(60, 64, 67, 0.15);\n",
              "      fill: #174EA6;\n",
              "    }\n",
              "\n",
              "    [theme=dark] .colab-df-convert {\n",
              "      background-color: #3B4455;\n",
              "      fill: #D2E3FC;\n",
              "    }\n",
              "\n",
              "    [theme=dark] .colab-df-convert:hover {\n",
              "      background-color: #434B5C;\n",
              "      box-shadow: 0px 1px 3px 1px rgba(0, 0, 0, 0.15);\n",
              "      filter: drop-shadow(0px 1px 2px rgba(0, 0, 0, 0.3));\n",
              "      fill: #FFFFFF;\n",
              "    }\n",
              "  </style>\n",
              "\n",
              "      <script>\n",
              "        const buttonEl =\n",
              "          document.querySelector('#df-4214c394-e0b3-4bbd-bfcf-d7927b51f230 button.colab-df-convert');\n",
              "        buttonEl.style.display =\n",
              "          google.colab.kernel.accessAllowed ? 'block' : 'none';\n",
              "\n",
              "        async function convertToInteractive(key) {\n",
              "          const element = document.querySelector('#df-4214c394-e0b3-4bbd-bfcf-d7927b51f230');\n",
              "          const dataTable =\n",
              "            await google.colab.kernel.invokeFunction('convertToInteractive',\n",
              "                                                     [key], {});\n",
              "          if (!dataTable) return;\n",
              "\n",
              "          const docLinkHtml = 'Like what you see? Visit the ' +\n",
              "            '<a target=\"_blank\" href=https://colab.research.google.com/notebooks/data_table.ipynb>data table notebook</a>'\n",
              "            + ' to learn more about interactive tables.';\n",
              "          element.innerHTML = '';\n",
              "          dataTable['output_type'] = 'display_data';\n",
              "          await google.colab.output.renderOutput(dataTable, element);\n",
              "          const docLink = document.createElement('div');\n",
              "          docLink.innerHTML = docLinkHtml;\n",
              "          element.appendChild(docLink);\n",
              "        }\n",
              "      </script>\n",
              "    </div>\n",
              "  </div>\n",
              "  "
            ]
          },
          "metadata": {},
          "execution_count": 162
        }
      ]
    },
    {
      "cell_type": "markdown",
      "source": [
        "**Add Start/End Tokens**\n",
        "\n",
        "Add start `<s>` and end `</s>` tokens to each word"
      ],
      "metadata": {
        "id": "PK1zV88zoPW0"
      }
    },
    {
      "cell_type": "code",
      "source": [
        "# For Spanish sentence in the dataframe \n",
        "# add the start <s> and end </s> tokens\n",
        "data.Spanish = '<s> '+data.Spanish+' </s>'"
      ],
      "metadata": {
        "id": "1OIdTW0Y8m18"
      },
      "execution_count": null,
      "outputs": []
    },
    {
      "cell_type": "code",
      "source": [
        "data.head(10)"
      ],
      "metadata": {
        "colab": {
          "base_uri": "https://localhost:8080/",
          "height": 363
        },
        "id": "lZ0tZZc9tXu9",
        "outputId": "cb2f2c41-326a-477f-f40e-88a9c72382f9"
      },
      "execution_count": null,
      "outputs": [
        {
          "output_type": "execute_result",
          "data": {
            "text/plain": [
              "  English              Spanish\n",
              "0     Go.         <s> Ve. </s>\n",
              "1     Go.       <s> Vete. </s>\n",
              "2     Go.       <s> Vaya. </s>\n",
              "3     Go.     <s> Váyase. </s>\n",
              "4     Hi.       <s> Hola. </s>\n",
              "5    Run!     <s> ¡Corre! </s>\n",
              "6    Run.     <s> Corred. </s>\n",
              "7    Who?     <s> ¿Quién? </s>\n",
              "8   Fire!     <s> ¡Fuego! </s>\n",
              "9   Fire!  <s> ¡Incendio! </s>"
            ],
            "text/html": [
              "\n",
              "  <div id=\"df-b765467b-06e6-4f63-980d-7626077488a4\">\n",
              "    <div class=\"colab-df-container\">\n",
              "      <div>\n",
              "<style scoped>\n",
              "    .dataframe tbody tr th:only-of-type {\n",
              "        vertical-align: middle;\n",
              "    }\n",
              "\n",
              "    .dataframe tbody tr th {\n",
              "        vertical-align: top;\n",
              "    }\n",
              "\n",
              "    .dataframe thead th {\n",
              "        text-align: right;\n",
              "    }\n",
              "</style>\n",
              "<table border=\"1\" class=\"dataframe\">\n",
              "  <thead>\n",
              "    <tr style=\"text-align: right;\">\n",
              "      <th></th>\n",
              "      <th>English</th>\n",
              "      <th>Spanish</th>\n",
              "    </tr>\n",
              "  </thead>\n",
              "  <tbody>\n",
              "    <tr>\n",
              "      <th>0</th>\n",
              "      <td>Go.</td>\n",
              "      <td>&lt;s&gt; Ve. &lt;/s&gt;</td>\n",
              "    </tr>\n",
              "    <tr>\n",
              "      <th>1</th>\n",
              "      <td>Go.</td>\n",
              "      <td>&lt;s&gt; Vete. &lt;/s&gt;</td>\n",
              "    </tr>\n",
              "    <tr>\n",
              "      <th>2</th>\n",
              "      <td>Go.</td>\n",
              "      <td>&lt;s&gt; Vaya. &lt;/s&gt;</td>\n",
              "    </tr>\n",
              "    <tr>\n",
              "      <th>3</th>\n",
              "      <td>Go.</td>\n",
              "      <td>&lt;s&gt; Váyase. &lt;/s&gt;</td>\n",
              "    </tr>\n",
              "    <tr>\n",
              "      <th>4</th>\n",
              "      <td>Hi.</td>\n",
              "      <td>&lt;s&gt; Hola. &lt;/s&gt;</td>\n",
              "    </tr>\n",
              "    <tr>\n",
              "      <th>5</th>\n",
              "      <td>Run!</td>\n",
              "      <td>&lt;s&gt; ¡Corre! &lt;/s&gt;</td>\n",
              "    </tr>\n",
              "    <tr>\n",
              "      <th>6</th>\n",
              "      <td>Run.</td>\n",
              "      <td>&lt;s&gt; Corred. &lt;/s&gt;</td>\n",
              "    </tr>\n",
              "    <tr>\n",
              "      <th>7</th>\n",
              "      <td>Who?</td>\n",
              "      <td>&lt;s&gt; ¿Quién? &lt;/s&gt;</td>\n",
              "    </tr>\n",
              "    <tr>\n",
              "      <th>8</th>\n",
              "      <td>Fire!</td>\n",
              "      <td>&lt;s&gt; ¡Fuego! &lt;/s&gt;</td>\n",
              "    </tr>\n",
              "    <tr>\n",
              "      <th>9</th>\n",
              "      <td>Fire!</td>\n",
              "      <td>&lt;s&gt; ¡Incendio! &lt;/s&gt;</td>\n",
              "    </tr>\n",
              "  </tbody>\n",
              "</table>\n",
              "</div>\n",
              "      <button class=\"colab-df-convert\" onclick=\"convertToInteractive('df-b765467b-06e6-4f63-980d-7626077488a4')\"\n",
              "              title=\"Convert this dataframe to an interactive table.\"\n",
              "              style=\"display:none;\">\n",
              "        \n",
              "  <svg xmlns=\"http://www.w3.org/2000/svg\" height=\"24px\"viewBox=\"0 0 24 24\"\n",
              "       width=\"24px\">\n",
              "    <path d=\"M0 0h24v24H0V0z\" fill=\"none\"/>\n",
              "    <path d=\"M18.56 5.44l.94 2.06.94-2.06 2.06-.94-2.06-.94-.94-2.06-.94 2.06-2.06.94zm-11 1L8.5 8.5l.94-2.06 2.06-.94-2.06-.94L8.5 2.5l-.94 2.06-2.06.94zm10 10l.94 2.06.94-2.06 2.06-.94-2.06-.94-.94-2.06-.94 2.06-2.06.94z\"/><path d=\"M17.41 7.96l-1.37-1.37c-.4-.4-.92-.59-1.43-.59-.52 0-1.04.2-1.43.59L10.3 9.45l-7.72 7.72c-.78.78-.78 2.05 0 2.83L4 21.41c.39.39.9.59 1.41.59.51 0 1.02-.2 1.41-.59l7.78-7.78 2.81-2.81c.8-.78.8-2.07 0-2.86zM5.41 20L4 18.59l7.72-7.72 1.47 1.35L5.41 20z\"/>\n",
              "  </svg>\n",
              "      </button>\n",
              "      \n",
              "  <style>\n",
              "    .colab-df-container {\n",
              "      display:flex;\n",
              "      flex-wrap:wrap;\n",
              "      gap: 12px;\n",
              "    }\n",
              "\n",
              "    .colab-df-convert {\n",
              "      background-color: #E8F0FE;\n",
              "      border: none;\n",
              "      border-radius: 50%;\n",
              "      cursor: pointer;\n",
              "      display: none;\n",
              "      fill: #1967D2;\n",
              "      height: 32px;\n",
              "      padding: 0 0 0 0;\n",
              "      width: 32px;\n",
              "    }\n",
              "\n",
              "    .colab-df-convert:hover {\n",
              "      background-color: #E2EBFA;\n",
              "      box-shadow: 0px 1px 2px rgba(60, 64, 67, 0.3), 0px 1px 3px 1px rgba(60, 64, 67, 0.15);\n",
              "      fill: #174EA6;\n",
              "    }\n",
              "\n",
              "    [theme=dark] .colab-df-convert {\n",
              "      background-color: #3B4455;\n",
              "      fill: #D2E3FC;\n",
              "    }\n",
              "\n",
              "    [theme=dark] .colab-df-convert:hover {\n",
              "      background-color: #434B5C;\n",
              "      box-shadow: 0px 1px 3px 1px rgba(0, 0, 0, 0.15);\n",
              "      filter: drop-shadow(0px 1px 2px rgba(0, 0, 0, 0.3));\n",
              "      fill: #FFFFFF;\n",
              "    }\n",
              "  </style>\n",
              "\n",
              "      <script>\n",
              "        const buttonEl =\n",
              "          document.querySelector('#df-b765467b-06e6-4f63-980d-7626077488a4 button.colab-df-convert');\n",
              "        buttonEl.style.display =\n",
              "          google.colab.kernel.accessAllowed ? 'block' : 'none';\n",
              "\n",
              "        async function convertToInteractive(key) {\n",
              "          const element = document.querySelector('#df-b765467b-06e6-4f63-980d-7626077488a4');\n",
              "          const dataTable =\n",
              "            await google.colab.kernel.invokeFunction('convertToInteractive',\n",
              "                                                     [key], {});\n",
              "          if (!dataTable) return;\n",
              "\n",
              "          const docLinkHtml = 'Like what you see? Visit the ' +\n",
              "            '<a target=\"_blank\" href=https://colab.research.google.com/notebooks/data_table.ipynb>data table notebook</a>'\n",
              "            + ' to learn more about interactive tables.';\n",
              "          element.innerHTML = '';\n",
              "          dataTable['output_type'] = 'display_data';\n",
              "          await google.colab.output.renderOutput(dataTable, element);\n",
              "          const docLink = document.createElement('div');\n",
              "          docLink.innerHTML = docLinkHtml;\n",
              "          element.appendChild(docLink);\n",
              "        }\n",
              "      </script>\n",
              "    </div>\n",
              "  </div>\n",
              "  "
            ]
          },
          "metadata": {},
          "execution_count": 164
        }
      ]
    },
    {
      "cell_type": "markdown",
      "source": [
        "**Split Data** \n",
        "We split data into train and test by randomly selecting 10% as the test set."
      ],
      "metadata": {
        "id": "fYEPvRq_J-o1"
      }
    },
    {
      "cell_type": "code",
      "source": [
        "test_percent = 0.10\n",
        "\n",
        "data_en = data.English.values\n",
        "data_sp = data.Spanish.values\n",
        "\n",
        "# Split data into train / validate\n",
        "split_outputs = train_test_split(data_en, data_sp, test_size=test_percent)\n",
        "train_en, test_en, train_sp, test_sp = split_outputs\n",
        "\n",
        "print(\"train_en count:\",len(train_en))\n",
        "print(\"test_en count:\",len(test_en))\n",
        "print(\"train_en count:\",len(train_sp))\n",
        "print(\"test_en count:\",len(test_sp))"
      ],
      "metadata": {
        "colab": {
          "base_uri": "https://localhost:8080/"
        },
        "id": "b0ZpfiCbJ_KL",
        "outputId": "f9fc01c1-cff4-45bc-a581-5c9ec44a9fff"
      },
      "execution_count": null,
      "outputs": [
        {
          "output_type": "stream",
          "name": "stdout",
          "text": [
            "train_en count: 107067\n",
            "test_en count: 11897\n",
            "train_en count: 107067\n",
            "test_en count: 11897\n"
          ]
        }
      ]
    },
    {
      "cell_type": "markdown",
      "source": [
        "### **Build Data Pipelines**"
      ],
      "metadata": {
        "id": "K8N5dzj5oAQf"
      }
    },
    {
      "cell_type": "markdown",
      "source": [
        "**Text Vectorization**\n",
        "\n",
        "[Reference](https://www.tensorflow.org/api_docs/python/tf/keras/layers/experimental/preprocessing/TextVectorization)\n"
      ],
      "metadata": {
        "id": "ZMqO0WXeoBVX"
      }
    },
    {
      "cell_type": "code",
      "source": [
        "vocab_size = 5000\n",
        "sequence_length = 20\n",
        "\n",
        "# Build a function to clean spanish text\n",
        "# Convert to lower case\n",
        "# filter out the special spanish token ¡ and ¿ commonly used in formal spanish\n",
        "strip_chars = '!\"#$%&\\'()*+,-.:;=?@[\\]^_`{|}~¿¡'\n",
        "def custom_standardization(input_string):\n",
        "    lowercase = tf.strings.lower(input_string)\n",
        "    return tf.strings.regex_replace(\n",
        "        lowercase, f\"[{re.escape(strip_chars)}]\", \"\")\n",
        "\n",
        "vectorization_eng = tf.keras.layers.TextVectorization(\n",
        "    max_tokens=vocab_size,\n",
        "    output_mode=\"int\",\n",
        "    output_sequence_length=sequence_length,\n",
        ")\n",
        "vectorization_spa = tf.keras.layers.TextVectorization(\n",
        "    max_tokens=vocab_size,\n",
        "    output_mode=\"int\",\n",
        "    output_sequence_length=sequence_length + 1,\n",
        "    standardize=custom_standardization,\n",
        ")"
      ],
      "metadata": {
        "id": "esKuYOeU8m4m"
      },
      "execution_count": null,
      "outputs": []
    },
    {
      "cell_type": "code",
      "source": [
        "# Fit both vectorizations on all the text in the dataframe for each language \n",
        "vectorization_eng.adapt(data.English)\n",
        "vectorization_spa.adapt(data.Spanish)"
      ],
      "metadata": {
        "id": "b0QMxVZ-8m7G"
      },
      "execution_count": null,
      "outputs": []
    },
    {
      "cell_type": "markdown",
      "source": [
        "View some tokenized text"
      ],
      "metadata": {
        "id": "atuMLV6-tsin"
      }
    },
    {
      "cell_type": "code",
      "source": [
        "for idx in range(5):\n",
        "  print(\"English:\",vectorization_eng(data.English[idx]))\n",
        "  print(\"Spanish:\",vectorization_spa(data.Spanish[idx]))"
      ],
      "metadata": {
        "colab": {
          "base_uri": "https://localhost:8080/"
        },
        "id": "aMgQT0Qrtu-P",
        "outputId": "a1ee16f4-6e34-4a67-ef1f-bdfb55ce8470"
      },
      "execution_count": null,
      "outputs": [
        {
          "output_type": "stream",
          "name": "stdout",
          "text": [
            "English: tf.Tensor([41  0  0  0  0  0  0  0  0  0  0  0  0  0  0  0  0  0  0  0], shape=(20,), dtype=int64)\n",
            "Spanish: tf.Tensor(\n",
            "[  2 368   3   0   0   0   0   0   0   0   0   0   0   0   0   0   0   0\n",
            "   0   0   0], shape=(21,), dtype=int64)\n",
            "English: tf.Tensor([41  0  0  0  0  0  0  0  0  0  0  0  0  0  0  0  0  0  0  0], shape=(20,), dtype=int64)\n",
            "Spanish: tf.Tensor(\n",
            "[   2 1329    3    0    0    0    0    0    0    0    0    0    0    0\n",
            "    0    0    0    0    0    0    0], shape=(21,), dtype=int64)\n",
            "English: tf.Tensor([41  0  0  0  0  0  0  0  0  0  0  0  0  0  0  0  0  0  0  0], shape=(20,), dtype=int64)\n",
            "Spanish: tf.Tensor(\n",
            "[  2 504   3   0   0   0   0   0   0   0   0   0   0   0   0   0   0   0\n",
            "   0   0   0], shape=(21,), dtype=int64)\n",
            "English: tf.Tensor([41  0  0  0  0  0  0  0  0  0  0  0  0  0  0  0  0  0  0  0], shape=(20,), dtype=int64)\n",
            "Spanish: tf.Tensor([2 1 3 0 0 0 0 0 0 0 0 0 0 0 0 0 0 0 0 0 0], shape=(21,), dtype=int64)\n",
            "English: tf.Tensor(\n",
            "[2271    0    0    0    0    0    0    0    0    0    0    0    0    0\n",
            "    0    0    0    0    0    0], shape=(20,), dtype=int64)\n",
            "Spanish: tf.Tensor(\n",
            "[   2 2066    3    0    0    0    0    0    0    0    0    0    0    0\n",
            "    0    0    0    0    0    0    0], shape=(21,), dtype=int64)\n"
          ]
        }
      ]
    },
    {
      "cell_type": "markdown",
      "source": [
        "**Create TF Datasets**"
      ],
      "metadata": {
        "id": "O60XCTjlpGx3"
      }
    },
    {
      "cell_type": "code",
      "source": [
        "batch_size = 256\n",
        "train_shuffle_buffer_size = 5000\n",
        "\n",
        "# Write a mapping function to process the input data\n",
        "# First vectorize both english and spanish.\n",
        "# Since we are using the decoder to predict the next word, the target language must be processed. \n",
        "# The source data and target must be shifted by one position\n",
        "def process(eng, spa):\n",
        "    eng = vectorization_eng(eng)\n",
        "    spa = vectorization_spa(spa)\n",
        "    return (eng,spa[:, :-1]), spa[:, 1:]\n",
        "\n",
        "# Create TF Dataset\n",
        "#train_data = tf.data.Dataset.from_tensor_slices((data.English, data.Spanish))\n",
        "train_data = tf.data.Dataset.from_tensor_slices((train_en, train_sp))\n",
        "test_data = tf.data.Dataset.from_tensor_slices((test_en, test_sp))\n",
        "\n",
        "#############\n",
        "# Train data\n",
        "#############\n",
        "# Apply all data processing logic\n",
        "train_data = train_data.shuffle(buffer_size=train_shuffle_buffer_size)\n",
        "train_data = train_data.batch(batch_size)\n",
        "train_data = train_data.map(process, num_parallel_calls=AUTOTUNE)\n",
        "train_data = train_data.prefetch(AUTOTUNE)\n",
        "\n",
        "#############\n",
        "# Test data\n",
        "#############\n",
        "# Apply all data processing logic\n",
        "test_data = test_data.batch(batch_size)\n",
        "test_data = test_data.map(process, num_parallel_calls=AUTOTUNE)\n",
        "test_data = test_data.prefetch(AUTOTUNE)\n",
        "\n",
        "print(\"train_data\",train_data)\n",
        "print(\"test_data\",test_data)"
      ],
      "metadata": {
        "colab": {
          "base_uri": "https://localhost:8080/"
        },
        "id": "a7n_Q0CarXP5",
        "outputId": "bbb2ade9-aeb3-4e4c-de71-527726690980"
      },
      "execution_count": null,
      "outputs": [
        {
          "output_type": "stream",
          "name": "stdout",
          "text": [
            "train_data <PrefetchDataset element_spec=((TensorSpec(shape=(None, 20), dtype=tf.int64, name=None), TensorSpec(shape=(None, 20), dtype=tf.int64, name=None)), TensorSpec(shape=(None, 20), dtype=tf.int64, name=None))>\n",
            "test_data <PrefetchDataset element_spec=((TensorSpec(shape=(None, 20), dtype=tf.int64, name=None), TensorSpec(shape=(None, 20), dtype=tf.int64, name=None)), TensorSpec(shape=(None, 20), dtype=tf.int64, name=None))>\n"
          ]
        }
      ]
    },
    {
      "cell_type": "code",
      "source": [
        "# View some data from tf.data dataset\n",
        "for (ip_eng,ip_spa),output in train_data.take(1):\n",
        "  print(ip_eng.shape,ip_spa.shape,output.shape)\n",
        "  \n",
        "  print(\"Input English:\",ip_eng[0])\n",
        "  print(\"Input Spanish:\",ip_spa[0])\n",
        "  print(\"Output Spanish:\",output[0])\n",
        "  print(\"****************\")"
      ],
      "metadata": {
        "colab": {
          "base_uri": "https://localhost:8080/"
        },
        "id": "ErBpm5SExTH4",
        "outputId": "01891216-3256-41f4-a42c-ccf2434ae1cc"
      },
      "execution_count": null,
      "outputs": [
        {
          "output_type": "stream",
          "name": "stdout",
          "text": [
            "(256, 20) (256, 20) (256, 20)\n",
            "Input English: tf.Tensor([24 20  0  0  0  0  0  0  0  0  0  0  0  0  0  0  0  0  0  0], shape=(20,), dtype=int64)\n",
            "Input Spanish: tf.Tensor([ 2 29 25  3  0  0  0  0  0  0  0  0  0  0  0  0  0  0  0  0], shape=(20,), dtype=int64)\n",
            "Output Spanish: tf.Tensor([29 25  3  0  0  0  0  0  0  0  0  0  0  0  0  0  0  0  0  0], shape=(20,), dtype=int64)\n",
            "****************\n"
          ]
        }
      ]
    },
    {
      "cell_type": "markdown",
      "source": [
        "### **Build Transformer Model**"
      ],
      "metadata": {
        "id": "2CQJR27GMtBC"
      }
    },
    {
      "cell_type": "markdown",
      "source": [
        "**Positional Encoding**\n",
        "\n",
        "Build a function to encode positions using the following technical details:\n",
        "\n",
        "<img src=\"https://storage.googleapis.com/public_colab_images/nlp/positional-encoding-math.png\" width=\"600\"/>"
      ],
      "metadata": {
        "id": "wq5_ioKYNhTZ"
      }
    },
    {
      "cell_type": "code",
      "source": [
        "def generate_positional_encoding(max_length, model_size):\n",
        "    pos_enc = np.array(\n",
        "        [\n",
        "            [pos / np.power(10000, 2 * (j // 2) / model_size) for j in range(model_size)]\n",
        "            if pos != 0\n",
        "            else np.zeros(model_size)\n",
        "            for pos in range(max_length)\n",
        "        ]\n",
        "    )\n",
        "    pos_enc[1:, 0::2] = np.sin(pos_enc[1:, 0::2])  # dim 2i\n",
        "    pos_enc[1:, 1::2] = np.cos(pos_enc[1:, 1::2])  # dim 2i+1\n",
        "    return pos_enc"
      ],
      "metadata": {
        "id": "1Kw3JcKDNlQU"
      },
      "execution_count": null,
      "outputs": []
    },
    {
      "cell_type": "markdown",
      "source": [
        "**PositionalEmbedding Layer**\n",
        "\n",
        "We will build an positional embedding layer the combines token embedding as well as the postinal encoding\n",
        "\n",
        "<img src=\"https://storage.googleapis.com/public_colab_images/nlp/positional-encoding-layer.png\" width=\"800px\"/>"
      ],
      "metadata": {
        "id": "bbM8lTt5IsP5"
      }
    },
    {
      "cell_type": "code",
      "source": [
        "class PositionalEmbedding(tf.keras.layers.Layer):\n",
        "    def __init__(self, sequence_length, input_dim, output_dim):\n",
        "      super().__init__()\n",
        "\n",
        "      # Layer parameters\n",
        "      self.sequence_length = sequence_length\n",
        "      self.input_dim = input_dim\n",
        "      self.output_dim = output_dim\n",
        "\n",
        "      # Token embedding Layer\n",
        "      self.token_embeddings = tf.keras.layers.Embedding(input_dim=input_dim, output_dim=output_dim)\n",
        "\n",
        "      # self.positional_embeddings = tf.keras.layers.Embedding(input_dim=sequence_length, output_dim=output_dim)\n",
        "\n",
        "    def call(self, inputs):\n",
        "      # Generate token embeddings\n",
        "      embedded_tokens = self.token_embeddings(inputs)\n",
        "      # Add positional encoding to the token embedding\n",
        "      return embedded_tokens + generate_positional_encoding(self.sequence_length,self.output_dim)\n",
        "\n",
        "      # embedded_positions = self.positional_embeddings(inputs)\n",
        "      # return embedded_tokens + embedded_positions\n",
        "\n",
        "    def compute_mask(self, inputs, mask=None):\n",
        "        return tf.math.not_equal(inputs, 0)"
      ],
      "metadata": {
        "id": "ZYXYEVisIn76"
      },
      "execution_count": null,
      "outputs": []
    },
    {
      "cell_type": "markdown",
      "source": [
        "**Encoder Layer**\n",
        "\n",
        "We will build an encoder layer based on the following architecture\n",
        "\n",
        "<img src=\"https://storage.googleapis.com/public_colab_images/nlp/transformer_layer.png\" width=\"800px\"/>"
      ],
      "metadata": {
        "id": "H7oRNiNBAfmc"
      }
    },
    {
      "cell_type": "code",
      "source": [
        "class EncoderLayer(tf.keras.layers.Layer):\n",
        "    def __init__(self, embed_dim, dense_dim, num_heads):\n",
        "        super().__init__()\n",
        "        # Layer parameters\n",
        "        self.embed_dim = embed_dim\n",
        "        self.dense_dim = dense_dim\n",
        "        self.num_heads = num_heads\n",
        "\n",
        "        # MultiHeadAttention Layer - Self Attention\n",
        "        self.attention = tf.keras.layers.MultiHeadAttention(num_heads=num_heads, key_dim=embed_dim//num_heads)\n",
        "        # Normalization Layer\n",
        "        self.attention_norm = tf.keras.layers.LayerNormalization()\n",
        "\n",
        "        # Dense projection\n",
        "        self.dense_proj = tf.keras.Sequential(\n",
        "            [tf.keras.layers.Dense(units=dense_dim, activation=\"relu\"),\n",
        "             tf.keras.layers.Dense(units=embed_dim)]\n",
        "        )\n",
        "        # Normalization Layer\n",
        "        self.dense_projection_norm = tf.keras.layers.LayerNormalization()\n",
        "\n",
        "    def call(self, inputs, mask=None):\n",
        "        # Apply mask\n",
        "        if mask is not None:\n",
        "            mask = mask[:, tf.newaxis, :]\n",
        "        \n",
        "        # Compute Self Attention\n",
        "        self_attention = self.attention(query=inputs, value=inputs, key=inputs, attention_mask=mask)\n",
        "        # Apply Normalization + Residual connection\n",
        "        self_attention = self.attention_norm(inputs + self_attention)\n",
        "\n",
        "        # Apply projection\n",
        "        layer_output = self.dense_proj(self_attention)\n",
        "        # Apply Normalization + Residual connection\n",
        "        layer_output = self.dense_projection_norm(self_attention + layer_output)\n",
        "        return layer_output"
      ],
      "metadata": {
        "id": "4dAWhI60AiL8"
      },
      "execution_count": null,
      "outputs": []
    },
    {
      "cell_type": "markdown",
      "source": [
        "**Decoder Layer**\n",
        "\n",
        "We will build a decoder layer based on the following architecture\n",
        "\n",
        "<img src=\"https://storage.googleapis.com/public_colab_images/nlp/decoder_layer.png\" width=\"800px\"/>"
      ],
      "metadata": {
        "id": "rhz0FoOeI1ac"
      }
    },
    {
      "cell_type": "code",
      "source": [
        "class DecoderLayer(tf.keras.layers.Layer):\n",
        "    def __init__(self, embed_dim, dense_dim, num_heads):\n",
        "        super().__init__()\n",
        "        # Layer parameters\n",
        "        self.embed_dim = embed_dim\n",
        "        self.dense_dim = dense_dim\n",
        "        self.num_heads = num_heads\n",
        "\n",
        "        # MultiHeadAttention Layer - Self Attention\n",
        "        self.attention_1 = tf.keras.layers.MultiHeadAttention(num_heads=num_heads, key_dim=embed_dim//num_heads)\n",
        "        # Normalization Layer\n",
        "        self.attention_1_norm = tf.keras.layers.LayerNormalization()\n",
        "\n",
        "        # MultiHeadAttention Layer - Encoder-Decoder Attention\n",
        "        self.attention_2 = tf.keras.layers.MultiHeadAttention(num_heads=num_heads, key_dim=embed_dim//num_heads)\n",
        "        # Normalization Layer\n",
        "        self.attention_2_norm = tf.keras.layers.LayerNormalization()\n",
        "\n",
        "        # Dense projection\n",
        "        self.dense_proj = tf.keras.Sequential(\n",
        "            [tf.keras.layers.Dense(units=dense_dim, activation=\"relu\"),\n",
        "             tf.keras.layers.Dense(units=embed_dim)]\n",
        "        )\n",
        "        # Normalization Layer\n",
        "        self.dense_projection_norm = tf.keras.layers.LayerNormalization()\n",
        "\n",
        "        # Set supports_masking to ensures that the layer will propagate its input mask to its outputs\n",
        "        self.supports_masking = True\n",
        "\n",
        "    def call(self, inputs, encoder_outputs, mask=None):\n",
        "        # Get Causal Attention Mask\n",
        "        causal_mask = self.get_causal_attention_mask(inputs)\n",
        "        # Apply Padding Masks\n",
        "        if mask is not None:\n",
        "            padding_mask = tf.cast(mask[:, tf.newaxis, :], dtype=\"int32\")\n",
        "            padding_mask = tf.minimum(padding_mask, causal_mask)\n",
        "        \n",
        "        # Compute Self Attention\n",
        "        self_attention = self.attention_1(query=inputs,\n",
        "                                          value=inputs,\n",
        "                                          key=inputs,\n",
        "                                          attention_mask=causal_mask)\n",
        "        # Apply Normalization + Residual connection\n",
        "        self_attention = self.attention_1_norm(inputs + self_attention)\n",
        "\n",
        "        # Compute Encoder-Decoder Attention\n",
        "        encoder_decoder_attention = self.attention_2(query=self_attention,\n",
        "                                              value=encoder_outputs,\n",
        "                                              key=encoder_outputs,attention_mask=padding_mask)\n",
        "        # Apply Normalization + Residual connection\n",
        "        encoder_decoder_attention = self.attention_2_norm(self_attention + encoder_decoder_attention)\n",
        "\n",
        "        # Apply projection\n",
        "        layer_output = self.dense_proj(encoder_decoder_attention)\n",
        "        # Apply Normalization + Residual connection\n",
        "        layer_output = self.dense_projection_norm(encoder_decoder_attention + layer_output)\n",
        "        return layer_output\n",
        "    \n",
        "    def get_causal_attention_mask(self, inputs):\n",
        "        \"\"\"\n",
        "        Method to generates a causal mask:\n",
        "        Since the decoder looks at the entire sequence at once, we need to mask the future\n",
        "        \"\"\"\n",
        "        input_shape = tf.shape(inputs)\n",
        "        batch_size, sequence_length = input_shape[0], input_shape[1]\n",
        "        i = tf.range(sequence_length)[:, tf.newaxis]\n",
        "        j = tf.range(sequence_length)\n",
        "        mask = tf.cast(i >= j, dtype=\"int32\")\n",
        "        mask = tf.reshape(mask, (1, input_shape[1], input_shape[1]))\n",
        "        mult = tf.concat(\n",
        "            [tf.expand_dims(batch_size, -1),\n",
        "             tf.constant([1, 1], dtype=tf.int32)], axis=0)\n",
        "        return tf.tile(mask, mult)"
      ],
      "metadata": {
        "id": "vKr_d-kZI3p9"
      },
      "execution_count": null,
      "outputs": []
    },
    {
      "cell_type": "code",
      "source": [
        "def build_transformer_model(vocab_size, embedding_dim, num_heads, dense_dim):\n",
        "\n",
        "  # Model input\n",
        "  inputs_eng = tf.keras.Input(shape=[None])\n",
        "  inputs_spa = tf.keras.Input(shape=[None])\n",
        "\n",
        "  # Build the Encoder\n",
        "  encoder_ip = PositionalEmbedding(sequence_length, vocab_size, embedding_dim)(inputs_eng)\n",
        "  encoder_op = EncoderLayer(embedding_dim, dense_dim, num_heads)(encoder_ip) # Stack multiple layers\n",
        "\n",
        "  # Build the Decoder\n",
        "  decoder_ip = PositionalEmbedding(sequence_length, vocab_size, embedding_dim)(inputs_spa)\n",
        "  decoder_op = DecoderLayer(embedding_dim, dense_dim, num_heads)(decoder_ip, encoder_op) # Stack multiple layers\n",
        "  decoder_op = tf.keras.layers.Dropout(0.4)(decoder_op)\n",
        "\n",
        "  # Output Layer\n",
        "  output = tf.keras.layers.Dense(units=vocab_size, activation=\"softmax\")(decoder_op)\n",
        "\n",
        "  # Create model\n",
        "  model = tf.keras.Model([inputs_eng, inputs_spa], output)\n",
        "\n",
        "  return model"
      ],
      "metadata": {
        "id": "ofjeCvSPPgRU"
      },
      "execution_count": null,
      "outputs": []
    },
    {
      "cell_type": "code",
      "source": [
        "############################\n",
        "# Training Params\n",
        "############################\n",
        "learning_rate = 0.001\n",
        "epochs = 15\n",
        "embedding_dim = 256\n",
        "dense_dim = 2048\n",
        "num_heads = 8\n",
        "\n",
        "# Free up memory\n",
        "tf.keras.backend.clear_session()\n",
        "\n",
        "# Build the model\n",
        "model = build_transformer_model(vocab_size, embedding_dim, num_heads, dense_dim)\n",
        "\n",
        "# Print the model architecture\n",
        "print(model.summary())\n",
        "\n",
        "# Optimizer\n",
        "optimizer = tf.keras.optimizers.RMSprop(learning_rate=learning_rate)\n",
        "# Loss\n",
        "loss = tf.keras.losses.sparse_categorical_crossentropy\n",
        "\n",
        "# Compile\n",
        "model.compile(loss=loss,\n",
        "                  optimizer=optimizer)\n",
        "\n",
        "# Train model\n",
        "start_time = time.time()\n",
        "training_results = model.fit(\n",
        "        train_data,\n",
        "        epochs=epochs, \n",
        "        verbose=1)\n",
        "execution_time = (time.time() - start_time)/60.0\n",
        "print(\"Training execution time (mins)\",execution_time)"
      ],
      "metadata": {
        "colab": {
          "base_uri": "https://localhost:8080/"
        },
        "id": "rVhl0MTDRfZn",
        "outputId": "cc011517-fd28-4258-f0ed-6958d1200040"
      },
      "execution_count": null,
      "outputs": [
        {
          "output_type": "stream",
          "name": "stdout",
          "text": [
            "Model: \"model\"\n",
            "__________________________________________________________________________________________________\n",
            " Layer (type)                   Output Shape         Param #     Connected to                     \n",
            "==================================================================================================\n",
            " input_1 (InputLayer)           [(None, None)]       0           []                               \n",
            "                                                                                                  \n",
            " input_2 (InputLayer)           [(None, None)]       0           []                               \n",
            "                                                                                                  \n",
            " positional_embedding (Position  (None, 20, 256)     1280000     ['input_1[0][0]']                \n",
            " alEmbedding)                                                                                     \n",
            "                                                                                                  \n",
            " positional_embedding_1 (Positi  (None, 20, 256)     1280000     ['input_2[0][0]']                \n",
            " onalEmbedding)                                                                                   \n",
            "                                                                                                  \n",
            " encoder_layer (EncoderLayer)   (None, 20, 256)      1315072     ['positional_embedding[0][0]']   \n",
            "                                                                                                  \n",
            " decoder_layer (DecoderLayer)   (None, 20, 256)      1578752     ['positional_embedding_1[0][0]', \n",
            "                                                                  'encoder_layer[0][0]']          \n",
            "                                                                                                  \n",
            " dropout (Dropout)              (None, 20, 256)      0           ['decoder_layer[0][0]']          \n",
            "                                                                                                  \n",
            " dense_4 (Dense)                (None, 20, 5000)     1285000     ['dropout[0][0]']                \n",
            "                                                                                                  \n",
            "==================================================================================================\n",
            "Total params: 6,738,824\n",
            "Trainable params: 6,738,824\n",
            "Non-trainable params: 0\n",
            "__________________________________________________________________________________________________\n",
            "None\n",
            "Epoch 1/15\n",
            "419/419 [==============================] - 16s 26ms/step - loss: 1.7750\n",
            "Epoch 2/15\n",
            "419/419 [==============================] - 11s 26ms/step - loss: 1.4351\n",
            "Epoch 3/15\n",
            "419/419 [==============================] - 11s 26ms/step - loss: 1.1990\n",
            "Epoch 4/15\n",
            "419/419 [==============================] - 11s 26ms/step - loss: 1.0330\n",
            "Epoch 5/15\n",
            "419/419 [==============================] - 11s 26ms/step - loss: 0.9188\n",
            "Epoch 6/15\n",
            "419/419 [==============================] - 11s 26ms/step - loss: 0.8364\n",
            "Epoch 7/15\n",
            "419/419 [==============================] - 11s 26ms/step - loss: 0.7726\n",
            "Epoch 8/15\n",
            "419/419 [==============================] - 11s 26ms/step - loss: 0.7230\n",
            "Epoch 9/15\n",
            "419/419 [==============================] - 11s 26ms/step - loss: 0.6815\n",
            "Epoch 10/15\n",
            "419/419 [==============================] - 11s 26ms/step - loss: 0.6497\n",
            "Epoch 11/15\n",
            "419/419 [==============================] - 11s 26ms/step - loss: 0.6210\n",
            "Epoch 12/15\n",
            "419/419 [==============================] - 11s 26ms/step - loss: 0.5962\n",
            "Epoch 13/15\n",
            "419/419 [==============================] - 11s 26ms/step - loss: 0.5750\n",
            "Epoch 14/15\n",
            "419/419 [==============================] - 11s 26ms/step - loss: 0.5570\n",
            "Epoch 15/15\n",
            "419/419 [==============================] - 11s 26ms/step - loss: 0.5396\n",
            "Training execution time (mins) 4.412055265903473\n"
          ]
        }
      ]
    },
    {
      "cell_type": "markdown",
      "source": [
        "**Make Predictions**"
      ],
      "metadata": {
        "id": "tjvzou36JNeY"
      }
    },
    {
      "cell_type": "code",
      "source": [
        "spa_vocab = vectorization_spa.get_vocabulary()\n",
        "spa_index_lookup = dict(zip(range(len(spa_vocab)), spa_vocab))\n",
        "max_decoded_sentence_length = sequence_length\n",
        "\n",
        "def decode_sequence(input_sentence):\n",
        "    tokenized_input_sentence = vectorization_eng([input_sentence])\n",
        "    decoded_sentence = \"<s>\"\n",
        "    for i in range(max_decoded_sentence_length):\n",
        "        tokenized_target_sentence = vectorization_spa(\n",
        "            [decoded_sentence])[:, :-1]\n",
        "        predictions = model(\n",
        "            [tokenized_input_sentence, tokenized_target_sentence])\n",
        "        sampled_token_index = np.argmax(predictions[0, i, :])\n",
        "        sampled_token = spa_index_lookup[sampled_token_index]\n",
        "        decoded_sentence += \" \" + sampled_token\n",
        "        if sampled_token == \"</s>\":\n",
        "            break\n",
        "    return decoded_sentence\n",
        "\n",
        "for _ in range(20):\n",
        "    input_sentence = random.choice(data.English)\n",
        "    print(\"-\")\n",
        "    print(input_sentence)\n",
        "    print(decode_sequence(input_sentence))"
      ],
      "metadata": {
        "id": "OZkcnh1T8nUp",
        "colab": {
          "base_uri": "https://localhost:8080/"
        },
        "outputId": "d4e354cd-4d87-46ee-bf7c-21510311fec1"
      },
      "execution_count": null,
      "outputs": [
        {
          "output_type": "stream",
          "name": "stdout",
          "text": [
            "-\n",
            "The students wanted us to help push the car.\n",
            "<s> los estudiantes nos [UNK] para que [UNK] el coche </s>\n",
            "-\n",
            "You should get to school.\n",
            "<s> deberías ir a la escuela </s>\n",
            "-\n",
            "We've got a lot to learn.\n",
            "<s> tenemos mucho que aprender </s>\n",
            "-\n",
            "You're just like your sister.\n",
            "<s> eres tan a tu hermana </s>\n",
            "-\n",
            "Mary is weird.\n",
            "<s> maría es raro </s>\n",
            "-\n",
            "He heard a noise from the kitchen.\n",
            "<s> Él escuchó un ruido en la cocina </s>\n",
            "-\n",
            "Tom locked himself in the bathroom and started to cry.\n",
            "<s> tom se quedó en el baño y empezó a llorar </s>\n",
            "-\n",
            "I can't keep lying to Tom.\n",
            "<s> no puedo seguir a tom </s>\n",
            "-\n",
            "There are many wild animals in this area.\n",
            "<s> hay muchos animales en esta máquina de este [UNK] </s>\n",
            "-\n",
            "Monks used to play tennis in monasteries.\n",
            "<s> [UNK] solía jugar al tenis en [UNK] </s>\n",
            "-\n",
            "Your office is nicer than mine.\n",
            "<s> tu oficina es más [UNK] que la mía </s>\n",
            "-\n",
            "They can't hear me either.\n",
            "<s> no pueden [UNK] </s>\n",
            "-\n",
            "I do not like wearing anybody else's clothes.\n",
            "<s> no me veo la [UNK] a nadie de la [UNK] </s>\n",
            "-\n",
            "Across the street there's a white house.\n",
            "<s> [UNK] la calle tiene una casa blanca en la casa </s>\n",
            "-\n",
            "A lot of car accidents occurred last year.\n",
            "<s> un montón de [UNK] [UNK] el año pasado </s>\n",
            "-\n",
            "This is obscene.\n",
            "<s> esto es [UNK] </s>\n",
            "-\n",
            "The keys are on the table.\n",
            "<s> las llaves están sobre la mesa </s>\n",
            "-\n",
            "Do you shower every day?\n",
            "<s> te [UNK] todos los días </s>\n",
            "-\n",
            "How far is it from here to the station? \"It is about two miles.\"\n",
            "<s> qué distancia hay que está la estación hasta la estación hay de cinco millas </s>\n",
            "-\n",
            "He solved the problem with ease.\n",
            "<s> Él resolvió el problema con facilidad </s>\n"
          ]
        }
      ]
    },
    {
      "cell_type": "markdown",
      "source": [
        "## **Text Classification using Language Models**"
      ],
      "metadata": {
        "id": "yhYyV7wZ-vLh"
      }
    },
    {
      "cell_type": "markdown",
      "metadata": {
        "id": "kqX23tjULArl"
      },
      "source": [
        "### **Overview**\n",
        "\n",
        "In this section, we're going to be working with news articles from CNN. We will explore the dataset, prepare the data for modeling, and try different models, which includes simple networks, networks with embeddings, networks with pretrained embeddings and BERT.\n",
        "\n",
        "**The Task:** Classify news articles into three categories, namely politics, health, and entertainment."
      ]
    },
    {
      "cell_type": "markdown",
      "metadata": {
        "id": "FfBllrkLLEbO"
      },
      "source": [
        "### **Dataset**\n",
        "\n",
        "The dataset consists of news articles pulled from CNN in the politics, health, and entertainment categories. There are about 300 articles in each category. "
      ]
    },
    {
      "cell_type": "markdown",
      "metadata": {
        "id": "5rMrEtY9LMY0"
      },
      "source": [
        "**Download**\n",
        "\n",
        "Download the datasets to colab."
      ]
    },
    {
      "cell_type": "code",
      "metadata": {
        "colab": {
          "base_uri": "https://localhost:8080/"
        },
        "id": "2kWoaaJLLMwg",
        "outputId": "a8894fd8-0818-4a45-cb28-6c7e92d43dac"
      },
      "source": [
        "start_time = time.time()\n",
        "# Dowload\n",
        "dataset_path = tf.keras.utils.get_file(\n",
        "    origin=\"https://github.com/dlops-io/datasets/releases/download/v1.0/news300.zip\",\n",
        "    extract=True)\n",
        "dataset_path = dataset_path.replace(\".zip\",\"\")\n",
        "print(\"dataset_path:\",dataset_path)\n",
        "glove_path = tf.keras.utils.get_file(\n",
        "    origin=\"https://github.com/shivasj/dataset-store/releases/download/v3.0/glove.6B.100d.txt.zip\",\n",
        "    extract=True)\n",
        "glove_path = glove_path.replace(\".zip\",\"\")\n",
        "print(\"glove_path:\",glove_path)\n",
        "execution_time = (time.time() - start_time)/60.0\n",
        "print(\"Download execution time (mins)\",execution_time)"
      ],
      "execution_count": null,
      "outputs": [
        {
          "output_type": "stream",
          "name": "stdout",
          "text": [
            "dataset_path: /root/.keras/datasets/news300\n",
            "glove_path: /root/.keras/datasets/glove.6B.100d.txt\n",
            "Download execution time (mins) 0.052287558714548744\n"
          ]
        }
      ]
    },
    {
      "cell_type": "markdown",
      "metadata": {
        "id": "Rslcjmd2Lh7o"
      },
      "source": [
        "**Load Data**\n",
        "\n",
        "* Read-in data as lists.\n",
        "* Each element in data_x is the content of a sample, namely an news article. \n",
        "* Each element in data_y is the label of that article."
      ]
    },
    {
      "cell_type": "code",
      "metadata": {
        "colab": {
          "base_uri": "https://localhost:8080/"
        },
        "id": "s2AmGLNSLkcz",
        "outputId": "79eadbaf-41fb-4343-fc87-4c24b9385492"
      },
      "source": [
        "# Get the labels from folder names\n",
        "label_names = os.listdir(dataset_path)\n",
        "\n",
        "# Number of unique labels\n",
        "num_classes = len(label_names) \n",
        "# Create label index for easy lookup\n",
        "label2index = dict((name, index) for index, name in enumerate(label_names))\n",
        "index2label = dict((index, name) for index, name in enumerate(label_names))\n",
        "\n",
        "print(\"Number of classes:\", num_classes)\n",
        "print(\"Labels:\", label_names)\n",
        "\n",
        "# Generate a list of labels and path to text\n",
        "data_x = []\n",
        "data_y = []\n",
        "\n",
        "for label in label_names:\n",
        "  text_files = os.listdir(os.path.join(dataset_path,label))\n",
        "  data_x.extend([os.path.join(dataset_path,label,f) for f in text_files])\n",
        "  data_y.extend([label for f in text_files])\n",
        "\n",
        "# Load the text content\n",
        "for idx, path in enumerate(data_x):\n",
        "  # Load text\n",
        "  with open(path) as file:\n",
        "    data_x[idx] = file.read()\n",
        "\n",
        "# Preview\n",
        "print(\"data_x count:\",len(data_x))\n",
        "print(\"data_y count:\",len(data_y))\n",
        "print(\"Label counts:\",np.unique(data_y, return_counts=True))"
      ],
      "execution_count": null,
      "outputs": [
        {
          "output_type": "stream",
          "name": "stdout",
          "text": [
            "Number of classes: 3\n",
            "Labels: ['health', 'entertainment', 'politics']\n",
            "data_x count: 920\n",
            "data_y count: 920\n",
            "Label counts: (array(['entertainment', 'health', 'politics'], dtype='<U13'), array([310, 310, 300]))\n"
          ]
        }
      ]
    },
    {
      "cell_type": "markdown",
      "metadata": {
        "id": "mNFmLU6JLnzT"
      },
      "source": [
        "**View Text**\n",
        "\n",
        "Let's take a look at the data."
      ]
    },
    {
      "cell_type": "code",
      "metadata": {
        "colab": {
          "base_uri": "https://localhost:8080/"
        },
        "id": "Q_xFL7u8LqiT",
        "outputId": "787bf839-7478-42ea-9c4b-833a2ff99b71"
      },
      "source": [
        "# Generate a random sample of index\n",
        "data_samples = np.random.randint(0,high=len(data_x)-1, size=10)\n",
        "for i,data_idx in enumerate(data_samples):\n",
        "  print(\"Label:\",data_y[data_idx],\", Text:\",data_x[data_idx])"
      ],
      "execution_count": null,
      "outputs": [
        {
          "output_type": "stream",
          "name": "stdout",
          "text": [
            "Label: health , Text: Doctors' difficult decisions: Dr. Sanjay Gupta's coronavirus podcast for April 7  (CNN)As coronavirus cases continue to overwhelm hospitals, resources such as ventilators are in short supply. CNN's Chief Medical Correspondent Dr. Sanjay Gupta speaks to NYU's director of medical ethics about some of the tough questions facing health care professionals on the front line. Dr. Darria Long: I'm definitely concerned once we see that peak, we won't have enough of the ventilators, masks, medications, doctors, any number of things, and we have to decide where to allocate those resources. Which is not a decision that I or any doctor wants to be making.  Gupta: That's Dr. Darria Long, an ER physician in Tennessee. Like many other doctors around the world, she's facing some difficult decisions about how to best care for her patients.   Unfortunately, resources are finite, so how do doctors decide who gets potentially lifesaving treatment ... And who doesn't?  It's a terrible situation to be in. One we've seen some doctors in Italy already face. And a scene we may see in the United States as health care workers now warn they are running low on supplies.  I'm Dr. Sanjay Gupta, CNN's chief medical correspondent. And this is \"Coronavirus: Fact vs. Fiction.\"  Vice President Mike Pence: They call it modeling, Wolf, where they look at what's happened around the world. We think Italy may be the most comparable area to the United States at this point. Gupta: Last Wednesday, Vice President Mike Pence told my colleague Wolf Blitzer that the United States looks set to follow the same trajectory as Italy.  That is grim news.   Some hospitals in Italy were so overwhelmed with patients, they reported having to choose which patients to prioritize.  You may be wondering how they make those tough decisions.   My friend Arthur Caplan is a CNN medical analyst and director of the medical ethics division at NYU's Langone Medical Center. He's the guy everyone turns to when there are thorny questions to answer.  I asked him for his thoughts on the situation in Italy.  Caplan: I hear in Italy, they've been cutting out people based on age, and I don't think that's the right thing to do. Age is an indicator, as you know, of likelihood to do well if you get a treatment, but it's not an absolute indicator. You can have a very sick 25-year-old with underlying diseases and a pretty healthy 55-year-old with not much else wrong except, say, respiratory failure from the virus. So co-morbidity -- meaning underlying disease, trying to make a prediction of who will recover -- that's the first cut, I think, in trying to decide how to allocate beds and ventilators and personnel. Then you probably move on to age. Gupta: You know, I think as people have been watching the news lately, for some people to hear that we have to be thinking about the value, actually placing a value on human life, is horrifying to them. I get a lot of e-mails and comments on social media about it. But in a way, government and economists, we already do this, right?   Caplan: Every day. I know people find it terrifying. Some find it disgusting or repugnant. But if you're building a road and you decide how you're going to put out your signage and what kind of barriers are out there, I've seen the engineers sit down and say, \"Well, we're going to accept a $9 million value on a human life and we're going to accept X number of deaths due to truck and car accidents.\" Even if you will, we say in our health care system, \"Here's the insurance, and this is what it costs for you get access to a heart transplant.  This is what it cost for you to get access to a lung transplant.\" And you might be thinking, well, that's not really putting a value on human life. But de facto, when you look at the business side of health care, you are pricing things. And those who can't pay, well, they fall out of the system. They're rationed away.  Gupta: And if you take that a step further, we're hearing about doctors who are having to make difficult decisions about who's going to be able to get treatment and who doesn't. Who gets a ventilator, who does not. That's not the kind of decision, thankfully, Art, that I've ever had to make. But I imagine as a bioethicist, you think about that all the time. How do you navigate through it?   Caplan: I was around when we decided to set up a system to ration access to organs for transplantation. Before about 1985, we didn't really have a system. Some organs were going to waste because people weren't sharing them. There were people coming from overseas who were very rich, who were buying access to organs ahead of Americans. And finally, politicians, Congress, decided they wanted a system, and I was asked to help design it. And very briefly, what we did was we said, \"Look, in distributing organs, we ought to try and maximize the number of lives saved with these scarce resources.\" So we've been rationing those organs, decades.  Very difficult decisions, miserable decisions. But Americans will accept rationing if they think the system is fair. That's what I've learned. Meaning if everybody gets an equal opportunity to be considered, people understand that not everyone can live. They don't want to see bias. They don't want to see discrimination. They don't want us to give all the organs to rich people or celebrities. They don't want us to give all the organs to people who are white or people who are heterosexual. Everybody wants to get a chance. If they feel that's there, that's what I call fairness. Then you can come up with a rule of justice, like maximize your chance to save a life. Gupta: You talk about organs specifically, but that could be as it is, a discussion point replaced with ventilators. It could be replaced with even testing, it sounds like, in terms of navigating through these tough decisions.  Caplan: Correct. Gupta: A lot of people were struck by the idea that some NBA players, senators, many of whom didn't even have symptoms, were able to get a test, whereas a lot of people who have symptoms are still waiting. People were very upset by that. Is that for the same reasons you're saying, just a obvious lack of fairness? Caplan: Absolutely. So one issue is, well, who do you want to give testing priority to? A lot of people might say health care workers. You don't want an infected person working on you. You don't want them infecting each other. And there are other groups you can think of, too. You might give priority, for example, to people who are trying to do research on cures. You might pay attention to food handlers and so on. When you see the rich or celebrities, basketball stars, politicians getting tested, sometimes even asymptomatically, you start to think this is inequitable. This will not be accepted by the American people, nor should it.  Gupta: You know, it's interesting, I've traveled to so many places around the world, and it always strikes me that, many Americans are not really used to dealing with scarce resources when it comes to things like that. I mean, there are obviously people who don't have adequate access to health care and all that. But from a resource standpoint, for many people, they are sort of hearing about this and grappling with this for the first time. Caplan: I think that's true. I think the majority of Americans are used to abundance. And in a weird way, some of our major health problems have been due to abundance. Too much food, too much opportunity to sit at the desk and see the world through the Internet. Not enough exercise. You know, the lifestyle diseases, if you will, of having too much, of having resources that are everywhere. So switching around drastically and starting to tell someone, \"It may not be there for you. It may be that we have to ration. It may be that you have to wait and wait in line.\" That does not go over well. And I think that's going to reverberate with political consequences as well as health consequences.  Gupta: I don't want to minimize this at all but I always imagine that a from a science fiction perspective, that a common threat to the world would galvanize the world in some way, you know, break down barriers and end sort of infighting. Is there anything that you think good will come out of all this?  Caplan: I do. Surprisingly, I do, and I'm not trying to deny the fact that there are people now worrying about getting on a ventilator or health care workers thinking, \"Should I go to work? It's dangerous there, and I have kids at home, or I'm pregnant.\" I get that. But changes longer term: we're all going to see more telemedicine. The fact that we're using it now as a way to do primary care. It's just ... It was happening, but slowly. Now I think it's going to explode and become the way many of us get primary care, maybe even other kinds of care.  You can see other things happening. Better pre-deployment of resources in the health care system undoubtedly will happen. I don't think we'll ever get stuck this way. I think we're going to get the idea that having a little bit in the bank, having a little bit surplus, whether it's ingredients for drugs, manufacturing capability to make vaccines, a bigger national reserve not just of oil, but of medical supplies, ventilators, equipment, hospital ships. I would be very surprised if we didn't go in that direction.  Gupta: As you heard Art explain, the situation facing doctors and health care professionals around the world right now is heart-wrenching.  Here in the United States, medical professionals are putting plans in place, knowing a surge on resources will strike. And this isn't just in cities like New York but in nearly every state across the country. The only way we can help them is by staying home and adhering to social distancing guidelines. That will help flatten the curve and reduce the burden they will face.  It really is essential. All of us have a part to play in getting this situation under control.  We need to do it for ourselves, and do it for our health care workers. If you have questions, you can record them as a voice memo and email them to asksanjay@cnn.com -- we might even include them in our next podcast.   We'll be back tomorrow. Thanks for listening. You can also head to cnn.com/coronavirus and sign up for our daily newsletter, which features the latest updates on this fast-moving story from CNN journalists around the globe.  For a full listing of episodes of Coronavirus: Fact vs. Fiction, visit the podcast's page here.  \n",
            "Label: health , Text: Adults with Covid-19 about 'twice as likely' to say they have dined at a restaurant, CDC study suggests  (CNN)Adults who tested positive for Covid-19 were approximately twice as likely to have reported dining at a restaurant in the 14 days before becoming ill than those who tested negative, according to a new study from the US Centers for Disease Control and Prevention. \"In addition to dining at a restaurant, case-patients were more likely to report going to a bar/coffee shop, but only when the analysis was restricted to participants without close contact with persons with known COVID-19 before illness onset,\" the researchers wrote. The study, published on Thursday, included data on 314 adults who were tested for Covid-19 in July because they were experiencing symptoms; 154 tested positive and 160 tested negative. The tests were administered at 11 different health care facilities across 10 US states: California, Colorado, Maryland, Massachusetts, Minnesota, North Carolina, Ohio, Tennessee, Utah and Washington. The researchers -- from the CDC and other institutions -- took a close look at how those patients responded to questions about wearing masks and various activities in the community, including whether they recently dined at a restaurant, hung out a bar or went to a gym, for instance. Forty-two percent of the adults who tested positive, the data showed, reported having close contact with at least one person known to have Covid-19, compared with 14% of those who tested negative -- and most of the close contacts, 51%, were family members.  The researchers also found that 71% of the adults with Covid-19 and 74% of those who tested negative reported always using a face covering while in public. There were no significant differences between those who tested positive versus negative when it came to shopping, gathering with fewer than 10 people in a home, going to an office, going to a gym, going to a salon, using public transportation or attending religious gatherings, according to the study. However, people who tested positive, the data showed, were more likely to have reported dining at a restaurant in the two weeks before they started to feel sick. The study comes with some limitations, including that more research is needed to determine whether similar findings would emerge among a larger group of patients, and the question assessing dining at a restaurant did not distinguish between indoor versus outdoor dining. \"Reports of exposures in restaurants have been linked to air circulation. Direction, ventilation, and intensity of airflow might affect virus transmission, even if social distancing measures and mask use are implemented according to current guidance,\" the researchers wrote.  \"Masks cannot be effectively worn while eating and drinking, whereas shopping and numerous other indoor activities do not preclude mask use.\" Taking precautions The Association of Food and Drug Officials issued a response to the CDC study on Thursday. The response noted some of the study's limitations, including that the 10 states in the report had greatly varying restrictions on restaurants, overall control measures varied greatly in those communities, and it was unclear whether people who said they went to restaurants and bars were in the community more frequently overall, increasing their risk of exposure to the coronavirus. \"Sound public health limitations in bars, taverns, and restaurants include limiting alcohol service to accompanying food orders, not allowing hours of operation to extend into the late nights, and limiting occupancy levels and table arrangements to those levels which allow for social distancing. Further, as always, pick-up and delivery remain very low-risk options to obtain food from our favorite bars, taverns, and restaurants,\" Steven Mandernach, executive director of AFDO, said in the association's statement. \"The hospitality industry has responded and evolved to continue to reduce the risk of transmission of COVID-19 to their customers,\" he said. As states reopen, the CDC's guidelines for restaurants and bars list dining options from the lowest to the highest risk on the agency's website: Lowest risk: Food service limited to drive-through, delivery, takeout and curbside pickup.More risk: On-site dining limited to outdoor seating. Seating capacity reduced to allow tables to be spaced at least 6 feet apart.Even more risk: On-site dining with both indoor and outdoor seating. Seating capacity reduced to allow tables to be spaced at least 6 feet apart.Highest risk: On-site dining with both indoor and outdoor seating. Seating capacity not reduced and tables not spaced at least 6 feet apart. CNN's Sandee LaMotte contributed to this story. \n",
            "Label: entertainment , Text: Analysis: Why Trump's newest credibility crisis feels like deja vu  New York (CNN Business)If you experienced deja vu over the weekend, if you sensed that you've seen this all before, you are not alone. This moment is certainly unique: A pandemic that has paralyzed normal life, a president hospitalized with a virus, and a public unsure who or what to trust. But this moment is also informed by years of deja vu context.  Think about it: Questions about whether Donald Trump's doctors are telling the whole truth? These questions pre-date his inauguration. Concerns about the White House's complete lack of credibility? Those concerns have been a daily feature since January 2017. Distress about the dysfunctional leadership at the top of the federal government? Again, since 2017. So I had deja vu when I read this headline atop Julie Pace's story for The Associated Press: \"Trump faces credibility crisis over health scare.\" And this headline on Niall Stanage's column for The Hill: \"Trump grapples with credibility gap in crisis.\" That gap has deepened every day Trump has been in office. It is definitely not a new story. But it still bears repeating at times like this, when the White House desperately needs to be believed.  As Pace wrote, \"credibility in a crisis is paramount\" for any president, \"yet Trump has squandered widespread credibility from the very start of his presidency, spending his first full day in office disputing official tallies of the crowd size at his inauguration and asking Americans to disregard photographic evidence showing that he drew fewer people to the National Mall in Washington than his predecessor.\" It is clear now that the president was much, much sicker than the White House admitted on Friday. The lies, a defining characteristic of the Trump years, are piling up yet again.  Newspapers and news websites are full of stories about what CNN's Kevin Liptak and Kaitlan Collins called an \"astonishing gap in Americans' knowledge of their leader's health.\" Well-placed government officials have been kept in the dark too — another sign of the dysfunction that has bedeviled the Trump administration since day one. So the feeling of deja vu is real in more ways than one. CNN Business Managing Editor Alex Koppelman pointed out another example of this phenomenon on Saturday: When ESPN broke the news on Saturday that Patriots quarterback Cam Newton had tested positive, Koppelman tweeted, \"This is really starting to feel like the Tom Hanks/Rita Wilson/NBA week back in March.\" Indeed, the newfound anxiety about the unsparing nature of the coronavirus — with so many Republican leaders getting sick — was reminiscent of mid-March, when household names were infected and the gravity of the pandemic suddenly set in. \"Except, of course,\" Koppelman wrote, \"that there's little hope this time that leaders will suddenly realize they need to take this thing more seriously.\" A version of this article first appeared in the \"Reliable Sources\" newsletter. You can sign up for free right here.  \n",
            "Label: entertainment , Text: Matthew Broderick still remembers his most famous lines from 'Ferris Bueller's Day Off'  (CNN)The cast of \"Ferris Bueller's Day Off\" reunited for a virtual chat that revisited the movie, and even featured a special appearance by Jake Gyllenhaal, a superfan of the 1986 hit. Cast members Matthew Broderick, Alan Ruck, Lyman Ward, Cindy Pickett, Mia Sara and Jennifer Grey all joined the discussion from their homes for an episode of Josh Gad's \"Reunited Apart.\" While Broderick remembered nearly all of his famous lines word for word, the cast also wanted to hear Ben Stein, the high school teacher who droned on during attendance, \"Bueller?... Bueller?... Bueller?\" repeat the famous line.   Gyllenhaal quizzed the cast with some \"Ferris\" trivia, asking the meaning behind the license plates in the movie, and inquiring about how many wardrobe changes Ferris has on the day he decides to cut school. The cast also remembered writer-director John Hughes, who died in 2009.  \n",
            "Label: entertainment , Text: Doja Cat tested positive for coronavirus after downplaying it   (CNN)Back in early March Doja Cat had some words for those she said were unnecessarily afraid of Covid-19. During an Instagram Live on her verified account, the sometimes controversial rapper and singer said she didn't fear the virus and had some NSFW words for those who did. \"It's a flu,\" she told her followers. \"You just take some Mucinex (a cold and flu medication) and drink water and tea and sleep. That's all you gotta do.\" She has now revealed that she contracted coronavirus. The \"Say So\" star told Capital XTRA that she was unsure as to how she had contracted it, but has since recovered. \"I'm okay now,\" she said. \"It was a four-day symptom freakout, but I'm fine now.\" Doja Cat made headlines in May when she was accused of having participated in racist conversations online in the past and a song she released in 2015 titled \"Dindu Nuffin\" resurfaced. The song's title refers to a racist slur used to mock victims of police brutality. The 24-year-old artist denied participating in racist conversations online.  \n",
            "Label: politics , Text: Longest Serving US Senators Fast Facts  (CNN)Here's a look at the top 25 longest-serving senators in US history. The Top Twenty-Five as of 1/3/2020 Names in bold are currently serving in the US Senate. 1) Robert C. Byrd (D-WV), 51 years, 5 months, 26 daysJanuary 3, 1959-June 28, 2010 2) Daniel K. Inouye (D-HI), 49 years, 11 months, 15 daysJanuary 3, 1963-December 17, 2012 3) Strom Thurmond (R-SC), 47 years, 5 months, 8 daysDecember 14, 1954-April 4, 1956 and November 7, 1956-January 3, 2003 4) Edward M. Kennedy (D-MA), 46 years, 9 months, 19 daysNovember 7, 1962-his death on August 25, 2009 5) Patrick Leahy (D-VT), 45 yearsJanuary 3, 1975-present 6) Orrin Hatch (R-UT), 42 yearsJanuary 3, 1977-January 3, 2019 7) Carl T. Hayden (D-AZ), 41 years, 9 months, 30 daysMarch 4, 1927-January 3, 1969 8) John C. Stennis (D-MS), 41 years, 1 month, 29 daysNovember 5, 1947-January 3, 1989 9) Theodore F. Stevens (R-AK), 40 years, 10 daysDecember 24, 1968-January 3, 2009 10) Thad Cochran (R-MS), 39 years, 3 months, 6 days December 27, 1978-April 1, 2018 11) Charles E. Grassley (R-IA), 39 yearsJanuary 3, 1981-present 12) Ernest F. Hollings (D-SC), 38 years, 1 month, 25 daysNovember 9, 1966-January 3, 2005 13) Richard B. Russell (D-GA), 38 years, 10 daysJanuary 12, 1933-January 21, 1971  14) Russell Long (D-LA), 38 years, 3 daysDecember 31, 1948-January 3, 1987 15) Francis E. Warren (R-WY), 37 years, 4 daysNovember 18, 1890-March 3, 1893 and March 4, 1895-November 24, 1929 16) James O. Eastland (D-MS), 36 years, 2 months, 24 days June 30, 1941-September 28, 1941 and January 3, 1943-December 27, 1978 17) Warren Magnuson (D-WA), 36 years, 20 daysDecember 14, 1944-January 3, 1981 18) Joe Biden (D-DE), 36 years, 13 days January 3, 1973-January 15, 2009  19) Pete V. Domenici (R-NM), 36 years January 3, 1973-January 3, 2009  19) Carl Levin (D-MI), 36 yearsJanuary 3, 1979-January 3, 2015 19) Richard Lugar (R-IN), 36 years January 3, 1977-January 3, 2013 19) Claiborne Pell (D-RI), 36 years January 3, 1961-January 3, 1997 23) Kenneth McKellar (D-TN), 35 years, 10 months March 4, 1917-January 3, 1953 24) Milton R. Young (R-ND), 35 years, 9 months, 22 daysMarch 12, 1945-January 3, 1981 25) Ellison D. Smith (D-SC), 35 years, 8 months, 13 daysMarch 4, 1909-November 17, 1944  \n",
            "Label: entertainment , Text: Shane Dawson is the latest big YouTuber to apologize for racist videos   (CNN)By now, the garden variety YouTube apology is an easily recognizable art form: Puffy eyes, a sparse background, a vague title --  and in the middle of it, a famous creator who's done something very, very wrong.  The latest star to tread this familiar road is also one of the platform's earliest success stories. Shane Dawson, who has been active on YouTube for 12 years and whose main channel boasts 22.6 million subscribers, recently posted a video apologizing for, among other things, using blackface and saying the N-word in his early videos.  In the 20-minute video, titled \"Taking accountability,\" the 31-year-old Dawson apologizes for early videos in which he played \"stereotypes of Black people, or Asian people, or Mexicans, or pretty much every race.\"  \"I'm sorry that I added to the normalization of blackface, or the normalization of saying the n-word,\" he says.  Shane Dawson was among the first crop of young people to make it big on YouTube. In 2008 when Dawson first started making videos, he was about 20 years old and the nascent YouTube was far from the star-making, paradigm-shifting online giant it would become. Dawson initially began his career with comedy sketches, but found larger success with documentary-style content, conspiracy deep-dives and interviews with other YouTube celebrities. His apology video has more than 10 million views.  In detailing his past transgressions, Dawson also makes it clear that his sudden mea culpa was inspired by the coming-clean of another influential YoTube elder, Jenna Marbles.  Marbles recently announced she was leaving YouTube after being called out for a 2011 video in which she impersonates Nicki Minaj. Her departure was mourned by many in the YouTube community who claim Marbles, 33, was one of the platform's most important and conscientious creators. Her announcement also led some fans to point the finger at Dawson and others whom they felt deserved more criticism.  Dawson and Marbles are the latest public names forced to reckon with their past as the country undergoes a cultural audit after weeks of protests and the high-profile deaths of several Black Americans. Brands are changing their racially-tinged names, states are reconsidering their problematic symbols, and influential creators who have built their careers online are learning that the internet really is forever.   \n",
            "Label: politics , Text: Fact check: At Florida rally, Trump continues his attacks against imaginary version of Joe Biden Washington (CNN)President Donald Trump returned to the rally stage on Monday with a slew of attacks on opponent Joe Biden. Or, rather, on an imaginary version of Joe Biden. With three weeks left to go in the presidential election campaign, Trump continues to try to frighten voters about supposed Biden policy positions that the former vice president does not actually endorse. At Trump's first rally since he was hospitalized for the coronavirus, an hour-long performance in Sanford, Florida, the President delivered at least eight false or misleading warnings about what Biden plans to do in office. Trump said, for example, that Biden would \"destroy protections for pre-existing conditions.\" That's an egregious lie. Biden is running on preserving and strengthening Obamacare, the law that created the protections. Trump himself, conversely, is trying to get the courts to kill Obamacare, and he has not presented any plan to create similar protections if the Republican lawsuit succeeds. Trump alleged that Biden has \"a plan to eliminate US borders.\" This is nonsense. Biden is proposing a major liberalization of immigration policy, but he isn't seeking to get rid of borders themselves. Trump also claimed that Biden would \"outlaw the private health insurance plans of over 180 million Americans who love those plans.\" But Biden has been unwavering in his insistence that Americans who have private health insurance would be able to keep it under his administration.  In fact, Biden ran for the Democratic nomination as a forceful opponent of the single-payer \"Medicare for All\" proposals that would eliminate most private insurance plans. He has instead proposed a \"public option\" that would allow people to voluntarily enroll in a Medicare-like government insurance program. (There are some legitimate concerns that a public option might reduce the availability of private insurance over time, but it's just wrong to say Biden would \"outlaw\" private plans.) Railing against Biden some more, Trump claimed that \"he'll ban charter schools.\" Again, that is not an actual Biden policy. A party unity task force appointed by Biden and former rival Sen. Bernie Sanders recommended a ban on federal funding to for-profit charter schools, but that is not a total ban, and Biden's campaign said in a statement to CNN that he does not oppose \"high-performing public charters.\" Trump said Biden would \"destroy your suburbs.\" That is, again, absurd; Biden has simply proposed to provide federal support for the creation of affordable housing, in suburbs and elsewhere, and to revive an Obama-era anti-segregation rule Trump has abandoned. Trump said Biden would \"dismantle your police departments.\" This, too, is baseless. The federal government is not in charge of the size or structure of local police departments, and Biden, who has repeatedly said he opposes the \"defund the police\" movement, is proposing a $300 million increase in federal funding for community policing programs.   Trump said Biden \"wants to quadruple your taxes.\" Not even close, according to both Biden himself and independent analyses. And Trump repeated his claim that Biden \"wants to\" impose a \"draconian unscientific lockdown\" that would crush the economic recovery. In reality, Biden has not expressed any desire for a lockdown. He said in an August interview that he would support a lockdown specifically in the event that scientists said a lockdown was necessary to deal with a virus crisis; he then walked that comment back, saying in September, \"There is going to be no need, in my view, to be able to shut down the whole economy.\"  We'll add one caveat. We can't definitively fact check the future, and it is obviously possible that Biden would pursue some policies as president that differed from his campaign promises.  Still, though. There is just no real basis for a whole lot of what Trump is saying about his opponent.  \n",
            "Label: health , Text: How to celebrate Easter and Passover during a pandemic  (CNN)If there's anything families around the world are demonstrating as we approach Passover and Easter, it's the English proverb, \"Necessity is the mother of invention.\" With people under various restrictions on movement, including stay-at-home orders and self-isolation, families are devising alternative ways to observe the spring holidays. They include streaming online Easter church services, hosting virtual Passover Seder dinners, holding family-only egg hunts in the backyard and more. The goal is to comply with social distancing guidelines by celebrating together -- but apart -- to prevent further spread of the coronavirus. However, some families may still be planning to celebrate the holidays with extended family as they usually would -- something experts say should not happen.  \"Many people have a powerful need and desire to be with family during the holidays. This is both for the companionship and to provide support,\" said Joshua Coleman, a psychologist in private practice in Oakland, California and senior fellow with the Council on Contemporary Families. \"That reality may short out their capacity to appropriately weigh that desire against the risk of contagion. In addition, we're used to associating contagious diseases with the demonstration of obvious symptoms or distress. So the absence of those may also cause people to ignore the very real dangers of potential infection,\" he said.  The virus can be transmitted by people who aren't yet showing symptoms, according to the US Centers for Disease Control and Prevention.  \"We're all better off staying at home and we're helping each other more by just embracing the technology,\" said Melissa Sorrentino of Lynnfield, Massachusetts. She's hosting a virtual Easter celebration this year. Here are some ways you can celebrate Easter or Passover this year and create fond memories in the middle of all the chaos.  How to celebrate Easter A central theme across planning for religious holidays this year is to do it virtually.  \"We are speaking of downloading a multi-video chat app for Easter,\" said Steven McCoy, a journalist and founder of Spoken Entertainment from Newark, New Jersey. \"Easter has always been big in our family so we wanted to ensure we still celebrate it.\" The McCoy family's plan is to get together with extended family via video chat all day, and paint Easter eggs over a web cam. They'll do what McCoy called an \"Easter Quarantine Egg Hunt\" by hiding the eggs within their camera-framed space and giving each player three chances to guess where the egg might be.  \"I find that it is imperative to always have alternative ideas. I look at it as a first aid kit celebration,\" McCoy said. \"Finding a way to celebrate the holidays with your family is so important. [I'm] so grateful for technology!\"  Families don't have to hold back on dressing up this year. Sorrentino and her family plan to mimic the Front Steps Project, where photographers (from a distance) take portraits of families posed near their front steps. Her daughters will set up a tripod so they can still take a family Easter photo even without a photographer.  \"It is a way to get dressed instead of staying in your pajamas all day and being depressed that you're not seeing family,\" Sorrentino said.  Her family's evening activities are made possible by Zoom. This way, the extended families can still have dinner, coffee and dessert together; play charades and other games; and allow the kids to see their cousins.  \"Even though we can't physically be next to each other, we still can be with each other. We can still have all the same conversations and enjoy each other's company,\" Sorrentino said. If you're concerned about missing church on Easter Sunday, you can attend an online service or search for a drive-in service in your area. Maybe participate in a virtual egg decorating contest.  Some people are organizing Easter egg hunts in their neighborhoods. It sounds counterintuitive to social distancing guidelines, but it works by families hanging pictures of Easter eggs on their front door or windows. Parents can then take turns walking their kids around the block to find which homes have eggs. The eggs will have a number next to them so children can keep track of how many they find without picking them up.  An adult in the neighborhood can also organize a social distancing visit from the Easter Bunny by donning a costume and waving to little ones from afar.  \"Both of these activities sound reasonable and pose no risk so long as people maintain appropriate distancing, and the kids don't pick up the eggs,\" said Dr. Daniel Kuritzkes, chief of the Division of Infectious Diseases at Brigham and Women's Hospital in Boston.  \"People who have been diagnosed with Covid-19 should not participate (stay inside!), nor should they be preparing eggs to hide on their lawns or porches, in case young children impulsively rush to pick them up.\"  Easter means a lot to the McCoy family.   \"My family and I are disappointed that we can't be together on Easter this year, especially after so many absences throughout the year due to everyone's work schedules.  Easter means a lot to us as it is the celebration of the resurrection of Jesus Christ,\" McCoy said.  \"However, we are so grateful that everyone is alive and well as we plan to get through this pandemic together -- even if it means we have to be creative during our time separated.\" Honoring the Passover Seder  A virtual Passover Seder is the way to go this year, but it can be complicated because it's more than \"just the communal family dinner,\" said Rachelle Feldman of Princeton, New Jersey.  \"It is taking part from beginning to end in the actual service, the Seder of how we remember each step, and how we left Egypt, and how we were led to Israel and everything in the middle of that journey,\" she said.  Typically, extended families and guests come together for the Seder. This year, Feldman will celebrate the Seder via Zoom with her immediate family members who are all in different states: her husband is in Florida, while her daughter is in New York and her son is in Pennsylvania.  Feldman has already ordered the symbolic foods that are must-haves on the Seder plate: maror (bitter herbs) and chazeret (horseradish and onions); charoset; matzoh; and more.  If you're having trouble locating Seder plate ingredients, there are lists of acceptable substitutions. Families hosting virtual Seders can still organize who will take on which roles, including the readers of the Haggadah and which children or young adults will read the four questions.  When the time comes for a piece of matzoh to be hidden and then found after the meal, each family can do so in their individual home, said Katie Bieber Ogg of Brooklyn, New York. Ogg will participate in a virtual Seder.  Families can still tell stories together, say blessings and sing songs of praise during the dinner.  Central to the Seder is inviting guests who are less fortunate or without family. Some people are dropping off Seder boxes at others' doors, so they're not left behind.  Having a virtual Seder is about more than continuing a tradition, Feldman said.  \"It's not just maintaining normalcy in a time where people don't have any,\" Feldman said.  \"It's sustaining who we are as a people, and this is so important to us, that we recognize the significance of this particular holiday, that we have a stronger obligation to keep it, maintain it, to share it and not forget.\"  \n",
            "Label: entertainment , Text: Sophie Turner and Joe Jonas welcome baby  (CNN)Joe Jonas and Sophie Turner have welcomed their first child.  \"Sophie Turner and Joe Jonas are delighted to announce the birth of their baby,\" a representative for Turner said in a statement provided to CNN. No further details were provided.  The couple married last year in two ceremonies -- a casual affair in Las Vegas and a more lavish event in France.  Jonas, 30, is a member of The Jonas Brothers. Turner, 24, is best known for her role as Sansa Stark in HBO's \"Game of Thrones.\"     \n"
          ]
        }
      ]
    },
    {
      "cell_type": "markdown",
      "metadata": {
        "id": "dTSURd6wL_3c"
      },
      "source": [
        "**Split Data** \n",
        "We split data into train and validation by randomly selecting 20% as the validation set."
      ]
    },
    {
      "cell_type": "code",
      "metadata": {
        "colab": {
          "base_uri": "https://localhost:8080/"
        },
        "id": "qZeruausMAS8",
        "outputId": "e5810284-9e9a-4034-9c85-d91fd7eacc60"
      },
      "source": [
        "validation_percent = 0.20\n",
        "\n",
        "# Split data into train / validate\n",
        "train_x, validate_x, train_y, validate_y = train_test_split(data_x, data_y, test_size=validation_percent)\n",
        "\n",
        "print(\"train_x count:\",len(train_x))\n",
        "print(\"validate_x count:\",len(validate_x))"
      ],
      "execution_count": null,
      "outputs": [
        {
          "output_type": "stream",
          "name": "stdout",
          "text": [
            "train_x count: 736\n",
            "validate_x count: 184\n"
          ]
        }
      ]
    },
    {
      "cell_type": "code",
      "source": [
        "# Text processing parameters\n",
        "max_tokens = 15000\n",
        "sequence_length = 1000\n",
        "\n",
        "# Convert all y labels to numbers\n",
        "train_processed_y = [label2index[label] for label in train_y]\n",
        "validate_processed_y = [label2index[label] for label in validate_y]\n",
        "\n",
        "# Converts to y to binary class matrix (One-hot-encoded)\n",
        "train_processed_y = tf.keras.utils.to_categorical(train_processed_y, num_classes=num_classes, dtype='float32')\n",
        "validate_processed_y = tf.keras.utils.to_categorical(validate_processed_y, num_classes=num_classes, dtype='float32')\n",
        "\n",
        "# Create text only tf.data\n",
        "text_data = tf.data.Dataset.from_tensor_slices(train_x)"
      ],
      "metadata": {
        "id": "_CPD_7qtPR6F"
      },
      "execution_count": null,
      "outputs": []
    },
    {
      "cell_type": "markdown",
      "source": [
        "### **Text Classificaton Models**"
      ],
      "metadata": {
        "id": "0rPbdystQDnE"
      }
    },
    {
      "cell_type": "code",
      "source": [
        "BATCH_SIZE = 32\n",
        "\n",
        "def build_tf_data(train_x, validate_x, train_processed_y, validate_processed_y, text_vectorizer):  \n",
        "  \n",
        "  TRAIN_SHUFFLE_BUFFER_SIZE = len(train_x)\n",
        "  VALIDATION_SHUFFLE_BUFFER_SIZE = len(validate_x)\n",
        "\n",
        "  # Vectorize Text\n",
        "  def vectorize_text(text, label=None):\n",
        "    text = tf.expand_dims(text, -1)\n",
        "    text = text_vectorizer(text)\n",
        "    if label is None:\n",
        "      return text\n",
        "    else:\n",
        "      return text, label\n",
        "\n",
        "  # Create TF Dataset\n",
        "  train_data = tf.data.Dataset.from_tensor_slices((train_x, train_processed_y))\n",
        "  validation_data = tf.data.Dataset.from_tensor_slices((validate_x, validate_processed_y))\n",
        "\n",
        "  #############\n",
        "  # Train data\n",
        "  #############\n",
        "  train_data = train_data.shuffle(buffer_size=TRAIN_SHUFFLE_BUFFER_SIZE)\n",
        "  train_data = train_data.batch(BATCH_SIZE)\n",
        "  train_data = train_data.map(vectorize_text, num_parallel_calls=AUTOTUNE)\n",
        "  train_data = train_data.prefetch(buffer_size=AUTOTUNE)\n",
        "  train_data = train_data.cache()\n",
        "\n",
        "  ##################\n",
        "  # Validation data\n",
        "  ##################\n",
        "  validation_data = validation_data.shuffle(buffer_size=VALIDATION_SHUFFLE_BUFFER_SIZE)\n",
        "  validation_data = validation_data.batch(BATCH_SIZE)\n",
        "  validation_data = validation_data.map(vectorize_text, num_parallel_calls=AUTOTUNE)\n",
        "  validation_data = validation_data.prefetch(buffer_size=AUTOTUNE)\n",
        "  validation_data = validation_data.cache()\n",
        "\n",
        "  return train_data, validation_data"
      ],
      "metadata": {
        "id": "aHEAcD6NQu01"
      },
      "execution_count": null,
      "outputs": []
    },
    {
      "cell_type": "code",
      "source": [
        "# Create an experiment (Stores all your models/metrics in a separate folder)\n",
        "create_experiment()"
      ],
      "metadata": {
        "id": "uJnmY0ciP1Vr"
      },
      "execution_count": null,
      "outputs": []
    },
    {
      "cell_type": "markdown",
      "metadata": {
        "id": "esYCDP1PXNwy"
      },
      "source": [
        "### **FFN**\n",
        "\n",
        "* We will start with a simple fully connected neural network. \n",
        "* In this model, each layer is a dense layer\n",
        "* Wer use activation function in  the hidden layers as ReLU. \n",
        "* Since our task is a multiclass classification problem, we use softmax as the activation function in the output layer."
      ]
    },
    {
      "cell_type": "code",
      "source": [
        "# Initialize Text Vectorizer\n",
        "text_vectorizer = tf.keras.layers.TextVectorization(\n",
        "    max_tokens=max_tokens,\n",
        "    output_mode=\"int\",\n",
        "    output_sequence_length=sequence_length,\n",
        ")\n",
        "\n",
        "# Adapt on text\n",
        "text_vectorizer.adapt(text_data.batch(64))\n",
        "\n",
        "# Build tf.data datasets\n",
        "train_data, validation_data = build_tf_data(train_x, validate_x, train_processed_y, validate_processed_y, text_vectorizer)\n",
        "\n",
        "print(\"train_data\",train_data)\n",
        "print(\"validation_data\",validation_data)"
      ],
      "metadata": {
        "colab": {
          "base_uri": "https://localhost:8080/"
        },
        "id": "6yIvb7jcVKCQ",
        "outputId": "5e3ce6c6-0571-455b-ea15-f1c5158f510d"
      },
      "execution_count": null,
      "outputs": [
        {
          "output_type": "stream",
          "name": "stdout",
          "text": [
            "train_data <CacheDataset element_spec=(TensorSpec(shape=(None, 1000), dtype=tf.int64, name=None), TensorSpec(shape=(None, 3), dtype=tf.float32, name=None))>\n",
            "validation_data <CacheDataset element_spec=(TensorSpec(shape=(None, 1000), dtype=tf.int64, name=None), TensorSpec(shape=(None, 3), dtype=tf.float32, name=None))>\n"
          ]
        }
      ]
    },
    {
      "cell_type": "code",
      "metadata": {
        "id": "QLfbqgrsXbMw"
      },
      "source": [
        "def build_simple_fcn(num_classes, sequence_length):\n",
        "  # Set the model name as\n",
        "  model_name = 'simple_fcn'\n",
        "\n",
        "  # Model input\n",
        "  model_input = tf.keras.layers.Input(shape=(sequence_length))\n",
        "\n",
        "  hidden = tf.keras.layers.Dense(1024, activation=\"relu\")(model_input)\n",
        "  hidden = tf.keras.layers.Dense(1024, activation=\"relu\")(hidden)\n",
        "  hidden = tf.keras.layers.Dense(512, activation=\"relu\")(hidden)\n",
        "  hidden = tf.keras.layers.Dense(512, activation=\"relu\")(hidden)\n",
        "\n",
        "  # Output Layer\n",
        "  output = tf.keras.layers.Dense(units=num_classes, activation='softmax')(hidden)\n",
        "\n",
        "  # Create model\n",
        "  model = tf.keras.Model(inputs=model_input, outputs=output, name=model_name)\n",
        "\n",
        "  return model"
      ],
      "execution_count": null,
      "outputs": []
    },
    {
      "cell_type": "markdown",
      "metadata": {
        "id": "LUuy6Q7YXbuf"
      },
      "source": [
        "**Train**"
      ]
    },
    {
      "cell_type": "code",
      "metadata": {
        "colab": {
          "base_uri": "https://localhost:8080/",
          "height": 1000
        },
        "id": "tEj8EY8zXf4c",
        "outputId": "fb874bd7-d03a-4f01-90d7-651df88cd53d"
      },
      "source": [
        "############################\n",
        "# Training Params\n",
        "############################\n",
        "learning_rate = 0.01\n",
        "epochs = 10\n",
        "\n",
        "# Free up memory\n",
        "K.clear_session()\n",
        "\n",
        "# Build the model\n",
        "model = build_simple_fcn(num_classes, sequence_length)\n",
        "\n",
        "# Print the model architecture\n",
        "print(model.summary())\n",
        "\n",
        "# Optimizer\n",
        "optimizer = tf.keras.optimizers.Adam(learning_rate=learning_rate)\n",
        "# Loss\n",
        "loss = tf.keras.losses.categorical_crossentropy\n",
        "\n",
        "# Compile\n",
        "model.compile(loss=loss,\n",
        "                  optimizer=optimizer,\n",
        "                  metrics=['accuracy'])\n",
        "\n",
        "# Train model\n",
        "start_time = time.time()\n",
        "training_results = model.fit(\n",
        "        train_data,\n",
        "        validation_data=validation_data,\n",
        "        epochs=epochs, \n",
        "        verbose=1)\n",
        "execution_time = (time.time() - start_time)/60.0\n",
        "print(\"Training execution time (mins)\",execution_time)\n",
        "\n",
        "evaluate_save_model(model,validation_data, training_results,execution_time, learning_rate, BATCH_SIZE, epochs, optimizer,save=True)"
      ],
      "execution_count": null,
      "outputs": [
        {
          "output_type": "stream",
          "name": "stdout",
          "text": [
            "Model: \"simple_fcn\"\n",
            "_________________________________________________________________\n",
            " Layer (type)                Output Shape              Param #   \n",
            "=================================================================\n",
            " input_3 (InputLayer)        [(None, 1000)]            0         \n",
            "                                                                 \n",
            " dense (Dense)               (None, 1024)              1025024   \n",
            "                                                                 \n",
            " dense_1 (Dense)             (None, 1024)              1049600   \n",
            "                                                                 \n",
            " dense_2 (Dense)             (None, 512)               524800    \n",
            "                                                                 \n",
            " dense_3 (Dense)             (None, 512)               262656    \n",
            "                                                                 \n",
            " dense_4 (Dense)             (None, 3)                 1539      \n",
            "                                                                 \n",
            "=================================================================\n",
            "Total params: 2,863,619\n",
            "Trainable params: 2,863,619\n",
            "Non-trainable params: 0\n",
            "_________________________________________________________________\n",
            "None\n",
            "Epoch 1/10\n",
            "23/23 [==============================] - 1s 17ms/step - loss: 49616.8906 - accuracy: 0.3546 - val_loss: 1.9434 - val_accuracy: 0.3207\n",
            "Epoch 2/10\n",
            "23/23 [==============================] - 0s 5ms/step - loss: 100.9566 - accuracy: 0.3152 - val_loss: 4.2976 - val_accuracy: 0.3152\n",
            "Epoch 3/10\n",
            "23/23 [==============================] - 0s 5ms/step - loss: 597.2344 - accuracy: 0.3071 - val_loss: 1.6647 - val_accuracy: 0.3207\n",
            "Epoch 4/10\n",
            "23/23 [==============================] - 0s 5ms/step - loss: 359.5754 - accuracy: 0.3519 - val_loss: 4.6493 - val_accuracy: 0.3098\n",
            "Epoch 5/10\n",
            "23/23 [==============================] - 0s 5ms/step - loss: 23.8827 - accuracy: 0.3234 - val_loss: 8.1360 - val_accuracy: 0.3370\n",
            "Epoch 6/10\n",
            "23/23 [==============================] - 0s 5ms/step - loss: 509.6239 - accuracy: 0.3438 - val_loss: 4.3832 - val_accuracy: 0.3098\n",
            "Epoch 7/10\n",
            "23/23 [==============================] - 0s 5ms/step - loss: 858.6124 - accuracy: 0.3370 - val_loss: 6.5657 - val_accuracy: 0.3152\n",
            "Epoch 8/10\n",
            "23/23 [==============================] - 0s 5ms/step - loss: 54.5048 - accuracy: 0.3057 - val_loss: 1.2505 - val_accuracy: 0.3207\n",
            "Epoch 9/10\n",
            "23/23 [==============================] - 0s 5ms/step - loss: 39.0187 - accuracy: 0.3152 - val_loss: 1.1534 - val_accuracy: 0.3370\n",
            "Epoch 10/10\n",
            "23/23 [==============================] - 0s 6ms/step - loss: 1.1154 - accuracy: 0.3451 - val_loss: 1.1518 - val_accuracy: 0.3370\n",
            "Training execution time (mins) 0.03852216402689616\n"
          ]
        },
        {
          "output_type": "display_data",
          "data": {
            "text/plain": [
              "<Figure size 1080x360 with 2 Axes>"
            ],
            "image/png": "[encoded data removed]"
          },
          "metadata": {
            "needs_background": "light"
          }
        },
        {
          "output_type": "stream",
          "name": "stdout",
          "text": [
            "6/6 [==============================] - 0s 4ms/step - loss: 1.1518 - accuracy: 0.3370\n",
            "[1.1518014669418335, 0.33695653080940247]\n"
          ]
        }
      ]
    },
    {
      "cell_type": "markdown",
      "source": [
        "### **FFN: 1-Gram**"
      ],
      "metadata": {
        "id": "PDakwZ4OYBXu"
      }
    },
    {
      "cell_type": "code",
      "source": [
        "# Initialize Text Vectorizer\n",
        "text_vectorizer = tf.keras.layers.TextVectorization(\n",
        "    max_tokens=max_tokens,\n",
        "    output_mode=\"multi_hot\"\n",
        ")\n",
        "\n",
        "# Adapt on text\n",
        "text_vectorizer.adapt(text_data.batch(64))\n",
        "\n",
        "# Build tf.data datasets\n",
        "train_data, validation_data = build_tf_data(train_x, validate_x, train_processed_y, validate_processed_y, text_vectorizer)\n",
        "\n",
        "print(\"train_data\",train_data)\n",
        "print(\"validation_data\",validation_data)"
      ],
      "metadata": {
        "colab": {
          "base_uri": "https://localhost:8080/"
        },
        "id": "mP6Ggaa9RhJi",
        "outputId": "508ec202-9e35-4645-a123-fedb83ec023d"
      },
      "execution_count": null,
      "outputs": [
        {
          "output_type": "stream",
          "name": "stdout",
          "text": [
            "train_data <CacheDataset element_spec=(TensorSpec(shape=(None, 15000), dtype=tf.float32, name=None), TensorSpec(shape=(None, 3), dtype=tf.float32, name=None))>\n",
            "validation_data <CacheDataset element_spec=(TensorSpec(shape=(None, 15000), dtype=tf.float32, name=None), TensorSpec(shape=(None, 3), dtype=tf.float32, name=None))>\n"
          ]
        }
      ]
    },
    {
      "cell_type": "code",
      "source": [
        "def build_binary_1gram_model(num_classes, input_size):\n",
        "  # Set the model name as\n",
        "  model_name = 'binary_1gram'\n",
        "\n",
        "  # Model input\n",
        "  model_input = tf.keras.layers.Input(shape=(input_size))\n",
        "\n",
        "  hidden = tf.keras.layers.Dense(1024, activation=\"relu\")(model_input)\n",
        "  hidden = tf.keras.layers.Dropout(0.4)(hidden)\n",
        "  hidden = tf.keras.layers.Dense(1024, activation=\"relu\")(hidden)\n",
        "  hidden = tf.keras.layers.Dropout(0.4)(hidden)\n",
        "  hidden = tf.keras.layers.Dense(512, activation=\"relu\")(hidden)\n",
        "  hidden = tf.keras.layers.Dropout(0.4)(hidden)\n",
        "  hidden = tf.keras.layers.Dense(512, activation=\"relu\")(hidden)\n",
        "  hidden = tf.keras.layers.Dropout(0.4)(hidden)\n",
        "\n",
        "  # Output Layer\n",
        "  output = tf.keras.layers.Dense(units=num_classes, activation='softmax')(hidden)\n",
        "\n",
        "  # Create model\n",
        "  model = tf.keras.Model(inputs=model_input, outputs=output, name=model_name)\n",
        "\n",
        "  return model"
      ],
      "metadata": {
        "id": "EWwdcDMNWYjl"
      },
      "execution_count": null,
      "outputs": []
    },
    {
      "cell_type": "code",
      "source": [
        "############################\n",
        "# Training Params\n",
        "############################\n",
        "learning_rate = 0.01\n",
        "epochs = 10\n",
        "\n",
        "# Free up memory\n",
        "K.clear_session()\n",
        "\n",
        "# Build the model\n",
        "model = build_binary_1gram_model(num_classes, max_tokens)\n",
        "\n",
        "# Print the model architecture\n",
        "print(model.summary())\n",
        "\n",
        "# Optimizer\n",
        "optimizer = tf.keras.optimizers.Adam(learning_rate=learning_rate)\n",
        "# Loss\n",
        "loss = tf.keras.losses.categorical_crossentropy\n",
        "\n",
        "# Compile\n",
        "model.compile(loss=loss,\n",
        "                  optimizer=optimizer,\n",
        "                  metrics=['accuracy'])\n",
        "\n",
        "# Train model\n",
        "start_time = time.time()\n",
        "training_results = model.fit(\n",
        "        train_data,\n",
        "        validation_data=validation_data,\n",
        "        epochs=epochs, \n",
        "        verbose=1)\n",
        "execution_time = (time.time() - start_time)/60.0\n",
        "print(\"Training execution time (mins)\",execution_time)\n",
        "\n",
        "evaluate_save_model(model,validation_data, training_results,execution_time, learning_rate, BATCH_SIZE, epochs, optimizer,save=True)"
      ],
      "metadata": {
        "colab": {
          "base_uri": "https://localhost:8080/",
          "height": 1000
        },
        "id": "UQggYShuWYmG",
        "outputId": "83711219-bd1b-46c8-f8c1-ae76f526331f"
      },
      "execution_count": null,
      "outputs": [
        {
          "output_type": "stream",
          "name": "stdout",
          "text": [
            "Model: \"binary_1gram\"\n",
            "_________________________________________________________________\n",
            " Layer (type)                Output Shape              Param #   \n",
            "=================================================================\n",
            " input_4 (InputLayer)        [(None, 15000)]           0         \n",
            "                                                                 \n",
            " dense (Dense)               (None, 1024)              15361024  \n",
            "                                                                 \n",
            " dropout (Dropout)           (None, 1024)              0         \n",
            "                                                                 \n",
            " dense_1 (Dense)             (None, 1024)              1049600   \n",
            "                                                                 \n",
            " dropout_1 (Dropout)         (None, 1024)              0         \n",
            "                                                                 \n",
            " dense_2 (Dense)             (None, 512)               524800    \n",
            "                                                                 \n",
            " dropout_2 (Dropout)         (None, 512)               0         \n",
            "                                                                 \n",
            " dense_3 (Dense)             (None, 512)               262656    \n",
            "                                                                 \n",
            " dropout_3 (Dropout)         (None, 512)               0         \n",
            "                                                                 \n",
            " dense_4 (Dense)             (None, 3)                 1539      \n",
            "                                                                 \n",
            "=================================================================\n",
            "Total params: 17,199,619\n",
            "Trainable params: 17,199,619\n",
            "Non-trainable params: 0\n",
            "_________________________________________________________________\n",
            "None\n",
            "Epoch 1/10\n",
            "23/23 [==============================] - 1s 17ms/step - loss: 2.8028 - accuracy: 0.6508 - val_loss: 0.3114 - val_accuracy: 0.8967\n",
            "Epoch 2/10\n",
            "23/23 [==============================] - 0s 6ms/step - loss: 1.3759 - accuracy: 0.8247 - val_loss: 0.4432 - val_accuracy: 0.9076\n",
            "Epoch 3/10\n",
            "23/23 [==============================] - 0s 6ms/step - loss: 0.8200 - accuracy: 0.8940 - val_loss: 0.8249 - val_accuracy: 0.8696\n",
            "Epoch 4/10\n",
            "23/23 [==============================] - 0s 7ms/step - loss: 0.4150 - accuracy: 0.9361 - val_loss: 0.4509 - val_accuracy: 0.8859\n",
            "Epoch 5/10\n",
            "23/23 [==============================] - 0s 6ms/step - loss: 0.2484 - accuracy: 0.9606 - val_loss: 1.1703 - val_accuracy: 0.8967\n",
            "Epoch 6/10\n",
            "23/23 [==============================] - 0s 6ms/step - loss: 0.4896 - accuracy: 0.9579 - val_loss: 1.5964 - val_accuracy: 0.9130\n",
            "Epoch 7/10\n",
            "23/23 [==============================] - 0s 7ms/step - loss: 0.7932 - accuracy: 0.9375 - val_loss: 1.0049 - val_accuracy: 0.8967\n",
            "Epoch 8/10\n",
            "23/23 [==============================] - 0s 6ms/step - loss: 0.7466 - accuracy: 0.9633 - val_loss: 1.0653 - val_accuracy: 0.9293\n",
            "Epoch 9/10\n",
            "23/23 [==============================] - 0s 6ms/step - loss: 1.4790 - accuracy: 0.9212 - val_loss: 1.3053 - val_accuracy: 0.9565\n",
            "Epoch 10/10\n",
            "23/23 [==============================] - 0s 6ms/step - loss: 1.0934 - accuracy: 0.9606 - val_loss: 4.6650 - val_accuracy: 0.8913\n",
            "Training execution time (mins) 0.050088274478912356\n"
          ]
        },
        {
          "output_type": "display_data",
          "data": {
            "text/plain": [
              "<Figure size 1080x360 with 2 Axes>"
            ],
            "image/png": "[encoded data removed]"
          },
          "metadata": {
            "needs_background": "light"
          }
        },
        {
          "output_type": "stream",
          "name": "stdout",
          "text": [
            "6/6 [==============================] - 0s 4ms/step - loss: 4.6650 - accuracy: 0.8913\n",
            "[4.665019989013672, 0.8913043737411499]\n"
          ]
        }
      ]
    },
    {
      "cell_type": "markdown",
      "source": [
        "### **FFN: Bi-Gram**"
      ],
      "metadata": {
        "id": "UZyZiiV3YHJr"
      }
    },
    {
      "cell_type": "code",
      "source": [
        "# Initialize Text Vectorizer\n",
        "text_vectorizer = tf.keras.layers.TextVectorization(\n",
        "    ngrams=2,\n",
        "    max_tokens=max_tokens,\n",
        "    output_mode=\"multi_hot\"\n",
        ")\n",
        "\n",
        "# Adapt on text\n",
        "text_vectorizer.adapt(text_data.batch(64))\n",
        "\n",
        "# Build tf.data datasets\n",
        "train_data, validation_data = build_tf_data(train_x, validate_x, train_processed_y, validate_processed_y, text_vectorizer)\n",
        "\n",
        "print(\"train_data\",train_data)\n",
        "print(\"validation_data\",validation_data)"
      ],
      "metadata": {
        "colab": {
          "base_uri": "https://localhost:8080/"
        },
        "outputId": "36e59d81-07dd-49e1-f44f-87b4ed32a3db",
        "id": "anha64dIYMJK"
      },
      "execution_count": null,
      "outputs": [
        {
          "output_type": "stream",
          "name": "stdout",
          "text": [
            "train_data <CacheDataset element_spec=(TensorSpec(shape=(None, 15000), dtype=tf.float32, name=None), TensorSpec(shape=(None, 3), dtype=tf.float32, name=None))>\n",
            "validation_data <CacheDataset element_spec=(TensorSpec(shape=(None, 15000), dtype=tf.float32, name=None), TensorSpec(shape=(None, 3), dtype=tf.float32, name=None))>\n"
          ]
        }
      ]
    },
    {
      "cell_type": "code",
      "source": [
        "def build_binary_2gram_model(num_classes, input_size):\n",
        "  # Set the model name as\n",
        "  model_name = 'binary_2gram'\n",
        "\n",
        "  # Model input\n",
        "  model_input = tf.keras.layers.Input(shape=(input_size))\n",
        "\n",
        "  hidden = tf.keras.layers.Dense(1024, activation=\"relu\")(model_input)\n",
        "  hidden = tf.keras.layers.Dropout(0.4)(hidden)\n",
        "  hidden = tf.keras.layers.Dense(1024, activation=\"relu\")(hidden)\n",
        "  hidden = tf.keras.layers.Dropout(0.4)(hidden)\n",
        "  hidden = tf.keras.layers.Dense(512, activation=\"relu\")(hidden)\n",
        "  hidden = tf.keras.layers.Dropout(0.4)(hidden)\n",
        "  hidden = tf.keras.layers.Dense(512, activation=\"relu\")(hidden)\n",
        "  hidden = tf.keras.layers.Dropout(0.4)(hidden)\n",
        "\n",
        "  # Output Layer\n",
        "  output = tf.keras.layers.Dense(units=num_classes, activation='softmax')(hidden)\n",
        "\n",
        "  # Create model\n",
        "  model = tf.keras.Model(inputs=model_input, outputs=output, name=model_name)\n",
        "\n",
        "  return model"
      ],
      "metadata": {
        "id": "FwVMZgUbYMJL"
      },
      "execution_count": null,
      "outputs": []
    },
    {
      "cell_type": "code",
      "source": [
        "############################\n",
        "# Training Params\n",
        "############################\n",
        "learning_rate = 0.01\n",
        "epochs = 10\n",
        "\n",
        "# Free up memory\n",
        "K.clear_session()\n",
        "\n",
        "# Build the model\n",
        "model = build_binary_2gram_model(num_classes, max_tokens)\n",
        "\n",
        "# Print the model architecture\n",
        "print(model.summary())\n",
        "\n",
        "# Optimizer\n",
        "optimizer = tf.keras.optimizers.Adam(learning_rate=learning_rate)\n",
        "# Loss\n",
        "loss = tf.keras.losses.categorical_crossentropy\n",
        "\n",
        "# Compile\n",
        "model.compile(loss=loss,\n",
        "                  optimizer=optimizer,\n",
        "                  metrics=['accuracy'])\n",
        "\n",
        "# Train model\n",
        "start_time = time.time()\n",
        "training_results = model.fit(\n",
        "        train_data,\n",
        "        validation_data=validation_data,\n",
        "        epochs=epochs, \n",
        "        verbose=1)\n",
        "execution_time = (time.time() - start_time)/60.0\n",
        "print(\"Training execution time (mins)\",execution_time)\n",
        "\n",
        "evaluate_save_model(model,validation_data, training_results,execution_time, learning_rate, BATCH_SIZE, epochs, optimizer,save=True)"
      ],
      "metadata": {
        "colab": {
          "base_uri": "https://localhost:8080/",
          "height": 1000
        },
        "outputId": "206cf70c-2b39-4609-90c5-0b4316efe73b",
        "id": "LJsZzZpKYMJL"
      },
      "execution_count": null,
      "outputs": [
        {
          "output_type": "stream",
          "name": "stdout",
          "text": [
            "Model: \"binary_2gram\"\n",
            "_________________________________________________________________\n",
            " Layer (type)                Output Shape              Param #   \n",
            "=================================================================\n",
            " input_5 (InputLayer)        [(None, 15000)]           0         \n",
            "                                                                 \n",
            " dense (Dense)               (None, 1024)              15361024  \n",
            "                                                                 \n",
            " dropout (Dropout)           (None, 1024)              0         \n",
            "                                                                 \n",
            " dense_1 (Dense)             (None, 1024)              1049600   \n",
            "                                                                 \n",
            " dropout_1 (Dropout)         (None, 1024)              0         \n",
            "                                                                 \n",
            " dense_2 (Dense)             (None, 512)               524800    \n",
            "                                                                 \n",
            " dropout_2 (Dropout)         (None, 512)               0         \n",
            "                                                                 \n",
            " dense_3 (Dense)             (None, 512)               262656    \n",
            "                                                                 \n",
            " dropout_3 (Dropout)         (None, 512)               0         \n",
            "                                                                 \n",
            " dense_4 (Dense)             (None, 3)                 1539      \n",
            "                                                                 \n",
            "=================================================================\n",
            "Total params: 17,199,619\n",
            "Trainable params: 17,199,619\n",
            "Non-trainable params: 0\n",
            "_________________________________________________________________\n",
            "None\n",
            "Epoch 1/10\n",
            "23/23 [==============================] - 1s 21ms/step - loss: 3.5335 - accuracy: 0.6033 - val_loss: 0.4254 - val_accuracy: 0.9076\n",
            "Epoch 2/10\n",
            "23/23 [==============================] - 0s 6ms/step - loss: 2.9568 - accuracy: 0.7880 - val_loss: 0.6567 - val_accuracy: 0.8967\n",
            "Epoch 3/10\n",
            "23/23 [==============================] - 0s 6ms/step - loss: 2.8727 - accuracy: 0.8641 - val_loss: 1.2785 - val_accuracy: 0.8424\n",
            "Epoch 4/10\n",
            "23/23 [==============================] - 0s 7ms/step - loss: 1.8724 - accuracy: 0.8777 - val_loss: 0.7051 - val_accuracy: 0.9130\n",
            "Epoch 5/10\n",
            "23/23 [==============================] - 0s 6ms/step - loss: 1.0208 - accuracy: 0.9538 - val_loss: 4.1795 - val_accuracy: 0.8967\n",
            "Epoch 6/10\n",
            "23/23 [==============================] - 0s 6ms/step - loss: 4.1626 - accuracy: 0.9321 - val_loss: 3.2880 - val_accuracy: 0.8533\n",
            "Epoch 7/10\n",
            "23/23 [==============================] - 0s 7ms/step - loss: 2.4373 - accuracy: 0.9375 - val_loss: 4.2882 - val_accuracy: 0.8750\n",
            "Epoch 8/10\n",
            "23/23 [==============================] - 0s 6ms/step - loss: 1.8629 - accuracy: 0.9416 - val_loss: 3.5255 - val_accuracy: 0.9022\n",
            "Epoch 9/10\n",
            "23/23 [==============================] - 0s 6ms/step - loss: 2.4510 - accuracy: 0.9660 - val_loss: 11.5489 - val_accuracy: 0.8804\n",
            "Epoch 10/10\n",
            "23/23 [==============================] - 0s 7ms/step - loss: 2.1898 - accuracy: 0.9728 - val_loss: 6.7133 - val_accuracy: 0.8859\n",
            "Training execution time (mins) 0.05329038699467977\n"
          ]
        },
        {
          "output_type": "display_data",
          "data": {
            "text/plain": [
              "<Figure size 1080x360 with 2 Axes>"
            ],
            "image/png": "[encoded data removed]"
          },
          "metadata": {
            "needs_background": "light"
          }
        },
        {
          "output_type": "stream",
          "name": "stdout",
          "text": [
            "6/6 [==============================] - 0s 3ms/step - loss: 6.7133 - accuracy: 0.8859\n",
            "[6.713278770446777, 0.885869562625885]\n"
          ]
        }
      ]
    },
    {
      "cell_type": "markdown",
      "source": [
        "### **LSTM: Embedding**"
      ],
      "metadata": {
        "id": "UW-crrgZa1Sl"
      }
    },
    {
      "cell_type": "code",
      "source": [
        "# Initialize Text Vectorizer\n",
        "text_vectorizer = tf.keras.layers.TextVectorization(\n",
        "    max_tokens=max_tokens,\n",
        "    output_mode=\"int\",\n",
        "    output_sequence_length=sequence_length,\n",
        ")\n",
        "\n",
        "# Adapt on text\n",
        "text_vectorizer.adapt(text_data.batch(64))\n",
        "\n",
        "# Get Vocabulary\n",
        "vocabulary = text_vectorizer.get_vocabulary()\n",
        "vocabulary_size = len(vocabulary)\n",
        "print(\"Vocabulary Size:\",vocabulary_size)\n",
        "# Generate word index\n",
        "word_index = dict(zip(vocabulary, range(vocabulary_size)))\n",
        "\n",
        "# Build tf.data datasets\n",
        "train_data, validation_data = build_tf_data(train_x, validate_x, train_processed_y, validate_processed_y, text_vectorizer)\n",
        "\n",
        "print(\"train_data\",train_data)\n",
        "print(\"validation_data\",validation_data)"
      ],
      "metadata": {
        "colab": {
          "base_uri": "https://localhost:8080/"
        },
        "id": "js9wNQk2auEF",
        "outputId": "ffb5d435-3c8c-43f8-9766-20db55df8e6e"
      },
      "execution_count": null,
      "outputs": [
        {
          "output_type": "stream",
          "name": "stdout",
          "text": [
            "Vocabulary Size: 15000\n",
            "train_data <CacheDataset element_spec=(TensorSpec(shape=(None, 1000), dtype=tf.int64, name=None), TensorSpec(shape=(None, 3), dtype=tf.float32, name=None))>\n",
            "validation_data <CacheDataset element_spec=(TensorSpec(shape=(None, 1000), dtype=tf.int64, name=None), TensorSpec(shape=(None, 3), dtype=tf.float32, name=None))>\n"
          ]
        }
      ]
    },
    {
      "cell_type": "code",
      "source": [
        "def build_lstm_model_emb(num_classes,vocab_size,embedding_dim,hidden_size):\n",
        "  # Set the model name as\n",
        "  model_name = 'lstm_model_emb'\n",
        "\n",
        "  # Model input\n",
        "  model_input = tf.keras.Input(shape=(None,))\n",
        "\n",
        "  # Embedding\n",
        "  embedding = tf.keras.layers.Embedding(input_dim=vocab_size, output_dim=embedding_dim, mask_zero=True)(model_input)\n",
        "\n",
        "  # LSTM layer\n",
        "  hidden = tf.keras.layers.LSTM(units=hidden_size, return_sequences=False)(embedding)\n",
        "  hidden = tf.keras.layers.Dense(units=hidden_size, activation='relu')(hidden)\n",
        "\n",
        "  # Output Layer\n",
        "  output = tf.keras.layers.Dense(units=num_classes, activation='softmax')(hidden)\n",
        "\n",
        "  # Create model\n",
        "  model = tf.keras.Model(inputs=model_input, outputs=output, name=model_name)\n",
        "\n",
        "  return model"
      ],
      "metadata": {
        "id": "8-zxcSnIXZZd"
      },
      "execution_count": null,
      "outputs": []
    },
    {
      "cell_type": "code",
      "source": [
        "############################\n",
        "# Training Params\n",
        "############################\n",
        "learning_rate = 0.01\n",
        "epochs = 10\n",
        "embedding_dim = 100\n",
        "hidden_size = 64\n",
        "\n",
        "# Free up memory\n",
        "K.clear_session()\n",
        "\n",
        "# Build the model\n",
        "model = build_lstm_model_emb(num_classes, max_tokens, embedding_dim,hidden_size)\n",
        "\n",
        "# Print the model architecture\n",
        "print(model.summary())\n",
        "\n",
        "# Optimizer\n",
        "optimizer = tf.keras.optimizers.Adam(learning_rate=learning_rate)\n",
        "# Loss\n",
        "loss = tf.keras.losses.categorical_crossentropy\n",
        "\n",
        "# Compile\n",
        "model.compile(loss=loss,\n",
        "                  optimizer=optimizer,\n",
        "                  metrics=['accuracy'])\n",
        "\n",
        "# Train model\n",
        "start_time = time.time()\n",
        "training_results = model.fit(\n",
        "        train_data,\n",
        "        validation_data=validation_data,\n",
        "        epochs=epochs, \n",
        "        verbose=1)\n",
        "execution_time = (time.time() - start_time)/60.0\n",
        "print(\"Training execution time (mins)\",execution_time)\n",
        "\n",
        "evaluate_save_model(model,validation_data, training_results,execution_time, learning_rate, BATCH_SIZE, epochs, optimizer,save=True)"
      ],
      "metadata": {
        "colab": {
          "base_uri": "https://localhost:8080/",
          "height": 1000
        },
        "id": "QBsMNTrAbDJV",
        "outputId": "3420536b-14de-4f32-d963-3291a4e857cf"
      },
      "execution_count": null,
      "outputs": [
        {
          "output_type": "stream",
          "name": "stdout",
          "text": [
            "Model: \"lstm_model_emb\"\n",
            "_________________________________________________________________\n",
            " Layer (type)                Output Shape              Param #   \n",
            "=================================================================\n",
            " input_6 (InputLayer)        [(None, None)]            0         \n",
            "                                                                 \n",
            " embedding (Embedding)       (None, None, 100)         1500000   \n",
            "                                                                 \n",
            " lstm (LSTM)                 (None, 64)                42240     \n",
            "                                                                 \n",
            " dense (Dense)               (None, 64)                4160      \n",
            "                                                                 \n",
            " dense_1 (Dense)             (None, 3)                 195       \n",
            "                                                                 \n",
            "=================================================================\n",
            "Total params: 1,546,595\n",
            "Trainable params: 1,546,595\n",
            "Non-trainable params: 0\n",
            "_________________________________________________________________\n",
            "None\n",
            "Epoch 1/10\n",
            "23/23 [==============================] - 17s 604ms/step - loss: 1.0581 - accuracy: 0.4620 - val_loss: 0.9701 - val_accuracy: 0.5163\n",
            "Epoch 2/10\n",
            "23/23 [==============================] - 12s 559ms/step - loss: 0.3823 - accuracy: 0.8736 - val_loss: 1.1172 - val_accuracy: 0.6196\n",
            "Epoch 3/10\n",
            "23/23 [==============================] - 12s 557ms/step - loss: 0.1163 - accuracy: 0.9660 - val_loss: 1.1864 - val_accuracy: 0.6576\n",
            "Epoch 4/10\n",
            "23/23 [==============================] - 12s 548ms/step - loss: 0.0531 - accuracy: 0.9891 - val_loss: 1.4742 - val_accuracy: 0.6848\n",
            "Epoch 5/10\n",
            "23/23 [==============================] - 12s 557ms/step - loss: 0.0460 - accuracy: 0.9864 - val_loss: 1.7343 - val_accuracy: 0.6141\n",
            "Epoch 6/10\n",
            "23/23 [==============================] - 12s 553ms/step - loss: 0.0354 - accuracy: 0.9918 - val_loss: 1.6518 - val_accuracy: 0.6739\n",
            "Epoch 7/10\n",
            "23/23 [==============================] - 12s 559ms/step - loss: 0.0226 - accuracy: 0.9973 - val_loss: 1.9391 - val_accuracy: 0.6630\n",
            "Epoch 8/10\n",
            "23/23 [==============================] - 12s 555ms/step - loss: 0.0116 - accuracy: 0.9973 - val_loss: 1.9279 - val_accuracy: 0.6793\n",
            "Epoch 9/10\n",
            "23/23 [==============================] - 12s 547ms/step - loss: 0.0181 - accuracy: 0.9946 - val_loss: 2.2336 - val_accuracy: 0.6087\n",
            "Epoch 10/10\n",
            "23/23 [==============================] - 12s 552ms/step - loss: 0.0107 - accuracy: 0.9986 - val_loss: 2.3018 - val_accuracy: 0.6250\n",
            "Training execution time (mins) 2.643254590034485\n"
          ]
        },
        {
          "output_type": "display_data",
          "data": {
            "text/plain": [
              "<Figure size 1080x360 with 2 Axes>"
            ],
            "image/png": "[encoded data removed]"
          },
          "metadata": {
            "needs_background": "light"
          }
        },
        {
          "output_type": "stream",
          "name": "stdout",
          "text": [
            "6/6 [==============================] - 1s 131ms/step - loss: 2.3018 - accuracy: 0.6250\n",
            "[2.3017706871032715, 0.625]\n"
          ]
        }
      ]
    },
    {
      "cell_type": "code",
      "source": [
        "#del varname"
      ],
      "metadata": {
        "id": "6a2gXZBHslAo"
      },
      "execution_count": null,
      "outputs": []
    },
    {
      "cell_type": "markdown",
      "metadata": {
        "id": "imUQOWlyYRzL"
      },
      "source": [
        "### **LSTM: Pretrained Embedding**\n",
        "\n",
        "* Alternatively, we could initialize embeddings with pre-trained word embeddings.\n",
        "* Specifically, let's try GloVe embeddings. GloVe stands for Global Vectors, which is an open-source project developed by Stanford. It contains pre-trained word representations in various sizes, including 50-dimensional, 100-dimensional, 200-dimensional, and 300-dimensional.\n",
        "\n",
        "* In this model, we choose the 100d version.\n",
        "\n",
        "[Reference](http://nlp.stanford.edu/projects/glove/)"
      ]
    },
    {
      "cell_type": "markdown",
      "metadata": {
        "id": "jicA07sDYYmF"
      },
      "source": [
        "**Prepare Embedding**\n",
        "\n",
        "We need to prepare the pretrained embedding to use in our model"
      ]
    },
    {
      "cell_type": "code",
      "metadata": {
        "colab": {
          "base_uri": "https://localhost:8080/"
        },
        "id": "4NrvVACTYbrE",
        "outputId": "384065f9-0dec-462b-be89-d340727adfda"
      },
      "source": [
        "# Read glove embeddings\n",
        "embeddings_index = {}\n",
        "with open(glove_path) as f:\n",
        "    for line in f:\n",
        "        word, coefs = line.split(maxsplit=1)\n",
        "        coefs = np.fromstring(coefs, \"f\", sep=\" \")\n",
        "        embeddings_index[word] = coefs\n",
        "\n",
        "print(\"Number of word vectors:\",len(embeddings_index))"
      ],
      "execution_count": null,
      "outputs": [
        {
          "output_type": "stream",
          "name": "stdout",
          "text": [
            "Number of word vectors: 400000\n"
          ]
        }
      ]
    },
    {
      "cell_type": "code",
      "source": [
        "# Prepare embedding matrix\n",
        "embedding_dim = 100\n",
        "embedding_matrix = np.zeros((max_tokens, embedding_dim))\n",
        "oov = {}    \n",
        "n_covered = 0\n",
        "n_oov = 0\n",
        "for word, i in word_index.items():\n",
        "    embedding_vector = embeddings_index.get(word)\n",
        "    if embedding_vector is not None:\n",
        "      embedding_matrix[i] = embedding_vector\n",
        "    else:\n",
        "      n_oov += 1\n",
        "\n",
        "text_coverage = (vocabulary_size-n_oov)/vocabulary_size\n",
        "print(\"Text Coverage:\",text_coverage)\n",
        "\n",
        "print(\"Embedding Matrix, Shape\" ,embedding_matrix.shape)"
      ],
      "metadata": {
        "colab": {
          "base_uri": "https://localhost:8080/"
        },
        "id": "335gC1HPcQzE",
        "outputId": "598169cb-ced4-4df7-8a36-d0a3fc52d2ac"
      },
      "execution_count": null,
      "outputs": [
        {
          "output_type": "stream",
          "name": "stdout",
          "text": [
            "Text Coverage: 0.9393333333333334\n",
            "Embedding Matrix, Shape (15000, 100)\n"
          ]
        }
      ]
    },
    {
      "cell_type": "code",
      "source": [
        "def build_lstm_pretrained_emb(num_classes,vocab_size,embedding_dim,hidden_size, embedding_matrix):\n",
        "  # Set the model name as\n",
        "  model_name = 'lstm_pretrained_emb'\n",
        "\n",
        "  # Model input\n",
        "  model_input = tf.keras.Input(shape=(None,))\n",
        "\n",
        "  # Embedding\n",
        "  embedding = tf.keras.layers.Embedding(input_dim=embedding_matrix.shape[0], \n",
        "                            output_dim=embedding_dim, \n",
        "                            embeddings_initializer=tf.keras.initializers.Constant(embedding_matrix), # Load pre-trained weights\n",
        "                            trainable=False, # Set Trainable to False\n",
        "                            name=\"embedding\")(model_input)\n",
        "\n",
        "  # LSTM layer\n",
        "  hidden = tf.keras.layers.LSTM(units=hidden_size, return_sequences=False)(embedding)\n",
        "  hidden = tf.keras.layers.Dense(units=hidden_size, activation='relu')(hidden)\n",
        "\n",
        "  # Output Layer\n",
        "  output = tf.keras.layers.Dense(units=num_classes, activation='softmax')(hidden)\n",
        "\n",
        "  # Create model\n",
        "  model = tf.keras.Model(inputs=model_input, outputs=output, name=model_name)\n",
        "\n",
        "  return model"
      ],
      "metadata": {
        "id": "voK5g2gZrmmF"
      },
      "execution_count": null,
      "outputs": []
    },
    {
      "cell_type": "code",
      "source": [
        "############################\n",
        "# Training Params\n",
        "############################\n",
        "learning_rate = 0.01\n",
        "epochs = 10\n",
        "embedding_dim = 100\n",
        "hidden_size = 64\n",
        "\n",
        "# Free up memory\n",
        "K.clear_session()\n",
        "\n",
        "# Build the model\n",
        "model = build_lstm_pretrained_emb(num_classes, max_tokens, embedding_dim,hidden_size, embedding_matrix)\n",
        "\n",
        "# Print the model architecture\n",
        "print(model.summary())\n",
        "\n",
        "# Optimizer\n",
        "optimizer = tf.keras.optimizers.Adam(learning_rate=learning_rate)\n",
        "# Loss\n",
        "loss = tf.keras.losses.categorical_crossentropy\n",
        "\n",
        "# Compile\n",
        "model.compile(loss=loss,\n",
        "                  optimizer=optimizer,\n",
        "                  metrics=['accuracy'])\n",
        "\n",
        "# Train model\n",
        "start_time = time.time()\n",
        "training_results = model.fit(\n",
        "        train_data,\n",
        "        validation_data=validation_data,\n",
        "        epochs=epochs, \n",
        "        verbose=1)\n",
        "execution_time = (time.time() - start_time)/60.0\n",
        "print(\"Training execution time (mins)\",execution_time)\n",
        "\n",
        "evaluate_save_model(model,validation_data, training_results,execution_time, learning_rate, BATCH_SIZE, epochs, optimizer,save=True)"
      ],
      "metadata": {
        "colab": {
          "base_uri": "https://localhost:8080/",
          "height": 1000
        },
        "id": "KnO4pWm5rmok",
        "outputId": "fd3ba866-d8b1-4478-b8aa-d9e305e23c7f"
      },
      "execution_count": null,
      "outputs": [
        {
          "output_type": "stream",
          "name": "stdout",
          "text": [
            "Model: \"lstm_pretrained_emb\"\n",
            "_________________________________________________________________\n",
            " Layer (type)                Output Shape              Param #   \n",
            "=================================================================\n",
            " input_7 (InputLayer)        [(None, None)]            0         \n",
            "                                                                 \n",
            " embedding (Embedding)       (None, None, 100)         1500000   \n",
            "                                                                 \n",
            " lstm (LSTM)                 (None, 64)                42240     \n",
            "                                                                 \n",
            " dense (Dense)               (None, 64)                4160      \n",
            "                                                                 \n",
            " dense_1 (Dense)             (None, 3)                 195       \n",
            "                                                                 \n",
            "=================================================================\n",
            "Total params: 1,546,595\n",
            "Trainable params: 46,595\n",
            "Non-trainable params: 1,500,000\n",
            "_________________________________________________________________\n",
            "None\n",
            "Epoch 1/10\n",
            "23/23 [==============================] - 3s 59ms/step - loss: 1.0559 - accuracy: 0.4565 - val_loss: 0.9777 - val_accuracy: 0.5000\n",
            "Epoch 2/10\n",
            "23/23 [==============================] - 1s 41ms/step - loss: 0.9504 - accuracy: 0.5340 - val_loss: 0.9312 - val_accuracy: 0.5543\n",
            "Epoch 3/10\n",
            "23/23 [==============================] - 1s 41ms/step - loss: 0.8653 - accuracy: 0.5774 - val_loss: 0.9676 - val_accuracy: 0.5435\n",
            "Epoch 4/10\n",
            "23/23 [==============================] - 1s 44ms/step - loss: 0.8227 - accuracy: 0.5897 - val_loss: 0.9264 - val_accuracy: 0.5598\n",
            "Epoch 5/10\n",
            "23/23 [==============================] - 1s 42ms/step - loss: 0.8185 - accuracy: 0.5910 - val_loss: 0.9311 - val_accuracy: 0.5652\n",
            "Epoch 6/10\n",
            "23/23 [==============================] - 1s 42ms/step - loss: 0.7719 - accuracy: 0.6101 - val_loss: 0.9907 - val_accuracy: 0.5435\n",
            "Epoch 7/10\n",
            "23/23 [==============================] - 1s 42ms/step - loss: 0.8281 - accuracy: 0.6005 - val_loss: 0.9570 - val_accuracy: 0.5598\n",
            "Epoch 8/10\n",
            "23/23 [==============================] - 1s 40ms/step - loss: 0.7259 - accuracy: 0.6359 - val_loss: 0.7106 - val_accuracy: 0.8152\n",
            "Epoch 9/10\n",
            "23/23 [==============================] - 1s 42ms/step - loss: 0.5112 - accuracy: 0.8193 - val_loss: 0.5354 - val_accuracy: 0.8424\n",
            "Epoch 10/10\n",
            "23/23 [==============================] - 1s 44ms/step - loss: 0.3905 - accuracy: 0.8777 - val_loss: 0.4811 - val_accuracy: 0.8804\n",
            "Training execution time (mins) 0.21517917315165203\n"
          ]
        },
        {
          "output_type": "display_data",
          "data": {
            "text/plain": [
              "<Figure size 1080x360 with 2 Axes>"
            ],
            "image/png": "[encoded data removed]"
          },
          "metadata": {
            "needs_background": "light"
          }
        },
        {
          "output_type": "stream",
          "name": "stdout",
          "text": [
            "6/6 [==============================] - 0s 18ms/step - loss: 0.4811 - accuracy: 0.8804\n",
            "[0.4810781478881836, 0.8804348111152649]\n"
          ]
        }
      ]
    },
    {
      "cell_type": "markdown",
      "source": [
        "### **Pretrained BERT**"
      ],
      "metadata": {
        "id": "UeWJGjKShw8p"
      }
    },
    {
      "cell_type": "markdown",
      "metadata": {
        "id": "WFsmoyIicARn"
      },
      "source": [
        "BERT Text Tokenization ([Reference](https://huggingface.co/transformers/model_doc/bert.html#berttokenizer))"
      ]
    },
    {
      "cell_type": "code",
      "metadata": {
        "id": "_vI1FNCCcFDW"
      },
      "source": [
        "# Tokenizer\n",
        "tokenizer=BertTokenizer.from_pretrained('bert-base-uncased',do_lower_case=True)"
      ],
      "execution_count": null,
      "outputs": []
    },
    {
      "cell_type": "code",
      "metadata": {
        "colab": {
          "base_uri": "https://localhost:8080/"
        },
        "id": "vOd0Y2-ncTZ1",
        "outputId": "2c5eb310-d60b-4f42-bcc4-79db6777193b"
      },
      "source": [
        "# Tokenizer Example\n",
        "text = [\"What you need to know about using them safely amid the pandemic\", \n",
        "        \"A third of Medicare enrollees with coronavirus ended up in the hospital\"]\n",
        "outputs = tokenizer.batch_encode_plus(text, \n",
        "        return_tensors='tf',\n",
        "        add_special_tokens = True, # add [CLS], [SEP]\n",
        "        return_token_type_ids=True,\n",
        "        padding='max_length',\n",
        "        truncation='longest_first',\n",
        "        max_length=15\n",
        "      )\n",
        "print(\"Tokenizer Output:\",outputs)"
      ],
      "execution_count": null,
      "outputs": [
        {
          "output_type": "stream",
          "name": "stdout",
          "text": [
            "Tokenizer Output: {'input_ids': <tf.Tensor: shape=(2, 15), dtype=int32, numpy=\n",
            "array([[  101,  2054,  2017,  2342,  2000,  2113,  2055,  2478,  2068,\n",
            "         9689, 13463,  1996,  6090,  3207,   102],\n",
            "       [  101,  1037,  2353,  1997, 27615, 25612, 10285,  2007, 21887,\n",
            "        23350,  3092,  2039,  1999,  1996,   102]], dtype=int32)>, 'token_type_ids': <tf.Tensor: shape=(2, 15), dtype=int32, numpy=\n",
            "array([[0, 0, 0, 0, 0, 0, 0, 0, 0, 0, 0, 0, 0, 0, 0],\n",
            "       [0, 0, 0, 0, 0, 0, 0, 0, 0, 0, 0, 0, 0, 0, 0]], dtype=int32)>, 'attention_mask': <tf.Tensor: shape=(2, 15), dtype=int32, numpy=\n",
            "array([[1, 1, 1, 1, 1, 1, 1, 1, 1, 1, 1, 1, 1, 1, 1],\n",
            "       [1, 1, 1, 1, 1, 1, 1, 1, 1, 1, 1, 1, 1, 1, 1]], dtype=int32)>}\n"
          ]
        }
      ]
    },
    {
      "cell_type": "markdown",
      "metadata": {
        "id": "lr4BViO8cY7U"
      },
      "source": [
        "* Input ids: are the only required parameters to be passed to the model as input. They are token indices, numerical representations of tokens building the sequences that will be used as input by the model.\n",
        "* Attention mask: is an optional argument used when batching sequences together. This argument indicates to the model which tokens should be attended to, and which should not.\n",
        "* Token type ids: Some models’ purpose is to do sequence classification or question answering. These require two different sequences to be joined in a single “input_ids” entry, which usually is performed with the help of special tokens, such as the classifier ([CLS]) and separator ([SEP]) tokens. For example, the BERT model builds its two sequence input as such:\n",
        "\n",
        "* Here, we will tokenize news articles. To setup for BERT, we need to add special tokens,  namely [CLS] at the beginning and [SEP] at the end of each sentence. Also, we need to pad or truncate all sentences to a single constant length."
      ]
    },
    {
      "cell_type": "code",
      "source": [
        "BATCH_SIZE = 8\n",
        "TRAIN_SHUFFLE_BUFFER_SIZE = len(train_x)\n",
        "VALIDATION_SHUFFLE_BUFFER_SIZE = len(validate_x)\n",
        "\n",
        "# Feature constraints\n",
        "sequence_length = 256\n",
        "\n",
        "# Tokenize train x\n",
        "train_x_processed = tokenizer.batch_encode_plus(\n",
        "        train_x,\n",
        "        return_tensors='tf',\n",
        "        add_special_tokens = True, # add [CLS], [SEP]\n",
        "        return_token_type_ids=True,\n",
        "        padding='max_length',\n",
        "        max_length=sequence_length,\n",
        "        return_attention_mask = True,\n",
        "        truncation='longest_first'\n",
        "    )\n",
        "\n",
        "# Tokenize validate x\n",
        "validate_x_processed = tokenizer.batch_encode_plus(\n",
        "        validate_x,\n",
        "        return_tensors='tf',\n",
        "        add_special_tokens = True, # add [CLS], [SEP]\n",
        "        return_token_type_ids=True,\n",
        "        padding='max_length',\n",
        "        max_length=sequence_length,\n",
        "        return_attention_mask = True,\n",
        "        truncation='longest_first'\n",
        "    )\n",
        "\n",
        "print(train_x_processed.keys())\n",
        "\n",
        "# Create TF Dataset\n",
        "train_data = tf.data.Dataset.from_tensor_slices(((train_x_processed[\"input_ids\"],\n",
        "                                                  train_x_processed[\"token_type_ids\"],\n",
        "                                                  train_x_processed[\"attention_mask\"]), train_processed_y))\n",
        "validation_data = tf.data.Dataset.from_tensor_slices(((validate_x_processed[\"input_ids\"],\n",
        "                                                  validate_x_processed[\"token_type_ids\"],\n",
        "                                                  validate_x_processed[\"attention_mask\"]), validate_processed_y))\n",
        "\n",
        "#############\n",
        "# Train data\n",
        "#############\n",
        "train_data = train_data.shuffle(buffer_size=TRAIN_SHUFFLE_BUFFER_SIZE)\n",
        "train_data = train_data.batch(BATCH_SIZE)\n",
        "train_data = train_data.prefetch(buffer_size=AUTOTUNE)\n",
        "\n",
        "##################\n",
        "# Validation data\n",
        "##################\n",
        "validation_data = validation_data.shuffle(buffer_size=VALIDATION_SHUFFLE_BUFFER_SIZE)\n",
        "validation_data = validation_data.batch(BATCH_SIZE)\n",
        "validation_data = validation_data.prefetch(buffer_size=AUTOTUNE)\n",
        "\n",
        "print(\"train_data\",train_data)\n",
        "print(\"validation_data\",validation_data)"
      ],
      "metadata": {
        "colab": {
          "base_uri": "https://localhost:8080/"
        },
        "id": "gr4qnSSpiNiL",
        "outputId": "f97d91c2-ba13-429a-b158-26fd5abb302d"
      },
      "execution_count": null,
      "outputs": [
        {
          "output_type": "stream",
          "name": "stdout",
          "text": [
            "dict_keys(['input_ids', 'token_type_ids', 'attention_mask'])\n",
            "train_data <PrefetchDataset element_spec=((TensorSpec(shape=(None, 256), dtype=tf.int32, name=None), TensorSpec(shape=(None, 256), dtype=tf.int32, name=None), TensorSpec(shape=(None, 256), dtype=tf.int32, name=None)), TensorSpec(shape=(None, 3), dtype=tf.float32, name=None))>\n",
            "validation_data <PrefetchDataset element_spec=((TensorSpec(shape=(None, 256), dtype=tf.int32, name=None), TensorSpec(shape=(None, 256), dtype=tf.int32, name=None), TensorSpec(shape=(None, 256), dtype=tf.int32, name=None)), TensorSpec(shape=(None, 3), dtype=tf.float32, name=None))>\n"
          ]
        }
      ]
    },
    {
      "cell_type": "code",
      "source": [
        "def build_pretrained_bert(num_classes):\n",
        "  # Set the model name as\n",
        "  model_name = 'bert_pretrained'\n",
        "  model = TFBertForSequenceClassification.from_pretrained('bert-base-uncased', num_labels=num_classes,name=model_name)\n",
        "  model.layers[0].trainable=True\n",
        "  return model"
      ],
      "metadata": {
        "id": "gCVuvUj6jlbJ"
      },
      "execution_count": null,
      "outputs": []
    },
    {
      "cell_type": "code",
      "source": [
        "############################\n",
        "# Training Params\n",
        "############################\n",
        "learning_rate = 2e-5\n",
        "epochs = 5\n",
        "\n",
        "# Free up memory\n",
        "K.clear_session()\n",
        "\n",
        "# Build the model\n",
        "model = build_pretrained_bert(num_classes)\n",
        "\n",
        "# Print the model architecture\n",
        "print(model.summary())\n",
        "\n",
        "# Optimizer\n",
        "optimizer = tf.keras.optimizers.Adam(learning_rate=learning_rate, epsilon=1e-08)\n",
        "# Loss\n",
        "loss = tf.keras.losses.CategoricalCrossentropy(from_logits=True)\n",
        "\n",
        "# Compile\n",
        "model.compile(loss=loss,\n",
        "                  optimizer=optimizer,\n",
        "                  metrics=['accuracy'])\n",
        "\n",
        "# Train model\n",
        "start_time = time.time()\n",
        "training_results = model.fit(\n",
        "        train_data,\n",
        "        validation_data=validation_data,\n",
        "        epochs=epochs, \n",
        "        verbose=1)\n",
        "execution_time = (time.time() - start_time)/60.0\n",
        "print(\"Training execution time (mins)\",execution_time)\n",
        "\n",
        "evaluate_save_model(model,validation_data, training_results,execution_time, learning_rate, BATCH_SIZE, epochs, optimizer,save=True)"
      ],
      "metadata": {
        "colab": {
          "base_uri": "https://localhost:8080/",
          "height": 945
        },
        "id": "7-VTGcMKjo21",
        "outputId": "940b48bd-a35b-40fd-bb9e-f4433c01cd69"
      },
      "execution_count": null,
      "outputs": [
        {
          "output_type": "stream",
          "name": "stderr",
          "text": [
            "All model checkpoint layers were used when initializing TFBertForSequenceClassification.\n",
            "\n",
            "Some layers of TFBertForSequenceClassification were not initialized from the model checkpoint at bert-base-uncased and are newly initialized: ['classifier']\n",
            "You should probably TRAIN this model on a down-stream task to be able to use it for predictions and inference.\n"
          ]
        },
        {
          "output_type": "stream",
          "name": "stdout",
          "text": [
            "Model: \"bert_pretrained\"\n",
            "_________________________________________________________________\n",
            " Layer (type)                Output Shape              Param #   \n",
            "=================================================================\n",
            " bert (TFBertMainLayer)      multiple                  109482240 \n",
            "                                                                 \n",
            " dropout_37 (Dropout)        multiple                  0         \n",
            "                                                                 \n",
            " classifier (Dense)          multiple                  2307      \n",
            "                                                                 \n",
            "=================================================================\n",
            "Total params: 109,484,547\n",
            "Trainable params: 109,484,547\n",
            "Non-trainable params: 0\n",
            "_________________________________________________________________\n",
            "None\n",
            "Epoch 1/5\n",
            "92/92 [==============================] - 34s 211ms/step - loss: 0.6126 - accuracy: 0.7826 - val_loss: 0.2631 - val_accuracy: 0.9239\n",
            "Epoch 2/5\n",
            "92/92 [==============================] - 17s 182ms/step - loss: 0.1693 - accuracy: 0.9552 - val_loss: 0.1727 - val_accuracy: 0.9565\n",
            "Epoch 3/5\n",
            "92/92 [==============================] - 17s 182ms/step - loss: 0.0818 - accuracy: 0.9823 - val_loss: 0.2336 - val_accuracy: 0.9185\n",
            "Epoch 4/5\n",
            "92/92 [==============================] - 17s 183ms/step - loss: 0.0337 - accuracy: 0.9932 - val_loss: 0.1739 - val_accuracy: 0.9565\n",
            "Epoch 5/5\n",
            "92/92 [==============================] - 17s 182ms/step - loss: 0.0119 - accuracy: 0.9973 - val_loss: 0.2591 - val_accuracy: 0.9457\n",
            "Training execution time (mins) 1.759671441713969\n"
          ]
        },
        {
          "output_type": "display_data",
          "data": {
            "text/plain": [
              "<Figure size 1080x360 with 2 Axes>"
            ],
            "image/png": "[encoded data removed]"
          },
          "metadata": {
            "needs_background": "light"
          }
        },
        {
          "output_type": "stream",
          "name": "stdout",
          "text": [
            "23/23 [==============================] - 2s 69ms/step - loss: 0.2591 - accuracy: 0.9457\n",
            "[0.2591255307197571, 0.945652186870575]\n"
          ]
        }
      ]
    },
    {
      "cell_type": "markdown",
      "metadata": {
        "id": "GMs9Edxpdsji"
      },
      "source": [
        "### **Compare all Models**"
      ]
    },
    {
      "cell_type": "code",
      "metadata": {
        "colab": {
          "base_uri": "https://localhost:8080/",
          "height": 237
        },
        "outputId": "7270d4d6-d4e6-49c4-cfb6-41b3e9ee5a84",
        "id": "KkasxT2wdsjj"
      },
      "source": [
        "models_metrics_list = glob(experiment_name+\"/*_model_metrics.json\")\n",
        "\n",
        "all_models_metrics = []\n",
        "for mm_file in models_metrics_list:\n",
        "  with open(mm_file) as json_file:\n",
        "    model_metrics = json.load(json_file)\n",
        "    all_models_metrics.append(model_metrics)\n",
        "\n",
        "# Load metrics to dataframe\n",
        "view_metrics = pd.DataFrame(data=all_models_metrics)\n",
        "\n",
        "# Format columns\n",
        "view_metrics['accuracy'] = view_metrics['accuracy']*100\n",
        "view_metrics['accuracy'] = view_metrics['accuracy'].map('{:,.2f}%'.format)\n",
        "\n",
        "view_metrics['trainable_parameters'] = view_metrics['trainable_parameters'].map('{:,.0f}'.format)\n",
        "view_metrics['execution_time'] = view_metrics['execution_time'].map('{:,.2f} mins'.format)\n",
        "view_metrics['loss'] = view_metrics['loss'].map('{:,.2f}'.format)\n",
        "view_metrics['model_size'] = view_metrics['model_size']/1000000\n",
        "view_metrics['model_size'] = view_metrics['model_size'].map('{:,.0f} MB'.format)\n",
        "\n",
        "# Filter columns\n",
        "view_metrics = view_metrics[[\"trainable_parameters\",\"execution_time\",\"loss\",\n",
        "                             \"accuracy\",\"model_size\",\"learning_rate\",\"epochs\",\"name\"]]\n",
        "view_metrics = view_metrics.sort_values(by=['accuracy'],ascending=False)\n",
        "view_metrics.head(10)"
      ],
      "execution_count": null,
      "outputs": [
        {
          "output_type": "execute_result",
          "data": {
            "text/plain": [
              "  trainable_parameters execution_time  loss accuracy model_size  \\\n",
              "3          109,484,547      1.76 mins  0.26   94.57%     438 MB   \n",
              "0           17,199,619      0.05 mins  4.67   89.13%      69 MB   \n",
              "1           17,199,619      0.05 mins  6.71   88.59%      69 MB   \n",
              "4               46,595      0.22 mins  0.48   88.04%       6 MB   \n",
              "5            1,546,595      2.64 mins  2.30   62.50%       6 MB   \n",
              "2            2,863,619      0.04 mins  1.15   33.70%      11 MB   \n",
              "\n",
              "   learning_rate  epochs                 name  \n",
              "3        0.00002       5      bert_pretrained  \n",
              "0        0.01000      10         binary_1gram  \n",
              "1        0.01000      10         binary_2gram  \n",
              "4        0.01000      10  lstm_pretrained_emb  \n",
              "5        0.01000      10       lstm_model_emb  \n",
              "2        0.01000      10           simple_fcn  "
            ],
            "text/html": [
              "\n",
              "  <div id=\"df-ea2bb796-711d-433e-9d62-ec6d3637e414\">\n",
              "    <div class=\"colab-df-container\">\n",
              "      <div>\n",
              "<style scoped>\n",
              "    .dataframe tbody tr th:only-of-type {\n",
              "        vertical-align: middle;\n",
              "    }\n",
              "\n",
              "    .dataframe tbody tr th {\n",
              "        vertical-align: top;\n",
              "    }\n",
              "\n",
              "    .dataframe thead th {\n",
              "        text-align: right;\n",
              "    }\n",
              "</style>\n",
              "<table border=\"1\" class=\"dataframe\">\n",
              "  <thead>\n",
              "    <tr style=\"text-align: right;\">\n",
              "      <th></th>\n",
              "      <th>trainable_parameters</th>\n",
              "      <th>execution_time</th>\n",
              "      <th>loss</th>\n",
              "      <th>accuracy</th>\n",
              "      <th>model_size</th>\n",
              "      <th>learning_rate</th>\n",
              "      <th>epochs</th>\n",
              "      <th>name</th>\n",
              "    </tr>\n",
              "  </thead>\n",
              "  <tbody>\n",
              "    <tr>\n",
              "      <th>3</th>\n",
              "      <td>109,484,547</td>\n",
              "      <td>1.76 mins</td>\n",
              "      <td>0.26</td>\n",
              "      <td>94.57%</td>\n",
              "      <td>438 MB</td>\n",
              "      <td>0.00002</td>\n",
              "      <td>5</td>\n",
              "      <td>bert_pretrained</td>\n",
              "    </tr>\n",
              "    <tr>\n",
              "      <th>0</th>\n",
              "      <td>17,199,619</td>\n",
              "      <td>0.05 mins</td>\n",
              "      <td>4.67</td>\n",
              "      <td>89.13%</td>\n",
              "      <td>69 MB</td>\n",
              "      <td>0.01000</td>\n",
              "      <td>10</td>\n",
              "      <td>binary_1gram</td>\n",
              "    </tr>\n",
              "    <tr>\n",
              "      <th>1</th>\n",
              "      <td>17,199,619</td>\n",
              "      <td>0.05 mins</td>\n",
              "      <td>6.71</td>\n",
              "      <td>88.59%</td>\n",
              "      <td>69 MB</td>\n",
              "      <td>0.01000</td>\n",
              "      <td>10</td>\n",
              "      <td>binary_2gram</td>\n",
              "    </tr>\n",
              "    <tr>\n",
              "      <th>4</th>\n",
              "      <td>46,595</td>\n",
              "      <td>0.22 mins</td>\n",
              "      <td>0.48</td>\n",
              "      <td>88.04%</td>\n",
              "      <td>6 MB</td>\n",
              "      <td>0.01000</td>\n",
              "      <td>10</td>\n",
              "      <td>lstm_pretrained_emb</td>\n",
              "    </tr>\n",
              "    <tr>\n",
              "      <th>5</th>\n",
              "      <td>1,546,595</td>\n",
              "      <td>2.64 mins</td>\n",
              "      <td>2.30</td>\n",
              "      <td>62.50%</td>\n",
              "      <td>6 MB</td>\n",
              "      <td>0.01000</td>\n",
              "      <td>10</td>\n",
              "      <td>lstm_model_emb</td>\n",
              "    </tr>\n",
              "    <tr>\n",
              "      <th>2</th>\n",
              "      <td>2,863,619</td>\n",
              "      <td>0.04 mins</td>\n",
              "      <td>1.15</td>\n",
              "      <td>33.70%</td>\n",
              "      <td>11 MB</td>\n",
              "      <td>0.01000</td>\n",
              "      <td>10</td>\n",
              "      <td>simple_fcn</td>\n",
              "    </tr>\n",
              "  </tbody>\n",
              "</table>\n",
              "</div>\n",
              "      <button class=\"colab-df-convert\" onclick=\"convertToInteractive('df-ea2bb796-711d-433e-9d62-ec6d3637e414')\"\n",
              "              title=\"Convert this dataframe to an interactive table.\"\n",
              "              style=\"display:none;\">\n",
              "        \n",
              "  <svg xmlns=\"http://www.w3.org/2000/svg\" height=\"24px\"viewBox=\"0 0 24 24\"\n",
              "       width=\"24px\">\n",
              "    <path d=\"M0 0h24v24H0V0z\" fill=\"none\"/>\n",
              "    <path d=\"M18.56 5.44l.94 2.06.94-2.06 2.06-.94-2.06-.94-.94-2.06-.94 2.06-2.06.94zm-11 1L8.5 8.5l.94-2.06 2.06-.94-2.06-.94L8.5 2.5l-.94 2.06-2.06.94zm10 10l.94 2.06.94-2.06 2.06-.94-2.06-.94-.94-2.06-.94 2.06-2.06.94z\"/><path d=\"M17.41 7.96l-1.37-1.37c-.4-.4-.92-.59-1.43-.59-.52 0-1.04.2-1.43.59L10.3 9.45l-7.72 7.72c-.78.78-.78 2.05 0 2.83L4 21.41c.39.39.9.59 1.41.59.51 0 1.02-.2 1.41-.59l7.78-7.78 2.81-2.81c.8-.78.8-2.07 0-2.86zM5.41 20L4 18.59l7.72-7.72 1.47 1.35L5.41 20z\"/>\n",
              "  </svg>\n",
              "      </button>\n",
              "      \n",
              "  <style>\n",
              "    .colab-df-container {\n",
              "      display:flex;\n",
              "      flex-wrap:wrap;\n",
              "      gap: 12px;\n",
              "    }\n",
              "\n",
              "    .colab-df-convert {\n",
              "      background-color: #E8F0FE;\n",
              "      border: none;\n",
              "      border-radius: 50%;\n",
              "      cursor: pointer;\n",
              "      display: none;\n",
              "      fill: #1967D2;\n",
              "      height: 32px;\n",
              "      padding: 0 0 0 0;\n",
              "      width: 32px;\n",
              "    }\n",
              "\n",
              "    .colab-df-convert:hover {\n",
              "      background-color: #E2EBFA;\n",
              "      box-shadow: 0px 1px 2px rgba(60, 64, 67, 0.3), 0px 1px 3px 1px rgba(60, 64, 67, 0.15);\n",
              "      fill: #174EA6;\n",
              "    }\n",
              "\n",
              "    [theme=dark] .colab-df-convert {\n",
              "      background-color: #3B4455;\n",
              "      fill: #D2E3FC;\n",
              "    }\n",
              "\n",
              "    [theme=dark] .colab-df-convert:hover {\n",
              "      background-color: #434B5C;\n",
              "      box-shadow: 0px 1px 3px 1px rgba(0, 0, 0, 0.15);\n",
              "      filter: drop-shadow(0px 1px 2px rgba(0, 0, 0, 0.3));\n",
              "      fill: #FFFFFF;\n",
              "    }\n",
              "  </style>\n",
              "\n",
              "      <script>\n",
              "        const buttonEl =\n",
              "          document.querySelector('#df-ea2bb796-711d-433e-9d62-ec6d3637e414 button.colab-df-convert');\n",
              "        buttonEl.style.display =\n",
              "          google.colab.kernel.accessAllowed ? 'block' : 'none';\n",
              "\n",
              "        async function convertToInteractive(key) {\n",
              "          const element = document.querySelector('#df-ea2bb796-711d-433e-9d62-ec6d3637e414');\n",
              "          const dataTable =\n",
              "            await google.colab.kernel.invokeFunction('convertToInteractive',\n",
              "                                                     [key], {});\n",
              "          if (!dataTable) return;\n",
              "\n",
              "          const docLinkHtml = 'Like what you see? Visit the ' +\n",
              "            '<a target=\"_blank\" href=https://colab.research.google.com/notebooks/data_table.ipynb>data table notebook</a>'\n",
              "            + ' to learn more about interactive tables.';\n",
              "          element.innerHTML = '';\n",
              "          dataTable['output_type'] = 'display_data';\n",
              "          await google.colab.output.renderOutput(dataTable, element);\n",
              "          const docLink = document.createElement('div');\n",
              "          docLink.innerHTML = docLinkHtml;\n",
              "          element.appendChild(docLink);\n",
              "        }\n",
              "      </script>\n",
              "    </div>\n",
              "  </div>\n",
              "  "
            ]
          },
          "metadata": {},
          "execution_count": 207
        }
      ]
    },
    {
      "cell_type": "markdown",
      "source": [
        "## **Text Generation using Language Model: GPT2** "
      ],
      "metadata": {
        "id": "RfUnZ9mXt3aq"
      }
    },
    {
      "cell_type": "markdown",
      "metadata": {
        "id": "OyE1_j4G6mof"
      },
      "source": [
        "### **GPT2 Pretrained Lanaguage Model** <div id='gpt2_pretrained'>"
      ]
    },
    {
      "cell_type": "markdown",
      "metadata": {
        "id": "wB6uwb0R7vm2"
      },
      "source": [
        "**Tokenizer for GPT2**"
      ]
    },
    {
      "cell_type": "code",
      "metadata": {
        "id": "QSzrsIKZ7yzd"
      },
      "source": [
        "# Tokenizer - Load the tokenizer specific to gpt2 training\n",
        "tokenizer = GPT2Tokenizer.from_pretrained(\"gpt2\")"
      ],
      "execution_count": null,
      "outputs": []
    },
    {
      "cell_type": "markdown",
      "metadata": {
        "id": "LFlh-kxC8C87"
      },
      "source": [
        "**Load GPT2 Pretrained Model**"
      ]
    },
    {
      "cell_type": "code",
      "source": [
        "# Model - Load pretrained GPT Language Model\n",
        "model = TFGPT2LMHeadModel.from_pretrained(\"gpt2\", pad_token_id=tokenizer.eos_token_id)"
      ],
      "metadata": {
        "colab": {
          "base_uri": "https://localhost:8080/"
        },
        "id": "l3OI7VpFvNRJ",
        "outputId": "0dfd044c-be04-47a8-afe7-dcc9af3ac2be"
      },
      "execution_count": null,
      "outputs": [
        {
          "output_type": "stream",
          "name": "stderr",
          "text": [
            "All model checkpoint layers were used when initializing TFGPT2LMHeadModel.\n",
            "\n",
            "All the layers of TFGPT2LMHeadModel were initialized from the model checkpoint at gpt2.\n",
            "If your task is similar to the task the model of the checkpoint was trained on, you can already use TFGPT2LMHeadModel for predictions without further training.\n"
          ]
        }
      ]
    },
    {
      "cell_type": "code",
      "source": [
        "# Input text\n",
        "input_text = \"Summer is almost here\" # enter a prompt here\n",
        "\n",
        "# Tokenize Input\n",
        "input_ids = tokenizer.encode(input_text, return_tensors='tf')\n",
        "\n",
        "# Generate output\n",
        "outputs = model.generate(\n",
        "    input_ids, \n",
        "    do_sample=True, \n",
        "    max_length=100, \n",
        "    top_p=0.80, \n",
        "    top_k=0\n",
        ")\n",
        "\n",
        "print(\"Generated text:\")\n",
        "print(tokenizer.decode(outputs[0], skip_special_tokens=True))"
      ],
      "metadata": {
        "colab": {
          "base_uri": "https://localhost:8080/"
        },
        "id": "9JnY7AY4vJsw",
        "outputId": "318a9b1d-efef-4bfc-b5ac-f78997b3d7d9"
      },
      "execution_count": null,
      "outputs": [
        {
          "output_type": "stream",
          "name": "stdout",
          "text": [
            "Generated text:\n",
            "Summer is almost here, then we'll be back to sleep.\n",
            "\n",
            "* * *\n",
            "\n",
            "Renee worries. She'd let all her friends know just before they saw her, and that she didn't want them to know. She'd felt the need to yell at the best of her abilities in her sleep, yet didn't want to look at her familiar friends at the base of the stairs. It seemed like it was a bad idea, because she didn't want to be an insect.\n"
          ]
        }
      ]
    },
    {
      "cell_type": "markdown",
      "source": [
        "### **Finetune GPT-2 Lanaguage Model** "
      ],
      "metadata": {
        "id": "zbdYcGs9vc_z"
      }
    },
    {
      "cell_type": "markdown",
      "source": [
        "### **Overview**\n",
        "\n",
        "In this section, we're going to be working with news articles from CNN related to covid-19. We will explore the dataset, prepare the data for finetuning GPT2. Our fine-tuned GPT2 will be able to write articles related to covid-19.\n",
        "\n",
        "**The Task:** Finetune GPT2 to build a language model on news articles related to health, specifically covid-19 related articles.\n"
      ],
      "metadata": {
        "id": "PpTvtBwgt3n9"
      }
    },
    {
      "cell_type": "markdown",
      "metadata": {
        "id": "C3f3_gGXHViC"
      },
      "source": [
        "#### **Download Dataset**\n",
        "\n",
        "Download the datasets to colab."
      ]
    },
    {
      "cell_type": "code",
      "metadata": {
        "colab": {
          "base_uri": "https://localhost:8080/"
        },
        "id": "egOka1XlMwWD",
        "outputId": "3d65f10d-07c3-498f-bdf0-cc0e69363d2d"
      },
      "source": [
        "start_time = time.time()\n",
        "# Download\n",
        "dataset_path = tf.keras.utils.get_file(\n",
        "    origin=\"https://storage.googleapis.com/cs109b/datasets/covid.zip\",\n",
        "    extract=True)\n",
        "dataset_path = dataset_path.replace(\".zip\",\"\")\n",
        "print(\"dataset_path:\",dataset_path)\n",
        "execution_time = (time.time() - start_time)/60.0\n",
        "print(\"Download execution time (mins)\",execution_time)"
      ],
      "execution_count": null,
      "outputs": [
        {
          "output_type": "stream",
          "name": "stdout",
          "text": [
            "dataset_path: /root/.keras/datasets/covid\n",
            "Download execution time (mins) 0.008629608154296874\n"
          ]
        }
      ]
    },
    {
      "cell_type": "markdown",
      "metadata": {
        "id": "BeRlscziOFqe"
      },
      "source": [
        "#### **Load Data**\n",
        "\n",
        "* Read-in data as lists."
      ]
    },
    {
      "cell_type": "code",
      "metadata": {
        "colab": {
          "base_uri": "https://localhost:8080/"
        },
        "id": "YhzSkToQNDtu",
        "outputId": "2cf1a6fb-446b-45f2-db79-ee84b355711f"
      },
      "source": [
        "# Load all the paths to text files\n",
        "training_data = []\n",
        "text_files = os.listdir(dataset_path)\n",
        "training_data.extend([os.path.join(dataset_path,f) for f in text_files])\n",
        "\n",
        "# Subset your training data for demo, full datset can take a long time to train\n",
        "subset_data = True\n",
        "if subset_data:\n",
        "  training_data = training_data[:300]\n",
        "\n",
        "# Load the text content\n",
        "for idx, path in enumerate(training_data):\n",
        "  # Load text\n",
        "  with open(path) as file:\n",
        "    training_data[idx] = file.read()\n",
        "\n",
        "print(\"training_data count:\",len(training_data))"
      ],
      "execution_count": null,
      "outputs": [
        {
          "output_type": "stream",
          "name": "stdout",
          "text": [
            "training_data count: 300\n"
          ]
        }
      ]
    },
    {
      "cell_type": "markdown",
      "metadata": {
        "id": "vuVI0fRaOJ6V"
      },
      "source": [
        "#### **View Text**\n",
        "\n",
        "Let's take a look at the data."
      ]
    },
    {
      "cell_type": "code",
      "metadata": {
        "colab": {
          "base_uri": "https://localhost:8080/"
        },
        "id": "vOnaQxrdNquT",
        "outputId": "7b5a54d3-f888-48c7-fde4-94c269fd6059"
      },
      "source": [
        "# Generate a random sample of index\n",
        "data_samples = np.random.randint(0,high=len(training_data)-1, size=10)\n",
        "for i,data_idx in enumerate(data_samples):\n",
        "  print(\"Text:\",training_data[data_idx])"
      ],
      "execution_count": null,
      "outputs": [
        {
          "output_type": "stream",
          "name": "stdout",
          "text": [
            "Text: Vitamin C, zinc don't lessen Covid-19 symptoms, study finds  (CNN)Can vitamin C and zinc help you fight off Covid-19?  No, not even at high doses, according to the first randomized clinical trial to test the two supplements under medical supervision.   Despite the popular use of vitamin C and zinc to fight off or lessen the severity of viral colds and flu, the new study, published Friday in JAMA Network Open, found the two supplements were of no benefit to people isolating at home with Covid-19. In fact, the findings were so unimpressive that the study was stopped early.  \"Unfortunately, these 2 supplements failed to live up to their hype,\" wrote Dr. Erin Michos of John Hopkins and Houston Methodist's Dr. Miguel Cainzos-Achirica, in an accompanying editorial. The clinical trial gave high doses of each supplement alone and in combination to one of three groups of 214 adults who were recovering at home. A fourth group got standard care, such as rest, hydration and fever-reducing medications, but no supplements. \"High-dose zinc gluconate (zinc), ascorbic acid (vitamin C), or both supplements did not reduce SARS-CoV-2 symptoms,\" according to Cleveland Clinic cardiologist Dr. Milind Desai and a team from Cleveland Clinic. The high doses, however, did cause some unpleasant side effects for patients taking the supplements. \"More adverse effects (nausea, diarrhea, and stomach cramps) were reported in the supplement groups than in the usual care group,\" wrote Michos, an associate professor of medicine at Johns Hopkins University School of Medicine, and Cainzos-Achirica, an assistant professor of preventive cardiology at Houston Methodist. Popular supplements Many Americans turn to vitamin C and zinc supplements to fight off viral colds and flu.  Vitamin C is a recognized antioxidant, and plays an essential role in supporting the immune system. Even though it has not been shown to prevent illness, other research has found vitamin C can shorten colds by 8% in adults and 14% in kids.  Using vitamin C after cold symptoms start, however, doesn't appear to be helpful, according to the National Institutes of Health. Zinc may help a cell's ability to fight infection, the study said, \"while there is evidence that zinc deficiency increases pro-inflammatory cytokines and decreases the production of antibodies.\" But what does that mean in real life? If taken within 24 hours of the very first signs of a cold, zinc may reduce the length of a cold by only one day, a a review of 13 studies found. There is a down side, too. Taking over 2,000 milligrams of vitamin C a day can cause heartburn, stomach cramps, nausea, vomiting, diarrhea and headaches. The average daily recommended amount of vitamin C is 75 milligrams for adult women and 90 milligrams for men. Over 40 milligrams of zinc each day can cause dry mouth, nausea, loss of appetite and diarrhea, plus it can have a nasty metallic taste.  Long-term users can have \"low copper levels, lower immunity, and low levels of HDL cholesterol (the 'good' cholesterol),\" according to the NIH. In 2009, the FDA warned the public against using zinc nasal sprays because they were linked to more than 100 cases of loss of smell.  Research continues Scientists are continuing to explore the use of vitamins and supplements in the treatment of Covid-19.  Randomized trials are currently underway to see if vitamin D supplements can help -- in addition to supporting healthy bone growth, vitamin D has anti-inflammatory properties. Researchers in the US and China are using intravenous doses of vitamin C to determine if it might help people with respiratory failure severe enough to be put on a ventilator.  And more studies are in progress to see if Covid-19 can be prevented by supplements such as vitamins C and D and zinc. Based on this study, however, the use of vitamin C and zinc to shorten the duration of Covid-19 appears to be useless. CNN's Maggie Fox contributed to this story. \n",
            "Text: Dr. Sanjay Gupta: I won't be visiting with family this Thanksgiving. You shouldn't either.  (CNN)The country saw it after Memorial Day, the Fourth of July and Labor Day: spikes in Covid-19 cases in parts of the country a few weeks after Americans gathered with family and friends to celebrate. We were warned each time.  Some of us told ourselves that we were fatigued from the spring lockdown (true), the weather was finally warming up (true), we had done so well keeping infection rates from soaring during the summer (not really true -- we never even got them low enough to emerge from the so-called first wave). But, not surprisingly, the infection rates kept climbing.    The country is facing some of these same choices again as we quickly head into the trifecta of holidays: Thanksgiving, the December holidays (Hanukkah, Christmas and Kwanzaa), and New Year's Eve.    The US Centers for Disease Control and Prevention updated its recommendations Thursday, to advise against Thanksgiving travel and gathering with people outside our own households. The big question: Have we learned the tough lessons?    Cindy McMahon, from Manasquan, New Jersey, was hoping her brother's family would be able to join her family of four, plus their 87-year-old mother, for Thanksgiving this year.   \"Well, my brother and sister-in-law have been spending Thanksgiving elsewhere for a number of years, and they decided that this year they would like to change their routine and join us,\" she told me.    So McMahon and her sister-in-law hatched their plan back in August, when cases in New Jersey were under control. \"They would join us and there would be nine of us for Thanksgiving,\" she said.  They had no idea how much things would change again over the next three months. Laying the groundwork for winter What McMahon, her family and the rest of us choose to do in the coming weeks will likely lay the groundwork for the pandemic's path during the long, cold days that follow this winter.    The sad truth is, we are in an even worse position than we were this summer: Prior to the earlier holidays, the trajectory of the pandemic was declining in at least some states. Currently, infection rates are rising in 44 states.     For more than two weeks straight, the country has added more than 100,000 new coronavirus diagnoses every day. On Friday, the country tallied its highest number of Covid-19 cases: 195,542. By comparison, on Memorial Day, there were fewer than 20,000 daily new cases.    All told, the country is rapidly closing in on 12 million coronavirus cases and there have been more than 250,000 deaths. On Friday alone, more than 1,850 deaths were reported.  Also on Friday,  a record high number of hospitalizations due to Covid-19 -- 82,178 people --  according to the Covid Tracking Project. Hospitals in some states are overwhelmed; staff shortages due to illness are compounding the problem.   The Institute for Health Metrics and Evaluation at the University of Washington predicts that by the start of January, more than 2,000 people in the US will die every day from Covid-19 and that if behavior doesn't change, total US deaths could reach more than 471,000 by March 1. And it warns that hospital systems, particularly ICUs, are expected to be \"under extreme stress in December and January in 18 states.\"    State after state is imposing new restrictions. And public health experts are sounding the alarm louder than before.   One of the biggest areas of concern: small, indoor household gatherings, like the ones most families typically plan this time of year. Let's face it. It is getting colder outside, which means most of the country will be spending time indoors.   Also, when you are eating, you can't wear a mask. And, holiday dinners aren't quiet affairs, which means there is likely to be loud talking and maybe even singing, which is festive, but also a prescription for aerosolized virus.    And can you imagine not hugging or snuggling in close? Add a glass of wine into the equation, and physical distancing might go out the window.   It is why CDC Director Dr. Robert Redfield specifically singled out the holidays when he spoke to the nation's governors a few weeks ago. \"What we're seeing as the increasing threat right now is actually acquisition of infection through small household gatherings. And particularly with Thanksgiving coming up, we think it's really important to stress the vigilance of these continued mitigation steps in the household setting,\" he told them.    And, that brings us back to Cindy McMahon.    For her part, McMahon started building a spreadsheet. \"I started to think about it ... and that's what led me to create that spreadsheet. ... I really thought that I could figure out a way to make it work,\" she said.   She took what she knew of each family member -- their age and comorbidities, who they come into contact with, do they leave home for school or work, do they wear masks consistently, do the people they come into contact with wear masks consistently, what leisure activities do they participate in -- and into the spreadsheet it all went.     \"I decided that I would fill in for each individual and see where that led and whether there was some way we could, in fact, be together, sitting across from each other at the dining room table ... enjoying our meal without our masks on. And that was my thought process. How can I make that happen again? How can we have a relatively normal Thanksgiving in anything but normal times?\" she wondered.  The safest solution It is true that some communities are safer than others, with lower levels of community spread, but overall, the country is widely infected at this point, and travel during holidays can turn any place into a hotspot.     That's why most public health officials, and the CDC will tell you the safest choice is to stay home and not gather in person with people outside your immediate household. Instead, do virtual gatherings with family members and friends.    You'll be in good company. The director of the National Institutes of Health, Dr. Francis Collins, said that for the first time in 27 years, his family will not be gathering for Thanksgiving.    \"It is just not safe to take that kind of chance with people coming from different parts of the country of uncertain status. The problem with this disease is, it is so easy for people to be infected and not know it, and then spread it to the ones next to them without realizing it,\" he said during an NPR interview in October.    Dr. Scott Gottlieb, a former commissioner of the US Food and Drug Administration, said during a CNBC interview he and his family will forgo Thanksgiving this year, and hopes everyone will do the same.   \"We need to be getting through the next couple of months. This is the hardest point in this pandemic right now -- the next two months. We can't give up our guard right now,\" Gottlieb said, adding that we must think of the older individuals who are most at risk.   And, the same goes for me. Like Gottlieb, I have three daughters, and with my elderly parents living in a different state, this is usually the time of year when we get to see each other.   But this holiday season, our interactions will be on screens -- with promises and hopes that next year will be different. Modifying traditions to limit risk If you are going to attend or host a holiday gathering, the CDC recommends taking several precautions. Even though the weather is getting chilly in most parts of the country, an outdoor gathering is safer than an indoor one; worst of all is an indoor gathering without proper circulation.    If you are still considering having guests coming in from out of town, make sure to take into account the level of community spread at their location of origin. If they are coming from a place where the numbers are increasing and the test positivity rate is above 5-10%, it means an even greater risk.    Another step you should consider is protective self-quarantine before you gather. That means 14 days of no exposures and then a test at the end to make sure everyone is negative before coming together. But many places are seeing a surge in demand for tests, which could mean long waits and slower results. And even a negative test is no guarantee.   The same goes for college students returning home for the holidays. For infection-mitigation purposes, the CDC says they do not count as members of your household.    \"People who have not been living in your household for the 14 days before you are celebrating should not be considered members of your household and so you should take those extra precautions, even wearing masks within your own home,\" Erin Sauber-Schatz, the CDC's lead for Community Intervention and Critical Population Task Force said during a telephone briefing Thursday.  Finally, the agency notes, the larger and the longer the gathering, the greater the risk, so try to keep gatherings as small and as short as possible. Limit the number of people handling the food. And even though it's a festive occasion, it's still important to maintain physical distance between guests from different households, to wear masks and to wash hands often.    Even if you think you and your guests are similarly strict and safety-minded, you need to talk about what that really means.    \"I am finding over and over what one family believes is being very risk averse is not the same as another family describes being risk averse. So even though they sort of think, 'Oh, we're doing the same thing,' they're not,\" said Erin Bromage, an associate professor of biology at the University of Massachusetts Dartmouth and a CNN analyst.    These honest conversations are best done in advance of the holidays, so you can take the answers into consideration when planning.    For Cindy McMahon, the spreadsheet highlighted a host of problems. \"At first I thought, 'Oh, I'm such a genius ... I think maybe I can make this work.' And then as you start filling in those columns, you're like --the feeling of dread --- no: there is no way that that I can make this happen,\" she said.   She thought about having everyone get tested and then hunkering down before the visit, but realized it was unrealistic. \"How could I expect that every family member would be able to stay in? My husband had to go to work and, you know, he's teaching in his school,\" she said.    \"I tried to come up with solutions and it just all came back to 'Let's just be safe,'\" she said, adding that her own mother \"knew immediately it was never going to work.\"   McMahon said she struggled with the decision not to gather for Thanksgiving, but pragmatism beat out denial.    \"I'm very sad. I love the holiday season. I can't even think ahead to Christmastime because I know I'll be crying my eyes out that we can't have our traditional [celebration] -- But you know what? That's OK. Right? Twists and turns in life anyhow, regardless of the virus. So, you just roll with it and keep cooking,\" she said.   And while she won't be making lemon pie out of the lemons we've all been dealt, she's still making pie.    \"When we came to the conclusion that we could not gather together, that didn't mean that I'm not putting a turkey in the oven and that I'm not going to make all the traditional foods and ... three pies and all the goodies,\" she said. She plans to package up some servings and drop off the shopping bags at her mother's doorstep.   Hopefully there will be a lot of stories like McMahon's this holiday season. They are not stories of canceling our holidays, but of recognizing that it will have to be different this year. They are stories full of love, not because we got together this season, but because we sacrificed to keep each other safer. They are stories of physically distancing, but not socially isolating, because we need social connection more than ever.    Hopefully, they're stories of people reminding one another that we are truly in this together, and then rising to the moment by being kind to everyone around you.  CNN Health's Andrea Kane contributed to this report. \n",
            "Text: People with coronavirus are crossing the US-Mexico border for medical care  (CNN)Chris Van Gorder says he's seeing a telling trend in the hospitals he runs. Coronavirus patients are showing up in emergency rooms after calling 911 from the US-Mexico border.  \"They'll literally come to the border and call an ambulance,\" says Van Gorder, president and CEO of Scripps Health, a hospital system in southern California.  The rise in ambulance traffic from the border, which several officials described to CNN, is a symptom of the pandemic's spread in the region -- and a sign of the many connections between communities in both countries. \"There just is not a wall for viruses at the border,\" says Josiah Heyman, director of the Center for Inter-American and Border Studies at the University of Texas at El Paso. \"The wall is an illusion, because the two sides are really woven together.\" An increase in cross-border coronavirus cases, which began getting public attention in May, overwhelmed some California hospitals and spurred the state to create a new patient transfer system to help. \"It's an unprecedented surge across the border,\" says Carmela Coyle, president and CEO of the California Hospital Association.  In the past five weeks, more than 500 patients have been transferred to hospitals across the state from California's Imperial County, which has the state's highest per capita rate of coronavirus cases -- and, according to officials, has seen a large number of patients crossing from Mexico.  But Van Gorder, Coyle and other officials in California say this isn't an immigration issue.  Most of the coronavirus patients crossing the border, they say, are Americans. In a call with state hospital leaders earlier this month, the head of California's emergency medical services authority, Dr. David Duncan, described the steady stream of patients coming to Imperial County as \"gas on the fire.\" \"We've got this continual flow of Covid coming across the border in the form of US citizens that carry and continue to escalate and fuel the Covid pressures that we see,\" Duncan said. The view from the border Officials estimate about a quarter of a million US citizens live across the border in the Mexican state of Baja California. Many work in the US and have family members there. Some regularly go to US hospitals when they need medical attention. Others decided to cross this time because Mexican hospitals were overwhelmed by a crush of coronavirus cases.  \"What has happened as the situation has worsened on the Mexican side of the line is that a number of the US citizens are returning to the United States to seek care for Covid-19,\" says Coyle of the California Hospital Association. Officials in Mexico's Baja California state say the number of active coronavirus cases there are now declining. But the state -- which is home to large cities like Tijuana and Mexicali -- has been hit hard by the pandemic. With more than 1,700 dead, it's among the Mexican states with the highest Covid-19 death tolls and death rates per capita. Sergio A. Beltrán, US Customs and Border Protection's officer in charge for the Calexico ports of entry, said in a statement to CNN that he started to see an increasing flow of people coming across the border for medical care a few months ago.  \"While it varies from day to day, and shift to shift, we have experienced a significant increase in medical-related calls at the Calexico ports of entry that can be directly linked to the COVID-19 pandemic over the last couple of months,\" he said. \"We're definitely seeing people on a daily basis. And we still have our regular medical-related calls that aren't COVID-related from people in accidents or having other medical issues and are coming for medical treatment in the US.\" Sometimes people walk to the port of entry or drive themselves to the border crossing, then call for an ambulance to get them to a US medical facility when they arrive. And sometimes, he said, travelers arrive at the border in Mexican ambulances and have already arranged for US ambulances to meet them there.  What happened in California hospitals as more coronavirus patients crossed At El Centro Regional Medical Center in Imperial County, coronavirus cases started to climb in early May as the situation across the border in Mexicali worsened, says Adolphe Edward, the hospital's CEO. \"That uptick just took a fast, escalating move,\" Edward says. At one point that month, the 161-bed hospital saw so many coronavirus cases that it had to stop accepting any new patients in its emergency room.  Edward says he heard first-hand from his own staff one reason the numbers were going up. \"I've got over 60 staff members that travel back and forth every day. They live in Mexicali, but they come to work here,\" he says. \"They told me it took Mexicali a while to get to the point where they put (social distancing) restrictions. I think that's one reason why the number is as high as it is now.\" About 90 miles to the west, Scripps Mercy Hospital Chula Vista, which is across the border from Tijuana, was also seeing cases starting to climb.  Officials began tracking the travel histories of patients there, and quickly spotted a trend: Many had recently been in Mexico.  \"About half the patients that are testing positive are indicating they've crossed the border within the previous week,\" Van Gorder says. \"The patients that cross the border appear to be sicker than the patients that we've normally been seeing,\" he says. \"It may be that they waited in Mexico too long, or they went to a Mexican hospital and decided to get their care here.\" 'It's almost like a waterfall cascading' The flow of patients across the border has been steady for weeks, says Coyle of the California Hospital Association. And now hospitals across the state  -- including as far north as Sacramento -- are taking in coronavirus patients from Imperial County as part of a new patient transfer system set up to ease the pressure, Coyle said. A challenge across the region, she says, is that so many patients are sick with the same condition, requiring the same equipment for treatment, at the same time. \"That is what driving the shortages of service and supply in Mexicali, driving these expats back to the United States and then driving a very unique movement of patients into and more broadly across the state of California,\" she says. \"It's almost like a waterfall cascading.\" Even though the US-Mexico border has been closed to all but essential travel since March, thousands of people still cross daily. Van Gorder says he's concerned that officials are moving too quickly towards reopening. \"We still don't have our arms completely around Covid and the Covid spread,\" he says. \"And as a border community, I think we have a double risk.\" On Friday Gov. Gavin Newsom said the percentage of positive coronavirus tests in Imperial County was so high that he was recommending that officials reinstate a stay-at-home order there. State officials have said US citizens crossing into California for medical care are among the factors driving the uptick. The governor said Friday that \"it's too early to tell\" if the high number of cases in neighboring Arizona are also a contributing factor , adding that a \"deep dive\" study by the CDC is underway. What's happening in other parts of the border  Heyman, of the University of Texas at El Paso, says there's one thing that's important to remember about coronavirus -- and other issues -- along the vast US-Mexico border. \"The two sides can't be kept separate,\" he says. \"If there's a problem on one side of the border, it flows to the other side.\"  In earlier days of the pandemic, Mexican officials expressed concern about travelers from the US bringing coronavirus into the country.  In the Mexican border city of Nogales in May, officials installed \"sanitizing tunnels\" that sprayed a disinfectant solution on people who'd just come from the US.  \"I don't know what they thought they were doing,\" says Arturo Garino, the mayor of the sister city on the US side of the border, Nogales, Arizona. But Garino says he's concerned about the flow of people traveling across the border, too. While coronavirus cases are surging, particularly in two Arizona counties along the border -- Santa Cruz and Yuma -- Garino says officials haven't pinpointed the cause. \"It has to do a lot with social distancing. It has to do a lot with gatherings,\" he says. \"And I know a lot of residents here go into Mexico and vice versa.\" Garino, who recently signed an order requiring people in his city to wear masks in public places, says he's worried about the frequent cross-border travel that's a part of daily life there intensifying the spread of the virus.  \"I'm concerned because of the spike in cases that we have,\" he says. \"We're trying to do our best to curb this virus, and we continuously keep on going up and up and up.\" CNN's Cheri Mossburg contributed to this report. \n",
            "Text: Fauci implores state and local leaders to 'be as forceful as possible' with mask orders  (CNN)The nation's top infectious disease expert on Friday urged governors and mayors to \"be as forceful as possible\" to get people to wear face coverings. Social distancing, an important factor in blunting the spread of coronavirus, can be difficult with more people going out, Dr. Anthony Fauci said. \"When you're living your life and trying to open up the country, you are going to come into contact with people. And for that reason, we know that masks are really important, and we should be using them everywhere,\" he said during a US Chamber of Commerce virtual event. Americans are actually slowing down the re-opening the country by not wearing a mask, said Fauci, the director of the National Institute of Allergy and Infectious Diseases. He said he respects the \"spirit of independence in our country,\" but says this is different.  People need to understand that we are in a very serious situation that necessitates communities pulling together, he said. \"If we could get more people to understand that, hopefully we'll get more people who'd be willing to wear masks.\"  He said he would \"urge the leaders -- the local political and other leaders -- in states and cities and towns to be as forceful as possible in getting your citizenry to wear masks.\" The country needs to concentrate on the problems at hand and not worry about a second wave, he said. \"When you're having up to 70,000 new infections ...  that's something you need to focus on right now, as opposed to looking at what's going to happen in September or October,\" he said.  There were 77,255 new cases reported Thursday, topping a previous high set two days ago, according to Johns Hopkins University. On Friday, the World Health Organization's situation report said there were a record 237,743 new Covid-19 cases reported to agency in the past 24 hours.  Top doctor feels good about potential treatments The director of the National Institutes of Health, Dr. Francis Collins, said he's \"optimistic\" an \"effective treatment\" for Covid-19 will be available in two to three months. \"There is a lot of progress in therapeutics,\" Collins told CNN's Wolf Blitzer. \"We have two proven drugs -- remdesivir and dexamethasone, both proven in rigorous randomized control trials, which is the only way you really know if something works.\" Remdesivir is an antiviral drug that has been shown to reduce the amount of time people are ill with Covid-19. Dexamethasone is a steroid that may reduce the rate of deaths among seriously ill patients. \"I'm optimistic, without being able to be confident completely, that we'll have something maybe as soon as two or three months from now, in terms of an effective treatment.\" Collins is also optimistic about the development of a successful vaccine by the end of the year.  \"The first vaccine trial, as you probably heard, building on very successful preliminary data, will get started around about July 27 all across the southern part of the country where the virus is spreading.\" Collins says if one of the vaccine trials is successful, there will be \"tens of millions of doses ready to go by the end of 2020, the end of the calendar year.\" Debate over wearing masks heats up An unpublished document prepared for the White House coronavirus task force says 18 states in the coronavirus \"red zone\" for cases should roll back reopening measures amid surging cases. The \"red zone\" is defined as areas \"that during the last week reported both new cases above 100 per 100,000 population, and a diagnostic test positivity result above 10%.\" Georgia is among the 18 states in the \"red zone\" for cases and among the 11 states in the zone for test positivity. As some states struggled to tame the virus, the debate over wearing face coverings is heating up. Georgia Gov. Brian Kemp sued Atlanta Mayor Keisha Lance Bottoms on Thursday over her efforts to require face masks in public places.  Friday on CNN, Bottoms accused Kemp of playing politics and wasting taxpayer money with the suit. President Donald Trump this week visited, and Bottoms pointed out he was breaking city law by not wearing a mask. And in Utah, a public meeting about a mask policy was abruptly canceled when people without face coverings  packed the room. The crowd booed when it was called off. \"This is the exact opposite of what we need to be doing,\" Utah County Commissioner Tanner Ainge said at the  meeting room in Provo. \"We're supposed to be physically distancing, wearing masks. This gathering violates current health recommendations.\"  Colorado Gov. Jared Polis told CNN he used data to implement a statewide mask mandate for public indoor spaces. \"We care about our economy and saving lives and we need to learn from our cities and counties that led the way and mask-wearing economy,\" he said. Thursday, Polis announced residents must wear masks when they are in public indoor spaces and are not able to social distance. The order took effect at midnight. A top corporate lobbying group on Friday renewed calls for \"consistent federal and state guidelines on safety measures, including face coverings.\"   The Business Roundtable said it's been lobbying for those mandates since April, according to a press release. The group, chaired by Walmart CEO Doug McMillon, represents the CEOs of America's biggest companies. Several major companies, including Walmart, will require customers at all their US stores to wear masks. More tough numbers in Florida For five consecutive days, Florida has led the nation in coronavirus cases per capita. Currently, Florida is averaging just over 55 cases per 100,000 people according to analysis of Johns Hopkins University data. Florida took over the top spot from Arizona on Monday. Arizona -- which had held the top spot for over a month -- dropped to third, behind Louisiana. The main floor of Florida's Emergency Operations Center in Tallahassee has been emptied out for cleaning and is closed until Monday after 12 workers tested positive, Jason Mahon, Florida Division of Emergency Management communications director, told CNN on Friday. Miami-Dade \"hospitals have more COVID patients in ICU beds than they have available ICU beds,\" a spokesperson from Miami-Dade Mayor Carlos Gimenez told CNN in a statement.  The ICU capacity is \"above 100 percent,\" the statement says. \"Some hospitals have begun to operate more ICU beds than they would normally operate. Our target was for that metric to be at or below 70%. In other words, we wanted to have 30 percent of beds available for non-COVID purposes,\" according to the statement.  Gov. Ron DeSantis said he won't order gyms in the state to close, claiming a healthy lifestyle will put people at lower risk for developing severe cases of coronavirus.   \"If you are good shape you have a very, very low likelihood of ending up in significant condition as a result of the coronavirus,\" DeSantis said at a news conference.  DeSantis lauded the state's testing capacity, saying more than 100,000 people are tested each day. He added that the state's positivity rate has stabilized and even declined. The governor said the state's positivity rate is about 12-13%.  CNN's Rosa Flores, Brandon Miller, Melissa Alonso, Joe Sutton, Jon Passantino, Sarah Moon, Shawn Nottingham, Jennifer Henderson and Maggie Fox contributed to this report. \n",
            "Text: A pandemic upshot: Seniors are having second thoughts about where to live  (Kaiser Health News)Where do we want to live in the years ahead? Older adults are asking this question anew in light of the ongoing toll of the coronavirus pandemic — disrupted lives, social isolation, mounting deaths. Many are changing their minds. Some people who planned to move to senior housing are now choosing to live independently rather than communally. Others wonder whether transferring to a setting where they can get more assistance might be the right call. These decisions, hard enough during ordinary times, are now fraught with uncertainty as the economy falters and Covid-19 deaths climb, including tens of thousands in nursing homes and assisted living centers. Teresa Ignacio Gonzalvo and her husband, Jaime, both 68, chose to build a house rather than move into a continuing care retirement community when they relocate from Virginia Beach, Virginia, to Indianapolis later this year to be closer to their daughters. Having heard about lockdowns around the country because of the coronavirus, Gonzalvo said, \"We've realized we're not ready to lose our independence.\" Alissa Ballot, 64, is planning to leave her 750-square-foot apartment in downtown Chicago and put down roots in a multigenerational cohousing community where neighbors typically share dining and recreation areas and often help one another. \"What I've learned during this pandemic is that personal relationships matter most to me, not place,\" she said. Kim Beckman, 64, and her husband, Mike, were ready to give up being homeowners in Victoria, Texas, and join a 55-plus community or rent in an independent living apartment building in northern Texas before Covid-19 hit. Now, they're considering buying an even bigger home because \"if you're going to be in the house all the time, you might as well be comfortable,\" Beckman said.   \"Everyone I know is talking about this,\" said Wendl Kornfeld, 71, who lives on the Upper West Side of Manhattan. She has temporarily tabled the prospect of moving into a continuing care retirement community being built in the Bronx. \"My husband and I are going to play it by ear; we want to see how things play out\" with the pandemic, she said. In Kornfeld's circles, people are more committed than ever to staying in their homes or apartments as long as possible — at least at the moment. Their fear: If they move to a senior living community, they might be more likely to encounter a Covid-19 outbreak. \"All of us have heard about the huge number of deaths in senior facilities,\" Kornfeld said. But people who stay in their own homes may have trouble finding affordable help there when needed, she acknowledged. Avoiding nursing homes amid the pandemic More than 70,000 residents and staff members in nursing homes and assisted living facilities had died of Covid-19 by mid-August, according to the latest count from the Kaiser Family Foundation.  This is an undercount because less than half of states are reporting data for Covid-19 in assisted living. Nor is data reported for people living independently in senior housing. (Kaiser Health News is an editorially independent program of the Kaiser Family Foundation.) Nervousness about senior living has spread as a result, and in July, the National Investment Center for Seniors Housing & Care reported the lowest occupancy rates since the research organization started tracking data 14 years ago.  Occupancy dropped more in assisted living (a 3.2% decline from April through June, compared with January through March) than in independent living (a 2.4% decline). The organization doesn't compile data on nursing homes. In a separate NIC survey of senior housing executives in August, 74% said families had voiced concerns about moving in as Covid cases spiked in many parts of the country. Overcoming possible isolation The potential for social isolation is especially worrisome, as facilities retain restrictions on family visits and on group dining and activities. (While states have started to allow visits outside at nursing homes and assisted living centers, most facilities don't yet allow visits inside — a situation that will increase frustration when the weather turns cold.) Beth Burnham Mace, NIC's chief economist and director of outreach, emphasized that operators have responded aggressively by instituting new safety and sanitation protocols, moving programming online, helping residents procure groceries and other essential supplies, and communicating regularly about Covid-19, both on-site and in the community at large, much more regularly. Mary Kazlusky, 76, resides in independent living at Heron's Key, a continuing care retirement community in Gig Harbor, Washington, which is doing all this and more with a sister facility, Emerald Heights in Redmond, Washington. \"We all feel safe here,\" she said. \"Even though we're strongly advised not to go into each other's apartments, at least we can see each other in the hall and down in the lobby and down on the decks outside. As far as isolation, you're isolating here with over 200 people: There's somebody always around.\" One staff member at Heron's Key tested positive for Covid-19 in August but has recovered. Twenty residents and staff members tested positive at Emerald Heights. Two residents and one staff member died. Colin Milner, chief executive officer of the International Council on Active Aging, stresses that some communities are doing a better job than others. His organization recently published a report on the future of senior living in light of the pandemic. It calls on operators to institute a host of changes, including establishing safe visiting areas for families both inside and outside; providing high-speed internet services throughout communities; and ensuring adequate supplies of masks and other forms of personal protective equipment for residents and staff, among other recommendations. Some families now wish they'd arranged for older relatives to receive care in a more structured environment before the pandemic started. They're finding that older relatives living independently, especially those who are frail or have mild cognitive impairments, are having difficulty managing on their own.   \"I'm hearing from a lot of people — mostly older daughters — that we waited too long to move Mom or Dad, we had our head in the sand, can you help us find a place for them,\" said Allie Mazza, who owns Brandywine Concierge Senior Services in Kennett Square, Pennsylvania. While many operators instituted move-in moratoriums early in the pandemic, most now allow new residents as long as they test negative for Covid-19. Quarantines of up to two weeks are also required before people can circulate in the community. Many older adults, however, simply don't have the financial means to make a move. More than half of middle-income seniors — nearly 8 million older adults — can't afford independent living or assisted living communities, according to a 2019 study. And more than 7 million seniors are poor, according to the federal Supplemental Poverty Measure, which includes out-of-pocket medical expenses and other drains on cash reserves. Questions to ask For those able to consider senior housing, experts suggest you ask several questions: • How is the facility communicating with residents and families? Has it had a Covid outbreak? Is it disclosing Covid cases and deaths? Is it sharing the latest guidance from federal, state and local public health authorities? • What protocols have been instituted to ensure safety? \"I'd want to know: Do they have a plan in place for disasters — not just the pandemic but also floods, fires, hurricanes, blizzards?\" Milner said. \"And beyond a plan, do they have supplies in place?\" • How does the community engage residents? Is online programming — exercise classes, lectures, interest group meetings — available? Are one-on-one interactions with staffers possible? Are staffers arranging online interactions via FaceTime or Zoom with family? Are family visits allowed?    \"Social engagement and stimulation are more important than ever,\" said David Schless, president of the American Seniors Housing Association. • What's the company's financial status and occupancy rate? \"Properties with occupancy rates of 90% or higher are going to be able to withstand the pressures of Covid-19 significantly more than properties with occupancy below 80%, in my opinion,\" said Mace of the National Investment Center for Seniors Housing & Care. Higher occupancy means more revenues, which allows institutions to better afford extra expenses associated with the pandemic. \"Transparency is very important,\" Schless said. KHN (Kaiser Health News) is a nonprofit news service covering health issues. It is an editorially independent program of KFF (Kaiser Family Foundation) that is not affiliated with Kaiser Permanente. \n",
            "Text: Covid-19 reinfections are rare, but more common in people 65 and older, study finds  (CNN)Coronavirus reinfections are relatively rare, but it's more common for people 65 and older to get infected more than once, according to a study published Wednesday in the Lancet medical journal. A team of scientists, including some from Denmark's Department of Infectious Disease Epidemiology and Prevention, noted that most people who have had Covid-19 seemed to have protection from reinfection that remained stable for more than six months. In the follow up after six months, the study didn't find any evidence that protection was waning.  But a check of the demographics of who was getting infected again showed it was mostly people 65 and older. They looked at the reinfection rate among 4 million people during the second surge of Covid-19 from September through December 31, and compared this to the infection rate during the first surge between March and May. Of the 11,068 people who tested positive during the first surge, only 72 tested positive again during the second. The older age group had only about 47% protection against repeat infection, compared to younger people who seemed to have about 80% protection from reinfection, the team wrote. The finding is not completely unexpected, since as people age their immune systems weaken.  \"Given what is at stake, the results emphasize how important it is that people adhere to measures implemented to keep themselves and others safe, even if they have already had COVID-19,\" study co-author Dr. Steen Ethelberg of the Statens Serum Institut in Denmark said in a statement.   \"That's a very stark difference,\" said Dr. Amy Edwards, an infectious disease specialist at University Hospitals in Cleveland who was not involved in the study.  \"I think it really emphasizes how important it is to make sure that we vaccinate everybody over 60,  whether they've had Covid or not, to protect them against future infections.\" In a commentary that ran with the study, immunologists Dr. Rosemary Boyton and Daniel Altmann of  Imperial College London called the difference in reinfection rate \"relatively alarming.\"  \"Only 80% protection from reinfection in general, decreasing to 47% in people aged 65 years and older, are more concerning figures than offered by previous studies,\" they wrote.\"These data are all confirmation, if it were needed, that for SARS-CoV-2 the hope of protective immunity through natural infections might not be within our reach and a global vaccination program with high-efficacy vaccines is the enduring solution.\"  The researchers analyzed testing data from Denmark involving 10.6 million coronavirus tests taken by about 4 million people, or about 69% of the country's population.  They looked at the reinfection rates during the second surge of Covid-19 from September through December 31, and compared them to the infection rates during the first surge of infection between March and May. Of the 11,068 people who tested positive during the first surge, only 72 tested positive again during the second. That adds up to less than 1% of those who got infected. But 3.6% of people 65 and older got infected again in the second wave. This is not unexpected, due to what's known as immunosenescence -- the gradual deterioration of the immune system that comes with age. \"There's a reason why people over 60 have to get extra vaccines to boost their immunity to various infections, because we know that the immune system starts waning in later life,\" Edwards said.  One nice thing about the mRNA vaccines, like Pfizer and Moderna's, Edwards said is that the vaccines do seem to overcome some of the immunosenescence concerns because they produce such robust protection. \"We just don't know yet if people will need to get boosters or not, but it'll be interesting to watch that and see how that plays out,\" Edwards said. This study is in keeping with earlier research. Other studies have found that the reinfection rate was less than 1% and immunity could last five to six months following a Covid-19 infection. One limitation of the study is that it looked at infections before there were a lot of the variants in circulation, so it's unclear what impact that could have on the reinfection rate. That's something scientists will have to look at going forward.   \n",
            "Text: New York hit hard but other states are suffering, too  (CNN)With more than 25,000 positive tests and 210 deaths, New York has become the epicenter of coronavirus cases in the United States, but in recent days, the numbers in Louisiana, New Jersey and several other states also have been skyrocketing. Louisiana, which reported no cases until mid-March, topped the 1,000 mark and the state has seen more than 500 new cases reported since the weekend, with 1,388 cases and 46 deaths by Tuesday afternoon. Gov. John Bel Edwards requested a federal major disaster declaration. In his request to the President, Edwards said Louisiana has more cases per capita than any state, except for New York and Washington. \"We have overwhelmed our stocks of key resources needed for our hospitals, first responders and emergency managers,\" he wrote. New Jersey added more than 800 cases from Monday to Tuesday, for a total of 3,675 positive tests and 44 deaths. That makes New Jersey the second-highest state case total in the nation. Last week alone, New Jersey cases increased tenfold. The state is under a stay-at-home order. Gov. Phil Murphy said not everyone is adhering to the mandate. \"We must have 100% compliance. This is about public health and it's about people's lives. Your employees' lives, their families' lives, and your life,\" he said. Michigan's total rose from just 65 cases about week ago to 1,791 on Tuesday afternoon, including 15 deaths. Pennsylvania saw a spike of more than 200 cases overnight, bringing the total to 851 cases statewide. Of those cases, seven people have died.  Florida and Georgia -- two states where political leaders have faced criticism over their timing on enacting restrictions -- both crossed the 1,000-case mark over the weekend and continue to rise significantly each day. As of Tuesday evening, Florida recorded 1,461 cases and 17 deaths, while Georgia reported 1,097 cases and 38 fatalities.  Additionally, Indiana went from a handful of cases about a week ago to 365. California teen's cause of death is 'complex' The death of a Los Angeles County resident may be the first juvenile to have died from the novel coronavirus in the United States.  But hours after saying the person died from Covid-19, the Los Angeles County Department of Public Health issued another news release, saying there might now be an \"alternate explanation\" for the death. The department characterized the case as \"complex\" and despite early testing indicating a positive result for Covid-19, further investigation by the US Centers for Disease Control and Prevention would be required. Los Angeles Mayor Eric Garcetti told CNN the person who died was a teenager. The teen lived in Lancaster, California, according to county officials.  The news came as more than 52,000 coronavirus cases were reported in the country by Tuesday evening, with nearly half in New York. At least 701 people have died.  Coronavirus-related deaths in children remain relatively rare.  \"In the mortality data that has been provided to us, there has been no child under 15 that has succumbed to the virus in Europe,\" Dr. Deborah Birx, White House coronavirus response coordinator, said during a briefing Monday. \"There was the one 14-year-old in China. So we still see that there is less severity in children, and so that should be reassuring to the moms and dads out there.\" According to studies, two children, a 10-month-old infant and a 14-year-old boy, died in China after being infected with the novel coronavirus.  The 10-month-old who died had a preexisting condition. The child experienced multi-organ failure and died four weeks after being admitted to a hospital in Wuhan, according to research published last week in the New England Journal of Medicine.  The 14-year-old boy from Hubei province died February 7. No further details were available on his death, which was reported in a study published last week in Pediatrics that looked at 2,143 children with confirmed or suspected coronavirus. New York governor demands ventilators New York Gov. Andrew Cuomo demanded the federal government take dramatic action to send thousands of stockpiled ventilators immediately to his state first, saying the Empire State's immense coronavirus caseload threatened catastrophe in days without it. He said New York needs 30,000 more ventilators on top of the 7,000 it has. Cuomo wants all of what he called a current federal stockpile of 20,000 ventilators to brace for the coming \"apex\" in cases, which he says will arrive in as soon as 14 days. \"We need the federal help, and we need the federal help now,\" Cuomo said. \"New York is the canary in the coal mine. New York is going first -- we have the highest and fastest rate of infection.\" \"(After) we get over that curve ... I'll send ventilators, I'll send health care workers ... around the country.\" The governor said his state was trying to address two other needs: more hospital beds and more medical staff. He said the state needed 140,000 hospital beds for an anticipated patient apex in as in soon as two weeks, yet the state now has only 53,000 beds. Cuomo said he was speaking to hotel owners \"about taking over their hotels\" to place some patients. \"I will turn this state upside down to get the number of beds that we need,\" he said. About 1,000 beds are being set up in Manhattan's Javits Convention Center. Those beds generally will be for noncritical overflow patients, freeing up intensive care units in hospitals, Cuomo said. More than 40% of US live in states with stay-at-home orders Cuomo's comments come as general stay-at-home orders -- intended to slow the spread of the disease so medical professionals can better handle incoming cases -- will be in effect in at least 17 states by Wednesday.  While President Donald Trump has expressed a desire to soon transition away from social distancing to help the economy, public health experts and physicians are generally urging they stay in place longer, as cases are nearly overwhelming health care systems in New York City and other areas. \"The (distancing) we have put in place over the last eight days ... you won't see the impact of that for at least another seven or 14 days,\" said Birx, the White House coronavirus response coordinator, on NBC's \"Today\" show. \"What we're seeing in hospitals right now are people who most likely got exposed and sick more than two weeks ago,\" she said on \"Today.\" White House aides are scrambling to find a compromise option. Discussions include a phased system in which younger people -- potentially under 40, according to one option -- return to the workplace or business first, followed gradually by people slightly older until most of the country is back to normal, officials say.  Last week, the White House released guidelines urging Americans to avoid eating at bars or restaurants and skip out on gatherings with more than 10 people for the rest of March.  Health officials have said a lack of firm federal direction and residents ignoring social distancing guidelines could result in more sharp increases of cases and hospitalizations that will overwhelm the country's health system.  \"I think we're far away from (the end of social distancing), quite frankly,\" said Dr. Celine Gounder, a CNN medical analyst and infectious disease specialist at New York's Bellevue Hospital Center. 'Like going to war with a water gun' Supply shortages aren't unique to New York. Doctors have sounded the alarm on dwindling medical supplies across the country.  When it comes to personal protective equipment, Dr. Jason Halperin of Crescent Care in New Orleans told CNN staff was in \"urgent need of everything.\"  Working in a hospital without that protective equipment, a nurse in a South Texas hospital told CNN, is like \"going to war with a water gun.\" \"Everything is limited,\" the nurse said, \"PPE, ventilators, beds, negative pressure rooms, nurses, etc.\" One Seattle intensive care nurse told CNN she was told to wear a single N95 mask \"indefinitely.\" \"We're being told that we have to use these until they're soiled, and if they get to that point, we have to show them to our (supervisor).\" CNN's Christina Maxouris, Arman Azad, Jamie Gumbrecht, Jon Passantino, Julia Jones, Kay Jones, Elizabeth Joseph, Caroline Kelly, Kevin Liptak, Amanda Watts and Gina Yu contributed to this report.  \n",
            "Text: CDC abruptly removes guidance about airborne coronavirus transmission, says update 'was posted in error'  (CNN)The US Centers for Disease Control and Prevention on Monday abruptly reverted to its previous guidance about how coronavirus is transmitted, removing language about airborne transmission it had posted just days earlier. \"A draft version of proposed changes to these recommendations was posted in error to the agency's official website. CDC is currently updating its recommendations regarding airborne transmission of SARS-CoV-2 (the virus that causes COVID-19). Once this process has been completed, the update language will be posted,\" Jason McDonald, a CDC spokesman, said in a response emailed to CNN. The guidance pertained to the way the novel coronavirus is spread. While it's known it can spread through droplets among people standing less than 6 feet apart, research has continued to explore how the virus suspends in aerosolized particles in the air and transmitted to people more than 6 feet away. The CDC transmission guidance acknowledging airborne transmission had been quietly posted on Friday, according to the agency's website. CNN was first to report the change on Sunday. The CDC responded to CNN just before noon on Monday to say it was reverting to the previous guidance.   A federal official familiar with the situation said there was no political pressure involved in the change. \"This was totally the CDC's doing,\" the official said. \"It was posted by mistake. It wasn't ready to be posted.\" The official said the guideline change was published without being thoroughly reviewed by CDC experts.   \"Somebody hit the button and shouldn't have,\" the official said.  The agency tried to further clarify what it meant by aerosol transmission, the official said. \"It can occur, but it's not the way the virus is primarily being transmitted,\" the official said. But in the effort to say that, it was written in such a way \"that it's being understood to mean it's more transmissible than we thought, which is not the case.\"  The official added that the guidance is \"getting revised,\" but didn't say when the revision would be posted to the CDC's website.  How CDC's guidance changed Despite several studies that have shown the novel coronavirus can spread through small particles in the air, the CDC page now says that Covid-19 is thought to spread mainly between people in close contact -- about 6 feet -- and \"through respiratory droplets produced when an infected person coughs, sneezes or talks.\" This is the same language the agency posted months ago. In language posted Friday and now removed, CDC said Covid-19 most commonly spread between people who are in close contact with one another, and went on to say it's known to spread \"through respiratory droplets or small particles, such as those in aerosols, produced when an infected person coughs, sneezes, sings, talks or breathes.\"  These particles can cause infection when \"inhaled into the nose, mouth, airways, and lungs,\" the agency said. \"This is thought to be the main way the virus spreads.\" \"There is growing evidence that droplets and airborne particles can remain suspended in the air and be breathed in by others, and travel distances beyond 6 feet (for example, during choir practice, in restaurants, or in fitness classes),\" the page said in the Friday update, which has since been removed. \"In general, indoor environments without good ventilation increase this risk.\"  In the Friday update, the CDC had added new measures to protect yourself in others, including recommendations to use air purifiers to reduce airborne germs in indoors spaces and clear guidance to \"stay at least 6 feet away from others, whenever possible.\" The updated CDC page had also changed language around asymptomatic transmission, shifting from saying \"some people without symptoms may be able to spread the virus\" to saying \"people who are infected but do not show symptoms can spread the virus to others.\" That language has now been removed. Scientists pushed to acknowledge airborne transmission Many researchers and doctors have said for months that coronavirus can be transmitted through small airborne viral particles. In July, 239 scientists published a letter that urged the World Health Organization and other public health organizations to be more forthcoming about the likelihood that people could catch the virus from droplets that were floating in the air. Donald Milton, an author of the letter and a professor of environmental health at the University of Maryland, said he had been \"encouraged\" when he saw the revised CDC guidance over the weekend, but he said he suspected it was a work in progress since the rest of the CDC's site wasn't updated to reflect the changes.  \"I think that the science behind what turned out to be a draft statement is strong and agrees with my understanding of the data,\" Milton said. \"I'm very happy to know that CDC is working on incorporating the latest science in its public statements about transmission. Today, we know a lot about aerosols and how to control them to prevent transmission.\"  Dr. Mike Ryan, the executive director of World Health Organization Health Emergencies Programme, said that while the United States waits on final advice from the CDC, the world cannot wait to find ways to stop the spread of the disease. \"Based on the evidence, [WHO] believes there is a wide range of transmission modes,\" Ryan said. \"We believe the disease is predominately or primarily spread through droplets spread and through larger droplet nuclei.  But we have always said that smaller droplet nuclei can spread this disease -- and that is very context driven.\"   Ryan explained that people who are in a small indoor area with poor ventilation can become infected through aerosol-based transmission. It's all about knowing risk and \"managing the frequency, intensity and duration\" of time spent around others in crowded spaces, he said. \"We've got to become able to accept that there are very few absolutes in this response,\" Ryan added. \"We've got to be able to be smart, and make smart decisions, the smart decisions are made based on understanding risk, minimizing risk, and then being aware of the residual risk, and as best we can to avoid that.\"  Concerns about political pressure Some were concerned that the rapid updates from CDC might be linked to earlier reports of political pressure and interference at the agency. On Friday, CDC updated its coronavirus testing guidance to stress that anyone who has been in contact with an infected person should be tested for coronavirus. An earlier, controversial update was not written by CDC scientists and was posted online before it had undergone the normal scientific review process, two sources confirmed to CNN last week. CNN also reported last week that US Health and Human Services communications officials had recently pushed to change language of weekly science reports released by the CDC so as not to undermine President Donald Trump's political message, according a federal health official told CNN. CDC Director Dr. Robert Redfield said last week \"at no time has the scientific integrity\" of these reports been compromised. On Monday, Dr. Leana Wen, an emergency physician at George Washington University and CNN medical analyst, said she worried that the sudden changes to CDC guidance could be motivated by politics, rather than science.  \"The fact that they retracted this, even though this is common scientific knowledge at this point, one has to wonder what's behind it,\" she said. \"Was there political pressure? Political interference that's driving this rather than science?\" Science, she said, should always trump politics at the CDC. \"It's not about politics,\" Wen said. \"It's not about what looks good. It's about following the science so that we can reduce the number of infections and reduce deaths.\" Regardless, the CDC's reversal could confuse people -- and hamper mitigation efforts that could be put in place.  \"It's extremely confusing, and that type of whiplash -- especially without an explanation directly from the CDC -- creates confusion and unfortunately leads to lack of trust in the CDC overall,\" Wen said. CNN's Amanda Watts contributed to this story. \n",
            "Text: How to not hate your household in the pandemic  (CNN)Tensions in my household have skyrocketed since we've been home together going on nine months.  Tiny, mundane scenarios that would be no big deal in a pre-Covid world, like putting the milk back in a different spot in the fridge, is enough to start a spat between my wife and me. The kid asking me for the 18th time to turn on the TV grates on my every last nerve and causes me to lose my patience in a way I never would have before.  Don't get me wrong -- I am incredibly grateful to get to see so much of my precious family. I'm even more grateful for the privilege to get to work from home and limit my exposure to Covid-19. But I also feel the tug and strain of the outside world weighing on our patience, and just the reality of being in small quarters with the same people all the time.  As winter draws near and the possibility of being stuck indoors -- more than spring, summer and fall -- looms, this can only get worse. How can we prepare to stay sane and get along?  \"Covid-19 has put a strain on relationships, especially people who are in family, partner or roommate situations who aren't used to being indoors this much together,\" said Damon L. Jacobs, a New York-based licensed marriage and family therapist. \"With winter coming and Covid rates surging, I advise people to implement some social survivor tips now.\"  Too much togetherness Many of us went from feeling like we never had enough time to see our families because of long days in the office and commuting and errands and activities, to being on top of each other 24/7 and feeling like we see each other too much.  Despite how much we love each other and appreciate one another's company, it's possible that we are spending too much time with our housemates. Being in one another's company all the time has, at times, brought us to peak irritation with our cohabitants.  Jacobs' advice is let go of needing to be right and pick your battles; communicate your feelings using \"I\" statements rather than assuming you know how the other person is feeling; and take responsibility for your own feelings rather than blaming others.  Replacing \"should\" with \"could\" when thinking about how others in your household might act or react to something, Jacobs said, can help avoid setting yourself up for conflict.  Take a breather It could also be time to take a time-out. When we're not negotiating our emotions and expectations with our household members, we might work on plotting out our escapes.  \"We all need to get away from each other from time to time. To keep your sanity, reduce tensions and revive yourself, it's probably time to shore up your boundaries or put some in place in order to have some much-needed space between you and your family or roommates,\" said Susan Newman, a New York-area based social psychologist and author.  The saying \"absence makes the heart grow fonder\" isn't just a cliché. Time spent away from your loved ones can actually bring you closer, as documented in a 2016 Cornell University study.  I've found that tiny acts of separation can help, like closing my office door all the way rather than leaving it cracked open while I am working so I can't hear my family. Noise-canceling headphones with a nostalgic playlist transport me to another time and place. And if I feel like I just need a few minutes to myself after a 48-hour stretch of all family, all the time, I will excuse myself to go rearrange my clothing drawers or read the paper.  In those instances, I generally have roughly four minutes in solitude before my toddler busts in demanding my attention again, but even that short time alone helps me to regroup and find my center and my calm. \"Sometimes, the only way to get away is to leave the house. Designate a time to walk or jog and let family members know you will be gone. In bad weather, take yourself to a different part of the house if you have the room, but don't give in to requests during that time you carved out for yourself,\" Newman said. Still, even while I may find myself yearning for that solitary commute that I always dreaded or feel my blood pressure rising as my family members talk over one another while I'm trying to watch my favorite show, I still choose them every time, tension and all.  It turns out, I'm not alone. Couples who spend time together are happier, according to a 2016 University of Minnesota study that followed thousands of couples over a period of seven years. I don't know what factors winter will throw our way -- rising Covid-19 rates, political unrest. Hey, I got a tornado warning the other day -- maybe a unicorn stampede is forthcoming.  Whatever happens, I will be grateful to be facing it with my family, however much we might annoy one another, with the occasional break to tidy up my sock drawer or take out the trash. Allison Hope is a writer and native New Yorker who favors humor over sadness, travel over television, and coffee over sleep. \n",
            "Text: Local health officials doubt federal pivot on Covid-19 vaccines will help in time  (CNN)The federal government's about-face on vaccine policy may be too little, too late, local health officials told CNN Tuesday. City and county health departments are already running at a deficit, and will continue to struggle to get vaccines out to people, the National Association of County and City Health Officials said. The US Department of Health and Human Services changed course on Tuesday in its Covid-19 vaccine rollout guidelines for states, which then get passed down to local health departments. Those changes include new plans to release reserved second doses of vaccine and recommendations to vaccinate anyone 65 and older. \"The concerns outweigh the benefits here,\" NACCHO CEO Lori Tremmel Freeman told CNN. \"The money and the funding support that would allow this to happen successfully are coming after the vaccine has already been distributed -- so already our local health departments are at a deficit,\" she added.   HHS Secretary Alex Azar framed the changes, which match the approach previously announced by the incoming Biden administration, as something that had been part of the plan all along. A senior administration official told CNN on Tuesday the shift follows two Operation Warp Speed meetings Azar held over the past 48 hours on how to ramp up the lagging rollout process. Opening up vaccinations to those 65 and older could help in areas where there have been more doses than people eligible or willing to receive them -- in some cases leading to extra doses going unused, expired and being tossed away. And releasing reserved second doses could benefit areas where there has not been enough vaccine for everyone eligible and willing.  \"For a portion of our membership that has had issues with needing more dosages because the demand has been high, this will definitely be an asset to them,\" Blaire Bryant, associate legislative director for health at the National Association of Counties, told CNN on Tuesday.  Local health officials are moving to get health care workers in place for a flood of additional Covid-19 vaccine doses -- but many of those departments are understaffed and under-resourced, NACCHO'S Freeman said. \"The release of all of the second doses and removing that hold back is not necessarily seen as a solution to getting the vaccine out faster. We have existing issues still -- logistical issues -- with how to plan and staff this mass vaccination effort,\" she said. 'There's a balance that's required' On both the state and county level, the supply and demand don't always line up for the Covid-19 vaccine.  Out of the more than 25 million doses of Covid-19 vaccine that have been distributed to hospitals, health centers and pharmacies so far in the United States, only about 9 million people had received their first dose as of Tuesday morning, according to data from the US Centers for Disease Control and Prevention.     The two vaccines that have been authorized for emergency use in the United States -- Pfizer/BioNTech's and Moderna's -- are administered as two-dose shots, 21 and 28 days apart, respectively. With the Trump administration's new rollout guidelines, Freeman said, there are concerns about mixed messaging to the public about how important it is to receive a second dose of Covid-19 vaccine and when. \"What message is that going to send around the original guidance that we've been given where you have 21 to 28 days to get your second dose? What if that doesn't happen?\" Freeman said. \"There's a balance that's required between wanting to get as many people as possible immunized and making sure that we are able to successfully do the second doses of vaccine and have enough supply.\"  Another concern on the local level is tracking of who has received their first and second Covid-19 vaccine. During Tuesday's news briefing, Azar said that second doses would still be available to those who need them. 'We are still in the midst of the pandemic' At the local level, some health departments might decide not to change their plans. The city and county of Denver, for instance, has been administering Covid-19 vaccines under Colorado's Phase 1a and 1b prioritization, which means health care workers, first responders and people who are ages 70 and older are the only groups currently eligible to receive the vaccine.  To make any changes to that phased approach, such as lowering the eligibility age to 65, \"I think it would be a state-level decision,\" Dr. Judith Shlay, associate director of Denver Public Health, told CNN on Tuesday.  \"Our governor would have to make that decision. I'm not sure we'll do that at the moment, because we really have a lot to do with what we're trying to do at the moment,\" Shlay said. Some states have decided to open vaccination to more people. Idaho will be opening Covid-19 vaccinations to all residents age 65 and older starting February 1, Gov. Brad Little announced Tuesday afternoon. \"We do not want to create a bubble or backlog,\" Little said. \"Once we get a handle on capacity, we will be able to get to the 65-and-older population.\" Meanwhile in Mississippi, Gov. Tate Reeves announced that Mississippians that are 65 and older, or those with pre-existing medical conditions can make appointments for Covid-19 vaccinations.   But Shlay said the undertaking is huge. \"What we have to build is the infrastructure that can then be available consistently for months at a time. This is going to probably be nine months or a year to get this all rolled out,\" she said. The American Hospital Association said that simplifying the process and pushing out more vaccines can help speed vaccination. However, \"for this initiative to succeed at the speed in which we need it to, there needs to be a robust infrastructure in place across every state and jurisdiction capable of accommodating a high volume of people receiving both their first and second shots in a timely manner,\" Rick Pollack, AHA's president and CEO, said in a statement emailed to CNN on Tuesday. 'Our local health departments have not always been front and center' While speaking to CNN on Tuesday morning, Freeman said that she was on her way to a meeting with President-elect Joe Biden's transition team to discuss the Covid-19 vaccine rollout. She said local health departments have been left out of the federal decision-making. \"Throughout this pandemic, our local health departments have not always been front and center,\" she said.   \"It's disheartening to us that this kind of decision would be made without fully integrating the public health system response to such a decision, especially because our health departments are so under-resourced and understaffed and doing really outstanding work despite that,\" she added.  \"With every layer of complexity that comes along, the weight on the shoulders of our health departments is just becoming unbearable. They want to do a good job -- they want to protect and immunize their communities and do it efficiently, effectively -- but this doesn't necessarily help them to do that.\"  CNN's Maggie Fox, Andy Rose, Jamiel Lynch and Nick Neville contributed to this report. \n"
          ]
        }
      ]
    },
    {
      "cell_type": "markdown",
      "metadata": {
        "id": "fdumdfzoOW9t"
      },
      "source": [
        "#### **Tokenize data for GPT2**\n",
        "\n",
        "We will use the `distilgpt2` version of pre trained GPT2 model to tokenize text"
      ]
    },
    {
      "cell_type": "code",
      "metadata": {
        "colab": {
          "base_uri": "https://localhost:8080/"
        },
        "id": "v9BU2RDwOZvg",
        "outputId": "c76990da-24b8-489c-d556-b8ad55147131"
      },
      "source": [
        "# Load tokenizer\n",
        "tokenizer = GPT2Tokenizer.from_pretrained(\"distilgpt2\")\n",
        "\n",
        "# Tokenize data\n",
        "training_data_tokenized = []\n",
        "for data in training_data:\n",
        "  tokenized_text = tokenizer.encode(data)\n",
        "  training_data_tokenized.append(tokenized_text)\n",
        "\n",
        "print(len(training_data_tokenized))\n",
        "print(len(training_data_tokenized[0]),training_data_tokenized[0][:20])"
      ],
      "execution_count": null,
      "outputs": [
        {
          "output_type": "stream",
          "name": "stderr",
          "text": [
            "Token indices sequence length is longer than the specified maximum sequence length for this model (2038 > 1024). Running this sequence through the model will result in indexing errors\n"
          ]
        },
        {
          "output_type": "stream",
          "name": "stdout",
          "text": [
            "300\n",
            "933 [25606, 989, 366, 403, 3866, 12292, 13946, 1, 286, 23760, 2761, 287, 1751, 10371, 19798, 5314, 220, 357, 18474, 8]\n"
          ]
        }
      ]
    },
    {
      "cell_type": "markdown",
      "metadata": {
        "id": "gs1upcsBO8aZ"
      },
      "source": [
        "#### **Generate Training Data**\n",
        "\n",
        "For the training we need inputs and lables but we only have news article texts. In lecture we learnt that language models are trained in a semi supervised way where we generate inputs and labels from the input text. \n",
        "\n",
        "<br>\n",
        "\n",
        "To generate inputs and lables for training we will chunk the input text into blocks of size `100`. Then our labels will be the same as inputs but one position shifted to the right."
      ]
    },
    {
      "cell_type": "code",
      "metadata": {
        "colab": {
          "base_uri": "https://localhost:8080/"
        },
        "id": "FApsJd9RPEEk",
        "outputId": "b9a9f0d9-6eef-4696-c820-0605f892b85b"
      },
      "source": [
        "# Split into blocks\n",
        "training_chunks = []\n",
        "block_size = 100\n",
        "for tokenized_text in training_data_tokenized:\n",
        "  for i in range(0, len(tokenized_text) - block_size + 1, block_size):  # Truncate in block of block_size\n",
        "      training_chunks.append(tokenized_text[i:i + block_size])\n",
        "\n",
        "# Generate inputs and labels\n",
        "inputs = []\n",
        "labels = []\n",
        "for ex in training_chunks:\n",
        "    inputs.append(ex[:-1])\n",
        "    labels.append(ex[1:])\n",
        "\n",
        "print(\"inputs length:\",len(inputs))\n",
        "print(\"labels length:\",len(labels))"
      ],
      "execution_count": null,
      "outputs": [
        {
          "output_type": "stream",
          "name": "stdout",
          "text": [
            "inputs length: 3813\n",
            "labels length: 3813\n"
          ]
        }
      ]
    },
    {
      "cell_type": "code",
      "metadata": {
        "colab": {
          "base_uri": "https://localhost:8080/"
        },
        "id": "eLce4hYwcNxB",
        "outputId": "22636e23-f626-40c3-b959-8995920868d6"
      },
      "source": [
        "print(\"input:\",len(inputs[0]),inputs[0][:20])\n",
        "print(\"labels:\",len(labels[0]),labels[0][:20])"
      ],
      "execution_count": null,
      "outputs": [
        {
          "output_type": "stream",
          "name": "stdout",
          "text": [
            "input: 99 [25606, 989, 366, 403, 3866, 12292, 13946, 1, 286, 23760, 2761, 287, 1751, 10371, 19798, 5314, 220, 357, 18474, 8]\n",
            "labels: 99 [989, 366, 403, 3866, 12292, 13946, 1, 286, 23760, 2761, 287, 1751, 10371, 19798, 5314, 220, 357, 18474, 8, 25606]\n"
          ]
        }
      ]
    },
    {
      "cell_type": "code",
      "metadata": {
        "colab": {
          "base_uri": "https://localhost:8080/"
        },
        "id": "zSWaGRmAb7yu",
        "outputId": "6512e519-8ee3-4f72-b582-835745728b89"
      },
      "source": [
        "BATCH_SIZE = 12\n",
        "TRAIN_SHUFFLE_BUFFER_SIZE = len(inputs)\n",
        "\n",
        "# Create TF Dataset\n",
        "train_data = tf.data.Dataset.from_tensor_slices((inputs, labels))\n",
        "\n",
        "#############\n",
        "# Train data\n",
        "#############\n",
        "train_data = train_data.shuffle(buffer_size=TRAIN_SHUFFLE_BUFFER_SIZE)\n",
        "train_data = train_data.batch(BATCH_SIZE, drop_remainder=True)\n",
        "train_data = train_data.prefetch(buffer_size=AUTOTUNE)\n",
        "\n",
        "print(\"train_data\",train_data)"
      ],
      "execution_count": null,
      "outputs": [
        {
          "output_type": "stream",
          "name": "stdout",
          "text": [
            "train_data <PrefetchDataset element_spec=(TensorSpec(shape=(12, 99), dtype=tf.int32, name=None), TensorSpec(shape=(12, 99), dtype=tf.int32, name=None))>\n"
          ]
        }
      ]
    },
    {
      "cell_type": "markdown",
      "metadata": {
        "id": "_8j2gQjsPEQ_"
      },
      "source": [
        "#### **Train/Finetune GPT2 Pretrained Model**"
      ]
    },
    {
      "cell_type": "code",
      "metadata": {
        "colab": {
          "base_uri": "https://localhost:8080/"
        },
        "id": "-viOvb6hPR6e",
        "outputId": "634b9e17-3108-4461-a070-51316304e8bf"
      },
      "source": [
        "############################\n",
        "# Training Params\n",
        "############################\n",
        "learning_rate = 3e-5 \n",
        "epsilon=1e-08\n",
        "clipnorm=1.0\n",
        "epochs = 30\n",
        "\n",
        "# Free up memory\n",
        "K.clear_session()\n",
        "\n",
        "# Build the model\n",
        "model = TFGPT2LMHeadModel.from_pretrained(\"distilgpt2\")\n",
        "\n",
        "# Print the model architecture\n",
        "print(model.summary())\n",
        "\n",
        "# Optimizer\n",
        "optimizer = tf.keras.optimizers.Adam(learning_rate=learning_rate, epsilon=epsilon, clipnorm=clipnorm)\n",
        "# Loss\n",
        "loss = tf.keras.losses.SparseCategoricalCrossentropy(from_logits=True)\n",
        "metric = tf.keras.metrics.SparseCategoricalAccuracy('accuracy')\n",
        "\n",
        "# Compile\n",
        "model.compile(loss=[loss, *[None] * model.config.n_layer],\n",
        "                  optimizer=optimizer,\n",
        "                  metrics=[metric])\n",
        "\n",
        "# Train model\n",
        "start_time = time.time()\n",
        "training_results = model.fit(\n",
        "        train_data, # train_data.take(1000) for testing\n",
        "        epochs=epochs, \n",
        "        verbose=1)\n",
        "execution_time = (time.time() - start_time)/60.0\n",
        "print(\"Training execution time (mins)\",execution_time)"
      ],
      "execution_count": null,
      "outputs": [
        {
          "output_type": "stream",
          "name": "stderr",
          "text": [
            "All model checkpoint layers were used when initializing TFGPT2LMHeadModel.\n",
            "\n",
            "All the layers of TFGPT2LMHeadModel were initialized from the model checkpoint at distilgpt2.\n",
            "If your task is similar to the task the model of the checkpoint was trained on, you can already use TFGPT2LMHeadModel for predictions without further training.\n"
          ]
        },
        {
          "output_type": "stream",
          "name": "stdout",
          "text": [
            "Model: \"tfgpt2lm_head_model\"\n",
            "_________________________________________________________________\n",
            " Layer (type)                Output Shape              Param #   \n",
            "=================================================================\n",
            " transformer (TFGPT2MainLaye  multiple                 81912576  \n",
            " r)                                                              \n",
            "                                                                 \n",
            "=================================================================\n",
            "Total params: 81,912,576\n",
            "Trainable params: 81,912,576\n",
            "Non-trainable params: 0\n",
            "_________________________________________________________________\n",
            "None\n",
            "Epoch 1/30\n",
            "317/317 [==============================] - 37s 96ms/step - loss: 3.5738 - logits_loss: 3.5738 - logits_accuracy: 0.3348 - past_key_values_1_accuracy: 0.0015 - past_key_values_2_accuracy: 0.0013 - past_key_values_3_accuracy: 0.0026 - past_key_values_4_accuracy: 0.0016 - past_key_values_5_accuracy: 0.0012 - past_key_values_6_accuracy: 0.0012\n",
            "Epoch 2/30\n",
            "317/317 [==============================] - 30s 96ms/step - loss: 3.3540 - logits_loss: 3.3540 - logits_accuracy: 0.3551 - past_key_values_1_accuracy: 0.0014 - past_key_values_2_accuracy: 0.0013 - past_key_values_3_accuracy: 0.0025 - past_key_values_4_accuracy: 0.0016 - past_key_values_5_accuracy: 0.0012 - past_key_values_6_accuracy: 0.0012\n",
            "Epoch 3/30\n",
            "317/317 [==============================] - 30s 96ms/step - loss: 3.2456 - logits_loss: 3.2456 - logits_accuracy: 0.3663 - past_key_values_1_accuracy: 0.0014 - past_key_values_2_accuracy: 0.0013 - past_key_values_3_accuracy: 0.0024 - past_key_values_4_accuracy: 0.0016 - past_key_values_5_accuracy: 0.0012 - past_key_values_6_accuracy: 0.0013\n",
            "Epoch 4/30\n",
            "317/317 [==============================] - 30s 96ms/step - loss: 3.1613 - logits_loss: 3.1613 - logits_accuracy: 0.3761 - past_key_values_1_accuracy: 0.0015 - past_key_values_2_accuracy: 0.0012 - past_key_values_3_accuracy: 0.0025 - past_key_values_4_accuracy: 0.0015 - past_key_values_5_accuracy: 0.0012 - past_key_values_6_accuracy: 0.0013\n",
            "Epoch 5/30\n",
            "317/317 [==============================] - 30s 96ms/step - loss: 3.0842 - logits_loss: 3.0842 - logits_accuracy: 0.3848 - past_key_values_1_accuracy: 0.0015 - past_key_values_2_accuracy: 0.0013 - past_key_values_3_accuracy: 0.0026 - past_key_values_4_accuracy: 0.0016 - past_key_values_5_accuracy: 0.0012 - past_key_values_6_accuracy: 0.0012\n",
            "Epoch 6/30\n",
            "317/317 [==============================] - 30s 96ms/step - loss: 3.0137 - logits_loss: 3.0137 - logits_accuracy: 0.3925 - past_key_values_1_accuracy: 0.0015 - past_key_values_2_accuracy: 0.0013 - past_key_values_3_accuracy: 0.0026 - past_key_values_4_accuracy: 0.0015 - past_key_values_5_accuracy: 0.0012 - past_key_values_6_accuracy: 0.0013\n",
            "Epoch 7/30\n",
            "317/317 [==============================] - 31s 96ms/step - loss: 2.9479 - logits_loss: 2.9479 - logits_accuracy: 0.4006 - past_key_values_1_accuracy: 0.0015 - past_key_values_2_accuracy: 0.0014 - past_key_values_3_accuracy: 0.0025 - past_key_values_4_accuracy: 0.0015 - past_key_values_5_accuracy: 0.0012 - past_key_values_6_accuracy: 0.0013\n",
            "Epoch 8/30\n",
            "317/317 [==============================] - 30s 96ms/step - loss: 2.8871 - logits_loss: 2.8871 - logits_accuracy: 0.4082 - past_key_values_1_accuracy: 0.0015 - past_key_values_2_accuracy: 0.0013 - past_key_values_3_accuracy: 0.0025 - past_key_values_4_accuracy: 0.0015 - past_key_values_5_accuracy: 0.0012 - past_key_values_6_accuracy: 0.0012\n",
            "Epoch 9/30\n",
            "317/317 [==============================] - 30s 96ms/step - loss: 2.8274 - logits_loss: 2.8274 - logits_accuracy: 0.4157 - past_key_values_1_accuracy: 0.0015 - past_key_values_2_accuracy: 0.0013 - past_key_values_3_accuracy: 0.0025 - past_key_values_4_accuracy: 0.0015 - past_key_values_5_accuracy: 0.0012 - past_key_values_6_accuracy: 0.0012\n",
            "Epoch 10/30\n",
            "317/317 [==============================] - 31s 97ms/step - loss: 2.7666 - logits_loss: 2.7666 - logits_accuracy: 0.4236 - past_key_values_1_accuracy: 0.0015 - past_key_values_2_accuracy: 0.0013 - past_key_values_3_accuracy: 0.0025 - past_key_values_4_accuracy: 0.0014 - past_key_values_5_accuracy: 0.0012 - past_key_values_6_accuracy: 0.0012\n",
            "Epoch 11/30\n",
            "317/317 [==============================] - 31s 97ms/step - loss: 2.7100 - logits_loss: 2.7100 - logits_accuracy: 0.4307 - past_key_values_1_accuracy: 0.0015 - past_key_values_2_accuracy: 0.0013 - past_key_values_3_accuracy: 0.0025 - past_key_values_4_accuracy: 0.0014 - past_key_values_5_accuracy: 0.0012 - past_key_values_6_accuracy: 0.0012\n",
            "Epoch 12/30\n",
            "317/317 [==============================] - 31s 98ms/step - loss: 2.6549 - logits_loss: 2.6549 - logits_accuracy: 0.4378 - past_key_values_1_accuracy: 0.0015 - past_key_values_2_accuracy: 0.0014 - past_key_values_3_accuracy: 0.0026 - past_key_values_4_accuracy: 0.0015 - past_key_values_5_accuracy: 0.0012 - past_key_values_6_accuracy: 0.0012\n",
            "Epoch 13/30\n",
            "317/317 [==============================] - 31s 98ms/step - loss: 2.5999 - logits_loss: 2.5999 - logits_accuracy: 0.4452 - past_key_values_1_accuracy: 0.0014 - past_key_values_2_accuracy: 0.0013 - past_key_values_3_accuracy: 0.0026 - past_key_values_4_accuracy: 0.0014 - past_key_values_5_accuracy: 0.0012 - past_key_values_6_accuracy: 0.0012\n",
            "Epoch 14/30\n",
            "317/317 [==============================] - 31s 98ms/step - loss: 2.5492 - logits_loss: 2.5492 - logits_accuracy: 0.4521 - past_key_values_1_accuracy: 0.0015 - past_key_values_2_accuracy: 0.0013 - past_key_values_3_accuracy: 0.0026 - past_key_values_4_accuracy: 0.0014 - past_key_values_5_accuracy: 0.0012 - past_key_values_6_accuracy: 0.0012\n",
            "Epoch 15/30\n",
            "317/317 [==============================] - 31s 98ms/step - loss: 2.4982 - logits_loss: 2.4982 - logits_accuracy: 0.4587 - past_key_values_1_accuracy: 0.0014 - past_key_values_2_accuracy: 0.0014 - past_key_values_3_accuracy: 0.0026 - past_key_values_4_accuracy: 0.0014 - past_key_values_5_accuracy: 0.0012 - past_key_values_6_accuracy: 0.0012\n",
            "Epoch 16/30\n",
            "317/317 [==============================] - 31s 98ms/step - loss: 2.4474 - logits_loss: 2.4474 - logits_accuracy: 0.4669 - past_key_values_1_accuracy: 0.0015 - past_key_values_2_accuracy: 0.0014 - past_key_values_3_accuracy: 0.0025 - past_key_values_4_accuracy: 0.0014 - past_key_values_5_accuracy: 0.0012 - past_key_values_6_accuracy: 0.0012\n",
            "Epoch 17/30\n",
            "317/317 [==============================] - 31s 98ms/step - loss: 2.3987 - logits_loss: 2.3987 - logits_accuracy: 0.4733 - past_key_values_1_accuracy: 0.0015 - past_key_values_2_accuracy: 0.0014 - past_key_values_3_accuracy: 0.0026 - past_key_values_4_accuracy: 0.0014 - past_key_values_5_accuracy: 0.0012 - past_key_values_6_accuracy: 0.0012\n",
            "Epoch 18/30\n",
            "317/317 [==============================] - 31s 98ms/step - loss: 2.3487 - logits_loss: 2.3487 - logits_accuracy: 0.4807 - past_key_values_1_accuracy: 0.0015 - past_key_values_2_accuracy: 0.0014 - past_key_values_3_accuracy: 0.0025 - past_key_values_4_accuracy: 0.0014 - past_key_values_5_accuracy: 0.0012 - past_key_values_6_accuracy: 0.0012\n",
            "Epoch 19/30\n",
            "317/317 [==============================] - 31s 99ms/step - loss: 2.2989 - logits_loss: 2.2989 - logits_accuracy: 0.4877 - past_key_values_1_accuracy: 0.0015 - past_key_values_2_accuracy: 0.0014 - past_key_values_3_accuracy: 0.0025 - past_key_values_4_accuracy: 0.0014 - past_key_values_5_accuracy: 0.0012 - past_key_values_6_accuracy: 0.0012\n",
            "Epoch 20/30\n",
            "317/317 [==============================] - 31s 98ms/step - loss: 2.2534 - logits_loss: 2.2534 - logits_accuracy: 0.4944 - past_key_values_1_accuracy: 0.0015 - past_key_values_2_accuracy: 0.0014 - past_key_values_3_accuracy: 0.0025 - past_key_values_4_accuracy: 0.0014 - past_key_values_5_accuracy: 0.0012 - past_key_values_6_accuracy: 0.0012\n",
            "Epoch 21/30\n",
            "317/317 [==============================] - 31s 98ms/step - loss: 2.2057 - logits_loss: 2.2057 - logits_accuracy: 0.5022 - past_key_values_1_accuracy: 0.0015 - past_key_values_2_accuracy: 0.0015 - past_key_values_3_accuracy: 0.0025 - past_key_values_4_accuracy: 0.0014 - past_key_values_5_accuracy: 0.0012 - past_key_values_6_accuracy: 0.0012\n",
            "Epoch 22/30\n",
            "317/317 [==============================] - 31s 98ms/step - loss: 2.1587 - logits_loss: 2.1587 - logits_accuracy: 0.5097 - past_key_values_1_accuracy: 0.0015 - past_key_values_2_accuracy: 0.0014 - past_key_values_3_accuracy: 0.0025 - past_key_values_4_accuracy: 0.0014 - past_key_values_5_accuracy: 0.0012 - past_key_values_6_accuracy: 0.0012\n",
            "Epoch 23/30\n",
            "317/317 [==============================] - 31s 99ms/step - loss: 2.1142 - logits_loss: 2.1142 - logits_accuracy: 0.5164 - past_key_values_1_accuracy: 0.0015 - past_key_values_2_accuracy: 0.0014 - past_key_values_3_accuracy: 0.0026 - past_key_values_4_accuracy: 0.0014 - past_key_values_5_accuracy: 0.0012 - past_key_values_6_accuracy: 0.0012\n",
            "Epoch 24/30\n",
            "317/317 [==============================] - 31s 98ms/step - loss: 2.0699 - logits_loss: 2.0699 - logits_accuracy: 0.5237 - past_key_values_1_accuracy: 0.0015 - past_key_values_2_accuracy: 0.0014 - past_key_values_3_accuracy: 0.0025 - past_key_values_4_accuracy: 0.0014 - past_key_values_5_accuracy: 0.0012 - past_key_values_6_accuracy: 0.0012\n",
            "Epoch 25/30\n",
            "317/317 [==============================] - 31s 98ms/step - loss: 2.0257 - logits_loss: 2.0257 - logits_accuracy: 0.5310 - past_key_values_1_accuracy: 0.0015 - past_key_values_2_accuracy: 0.0014 - past_key_values_3_accuracy: 0.0025 - past_key_values_4_accuracy: 0.0014 - past_key_values_5_accuracy: 0.0012 - past_key_values_6_accuracy: 0.0013\n",
            "Epoch 26/30\n",
            "317/317 [==============================] - 31s 99ms/step - loss: 1.9812 - logits_loss: 1.9812 - logits_accuracy: 0.5382 - past_key_values_1_accuracy: 0.0015 - past_key_values_2_accuracy: 0.0015 - past_key_values_3_accuracy: 0.0026 - past_key_values_4_accuracy: 0.0014 - past_key_values_5_accuracy: 0.0012 - past_key_values_6_accuracy: 0.0012\n",
            "Epoch 27/30\n",
            "317/317 [==============================] - 31s 99ms/step - loss: 1.9402 - logits_loss: 1.9402 - logits_accuracy: 0.5454 - past_key_values_1_accuracy: 0.0015 - past_key_values_2_accuracy: 0.0015 - past_key_values_3_accuracy: 0.0026 - past_key_values_4_accuracy: 0.0014 - past_key_values_5_accuracy: 0.0012 - past_key_values_6_accuracy: 0.0012\n",
            "Epoch 28/30\n",
            "317/317 [==============================] - 31s 98ms/step - loss: 1.9000 - logits_loss: 1.9000 - logits_accuracy: 0.5519 - past_key_values_1_accuracy: 0.0015 - past_key_values_2_accuracy: 0.0015 - past_key_values_3_accuracy: 0.0026 - past_key_values_4_accuracy: 0.0014 - past_key_values_5_accuracy: 0.0012 - past_key_values_6_accuracy: 0.0012\n",
            "Epoch 29/30\n",
            "317/317 [==============================] - 31s 98ms/step - loss: 1.8571 - logits_loss: 1.8571 - logits_accuracy: 0.5598 - past_key_values_1_accuracy: 0.0015 - past_key_values_2_accuracy: 0.0014 - past_key_values_3_accuracy: 0.0025 - past_key_values_4_accuracy: 0.0014 - past_key_values_5_accuracy: 0.0012 - past_key_values_6_accuracy: 0.0013\n",
            "Epoch 30/30\n",
            "317/317 [==============================] - 31s 98ms/step - loss: 1.8174 - logits_loss: 1.8174 - logits_accuracy: 0.5663 - past_key_values_1_accuracy: 0.0015 - past_key_values_2_accuracy: 0.0015 - past_key_values_3_accuracy: 0.0026 - past_key_values_4_accuracy: 0.0013 - past_key_values_5_accuracy: 0.0012 - past_key_values_6_accuracy: 0.0013\n",
            "Training execution time (mins) 18.09505700270335\n"
          ]
        }
      ]
    },
    {
      "cell_type": "markdown",
      "metadata": {
        "id": "wfgtfb5SPc9h"
      },
      "source": [
        "#### **Generate Text**"
      ]
    },
    {
      "cell_type": "code",
      "metadata": {
        "colab": {
          "base_uri": "https://localhost:8080/",
          "height": 124
        },
        "id": "-fcKZUlenHCE",
        "outputId": "98618db3-b57f-4607-9a51-ed7f7ac914ed"
      },
      "source": [
        "# Input text\n",
        "input_text = \"how is covid affecting\"\n",
        "\n",
        "# Tokenize Input\n",
        "input_ids = tokenizer.encode(input_text, return_tensors='tf')\n",
        "print(\"input_ids\",input_ids)\n",
        "\n",
        "# Generate outout\n",
        "outputs = model.generate(\n",
        "    input_ids, \n",
        "    do_sample=True, \n",
        "    max_length=75, \n",
        "    top_p=0.80, \n",
        "    top_k=0\n",
        ")\n",
        "\n",
        "print(\"Generated text:\")\n",
        "display(tokenizer.decode(outputs[0], skip_special_tokens=True))"
      ],
      "execution_count": null,
      "outputs": [
        {
          "output_type": "stream",
          "name": "stderr",
          "text": [
            "Setting `pad_token_id` to 50256 (first `eos_token_id`) to generate sequence\n"
          ]
        },
        {
          "output_type": "stream",
          "name": "stdout",
          "text": [
            "input_ids tf.Tensor([[ 4919   318 39849   312 13891]], shape=(1, 5), dtype=int32)\n",
            "Generated text:\n"
          ]
        },
        {
          "output_type": "display_data",
          "data": {
            "text/plain": [
              "'how is covid affecting pregnant women and their babies? Some studies have found that mothers of children have higher rates of Covid-19 complications, whereas mothers of fathers have lower rates. \"I\\'m very concerned about this effect,\" said pediatrician Dr. Meredith Li-Vollmer, a pediatric infectious disease specialist at NewYork-Presbyterian/Weill Cornell Medical'"
            ],
            "application/vnd.google.colaboratory.intrinsic+json": {
              "type": "string"
            }
          },
          "metadata": {}
        }
      ]
    },
    {
      "cell_type": "code",
      "metadata": {
        "colab": {
          "base_uri": "https://localhost:8080/",
          "height": 107
        },
        "id": "01iqgzuwoq3X",
        "outputId": "c38ed01d-5624-4ac3-b609-71e133164932"
      },
      "source": [
        "# Input text\n",
        "input_text = \"the global pandemic\"\n",
        "\n",
        "# Tokenize Input\n",
        "input_ids = tokenizer.encode(input_text, return_tensors='tf')\n",
        "\n",
        "# Generate outout\n",
        "outputs = model.generate(\n",
        "    input_ids, \n",
        "    do_sample=True, \n",
        "    max_length=75, \n",
        "    top_p=0.80, \n",
        "    top_k=0\n",
        ")\n",
        "\n",
        "print(\"Generated text:\")\n",
        "display(tokenizer.decode(outputs[0], skip_special_tokens=True))"
      ],
      "execution_count": null,
      "outputs": [
        {
          "output_type": "stream",
          "name": "stderr",
          "text": [
            "Setting `pad_token_id` to 50256 (first `eos_token_id`) to generate sequence\n"
          ]
        },
        {
          "output_type": "stream",
          "name": "stdout",
          "text": [
            "Generated text:\n"
          ]
        },
        {
          "output_type": "display_data",
          "data": {
            "text/plain": [
              "'the global pandemic, with deaths growing faster than the US,\" de Havenon said. He estimated that the death rate had risen to over 20,000 during the first three months of the pandemic.   New York has had 4,323 Covid-19 deaths over the past three months, the state\\'s Department of Health estimates. The city, which has the'"
            ],
            "application/vnd.google.colaboratory.intrinsic+json": {
              "type": "string"
            }
          },
          "metadata": {}
        }
      ]
    },
    {
      "cell_type": "code",
      "source": [
        ""
      ],
      "metadata": {
        "id": "3r_dbJ3UHqNS"
      },
      "execution_count": null,
      "outputs": []
    }
  ]
}